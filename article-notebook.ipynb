{
 "cells": [
  {
   "cell_type": "markdown",
   "metadata": {
    "tags": [
     "title"
    ]
   },
   "source": [
    "# Fifty Years of Technocracy. International Migration Management as an Evolving Discourse Coalition."
   ]
  },
  {
   "cell_type": "markdown",
   "metadata": {
    "tags": [
     "contributor"
    ]
   },
   "source": [
    "### Marijke van Faassen [![orcid](https://orcid.org/sites/default/files/images/orcid_16x16.png)](https://orcid.org/0000-0001-8618-6800) \n",
    "\n",
    "Huygens ING"
   ]
  },
  {
   "cell_type": "markdown",
   "metadata": {
    "tags": [
     "contributor"
    ]
   },
   "source": [
    "### Rik Hoekstra [![orcid](https://orcid.org/sites/default/files/images/orcid_16x16.png)](https://orcid.org/0000-0002-6951-8014) \n",
    "\n",
    "Huygens ING"
   ]
  },
  {
   "cell_type": "markdown",
   "metadata": {
    "tags": [
     "contributor"
    ]
   },
   "source": [
    "### Marijn Koolen [![orcid](https://orcid.org/sites/default/files/images/orcid_16x16.png)](https://orcid.org/0000-0002-0301-2029) \n",
    "\n",
    "\n",
    "Huygens ING"
   ]
  },
  {
   "cell_type": "markdown",
   "metadata": {
    "tags": [
     "copyright"
    ]
   },
   "source": [
    "[![cc-by](https://licensebuttons.net/l/by/4.0/88x31.png)](https://creativecommons.org/licenses/by/4.0/) \n",
    "©<AUTHOR or ORGANIZATION / FUNDER>. Published by De Gruyter in cooperation with the University of Luxembourg Centre for Contemporary and Digital History. This is an Open Access article distributed under the terms of the [Creative Commons Attribution License CC-BY](https://creativecommons.org/licenses/by/4.0/)\n"
   ]
  },
  {
   "cell_type": "markdown",
   "metadata": {
    "tags": [
     "copyright"
    ]
   },
   "source": [
    "[![cc-by-nc-nd](https://licensebuttons.net/l/by-nc-nd/4.0/88x31.png)](https://creativecommons.org/licenses/by-nc-nd/4.0/) \n",
    "©<AUTHOR or ORGANIZATION / FUNDER>. Published by De Gruyter in cooperation with the University of Luxembourg Centre for Contemporary and Digital History. This is an Open Access article distributed under the terms of the [Creative Commons Attribution License CC-BY-NC-ND](https://creativecommons.org/licenses/by-nc-nd/4.0/)\n"
   ]
  },
  {
   "cell_type": "markdown",
   "metadata": {
    "tags": [
     "keywords"
    ]
   },
   "source": [
    "migration management, technocracy, discourse analysis"
   ]
  },
  {
   "cell_type": "markdown",
   "metadata": {
    "tags": [
     "abstract"
    ]
   },
   "source": [
    "Migration studies not only includes the actual movement of migrants, but increasingly as well the way governments and international organisations deal with migration and its national and international challenges. Over the past 30 years the scholarly debate on international migration has been characterised by a focus on globalisation and a paradigm shift to the study of migration management. The key actors in migration management are not only the nation states but also the international meetings, the Non Governmental Organisations (NGOs) or organisations consisting of trained experts. The heavy involvement of the experts in migration management gives it a technocratic character, that has become the subject of current discourses around the legitimacy of governance and especially its eventual democratic shortcomings. We argue that this technocracy has deep roots and a long history, and that it stems from an informal association of (migrant) administrators and scholars that formed a discourse coalition in the 1950s. In this essay we analyse its evolution and the relation with technocracy over a period of fifty years, combining digital analysis of networks and title content with analog archival sources for the political context."
   ]
  },
  {
   "cell_type": "markdown",
   "metadata": {
    "tags": [
     "narrative"
    ]
   },
   "source": [
    "## Introduction"
   ]
  },
  {
   "cell_type": "markdown",
   "metadata": {
    "tags": [
     "narrative"
    ]
   },
   "source": [
    "Migration is a vast subject, the study of which includes not only the actual movement of migrants, but increasingly as well the way governments and international organisations deal with migration and its national and international challenges. Over the past 30 years the scholarly debate on international migration has been characterised by a focus on globalisation and a paradigm shift to the study of migration management. The key actors in migration management are not only the nation states but also the international meetings, the Non Governmental Organisations (NGOs) or  organisations consisting of trained experts. The heavy involvement of the experts in migration management gives it a technocratic character, that has become the subject of current discourses around the legitimacy of governance and especially its eventual democratic shortcomings. We argue that this technocracy has deep roots and a long history, and that it stems from an informal association of (migrant) administrators and scholars that formed in the 1950s. Such an association can be conceptualised as a discourse coalition."
   ]
  },
  {
   "cell_type": "markdown",
   "metadata": {
    "tags": [
     "hermeneutics"
    ]
   },
   "source": [
    "Sources differ in their spelling of the name Günther Beijer, using either Beijer or Beyer. We use Beijer throughout the article and the underlying data. \n",
    "\n",
    "In this article we refer to the personal archival collection of Günter Beijer (IISG Amsterdam) as (Beijer archive, inv.nr. 33) (<cite data-cite=\"3655479/B8X95E7G\"></cite>).\n",
    "\n",
    "A more detailed description of our research process is available in our github repository for this article. It contains additional notebooks that detail all steps, including gathering and preparing the datasets and modelling decision that shape the lense through which we interpret the materials. The repository is available here: https://github.com/HoekR/migrant_discourse"
   ]
  },
  {
   "cell_type": "markdown",
   "metadata": {
    "tags": [
     "narrative"
    ]
   },
   "source": [
    "In this essay we want to analyse the evolution of the discourse coalition about migration management since the 1950s and the relation with development of international technocracy over a period of fifty years. These are complicated issues that require operationalizing the main research questions into smaller research questions and study them using both archival material and datasets. We propose to employ a combination of analog and digital historical methods for our study. Before we elaborate our main research questions, we need to take a closer look at the main organisation we are concerned with: IOM, the International Organisation of Migration to get a better understanding of the problem we are dealing with."
   ]
  },
  {
   "cell_type": "markdown",
   "metadata": {
    "tags": [
     "narrative"
    ]
   },
   "source": [
    "IOM is currently one of the main actors in migration management internationally. Since the 1951 establishment of the Provisional Intergovernmental Committee for the Migration from Europe (PICMME), that over time changed its name to ICEM and still later to IOM, scholars have struggled to conceptualise the nature and the political influence of IOM. The main issue with IOM is that it has an indeterminate status as an international cooperative organisation for the management of migration and that for decades it was not acknowledged as a permanent body. IOM’s United Nations position only dates from 2016. The alleged temporary character left its mandate undecided and made its operations executive par excellence. This technocratic executive mentality pretends to be beyond politics, but this is problematic as cooperation implies balancing interests and striking compromises and requires political agency. The indeterminate organisational status left unclear who determined its political course, even if it is clear that there was mutual influence and movement of staff between national administrations and IOM and that it was financially supported by states, but without the mechanisms of democracy. IOM’s own statements about its mission do not do much to clarify this. According to its own website, \"IOM works to help ensure the orderly and humane management of migration to promote international cooperation on migration issues, to assist in the search for practical solutions to migration problems and to provide humanitarian assistance to migrants in need, including refugees and internally displaced people.\" [https://www.iom.int/who-we-are] \"'The Migration Agency' IOM has become the point of reference in the heated global debate on the social, economic and political implications of migration in the 21st century.\"([https://www.iom.int/iom-history]). However, IOM is not a recent phenomenon. Once again citing its own statements \"Established in 1951, IOM is the leading intergovernmental organisation in the field of migration and works closely with governmental, intergovernmental and non-governmental partners. [https://www.iom.int/who-we-are].\"A succession of name changes from PICMME to the Intergovernmental Committee for European Migration (ICEM) in 1952, to the Intergovernmental Committee for Migration (ICM) in 1980 to the International Organization for Migration (IOM) in 1989, reflects the organisation's transition over half a century from logistics agency to migration agency.”[https://www.iom.int/iom-history]. These statements are rather ambivalent as they alternate between the orderly management and international cooperation on the one hand and providing humanitarian assistance on the other. This is reflected in its practice. IOM is one of the bigger players in the field of regulating global migration, but its role is disputed. Currently, in particular IOM’s ‘voluntary’ return programs and IOM’s participation in Australia’s refugee policy in the Pacific are subject to criticism (<cite data-cite=\"3655479/42V6U65E\"></cite>, <cite data-cite=\"3655479/YNB8MWYT\"></cite>). \n",
    "\n"
   ]
  },
  {
   "cell_type": "markdown",
   "metadata": {
    "tags": [
     "narrative"
    ]
   },
   "source": [
    "IOM may have changed a lot over the years, as the world in which it operated changed profoundly, but there has also been much continuity. We argue that IOM can only be properly understood  by studying its history as a technocratic organisation.  In 2018, the critical IOM-experts Martin Geiger and Martin Koch made the observation that IOM strategically positions itself, time and again, by actively disseminating a self representation (via its website), that does not only partly coincide with its behind-the-scenes character or daily practices (<cite data-cite=\"3655479/3CFRXHVE\"></cite>). This self representation is difficult to deconstruct, because IOM hardly allows researchers to use their policy archive for critical research (<cite data-cite=\"3655479/DYYKG32V\"></cite>, <cite data-cite=\"3655479/E7QYM9B8\"></cite>, <cite data-cite=\"3655479/MKBTDHSV\"></cite>, <cite data-cite=\"3655479/VZKJYC9X\"></cite>). Of course this can partially be remediated by using the archives of the member-states. "
   ]
  },
  {
   "cell_type": "markdown",
   "metadata": {
    "tags": [
     "narrative"
    ]
   },
   "source": [
    "Geiger and Koch (<cite data-cite=\"3655479/3CFRXHVE\"></cite>) (2018) propose to conceptualise the ‘intergovernmental’ IOM as a ‘world organisation’ because the IOM has relations with both state and non-state actors, such as NGOs or civil society. They argue that this makes it possible to analyse which actors participate in the decision-making process, how they participate, and with what authority. They start to describe IOM’s history from the start in 1951 but then jump to the 1980s, and their analysis of the early years and especially the 1960s remains fragmentary, leaving ICEM/IOMs technocratic character (<cite data-cite=\"3655479/3CFRXHVE\"></cite>, p.39) unexplained. We seek to remedy this by shedding more light on ICEM/IOMs historical roots and early development. In historiography this is understudied and especially ICEM’s relation with an earlier expert group called REMP, the Research Group for European Migration Problems. The character of the organisation can be understood better by historicising migration management and unravelling the technocratic connections between experts in REMP and the administrators and policy makers of ICEM/IOM. For our analysis, we use the concepts of ‘world organisation’ used by Geiger & Koch <cite data-cite=\"3655479/3CFRXHVE\"></cite> (2018) and by operationalizing the concept of discourse coalitions, that we define as constellations between (academic) experts and actors in the political system who share ideas and interact, thus strengthening each other's arguments. For our analysis we use a mixture of analog sources for positioning the political and organisational context and for identifying the political and management themes, and we use digital methods to lay bare networks of technocrats and national governments that interactively shaped the spreading of the influences and themes that shaped migration management."
   ]
  },
  {
   "cell_type": "markdown",
   "metadata": {
    "tags": [
     "narrative"
    ]
   },
   "source": [
    "The essay is an exercise in a new way of presenting results, that may need some guidance for our readers. As a digital history essay, it is a composition of parts of a more digital nature and a more ’analog’ historical nature. We find it very fortunate that we are able to combine these equally, as we have tried to integrate them in our argument. Writing this article for a three-layered online Journal on Digital History gave us an excellent opportunity to use and test the data scopes concept we developed in previous research (<cite data-cite=\"3655479/ABRHNR4T\"></cite>) and to work together from different areas of historical and digital expertise that also bring their own perspectives to research. The idea of the data scopes concept is to facilitate doing and communicating about digital research and its sources by describing the iterative steps that have to be taken to study them, by accounting for the decisions taken and making replication possible on the one hand, and combining sources of different origin and nature to contextualise each other and to consolidate the analysis (<cite data-cite=\"3655479/UPFAYATG\"></cite>, ch. 1). We believe this is the best way to advance historiography, because the analog and the digital sides are weaker/incomplete without each other and deserve equal weight. The reason for combining analog and digital sources and methods is that the analog, qualitative methods are necessary for providing context and the conceptual interpretation, while the digital methods allow for digesting larger datasets and also force us to be concrete and precise in the operationalisation of the concepts and in this way anchor the argument more in the data. In this way, the digital analysis of the datasets makes it possible to show the dynamic of the discourse network."
   ]
  },
  {
   "cell_type": "markdown",
   "metadata": {
    "tags": [
     "narrative"
    ]
   },
   "source": [
    "Our analysis is somewhat complex as we combine sources and datasets of a different nature with a staged and stepwise approach that addresses different smaller research questions. \n",
    "- Below, we start with a section that gives a more detailed introduction of both ICEM/IOM and the concepts of world organisation and discourse coalition that we use for our analysis, in which we argue that the world organisation concept gets more historical accuracy if we make it more dynamic with the discourse coalition idea. The section about REMP gives the mainly Dutch historical background of the technocracy and the political ideas that led to the formation of the discourse coalition in the 1950s, something that historiography has paid very little attention to. \n",
    "- Then we proceed to the digital analysis of the network of REMP and subsequently ICEM. In diagram 1 below we have outlined the different sets of actors and sources, and we explain how we use them in the section ‘The REMP network’. We then analyse the emergence of the discourse network under REMP and its subsequent continuation and evolution in the ICEM and its successors. The digital analysis is based on a combination of different data sources that allow us to analyse different aspects of the network and its dynamics, both of the evolution of the discursive network and of the temporal changes in the content of the discourse. Researching the discourse coalition consists of two parts:\n",
    "    - First, we identify the networks that together can be considered to form a discourse coalition involving both researchers and administrators. We analyse the dynamics of the network of actors and  the technocratic nature of the coalition, with the research questions how REMP functioned as a nexus between public officials and social scientists in the 1950s and whether the nexus of REMP science-officials was carried over and elaborated in ICEM in the 1960s and beyond. Finally we study at what time did the connection cease or transform and was there a relation with the change of IC(E)M into IOM?\n",
    "    - Second, we are interested in the content discursive network and its temporal changes. The digital analysis is based on a combination of different data sources that allow us to analyse different aspects of the network and its dynamics. We use an analog source, more specifically the anonymous editorials in the ICEM journal, to relate our digital analysis to the changing topics of discussion as they were expressed in the policies of the network itself and elaborate this with a digital analysis of the journals and other research that were published by both ICEM and REMP. We will compare them with contemporary research about migration from a journal that was not associated with either REMP or ICEM to research the influence of the REMP/ICEM discourse coalition on the scientific discourse.\n",
    "- Finally we evaluate the robustness of the data scopes concept for the interdisciplinary collaboration and communication between domain and digital information experts and for combining different datasets to an enriched resource for research with a specific scope.\n"
   ]
  },
  {
   "cell_type": "markdown",
   "metadata": {
    "tags": [
     "narrative"
    ]
   },
   "source": [
    "## Conceptual challenges and ICEMs historical roots"
   ]
  },
  {
   "cell_type": "markdown",
   "metadata": {
    "tags": [
     "narrative"
    ]
   },
   "source": [
    "ICEM was an organisation that in the first decades of its existence focused especially on stimulating migration of labour surpluses from Europe, according to its own conceptualisation. It had highly political aims that were born from a combination of the post war ‘one world’ ideology and Cold War reality, although it framed itself as a purely technical post-war refugee transport organisation, as successor of the temporary UN International Refugee Organization (IRO) in 1951, (<cite data-cite=\"3655479/MKBTDHSV\"></cite>, Ch.3; <cite data-cite=\"3655479/6T5CAR8S\"></cite>). These two fold objectives and its non-permanent status till the end of the 1980s as well as its position outside the United Nations family probably contributed to it remaining understudied by both refugee studies and international relations and migration studies for almost forty years. This changed when the scholarly debate on international migration started to concentrate on the study of migration management and researchers discovered the new global ambitions of ICEM in migration management. These ambitions found their expression in a new constitution and two name changes, first the skipping of the regional ‘Europe-part’, resulting in ICM in 1980, followed by the shift from ‘intergovernmental committee’ to the more inclusive sounding ‘International organisation’ IOM in 1987. With the change to IOM, the organisation also obtained a permanent status, suggesting a governance system in which not only states but also other non-state actors play a role (<cite data-cite=\"3655479/X56S34DQ\"></cite>). Since then, a lot of critical studies on ICEM/IOM have been published. Although IOM’s genesis and early history of the 1950s is well known by now, most of them hardly pay attention to the in-between decades, the 1960s-1980s, and the developments in the research that was ‘sponsored’ by the organisation. In this way, scholars neglected the merger of the journals of ICEM and the research group REMP, as well as the early critical notes on the character of ICEM and its self representation for a wider public."
   ]
  },
  {
   "cell_type": "markdown",
   "metadata": {
    "tags": [
     "narrative"
    ]
   },
   "source": [
    "In their article, Geiger and Koch (<cite data-cite=\"3655479/3CFRXHVE\"></cite>, 27) propose to conceptualise IOM as a ‘world organization’, in other words as an International Organization embedded in world society with relations with a multitude of different actors. With this new concept they follow the so-called organisational turn in the field of International Relation studies that propose to not only study states but to broaden the focus to the organisational character of the actual organisations. This extension should solve the lack of a firm and common theoretical framework in the critical IOM studies thus far and to get a better understanding of IOM by bringing together some of the pieces of what Geiger and Koch call the IOM-puzzle. They suggest exploring IOM along four dimensions: IOM’s self-description and relations to the world; its inner world (structures, processes and participation in decision making); its environmental or external relations and its role in generating world order. This research program is without doubt suitable for a more inclusive analysis of IOM and its interorganizational networks."
   ]
  },
  {
   "cell_type": "markdown",
   "metadata": {
    "tags": [
     "narrative"
    ]
   },
   "source": [
    "In 1964, the American demographer and sociologist William Petersen already made observations that were comparable to those of Geiger and Koch. He wrote a review article on several books on refugee studies (<cite data-cite=\"3655479/HIVHZPDF\"></cite>), among which the first issue of a new journal called International Migration: Quarterly review on the role of migratory movements in the contemporary world (IM). The journal was a merger between ICEM’s own journal Migration and a publication of the Research Group for European Migration Problems, the REMP-bulletin. International Migration was ‘sponsored’ by the Intergovernmental Committee for European Migration (ICEM, one of the former names of IOM). Petersen praised the high scientific quality of one of the REMP-monographs he also reviewed, but he was extremely critical about this first journal issue. He questioned the character of the newly established journal: ‘If the first number of International Migration is a good indication, the shift from the REMP Bulletin has been one from a scholarly journal to a self-aggrandizing house organ. [...] Most of the articles are by agency officials rather than scholars.’ He also viewed the efforts of the ICEM to assist migrants to move from Europe as a mere duplication of the purposes of the UN High Commissioner for Refugees, established in 1952 (<cite data-cite=\"3655479/HIVHZPDF\"></cite>, 419-421)."
   ]
  },
  {
   "cell_type": "markdown",
   "metadata": {
    "tags": [
     "narrative"
    ]
   },
   "source": [
    "However, given their subsequent analysis of IOM’s historical roots (<cite data-cite=\"3655479/3CFRXHVE\"></cite>, 30-32) the world organization concept remains too static without a historical dimension and does not address the issues of its genesis or the dynamics of interaction. By historicizing IOM we no longer see the organizational actors as given and constant entities, but  break them down into their constituent historical (human) actors, their contacts and (policy) arguments.  For instance, this allows us to question the assumption that “meaningful inter-state discussions and dialogues between states and international organizations on migration are a post-Cold war phenomenon (starting 1989-90) with the exception of the European Community” (<cite data-cite=\"3655479/3CFRXHVE\"></cite>, 31). In previous research we have shown by following internal debates between ICEM key actors that ICEM in its earlier decades already facilitated informal multilateral discussions outside Europe on international migration - including consultations with local civil society actors (<cite data-cite=\"3655479/MKBTDHSV\"></cite>, esp. 308-311). Geiger and Koch’s rather finalist approach also leads to inaccuracies like in the accusation that IOM is ‘catering exclusively to the restrictive interests of Global North receiving states’ (<cite data-cite=\"3655479/PL633QM8\"></cite>, as cited in <cite data-cite=\"3655479/3CFRXHVE\"></cite>, 34). But  in the 1950s and 1960s important Global North member states like the Federated Republic of (West-)Germany, the Netherlands, Italy, Austria, Greece and Spain still considered themselves primarily as sending states (<cite data-cite=\"3655479/E7QYM9B8\"></cite>, <cite data-cite=\"3655479/94XUYCEW\"></cite>, <cite data-cite=\"3655479/MKBTDHSV\"></cite>, <cite data-cite=\"3655479/6T5CAR8S\"></cite>). We believe that the concept of 'world organization' can be made less static if we combine it with that of discourse coalitions, that allows for a more historic and dynamic approach and that also fits into the argumentative turn in the field of the political sciences (<cite data-cite=\"3655479/W6F88F74\"></cite>).\n"
   ]
  },
  {
   "cell_type": "markdown",
   "metadata": {
    "tags": [
     "narrative"
    ]
   },
   "source": [
    "According to Dutch political scientist Maarten Hajer (<cite data-cite=\"3655479/7A2RCVBK\"></cite>), one of the benefits of the concept is that it enables analysis of strategic action in the context of sociohistoric discourses and institutional practices and especially offers a tool to analyse specific issues. He points out that a discourse forms on many different levels and in many different localities. According to Hajer, the discursive elements (narratives or storylines) have an important organizational potential, as their purpose is to set an agenda. Below, we will demonstrate that this is the case for ‘migration management’. German historian and sociologist Lutz Raphael (<cite data-cite=\"3655479/UHF3TATW\"></cite>) uses the discourse-coalitions concept to analyse the embedding of social sciences in Western Societies and especially in politics. In his view discourse coalitions can be seen as constellations at any given time in which social scientists (experts) develop ideas ‘that strengthen the arguments of a group of actors in the political system, whose policies might, in turn, support the standing of these scientists in academia’ (paraphrase by <cite data-cite=\"3655479/W5TM5GI3\"></cite>, 8). This is particularly important, as in our previous research  we demonstrated  that REMP was constituted and based in the Netherlands on the initiative of Dutch demographers and sociologists, who had firm connections to the Dutch Government Commissioner for Emigration Bas Haveman (1908-1979). Haveman led ICEM between 1961-1969 as the only non-American Director-General until 2018 (<cite data-cite=\"3655479/MKBTDHSV\"></cite>, <cite data-cite=\"3655479/QGLAUNK7\"></cite>, <cite data-cite=\"3655479/PGU7H2H8\"></cite>). Furthermore, Raphael offers a typology consisting of varying configurations of the ‘building blocks’ of such a discourse coalition in general, that is the ideas or metaphors, the experts, the clients, the techniques or technologies used and the institutions. Different configurations were dominant in specific periods between 1880-1980. This framework is helpful for analysing the supposedly but still insufficiently explained technocratic character of ICEM/IOM (<cite data-cite=\"3655479/3CFRXHVE\"></cite>, 39)."
   ]
  },
  {
   "cell_type": "markdown",
   "metadata": {
    "tags": [
     "narrative"
    ]
   },
   "source": [
    "Combining both the concepts of world organization and discourse coalitions thus offers us the opportunity to analyse the apparent relation between the Research Group for European Migration Problems and ICEM/IOM. The merger of their journals in the early 1960s is evidence that REMP was  a part of the ‘external environment’ of ICEM/IOM, at least in the period right before the merger. We would argue that REMP should also be seen as a discourse coalition originating in the Netherlands in the early 1950s that continued in ICEM. We want to substantiate a mutual influencing of REMP-experts and ICEM-political or administrative actors over the years through discursive elements and state that it formed the nexus between science and politics in what nowadays is called international ‘migration management’. We also will substantiate and explain how this discourse coalition developed over time."
   ]
  },
  {
   "cell_type": "markdown",
   "metadata": {
    "tags": [
     "narrative"
    ]
   },
   "source": [
    "## Dutch connections to REMP and ICEM"
   ]
  },
  {
   "cell_type": "markdown",
   "metadata": {
    "tags": [
     "narrative"
    ]
   },
   "source": [
    "Technocracy tends to present itself as ‘above politics’, but in the last decades scholars have been actively demystifying the technocratic conception of policy analysis as neutral ‘science’, thus bringing to the surface the politics that is inherent in it. (<cite data-cite=\"3655479/RD3NVU4A\"></cite>, <cite data-cite=\"3655479/GD9N3A3H\"></cite>, <cite data-cite=\"3655479/ARPE8PPK\"></cite>). Technocracy is often defined as controlling or replacing democratic deliberation, which is usually based on finding a compromise between conflicting interests, with a more neutral sounding science-based governance discourse where political issues are more or less transformed into undisputed, technically defined ends that can be pursued through administrative means. Although Raphael (<cite data-cite=\"3655479/UHF3TATW\"></cite>) does not focus on ‘technocracy’ as such, he argues that discourse coalitions originate in the desire to make scientifically informed policy. Therefore, his suggestion to study the impact of ‘expertise’ by a combined analysis of both the networks of actors from different backgrounds in academia, administration and political parties and the networks of discourses they produce is in fact a helpful tool to unravel the technocratic character of certain issues in politics, because it lays bare how the concepts and arguments of the social and human sciences got linked to the political domain and vice-versa. Thus, Raphael argues, using the concept of discourse coalitions requires elementary prosopographic evidence (whenever available), but also a keen eye for the actual genesis of possible expert groups.\n"
   ]
  },
  {
   "cell_type": "markdown",
   "metadata": {
    "tags": [
     "narrative"
    ]
   },
   "source": [
    "In this section, we first discuss the founding years of the Dutch emigration governance system, REMP and especially the predecessor of ICEM, the Provisional Intergovernmental Committee for the Movement of Migrants from Europe (PICMME). By being alert on prosopographic elements and using Raphael's typology of the configuration of discourses and metaphors used in those periods, we study the initial connections between social science expertise and international migration. On the basis of this analysis about the relation between REMP and ICEM we substantiate  the selection of our sources and the construction of our datasets.\n"
   ]
  },
  {
   "cell_type": "markdown",
   "metadata": {
    "tags": [
     "narrative"
    ]
   },
   "source": [
    "The merger in 1961 between the REMP-bulletin and ICEMs magazine that William Petersen reviewed coincided with the American and Australian lobby for the Dutchman Bas Haveman as the new Director-General of ICEM. Haveman had a background as a social-democratic chemical engineer from Delft Polytechnic University who also studied law at Leiden University and had been appointed Dutch Government Commissioner for Emigration in November 1950. Haveman was a key actor in the constitution of migration management, both in the Netherlands and internationally and the genesis of REMP as a technocratic organisation and the involvement of Haveman originated much earlier. Dutch migration policies had its roots at the end of the 19th and the first half of the 20th century when politics was dominated by discourses on ‘social reform’, targeted on the ‘working poor’ (1880-1910) and ‘social engineering’ (1910-1940). According to Raphael (<cite data-cite=\"3655479/UHF3TATW\"></cite>), from  World War I social science research informed these discourses around ‘demography’, ‘community’ or ‘eugenics' that  were based on arguments concerning ‘fear of degeneration’ and - more positively formulated - ‘national recovery’. The Dutch migration policies fit well into Raphael’s characterization of the impact of expert-influence in the Western societies in general."
   ]
  },
  {
   "cell_type": "markdown",
   "metadata": {
    "tags": [
     "narrative"
    ]
   },
   "source": [
    "Although today’s polarised debates on economic migration seem to suggest otherwise, for more than a century states have considered (international) migration and its regulation as a sound instrument for the (re)allocation of labour. In 1913, the Netherlands Association for Resettlement (landverhuizing) was founded as a hybrid private-public organisation from this perspective. It was initiated by minister Willem Treub and engineer Isaac Pieter de Vooys from the same Delft Polytechnic University where Haveman had been educated. In addition, De Vooys was part of an intellectual movement that has been described as synthetic technocracy, that was looking for a synthesis that would bridge ideological differences and thus stop the fragmentation of Dutch society which was divided along religious lines (so called pillarization) at that time, and that paralyzed Dutch political decision-making in their view."
   ]
  },
  {
   "cell_type": "markdown",
   "metadata": {
    "tags": [
     "narrative"
    ]
   },
   "source": [
    "Both social engineering and social reform was further extended in the interbellum with the involvement of scientists like Dutch sociographers Steinmetz, Hofstee and Bouman. In the economic crisis of the 1930s they were involved in employment and emigration courses, in which one of the teachers was Haveman. This was related to demography-based politics (<cite data-cite=\"3655479/N46966HL\"></cite> 91, <cite data-cite=\"3655479/MKBTDHSV\"></cite>, <cite data-cite=\"3655479/PGU7H2H8\"></cite>)."
   ]
  },
  {
   "cell_type": "markdown",
   "metadata": {
    "tags": [
     "narrative"
    ]
   },
   "source": [
    "After World War II social engineering did not disappear, but became instrumental for establishing a peaceful and above all what was called a ‘planned modernization’ for the extension of the welfare state. This modernization discourse originated in the USA and the UK , and  was characterised by the metaphors ‘assimilation’ and 'adaptation’(<cite data-cite=\"3655479/UHF3TATW\"></cite>). The Netherlands complied with this more general trend and the Dutch government  based its post-World-War II socioeconomic policy on two cornerstones. It encouraged industrialization in order to prevent structural unemployment and on the other hand stimulated and facilitated large-scale family emigration to overseas destinations. Emigration enabled the Dutch government to manipulate the supply side of the labour market, and also to avoid demographic solutions like birth control. Birth control was unwanted in the still religious Netherlands, that had the highest forecasted population increase among several Northern and Western European countries till the 1960s, due to its sky high birth rates (UN Population forecast 1951, <cite data-cite=\"3655479/MKBTDHSV\"></cite>, <cite data-cite=\"3655479/PGU7H2H8\"></cite>). With this decade-long background of social engineering and connections between science and policy-making it comes as no surprise that Haveman on appointment as Government Commissioner for Emigration in 1950 believed that migration policy had to be science-based and planning was only possible if he had an insight into the migration potential of the Dutch population."
   ]
  },
  {
   "cell_type": "markdown",
   "metadata": {
    "tags": [
     "narrative"
    ]
   },
   "source": [
    "Therefore he established close connections between his Commissioner’s Office of Emigration, based at the ministry of Social Affairs and social scientists and demographers, most of them from his former adult education networks. To strengthen these connections he also involved other scientists. Prominent among them was the German political economist and demographer Günther Beijer, who was to become pivotal in Dutch migration studies and another key person in the migration management discourse coalition. Beijer, who had fled to the Netherlands in 1933, was praised in Petersen’s review as the one who ‘created and sustained the Research Group for European Migration Problems’. He was editor of the REMP-publication series till his death in 1983 and ‘achieved an enviable reputation among demographers’ (<cite data-cite=\"3655479/HIVHZPDF\"></cite>, 420). According to his biographer, Beijer was also known for his skills in ‘facilitating a dialogue between politicians and demographers’ (<cite data-cite=\"3655479/YXIT69RE\"></cite>, 3). Haveman met Günther Beijer when they both were introduced to the American Delegation during its stopover in The Hague, just before the start of the founding Conference of PICMME in Brussels, Belgium in november 1951, and only a few months before REMP was established in March 1952 (<cite data-cite=\"3655479/B8X95E7G\"></cite>, inv.nr. 33)."
   ]
  },
  {
   "cell_type": "markdown",
   "metadata": {
    "tags": [
     "narrative"
    ]
   },
   "source": [
    "One of Haveman's commissions as Government Commissioner for Emigration was to strengthen international contacts. He acquired his first international experience as a social-economic expert in the Dutch delegation to the United Nations (UN) as a member of the Special Committee on Refugees and Displaced Persons, that set up the International Refugee Organization (IRO) in 1946, a temporary UN-agency in which the Eastern (communist) European countries decided not to participate. In this role Haveman collaborated closely with United States (US) delegate George L. Warren, the State Department’s advisor on refugees, who later became the head of the American delegation to ICEM until the mid-1960s (<cite data-cite=\"3655479/MKBTDHSV\"></cite>, <cite data-cite=\"3655479/QGLAUNK7\"></cite>). After World War II, the Netherlands took an active part in the international emigration debate. In this debate every country had its own agenda and quickly deteriorating East-West relations made that humanitarian and economic arguments concerning manpower became inseparably linked to arguments on collective security."
   ]
  },
  {
   "cell_type": "markdown",
   "metadata": {
    "tags": [
     "narrative"
    ]
   },
   "source": [
    "By the time the mandate of the IRO had expired at the end of the 1940s the refugee problem had still not been resolved. It was not clear which international institutions would regulate and finance refugee and migrant flows (<cite data-cite=\"3655479/N6J5DKMR\"></cite>, <cite data-cite=\"3655479/BN3VJMLV\"></cite>). The International Labor Organization (ILO) and the United Nations High Commissioner on Refugees (UNHCR) were important candidates. At the time, however, UNHCR had no mandate and not enough means to take over this role and Cold War considerations and the ‘white’ migration policies of Canada and Australia made the Western countries pursue a continuation of the IRO services outside of the UN system with its communist and ‘non-white’ member states. The International Labour Organization tried to enhance its position by arguing that migration traditionally was a ‘labour’ issue and therefore should ressort under ILO. The Dutch socio-democratic government favoured ILO but in 1951, Haveman convinced the Dutch government that ILO should not emerge as winner of the battle over the IRO’s material legacy - the fleet, personnel and an administrative budget augmented by a US bonus of ten million dollars. He informed the Dutch government that during his travels to Canada and Australia, he had experienced resistance to ILO interference due to the non-Western input that was difficult to combine with the de facto white migration policy of both countries. Haveman had also been in touch with Warren and learned that the US Congress would not finance any operational ILO migration work due to strong anti-ILO forces in US domestic politics. As a result the Netherlands supported the solution of allocating the IRO legacy for one year to the PICCME, which was instigated and presented by US Congressman Francis E. Walter at the conference in Brussels in November 1951 (<cite data-cite=\"3655479/QL6MHJ3H\"></cite>,<cite data-cite=\"3655479/MKBTDHSV\"></cite>, <cite data-cite=\"3655479/QGLAUNK7\"></cite>).\n"
   ]
  },
  {
   "cell_type": "markdown",
   "metadata": {
    "tags": [
     "narrative"
    ]
   },
   "source": [
    "PICMME presented itself as purely a transport organisation for refugees and displaced persons, temporarily offering technical solutions for what was publicly stressed as a humanitarian problem. This notwithstanding,  internally the member states had agreed that its main function was to encourage and facilitate the economic migration of labour surplus from a disrupted Europe, giving this ‘depoliticized’ agreement in fact a highly political background. The preference for bilateral contacts on migration remained, while at the same time PICMME/ICEM facilitated multilateral discussions without asking for too much collective commitment from the member states because of its temporary status outside the UN-system. In the long run the arrangement could even function as a safety valve for an integrating Europe: the moment the free movement of people within Europe actually would be regulated, Germany and the Netherlands would likely become the ‘receiving’ countries and then this inflow could be compensated by facilitating the overseas emigration of their own nationals using PICMME / ICEM facilities  (<cite data-cite=\"3655479/MKBTDHSV\"></cite>, <cite data-cite=\"3655479/6T5CAR8S\"></cite>). One of the advantages of this ‘light’ construction was that PICMME’s and from 1953 onwards ICEM’s Executive Board, on which the Netherlands had an almost permanent seat until the 1970s, was only accountable to its own Council and thus could stay under the radar of the national parliaments."
   ]
  },
  {
   "cell_type": "markdown",
   "metadata": {
    "tags": [
     "narrative"
    ]
   },
   "source": [
    "The day in November 1951 that Günther Beijer met Haveman at the US embassy in the Hague, Beijer was invited to inform Congressman Walter and the other American delegates about the plans he had developed since May 1950 to establish an international research group on European migration and refugee problems. This group would eventually become the Research Group of European Migration Problems (REMP) in 1952, but initially it was a bilateral Dutch-German initiative. Günther Beijer at that moment still was the only formal Dutch representative together with the German _Bildungsökonom_ (education economist) Friedrich Edding, who worked at the Institut für Weltwirtschaft in Kiel. The research group sought international solutions to threats to prosperity originating in demography and labour problems and were ‘convinced that the integration of the national economies must be accompanied by free migration of labour’.They decided to join forces to investigate possible migration problems within Europe. The first studies were published in the spring of 1951 and offered to the US-delegation during the november meeting. Beijer stressed that the idea was to extend this research group ‘by inviting personalities from all nations, who are ready and able, by their scientific qualifications and practical experience, to co-operate on a basis free of national, party political and confessional bias’ (all citations <cite data-cite=\"3655479/B8X95E7G\"></cite>, inv.nr. 33). "
   ]
  },
  {
   "cell_type": "markdown",
   "metadata": {
    "tags": [
     "narrative"
    ]
   },
   "source": [
    "In March 1952 the Research Group was formally established in The Hague. Beijer was appointed secretary and editor-in-chief. The Dutch sociographer Pieter Bouman, professor at Groningen University and personal friend of Government Commissioner Haveman, had been appointed to form the first board of directors. The provisional managing committee consisted of the Utrecht professor and sociographer Sjoerd Groenman and the catholic economist and sociographer professor George Zeegers. In its Mission Statement, REMP highlighted the ‘threat of overpopulation’ for the future prosperity of mankind. Regional unemployment and a falling standard of living could be the results of the disproportional distribution of humanity over the earth. They considered it ‘the imperative duty of scientists and statesmen …to concern themselves with these local disharmonies, by studying them and if possible by indicating solutions to the present difficulties’  (<cite data-cite=\"3655479/B8X95E7G\"></cite>, inv.nr. 30). "
   ]
  },
  {
   "cell_type": "markdown",
   "metadata": {
    "tags": [
     "narrative"
    ]
   },
   "source": [
    "In July 1952 the Research Group organised its first international meeting to discuss its initial plans as expressed in a working paper. As Beijer had been invited by the Americans before the PICMME conference, in return the American Porter Jarrell was invited as an observer on behalf of Pierre Jacobsen, the deputy director of PICMME. He resolutely amended the REMP’s intended research plans, which were primarily focussed on intra-European migration. First he outlined PICMME’s activities: organising migrant transportation via field offices in Germany, Austria, Italy, Trieste and via chartered shipping from the Netherlands to Australia, Brazil, the USA and Venezuela and participating in bilateral agreements. Then he concluded that being so close to the day to day operation, PICMME realised that it might lose sight of the larger demographic implications of its work and therefore looked forward to the scientific studies of the Research Group ‘as possible guideposts for our program in the future’. However, in his view the Research Group was too much confined to just intra-European migration, probably because of ‘a certain distrust of overseas emigration as a cause for the weakening of the basic demographic structure of Europe.’ Jarrell argued that this was not necessary as both sending and receiving states were represented in PICMME. Thus PICMME offered the opportunity to counteract this danger by experimenting with the development of certain flexible controls concerning size, direction and composition of the outflow: ‘If the Research Group were to consider overseas migration it could well recommend to the various governments the nature of the “flexible controls” which might prove scientifically desirable’. The day after Jarrell left the conference Beyer sent him a letter to confirm that the REMP members fully shared Jarrell’s view and would also take overseas emigration into account as an object for study and advice.  (all citations <cite data-cite=\"3655479/B8X95E7G\"></cite>, inv.nr.31)."
   ]
  },
  {
   "cell_type": "markdown",
   "metadata": {
    "tags": [
     "narrative"
    ]
   },
   "source": [
    "It can be concluded not only that the actual founding of REMP and PICMME coincided, but, via the Dutch connection, also that the mutual lobbying and influencing already started during the formative months. The initial discourses concerning labour, population density and demography indicate that the historical actors concerned believed in a makeable welfare society, in which one possible instrument was social engineering via regulating quantity and type of in- and outflow within the respective national populations of the member states. In the Netherlands this was called ‘guided (_geleide migratie_)’ or ‘planned migration’ (<cite data-cite=\"3655479/5SKCBEUV\"></cite>) and part of the ‘planned modernization’ discourse, as defined by <cite data-cite=\"3655479/UHF3TATW\"></cite>. However, with Raphael’s remarks on prosopographic evidence in mind, to really substantiate that this expert group in the long run formed a discourse coalition on ‘migration management’ and to be able to discover and explain shifts in the presumed networks of actors and discursive elements, we have to establish who were the key scientists involved, and who were the key political actors. How were they connected to the key political actors and institutions mentioned above? And finally: what were the topics of this discourse and how did they develop? In the next section we reflect on the choices of sources and data and on the methodological choices we had to make to start answering these questions."
   ]
  },
  {
   "cell_type": "markdown",
   "metadata": {
    "tags": [
     "narrative"
    ]
   },
   "source": [
    "## The REMP network"
   ]
  },
  {
   "cell_type": "markdown",
   "metadata": {
    "tags": [
     "narrative"
    ]
   },
   "source": [
    "REMP was an informal association of social scientists that is much closer to political policy making (both national and international) than was previously known from the literature. This would make it an informal technocratic association, because of the association and the exchange of knowledge between public administrators and scientists. On the one hand this makes policy (in this case migration management) supposedly more rational because it is based on research and scientific insights. But at the same time, this kind of technocratic associations:\n",
    "\n",
    "- make policy making less transparant and less subject to democratic checks and balances, and\n",
    "- science may be used as a justification of politically motivated decisions; assuming that the research itself still conforms to scientific standards, it is relevant to compare the choice of subjects with the political agenda."
   ]
  },
  {
   "cell_type": "markdown",
   "metadata": {
    "tags": [
     "narrative"
    ]
   },
   "source": [
    "#### From Concept to Research Strategy"
   ]
  },
  {
   "cell_type": "markdown",
   "metadata": {
    "tags": [
     "narrative"
    ]
   },
   "source": [
    "We are trying to establish the existence of a discourse coalition, that is to say, associations between scientists and policy makers who are part of administration. The separation between scientists and public administration is by no means absolute. Discourse coalitions evolve over time as persons changed roles, both within and across the academic and administration sides of the aisle, and their working relationships and associations with each other changed.\n",
    "\n",
    "A discourse coalition is a concept, an analytical construct that is used to characterise a perceived association between researchers and public administrators based on discursive characteristics. The REMP and ICEM discourse coalition was never a static network, but it evolved over time. Because of this, we have to use different data and datasets for evidence. The evidence for the discourse coalition is collected in two different ways:\n",
    "\n",
    "\n",
    "1. by close reading archival materials in which the association between public administrators and researchers is mentioned, either implicitly or explicitly, \n",
    "2. by measuring the association between researchers and public administrators in one or more networks. \n",
    "\n",
    "In this case, we are talking about several networks as migration management is a long running and increasingly international issue that has to face challenges that change over the years. The connection between the public administrators and the scientists can be established if they take part in the activities of the same organisation. In this case, the organisations are REMP and ICEM and the activities we have evidence of are research publications in the form of books, articles and other writings, like supplements.\n",
    "\n",
    "The data are localized in time and in scope that we have outlined in the diagram below (see figure 1)"
   ]
  },
  {
   "cell_type": "markdown",
   "metadata": {
    "jdh": {
     "object": {
      "source": [
       "figure 1: Diagram of Datasets"
      ]
     }
    },
    "tags": [
     "figure-1",
     "narrative",
     "hermeneutics"
    ]
   },
   "source": [
    "<img src=\"media/diagram_1.png\">"
   ]
  },
  {
   "cell_type": "markdown",
   "metadata": {
    "tags": [
     "narrative"
    ]
   },
   "source": [
    "#### Data sets"
   ]
  },
  {
   "cell_type": "markdown",
   "metadata": {
    "tags": [
     "narrative"
    ]
   },
   "source": [
    "Our research materials consist of both types of materials. The archival materials that lend themselves for close reading mainly stem from the Ministry of Social Affairs at the National Archives The Hague and the private collection of Günther Beijer at the International Institute for Social History in Amsterdam. ICEM and its successor IOM are international organisations, of which the archives are essentially closed for researchers. Although a large part of the ICEM-archive of the Dutch representatives can be found in the archival collection of Social Affairs, this is not a correspondence archive and thus not very suited for answering these research questions. As it is, from Beijers collection, which has several files on REMP, it is clear that both REMP and ICEM originated at the same time in the early 1950s and in their inception involved some of the same key people, even if they were separate organisations. But this is not the same as stating that they were part of a joined initiative or project.\n",
    "\n",
    "We have different long-running datasets that make it possible to establish the overlap between the different organisations involved. Because we are talking about a research-administrative coalition the datasets contain documents from both research and from the administration, the latter being the relevant boards and governments involved with REMP and ICEM. As researchers publish, covering scientific output provides more detailed information per person than just the fact that they occupied administrative positions.\n",
    "\n",
    "Below, we have indicated for the datasets which aspect of the discourse network they contain, including the key persons for the network.\n"
   ]
  },
  {
   "cell_type": "markdown",
   "metadata": {
    "tags": [
     "hermeneutics",
     "narrative"
    ]
   },
   "source": [
    "**I** - The ministery of Social Affairs and mainly the _Regerings Commissaris voor Emigratie_ (RCE, English: _Government Commissioner for Emigration_), **Bas Haveman** (but also other politicians and administrators) were very much interested in emigration affairs and in founding policy on scientific data, mainly sociology, statistics and demography. (<cite data-cite=\"3655479/MKBTDHSV\"></cite>, esp. pp.8, 231-232, 277-279)"
   ]
  },
  {
   "cell_type": "markdown",
   "metadata": {
    "hide_input": true,
    "tags": [
     "hermeneutics",
     "narrative"
    ]
   },
   "source": [
    "**II**- ICEM and IOM directors and deputy-directors. **Haveman** was one of the directors (1961-1969)\n",
    "Data derive from <cite data-cite=\"3655479/MKBTDHSV\"></cite>, 266-277, https://www.iom.int/iom-history; https://www.iom.int/directors-general-and-deputy-directors-general. \n",
    "\n",
    "- the ICEM directors were important in international migration management "
   ]
  },
  {
   "cell_type": "markdown",
   "metadata": {
    "tags": [
     "hermeneutics",
     "narrative"
    ]
   },
   "source": [
    "**III** - About REMP see above. It was founded in 1952 by **Günter Beijer**. REMP Board membership lists exist from 1952, 1954 and 1969 and a supplement from 1961. The board consisted of scientists, a lot of whom also had had or still had jobs in administrative or political advisory positions, administrators and some politicians, from the Netherlands and abroad. (see spreadsheet **sheet persoonscategorieen**). This is evidence that these persons were formally associated in the REMP organization in the 1950s until (at least) 1969. Data derive from the 1954, 1961, 1969 listings in the Beijer Archive (IISG, inv.nr.30) and for the 1952 listing the backcover of REMP publications no. VII (<cite data-cite=\"3655479/GVTVTC3K\"></cite>)\n",
    "\n",
    "- REMP board members were important in migration research, at first mainly in the Netherlands and Germany."
   ]
  },
  {
   "cell_type": "markdown",
   "metadata": {
    "tags": [
     "hermeneutics",
     "narrative"
    ]
   },
   "source": [
    "**IV** - REMP publication series and ICEM-funded series. \n",
    "\n",
    "\n",
    "* Studies over NL emigratie\n",
    "* Studies in Social Life (1953-1974, only migration studies)\n",
    "* REMP Bulletins Supplements (1954-1984)\n",
    "\n",
    "The common research interests and associations between the public administrators and the scientistsis can be derived from the several series of publications from REMP. Apart from the authors of the studies themselves, these studies reveal persons in different roles. There were writers of prefaces and introductions and people who funded research that all had different contributions. \n",
    "\n",
    "The prefaces and introductions were often written by administrators or politicians who also financed the publication or the research or both, but did not contribute to the content. This is not to say that the research was not independent in a scientific sense, but that there was a direct interest in the subject and that the study was considered beneficial for the process of policy making or evaluation. **Günter Beijer**, who founded REMP, was the editor in chief of the **REMP  and Social Life** series throughout the 1950s, 1960s and 1970s.\n",
    "\n",
    "- the titles of the collection and the different roles represented in them provide information about the discourse coalition network of REMP from 1953-1984."
   ]
  },
  {
   "cell_type": "markdown",
   "metadata": {
    "tags": [
     "hermeneutics",
     "narrative"
    ]
   },
   "source": [
    "**V** - REMP bulletin authors (1952-1962). REMP bulletin was edited by Günther Beijer from 1952. It started out as an informal newsletter but grew into a more serious publication platform for social scientists. \n",
    "\n",
    "- the position of Beijer as editor established a network tie with the authors of REMP bulletin"
   ]
  },
  {
   "cell_type": "markdown",
   "metadata": {
    "tags": [
     "narrative",
     "hermeneutics"
    ]
   },
   "source": [
    "**VI** - In 1961 it merged with the _Migration/Migración_ journal into the ICEM sponsored _International Migration_, that is edited by Wiley. See below for further explanations\n",
    "\n",
    "- authors and titles of _International Migration_ provide indications for who was active in studying migration"
   ]
  },
  {
   "cell_type": "markdown",
   "metadata": {
    "tags": [
     "narrative",
     "hermeneutics"
    ]
   },
   "source": [
    "**VII** - As a comparison we use the _Internation Migration Review_, that existed from roughly the same time, but was not related to ICEM (see below for further explanations)\n",
    "\n",
    "- _Internation Migration Review_ forms a background dataset to compare against the International Migration journal."
   ]
  },
  {
   "cell_type": "markdown",
   "metadata": {
    "tags": [
     "narrative"
    ]
   },
   "source": [
    "The different datasets all contain information about parts of the technocratic network of scientists and administrators who were involved in what we perceive as an evolving discourse coalition about migration and migration management. Each dataset only has data about part of the network but is connected to the other datasets because they overlap in terms of people and time. Together the sets allow for an analysis of the evolving network."
   ]
  },
  {
   "cell_type": "markdown",
   "metadata": {
    "tags": [
     "hermeneutics"
    ]
   },
   "source": [
    "As a consequence, the analysis consists of several parts. \n",
    "   - We first establish the existence of a network and a discourse coalition in REMP. This is a network with different roles that we can visualize as nodes, and different types of relations as edges.\n",
    "   - Then we establish which REMP members were also active in the ICEM network and which other people played an important role there. As the different datasets contain only a part of the network, they either contain information about the academic or the governance activities. It is not useful to visualize this as a node-edge network as many of the relations are not in the dataset. However, the main contribution is to show who was part of which network. Therefore we visualize the networks as overlapping sets of people."
   ]
  },
  {
   "cell_type": "markdown",
   "metadata": {
    "tags": [
     "narrative"
    ]
   },
   "source": [
    "## REMP discourse coalition"
   ]
  },
  {
   "cell_type": "markdown",
   "metadata": {
    "tags": [
     "narrative"
    ]
   },
   "source": [
    "For the construction of the REMP network as shown in figure 2, we used the data from the REMP publications (dataset IV), as it contains most detailed data about associations between people. We divided it into three periods: the 1950s, 1960s and 1970s. The 1970s also include the few publications that were published in the 1980s. The heydeys of REMP were in the 1950s, when there were 87 titles in the publications, against 26 in the 1960 and 12 in the 1970s. This is mirrored in the different networks involved, that counted 170 connections (edges) between actors in the 1950s, 62 in the 1960s and 31 in the 1970s."
   ]
  },
  {
   "cell_type": "markdown",
   "metadata": {
    "tags": [
     "hermeneutics",
     "hermeneutics-step"
    ]
   },
   "source": [
    "Step 1. Load the bibliographic records (metadata on persons and organisations, relationships between persons and organisations, and the chosen periods). We have chosen to split the entire period 1951-1983, from the start of REMP until the death of Günther Beijer into three smaller, non-overlapping periods of roughly 10 years:\n",
    "\n",
    "- 1951-1959: the start of REMP,\n",
    "- 1960-1969: the merger of REMP and International Migration (IM) and the ICEM directorship of Haveman,\n",
    "- 1970-1983: the remaining years until the death of Beijer."
   ]
  },
  {
   "cell_type": "code",
   "execution_count": 3,
   "metadata": {
    "tags": [
     "hermeneutics"
    ]
   },
   "outputs": [],
   "source": [
    "import pandas as pd\n",
    "import altair as alt"
   ]
  },
  {
   "cell_type": "code",
   "execution_count": 4,
   "metadata": {
    "tags": [
     "hermeneutics",
     "hermeneutics-step"
    ]
   },
   "outputs": [],
   "source": [
    "import scripts.datasets as dataset_api\n",
    "from scripts.network_visualisation import make_period_chart, make_period_graph, get_common_names, get_communities\n",
    "\n",
    "# read in the datasets\n",
    "entity_relationships = dataset_api.read_person_relationship_records()\n",
    "entity_categories = dataset_api.read_entity_categories()\n",
    "person_categories = dataset_api.read_person_categories()\n",
    "periods = dataset_api.periods\n",
    "\n"
   ]
  },
  {
   "cell_type": "markdown",
   "metadata": {
    "tags": [
     "hermeneutics",
     "hermeneutics-step"
    ]
   },
   "source": [
    "Step 2. Select the entities that were actively involved in the networks in each period, as well as their realationships."
   ]
  },
  {
   "cell_type": "code",
   "execution_count": 5,
   "metadata": {
    "tags": [
     "hermeneutics",
     "hermeneutics-step"
    ]
   },
   "outputs": [],
   "source": [
    "# Generate a network graph for each period\n",
    "period_graphs = {}\n",
    "for period in periods:\n",
    "    period_start, period_end = periods[period][\"start\"], periods[period][\"end\"]\n",
    "    # filter relationships by period\n",
    "    period_relationships = [r for r in entity_relationships if period_start <= r['year'] < period_end]\n",
    "    period_graphs[period] = make_period_graph(entity_categories, period_relationships)\n",
    "    \n"
   ]
  },
  {
   "cell_type": "markdown",
   "metadata": {
    "tags": [
     "hermeneutics",
     "hermeneutics-step"
    ]
   },
   "source": [
    "Step 3. Select names to display in the networks. Displaying the names of all entities would clutter up the visualisation, so we selected only the names of the most frequently occurring entities. "
   ]
  },
  {
   "cell_type": "code",
   "execution_count": 6,
   "metadata": {
    "tags": [
     "hermeneutics",
     "hermeneutics-step"
    ]
   },
   "outputs": [],
   "source": [
    "# Extra the most common entity names from the graph for displaying\n",
    "common_names = get_common_names(period_graphs)\n",
    "# detect communities to determine layout\n",
    "communities = get_communities(person_categories)\n",
    "\n",
    "# turn the graphs into charts\n",
    "period_charts = {}\n",
    "for period in periods:\n",
    "    period_charts[period] = make_period_chart(period_graphs[period], communities, common_names, period)\n",
    "\n"
   ]
  },
  {
   "cell_type": "code",
   "execution_count": 7,
   "metadata": {
    "jdh": {
     "object": {
      "source": [
       "figure 2: Evolving REMP network 1950-1983"
      ]
     }
    },
    "tags": [
     "hermeneutics",
     "narrative",
     "figure-2",
     "hermeneutics-step"
    ]
   },
   "outputs": [
    {
     "data": {
      "text/html": [
       "\n",
       "<div id=\"altair-viz-20aba891d79a45c0a699d71f4d3f9977\"></div>\n",
       "<script type=\"text/javascript\">\n",
       "  (function(spec, embedOpt){\n",
       "    let outputDiv = document.currentScript.previousElementSibling;\n",
       "    if (outputDiv.id !== \"altair-viz-20aba891d79a45c0a699d71f4d3f9977\") {\n",
       "      outputDiv = document.getElementById(\"altair-viz-20aba891d79a45c0a699d71f4d3f9977\");\n",
       "    }\n",
       "    const paths = {\n",
       "      \"vega\": \"https://cdn.jsdelivr.net/npm//vega@5?noext\",\n",
       "      \"vega-lib\": \"https://cdn.jsdelivr.net/npm//vega-lib?noext\",\n",
       "      \"vega-lite\": \"https://cdn.jsdelivr.net/npm//vega-lite@4.8.1?noext\",\n",
       "      \"vega-embed\": \"https://cdn.jsdelivr.net/npm//vega-embed@6?noext\",\n",
       "    };\n",
       "\n",
       "    function loadScript(lib) {\n",
       "      return new Promise(function(resolve, reject) {\n",
       "        var s = document.createElement('script');\n",
       "        s.src = paths[lib];\n",
       "        s.async = true;\n",
       "        s.onload = () => resolve(paths[lib]);\n",
       "        s.onerror = () => reject(`Error loading script: ${paths[lib]}`);\n",
       "        document.getElementsByTagName(\"head\")[0].appendChild(s);\n",
       "      });\n",
       "    }\n",
       "\n",
       "    function showError(err) {\n",
       "      outputDiv.innerHTML = `<div class=\"error\" style=\"color:red;\">${err}</div>`;\n",
       "      throw err;\n",
       "    }\n",
       "\n",
       "    function displayChart(vegaEmbed) {\n",
       "      vegaEmbed(outputDiv, spec, embedOpt)\n",
       "        .catch(err => showError(`Javascript Error: ${err.message}<br>This usually means there's a typo in your chart specification. See the javascript console for the full traceback.`));\n",
       "    }\n",
       "\n",
       "    if(typeof define === \"function\" && define.amd) {\n",
       "      requirejs.config({paths});\n",
       "      require([\"vega-embed\"], displayChart, err => showError(`Error loading script: ${err.message}`));\n",
       "    } else if (typeof vegaEmbed === \"function\") {\n",
       "      displayChart(vegaEmbed);\n",
       "    } else {\n",
       "      loadScript(\"vega\")\n",
       "        .then(() => loadScript(\"vega-lite\"))\n",
       "        .then(() => loadScript(\"vega-embed\"))\n",
       "        .catch(showError)\n",
       "        .then(() => displayChart(vegaEmbed));\n",
       "    }\n",
       "  })({\"config\": {\"view\": {\"continuousWidth\": 400, \"continuousHeight\": 300}}, \"vconcat\": [{\"layer\": [{\"data\": {\"name\": \"data-4a0e4a01fdbfed722f01ec8779bcdda4\"}, \"mark\": {\"type\": \"line\", \"opacity\": 1, \"strokeWidth\": 1}, \"encoding\": {\"color\": {\"type\": \"nominal\", \"field\": \"community\", \"legend\": null}, \"detail\": {\"type\": \"quantitative\", \"field\": \"edge\"}, \"x\": {\"type\": \"quantitative\", \"axis\": {\"grid\": false, \"labels\": false, \"ticks\": false, \"title\": \"\"}, \"field\": \"x\"}, \"y\": {\"type\": \"quantitative\", \"axis\": {\"grid\": false, \"labels\": false, \"ticks\": false, \"title\": \"\"}, \"field\": \"y\"}}}, {\"data\": {\"name\": \"data-ff21887628c4828c1a51e605e1859dbf\"}, \"mark\": {\"type\": \"point\", \"opacity\": 1, \"strokeWidth\": 1.0}, \"encoding\": {\"fill\": {\"type\": \"nominal\", \"field\": \"entity_type\", \"scale\": {\"scheme\": \"category20\"}}, \"size\": {\"type\": \"quantitative\", \"field\": \"centrality\", \"legend\": null}, \"tooltip\": [{\"type\": \"nominal\", \"field\": \"name\"}], \"x\": {\"type\": \"quantitative\", \"axis\": {\"grid\": false, \"labels\": false, \"ticks\": false}, \"field\": \"x\"}, \"y\": {\"type\": \"quantitative\", \"axis\": {\"grid\": false, \"labels\": false, \"ticks\": false}, \"field\": \"y\"}}}, {\"data\": {\"name\": \"data-ff21887628c4828c1a51e605e1859dbf\"}, \"mark\": {\"type\": \"text\", \"baseline\": \"middle\", \"fill\": \"black\", \"size\": 11}, \"encoding\": {\"text\": {\"type\": \"nominal\", \"field\": \"label\"}, \"x\": {\"type\": \"quantitative\", \"axis\": {\"grid\": false, \"labels\": false, \"ticks\": false}, \"field\": \"x\"}, \"y\": {\"type\": \"quantitative\", \"axis\": {\"grid\": false, \"labels\": false, \"ticks\": false}, \"field\": \"y\"}}}], \"title\": \"REMP network 1950-1959\"}, {\"layer\": [{\"data\": {\"name\": \"data-3f588324ba3a42ef7585e0e645238596\"}, \"mark\": {\"type\": \"line\", \"opacity\": 1, \"strokeWidth\": 1}, \"encoding\": {\"color\": {\"type\": \"nominal\", \"field\": \"community\", \"legend\": null}, \"detail\": {\"type\": \"quantitative\", \"field\": \"edge\"}, \"x\": {\"type\": \"quantitative\", \"axis\": {\"grid\": false, \"labels\": false, \"ticks\": false, \"title\": \"\"}, \"field\": \"x\"}, \"y\": {\"type\": \"quantitative\", \"axis\": {\"grid\": false, \"labels\": false, \"ticks\": false, \"title\": \"\"}, \"field\": \"y\"}}}, {\"data\": {\"name\": \"data-4de09bd80aa692ffd152b57150083f5d\"}, \"mark\": {\"type\": \"point\", \"opacity\": 1, \"strokeWidth\": 1.0}, \"encoding\": {\"fill\": {\"type\": \"nominal\", \"field\": \"entity_type\", \"scale\": {\"scheme\": \"category20\"}}, \"size\": {\"type\": \"quantitative\", \"field\": \"centrality\", \"legend\": null}, \"tooltip\": [{\"type\": \"nominal\", \"field\": \"name\"}], \"x\": {\"type\": \"quantitative\", \"axis\": {\"grid\": false, \"labels\": false, \"ticks\": false}, \"field\": \"x\"}, \"y\": {\"type\": \"quantitative\", \"axis\": {\"grid\": false, \"labels\": false, \"ticks\": false}, \"field\": \"y\"}}}, {\"data\": {\"name\": \"data-4de09bd80aa692ffd152b57150083f5d\"}, \"mark\": {\"type\": \"text\", \"baseline\": \"middle\", \"fill\": \"black\", \"size\": 11}, \"encoding\": {\"text\": {\"type\": \"nominal\", \"field\": \"label\"}, \"x\": {\"type\": \"quantitative\", \"axis\": {\"grid\": false, \"labels\": false, \"ticks\": false}, \"field\": \"x\"}, \"y\": {\"type\": \"quantitative\", \"axis\": {\"grid\": false, \"labels\": false, \"ticks\": false}, \"field\": \"y\"}}}], \"title\": \"REMP network 1960-1969\"}, {\"layer\": [{\"data\": {\"name\": \"data-dae8e463f4799893d1c6978d17a9c3ff\"}, \"mark\": {\"type\": \"line\", \"opacity\": 1, \"strokeWidth\": 1}, \"encoding\": {\"color\": {\"type\": \"nominal\", \"field\": \"community\", \"legend\": null}, \"detail\": {\"type\": \"quantitative\", \"field\": \"edge\"}, \"x\": {\"type\": \"quantitative\", \"axis\": {\"grid\": false, \"labels\": false, \"ticks\": false, \"title\": \"\"}, \"field\": \"x\"}, \"y\": {\"type\": \"quantitative\", \"axis\": {\"grid\": false, \"labels\": false, \"ticks\": false, \"title\": \"\"}, \"field\": \"y\"}}}, {\"data\": {\"name\": \"data-7b61cbfecaf7e612350fb3516accc12d\"}, \"mark\": {\"type\": \"point\", \"opacity\": 1, \"strokeWidth\": 1.0}, \"encoding\": {\"fill\": {\"type\": \"nominal\", \"field\": \"entity_type\", \"scale\": {\"scheme\": \"category20\"}}, \"size\": {\"type\": \"quantitative\", \"field\": \"centrality\", \"legend\": null}, \"tooltip\": [{\"type\": \"nominal\", \"field\": \"name\"}], \"x\": {\"type\": \"quantitative\", \"axis\": {\"grid\": false, \"labels\": false, \"ticks\": false}, \"field\": \"x\"}, \"y\": {\"type\": \"quantitative\", \"axis\": {\"grid\": false, \"labels\": false, \"ticks\": false}, \"field\": \"y\"}}}, {\"data\": {\"name\": \"data-7b61cbfecaf7e612350fb3516accc12d\"}, \"mark\": {\"type\": \"text\", \"baseline\": \"middle\", \"fill\": \"black\", \"size\": 11}, \"encoding\": {\"text\": {\"type\": \"nominal\", \"field\": \"label\"}, \"x\": {\"type\": \"quantitative\", \"axis\": {\"grid\": false, \"labels\": false, \"ticks\": false}, \"field\": \"x\"}, \"y\": {\"type\": \"quantitative\", \"axis\": {\"grid\": false, \"labels\": false, \"ticks\": false}, \"field\": \"y\"}}}], \"title\": \"REMP network 1970-1985\"}], \"$schema\": \"https://vega.github.io/schema/vega-lite/v4.8.1.json\", \"datasets\": {\"data-4a0e4a01fdbfed722f01ec8779bcdda4\": [{\"edge\": 0, \"community\": \"\", \"y\": 0.1410765707583585, \"target\": \"Wander, H.\", \"x\": -0.08155151684704467, \"source\": \"REMP\", \"pair\": [\"REMP\", \"Wander, H.\"]}, {\"edge\": 0, \"community\": \"\", \"y\": 0.913114073956897, \"target\": \"Wander, H.\", \"x\": 0.4656943529664001, \"source\": \"REMP\", \"pair\": [\"REMP\", \"Wander, H.\"]}, {\"edge\": 1, \"community\": \", REMP\", \"y\": 0.1410765707583585, \"target\": \"Bouman, P.J.\", \"x\": -0.08155151684704467, \"source\": \"REMP\", \"pair\": [\"REMP\", \"Bouman, P.J.\"]}, {\"edge\": 1, \"community\": \", REMP\", \"y\": 0.7070047428984799, \"target\": \"Bouman, P.J.\", \"x\": 0.7218188671273827, \"source\": \"REMP\", \"pair\": [\"REMP\", \"Bouman, P.J.\"]}, {\"edge\": 2, \"community\": \", REMP\", \"y\": 0.1410765707583585, \"target\": \"Beijer, G.\", \"x\": -0.08155151684704467, \"source\": \"REMP\", \"pair\": [\"REMP\", \"Beijer, G.\"]}, {\"edge\": 2, \"community\": \", REMP\", \"y\": 0.24920165042754264, \"target\": \"Beijer, G.\", \"x\": -0.261101254233879, \"source\": \"REMP\", \"pair\": [\"REMP\", \"Beijer, G.\"]}, {\"edge\": 3, \"community\": \"\", \"y\": 0.1410765707583585, \"target\": \"Citroen, H.A.\", \"x\": -0.08155151684704467, \"source\": \"REMP\", \"pair\": [\"REMP\", \"Citroen, H.A.\"]}, {\"edge\": 3, \"community\": \"\", \"y\": 0.8561589913468327, \"target\": \"Citroen, H.A.\", \"x\": -0.16196349530644014, \"source\": \"REMP\", \"pair\": [\"REMP\", \"Citroen, H.A.\"]}, {\"edge\": 4, \"community\": \", REMP\", \"y\": 0.1410765707583585, \"target\": \"Groenman, Sj.\", \"x\": -0.08155151684704467, \"source\": \"REMP\", \"pair\": [\"REMP\", \"Groenman, Sj.\"]}, {\"edge\": 4, \"community\": \", REMP\", \"y\": -0.06181234884329631, \"target\": \"Groenman, Sj.\", \"x\": -0.2698060397231818, \"source\": \"REMP\", \"pair\": [\"REMP\", \"Groenman, Sj.\"]}, {\"edge\": 5, \"community\": \", REMP\", \"y\": 0.1410765707583585, \"target\": \"Rappard, W.E.\", \"x\": -0.08155151684704467, \"source\": \"REMP\", \"pair\": [\"REMP\", \"Rappard, W.E.\"]}, {\"edge\": 5, \"community\": \", REMP\", \"y\": 0.5816827658222453, \"target\": \"Rappard, W.E.\", \"x\": 0.3941026829189528, \"source\": \"REMP\", \"pair\": [\"REMP\", \"Rappard, W.E.\"]}, {\"edge\": 6, \"community\": \", REMP\", \"y\": 0.1410765707583585, \"target\": \"Edding, F.\", \"x\": -0.08155151684704467, \"source\": \"REMP\", \"pair\": [\"REMP\", \"Edding, F.\"]}, {\"edge\": 6, \"community\": \", REMP\", \"y\": -0.04778221678667538, \"target\": \"Edding, F.\", \"x\": -0.8239330013778768, \"source\": \"REMP\", \"pair\": [\"REMP\", \"Edding, F.\"]}, {\"edge\": 7, \"community\": \"\", \"y\": 0.1410765707583585, \"target\": \"Salin, E.\", \"x\": -0.08155151684704467, \"source\": \"REMP\", \"pair\": [\"REMP\", \"Salin, E.\"]}, {\"edge\": 7, \"community\": \"\", \"y\": -0.30441996701510854, \"target\": \"Salin, E.\", \"x\": -1.007470628340948, \"source\": \"REMP\", \"pair\": [\"REMP\", \"Salin, E.\"]}, {\"edge\": 8, \"community\": \", REMP\", \"y\": 0.1410765707583585, \"target\": \"Oudegeest, J.J.\", \"x\": -0.08155151684704467, \"source\": \"REMP\", \"pair\": [\"REMP\", \"Oudegeest, J.J.\"]}, {\"edge\": 8, \"community\": \", REMP\", \"y\": 0.8920460916193856, \"target\": \"Oudegeest, J.J.\", \"x\": -0.6542839486444785, \"source\": \"REMP\", \"pair\": [\"REMP\", \"Oudegeest, J.J.\"]}, {\"edge\": 9, \"community\": \", REMP\", \"y\": 0.1410765707583585, \"target\": \"Sauvy, A.\", \"x\": -0.08155151684704467, \"source\": \"REMP\", \"pair\": [\"REMP\", \"Sauvy, A.\"]}, {\"edge\": 9, \"community\": \", REMP\", \"y\": 0.6173759806520176, \"target\": \"Sauvy, A.\", \"x\": -0.8366937852024114, \"source\": \"REMP\", \"pair\": [\"REMP\", \"Sauvy, A.\"]}, {\"edge\": 10, \"community\": \"\", \"y\": 0.1410765707583585, \"target\": \"Brink, van den , T.\", \"x\": -0.08155151684704467, \"source\": \"REMP\", \"pair\": [\"REMP\", \"Brink, van den , T.\"]}, {\"edge\": 10, \"community\": \"\", \"y\": 0.3651427499096628, \"target\": \"Brink, van den , T.\", \"x\": -1.057032472676808, \"source\": \"REMP\", \"pair\": [\"REMP\", \"Brink, van den , T.\"]}, {\"edge\": 11, \"community\": \", REMP\", \"y\": 0.1410765707583585, \"target\": \"Gadolin, de, A.\", \"x\": -0.08155151684704467, \"source\": \"REMP\", \"pair\": [\"REMP\", \"Gadolin, de, A.\"]}, {\"edge\": 11, \"community\": \", REMP\", \"y\": -0.7722638308999193, \"target\": \"Gadolin, de, A.\", \"x\": 0.15859818642830198, \"source\": \"REMP\", \"pair\": [\"REMP\", \"Gadolin, de, A.\"]}, {\"edge\": 12, \"community\": \", REMP\", \"y\": 0.1410765707583585, \"target\": \"Zeegers, G.H.L.\", \"x\": -0.08155151684704467, \"source\": \"REMP\", \"pair\": [\"REMP\", \"Zeegers, G.H.L.\"]}, {\"edge\": 12, \"community\": \", REMP\", \"y\": -0.4497303817120606, \"target\": \"Zeegers, G.H.L.\", \"x\": 0.4682446695220172, \"source\": \"REMP\", \"pair\": [\"REMP\", \"Zeegers, G.H.L.\"]}, {\"edge\": 13, \"community\": \"\", \"y\": 0.1410765707583585, \"target\": \"HWvanLoon Fellowship, NL regering\", \"x\": -0.08155151684704467, \"source\": \"REMP\", \"pair\": [\"REMP\", \"HWvanLoon Fellowship, NL regering\"]}, {\"edge\": 13, \"community\": \"\", \"y\": 0.6382185380957652, \"target\": \"HWvanLoon Fellowship, NL regering\", \"x\": -1.9678962293041886, \"source\": \"REMP\", \"pair\": [\"REMP\", \"HWvanLoon Fellowship, NL regering\"]}, {\"edge\": 14, \"community\": \"\", \"y\": 0.1410765707583585, \"target\": \"Institute of International Education\", \"x\": -0.08155151684704467, \"source\": \"REMP\", \"pair\": [\"REMP\", \"Institute of International Education\"]}, {\"edge\": 14, \"community\": \"\", \"y\": 1.0114066241653135, \"target\": \"Institute of International Education\", \"x\": -1.979744641964732, \"source\": \"REMP\", \"pair\": [\"REMP\", \"Institute of International Education\"]}, {\"edge\": 15, \"community\": \"\", \"y\": 0.1410765707583585, \"target\": \"Petersen, W.\", \"x\": -0.08155151684704467, \"source\": \"REMP\", \"pair\": [\"REMP\", \"Petersen, W.\"]}, {\"edge\": 15, \"community\": \"\", \"y\": 0.5115139143797299, \"target\": \"Petersen, W.\", \"x\": -2.3610710735185405, \"source\": \"REMP\", \"pair\": [\"REMP\", \"Petersen, W.\"]}, {\"edge\": 16, \"community\": \", REMP\", \"y\": 0.1410765707583585, \"target\": \"Hofstee, E.W.\", \"x\": -0.08155151684704467, \"source\": \"REMP\", \"pair\": [\"REMP\", \"Hofstee, E.W.\"]}, {\"edge\": 16, \"community\": \", REMP\", \"y\": 1.3495330473004068, \"target\": \"Hofstee, E.W.\", \"x\": -2.424431464334478, \"source\": \"REMP\", \"pair\": [\"REMP\", \"Hofstee, E.W.\"]}, {\"edge\": 17, \"community\": \"\", \"y\": 0.1410765707583585, \"target\": \"Davis, K.\", \"x\": -0.08155151684704467, \"source\": \"REMP\", \"pair\": [\"REMP\", \"Davis, K.\"]}, {\"edge\": 17, \"community\": \"\", \"y\": 0.8237084670053643, \"target\": \"Davis, K.\", \"x\": -2.5530110947857123, \"source\": \"REMP\", \"pair\": [\"REMP\", \"Davis, K.\"]}, {\"edge\": 18, \"community\": \"\", \"y\": 0.1410765707583585, \"target\": \"Glass, D.V.\", \"x\": -0.08155151684704467, \"source\": \"REMP\", \"pair\": [\"REMP\", \"Glass, D.V.\"]}, {\"edge\": 18, \"community\": \"\", \"y\": 1.8463901344984057, \"target\": \"Glass, D.V.\", \"x\": -3.162724196995566, \"source\": \"REMP\", \"pair\": [\"REMP\", \"Glass, D.V.\"]}, {\"edge\": 19, \"community\": \"\", \"y\": 0.1410765707583585, \"target\": \"Lannes, X.\", \"x\": -0.08155151684704467, \"source\": \"REMP\", \"pair\": [\"REMP\", \"Lannes, X.\"]}, {\"edge\": 19, \"community\": \"\", \"y\": -0.6283618321585284, \"target\": \"Lannes, X.\", \"x\": -0.6221799987314921, \"source\": \"REMP\", \"pair\": [\"REMP\", \"Lannes, X.\"]}, {\"edge\": 20, \"community\": \"\", \"y\": 0.1410765707583585, \"target\": \"Mill, van, A.N.\", \"x\": -0.08155151684704467, \"source\": \"REMP\", \"pair\": [\"REMP\", \"Mill, van, A.N.\"]}, {\"edge\": 20, \"community\": \"\", \"y\": -0.8078148156802443, \"target\": \"Mill, van, A.N.\", \"x\": -0.34994846761820186, \"source\": \"REMP\", \"pair\": [\"REMP\", \"Mill, van, A.N.\"]}, {\"edge\": 21, \"community\": \", REMP\", \"y\": 0.1410765707583585, \"target\": \"Bastos de Avila, F.\", \"x\": -0.08155151684704467, \"source\": \"REMP\", \"pair\": [\"REMP\", \"Bastos de Avila, F.\"]}, {\"edge\": 21, \"community\": \", REMP\", \"y\": -0.4244983579920032, \"target\": \"Bastos de Avila, F.\", \"x\": 2.849868023823933, \"source\": \"REMP\", \"pair\": [\"REMP\", \"Bastos de Avila, F.\"]}, {\"edge\": 22, \"community\": \"\", \"y\": 0.1410765707583585, \"target\": \"Camillo de Oliveira, A.\", \"x\": -0.08155151684704467, \"source\": \"REMP\", \"pair\": [\"REMP\", \"Camillo de Oliveira, A.\"]}, {\"edge\": 22, \"community\": \"\", \"y\": -2.0545164632808377, \"target\": \"Camillo de Oliveira, A.\", \"x\": 2.2090405843035947, \"source\": \"REMP\", \"pair\": [\"REMP\", \"Camillo de Oliveira, A.\"]}, {\"edge\": 23, \"community\": \", REMP\", \"y\": 0.1410765707583585, \"target\": \"Isaac, J.\", \"x\": -0.08155151684704467, \"source\": \"REMP\", \"pair\": [\"REMP\", \"Isaac, J.\"]}, {\"edge\": 23, \"community\": \", REMP\", \"y\": -1.7944802527031696, \"target\": \"Isaac, J.\", \"x\": 3.941091391872472, \"source\": \"REMP\", \"pair\": [\"REMP\", \"Isaac, J.\"]}, {\"edge\": 24, \"community\": \"\", \"y\": 0.1410765707583585, \"target\": \"Steigenga, W.\", \"x\": -0.08155151684704467, \"source\": \"REMP\", \"pair\": [\"REMP\", \"Steigenga, W.\"]}, {\"edge\": 24, \"community\": \"\", \"y\": 1.0910225539006786, \"target\": \"Steigenga, W.\", \"x\": 0.05732765382936793, \"source\": \"REMP\", \"pair\": [\"REMP\", \"Steigenga, W.\"]}, {\"edge\": 25, \"community\": \"\", \"y\": 0.1410765707583585, \"target\": \"Ipsen, G.\", \"x\": -0.08155151684704467, \"source\": \"REMP\", \"pair\": [\"REMP\", \"Ipsen, G.\"]}, {\"edge\": 25, \"community\": \"\", \"y\": 1.0796887116512999, \"target\": \"Ipsen, G.\", \"x\": -0.25964170528187136, \"source\": \"REMP\", \"pair\": [\"REMP\", \"Ipsen, G.\"]}, {\"edge\": 26, \"community\": \", Dutch Government\", \"y\": 0.1410765707583585, \"target\": \"Verwey-Jonker, H.\", \"x\": -0.08155151684704467, \"source\": \"REMP\", \"pair\": [\"REMP\", \"Verwey-Jonker, H.\"]}, {\"edge\": 26, \"community\": \", Dutch Government\", \"y\": 0.07006467277013229, \"target\": \"Verwey-Jonker, H.\", \"x\": 0.6855408670530554, \"source\": \"REMP\", \"pair\": [\"REMP\", \"Verwey-Jonker, H.\"]}, {\"edge\": 27, \"community\": \"\", \"y\": 0.1410765707583585, \"target\": \"Brackel, P.O.M.\", \"x\": -0.08155151684704467, \"source\": \"REMP\", \"pair\": [\"REMP\", \"Brackel, P.O.M.\"]}, {\"edge\": 27, \"community\": \"\", \"y\": -0.12890569261730422, \"target\": \"Brackel, P.O.M.\", \"x\": 0.8658041371413948, \"source\": \"REMP\", \"pair\": [\"REMP\", \"Brackel, P.O.M.\"]}, {\"edge\": 28, \"community\": \", Dutch Government\", \"y\": 0.1410765707583585, \"target\": \"Klompe, M.\", \"x\": -0.08155151684704467, \"source\": \"REMP\", \"pair\": [\"REMP\", \"Klompe, M.\"]}, {\"edge\": 28, \"community\": \", Dutch Government\", \"y\": -0.39845123065048094, \"target\": \"Klompe, M.\", \"x\": 0.7661899162980362, \"source\": \"REMP\", \"pair\": [\"REMP\", \"Klompe, M.\"]}, {\"edge\": 29, \"community\": \"\", \"y\": 0.1410765707583585, \"target\": \"Verkade, W.\", \"x\": -0.08155151684704467, \"source\": \"REMP\", \"pair\": [\"REMP\", \"Verkade, W.\"]}, {\"edge\": 29, \"community\": \"\", \"y\": -0.1384859967419138, \"target\": \"Verkade, W.\", \"x\": 0.4769323661726302, \"source\": \"REMP\", \"pair\": [\"REMP\", \"Verkade, W.\"]}, {\"edge\": 30, \"community\": \", REMP\", \"y\": 0.913114073956897, \"target\": \"Bouman, P.J.\", \"x\": 0.4656943529664001, \"source\": \"Wander, H.\", \"pair\": [\"Wander, H.\", \"Bouman, P.J.\"]}, {\"edge\": 30, \"community\": \", REMP\", \"y\": 0.7070047428984799, \"target\": \"Bouman, P.J.\", \"x\": 0.7218188671273827, \"source\": \"Wander, H.\", \"pair\": [\"Wander, H.\", \"Bouman, P.J.\"]}, {\"edge\": 31, \"community\": \", REMP\", \"y\": 0.913114073956897, \"target\": \"Beijer, G.\", \"x\": 0.4656943529664001, \"source\": \"Wander, H.\", \"pair\": [\"Wander, H.\", \"Beijer, G.\"]}, {\"edge\": 31, \"community\": \", REMP\", \"y\": 0.24920165042754264, \"target\": \"Beijer, G.\", \"x\": -0.261101254233879, \"source\": \"Wander, H.\", \"pair\": [\"Wander, H.\", \"Beijer, G.\"]}, {\"edge\": 32, \"community\": \", REMP\", \"y\": 0.7070047428984799, \"target\": \"Beijer, G.\", \"x\": 0.7218188671273827, \"source\": \"Bouman, P.J.\", \"pair\": [\"Bouman, P.J.\", \"Beijer, G.\"]}, {\"edge\": 32, \"community\": \", REMP\", \"y\": 0.24920165042754264, \"target\": \"Beijer, G.\", \"x\": -0.261101254233879, \"source\": \"Bouman, P.J.\", \"pair\": [\"Bouman, P.J.\", \"Beijer, G.\"]}, {\"edge\": 33, \"community\": \"\", \"y\": 0.24920165042754264, \"target\": \"Citroen, H.A.\", \"x\": -0.261101254233879, \"source\": \"Beijer, G.\", \"pair\": [\"Beijer, G.\", \"Citroen, H.A.\"]}, {\"edge\": 33, \"community\": \"\", \"y\": 0.8561589913468327, \"target\": \"Citroen, H.A.\", \"x\": -0.16196349530644014, \"source\": \"Beijer, G.\", \"pair\": [\"Beijer, G.\", \"Citroen, H.A.\"]}, {\"edge\": 34, \"community\": \", REMP\", \"y\": 0.24920165042754264, \"target\": \"Groenman, Sj.\", \"x\": -0.261101254233879, \"source\": \"Beijer, G.\", \"pair\": [\"Beijer, G.\", \"Groenman, Sj.\"]}, {\"edge\": 34, \"community\": \", REMP\", \"y\": -0.06181234884329631, \"target\": \"Groenman, Sj.\", \"x\": -0.2698060397231818, \"source\": \"Beijer, G.\", \"pair\": [\"Beijer, G.\", \"Groenman, Sj.\"]}, {\"edge\": 35, \"community\": \", REMP\", \"y\": 0.24920165042754264, \"target\": \"Rappard, W.E.\", \"x\": -0.261101254233879, \"source\": \"Beijer, G.\", \"pair\": [\"Beijer, G.\", \"Rappard, W.E.\"]}, {\"edge\": 35, \"community\": \", REMP\", \"y\": 0.5816827658222453, \"target\": \"Rappard, W.E.\", \"x\": 0.3941026829189528, \"source\": \"Beijer, G.\", \"pair\": [\"Beijer, G.\", \"Rappard, W.E.\"]}, {\"edge\": 36, \"community\": \", REMP\", \"y\": 0.24920165042754264, \"target\": \"Edding, F.\", \"x\": -0.261101254233879, \"source\": \"Beijer, G.\", \"pair\": [\"Beijer, G.\", \"Edding, F.\"]}, {\"edge\": 36, \"community\": \", REMP\", \"y\": -0.04778221678667538, \"target\": \"Edding, F.\", \"x\": -0.8239330013778768, \"source\": \"Beijer, G.\", \"pair\": [\"Beijer, G.\", \"Edding, F.\"]}, {\"edge\": 37, \"community\": \"\", \"y\": 0.24920165042754264, \"target\": \"Salin, E.\", \"x\": -0.261101254233879, \"source\": \"Beijer, G.\", \"pair\": [\"Beijer, G.\", \"Salin, E.\"]}, {\"edge\": 37, \"community\": \"\", \"y\": -0.30441996701510854, \"target\": \"Salin, E.\", \"x\": -1.007470628340948, \"source\": \"Beijer, G.\", \"pair\": [\"Beijer, G.\", \"Salin, E.\"]}, {\"edge\": 38, \"community\": \", REMP\", \"y\": 0.24920165042754264, \"target\": \"Oudegeest, J.J.\", \"x\": -0.261101254233879, \"source\": \"Beijer, G.\", \"pair\": [\"Beijer, G.\", \"Oudegeest, J.J.\"]}, {\"edge\": 38, \"community\": \", REMP\", \"y\": 0.8920460916193856, \"target\": \"Oudegeest, J.J.\", \"x\": -0.6542839486444785, \"source\": \"Beijer, G.\", \"pair\": [\"Beijer, G.\", \"Oudegeest, J.J.\"]}, {\"edge\": 39, \"community\": \", REMP\", \"y\": 0.24920165042754264, \"target\": \"Sauvy, A.\", \"x\": -0.261101254233879, \"source\": \"Beijer, G.\", \"pair\": [\"Beijer, G.\", \"Sauvy, A.\"]}, {\"edge\": 39, \"community\": \", REMP\", \"y\": 0.6173759806520176, \"target\": \"Sauvy, A.\", \"x\": -0.8366937852024114, \"source\": \"Beijer, G.\", \"pair\": [\"Beijer, G.\", \"Sauvy, A.\"]}, {\"edge\": 40, \"community\": \", REMP\", \"y\": 0.24920165042754264, \"target\": \"Beijer, G.\", \"x\": -0.261101254233879, \"source\": \"Beijer, G.\", \"pair\": [\"Beijer, G.\", \"Beijer, G.\"]}, {\"edge\": 40, \"community\": \", REMP\", \"y\": 0.24920165042754264, \"target\": \"Beijer, G.\", \"x\": -0.261101254233879, \"source\": \"Beijer, G.\", \"pair\": [\"Beijer, G.\", \"Beijer, G.\"]}, {\"edge\": 41, \"community\": \"\", \"y\": 0.24920165042754264, \"target\": \"Brink, van den , T.\", \"x\": -0.261101254233879, \"source\": \"Beijer, G.\", \"pair\": [\"Beijer, G.\", \"Brink, van den , T.\"]}, {\"edge\": 41, \"community\": \"\", \"y\": 0.3651427499096628, \"target\": \"Brink, van den , T.\", \"x\": -1.057032472676808, \"source\": \"Beijer, G.\", \"pair\": [\"Beijer, G.\", \"Brink, van den , T.\"]}, {\"edge\": 42, \"community\": \", REMP\", \"y\": 0.24920165042754264, \"target\": \"Gadolin, de, A.\", \"x\": -0.261101254233879, \"source\": \"Beijer, G.\", \"pair\": [\"Beijer, G.\", \"Gadolin, de, A.\"]}, {\"edge\": 42, \"community\": \", REMP\", \"y\": -0.7722638308999193, \"target\": \"Gadolin, de, A.\", \"x\": 0.15859818642830198, \"source\": \"Beijer, G.\", \"pair\": [\"Beijer, G.\", \"Gadolin, de, A.\"]}, {\"edge\": 43, \"community\": \", REMP\", \"y\": 0.24920165042754264, \"target\": \"Zeegers, G.H.L.\", \"x\": -0.261101254233879, \"source\": \"Beijer, G.\", \"pair\": [\"Beijer, G.\", \"Zeegers, G.H.L.\"]}, {\"edge\": 43, \"community\": \", REMP\", \"y\": -0.4497303817120606, \"target\": \"Zeegers, G.H.L.\", \"x\": 0.4682446695220172, \"source\": \"Beijer, G.\", \"pair\": [\"Beijer, G.\", \"Zeegers, G.H.L.\"]}, {\"edge\": 44, \"community\": \"\", \"y\": 0.24920165042754264, \"target\": \"HWvanLoon Fellowship, NL regering\", \"x\": -0.261101254233879, \"source\": \"Beijer, G.\", \"pair\": [\"Beijer, G.\", \"HWvanLoon Fellowship, NL regering\"]}, {\"edge\": 44, \"community\": \"\", \"y\": 0.6382185380957652, \"target\": \"HWvanLoon Fellowship, NL regering\", \"x\": -1.9678962293041886, \"source\": \"Beijer, G.\", \"pair\": [\"Beijer, G.\", \"HWvanLoon Fellowship, NL regering\"]}, {\"edge\": 45, \"community\": \"\", \"y\": 0.24920165042754264, \"target\": \"Institute of International Education\", \"x\": -0.261101254233879, \"source\": \"Beijer, G.\", \"pair\": [\"Beijer, G.\", \"Institute of International Education\"]}, {\"edge\": 45, \"community\": \"\", \"y\": 1.0114066241653135, \"target\": \"Institute of International Education\", \"x\": -1.979744641964732, \"source\": \"Beijer, G.\", \"pair\": [\"Beijer, G.\", \"Institute of International Education\"]}, {\"edge\": 46, \"community\": \"\", \"y\": 0.24920165042754264, \"target\": \"Petersen, W.\", \"x\": -0.261101254233879, \"source\": \"Beijer, G.\", \"pair\": [\"Beijer, G.\", \"Petersen, W.\"]}, {\"edge\": 46, \"community\": \"\", \"y\": 0.5115139143797299, \"target\": \"Petersen, W.\", \"x\": -2.3610710735185405, \"source\": \"Beijer, G.\", \"pair\": [\"Beijer, G.\", \"Petersen, W.\"]}, {\"edge\": 47, \"community\": \", REMP\", \"y\": 0.24920165042754264, \"target\": \"Hofstee, E.W.\", \"x\": -0.261101254233879, \"source\": \"Beijer, G.\", \"pair\": [\"Beijer, G.\", \"Hofstee, E.W.\"]}, {\"edge\": 47, \"community\": \", REMP\", \"y\": 1.3495330473004068, \"target\": \"Hofstee, E.W.\", \"x\": -2.424431464334478, \"source\": \"Beijer, G.\", \"pair\": [\"Beijer, G.\", \"Hofstee, E.W.\"]}, {\"edge\": 48, \"community\": \"\", \"y\": 0.24920165042754264, \"target\": \"Davis, K.\", \"x\": -0.261101254233879, \"source\": \"Beijer, G.\", \"pair\": [\"Beijer, G.\", \"Davis, K.\"]}, {\"edge\": 48, \"community\": \"\", \"y\": 0.8237084670053643, \"target\": \"Davis, K.\", \"x\": -2.5530110947857123, \"source\": \"Beijer, G.\", \"pair\": [\"Beijer, G.\", \"Davis, K.\"]}, {\"edge\": 49, \"community\": \"\", \"y\": 0.24920165042754264, \"target\": \"Glass, D.V.\", \"x\": -0.261101254233879, \"source\": \"Beijer, G.\", \"pair\": [\"Beijer, G.\", \"Glass, D.V.\"]}, {\"edge\": 49, \"community\": \"\", \"y\": 1.8463901344984057, \"target\": \"Glass, D.V.\", \"x\": -3.162724196995566, \"source\": \"Beijer, G.\", \"pair\": [\"Beijer, G.\", \"Glass, D.V.\"]}, {\"edge\": 50, \"community\": \", REMP\", \"y\": 0.24920165042754264, \"target\": \"Mackenroth, G.\", \"x\": -0.261101254233879, \"source\": \"Beijer, G.\", \"pair\": [\"Beijer, G.\", \"Mackenroth, G.\"]}, {\"edge\": 50, \"community\": \", REMP\", \"y\": 0.8217307248035639, \"target\": \"Mackenroth, G.\", \"x\": 0.0421989269327272, \"source\": \"Beijer, G.\", \"pair\": [\"Beijer, G.\", \"Mackenroth, G.\"]}, {\"edge\": 51, \"community\": \", REMP\", \"y\": 0.24920165042754264, \"target\": \"Nixon, J.W.\", \"x\": -0.261101254233879, \"source\": \"Beijer, G.\", \"pair\": [\"Beijer, G.\", \"Nixon, J.W.\"]}, {\"edge\": 51, \"community\": \", REMP\", \"y\": -0.2449301026325936, \"target\": \"Nixon, J.W.\", \"x\": -1.1330942172474696, \"source\": \"Beijer, G.\", \"pair\": [\"Beijer, G.\", \"Nixon, J.W.\"]}, {\"edge\": 52, \"community\": \"\", \"y\": 0.24920165042754264, \"target\": \"Lannes, X.\", \"x\": -0.261101254233879, \"source\": \"Beijer, G.\", \"pair\": [\"Beijer, G.\", \"Lannes, X.\"]}, {\"edge\": 52, \"community\": \"\", \"y\": -0.6283618321585284, \"target\": \"Lannes, X.\", \"x\": -0.6221799987314921, \"source\": \"Beijer, G.\", \"pair\": [\"Beijer, G.\", \"Lannes, X.\"]}, {\"edge\": 53, \"community\": \"\", \"y\": 0.24920165042754264, \"target\": \"Mill, van, A.N.\", \"x\": -0.261101254233879, \"source\": \"Beijer, G.\", \"pair\": [\"Beijer, G.\", \"Mill, van, A.N.\"]}, {\"edge\": 53, \"community\": \"\", \"y\": -0.8078148156802443, \"target\": \"Mill, van, A.N.\", \"x\": -0.34994846761820186, \"source\": \"Beijer, G.\", \"pair\": [\"Beijer, G.\", \"Mill, van, A.N.\"]}, {\"edge\": 54, \"community\": \"\", \"y\": 0.24920165042754264, \"target\": \"Mast, van der, W.\", \"x\": -0.261101254233879, \"source\": \"Beijer, G.\", \"pair\": [\"Beijer, G.\", \"Mast, van der, W.\"]}, {\"edge\": 54, \"community\": \"\", \"y\": 0.4741734470435229, \"target\": \"Mast, van der, W.\", \"x\": -1.1950415781063841, \"source\": \"Beijer, G.\", \"pair\": [\"Beijer, G.\", \"Mast, van der, W.\"]}, {\"edge\": 55, \"community\": \"\", \"y\": 0.24920165042754264, \"target\": \"Glinstra Bleeker, van, R.J.P.\", \"x\": -0.261101254233879, \"source\": \"Beijer, G.\", \"pair\": [\"Beijer, G.\", \"Glinstra Bleeker, van, R.J.P.\"]}, {\"edge\": 55, \"community\": \"\", \"y\": 0.6267446518741224, \"target\": \"Glinstra Bleeker, van, R.J.P.\", \"x\": -1.0706268040564044, \"source\": \"Beijer, G.\", \"pair\": [\"Beijer, G.\", \"Glinstra Bleeker, van, R.J.P.\"]}, {\"edge\": 56, \"community\": \"\", \"y\": 0.24920165042754264, \"target\": \"Sjollema, B.Ch.\", \"x\": -0.261101254233879, \"source\": \"Beijer, G.\", \"pair\": [\"Beijer, G.\", \"Sjollema, B.Ch.\"]}, {\"edge\": 56, \"community\": \"\", \"y\": -0.3277595319104052, \"target\": \"Sjollema, B.Ch.\", \"x\": -0.9220451669272967, \"source\": \"Beijer, G.\", \"pair\": [\"Beijer, G.\", \"Sjollema, B.Ch.\"]}, {\"edge\": 57, \"community\": \"\", \"y\": 0.24920165042754264, \"target\": \"MacKay, M.C.J.\", \"x\": -0.261101254233879, \"source\": \"Beijer, G.\", \"pair\": [\"Beijer, G.\", \"MacKay, M.C.J.\"]}, {\"edge\": 57, \"community\": \"\", \"y\": -0.6229425402854396, \"target\": \"MacKay, M.C.J.\", \"x\": 0.17642094249127876, \"source\": \"Beijer, G.\", \"pair\": [\"Beijer, G.\", \"MacKay, M.C.J.\"]}, {\"edge\": 58, \"community\": \"\", \"y\": 0.24920165042754264, \"target\": \"Dorpema, H.\", \"x\": -0.261101254233879, \"source\": \"Beijer, G.\", \"pair\": [\"Beijer, G.\", \"Dorpema, H.\"]}, {\"edge\": 58, \"community\": \"\", \"y\": -0.3078188329435583, \"target\": \"Dorpema, H.\", \"x\": 0.42360904243627484, \"source\": \"Beijer, G.\", \"pair\": [\"Beijer, G.\", \"Dorpema, H.\"]}, {\"edge\": 59, \"community\": \"\", \"y\": 0.24920165042754264, \"target\": \"Bentwich, N.\", \"x\": -0.261101254233879, \"source\": \"Beijer, G.\", \"pair\": [\"Beijer, G.\", \"Bentwich, N.\"]}, {\"edge\": 59, \"community\": \"\", \"y\": -0.06826679040320902, \"target\": \"Bentwich, N.\", \"x\": -0.9864914142818642, \"source\": \"Beijer, G.\", \"pair\": [\"Beijer, G.\", \"Bentwich, N.\"]}, {\"edge\": 60, \"community\": \"\", \"y\": 0.24920165042754264, \"target\": \"Beveridge, W.H.\", \"x\": -0.261101254233879, \"source\": \"Beijer, G.\", \"pair\": [\"Beijer, G.\", \"Beveridge, W.H.\"]}, {\"edge\": 60, \"community\": \"\", \"y\": -0.1309640351413178, \"target\": \"Beveridge, W.H.\", \"x\": -0.7846507453087543, \"source\": \"Beijer, G.\", \"pair\": [\"Beijer, G.\", \"Beveridge, W.H.\"]}, {\"edge\": 61, \"community\": \", REMP\", \"y\": 0.24920165042754264, \"target\": \"Bastos de Avila, F.\", \"x\": -0.261101254233879, \"source\": \"Beijer, G.\", \"pair\": [\"Beijer, G.\", \"Bastos de Avila, F.\"]}, {\"edge\": 61, \"community\": \", REMP\", \"y\": -0.4244983579920032, \"target\": \"Bastos de Avila, F.\", \"x\": 2.849868023823933, \"source\": \"Beijer, G.\", \"pair\": [\"Beijer, G.\", \"Bastos de Avila, F.\"]}, {\"edge\": 62, \"community\": \"\", \"y\": 0.24920165042754264, \"target\": \"Camillo de Oliveira, A.\", \"x\": -0.261101254233879, \"source\": \"Beijer, G.\", \"pair\": [\"Beijer, G.\", \"Camillo de Oliveira, A.\"]}, {\"edge\": 62, \"community\": \"\", \"y\": -2.0545164632808377, \"target\": \"Camillo de Oliveira, A.\", \"x\": 2.2090405843035947, \"source\": \"Beijer, G.\", \"pair\": [\"Beijer, G.\", \"Camillo de Oliveira, A.\"]}, {\"edge\": 63, \"community\": \", REMP\", \"y\": 0.24920165042754264, \"target\": \"Isaac, J.\", \"x\": -0.261101254233879, \"source\": \"Beijer, G.\", \"pair\": [\"Beijer, G.\", \"Isaac, J.\"]}, {\"edge\": 63, \"community\": \", REMP\", \"y\": -1.7944802527031696, \"target\": \"Isaac, J.\", \"x\": 3.941091391872472, \"source\": \"Beijer, G.\", \"pair\": [\"Beijer, G.\", \"Isaac, J.\"]}, {\"edge\": 64, \"community\": \"\", \"y\": 0.24920165042754264, \"target\": \"Peltier, R.\", \"x\": -0.261101254233879, \"source\": \"Beijer, G.\", \"pair\": [\"Beijer, G.\", \"Peltier, R.\"]}, {\"edge\": 64, \"community\": \"\", \"y\": 0.7507830284545082, \"target\": \"Peltier, R.\", \"x\": -0.22138178991066812, \"source\": \"Beijer, G.\", \"pair\": [\"Beijer, G.\", \"Peltier, R.\"]}, {\"edge\": 65, \"community\": \"\", \"y\": 0.24920165042754264, \"target\": \"Brink, van den, T\", \"x\": -0.261101254233879, \"source\": \"Beijer, G.\", \"pair\": [\"Beijer, G.\", \"Brink, van den, T\"]}, {\"edge\": 65, \"community\": \"\", \"y\": 2.196795120907498, \"target\": \"Brink, van den, T\", \"x\": -2.1694968341289416, \"source\": \"Beijer, G.\", \"pair\": [\"Beijer, G.\", \"Brink, van den, T\"]}, {\"edge\": 66, \"community\": \"\", \"y\": 0.24920165042754264, \"target\": \"Meyers, H.G.\", \"x\": -0.261101254233879, \"source\": \"Beijer, G.\", \"pair\": [\"Beijer, G.\", \"Meyers, H.G.\"]}, {\"edge\": 66, \"community\": \"\", \"y\": 0.8141977478674604, \"target\": \"Meyers, H.G.\", \"x\": -0.7504340635113926, \"source\": \"Beijer, G.\", \"pair\": [\"Beijer, G.\", \"Meyers, H.G.\"]}, {\"edge\": 67, \"community\": \"\", \"y\": 0.24920165042754264, \"target\": \"Godefroy, J.\", \"x\": -0.261101254233879, \"source\": \"Beijer, G.\", \"pair\": [\"Beijer, G.\", \"Godefroy, J.\"]}, {\"edge\": 67, \"community\": \"\", \"y\": 0.6984105689434345, \"target\": \"Godefroy, J.\", \"x\": -0.566280484361636, \"source\": \"Beijer, G.\", \"pair\": [\"Beijer, G.\", \"Godefroy, J.\"]}, {\"edge\": 68, \"community\": \"\", \"y\": 0.24920165042754264, \"target\": \"Radspieler, T.\", \"x\": -0.261101254233879, \"source\": \"Beijer, G.\", \"pair\": [\"Beijer, G.\", \"Radspieler, T.\"]}, {\"edge\": 68, \"community\": \"\", \"y\": 0.3127652124249844, \"target\": \"Radspieler, T.\", \"x\": 0.5653839022699054, \"source\": \"Beijer, G.\", \"pair\": [\"Beijer, G.\", \"Radspieler, T.\"]}, {\"edge\": 69, \"community\": \"\", \"y\": 0.24920165042754264, \"target\": \"Weinberg, A.A.W.\", \"x\": -0.261101254233879, \"source\": \"Beijer, G.\", \"pair\": [\"Beijer, G.\", \"Weinberg, A.A.W.\"]}, {\"edge\": 69, \"community\": \"\", \"y\": -0.6424713157881199, \"target\": \"Weinberg, A.A.W.\", \"x\": -0.3235714440942732, \"source\": \"Beijer, G.\", \"pair\": [\"Beijer, G.\", \"Weinberg, A.A.W.\"]}, {\"edge\": 70, \"community\": \"\", \"y\": 0.24920165042754264, \"target\": \"Schmitz, J.P.G.\", \"x\": -0.261101254233879, \"source\": \"Beijer, G.\", \"pair\": [\"Beijer, G.\", \"Schmitz, J.P.G.\"]}, {\"edge\": 70, \"community\": \"\", \"y\": -0.20821014006389052, \"target\": \"Schmitz, J.P.G.\", \"x\": 0.606048619204233, \"source\": \"Beijer, G.\", \"pair\": [\"Beijer, G.\", \"Schmitz, J.P.G.\"]}, {\"edge\": 71, \"community\": \"\", \"y\": 0.24920165042754264, \"target\": \"Beld, van den, C.A.\", \"x\": -0.261101254233879, \"source\": \"Beijer, G.\", \"pair\": [\"Beijer, G.\", \"Beld, van den, C.A.\"]}, {\"edge\": 71, \"community\": \"\", \"y\": -0.4918658492109328, \"target\": \"Beld, van den, C.A.\", \"x\": -0.8398762169372619, \"source\": \"Beijer, G.\", \"pair\": [\"Beijer, G.\", \"Beld, van den, C.A.\"]}, {\"edge\": 72, \"community\": \", REMP\", \"y\": 0.24920165042754264, \"target\": \"Hyrenius, H.\", \"x\": -0.261101254233879, \"source\": \"Beijer, G.\", \"pair\": [\"Beijer, G.\", \"Hyrenius, H.\"]}, {\"edge\": 72, \"community\": \", REMP\", \"y\": 0.9601107611285389, \"target\": \"Hyrenius, H.\", \"x\": 0.3372235775394735, \"source\": \"Beijer, G.\", \"pair\": [\"Beijer, G.\", \"Hyrenius, H.\"]}, {\"edge\": 73, \"community\": \"\", \"y\": 0.24920165042754264, \"target\": \"Mannoni, E.\", \"x\": -0.261101254233879, \"source\": \"Beijer, G.\", \"pair\": [\"Beijer, G.\", \"Mannoni, E.\"]}, {\"edge\": 73, \"community\": \"\", \"y\": 0.8293688898341324, \"target\": \"Mannoni, E.\", \"x\": -1.052883140188984, \"source\": \"Beijer, G.\", \"pair\": [\"Beijer, G.\", \"Mannoni, E.\"]}, {\"edge\": 74, \"community\": \"\", \"y\": 0.24920165042754264, \"target\": \"Belshaw, H.\", \"x\": -0.261101254233879, \"source\": \"Beijer, G.\", \"pair\": [\"Beijer, G.\", \"Belshaw, H.\"]}, {\"edge\": 74, \"community\": \"\", \"y\": 1.000841709568654, \"target\": \"Belshaw, H.\", \"x\": -0.885856478153094, \"source\": \"Beijer, G.\", \"pair\": [\"Beijer, G.\", \"Belshaw, H.\"]}, {\"edge\": 75, \"community\": \"\", \"y\": 0.24920165042754264, \"target\": \"Olsson, B.\", \"x\": -0.261101254233879, \"source\": \"Beijer, G.\", \"pair\": [\"Beijer, G.\", \"Olsson, B.\"]}, {\"edge\": 75, \"community\": \"\", \"y\": -0.21768488873649858, \"target\": \"Olsson, B.\", \"x\": -0.10056424596844143, \"source\": \"Beijer, G.\", \"pair\": [\"Beijer, G.\", \"Olsson, B.\"]}, {\"edge\": 76, \"community\": \"\", \"y\": 0.24920165042754264, \"target\": \"Geyl, W.F.\", \"x\": -0.261101254233879, \"source\": \"Beijer, G.\", \"pair\": [\"Beijer, G.\", \"Geyl, W.F.\"]}, {\"edge\": 76, \"community\": \"\", \"y\": 0.25307600478279896, \"target\": \"Geyl, W.F.\", \"x\": -1.253116185631082, \"source\": \"Beijer, G.\", \"pair\": [\"Beijer, G.\", \"Geyl, W.F.\"]}, {\"edge\": 77, \"community\": \"\", \"y\": 0.24920165042754264, \"target\": \"Steigenga, W.\", \"x\": -0.261101254233879, \"source\": \"Beijer, G.\", \"pair\": [\"Beijer, G.\", \"Steigenga, W.\"]}, {\"edge\": 77, \"community\": \"\", \"y\": 1.0910225539006786, \"target\": \"Steigenga, W.\", \"x\": 0.05732765382936793, \"source\": \"Beijer, G.\", \"pair\": [\"Beijer, G.\", \"Steigenga, W.\"]}, {\"edge\": 78, \"community\": \"\", \"y\": 0.24920165042754264, \"target\": \"Ipsen, G.\", \"x\": -0.261101254233879, \"source\": \"Beijer, G.\", \"pair\": [\"Beijer, G.\", \"Ipsen, G.\"]}, {\"edge\": 78, \"community\": \"\", \"y\": 1.0796887116512999, \"target\": \"Ipsen, G.\", \"x\": -0.25964170528187136, \"source\": \"Beijer, G.\", \"pair\": [\"Beijer, G.\", \"Ipsen, G.\"]}, {\"edge\": 79, \"community\": \"\", \"y\": 0.24920165042754264, \"target\": \"Brepohl, W.\", \"x\": -0.261101254233879, \"source\": \"Beijer, G.\", \"pair\": [\"Beijer, G.\", \"Brepohl, W.\"]}, {\"edge\": 79, \"community\": \"\", \"y\": 0.24532350376381548, \"target\": \"Brepohl, W.\", \"x\": -1.0190721811956047, \"source\": \"Beijer, G.\", \"pair\": [\"Beijer, G.\", \"Brepohl, W.\"]}, {\"edge\": 80, \"community\": \"\", \"y\": 0.24920165042754264, \"target\": \"Lehmkuhler, M.\", \"x\": -0.261101254233879, \"source\": \"Beijer, G.\", \"pair\": [\"Beijer, G.\", \"Lehmkuhler, M.\"]}, {\"edge\": 80, \"community\": \"\", \"y\": 0.07338131424855915, \"target\": \"Lehmkuhler, M.\", \"x\": -1.1536671339731868, \"source\": \"Beijer, G.\", \"pair\": [\"Beijer, G.\", \"Lehmkuhler, M.\"]}, {\"edge\": 81, \"community\": \", REMP\", \"y\": 0.24920165042754264, \"target\": \"Borrie, W.D.\", \"x\": -0.261101254233879, \"source\": \"Beijer, G.\", \"pair\": [\"Beijer, G.\", \"Borrie, W.D.\"]}, {\"edge\": 81, \"community\": \", REMP\", \"y\": -0.501372264693544, \"target\": \"Borrie, W.D.\", \"x\": 0.37468771476112606, \"source\": \"Beijer, G.\", \"pair\": [\"Beijer, G.\", \"Borrie, W.D.\"]}, {\"edge\": 82, \"community\": \"\", \"y\": 0.24920165042754264, \"target\": \"Lewis, J.N.\", \"x\": -0.261101254233879, \"source\": \"Beijer, G.\", \"pair\": [\"Beijer, G.\", \"Lewis, J.N.\"]}, {\"edge\": 82, \"community\": \"\", \"y\": 0.024282491728368605, \"target\": \"Lewis, J.N.\", \"x\": 0.179121523262757, \"source\": \"Beijer, G.\", \"pair\": [\"Beijer, G.\", \"Lewis, J.N.\"]}, {\"edge\": 83, \"community\": \"\", \"y\": 0.24920165042754264, \"target\": \"Sauvon, E.A.\", \"x\": -0.261101254233879, \"source\": \"Beijer, G.\", \"pair\": [\"Beijer, G.\", \"Sauvon, E.A.\"]}, {\"edge\": 83, \"community\": \"\", \"y\": 0.2536281781919742, \"target\": \"Sauvon, E.A.\", \"x\": 0.15546404469387176, \"source\": \"Beijer, G.\", \"pair\": [\"Beijer, G.\", \"Sauvon, E.A.\"]}, {\"edge\": 84, \"community\": \"\", \"y\": 0.24920165042754264, \"target\": \"Maris, A.\", \"x\": -0.261101254233879, \"source\": \"Beijer, G.\", \"pair\": [\"Beijer, G.\", \"Maris, A.\"]}, {\"edge\": 84, \"community\": \"\", \"y\": 1.0591061528617982, \"target\": \"Maris, A.\", \"x\": -0.25361234448891673, \"source\": \"Beijer, G.\", \"pair\": [\"Beijer, G.\", \"Maris, A.\"]}, {\"edge\": 85, \"community\": \"\", \"y\": 0.24920165042754264, \"target\": \"Pressat, R.\", \"x\": -0.261101254233879, \"source\": \"Beijer, G.\", \"pair\": [\"Beijer, G.\", \"Pressat, R.\"]}, {\"edge\": 85, \"community\": \"\", \"y\": -0.35900903810220575, \"target\": \"Pressat, R.\", \"x\": -0.5453066814563601, \"source\": \"Beijer, G.\", \"pair\": [\"Beijer, G.\", \"Pressat, R.\"]}, {\"edge\": 86, \"community\": \"\", \"y\": 0.24920165042754264, \"target\": \"Lyon, A.V.\", \"x\": -0.261101254233879, \"source\": \"Beijer, G.\", \"pair\": [\"Beijer, G.\", \"Lyon, A.V.\"]}, {\"edge\": 86, \"community\": \"\", \"y\": -0.32642459287378967, \"target\": \"Lyon, A.V.\", \"x\": 0.16307521551057524, \"source\": \"Beijer, G.\", \"pair\": [\"Beijer, G.\", \"Lyon, A.V.\"]}, {\"edge\": 87, \"community\": \"\", \"y\": 0.24920165042754264, \"target\": \"Neher, L.\", \"x\": -0.261101254233879, \"source\": \"Beijer, G.\", \"pair\": [\"Beijer, G.\", \"Neher, L.\"]}, {\"edge\": 87, \"community\": \"\", \"y\": 0.3948085918801103, \"target\": \"Neher, L.\", \"x\": 0.3845689019248799, \"source\": \"Beijer, G.\", \"pair\": [\"Beijer, G.\", \"Neher, L.\"]}, {\"edge\": 88, \"community\": \"\", \"y\": 0.24920165042754264, \"target\": \"Herberle, R.\", \"x\": -0.261101254233879, \"source\": \"Beijer, G.\", \"pair\": [\"Beijer, G.\", \"Herberle, R.\"]}, {\"edge\": 88, \"community\": \"\", \"y\": 0.6742500187174758, \"target\": \"Herberle, R.\", \"x\": 0.23771395628275688, \"source\": \"Beijer, G.\", \"pair\": [\"Beijer, G.\", \"Herberle, R.\"]}, {\"edge\": 89, \"community\": \"\", \"y\": 0.24920165042754264, \"target\": \"Starr, M.\", \"x\": -0.261101254233879, \"source\": \"Beijer, G.\", \"pair\": [\"Beijer, G.\", \"Starr, M.\"]}, {\"edge\": 89, \"community\": \"\", \"y\": 0.8121668958503723, \"target\": \"Starr, M.\", \"x\": 0.4688294930564052, \"source\": \"Beijer, G.\", \"pair\": [\"Beijer, G.\", \"Starr, M.\"]}, {\"edge\": 90, \"community\": \"\", \"y\": 0.24920165042754264, \"target\": \"Reid, I.D.A.\", \"x\": -0.261101254233879, \"source\": \"Beijer, G.\", \"pair\": [\"Beijer, G.\", \"Reid, I.D.A.\"]}, {\"edge\": 90, \"community\": \"\", \"y\": 0.6783587328145464, \"target\": \"Reid, I.D.A.\", \"x\": 0.6680355022170472, \"source\": \"Beijer, G.\", \"pair\": [\"Beijer, G.\", \"Reid, I.D.A.\"]}, {\"edge\": 91, \"community\": \", REMP\", \"y\": 0.24920165042754264, \"target\": \"Appleyard, R.T.\", \"x\": -0.261101254233879, \"source\": \"Beijer, G.\", \"pair\": [\"Beijer, G.\", \"Appleyard, R.T.\"]}, {\"edge\": 91, \"community\": \", REMP\", \"y\": 1.243058144942132, \"target\": \"Appleyard, R.T.\", \"x\": -0.1406576069462726, \"source\": \"Beijer, G.\", \"pair\": [\"Beijer, G.\", \"Appleyard, R.T.\"]}, {\"edge\": 92, \"community\": \"\", \"y\": 0.24920165042754264, \"target\": \"Timlin, M.F.\", \"x\": -0.261101254233879, \"source\": \"Beijer, G.\", \"pair\": [\"Beijer, G.\", \"Timlin, M.F.\"]}, {\"edge\": 92, \"community\": \"\", \"y\": -0.5452037182938306, \"target\": \"Timlin, M.F.\", \"x\": -0.025568269345816352, \"source\": \"Beijer, G.\", \"pair\": [\"Beijer, G.\", \"Timlin, M.F.\"]}, {\"edge\": 93, \"community\": \"\", \"y\": 0.24920165042754264, \"target\": \"Zubrzycki, J.\", \"x\": -0.261101254233879, \"source\": \"Beijer, G.\", \"pair\": [\"Beijer, G.\", \"Zubrzycki, J.\"]}, {\"edge\": 93, \"community\": \"\", \"y\": 0.26053984606445724, \"target\": \"Zubrzycki, J.\", \"x\": -0.7157853242292092, \"source\": \"Beijer, G.\", \"pair\": [\"Beijer, G.\", \"Zubrzycki, J.\"]}, {\"edge\": 94, \"community\": \"\", \"y\": 0.24920165042754264, \"target\": \"Clemens, R.\", \"x\": -0.261101254233879, \"source\": \"Beijer, G.\", \"pair\": [\"Beijer, G.\", \"Clemens, R.\"]}, {\"edge\": 94, \"community\": \"\", \"y\": 0.05842208657727874, \"target\": \"Clemens, R.\", \"x\": -0.5918229438787919, \"source\": \"Beijer, G.\", \"pair\": [\"Beijer, G.\", \"Clemens, R.\"]}, {\"edge\": 95, \"community\": \", Dutch Government\", \"y\": 0.24920165042754264, \"target\": \"Verwey-Jonker, H.\", \"x\": -0.261101254233879, \"source\": \"Beijer, G.\", \"pair\": [\"Beijer, G.\", \"Verwey-Jonker, H.\"]}, {\"edge\": 95, \"community\": \", Dutch Government\", \"y\": 0.07006467277013229, \"target\": \"Verwey-Jonker, H.\", \"x\": 0.6855408670530554, \"source\": \"Beijer, G.\", \"pair\": [\"Beijer, G.\", \"Verwey-Jonker, H.\"]}, {\"edge\": 96, \"community\": \"\", \"y\": 0.24920165042754264, \"target\": \"Brackel, P.O.M.\", \"x\": -0.261101254233879, \"source\": \"Beijer, G.\", \"pair\": [\"Beijer, G.\", \"Brackel, P.O.M.\"]}, {\"edge\": 96, \"community\": \"\", \"y\": -0.12890569261730422, \"target\": \"Brackel, P.O.M.\", \"x\": 0.8658041371413948, \"source\": \"Beijer, G.\", \"pair\": [\"Beijer, G.\", \"Brackel, P.O.M.\"]}, {\"edge\": 97, \"community\": \", Dutch Government\", \"y\": 0.24920165042754264, \"target\": \"Klompe, M.\", \"x\": -0.261101254233879, \"source\": \"Beijer, G.\", \"pair\": [\"Beijer, G.\", \"Klompe, M.\"]}, {\"edge\": 97, \"community\": \", Dutch Government\", \"y\": -0.39845123065048094, \"target\": \"Klompe, M.\", \"x\": 0.7661899162980362, \"source\": \"Beijer, G.\", \"pair\": [\"Beijer, G.\", \"Klompe, M.\"]}, {\"edge\": 98, \"community\": \"\", \"y\": 0.24920165042754264, \"target\": \"Verkade, W.\", \"x\": -0.261101254233879, \"source\": \"Beijer, G.\", \"pair\": [\"Beijer, G.\", \"Verkade, W.\"]}, {\"edge\": 98, \"community\": \"\", \"y\": -0.1384859967419138, \"target\": \"Verkade, W.\", \"x\": 0.4769323661726302, \"source\": \"Beijer, G.\", \"pair\": [\"Beijer, G.\", \"Verkade, W.\"]}, {\"edge\": 99, \"community\": \"\", \"y\": 0.24920165042754264, \"target\": \"Witkamp, F.Th.\", \"x\": -0.261101254233879, \"source\": \"Beijer, G.\", \"pair\": [\"Beijer, G.\", \"Witkamp, F.Th.\"]}, {\"edge\": 99, \"community\": \"\", \"y\": 0.2203784228275408, \"target\": \"Witkamp, F.Th.\", \"x\": 0.7413674610476043, \"source\": \"Beijer, G.\", \"pair\": [\"Beijer, G.\", \"Witkamp, F.Th.\"]}, {\"edge\": 100, \"community\": \"\", \"y\": 0.24920165042754264, \"target\": \"Patijn, C.L.\", \"x\": -0.261101254233879, \"source\": \"Beijer, G.\", \"pair\": [\"Beijer, G.\", \"Patijn, C.L.\"]}, {\"edge\": 100, \"community\": \"\", \"y\": 0.035109407651901375, \"target\": \"Patijn, C.L.\", \"x\": 0.6770853600898775, \"source\": \"Beijer, G.\", \"pair\": [\"Beijer, G.\", \"Patijn, C.L.\"]}, {\"edge\": 101, \"community\": \"\", \"y\": 0.24920165042754264, \"target\": \"Witkamp, T.\", \"x\": -0.261101254233879, \"source\": \"Beijer, G.\", \"pair\": [\"Beijer, G.\", \"Witkamp, T.\"]}, {\"edge\": 101, \"community\": \"\", \"y\": 1.117383264912614, \"target\": \"Witkamp, T.\", \"x\": -0.6783391894677346, \"source\": \"Beijer, G.\", \"pair\": [\"Beijer, G.\", \"Witkamp, T.\"]}, {\"edge\": 102, \"community\": \", REMP\", \"y\": 0.24920165042754264, \"target\": \"Gottmann, J.\", \"x\": -0.261101254233879, \"source\": \"Beijer, G.\", \"pair\": [\"Beijer, G.\", \"Gottmann, J.\"]}, {\"edge\": 102, \"community\": \", REMP\", \"y\": 1.2108228263006533, \"target\": \"Gottmann, J.\", \"x\": -0.4496505994833162, \"source\": \"Beijer, G.\", \"pair\": [\"Beijer, G.\", \"Gottmann, J.\"]}, {\"edge\": 103, \"community\": \"\", \"y\": 0.24920165042754264, \"target\": \"Balhana, A.Pilatti\", \"x\": -0.261101254233879, \"source\": \"Beijer, G.\", \"pair\": [\"Beijer, G.\", \"Balhana, A.Pilatti\"]}, {\"edge\": 103, \"community\": \"\", \"y\": -0.7324085939072934, \"target\": \"Balhana, A.Pilatti\", \"x\": -0.1238471234050458, \"source\": \"Beijer, G.\", \"pair\": [\"Beijer, G.\", \"Balhana, A.Pilatti\"]}, {\"edge\": 104, \"community\": \"\", \"y\": 0.24920165042754264, \"target\": \"Cidor, H.A.\", \"x\": -0.261101254233879, \"source\": \"Beijer, G.\", \"pair\": [\"Beijer, G.\", \"Cidor, H.A.\"]}, {\"edge\": 104, \"community\": \"\", \"y\": -0.6107250275409184, \"target\": \"Cidor, H.A.\", \"x\": -0.6958500056068125, \"source\": \"Beijer, G.\", \"pair\": [\"Beijer, G.\", \"Cidor, H.A.\"]}, {\"edge\": 105, \"community\": \"\", \"y\": 0.24920165042754264, \"target\": \"Wentholt, R.\", \"x\": -0.261101254233879, \"source\": \"Beijer, G.\", \"pair\": [\"Beijer, G.\", \"Wentholt, R.\"]}, {\"edge\": 105, \"community\": \"\", \"y\": 0.5452716737755957, \"target\": \"Wentholt, R.\", \"x\": 0.549796068899393, \"source\": \"Beijer, G.\", \"pair\": [\"Beijer, G.\", \"Wentholt, R.\"]}, {\"edge\": 106, \"community\": \"\", \"y\": 0.24920165042754264, \"target\": \"Rosenfield, H.N.\", \"x\": -0.261101254233879, \"source\": \"Beijer, G.\", \"pair\": [\"Beijer, G.\", \"Rosenfield, H.N.\"]}, {\"edge\": 106, \"community\": \"\", \"y\": -0.6846378493915273, \"target\": \"Rosenfield, H.N.\", \"x\": -0.5065985814109532, \"source\": \"Beijer, G.\", \"pair\": [\"Beijer, G.\", \"Rosenfield, H.N.\"]}, {\"edge\": 107, \"community\": \"\", \"y\": 0.24920165042754264, \"target\": \"Witcover, J.\", \"x\": -0.261101254233879, \"source\": \"Beijer, G.\", \"pair\": [\"Beijer, G.\", \"Witcover, J.\"]}, {\"edge\": 107, \"community\": \"\", \"y\": 0.5398341156062414, \"target\": \"Witcover, J.\", \"x\": -0.8488093477874371, \"source\": \"Beijer, G.\", \"pair\": [\"Beijer, G.\", \"Witcover, J.\"]}, {\"edge\": 108, \"community\": \"\", \"y\": 0.24920165042754264, \"target\": \"Orleans, L.A.\", \"x\": -0.261101254233879, \"source\": \"Beijer, G.\", \"pair\": [\"Beijer, G.\", \"Orleans, L.A.\"]}, {\"edge\": 108, \"community\": \"\", \"y\": 1.0802141056610182, \"target\": \"Orleans, L.A.\", \"x\": 0.014916776270484766, \"source\": \"Beijer, G.\", \"pair\": [\"Beijer, G.\", \"Orleans, L.A.\"]}, {\"edge\": 109, \"community\": \"\", \"y\": 0.24920165042754264, \"target\": \"Kraak, J.H.\", \"x\": -0.261101254233879, \"source\": \"Beijer, G.\", \"pair\": [\"Beijer, G.\", \"Kraak, J.H.\"]}, {\"edge\": 109, \"community\": \"\", \"y\": 1.1252756341900263, \"target\": \"Kraak, J.H.\", \"x\": 0.21397582931419074, \"source\": \"Beijer, G.\", \"pair\": [\"Beijer, G.\", \"Kraak, J.H.\"]}, {\"edge\": 110, \"community\": \"\", \"y\": 0.24920165042754264, \"target\": \"Richardson, A.\", \"x\": -0.261101254233879, \"source\": \"Beijer, G.\", \"pair\": [\"Beijer, G.\", \"Richardson, A.\"]}, {\"edge\": 110, \"community\": \"\", \"y\": 0.9631110711977832, \"target\": \"Richardson, A.\", \"x\": -0.47909596694235235, \"source\": \"Beijer, G.\", \"pair\": [\"Beijer, G.\", \"Richardson, A.\"]}, {\"edge\": 111, \"community\": \"\", \"y\": 0.24920165042754264, \"target\": \"Hack, H.\", \"x\": -0.261101254233879, \"source\": \"Beijer, G.\", \"pair\": [\"Beijer, G.\", \"Hack, H.\"]}, {\"edge\": 111, \"community\": \"\", \"y\": -0.3945270451961729, \"target\": \"Hack, H.\", \"x\": -0.2886394532736808, \"source\": \"Beijer, G.\", \"pair\": [\"Beijer, G.\", \"Hack, H.\"]}, {\"edge\": 112, \"community\": \"\", \"y\": 0.24920165042754264, \"target\": \"Rubin, E.\", \"x\": -0.261101254233879, \"source\": \"Beijer, G.\", \"pair\": [\"Beijer, G.\", \"Rubin, E.\"]}, {\"edge\": 112, \"community\": \"\", \"y\": -0.025088472578982085, \"target\": \"Rubin, E.\", \"x\": 0.4349230980809353, \"source\": \"Beijer, G.\", \"pair\": [\"Beijer, G.\", \"Rubin, E.\"]}, {\"edge\": 113, \"community\": \", REMP\", \"y\": 0.8561589913468327, \"target\": \"Groenman, Sj.\", \"x\": -0.16196349530644014, \"source\": \"Citroen, H.A.\", \"pair\": [\"Citroen, H.A.\", \"Groenman, Sj.\"]}, {\"edge\": 113, \"community\": \", REMP\", \"y\": -0.06181234884329631, \"target\": \"Groenman, Sj.\", \"x\": -0.2698060397231818, \"source\": \"Citroen, H.A.\", \"pair\": [\"Citroen, H.A.\", \"Groenman, Sj.\"]}, {\"edge\": 114, \"community\": \", REMP\", \"y\": 0.8561589913468327, \"target\": \"Rappard, W.E.\", \"x\": -0.16196349530644014, \"source\": \"Citroen, H.A.\", \"pair\": [\"Citroen, H.A.\", \"Rappard, W.E.\"]}, {\"edge\": 114, \"community\": \", REMP\", \"y\": 0.5816827658222453, \"target\": \"Rappard, W.E.\", \"x\": 0.3941026829189528, \"source\": \"Citroen, H.A.\", \"pair\": [\"Citroen, H.A.\", \"Rappard, W.E.\"]}, {\"edge\": 115, \"community\": \", REMP\", \"y\": -0.06181234884329631, \"target\": \"Rappard, W.E.\", \"x\": -0.2698060397231818, \"source\": \"Groenman, Sj.\", \"pair\": [\"Groenman, Sj.\", \"Rappard, W.E.\"]}, {\"edge\": 115, \"community\": \", REMP\", \"y\": 0.5816827658222453, \"target\": \"Rappard, W.E.\", \"x\": 0.3941026829189528, \"source\": \"Groenman, Sj.\", \"pair\": [\"Groenman, Sj.\", \"Rappard, W.E.\"]}, {\"edge\": 116, \"community\": \", REMP\", \"y\": -0.06181234884329631, \"target\": \"Hofstee, E.W.\", \"x\": -0.2698060397231818, \"source\": \"Groenman, Sj.\", \"pair\": [\"Groenman, Sj.\", \"Hofstee, E.W.\"]}, {\"edge\": 116, \"community\": \", REMP\", \"y\": 1.3495330473004068, \"target\": \"Hofstee, E.W.\", \"x\": -2.424431464334478, \"source\": \"Groenman, Sj.\", \"pair\": [\"Groenman, Sj.\", \"Hofstee, E.W.\"]}, {\"edge\": 117, \"community\": \"\", \"y\": -0.06181234884329631, \"target\": \"RCE\", \"x\": -0.2698060397231818, \"source\": \"Groenman, Sj.\", \"pair\": [\"Groenman, Sj.\", \"RCE\"]}, {\"edge\": 117, \"community\": \"\", \"y\": -0.9569354877267259, \"target\": \"RCE\", \"x\": -0.7118731109999872, \"source\": \"Groenman, Sj.\", \"pair\": [\"Groenman, Sj.\", \"RCE\"]}, {\"edge\": 118, \"community\": \"\", \"y\": -0.06181234884329631, \"target\": \"ICEM\", \"x\": -0.2698060397231818, \"source\": \"Groenman, Sj.\", \"pair\": [\"Groenman, Sj.\", \"ICEM\"]}, {\"edge\": 118, \"community\": \"\", \"y\": -0.4729463786217253, \"target\": \"ICEM\", \"x\": -0.8966397451360644, \"source\": \"Groenman, Sj.\", \"pair\": [\"Groenman, Sj.\", \"ICEM\"]}, {\"edge\": 119, \"community\": \", Dutch Government\", \"y\": -0.06181234884329631, \"target\": \"Hofstede, B.P.\", \"x\": -0.2698060397231818, \"source\": \"Groenman, Sj.\", \"pair\": [\"Groenman, Sj.\", \"Hofstede, B.P.\"]}, {\"edge\": 119, \"community\": \", Dutch Government\", \"y\": -0.8091935938963343, \"target\": \"Hofstede, B.P.\", \"x\": -0.21550833480763293, \"source\": \"Groenman, Sj.\", \"pair\": [\"Groenman, Sj.\", \"Hofstede, B.P.\"]}, {\"edge\": 120, \"community\": \"\", \"y\": -0.04778221678667538, \"target\": \"Salin, E.\", \"x\": -0.8239330013778768, \"source\": \"Edding, F.\", \"pair\": [\"Edding, F.\", \"Salin, E.\"]}, {\"edge\": 120, \"community\": \"\", \"y\": -0.30441996701510854, \"target\": \"Salin, E.\", \"x\": -1.007470628340948, \"source\": \"Edding, F.\", \"pair\": [\"Edding, F.\", \"Salin, E.\"]}, {\"edge\": 121, \"community\": \", REMP\", \"y\": 0.8920460916193856, \"target\": \"Sauvy, A.\", \"x\": -0.6542839486444785, \"source\": \"Oudegeest, J.J.\", \"pair\": [\"Oudegeest, J.J.\", \"Sauvy, A.\"]}, {\"edge\": 121, \"community\": \", REMP\", \"y\": 0.6173759806520176, \"target\": \"Sauvy, A.\", \"x\": -0.8366937852024114, \"source\": \"Oudegeest, J.J.\", \"pair\": [\"Oudegeest, J.J.\", \"Sauvy, A.\"]}, {\"edge\": 122, \"community\": \"\", \"y\": 0.6173759806520176, \"target\": \"Brink, van den , T.\", \"x\": -0.8366937852024114, \"source\": \"Sauvy, A.\", \"pair\": [\"Sauvy, A.\", \"Brink, van den , T.\"]}, {\"edge\": 122, \"community\": \"\", \"y\": 0.3651427499096628, \"target\": \"Brink, van den , T.\", \"x\": -1.057032472676808, \"source\": \"Sauvy, A.\", \"pair\": [\"Sauvy, A.\", \"Brink, van den , T.\"]}, {\"edge\": 123, \"community\": \", REMP\", \"y\": -0.7722638308999193, \"target\": \"Zeegers, G.H.L.\", \"x\": 0.15859818642830198, \"source\": \"Gadolin, de, A.\", \"pair\": [\"Gadolin, de, A.\", \"Zeegers, G.H.L.\"]}, {\"edge\": 123, \"community\": \", REMP\", \"y\": -0.4497303817120606, \"target\": \"Zeegers, G.H.L.\", \"x\": 0.4682446695220172, \"source\": \"Gadolin, de, A.\", \"pair\": [\"Gadolin, de, A.\", \"Zeegers, G.H.L.\"]}, {\"edge\": 124, \"community\": \", Dutch Government\", \"y\": -0.4497303817120606, \"target\": \"Verwey-Jonker, H.\", \"x\": 0.4682446695220172, \"source\": \"Zeegers, G.H.L.\", \"pair\": [\"Zeegers, G.H.L.\", \"Verwey-Jonker, H.\"]}, {\"edge\": 124, \"community\": \", Dutch Government\", \"y\": 0.07006467277013229, \"target\": \"Verwey-Jonker, H.\", \"x\": 0.6855408670530554, \"source\": \"Zeegers, G.H.L.\", \"pair\": [\"Zeegers, G.H.L.\", \"Verwey-Jonker, H.\"]}, {\"edge\": 125, \"community\": \"\", \"y\": -0.4497303817120606, \"target\": \"Brackel, P.O.M.\", \"x\": 0.4682446695220172, \"source\": \"Zeegers, G.H.L.\", \"pair\": [\"Zeegers, G.H.L.\", \"Brackel, P.O.M.\"]}, {\"edge\": 125, \"community\": \"\", \"y\": -0.12890569261730422, \"target\": \"Brackel, P.O.M.\", \"x\": 0.8658041371413948, \"source\": \"Zeegers, G.H.L.\", \"pair\": [\"Zeegers, G.H.L.\", \"Brackel, P.O.M.\"]}, {\"edge\": 126, \"community\": \", Dutch Government\", \"y\": -0.4497303817120606, \"target\": \"Klompe, M.\", \"x\": 0.4682446695220172, \"source\": \"Zeegers, G.H.L.\", \"pair\": [\"Zeegers, G.H.L.\", \"Klompe, M.\"]}, {\"edge\": 126, \"community\": \", Dutch Government\", \"y\": -0.39845123065048094, \"target\": \"Klompe, M.\", \"x\": 0.7661899162980362, \"source\": \"Zeegers, G.H.L.\", \"pair\": [\"Zeegers, G.H.L.\", \"Klompe, M.\"]}, {\"edge\": 127, \"community\": \"\", \"y\": -0.4497303817120606, \"target\": \"Verkade, W.\", \"x\": 0.4682446695220172, \"source\": \"Zeegers, G.H.L.\", \"pair\": [\"Zeegers, G.H.L.\", \"Verkade, W.\"]}, {\"edge\": 127, \"community\": \"\", \"y\": -0.1384859967419138, \"target\": \"Verkade, W.\", \"x\": 0.4769323661726302, \"source\": \"Zeegers, G.H.L.\", \"pair\": [\"Zeegers, G.H.L.\", \"Verkade, W.\"]}, {\"edge\": 128, \"community\": \"\", \"y\": 0.6382185380957652, \"target\": \"Institute of International Education\", \"x\": -1.9678962293041886, \"source\": \"HWvanLoon Fellowship, NL regering\", \"pair\": [\"HWvanLoon Fellowship, NL regering\", \"Institute of International Education\"]}, {\"edge\": 128, \"community\": \"\", \"y\": 1.0114066241653135, \"target\": \"Institute of International Education\", \"x\": -1.979744641964732, \"source\": \"HWvanLoon Fellowship, NL regering\", \"pair\": [\"HWvanLoon Fellowship, NL regering\", \"Institute of International Education\"]}, {\"edge\": 129, \"community\": \"\", \"y\": 0.6382185380957652, \"target\": \"Petersen, W.\", \"x\": -1.9678962293041886, \"source\": \"HWvanLoon Fellowship, NL regering\", \"pair\": [\"HWvanLoon Fellowship, NL regering\", \"Petersen, W.\"]}, {\"edge\": 129, \"community\": \"\", \"y\": 0.5115139143797299, \"target\": \"Petersen, W.\", \"x\": -2.3610710735185405, \"source\": \"HWvanLoon Fellowship, NL regering\", \"pair\": [\"HWvanLoon Fellowship, NL regering\", \"Petersen, W.\"]}, {\"edge\": 130, \"community\": \", REMP\", \"y\": 0.6382185380957652, \"target\": \"Hofstee, E.W.\", \"x\": -1.9678962293041886, \"source\": \"HWvanLoon Fellowship, NL regering\", \"pair\": [\"HWvanLoon Fellowship, NL regering\", \"Hofstee, E.W.\"]}, {\"edge\": 130, \"community\": \", REMP\", \"y\": 1.3495330473004068, \"target\": \"Hofstee, E.W.\", \"x\": -2.424431464334478, \"source\": \"HWvanLoon Fellowship, NL regering\", \"pair\": [\"HWvanLoon Fellowship, NL regering\", \"Hofstee, E.W.\"]}, {\"edge\": 131, \"community\": \"\", \"y\": 0.6382185380957652, \"target\": \"Davis, K.\", \"x\": -1.9678962293041886, \"source\": \"HWvanLoon Fellowship, NL regering\", \"pair\": [\"HWvanLoon Fellowship, NL regering\", \"Davis, K.\"]}, {\"edge\": 131, \"community\": \"\", \"y\": 0.8237084670053643, \"target\": \"Davis, K.\", \"x\": -2.5530110947857123, \"source\": \"HWvanLoon Fellowship, NL regering\", \"pair\": [\"HWvanLoon Fellowship, NL regering\", \"Davis, K.\"]}, {\"edge\": 132, \"community\": \"\", \"y\": 1.0114066241653135, \"target\": \"Petersen, W.\", \"x\": -1.979744641964732, \"source\": \"Institute of International Education\", \"pair\": [\"Institute of International Education\", \"Petersen, W.\"]}, {\"edge\": 132, \"community\": \"\", \"y\": 0.5115139143797299, \"target\": \"Petersen, W.\", \"x\": -2.3610710735185405, \"source\": \"Institute of International Education\", \"pair\": [\"Institute of International Education\", \"Petersen, W.\"]}, {\"edge\": 133, \"community\": \", REMP\", \"y\": 1.0114066241653135, \"target\": \"Hofstee, E.W.\", \"x\": -1.979744641964732, \"source\": \"Institute of International Education\", \"pair\": [\"Institute of International Education\", \"Hofstee, E.W.\"]}, {\"edge\": 133, \"community\": \", REMP\", \"y\": 1.3495330473004068, \"target\": \"Hofstee, E.W.\", \"x\": -2.424431464334478, \"source\": \"Institute of International Education\", \"pair\": [\"Institute of International Education\", \"Hofstee, E.W.\"]}, {\"edge\": 134, \"community\": \"\", \"y\": 1.0114066241653135, \"target\": \"Davis, K.\", \"x\": -1.979744641964732, \"source\": \"Institute of International Education\", \"pair\": [\"Institute of International Education\", \"Davis, K.\"]}, {\"edge\": 134, \"community\": \"\", \"y\": 0.8237084670053643, \"target\": \"Davis, K.\", \"x\": -2.5530110947857123, \"source\": \"Institute of International Education\", \"pair\": [\"Institute of International Education\", \"Davis, K.\"]}, {\"edge\": 135, \"community\": \", REMP\", \"y\": 0.5115139143797299, \"target\": \"Hofstee, E.W.\", \"x\": -2.3610710735185405, \"source\": \"Petersen, W.\", \"pair\": [\"Petersen, W.\", \"Hofstee, E.W.\"]}, {\"edge\": 135, \"community\": \", REMP\", \"y\": 1.3495330473004068, \"target\": \"Hofstee, E.W.\", \"x\": -2.424431464334478, \"source\": \"Petersen, W.\", \"pair\": [\"Petersen, W.\", \"Hofstee, E.W.\"]}, {\"edge\": 136, \"community\": \"\", \"y\": 0.5115139143797299, \"target\": \"Davis, K.\", \"x\": -2.3610710735185405, \"source\": \"Petersen, W.\", \"pair\": [\"Petersen, W.\", \"Davis, K.\"]}, {\"edge\": 136, \"community\": \"\", \"y\": 0.8237084670053643, \"target\": \"Davis, K.\", \"x\": -2.5530110947857123, \"source\": \"Petersen, W.\", \"pair\": [\"Petersen, W.\", \"Davis, K.\"]}, {\"edge\": 137, \"community\": \"\", \"y\": 1.3495330473004068, \"target\": \"Davis, K.\", \"x\": -2.424431464334478, \"source\": \"Hofstee, E.W.\", \"pair\": [\"Hofstee, E.W.\", \"Davis, K.\"]}, {\"edge\": 137, \"community\": \"\", \"y\": 0.8237084670053643, \"target\": \"Davis, K.\", \"x\": -2.5530110947857123, \"source\": \"Hofstee, E.W.\", \"pair\": [\"Hofstee, E.W.\", \"Davis, K.\"]}, {\"edge\": 138, \"community\": \"\", \"y\": 1.3495330473004068, \"target\": \"Glass, D.V.\", \"x\": -2.424431464334478, \"source\": \"Hofstee, E.W.\", \"pair\": [\"Hofstee, E.W.\", \"Glass, D.V.\"]}, {\"edge\": 138, \"community\": \"\", \"y\": 1.8463901344984057, \"target\": \"Glass, D.V.\", \"x\": -3.162724196995566, \"source\": \"Hofstee, E.W.\", \"pair\": [\"Hofstee, E.W.\", \"Glass, D.V.\"]}, {\"edge\": 139, \"community\": \"\", \"y\": 1.3495330473004068, \"target\": \"Brink, van den, T\", \"x\": -2.424431464334478, \"source\": \"Hofstee, E.W.\", \"pair\": [\"Hofstee, E.W.\", \"Brink, van den, T\"]}, {\"edge\": 139, \"community\": \"\", \"y\": 2.196795120907498, \"target\": \"Brink, van den, T\", \"x\": -2.1694968341289416, \"source\": \"Hofstee, E.W.\", \"pair\": [\"Hofstee, E.W.\", \"Brink, van den, T\"]}, {\"edge\": 140, \"community\": \"\", \"y\": -0.6283618321585284, \"target\": \"Mill, van, A.N.\", \"x\": -0.6221799987314921, \"source\": \"Lannes, X.\", \"pair\": [\"Lannes, X.\", \"Mill, van, A.N.\"]}, {\"edge\": 140, \"community\": \"\", \"y\": -0.8078148156802443, \"target\": \"Mill, van, A.N.\", \"x\": -0.34994846761820186, \"source\": \"Lannes, X.\", \"pair\": [\"Lannes, X.\", \"Mill, van, A.N.\"]}, {\"edge\": 141, \"community\": \"\", \"y\": -0.06826679040320902, \"target\": \"Beveridge, W.H.\", \"x\": -0.9864914142818642, \"source\": \"Bentwich, N.\", \"pair\": [\"Bentwich, N.\", \"Beveridge, W.H.\"]}, {\"edge\": 141, \"community\": \"\", \"y\": -0.1309640351413178, \"target\": \"Beveridge, W.H.\", \"x\": -0.7846507453087543, \"source\": \"Bentwich, N.\", \"pair\": [\"Bentwich, N.\", \"Beveridge, W.H.\"]}, {\"edge\": 142, \"community\": \"\", \"y\": -0.4244983579920032, \"target\": \"Camillo de Oliveira, A.\", \"x\": 2.849868023823933, \"source\": \"Bastos de Avila, F.\", \"pair\": [\"Bastos de Avila, F.\", \"Camillo de Oliveira, A.\"]}, {\"edge\": 142, \"community\": \"\", \"y\": -2.0545164632808377, \"target\": \"Camillo de Oliveira, A.\", \"x\": 2.2090405843035947, \"source\": \"Bastos de Avila, F.\", \"pair\": [\"Bastos de Avila, F.\", \"Camillo de Oliveira, A.\"]}, {\"edge\": 143, \"community\": \", REMP\", \"y\": -0.4244983579920032, \"target\": \"Isaac, J.\", \"x\": 2.849868023823933, \"source\": \"Bastos de Avila, F.\", \"pair\": [\"Bastos de Avila, F.\", \"Isaac, J.\"]}, {\"edge\": 143, \"community\": \", REMP\", \"y\": -1.7944802527031696, \"target\": \"Isaac, J.\", \"x\": 3.941091391872472, \"source\": \"Bastos de Avila, F.\", \"pair\": [\"Bastos de Avila, F.\", \"Isaac, J.\"]}, {\"edge\": 144, \"community\": \", REMP\", \"y\": -2.0545164632808377, \"target\": \"Isaac, J.\", \"x\": 2.2090405843035947, \"source\": \"Camillo de Oliveira, A.\", \"pair\": [\"Camillo de Oliveira, A.\", \"Isaac, J.\"]}, {\"edge\": 144, \"community\": \", REMP\", \"y\": -1.7944802527031696, \"target\": \"Isaac, J.\", \"x\": 3.941091391872472, \"source\": \"Camillo de Oliveira, A.\", \"pair\": [\"Camillo de Oliveira, A.\", \"Isaac, J.\"]}, {\"edge\": 145, \"community\": \"\", \"y\": 0.8141977478674604, \"target\": \"Godefroy, J.\", \"x\": -0.7504340635113926, \"source\": \"Meyers, H.G.\", \"pair\": [\"Meyers, H.G.\", \"Godefroy, J.\"]}, {\"edge\": 145, \"community\": \"\", \"y\": 0.6984105689434345, \"target\": \"Godefroy, J.\", \"x\": -0.566280484361636, \"source\": \"Meyers, H.G.\", \"pair\": [\"Meyers, H.G.\", \"Godefroy, J.\"]}, {\"edge\": 146, \"community\": \"\", \"y\": 0.3127652124249844, \"target\": \"Neher, L.\", \"x\": 0.5653839022699054, \"source\": \"Radspieler, T.\", \"pair\": [\"Radspieler, T.\", \"Neher, L.\"]}, {\"edge\": 146, \"community\": \"\", \"y\": 0.3948085918801103, \"target\": \"Neher, L.\", \"x\": 0.3845689019248799, \"source\": \"Radspieler, T.\", \"pair\": [\"Radspieler, T.\", \"Neher, L.\"]}, {\"edge\": 147, \"community\": \"\", \"y\": 1.0910225539006786, \"target\": \"Ipsen, G.\", \"x\": 0.05732765382936793, \"source\": \"Steigenga, W.\", \"pair\": [\"Steigenga, W.\", \"Ipsen, G.\"]}, {\"edge\": 147, \"community\": \"\", \"y\": 1.0796887116512999, \"target\": \"Ipsen, G.\", \"x\": -0.25964170528187136, \"source\": \"Steigenga, W.\", \"pair\": [\"Steigenga, W.\", \"Ipsen, G.\"]}, {\"edge\": 148, \"community\": \"\", \"y\": 0.24532350376381548, \"target\": \"Lehmkuhler, M.\", \"x\": -1.0190721811956047, \"source\": \"Brepohl, W.\", \"pair\": [\"Brepohl, W.\", \"Lehmkuhler, M.\"]}, {\"edge\": 148, \"community\": \"\", \"y\": 0.07338131424855915, \"target\": \"Lehmkuhler, M.\", \"x\": -1.1536671339731868, \"source\": \"Brepohl, W.\", \"pair\": [\"Brepohl, W.\", \"Lehmkuhler, M.\"]}, {\"edge\": 149, \"community\": \"\", \"y\": 0.024282491728368605, \"target\": \"Sauvon, E.A.\", \"x\": 0.179121523262757, \"source\": \"Lewis, J.N.\", \"pair\": [\"Lewis, J.N.\", \"Sauvon, E.A.\"]}, {\"edge\": 149, \"community\": \"\", \"y\": 0.2536281781919742, \"target\": \"Sauvon, E.A.\", \"x\": 0.15546404469387176, \"source\": \"Lewis, J.N.\", \"pair\": [\"Lewis, J.N.\", \"Sauvon, E.A.\"]}, {\"edge\": 150, \"community\": \"\", \"y\": 0.26053984606445724, \"target\": \"Clemens, R.\", \"x\": -0.7157853242292092, \"source\": \"Zubrzycki, J.\", \"pair\": [\"Zubrzycki, J.\", \"Clemens, R.\"]}, {\"edge\": 150, \"community\": \"\", \"y\": 0.05842208657727874, \"target\": \"Clemens, R.\", \"x\": -0.5918229438787919, \"source\": \"Zubrzycki, J.\", \"pair\": [\"Zubrzycki, J.\", \"Clemens, R.\"]}, {\"edge\": 151, \"community\": \"\", \"y\": 0.07006467277013229, \"target\": \"Brackel, P.O.M.\", \"x\": 0.6855408670530554, \"source\": \"Verwey-Jonker, H.\", \"pair\": [\"Verwey-Jonker, H.\", \"Brackel, P.O.M.\"]}, {\"edge\": 151, \"community\": \"\", \"y\": -0.12890569261730422, \"target\": \"Brackel, P.O.M.\", \"x\": 0.8658041371413948, \"source\": \"Verwey-Jonker, H.\", \"pair\": [\"Verwey-Jonker, H.\", \"Brackel, P.O.M.\"]}, {\"edge\": 152, \"community\": \", Dutch Government\", \"y\": 0.07006467277013229, \"target\": \"Klompe, M.\", \"x\": 0.6855408670530554, \"source\": \"Verwey-Jonker, H.\", \"pair\": [\"Verwey-Jonker, H.\", \"Klompe, M.\"]}, {\"edge\": 152, \"community\": \", Dutch Government\", \"y\": -0.39845123065048094, \"target\": \"Klompe, M.\", \"x\": 0.7661899162980362, \"source\": \"Verwey-Jonker, H.\", \"pair\": [\"Verwey-Jonker, H.\", \"Klompe, M.\"]}, {\"edge\": 153, \"community\": \"\", \"y\": 0.07006467277013229, \"target\": \"Verkade, W.\", \"x\": 0.6855408670530554, \"source\": \"Verwey-Jonker, H.\", \"pair\": [\"Verwey-Jonker, H.\", \"Verkade, W.\"]}, {\"edge\": 153, \"community\": \"\", \"y\": -0.1384859967419138, \"target\": \"Verkade, W.\", \"x\": 0.4769323661726302, \"source\": \"Verwey-Jonker, H.\", \"pair\": [\"Verwey-Jonker, H.\", \"Verkade, W.\"]}, {\"edge\": 154, \"community\": \", Dutch Government\", \"y\": -0.12890569261730422, \"target\": \"Klompe, M.\", \"x\": 0.8658041371413948, \"source\": \"Brackel, P.O.M.\", \"pair\": [\"Brackel, P.O.M.\", \"Klompe, M.\"]}, {\"edge\": 154, \"community\": \", Dutch Government\", \"y\": -0.39845123065048094, \"target\": \"Klompe, M.\", \"x\": 0.7661899162980362, \"source\": \"Brackel, P.O.M.\", \"pair\": [\"Brackel, P.O.M.\", \"Klompe, M.\"]}, {\"edge\": 155, \"community\": \"\", \"y\": -0.12890569261730422, \"target\": \"Verkade, W.\", \"x\": 0.8658041371413948, \"source\": \"Brackel, P.O.M.\", \"pair\": [\"Brackel, P.O.M.\", \"Verkade, W.\"]}, {\"edge\": 155, \"community\": \"\", \"y\": -0.1384859967419138, \"target\": \"Verkade, W.\", \"x\": 0.4769323661726302, \"source\": \"Brackel, P.O.M.\", \"pair\": [\"Brackel, P.O.M.\", \"Verkade, W.\"]}, {\"edge\": 156, \"community\": \"\", \"y\": -0.39845123065048094, \"target\": \"Verkade, W.\", \"x\": 0.7661899162980362, \"source\": \"Klompe, M.\", \"pair\": [\"Klompe, M.\", \"Verkade, W.\"]}, {\"edge\": 156, \"community\": \"\", \"y\": -0.1384859967419138, \"target\": \"Verkade, W.\", \"x\": 0.4769323661726302, \"source\": \"Klompe, M.\", \"pair\": [\"Klompe, M.\", \"Verkade, W.\"]}, {\"edge\": 157, \"community\": \"\", \"y\": 0.2203784228275408, \"target\": \"Patijn, C.L.\", \"x\": 0.7413674610476043, \"source\": \"Witkamp, F.Th.\", \"pair\": [\"Witkamp, F.Th.\", \"Patijn, C.L.\"]}, {\"edge\": 157, \"community\": \"\", \"y\": 0.035109407651901375, \"target\": \"Patijn, C.L.\", \"x\": 0.6770853600898775, \"source\": \"Witkamp, F.Th.\", \"pair\": [\"Witkamp, F.Th.\", \"Patijn, C.L.\"]}, {\"edge\": 158, \"community\": \"\", \"y\": -0.9569354877267259, \"target\": \"ICEM\", \"x\": -0.7118731109999872, \"source\": \"RCE\", \"pair\": [\"RCE\", \"ICEM\"]}, {\"edge\": 158, \"community\": \"\", \"y\": -0.4729463786217253, \"target\": \"ICEM\", \"x\": -0.8966397451360644, \"source\": \"RCE\", \"pair\": [\"RCE\", \"ICEM\"]}, {\"edge\": 159, \"community\": \"\", \"y\": -0.9569354877267259, \"target\": \"RCE\", \"x\": -0.7118731109999872, \"source\": \"RCE\", \"pair\": [\"RCE\", \"RCE\"]}, {\"edge\": 159, \"community\": \"\", \"y\": -0.9569354877267259, \"target\": \"RCE\", \"x\": -0.7118731109999872, \"source\": \"RCE\", \"pair\": [\"RCE\", \"RCE\"]}, {\"edge\": 160, \"community\": \", Dutch Government\", \"y\": -0.9569354877267259, \"target\": \"Hofstede, B.P.\", \"x\": -0.7118731109999872, \"source\": \"RCE\", \"pair\": [\"RCE\", \"Hofstede, B.P.\"]}, {\"edge\": 160, \"community\": \", Dutch Government\", \"y\": -0.8091935938963343, \"target\": \"Hofstede, B.P.\", \"x\": -0.21550833480763293, \"source\": \"RCE\", \"pair\": [\"RCE\", \"Hofstede, B.P.\"]}, {\"edge\": 161, \"community\": \", Dutch Government\", \"y\": -0.4729463786217253, \"target\": \"Hofstede, B.P.\", \"x\": -0.8966397451360644, \"source\": \"ICEM\", \"pair\": [\"ICEM\", \"Hofstede, B.P.\"]}, {\"edge\": 161, \"community\": \", Dutch Government\", \"y\": -0.8091935938963343, \"target\": \"Hofstede, B.P.\", \"x\": -0.21550833480763293, \"source\": \"ICEM\", \"pair\": [\"ICEM\", \"Hofstede, B.P.\"]}], \"data-ff21887628c4828c1a51e605e1859dbf\": [{\"entity_type\": \"organisation\", \"y\": 0.1410765707583585, \"x\": -0.08155151684704467, \"name\": \"REMP\", \"label\": \"REMP\", \"centrality\": 1.3231315299602515}, {\"entity_type\": \"unknown\", \"y\": 0.913114073956897, \"x\": 0.4656943529664001, \"name\": \"Wander, H.\", \"label\": \"\", \"centrality\": 0.36355765883486746}, {\"entity_type\": \"academic\", \"y\": 0.7070047428984799, \"x\": 0.7218188671273827, \"name\": \"Bouman, P.J.\", \"label\": \"\", \"centrality\": 0.36355765883486746}, {\"entity_type\": \"academic\", \"y\": 0.24920165042754264, \"x\": -0.261101254233879, \"name\": \"Beijer, G.\", \"label\": \"Beijer, G.\", \"centrality\": 2.4533336705226594}, {\"entity_type\": \"unknown\", \"y\": 0.8561589913468327, \"x\": -0.16196349530644014, \"name\": \"Citroen, H.A.\", \"label\": \"\", \"centrality\": 0.4089135584461187}, {\"entity_type\": \"academic\", \"y\": -0.06181234884329631, \"x\": -0.2698060397231818, \"name\": \"Groenman, Sj.\", \"label\": \"Groenman, Sj.\", \"centrality\": 0.4711401572867366}, {\"entity_type\": \"diplomat\", \"y\": 0.5816827658222453, \"x\": 0.3941026829189528, \"name\": \"Rappard, W.E.\", \"label\": \"\", \"centrality\": 0.4089135584461187}, {\"entity_type\": \"academic\", \"y\": -0.04778221678667538, \"x\": -0.8239330013778768, \"name\": \"Edding, F.\", \"label\": \"\", \"centrality\": 0.36355765883486746}, {\"entity_type\": \"unknown\", \"y\": -0.30441996701510854, \"x\": -1.007470628340948, \"name\": \"Salin, E.\", \"label\": \"\", \"centrality\": 0.36355765883486746}, {\"entity_type\": \"academic\", \"y\": 0.8920460916193856, \"x\": -0.6542839486444785, \"name\": \"Oudegeest, J.J.\", \"label\": \"\", \"centrality\": 0.36640514417207326}, {\"entity_type\": \"academic\", \"y\": 0.6173759806520176, \"x\": -0.8366937852024114, \"name\": \"Sauvy, A.\", \"label\": \"\", \"centrality\": 0.39598333384406087}, {\"entity_type\": \"unknown\", \"y\": 0.3651427499096628, \"x\": -1.057032472676808, \"name\": \"Brink, van den , T.\", \"label\": \"\", \"centrality\": 0.36640514417207326}, {\"entity_type\": \"academic\", \"y\": -0.7722638308999193, \"x\": 0.15859818642830198, \"name\": \"Gadolin, de, A.\", \"label\": \"\", \"centrality\": 0.3795773387512091}, {\"entity_type\": \"academic\", \"y\": -0.4497303817120606, \"x\": 0.4682446695220172, \"name\": \"Zeegers, G.H.L.\", \"label\": \"\", \"centrality\": 0.5459821913383675}, {\"entity_type\": \"organisation\", \"y\": 0.6382185380957652, \"x\": -1.9678962293041886, \"name\": \"HWvanLoon Fellowship, NL regering\", \"label\": \"\", \"centrality\": 0.5234983386898007}, {\"entity_type\": \"organisation\", \"y\": 1.0114066241653135, \"x\": -1.979744641964732, \"name\": \"Institute of International Education\", \"label\": \"\", \"centrality\": 0.5234983386898007}, {\"entity_type\": \"unknown\", \"y\": 0.5115139143797299, \"x\": -2.3610710735185405, \"name\": \"Petersen, W.\", \"label\": \"\", \"centrality\": 0.5234983386898007}, {\"entity_type\": \"academic\", \"y\": 1.3495330473004068, \"x\": -2.424431464334478, \"name\": \"Hofstee, E.W.\", \"label\": \"\", \"centrality\": 0.6144049356476963}, {\"entity_type\": \"unknown\", \"y\": 0.8237084670053643, \"x\": -2.5530110947857123, \"name\": \"Davis, K.\", \"label\": \"\", \"centrality\": 0.5234983386898007}, {\"entity_type\": \"unknown\", \"y\": 1.8463901344984057, \"x\": -3.162724196995566, \"name\": \"Glass, D.V.\", \"label\": \"\", \"centrality\": 0.3855859241741623}, {\"entity_type\": \"academic\", \"y\": 0.8217307248035639, \"x\": 0.0421989269327272, \"name\": \"Mackenroth, G.\", \"label\": \"\", \"centrality\": 0.21544088523299887}, {\"entity_type\": \"unknown\", \"y\": -0.2449301026325936, \"x\": -1.1330942172474696, \"name\": \"Nixon, J.W.\", \"label\": \"Nixon, J.W.\", \"centrality\": 0.21544088523299887}, {\"entity_type\": \"unknown\", \"y\": -0.6283618321585284, \"x\": -0.6221799987314921, \"name\": \"Lannes, X.\", \"label\": \"\", \"centrality\": 0.36355765883486746}, {\"entity_type\": \"unknown\", \"y\": -0.8078148156802443, \"x\": -0.34994846761820186, \"name\": \"Mill, van, A.N.\", \"label\": \"\", \"centrality\": 0.36355765883486746}, {\"entity_type\": \"unknown\", \"y\": 0.4741734470435229, \"x\": -1.1950415781063841, \"name\": \"Mast, van der, W.\", \"label\": \"\", \"centrality\": 0.21544088523299887}, {\"entity_type\": \"unknown\", \"y\": 0.6267446518741224, \"x\": -1.0706268040564044, \"name\": \"Glinstra Bleeker, van, R.J.P.\", \"label\": \"\", \"centrality\": 0.21544088523299887}, {\"entity_type\": \"unknown\", \"y\": -0.3277595319104052, \"x\": -0.9220451669272967, \"name\": \"Sjollema, B.Ch.\", \"label\": \"\", \"centrality\": 0.21544088523299887}, {\"entity_type\": \"unknown\", \"y\": -0.6229425402854396, \"x\": 0.17642094249127876, \"name\": \"MacKay, M.C.J.\", \"label\": \"\", \"centrality\": 0.21544088523299887}, {\"entity_type\": \"unknown\", \"y\": -0.3078188329435583, \"x\": 0.42360904243627484, \"name\": \"Dorpema, H.\", \"label\": \"\", \"centrality\": 0.21544088523299887}, {\"entity_type\": \"unknown\", \"y\": -0.06826679040320902, \"x\": -0.9864914142818642, \"name\": \"Bentwich, N.\", \"label\": \"\", \"centrality\": 0.23618093538992588}, {\"entity_type\": \"unknown\", \"y\": -0.1309640351413178, \"x\": -0.7846507453087543, \"name\": \"Beveridge, W.H.\", \"label\": \"\", \"centrality\": 0.23618093538992588}, {\"entity_type\": \"unknown\", \"y\": -0.4244983579920032, \"x\": 2.849868023823933, \"name\": \"Bastos de Avila, F.\", \"label\": \"\", \"centrality\": 0.40228494750155214}, {\"entity_type\": \"unknown\", \"y\": -2.0545164632808377, \"x\": 2.2090405843035947, \"name\": \"Camillo de Oliveira, A.\", \"label\": \"\", \"centrality\": 0.40228494750155214}, {\"entity_type\": \"unknown\", \"y\": -1.7944802527031696, \"x\": 3.941091391872472, \"name\": \"Isaac, J.\", \"label\": \"\", \"centrality\": 0.40228494750155214}, {\"entity_type\": \"unknown\", \"y\": 0.7507830284545082, \"x\": -0.22138178991066812, \"name\": \"Peltier, R.\", \"label\": \"\", \"centrality\": 0.21544088523299887}, {\"entity_type\": \"unknown\", \"y\": 2.196795120907498, \"x\": -2.1694968341289416, \"name\": \"Brink, van den, T\", \"label\": \"\", \"centrality\": 0.26939472846612084}, {\"entity_type\": \"unknown\", \"y\": 0.8141977478674604, \"x\": -0.7504340635113926, \"name\": \"Meyers, H.G.\", \"label\": \"\", \"centrality\": 0.23618093538992588}, {\"entity_type\": \"unknown\", \"y\": 0.6984105689434345, \"x\": -0.566280484361636, \"name\": \"Godefroy, J.\", \"label\": \"\", \"centrality\": 0.23618093538992588}, {\"entity_type\": \"unknown\", \"y\": 0.3127652124249844, \"x\": 0.5653839022699054, \"name\": \"Radspieler, T.\", \"label\": \"\", \"centrality\": 0.23618093538992588}, {\"entity_type\": \"unknown\", \"y\": -0.6424713157881199, \"x\": -0.3235714440942732, \"name\": \"Weinberg, A.A.W.\", \"label\": \"\", \"centrality\": 0.21544088523299887}, {\"entity_type\": \"unknown\", \"y\": -0.20821014006389052, \"x\": 0.606048619204233, \"name\": \"Schmitz, J.P.G.\", \"label\": \"\", \"centrality\": 0.21544088523299887}, {\"entity_type\": \"unknown\", \"y\": -0.4918658492109328, \"x\": -0.8398762169372619, \"name\": \"Beld, van den, C.A.\", \"label\": \"\", \"centrality\": 0.21544088523299887}, {\"entity_type\": \"unknown\", \"y\": 0.9601107611285389, \"x\": 0.3372235775394735, \"name\": \"Hyrenius, H.\", \"label\": \"\", \"centrality\": 0.21544088523299887}, {\"entity_type\": \"unknown\", \"y\": 0.8293688898341324, \"x\": -1.052883140188984, \"name\": \"Mannoni, E.\", \"label\": \"\", \"centrality\": 0.21544088523299887}, {\"entity_type\": \"unknown\", \"y\": 1.000841709568654, \"x\": -0.885856478153094, \"name\": \"Belshaw, H.\", \"label\": \"\", \"centrality\": 0.21544088523299887}, {\"entity_type\": \"unknown\", \"y\": -0.21768488873649858, \"x\": -0.10056424596844143, \"name\": \"Olsson, B.\", \"label\": \"\", \"centrality\": 0.21544088523299887}, {\"entity_type\": \"unknown\", \"y\": 0.25307600478279896, \"x\": -1.253116185631082, \"name\": \"Geyl, W.F.\", \"label\": \"\", \"centrality\": 0.21544088523299887}, {\"entity_type\": \"unknown\", \"y\": 1.0910225539006786, \"x\": 0.05732765382936793, \"name\": \"Steigenga, W.\", \"label\": \"\", \"centrality\": 0.36355765883486746}, {\"entity_type\": \"unknown\", \"y\": 1.0796887116512999, \"x\": -0.25964170528187136, \"name\": \"Ipsen, G.\", \"label\": \"\", \"centrality\": 0.36355765883486746}, {\"entity_type\": \"unknown\", \"y\": 0.24532350376381548, \"x\": -1.0190721811956047, \"name\": \"Brepohl, W.\", \"label\": \"\", \"centrality\": 0.23618093538992588}, {\"entity_type\": \"unknown\", \"y\": 0.07338131424855915, \"x\": -1.1536671339731868, \"name\": \"Lehmkuhler, M.\", \"label\": \"\", \"centrality\": 0.23618093538992588}, {\"entity_type\": \"unknown\", \"y\": -0.501372264693544, \"x\": 0.37468771476112606, \"name\": \"Borrie, W.D.\", \"label\": \"\", \"centrality\": 0.21544088523299887}, {\"entity_type\": \"unknown\", \"y\": 0.024282491728368605, \"x\": 0.179121523262757, \"name\": \"Lewis, J.N.\", \"label\": \"\", \"centrality\": 0.23618093538992588}, {\"entity_type\": \"unknown\", \"y\": 0.2536281781919742, \"x\": 0.15546404469387176, \"name\": \"Sauvon, E.A.\", \"label\": \"\", \"centrality\": 0.23618093538992588}, {\"entity_type\": \"unknown\", \"y\": 1.0591061528617982, \"x\": -0.25361234448891673, \"name\": \"Maris, A.\", \"label\": \"\", \"centrality\": 0.21544088523299887}, {\"entity_type\": \"unknown\", \"y\": -0.35900903810220575, \"x\": -0.5453066814563601, \"name\": \"Pressat, R.\", \"label\": \"\", \"centrality\": 0.21544088523299887}, {\"entity_type\": \"unknown\", \"y\": -0.32642459287378967, \"x\": 0.16307521551057524, \"name\": \"Lyon, A.V.\", \"label\": \"\", \"centrality\": 0.21544088523299887}, {\"entity_type\": \"unknown\", \"y\": 0.3948085918801103, \"x\": 0.3845689019248799, \"name\": \"Neher, L.\", \"label\": \"\", \"centrality\": 0.23618093538992588}, {\"entity_type\": \"unknown\", \"y\": 0.6742500187174758, \"x\": 0.23771395628275688, \"name\": \"Herberle, R.\", \"label\": \"\", \"centrality\": 0.21544088523299887}, {\"entity_type\": \"unknown\", \"y\": 0.8121668958503723, \"x\": 0.4688294930564052, \"name\": \"Starr, M.\", \"label\": \"\", \"centrality\": 0.21544088523299887}, {\"entity_type\": \"unknown\", \"y\": 0.6783587328145464, \"x\": 0.6680355022170472, \"name\": \"Reid, I.D.A.\", \"label\": \"\", \"centrality\": 0.21544088523299887}, {\"entity_type\": \"academic\", \"y\": 1.243058144942132, \"x\": -0.1406576069462726, \"name\": \"Appleyard, R.T.\", \"label\": \"\", \"centrality\": 0.21544088523299887}, {\"entity_type\": \"unknown\", \"y\": -0.5452037182938306, \"x\": -0.025568269345816352, \"name\": \"Timlin, M.F.\", \"label\": \"Timlin, M.F.\", \"centrality\": 0.21544088523299887}, {\"entity_type\": \"unknown\", \"y\": 0.26053984606445724, \"x\": -0.7157853242292092, \"name\": \"Zubrzycki, J.\", \"label\": \"\", \"centrality\": 0.23618093538992588}, {\"entity_type\": \"unknown\", \"y\": 0.05842208657727874, \"x\": -0.5918229438787919, \"name\": \"Clemens, R.\", \"label\": \"\", \"centrality\": 0.23618093538992588}, {\"entity_type\": \"unknown\", \"y\": 0.07006467277013229, \"x\": 0.6855408670530554, \"name\": \"Verwey-Jonker, H.\", \"label\": \"\", \"centrality\": 0.5153406699852003}, {\"entity_type\": \"unknown\", \"y\": -0.12890569261730422, \"x\": 0.8658041371413948, \"name\": \"Brackel, P.O.M.\", \"label\": \"\", \"centrality\": 0.5153406699852003}, {\"entity_type\": \"unknown\", \"y\": -0.39845123065048094, \"x\": 0.7661899162980362, \"name\": \"Klompe, M.\", \"label\": \"\", \"centrality\": 0.5153406699852003}, {\"entity_type\": \"unknown\", \"y\": -0.1384859967419138, \"x\": 0.4769323661726302, \"name\": \"Verkade, W.\", \"label\": \"\", \"centrality\": 0.5153406699852003}, {\"entity_type\": \"unknown\", \"y\": 0.2203784228275408, \"x\": 0.7413674610476043, \"name\": \"Witkamp, F.Th.\", \"label\": \"\", \"centrality\": 0.23618093538992588}, {\"entity_type\": \"unknown\", \"y\": 0.035109407651901375, \"x\": 0.6770853600898775, \"name\": \"Patijn, C.L.\", \"label\": \"\", \"centrality\": 0.23618093538992588}, {\"entity_type\": \"unknown\", \"y\": 1.117383264912614, \"x\": -0.6783391894677346, \"name\": \"Witkamp, T.\", \"label\": \"\", \"centrality\": 0.21544088523299887}, {\"entity_type\": \"academic\", \"y\": 1.2108228263006533, \"x\": -0.4496505994833162, \"name\": \"Gottmann, J.\", \"label\": \"\", \"centrality\": 0.21544088523299887}, {\"entity_type\": \"unknown\", \"y\": -0.7324085939072934, \"x\": -0.1238471234050458, \"name\": \"Balhana, A.Pilatti\", \"label\": \"\", \"centrality\": 0.21544088523299887}, {\"entity_type\": \"unknown\", \"y\": -0.6107250275409184, \"x\": -0.6958500056068125, \"name\": \"Cidor, H.A.\", \"label\": \"\", \"centrality\": 0.21544088523299887}, {\"entity_type\": \"unknown\", \"y\": 0.5452716737755957, \"x\": 0.549796068899393, \"name\": \"Wentholt, R.\", \"label\": \"Wentholt, R.\", \"centrality\": 0.21544088523299887}, {\"entity_type\": \"unknown\", \"y\": -0.6846378493915273, \"x\": -0.5065985814109532, \"name\": \"Rosenfield, H.N.\", \"label\": \"\", \"centrality\": 0.21544088523299887}, {\"entity_type\": \"organisation\", \"y\": -0.9569354877267259, \"x\": -0.7118731109999872, \"name\": \"RCE\", \"label\": \"RCE\", \"centrality\": 0.055110139008871184}, {\"entity_type\": \"organisation\", \"y\": -0.4729463786217253, \"x\": -0.8966397451360644, \"name\": \"ICEM\", \"label\": \"ICEM\", \"centrality\": 0.05066130127542799}, {\"entity_type\": \"unknown\", \"y\": -0.8091935938963343, \"x\": -0.21550833480763293, \"name\": \"Hofstede, B.P.\", \"label\": \"Hofstede, B.P.\", \"centrality\": 0.05066130127542799}, {\"entity_type\": \"unknown\", \"y\": 0.5398341156062414, \"x\": -0.8488093477874371, \"name\": \"Witcover, J.\", \"label\": \"\", \"centrality\": 0.21544088523299887}, {\"entity_type\": \"unknown\", \"y\": 1.0802141056610182, \"x\": 0.014916776270484766, \"name\": \"Orleans, L.A.\", \"label\": \"\", \"centrality\": 0.21544088523299887}, {\"entity_type\": \"unknown\", \"y\": 1.1252756341900263, \"x\": 0.21397582931419074, \"name\": \"Kraak, J.H.\", \"label\": \"\", \"centrality\": 0.21544088523299887}, {\"entity_type\": \"unknown\", \"y\": 0.9631110711977832, \"x\": -0.47909596694235235, \"name\": \"Richardson, A.\", \"label\": \"Richardson, A.\", \"centrality\": 0.21544088523299887}, {\"entity_type\": \"unknown\", \"y\": -0.3945270451961729, \"x\": -0.2886394532736808, \"name\": \"Hack, H.\", \"label\": \"\", \"centrality\": 0.21544088523299887}, {\"entity_type\": \"unknown\", \"y\": -0.025088472578982085, \"x\": 0.4349230980809353, \"name\": \"Rubin, E.\", \"label\": \"\", \"centrality\": 0.21544088523299887}], \"data-3f588324ba3a42ef7585e0e645238596\": [{\"edge\": 0, \"community\": \"\", \"y\": 0.8845293568244101, \"target\": \"ICEM\", \"x\": 0.127627423183866, \"source\": \"REMP\", \"pair\": [\"REMP\", \"ICEM\"]}, {\"edge\": 0, \"community\": \"\", \"y\": 1.0433706261771527, \"target\": \"ICEM\", \"x\": -0.3381292862246156, \"source\": \"REMP\", \"pair\": [\"REMP\", \"ICEM\"]}, {\"edge\": 1, \"community\": \"\", \"y\": 0.8845293568244101, \"target\": \"RCE\", \"x\": 0.127627423183866, \"source\": \"REMP\", \"pair\": [\"REMP\", \"RCE\"]}, {\"edge\": 1, \"community\": \"\", \"y\": 0.7351886275149924, \"target\": \"RCE\", \"x\": -1.0814637936561105, \"source\": \"REMP\", \"pair\": [\"REMP\", \"RCE\"]}, {\"edge\": 2, \"community\": \"\", \"y\": 0.8845293568244101, \"target\": \"Frijda, N.H.\", \"x\": 0.127627423183866, \"source\": \"REMP\", \"pair\": [\"REMP\", \"Frijda, N.H.\"]}, {\"edge\": 2, \"community\": \"\", \"y\": 0.5693373607164051, \"target\": \"Frijda, N.H.\", \"x\": -0.46140827248206234, \"source\": \"REMP\", \"pair\": [\"REMP\", \"Frijda, N.H.\"]}, {\"edge\": 3, \"community\": \", Dutch Government\", \"y\": 0.8845293568244101, \"target\": \"Haveman, B.W.\", \"x\": 0.127627423183866, \"source\": \"REMP\", \"pair\": [\"REMP\", \"Haveman, B.W.\"]}, {\"edge\": 3, \"community\": \", Dutch Government\", \"y\": 1.197850556720531, \"target\": \"Haveman, B.W.\", \"x\": -0.8849625642751646, \"source\": \"REMP\", \"pair\": [\"REMP\", \"Haveman, B.W.\"]}, {\"edge\": 4, \"community\": \"\", \"y\": 0.8845293568244101, \"target\": \"Duijker, H.C.J.\", \"x\": 0.127627423183866, \"source\": \"REMP\", \"pair\": [\"REMP\", \"Duijker, H.C.J.\"]}, {\"edge\": 4, \"community\": \"\", \"y\": 1.7937169686697882, \"target\": \"Duijker, H.C.J.\", \"x\": -0.401882724376006, \"source\": \"REMP\", \"pair\": [\"REMP\", \"Duijker, H.C.J.\"]}, {\"edge\": 5, \"community\": \"\", \"y\": 0.8845293568244101, \"target\": \"Wentholt, R.\", \"x\": 0.127627423183866, \"source\": \"REMP\", \"pair\": [\"REMP\", \"Wentholt, R.\"]}, {\"edge\": 5, \"community\": \"\", \"y\": 0.03648040377556183, \"target\": \"Wentholt, R.\", \"x\": -0.8971111664888136, \"source\": \"REMP\", \"pair\": [\"REMP\", \"Wentholt, R.\"]}, {\"edge\": 6, \"community\": \", REMP\", \"y\": 0.8845293568244101, \"target\": \"Groenman, Sj.\", \"x\": 0.127627423183866, \"source\": \"REMP\", \"pair\": [\"REMP\", \"Groenman, Sj.\"]}, {\"edge\": 6, \"community\": \", REMP\", \"y\": 0.0892618489594651, \"target\": \"Groenman, Sj.\", \"x\": -0.06799731176975937, \"source\": \"REMP\", \"pair\": [\"REMP\", \"Groenman, Sj.\"]}, {\"edge\": 7, \"community\": \"\", \"y\": 0.8845293568244101, \"target\": \"Paikert, G.C.\", \"x\": 0.127627423183866, \"source\": \"REMP\", \"pair\": [\"REMP\", \"Paikert, G.C.\"]}, {\"edge\": 7, \"community\": \"\", \"y\": -1.4169712748088785, \"target\": \"Paikert, G.C.\", \"x\": -3.0326164637694877, \"source\": \"REMP\", \"pair\": [\"REMP\", \"Paikert, G.C.\"]}, {\"edge\": 8, \"community\": \", REMP\", \"y\": 0.8845293568244101, \"target\": \"Beijer, G.\", \"x\": 0.127627423183866, \"source\": \"REMP\", \"pair\": [\"REMP\", \"Beijer, G.\"]}, {\"edge\": 8, \"community\": \", REMP\", \"y\": -0.6178728856237422, \"target\": \"Beijer, G.\", \"x\": -2.495779471217298, \"source\": \"REMP\", \"pair\": [\"REMP\", \"Beijer, G.\"]}, {\"edge\": 9, \"community\": \"\", \"y\": 0.8845293568244101, \"target\": \"Ex, J.\", \"x\": 0.127627423183866, \"source\": \"REMP\", \"pair\": [\"REMP\", \"Ex, J.\"]}, {\"edge\": 9, \"community\": \"\", \"y\": -1.174170837225276, \"target\": \"Ex, J.\", \"x\": 2.6657268588387484, \"source\": \"REMP\", \"pair\": [\"REMP\", \"Ex, J.\"]}, {\"edge\": 10, \"community\": \"\", \"y\": 0.8845293568244101, \"target\": \"Rutten, F.J.Th.\", \"x\": 0.127627423183866, \"source\": \"REMP\", \"pair\": [\"REMP\", \"Rutten, F.J.Th.\"]}, {\"edge\": 10, \"community\": \"\", \"y\": 0.8258291627747241, \"target\": \"Rutten, F.J.Th.\", \"x\": 3.3342731411612516, \"source\": \"REMP\", \"pair\": [\"REMP\", \"Rutten, F.J.Th.\"]}, {\"edge\": 11, \"community\": \"\", \"y\": 1.0433706261771527, \"target\": \"RCE\", \"x\": -0.3381292862246156, \"source\": \"ICEM\", \"pair\": [\"ICEM\", \"RCE\"]}, {\"edge\": 11, \"community\": \"\", \"y\": 0.7351886275149924, \"target\": \"RCE\", \"x\": -1.0814637936561105, \"source\": \"ICEM\", \"pair\": [\"ICEM\", \"RCE\"]}, {\"edge\": 12, \"community\": \"\", \"y\": 1.0433706261771527, \"target\": \"Frijda, N.H.\", \"x\": -0.3381292862246156, \"source\": \"ICEM\", \"pair\": [\"ICEM\", \"Frijda, N.H.\"]}, {\"edge\": 12, \"community\": \"\", \"y\": 0.5693373607164051, \"target\": \"Frijda, N.H.\", \"x\": -0.46140827248206234, \"source\": \"ICEM\", \"pair\": [\"ICEM\", \"Frijda, N.H.\"]}, {\"edge\": 13, \"community\": \", Dutch Government\", \"y\": 1.0433706261771527, \"target\": \"Haveman, B.W.\", \"x\": -0.3381292862246156, \"source\": \"ICEM\", \"pair\": [\"ICEM\", \"Haveman, B.W.\"]}, {\"edge\": 13, \"community\": \", Dutch Government\", \"y\": 1.197850556720531, \"target\": \"Haveman, B.W.\", \"x\": -0.8849625642751646, \"source\": \"ICEM\", \"pair\": [\"ICEM\", \"Haveman, B.W.\"]}, {\"edge\": 14, \"community\": \"\", \"y\": 1.0433706261771527, \"target\": \"Duijker, H.C.J.\", \"x\": -0.3381292862246156, \"source\": \"ICEM\", \"pair\": [\"ICEM\", \"Duijker, H.C.J.\"]}, {\"edge\": 14, \"community\": \"\", \"y\": 1.7937169686697882, \"target\": \"Duijker, H.C.J.\", \"x\": -0.401882724376006, \"source\": \"ICEM\", \"pair\": [\"ICEM\", \"Duijker, H.C.J.\"]}, {\"edge\": 15, \"community\": \"\", \"y\": 1.0433706261771527, \"target\": \"Wentholt, R.\", \"x\": -0.3381292862246156, \"source\": \"ICEM\", \"pair\": [\"ICEM\", \"Wentholt, R.\"]}, {\"edge\": 15, \"community\": \"\", \"y\": 0.03648040377556183, \"target\": \"Wentholt, R.\", \"x\": -0.8971111664888136, \"source\": \"ICEM\", \"pair\": [\"ICEM\", \"Wentholt, R.\"]}, {\"edge\": 16, \"community\": \", REMP\", \"y\": 1.0433706261771527, \"target\": \"Groenman, Sj.\", \"x\": -0.3381292862246156, \"source\": \"ICEM\", \"pair\": [\"ICEM\", \"Groenman, Sj.\"]}, {\"edge\": 16, \"community\": \", REMP\", \"y\": 0.0892618489594651, \"target\": \"Groenman, Sj.\", \"x\": -0.06799731176975937, \"source\": \"ICEM\", \"pair\": [\"ICEM\", \"Groenman, Sj.\"]}, {\"edge\": 17, \"community\": \", Dutch Government\", \"y\": 1.0433706261771527, \"target\": \"Hofstede, B.P.\", \"x\": -0.3381292862246156, \"source\": \"ICEM\", \"pair\": [\"ICEM\", \"Hofstede, B.P.\"]}, {\"edge\": 17, \"community\": \", Dutch Government\", \"y\": 0.33633327419010073, \"target\": \"Hofstede, B.P.\", \"x\": -2.764117908992221, \"source\": \"ICEM\", \"pair\": [\"ICEM\", \"Hofstede, B.P.\"]}, {\"edge\": 18, \"community\": \", REMP\", \"y\": 1.0433706261771527, \"target\": \"Beijer, G.\", \"x\": -0.3381292862246156, \"source\": \"ICEM\", \"pair\": [\"ICEM\", \"Beijer, G.\"]}, {\"edge\": 18, \"community\": \", REMP\", \"y\": -0.6178728856237422, \"target\": \"Beijer, G.\", \"x\": -2.495779471217298, \"source\": \"ICEM\", \"pair\": [\"ICEM\", \"Beijer, G.\"]}, {\"edge\": 19, \"community\": \"\", \"y\": 0.7351886275149924, \"target\": \"Frijda, N.H.\", \"x\": -1.0814637936561105, \"source\": \"RCE\", \"pair\": [\"RCE\", \"Frijda, N.H.\"]}, {\"edge\": 19, \"community\": \"\", \"y\": 0.5693373607164051, \"target\": \"Frijda, N.H.\", \"x\": -0.46140827248206234, \"source\": \"RCE\", \"pair\": [\"RCE\", \"Frijda, N.H.\"]}, {\"edge\": 20, \"community\": \", Dutch Government\", \"y\": 0.7351886275149924, \"target\": \"Haveman, B.W.\", \"x\": -1.0814637936561105, \"source\": \"RCE\", \"pair\": [\"RCE\", \"Haveman, B.W.\"]}, {\"edge\": 20, \"community\": \", Dutch Government\", \"y\": 1.197850556720531, \"target\": \"Haveman, B.W.\", \"x\": -0.8849625642751646, \"source\": \"RCE\", \"pair\": [\"RCE\", \"Haveman, B.W.\"]}, {\"edge\": 21, \"community\": \"\", \"y\": 0.7351886275149924, \"target\": \"Duijker, H.C.J.\", \"x\": -1.0814637936561105, \"source\": \"RCE\", \"pair\": [\"RCE\", \"Duijker, H.C.J.\"]}, {\"edge\": 21, \"community\": \"\", \"y\": 1.7937169686697882, \"target\": \"Duijker, H.C.J.\", \"x\": -0.401882724376006, \"source\": \"RCE\", \"pair\": [\"RCE\", \"Duijker, H.C.J.\"]}, {\"edge\": 22, \"community\": \"\", \"y\": 0.7351886275149924, \"target\": \"Wentholt, R.\", \"x\": -1.0814637936561105, \"source\": \"RCE\", \"pair\": [\"RCE\", \"Wentholt, R.\"]}, {\"edge\": 22, \"community\": \"\", \"y\": 0.03648040377556183, \"target\": \"Wentholt, R.\", \"x\": -0.8971111664888136, \"source\": \"RCE\", \"pair\": [\"RCE\", \"Wentholt, R.\"]}, {\"edge\": 23, \"community\": \", REMP\", \"y\": 0.7351886275149924, \"target\": \"Groenman, Sj.\", \"x\": -1.0814637936561105, \"source\": \"RCE\", \"pair\": [\"RCE\", \"Groenman, Sj.\"]}, {\"edge\": 23, \"community\": \", REMP\", \"y\": 0.0892618489594651, \"target\": \"Groenman, Sj.\", \"x\": -0.06799731176975937, \"source\": \"RCE\", \"pair\": [\"RCE\", \"Groenman, Sj.\"]}, {\"edge\": 24, \"community\": \", Dutch Government\", \"y\": 0.5693373607164051, \"target\": \"Haveman, B.W.\", \"x\": -0.46140827248206234, \"source\": \"Frijda, N.H.\", \"pair\": [\"Frijda, N.H.\", \"Haveman, B.W.\"]}, {\"edge\": 24, \"community\": \", Dutch Government\", \"y\": 1.197850556720531, \"target\": \"Haveman, B.W.\", \"x\": -0.8849625642751646, \"source\": \"Frijda, N.H.\", \"pair\": [\"Frijda, N.H.\", \"Haveman, B.W.\"]}, {\"edge\": 25, \"community\": \"\", \"y\": 0.5693373607164051, \"target\": \"Duijker, H.C.J.\", \"x\": -0.46140827248206234, \"source\": \"Frijda, N.H.\", \"pair\": [\"Frijda, N.H.\", \"Duijker, H.C.J.\"]}, {\"edge\": 25, \"community\": \"\", \"y\": 1.7937169686697882, \"target\": \"Duijker, H.C.J.\", \"x\": -0.401882724376006, \"source\": \"Frijda, N.H.\", \"pair\": [\"Frijda, N.H.\", \"Duijker, H.C.J.\"]}, {\"edge\": 26, \"community\": \"\", \"y\": 1.197850556720531, \"target\": \"Duijker, H.C.J.\", \"x\": -0.8849625642751646, \"source\": \"Haveman, B.W.\", \"pair\": [\"Haveman, B.W.\", \"Duijker, H.C.J.\"]}, {\"edge\": 26, \"community\": \"\", \"y\": 1.7937169686697882, \"target\": \"Duijker, H.C.J.\", \"x\": -0.401882724376006, \"source\": \"Haveman, B.W.\", \"pair\": [\"Haveman, B.W.\", \"Duijker, H.C.J.\"]}, {\"edge\": 27, \"community\": \"\", \"y\": 1.197850556720531, \"target\": \"Wentholt, R.\", \"x\": -0.8849625642751646, \"source\": \"Haveman, B.W.\", \"pair\": [\"Haveman, B.W.\", \"Wentholt, R.\"]}, {\"edge\": 27, \"community\": \"\", \"y\": 0.03648040377556183, \"target\": \"Wentholt, R.\", \"x\": -0.8971111664888136, \"source\": \"Haveman, B.W.\", \"pair\": [\"Haveman, B.W.\", \"Wentholt, R.\"]}, {\"edge\": 28, \"community\": \", REMP\", \"y\": 1.197850556720531, \"target\": \"Groenman, Sj.\", \"x\": -0.8849625642751646, \"source\": \"Haveman, B.W.\", \"pair\": [\"Haveman, B.W.\", \"Groenman, Sj.\"]}, {\"edge\": 28, \"community\": \", REMP\", \"y\": 0.0892618489594651, \"target\": \"Groenman, Sj.\", \"x\": -0.06799731176975937, \"source\": \"Haveman, B.W.\", \"pair\": [\"Haveman, B.W.\", \"Groenman, Sj.\"]}, {\"edge\": 29, \"community\": \", REMP\", \"y\": -1.1226998417101615, \"target\": \"Beijer, G.\", \"x\": -1.6496642244224566, \"source\": \"Roof, M.K.\", \"pair\": [\"Roof, M.K.\", \"Beijer, G.\"]}, {\"edge\": 29, \"community\": \", REMP\", \"y\": -0.6178728856237422, \"target\": \"Beijer, G.\", \"x\": -2.495779471217298, \"source\": \"Roof, M.K.\", \"pair\": [\"Roof, M.K.\", \"Beijer, G.\"]}, {\"edge\": 30, \"community\": \", REMP\", \"y\": -0.6178728856237422, \"target\": \"Nixon, J.W.\", \"x\": -2.495779471217298, \"source\": \"Beijer, G.\", \"pair\": [\"Beijer, G.\", \"Nixon, J.W.\"]}, {\"edge\": 30, \"community\": \", REMP\", \"y\": 0.28187769382510897, \"target\": \"Nixon, J.W.\", \"x\": -2.048153191165737, \"source\": \"Beijer, G.\", \"pair\": [\"Beijer, G.\", \"Nixon, J.W.\"]}, {\"edge\": 31, \"community\": \"\", \"y\": -0.6178728856237422, \"target\": \"Boer-Lasschuyt, de, T.\", \"x\": -2.495779471217298, \"source\": \"Beijer, G.\", \"pair\": [\"Beijer, G.\", \"Boer-Lasschuyt, de, T.\"]}, {\"edge\": 31, \"community\": \"\", \"y\": -0.275637227726688, \"target\": \"Boer-Lasschuyt, de, T.\", \"x\": -3.4187697199235396, \"source\": \"Beijer, G.\", \"pair\": [\"Beijer, G.\", \"Boer-Lasschuyt, de, T.\"]}, {\"edge\": 32, \"community\": \"\", \"y\": -0.6178728856237422, \"target\": \"Makulu, H.F.\", \"x\": -2.495779471217298, \"source\": \"Beijer, G.\", \"pair\": [\"Beijer, G.\", \"Makulu, H.F.\"]}, {\"edge\": 32, \"community\": \"\", \"y\": -0.12552461741517734, \"target\": \"Makulu, H.F.\", \"x\": -2.1214058728716685, \"source\": \"Beijer, G.\", \"pair\": [\"Beijer, G.\", \"Makulu, H.F.\"]}, {\"edge\": 33, \"community\": \"\", \"y\": -0.6178728856237422, \"target\": \"Sumiya, M.\", \"x\": -2.495779471217298, \"source\": \"Beijer, G.\", \"pair\": [\"Beijer, G.\", \"Sumiya, M.\"]}, {\"edge\": 33, \"community\": \"\", \"y\": -0.7711813202359501, \"target\": \"Sumiya, M.\", \"x\": -1.8981379067355224, \"source\": \"Beijer, G.\", \"pair\": [\"Beijer, G.\", \"Sumiya, M.\"]}, {\"edge\": 34, \"community\": \"\", \"y\": -0.6178728856237422, \"target\": \"Fentener van Vlissingen, R.\", \"x\": -2.495779471217298, \"source\": \"Beijer, G.\", \"pair\": [\"Beijer, G.\", \"Fentener van Vlissingen, R.\"]}, {\"edge\": 34, \"community\": \"\", \"y\": -1.3649008086985792, \"target\": \"Fentener van Vlissingen, R.\", \"x\": -1.9258577098264105, \"source\": \"Beijer, G.\", \"pair\": [\"Beijer, G.\", \"Fentener van Vlissingen, R.\"]}, {\"edge\": 35, \"community\": \"\", \"y\": -0.6178728856237422, \"target\": \"Timlin, M.F.\", \"x\": -2.495779471217298, \"source\": \"Beijer, G.\", \"pair\": [\"Beijer, G.\", \"Timlin, M.F.\"]}, {\"edge\": 35, \"community\": \"\", \"y\": -1.5896851390734204, \"target\": \"Timlin, M.F.\", \"x\": -2.2474988666035074, \"source\": \"Beijer, G.\", \"pair\": [\"Beijer, G.\", \"Timlin, M.F.\"]}, {\"edge\": 36, \"community\": \", REMP\", \"y\": -0.6178728856237422, \"target\": \"Beijer, G.\", \"x\": -2.495779471217298, \"source\": \"Beijer, G.\", \"pair\": [\"Beijer, G.\", \"Beijer, G.\"]}, {\"edge\": 36, \"community\": \", REMP\", \"y\": -0.6178728856237422, \"target\": \"Beijer, G.\", \"x\": -2.495779471217298, \"source\": \"Beijer, G.\", \"pair\": [\"Beijer, G.\", \"Beijer, G.\"]}, {\"edge\": 37, \"community\": \"\", \"y\": -0.6178728856237422, \"target\": \"Mol, J.J.\", \"x\": -2.495779471217298, \"source\": \"Beijer, G.\", \"pair\": [\"Beijer, G.\", \"Mol, J.J.\"]}, {\"edge\": 37, \"community\": \"\", \"y\": -0.5948741386394599, \"target\": \"Mol, J.J.\", \"x\": -3.107523871579991, \"source\": \"Beijer, G.\", \"pair\": [\"Beijer, G.\", \"Mol, J.J.\"]}, {\"edge\": 38, \"community\": \"\", \"y\": -0.6178728856237422, \"target\": \"Visser t Hooft, W.A.\", \"x\": -2.495779471217298, \"source\": \"Beijer, G.\", \"pair\": [\"Beijer, G.\", \"Visser t Hooft, W.A.\"]}, {\"edge\": 38, \"community\": \"\", \"y\": -0.9327481000424063, \"target\": \"Visser t Hooft, W.A.\", \"x\": -2.9948634673397643, \"source\": \"Beijer, G.\", \"pair\": [\"Beijer, G.\", \"Visser t Hooft, W.A.\"]}, {\"edge\": 39, \"community\": \"\", \"y\": -0.6178728856237422, \"target\": \"Richardson, A.\", \"x\": -2.495779471217298, \"source\": \"Beijer, G.\", \"pair\": [\"Beijer, G.\", \"Richardson, A.\"]}, {\"edge\": 39, \"community\": \"\", \"y\": -0.007151513223752848, \"target\": \"Richardson, A.\", \"x\": -1.7231283221243847, \"source\": \"Beijer, G.\", \"pair\": [\"Beijer, G.\", \"Richardson, A.\"]}, {\"edge\": 40, \"community\": \"\", \"y\": -0.6178728856237422, \"target\": \"Taft, R.\", \"x\": -2.495779471217298, \"source\": \"Beijer, G.\", \"pair\": [\"Beijer, G.\", \"Taft, R.\"]}, {\"edge\": 40, \"community\": \"\", \"y\": -0.02897313176651306, \"target\": \"Taft, R.\", \"x\": -2.917645943507905, \"source\": \"Beijer, G.\", \"pair\": [\"Beijer, G.\", \"Taft, R.\"]}, {\"edge\": 41, \"community\": \"\", \"y\": -0.6178728856237422, \"target\": \"Doczy, A.G.\", \"x\": -2.495779471217298, \"source\": \"Beijer, G.\", \"pair\": [\"Beijer, G.\", \"Doczy, A.G.\"]}, {\"edge\": 41, \"community\": \"\", \"y\": 0.08809264629635549, \"target\": \"Doczy, A.G.\", \"x\": -3.1822227466091877, \"source\": \"Beijer, G.\", \"pair\": [\"Beijer, G.\", \"Doczy, A.G.\"]}, {\"edge\": 42, \"community\": \", REMP\", \"y\": -0.6178728856237422, \"target\": \"Weinberg, A.A.\", \"x\": -2.495779471217298, \"source\": \"Beijer, G.\", \"pair\": [\"Beijer, G.\", \"Weinberg, A.A.\"]}, {\"edge\": 42, \"community\": \", REMP\", \"y\": -0.7855356604334307, \"target\": \"Weinberg, A.A.\", \"x\": -3.4765532519941127, \"source\": \"Beijer, G.\", \"pair\": [\"Beijer, G.\", \"Weinberg, A.A.\"]}, {\"edge\": 43, \"community\": \"\", \"y\": -0.6178728856237422, \"target\": \"Guttman, L.\", \"x\": -2.495779471217298, \"source\": \"Beijer, G.\", \"pair\": [\"Beijer, G.\", \"Guttman, L.\"]}, {\"edge\": 43, \"community\": \"\", \"y\": -1.0947292525249757, \"target\": \"Guttman, L.\", \"x\": -3.370760502332928, \"source\": \"Beijer, G.\", \"pair\": [\"Beijer, G.\", \"Guttman, L.\"]}, {\"edge\": 44, \"community\": \"\", \"y\": -0.6178728856237422, \"target\": \"Paikert, G.C.\", \"x\": -2.495779471217298, \"source\": \"Beijer, G.\", \"pair\": [\"Beijer, G.\", \"Paikert, G.C.\"]}, {\"edge\": 44, \"community\": \"\", \"y\": -1.4169712748088785, \"target\": \"Paikert, G.C.\", \"x\": -3.0326164637694877, \"source\": \"Beijer, G.\", \"pair\": [\"Beijer, G.\", \"Paikert, G.C.\"]}, {\"edge\": 45, \"community\": \"\", \"y\": -0.6178728856237422, \"target\": \"Bouscaren, A.T.\", \"x\": -2.495779471217298, \"source\": \"Beijer, G.\", \"pair\": [\"Beijer, G.\", \"Bouscaren, A.T.\"]}, {\"edge\": 45, \"community\": \"\", \"y\": -1.2416181893893081, \"target\": \"Bouscaren, A.T.\", \"x\": -2.4087093381846683, \"source\": \"Beijer, G.\", \"pair\": [\"Beijer, G.\", \"Bouscaren, A.T.\"]}, {\"edge\": 46, \"community\": \"\", \"y\": -0.6178728856237422, \"target\": \"Schreuder, O.\", \"x\": -2.495779471217298, \"source\": \"Beijer, G.\", \"pair\": [\"Beijer, G.\", \"Schreuder, O.\"]}, {\"edge\": 46, \"community\": \"\", \"y\": -1.570749320427369, \"target\": \"Schreuder, O.\", \"x\": -2.685487669796482, \"source\": \"Beijer, G.\", \"pair\": [\"Beijer, G.\", \"Schreuder, O.\"]}, {\"edge\": 47, \"community\": \"\", \"y\": -0.6178728856237422, \"target\": \"Tavuchis, N.\", \"x\": -2.495779471217298, \"source\": \"Beijer, G.\", \"pair\": [\"Beijer, G.\", \"Tavuchis, N.\"]}, {\"edge\": 47, \"community\": \"\", \"y\": -0.35352677738298294, \"target\": \"Tavuchis, N.\", \"x\": -1.6001146526849577, \"source\": \"Beijer, G.\", \"pair\": [\"Beijer, G.\", \"Tavuchis, N.\"]}, {\"edge\": 48, \"community\": \"\", \"y\": -0.6178728856237422, \"target\": \"Jong, de , P.\", \"x\": -2.495779471217298, \"source\": \"Beijer, G.\", \"pair\": [\"Beijer, G.\", \"Jong, de , P.\"]}, {\"edge\": 48, \"community\": \"\", \"y\": 0.2835369012547203, \"target\": \"Jong, de , P.\", \"x\": -2.417003696085017, \"source\": \"Beijer, G.\", \"pair\": [\"Beijer, G.\", \"Jong, de , P.\"]}, {\"edge\": 49, \"community\": \"\", \"y\": -0.6178728856237422, \"target\": \"Cnossen, T.\", \"x\": -2.495779471217298, \"source\": \"Beijer, G.\", \"pair\": [\"Beijer, G.\", \"Cnossen, T.\"]}, {\"edge\": 49, \"community\": \"\", \"y\": -0.7254762082227608, \"target\": \"Cnossen, T.\", \"x\": -1.4993340379889166, \"source\": \"Beijer, G.\", \"pair\": [\"Beijer, G.\", \"Cnossen, T.\"]}, {\"edge\": 50, \"community\": \", Dutch Government\", \"y\": -0.6178728856237422, \"target\": \"Hofstede, B.P.\", \"x\": -2.495779471217298, \"source\": \"Beijer, G.\", \"pair\": [\"Beijer, G.\", \"Hofstede, B.P.\"]}, {\"edge\": 50, \"community\": \", Dutch Government\", \"y\": 0.33633327419010073, \"target\": \"Hofstede, B.P.\", \"x\": -2.764117908992221, \"source\": \"Beijer, G.\", \"pair\": [\"Beijer, G.\", \"Hofstede, B.P.\"]}, {\"edge\": 51, \"community\": \"\", \"y\": -0.6178728856237422, \"target\": \"Ex, J.\", \"x\": -2.495779471217298, \"source\": \"Beijer, G.\", \"pair\": [\"Beijer, G.\", \"Ex, J.\"]}, {\"edge\": 51, \"community\": \"\", \"y\": -1.174170837225276, \"target\": \"Ex, J.\", \"x\": 2.6657268588387484, \"source\": \"Beijer, G.\", \"pair\": [\"Beijer, G.\", \"Ex, J.\"]}, {\"edge\": 52, \"community\": \"\", \"y\": -0.6178728856237422, \"target\": \"Rutten, F.J.Th.\", \"x\": -2.495779471217298, \"source\": \"Beijer, G.\", \"pair\": [\"Beijer, G.\", \"Rutten, F.J.Th.\"]}, {\"edge\": 52, \"community\": \"\", \"y\": 0.8258291627747241, \"target\": \"Rutten, F.J.Th.\", \"x\": 3.3342731411612516, \"source\": \"Beijer, G.\", \"pair\": [\"Beijer, G.\", \"Rutten, F.J.Th.\"]}, {\"edge\": 53, \"community\": \", REMP\", \"y\": 0.03648040377556183, \"target\": \"Groenman, Sj.\", \"x\": -0.8971111664888136, \"source\": \"Wentholt, R.\", \"pair\": [\"Wentholt, R.\", \"Groenman, Sj.\"]}, {\"edge\": 53, \"community\": \", REMP\", \"y\": 0.0892618489594651, \"target\": \"Groenman, Sj.\", \"x\": -0.06799731176975937, \"source\": \"Wentholt, R.\", \"pair\": [\"Wentholt, R.\", \"Groenman, Sj.\"]}, {\"edge\": 54, \"community\": \"\", \"y\": -0.5948741386394599, \"target\": \"Visser t Hooft, W.A.\", \"x\": -3.107523871579991, \"source\": \"Mol, J.J.\", \"pair\": [\"Mol, J.J.\", \"Visser t Hooft, W.A.\"]}, {\"edge\": 54, \"community\": \"\", \"y\": -0.9327481000424063, \"target\": \"Visser t Hooft, W.A.\", \"x\": -2.9948634673397643, \"source\": \"Mol, J.J.\", \"pair\": [\"Mol, J.J.\", \"Visser t Hooft, W.A.\"]}, {\"edge\": 55, \"community\": \"\", \"y\": -0.02897313176651306, \"target\": \"Doczy, A.G.\", \"x\": -2.917645943507905, \"source\": \"Taft, R.\", \"pair\": [\"Taft, R.\", \"Doczy, A.G.\"]}, {\"edge\": 55, \"community\": \"\", \"y\": 0.08809264629635549, \"target\": \"Doczy, A.G.\", \"x\": -3.1822227466091877, \"source\": \"Taft, R.\", \"pair\": [\"Taft, R.\", \"Doczy, A.G.\"]}, {\"edge\": 56, \"community\": \"\", \"y\": -0.7855356604334307, \"target\": \"Guttman, L.\", \"x\": -3.4765532519941127, \"source\": \"Weinberg, A.A.\", \"pair\": [\"Weinberg, A.A.\", \"Guttman, L.\"]}, {\"edge\": 56, \"community\": \"\", \"y\": -1.0947292525249757, \"target\": \"Guttman, L.\", \"x\": -3.370760502332928, \"source\": \"Weinberg, A.A.\", \"pair\": [\"Weinberg, A.A.\", \"Guttman, L.\"]}, {\"edge\": 57, \"community\": \"\", \"y\": -1.174170837225276, \"target\": \"Rutten, F.J.Th.\", \"x\": 2.6657268588387484, \"source\": \"Ex, J.\", \"pair\": [\"Ex, J.\", \"Rutten, F.J.Th.\"]}, {\"edge\": 57, \"community\": \"\", \"y\": 0.8258291627747241, \"target\": \"Rutten, F.J.Th.\", \"x\": 3.3342731411612516, \"source\": \"Ex, J.\", \"pair\": [\"Ex, J.\", \"Rutten, F.J.Th.\"]}], \"data-4de09bd80aa692ffd152b57150083f5d\": [{\"entity_type\": \"organisation\", \"y\": 0.8845293568244101, \"x\": 0.127627423183866, \"name\": \"REMP\", \"label\": \"REMP\", \"centrality\": 1.570630455501364}, {\"entity_type\": \"organisation\", \"y\": 1.0433706261771527, \"x\": -0.3381292862246156, \"name\": \"ICEM\", \"label\": \"ICEM\", \"centrality\": 1.4211617420199505}, {\"entity_type\": \"organisation\", \"y\": 0.7351886275149924, \"x\": -1.0814637936561105, \"name\": \"RCE\", \"label\": \"RCE\", \"centrality\": 1.135398804520668}, {\"entity_type\": \"unknown\", \"y\": 0.5693373607164051, \"x\": -0.46140827248206234, \"name\": \"Frijda, N.H.\", \"label\": \"\", \"centrality\": 0.9041658485727068}, {\"entity_type\": \"unknown\", \"y\": 1.197850556720531, \"x\": -0.8849625642751646, \"name\": \"Haveman, B.W.\", \"label\": \"Haveman, B.W.\", \"centrality\": 1.135398804520668}, {\"entity_type\": \"unknown\", \"y\": 1.7937169686697882, \"x\": -0.401882724376006, \"name\": \"Duijker, H.C.J.\", \"label\": \"\", \"centrality\": 0.9041658485727068}, {\"entity_type\": \"unknown\", \"y\": -1.1226998417101615, \"x\": -1.6496642244224566, \"name\": \"Roof, M.K.\", \"label\": \"\", \"centrality\": 0.25911843004294755}, {\"entity_type\": \"academic\", \"y\": -0.6178728856237422, \"x\": -2.495779471217298, \"name\": \"Beijer, G.\", \"label\": \"Beijer, G.\", \"centrality\": 1.7672649459038576}, {\"entity_type\": \"unknown\", \"y\": 0.28187769382510897, \"x\": -2.048153191165737, \"name\": \"Nixon, J.W.\", \"label\": \"Nixon, J.W.\", \"centrality\": 0.25911843004294755}, {\"entity_type\": \"unknown\", \"y\": -0.275637227726688, \"x\": -3.4187697199235396, \"name\": \"Boer-Lasschuyt, de, T.\", \"label\": \"\", \"centrality\": 0.25911843004294755}, {\"entity_type\": \"unknown\", \"y\": -0.12552461741517734, \"x\": -2.1214058728716685, \"name\": \"Makulu, H.F.\", \"label\": \"\", \"centrality\": 0.25911843004294755}, {\"entity_type\": \"unknown\", \"y\": -0.7711813202359501, \"x\": -1.8981379067355224, \"name\": \"Sumiya, M.\", \"label\": \"\", \"centrality\": 0.25911843004294755}, {\"entity_type\": \"unknown\", \"y\": -1.3649008086985792, \"x\": -1.9258577098264105, \"name\": \"Fentener van Vlissingen, R.\", \"label\": \"\", \"centrality\": 0.25911843004294755}, {\"entity_type\": \"unknown\", \"y\": -1.5896851390734204, \"x\": -2.2474988666035074, \"name\": \"Timlin, M.F.\", \"label\": \"Timlin, M.F.\", \"centrality\": 0.25911843004294755}, {\"entity_type\": \"unknown\", \"y\": 0.03648040377556183, \"x\": -0.8971111664888136, \"name\": \"Wentholt, R.\", \"label\": \"Wentholt, R.\", \"centrality\": 0.9041658485727068}, {\"entity_type\": \"academic\", \"y\": 0.0892618489594651, \"x\": -0.06799731176975937, \"name\": \"Groenman, Sj.\", \"label\": \"Groenman, Sj.\", \"centrality\": 0.9041658485727068}, {\"entity_type\": \"unknown\", \"y\": -0.5948741386394599, \"x\": -3.107523871579991, \"name\": \"Mol, J.J.\", \"label\": \"\", \"centrality\": 0.3036383871670065}, {\"entity_type\": \"unknown\", \"y\": -0.9327481000424063, \"x\": -2.9948634673397643, \"name\": \"Visser t Hooft, W.A.\", \"label\": \"\", \"centrality\": 0.3036383871670065}, {\"entity_type\": \"unknown\", \"y\": -0.007151513223752848, \"x\": -1.7231283221243847, \"name\": \"Richardson, A.\", \"label\": \"Richardson, A.\", \"centrality\": 0.25911843004294755}, {\"entity_type\": \"unknown\", \"y\": -0.02897313176651306, \"x\": -2.917645943507905, \"name\": \"Taft, R.\", \"label\": \"\", \"centrality\": 0.3036383871670065}, {\"entity_type\": \"unknown\", \"y\": 0.08809264629635549, \"x\": -3.1822227466091877, \"name\": \"Doczy, A.G.\", \"label\": \"\", \"centrality\": 0.3036383871670065}, {\"entity_type\": \"unknown\", \"y\": -0.7855356604334307, \"x\": -3.4765532519941127, \"name\": \"Weinberg, A.A.\", \"label\": \"\", \"centrality\": 0.3036383871670065}, {\"entity_type\": \"unknown\", \"y\": -1.0947292525249757, \"x\": -3.370760502332928, \"name\": \"Guttman, L.\", \"label\": \"\", \"centrality\": 0.3036383871670065}, {\"entity_type\": \"unknown\", \"y\": -1.4169712748088785, \"x\": -3.0326164637694877, \"name\": \"Paikert, G.C.\", \"label\": \"\", \"centrality\": 0.48940377530097384}, {\"entity_type\": \"unknown\", \"y\": -1.2416181893893081, \"x\": -2.4087093381846683, \"name\": \"Bouscaren, A.T.\", \"label\": \"\", \"centrality\": 0.25911843004294755}, {\"entity_type\": \"unknown\", \"y\": -1.570749320427369, \"x\": -2.685487669796482, \"name\": \"Schreuder, O.\", \"label\": \"\", \"centrality\": 0.25911843004294755}, {\"entity_type\": \"unknown\", \"y\": -0.35352677738298294, \"x\": -1.6001146526849577, \"name\": \"Tavuchis, N.\", \"label\": \"\", \"centrality\": 0.25911843004294755}, {\"entity_type\": \"unknown\", \"y\": 0.2835369012547203, \"x\": -2.417003696085017, \"name\": \"Jong, de , P.\", \"label\": \"\", \"centrality\": 0.25911843004294755}, {\"entity_type\": \"unknown\", \"y\": -0.7254762082227608, \"x\": -1.4993340379889166, \"name\": \"Cnossen, T.\", \"label\": \"\", \"centrality\": 0.25911843004294755}, {\"entity_type\": \"unknown\", \"y\": 0.33633327419010073, \"x\": -2.764117908992221, \"name\": \"Hofstede, B.P.\", \"label\": \"Hofstede, B.P.\", \"centrality\": 0.4674885447453521}, {\"entity_type\": \"unknown\", \"y\": -1.174170837225276, \"x\": 2.6657268588387484, \"name\": \"Ex, J.\", \"label\": \"\", \"centrality\": 0.573489129267873}, {\"entity_type\": \"unknown\", \"y\": 0.8258291627747241, \"x\": 3.3342731411612516, \"name\": \"Rutten, F.J.Th.\", \"label\": \"\", \"centrality\": 0.573489129267873}], \"data-dae8e463f4799893d1c6978d17a9c3ff\": [{\"edge\": 0, \"community\": \", REMP\", \"y\": 0.8109776422111632, \"target\": \"Beijer, G.\", \"x\": 0.2777879708899322, \"source\": \"Jain, S.K.\", \"pair\": [\"Jain, S.K.\", \"Beijer, G.\"]}, {\"edge\": 0, \"community\": \", REMP\", \"y\": -0.0998734293163003, \"target\": \"Beijer, G.\", \"x\": 0.024297084256162036, \"source\": \"Jain, S.K.\", \"pair\": [\"Jain, S.K.\", \"Beijer, G.\"]}, {\"edge\": 1, \"community\": \"\", \"y\": -0.0998734293163003, \"target\": \"Schoenberg, H.W.\", \"x\": 0.024297084256162036, \"source\": \"Beijer, G.\", \"pair\": [\"Beijer, G.\", \"Schoenberg, H.W.\"]}, {\"edge\": 1, \"community\": \"\", \"y\": 0.762201385118318, \"target\": \"Schoenberg, H.W.\", \"x\": -0.3771294979543191, \"source\": \"Beijer, G.\", \"pair\": [\"Beijer, G.\", \"Schoenberg, H.W.\"]}, {\"edge\": 2, \"community\": \"\", \"y\": -0.0998734293163003, \"target\": \"REMP\", \"x\": 0.024297084256162036, \"source\": \"Beijer, G.\", \"pair\": [\"Beijer, G.\", \"REMP\"]}, {\"edge\": 2, \"community\": \"\", \"y\": 0.11545877288436347, \"target\": \"REMP\", \"x\": -0.010897827304427326, \"source\": \"Beijer, G.\", \"pair\": [\"Beijer, G.\", \"REMP\"]}, {\"edge\": 3, \"community\": \"\", \"y\": -0.0998734293163003, \"target\": \"Albin, A.\", \"x\": 0.024297084256162036, \"source\": \"Beijer, G.\", \"pair\": [\"Beijer, G.\", \"Albin, A.\"]}, {\"edge\": 3, \"community\": \"\", \"y\": -0.12476893495493913, \"target\": \"Albin, A.\", \"x\": 2.0, \"source\": \"Beijer, G.\", \"pair\": [\"Beijer, G.\", \"Albin, A.\"]}, {\"edge\": 4, \"community\": \"\", \"y\": -0.0998734293163003, \"target\": \"Alexander, R.\", \"x\": 0.024297084256162036, \"source\": \"Beijer, G.\", \"pair\": [\"Beijer, G.\", \"Alexander, R.\"]}, {\"edge\": 4, \"community\": \"\", \"y\": 0.665961957842714, \"target\": \"Alexander, R.\", \"x\": 4.0, \"source\": \"Beijer, G.\", \"pair\": [\"Beijer, G.\", \"Alexander, R.\"]}, {\"edge\": 5, \"community\": \"\", \"y\": -0.0998734293163003, \"target\": \"Neumann, B.\", \"x\": 0.024297084256162036, \"source\": \"Beijer, G.\", \"pair\": [\"Beijer, G.\", \"Neumann, B.\"]}, {\"edge\": 5, \"community\": \"\", \"y\": 0.7187013088349437, \"target\": \"Neumann, B.\", \"x\": -3.5998962794410896, \"source\": \"Beijer, G.\", \"pair\": [\"Beijer, G.\", \"Neumann, B.\"]}, {\"edge\": 6, \"community\": \"\", \"y\": -0.0998734293163003, \"target\": \"Mezoff, R.\", \"x\": 0.024297084256162036, \"source\": \"Beijer, G.\", \"pair\": [\"Beijer, G.\", \"Mezoff, R.\"]}, {\"edge\": 6, \"community\": \"\", \"y\": -1.2812986911650563, \"target\": \"Mezoff, R.\", \"x\": -2.398170560353174, \"source\": \"Beijer, G.\", \"pair\": [\"Beijer, G.\", \"Mezoff, R.\"]}, {\"edge\": 7, \"community\": \"\", \"y\": -0.0998734293163003, \"target\": \"Stone, K.H.\", \"x\": 0.024297084256162036, \"source\": \"Beijer, G.\", \"pair\": [\"Beijer, G.\", \"Stone, K.H.\"]}, {\"edge\": 7, \"community\": \"\", \"y\": -0.8074847934987206, \"target\": \"Stone, K.H.\", \"x\": 0.6402657159695697, \"source\": \"Beijer, G.\", \"pair\": [\"Beijer, G.\", \"Stone, K.H.\"]}, {\"edge\": 8, \"community\": \"\", \"y\": -0.0998734293163003, \"target\": \"Muller, K.D.\", \"x\": 0.024297084256162036, \"source\": \"Beijer, G.\", \"pair\": [\"Beijer, G.\", \"Muller, K.D.\"]}, {\"edge\": 8, \"community\": \"\", \"y\": 1.0742319023273688, \"target\": \"Muller, K.D.\", \"x\": 0.43514333539783073, \"source\": \"Beijer, G.\", \"pair\": [\"Beijer, G.\", \"Muller, K.D.\"]}, {\"edge\": 9, \"community\": \"\", \"y\": -0.0998734293163003, \"target\": \"Eidt, R.C.\", \"x\": 0.024297084256162036, \"source\": \"Beijer, G.\", \"pair\": [\"Beijer, G.\", \"Eidt, R.C.\"]}, {\"edge\": 9, \"community\": \"\", \"y\": 1.1181047147373178, \"target\": \"Eidt, R.C.\", \"x\": -0.3468978294251156, \"source\": \"Beijer, G.\", \"pair\": [\"Beijer, G.\", \"Eidt, R.C.\"]}, {\"edge\": 10, \"community\": \"\", \"y\": -0.0998734293163003, \"target\": \"WOTRO (Netherlands Foundation for the Advancement of Tropical Research)\", \"x\": 0.024297084256162036, \"source\": \"Beijer, G.\", \"pair\": [\"Beijer, G.\", \"WOTRO (Netherlands Foundation for the Advancement of Tropical Research)\"]}, {\"edge\": 10, \"community\": \"\", \"y\": -0.8803928212634964, \"target\": \"WOTRO (Netherlands Foundation for the Advancement of Tropical Research)\", \"x\": 0.32228357356213466, \"source\": \"Beijer, G.\", \"pair\": [\"Beijer, G.\", \"WOTRO (Netherlands Foundation for the Advancement of Tropical Research)\"]}, {\"edge\": 11, \"community\": \"\", \"y\": -0.0998734293163003, \"target\": \"Bovenkerk, F.\", \"x\": 0.024297084256162036, \"source\": \"Beijer, G.\", \"pair\": [\"Beijer, G.\", \"Bovenkerk, F.\"]}, {\"edge\": 11, \"community\": \"\", \"y\": -0.8368789949989657, \"target\": \"Bovenkerk, F.\", \"x\": -0.4533775654158664, \"source\": \"Beijer, G.\", \"pair\": [\"Beijer, G.\", \"Bovenkerk, F.\"]}, {\"edge\": 12, \"community\": \"\", \"y\": -0.0998734293163003, \"target\": \"Lattimore jr, B.G.\", \"x\": 0.024297084256162036, \"source\": \"Beijer, G.\", \"pair\": [\"Beijer, G.\", \"Lattimore jr, B.G.\"]}, {\"edge\": 12, \"community\": \"\", \"y\": 0.28681224442724573, \"target\": \"Lattimore jr, B.G.\", \"x\": -0.8474566245846393, \"source\": \"Beijer, G.\", \"pair\": [\"Beijer, G.\", \"Lattimore jr, B.G.\"]}, {\"edge\": 13, \"community\": \", ICEM\", \"y\": -0.0998734293163003, \"target\": \"Maselli, G.\", \"x\": 0.024297084256162036, \"source\": \"Beijer, G.\", \"pair\": [\"Beijer, G.\", \"Maselli, G.\"]}, {\"edge\": 13, \"community\": \", ICEM\", \"y\": -0.21973813100499504, \"target\": \"Maselli, G.\", \"x\": 0.9606741996930316, \"source\": \"Beijer, G.\", \"pair\": [\"Beijer, G.\", \"Maselli, G.\"]}, {\"edge\": 14, \"community\": \"\", \"y\": -0.0998734293163003, \"target\": \"Bernard, W.S.\", \"x\": 0.024297084256162036, \"source\": \"Beijer, G.\", \"pair\": [\"Beijer, G.\", \"Bernard, W.S.\"]}, {\"edge\": 14, \"community\": \"\", \"y\": -1.1074025350161485, \"target\": \"Bernard, W.S.\", \"x\": -0.05597186049538035, \"source\": \"Beijer, G.\", \"pair\": [\"Beijer, G.\", \"Bernard, W.S.\"]}, {\"edge\": 15, \"community\": \"\", \"y\": -0.0998734293163003, \"target\": \"Sassen, S.\", \"x\": 0.024297084256162036, \"source\": \"Beijer, G.\", \"pair\": [\"Beijer, G.\", \"Sassen, S.\"]}, {\"edge\": 15, \"community\": \"\", \"y\": 0.4292713666096717, \"target\": \"Sassen, S.\", \"x\": 0.8146513957465273, \"source\": \"Beijer, G.\", \"pair\": [\"Beijer, G.\", \"Sassen, S.\"]}, {\"edge\": 16, \"community\": \"\", \"y\": -0.0998734293163003, \"target\": \"Jorge, A.\", \"x\": 0.024297084256162036, \"source\": \"Beijer, G.\", \"pair\": [\"Beijer, G.\", \"Jorge, A.\"]}, {\"edge\": 16, \"community\": \"\", \"y\": -0.4422113443080816, \"target\": \"Jorge, A.\", \"x\": -0.8537465594723974, \"source\": \"Beijer, G.\", \"pair\": [\"Beijer, G.\", \"Jorge, A.\"]}, {\"edge\": 17, \"community\": \"\", \"y\": -0.0998734293163003, \"target\": \"Moncarz, R.\", \"x\": 0.024297084256162036, \"source\": \"Beijer, G.\", \"pair\": [\"Beijer, G.\", \"Moncarz, R.\"]}, {\"edge\": 17, \"community\": \"\", \"y\": -0.6865777553836391, \"target\": \"Moncarz, R.\", \"x\": -0.48554499870627954, \"source\": \"Beijer, G.\", \"pair\": [\"Beijer, G.\", \"Moncarz, R.\"]}, {\"edge\": 18, \"community\": \"\", \"y\": 0.11545877288436347, \"target\": \"Albin, A.\", \"x\": -0.010897827304427326, \"source\": \"REMP\", \"pair\": [\"REMP\", \"Albin, A.\"]}, {\"edge\": 18, \"community\": \"\", \"y\": -0.12476893495493913, \"target\": \"Albin, A.\", \"x\": 2.0, \"source\": \"REMP\", \"pair\": [\"REMP\", \"Albin, A.\"]}, {\"edge\": 19, \"community\": \"\", \"y\": 0.11545877288436347, \"target\": \"Alexander, R.\", \"x\": -0.010897827304427326, \"source\": \"REMP\", \"pair\": [\"REMP\", \"Alexander, R.\"]}, {\"edge\": 19, \"community\": \"\", \"y\": 0.665961957842714, \"target\": \"Alexander, R.\", \"x\": 4.0, \"source\": \"REMP\", \"pair\": [\"REMP\", \"Alexander, R.\"]}, {\"edge\": 20, \"community\": \"\", \"y\": 0.11545877288436347, \"target\": \"Neumann, B.\", \"x\": -0.010897827304427326, \"source\": \"REMP\", \"pair\": [\"REMP\", \"Neumann, B.\"]}, {\"edge\": 20, \"community\": \"\", \"y\": 0.7187013088349437, \"target\": \"Neumann, B.\", \"x\": -3.5998962794410896, \"source\": \"REMP\", \"pair\": [\"REMP\", \"Neumann, B.\"]}, {\"edge\": 21, \"community\": \"\", \"y\": 0.11545877288436347, \"target\": \"Mezoff, R.\", \"x\": -0.010897827304427326, \"source\": \"REMP\", \"pair\": [\"REMP\", \"Mezoff, R.\"]}, {\"edge\": 21, \"community\": \"\", \"y\": -1.2812986911650563, \"target\": \"Mezoff, R.\", \"x\": -2.398170560353174, \"source\": \"REMP\", \"pair\": [\"REMP\", \"Mezoff, R.\"]}, {\"edge\": 22, \"community\": \"\", \"y\": 0.11545877288436347, \"target\": \"Muller, K.D.\", \"x\": -0.010897827304427326, \"source\": \"REMP\", \"pair\": [\"REMP\", \"Muller, K.D.\"]}, {\"edge\": 22, \"community\": \"\", \"y\": 1.0742319023273688, \"target\": \"Muller, K.D.\", \"x\": 0.43514333539783073, \"source\": \"REMP\", \"pair\": [\"REMP\", \"Muller, K.D.\"]}, {\"edge\": 23, \"community\": \"\", \"y\": 0.11545877288436347, \"target\": \"Eidt, R.C.\", \"x\": -0.010897827304427326, \"source\": \"REMP\", \"pair\": [\"REMP\", \"Eidt, R.C.\"]}, {\"edge\": 23, \"community\": \"\", \"y\": 1.1181047147373178, \"target\": \"Eidt, R.C.\", \"x\": -0.3468978294251156, \"source\": \"REMP\", \"pair\": [\"REMP\", \"Eidt, R.C.\"]}, {\"edge\": 24, \"community\": \"\", \"y\": 0.11545877288436347, \"target\": \"WOTRO (Netherlands Foundation for the Advancement of Tropical Research)\", \"x\": -0.010897827304427326, \"source\": \"REMP\", \"pair\": [\"REMP\", \"WOTRO (Netherlands Foundation for the Advancement of Tropical Research)\"]}, {\"edge\": 24, \"community\": \"\", \"y\": -0.8803928212634964, \"target\": \"WOTRO (Netherlands Foundation for the Advancement of Tropical Research)\", \"x\": 0.32228357356213466, \"source\": \"REMP\", \"pair\": [\"REMP\", \"WOTRO (Netherlands Foundation for the Advancement of Tropical Research)\"]}, {\"edge\": 25, \"community\": \"\", \"y\": 0.11545877288436347, \"target\": \"Bovenkerk, F.\", \"x\": -0.010897827304427326, \"source\": \"REMP\", \"pair\": [\"REMP\", \"Bovenkerk, F.\"]}, {\"edge\": 25, \"community\": \"\", \"y\": -0.8368789949989657, \"target\": \"Bovenkerk, F.\", \"x\": -0.4533775654158664, \"source\": \"REMP\", \"pair\": [\"REMP\", \"Bovenkerk, F.\"]}, {\"edge\": 26, \"community\": \"\", \"y\": -0.12476893495493913, \"target\": \"Alexander, R.\", \"x\": 2.0, \"source\": \"Albin, A.\", \"pair\": [\"Albin, A.\", \"Alexander, R.\"]}, {\"edge\": 26, \"community\": \"\", \"y\": 0.665961957842714, \"target\": \"Alexander, R.\", \"x\": 4.0, \"source\": \"Albin, A.\", \"pair\": [\"Albin, A.\", \"Alexander, R.\"]}, {\"edge\": 27, \"community\": \"\", \"y\": 0.7187013088349437, \"target\": \"Mezoff, R.\", \"x\": -3.5998962794410896, \"source\": \"Neumann, B.\", \"pair\": [\"Neumann, B.\", \"Mezoff, R.\"]}, {\"edge\": 27, \"community\": \"\", \"y\": -1.2812986911650563, \"target\": \"Mezoff, R.\", \"x\": -2.398170560353174, \"source\": \"Neumann, B.\", \"pair\": [\"Neumann, B.\", \"Mezoff, R.\"]}, {\"edge\": 28, \"community\": \"\", \"y\": 1.0742319023273688, \"target\": \"Eidt, R.C.\", \"x\": 0.43514333539783073, \"source\": \"Muller, K.D.\", \"pair\": [\"Muller, K.D.\", \"Eidt, R.C.\"]}, {\"edge\": 28, \"community\": \"\", \"y\": 1.1181047147373178, \"target\": \"Eidt, R.C.\", \"x\": -0.3468978294251156, \"source\": \"Muller, K.D.\", \"pair\": [\"Muller, K.D.\", \"Eidt, R.C.\"]}, {\"edge\": 29, \"community\": \"\", \"y\": -0.8803928212634964, \"target\": \"Bovenkerk, F.\", \"x\": 0.32228357356213466, \"source\": \"WOTRO (Netherlands Foundation for the Advancement of Tropical Research)\", \"pair\": [\"WOTRO (Netherlands Foundation for the Advancement of Tropical Research)\", \"Bovenkerk, F.\"]}, {\"edge\": 29, \"community\": \"\", \"y\": -0.8368789949989657, \"target\": \"Bovenkerk, F.\", \"x\": -0.4533775654158664, \"source\": \"WOTRO (Netherlands Foundation for the Advancement of Tropical Research)\", \"pair\": [\"WOTRO (Netherlands Foundation for the Advancement of Tropical Research)\", \"Bovenkerk, F.\"]}, {\"edge\": 30, \"community\": \"\", \"y\": -0.4422113443080816, \"target\": \"Moncarz, R.\", \"x\": -0.8537465594723974, \"source\": \"Jorge, A.\", \"pair\": [\"Jorge, A.\", \"Moncarz, R.\"]}, {\"edge\": 30, \"community\": \"\", \"y\": -0.6865777553836391, \"target\": \"Moncarz, R.\", \"x\": -0.48554499870627954, \"source\": \"Jorge, A.\", \"pair\": [\"Jorge, A.\", \"Moncarz, R.\"]}], \"data-7b61cbfecaf7e612350fb3516accc12d\": [{\"entity_type\": \"unknown\", \"y\": 0.8109776422111632, \"x\": 0.2777879708899322, \"name\": \"Jain, S.K.\", \"label\": \"\", \"centrality\": 0.4145488379422595}, {\"entity_type\": \"academic\", \"y\": -0.0998734293163003, \"x\": 0.024297084256162036, \"name\": \"Beijer, G.\", \"label\": \"Beijer, G.\", \"centrality\": 2.2891872011127368}, {\"entity_type\": \"unknown\", \"y\": 0.762201385118318, \"x\": -0.3771294979543191, \"name\": \"Schoenberg, H.W.\", \"label\": \"\", \"centrality\": 0.4145488379422595}, {\"entity_type\": \"organisation\", \"y\": 0.11545877288436347, \"x\": -0.010897827304427326, \"name\": \"REMP\", \"label\": \"REMP\", \"centrality\": 1.6890283443509215}, {\"entity_type\": \"unknown\", \"y\": -0.12476893495493913, \"x\": 2.0, \"name\": \"Albin, A.\", \"label\": \"\", \"centrality\": 0.8797251737068877}, {\"entity_type\": \"unknown\", \"y\": 0.665961957842714, \"x\": 4.0, \"name\": \"Alexander, R.\", \"label\": \"\", \"centrality\": 0.8797251737068877}, {\"entity_type\": \"unknown\", \"y\": 0.7187013088349437, \"x\": -3.5998962794410896, \"name\": \"Neumann, B.\", \"label\": \"\", \"centrality\": 0.8797251737068877}, {\"entity_type\": \"unknown\", \"y\": -1.2812986911650563, \"x\": -2.398170560353174, \"name\": \"Mezoff, R.\", \"label\": \"\", \"centrality\": 0.8797251737068877}, {\"entity_type\": \"unknown\", \"y\": -0.8074847934987206, \"x\": 0.6402657159695697, \"name\": \"Stone, K.H.\", \"label\": \"\", \"centrality\": 0.4145488379422595}, {\"entity_type\": \"unknown\", \"y\": 1.0742319023273688, \"x\": 0.43514333539783073, \"name\": \"Muller, K.D.\", \"label\": \"\", \"centrality\": 0.8797251737068877}, {\"entity_type\": \"unknown\", \"y\": 1.1181047147373178, \"x\": -0.3468978294251156, \"name\": \"Eidt, R.C.\", \"label\": \"\", \"centrality\": 0.8797251737068877}, {\"entity_type\": \"organisation\", \"y\": -0.8803928212634964, \"x\": 0.32228357356213466, \"name\": \"WOTRO (Netherlands Foundation for the Advancement of Tropical Research)\", \"label\": \"\", \"centrality\": 0.8797251737068877}, {\"entity_type\": \"unknown\", \"y\": -0.8368789949989657, \"x\": -0.4533775654158664, \"name\": \"Bovenkerk, F.\", \"label\": \"\", \"centrality\": 0.8797251737068877}, {\"entity_type\": \"unknown\", \"y\": 0.28681224442724573, \"x\": -0.8474566245846393, \"name\": \"Lattimore jr, B.G.\", \"label\": \"\", \"centrality\": 0.4145488379422595}, {\"entity_type\": \"unknown\", \"y\": -0.21973813100499504, \"x\": 0.9606741996930316, \"name\": \"Maselli, G.\", \"label\": \"\", \"centrality\": 0.4145488379422595}, {\"entity_type\": \"unknown\", \"y\": -1.1074025350161485, \"x\": -0.05597186049538035, \"name\": \"Bernard, W.S.\", \"label\": \"\", \"centrality\": 0.4145488379422595}, {\"entity_type\": \"unknown\", \"y\": 0.4292713666096717, \"x\": 0.8146513957465273, \"name\": \"Sassen, S.\", \"label\": \"\", \"centrality\": 0.4145488379422595}, {\"entity_type\": \"unknown\", \"y\": -0.4422113443080816, \"x\": -0.8537465594723974, \"name\": \"Jorge, A.\", \"label\": \"\", \"centrality\": 0.5062207951758638}, {\"entity_type\": \"unknown\", \"y\": -0.6865777553836391, \"x\": -0.48554499870627954, \"name\": \"Moncarz, R.\", \"label\": \"\", \"centrality\": 0.5062207951758638}]}}, {\"mode\": \"vega-lite\"});\n",
       "</script>"
      ],
      "text/plain": [
       "alt.VConcatChart(...)"
      ]
     },
     "execution_count": 7,
     "metadata": {},
     "output_type": "execute_result"
    }
   ],
   "source": [
    "# Use Altair's vconcat to display them vertically\n",
    "alt.vconcat(period_charts[1950], period_charts[1960], period_charts[1970])\n"
   ]
  },
  {
   "cell_type": "markdown",
   "metadata": {
    "tags": [
     "narrative"
    ]
   },
   "source": [
    "Figure 2. Association networks of authors, diplomats and organisations related to migration management in three different periods. "
   ]
  },
  {
   "cell_type": "markdown",
   "metadata": {
    "tags": [
     "narrative"
    ]
   },
   "source": [
    "Over the whole network there were in total 134 different contributors to the volumes - 113 article authors, 23 preface authors, 6 introduction authors, 2 editors and 4 funders. Most (102) made only a single contribution of any sort, 18 made 2 contributions and only 13 contributed 3 or more times. \n",
    "\n",
    "About most authors we do not know much, but all authors we know had an academic status. Of the authors, 8 were active in other roles. REMP authors were not just from the Netherlands. For the 19 authors whose nationality is known, 7 were from the Netherlands, 2 from Germany, France and Australia each and 1 each from Brazil, Israel, Italy, Swiss, Sweden and the United Kingdom (figure 2 and table 1). "
   ]
  },
  {
   "cell_type": "markdown",
   "metadata": {
    "tags": [
     "hermeneutics",
     "hermeneutics-step"
    ]
   },
   "source": [
    "Step 1. Load the metadata records for the person entities and the records for their relationships to publications and administrator roles. "
   ]
  },
  {
   "cell_type": "code",
   "execution_count": 8,
   "metadata": {
    "tags": [
     "hermeneutics",
     "hermeneutics-step"
    ]
   },
   "outputs": [],
   "source": [
    "from iso3166 import countries\n",
    "\n",
    "import scripts.datasets as dataset_api\n",
    "from scripts.data_wrangling import get_author_list\n",
    "\n",
    "# read relationships and person categories from the datasets\n",
    "relationship_records = dataset_api.read_relationships()\n",
    "person_categories = dataset_api.read_person_categories()\n",
    "\n",
    "# Get a pandas dataframe with the authors\n",
    "author_list = get_author_list(relationship_records)\n",
    "\n"
   ]
  },
  {
   "cell_type": "markdown",
   "metadata": {
    "tags": [
     "hermeneutics",
     "hermeneutics-step"
    ]
   },
   "source": [
    "Step 2. Aggregate all persons by their country of origin and count how many people per country are active in the network."
   ]
  },
  {
   "cell_type": "code",
   "execution_count": 9,
   "metadata": {
    "tags": [
     "hermeneutics",
     "hermeneutics-step"
    ]
   },
   "outputs": [],
   "source": [
    "# count the number of authors per country\n",
    "author_country_counts = person_categories.loc[person_categories.fullname.isin(author_list)][\n",
    "    ['fullname', 'prs_country']].prs_country.value_counts().rename_axis('country').reset_index(name='number')\n",
    "\n",
    "# Map occurrences of UK to GB\n",
    "author_country_counts.loc[author_country_counts.country == 'UK', 'country'] = 'GB'\n",
    "\n",
    "# Add the numeric country codes\n",
    "author_country_counts['numeric'] = author_country_counts.country.map(lambda x: int(countries.get(x).numeric))"
   ]
  },
  {
   "cell_type": "markdown",
   "metadata": {
    "tags": [
     "hermeneutics",
     "hermeneutics-step"
    ]
   },
   "source": [
    "Step 3. Show the table of authors per country."
   ]
  },
  {
   "cell_type": "code",
   "execution_count": 10,
   "metadata": {
    "jdh": {
     "object": {
      "source": [
       "table 1: Provenance of Authors"
      ]
     }
    },
    "tags": [
     "hermeneutics",
     "table-1",
     "narrative",
     "hermeneutics-step"
    ]
   },
   "outputs": [
    {
     "data": {
      "text/html": [
       "<div>\n",
       "<style scoped>\n",
       "    .dataframe tbody tr th:only-of-type {\n",
       "        vertical-align: middle;\n",
       "    }\n",
       "\n",
       "    .dataframe tbody tr th {\n",
       "        vertical-align: top;\n",
       "    }\n",
       "\n",
       "    .dataframe thead th {\n",
       "        text-align: right;\n",
       "    }\n",
       "</style>\n",
       "<table border=\"1\" class=\"dataframe\">\n",
       "  <thead>\n",
       "    <tr style=\"text-align: right;\">\n",
       "      <th></th>\n",
       "      <th>country</th>\n",
       "      <th>number</th>\n",
       "      <th>numeric</th>\n",
       "    </tr>\n",
       "  </thead>\n",
       "  <tbody>\n",
       "    <tr>\n",
       "      <th>0</th>\n",
       "      <td>NL</td>\n",
       "      <td>7</td>\n",
       "      <td>528</td>\n",
       "    </tr>\n",
       "    <tr>\n",
       "      <th>1</th>\n",
       "      <td>FR</td>\n",
       "      <td>2</td>\n",
       "      <td>250</td>\n",
       "    </tr>\n",
       "    <tr>\n",
       "      <th>2</th>\n",
       "      <td>DE</td>\n",
       "      <td>2</td>\n",
       "      <td>276</td>\n",
       "    </tr>\n",
       "    <tr>\n",
       "      <th>3</th>\n",
       "      <td>AU</td>\n",
       "      <td>2</td>\n",
       "      <td>36</td>\n",
       "    </tr>\n",
       "    <tr>\n",
       "      <th>4</th>\n",
       "      <td>SE</td>\n",
       "      <td>1</td>\n",
       "      <td>752</td>\n",
       "    </tr>\n",
       "    <tr>\n",
       "      <th>5</th>\n",
       "      <td>CH</td>\n",
       "      <td>1</td>\n",
       "      <td>756</td>\n",
       "    </tr>\n",
       "    <tr>\n",
       "      <th>6</th>\n",
       "      <td>GB</td>\n",
       "      <td>1</td>\n",
       "      <td>826</td>\n",
       "    </tr>\n",
       "    <tr>\n",
       "      <th>7</th>\n",
       "      <td>IL</td>\n",
       "      <td>1</td>\n",
       "      <td>376</td>\n",
       "    </tr>\n",
       "    <tr>\n",
       "      <th>8</th>\n",
       "      <td>BR</td>\n",
       "      <td>1</td>\n",
       "      <td>76</td>\n",
       "    </tr>\n",
       "    <tr>\n",
       "      <th>9</th>\n",
       "      <td>IT</td>\n",
       "      <td>1</td>\n",
       "      <td>380</td>\n",
       "    </tr>\n",
       "  </tbody>\n",
       "</table>\n",
       "</div>"
      ],
      "text/plain": [
       "  country  number  numeric\n",
       "0      NL       7      528\n",
       "1      FR       2      250\n",
       "2      DE       2      276\n",
       "3      AU       2       36\n",
       "4      SE       1      752\n",
       "5      CH       1      756\n",
       "6      GB       1      826\n",
       "7      IL       1      376\n",
       "8      BR       1       76\n",
       "9      IT       1      380"
      ]
     },
     "execution_count": 10,
     "metadata": {},
     "output_type": "execute_result"
    }
   ],
   "source": [
    "author_country_counts"
   ]
  },
  {
   "cell_type": "markdown",
   "metadata": {
    "tags": [
     "hermeneutics",
     "hermeneutics-step"
    ]
   },
   "source": [
    "Step 4. Finally, visualise the country counts on a geographical map."
   ]
  },
  {
   "cell_type": "code",
   "execution_count": 11,
   "metadata": {
    "tags": [
     "hermeneutics",
     "hermeneutics-step"
    ]
   },
   "outputs": [],
   "source": [
    "from vega_datasets import data as vega_data\n",
    "\n",
    "# Data generators for the background\n",
    "sphere = alt.sphere()\n",
    "graticule = alt.graticule()\n",
    "\n",
    "colours_obj = alt.Color('number:Q',\n",
    "                        scale=alt.Scale(scheme='reds'),\n",
    "                        title=\"number\",\n",
    "                        legend=None)\n",
    "\n",
    "# Source of land data\n",
    "source = alt.topo_feature(vega_data.world_110m.url, 'countries')\n",
    "\n",
    "# Layering and configuring the components\n",
    "aut_map = alt.layer(\n",
    "    alt.Chart(sphere).mark_geoshape(fill='white'),\n",
    "    alt.Chart(graticule).mark_geoshape(stroke='white', strokeWidth=0.5),\n",
    "    alt.Chart(source\n",
    "              ).mark_geoshape(stroke='black', ).encode(\n",
    "        color=colours_obj\n",
    "    ).transform_lookup(\n",
    "        lookup='id',\n",
    "        from_=alt.LookupData(author_country_counts, key='numeric', fields=['number']))\n",
    ").project(\n",
    "    'mercator',\n",
    "    scale=100,\n",
    "    center=[-80, 70]\n",
    ").properties(width=450, height=500)\n",
    "\n",
    "# Add a histogram with number of authors per country\n",
    "histogram = alt.Chart(author_country_counts).mark_bar().encode(\n",
    "    x='country',\n",
    "    y=alt.Y('number:Q'),\n",
    "    color='number:Q'\n",
    ").properties(\n",
    "    height=400,\n",
    "    width=100\n",
    ")\n",
    "\n",
    "# concatenate the geographical author map and the histogram \n",
    "# into a horizontal compound chart\n",
    "compound_aut_chart = alt.hconcat(\n",
    "    aut_map,\n",
    "    histogram\n",
    ").configure_view(stroke=None)"
   ]
  },
  {
   "cell_type": "code",
   "execution_count": 12,
   "metadata": {
    "jdh": {
     "object": {
      "source": [
       "figure 3: Provenance of Authors"
      ]
     }
    },
    "tags": [
     "hermeneutics",
     "narrative",
     "figure-3",
     "hermeneutics-step"
    ]
   },
   "outputs": [
    {
     "data": {
      "text/html": [
       "\n",
       "<div id=\"altair-viz-a662e5c945d946c3b95684164e6dd1ce\"></div>\n",
       "<script type=\"text/javascript\">\n",
       "  (function(spec, embedOpt){\n",
       "    let outputDiv = document.currentScript.previousElementSibling;\n",
       "    if (outputDiv.id !== \"altair-viz-a662e5c945d946c3b95684164e6dd1ce\") {\n",
       "      outputDiv = document.getElementById(\"altair-viz-a662e5c945d946c3b95684164e6dd1ce\");\n",
       "    }\n",
       "    const paths = {\n",
       "      \"vega\": \"https://cdn.jsdelivr.net/npm//vega@5?noext\",\n",
       "      \"vega-lib\": \"https://cdn.jsdelivr.net/npm//vega-lib?noext\",\n",
       "      \"vega-lite\": \"https://cdn.jsdelivr.net/npm//vega-lite@4.8.1?noext\",\n",
       "      \"vega-embed\": \"https://cdn.jsdelivr.net/npm//vega-embed@6?noext\",\n",
       "    };\n",
       "\n",
       "    function loadScript(lib) {\n",
       "      return new Promise(function(resolve, reject) {\n",
       "        var s = document.createElement('script');\n",
       "        s.src = paths[lib];\n",
       "        s.async = true;\n",
       "        s.onload = () => resolve(paths[lib]);\n",
       "        s.onerror = () => reject(`Error loading script: ${paths[lib]}`);\n",
       "        document.getElementsByTagName(\"head\")[0].appendChild(s);\n",
       "      });\n",
       "    }\n",
       "\n",
       "    function showError(err) {\n",
       "      outputDiv.innerHTML = `<div class=\"error\" style=\"color:red;\">${err}</div>`;\n",
       "      throw err;\n",
       "    }\n",
       "\n",
       "    function displayChart(vegaEmbed) {\n",
       "      vegaEmbed(outputDiv, spec, embedOpt)\n",
       "        .catch(err => showError(`Javascript Error: ${err.message}<br>This usually means there's a typo in your chart specification. See the javascript console for the full traceback.`));\n",
       "    }\n",
       "\n",
       "    if(typeof define === \"function\" && define.amd) {\n",
       "      requirejs.config({paths});\n",
       "      require([\"vega-embed\"], displayChart, err => showError(`Error loading script: ${err.message}`));\n",
       "    } else if (typeof vegaEmbed === \"function\") {\n",
       "      displayChart(vegaEmbed);\n",
       "    } else {\n",
       "      loadScript(\"vega\")\n",
       "        .then(() => loadScript(\"vega-lite\"))\n",
       "        .then(() => loadScript(\"vega-embed\"))\n",
       "        .catch(showError)\n",
       "        .then(() => displayChart(vegaEmbed));\n",
       "    }\n",
       "  })({\"config\": {\"view\": {\"continuousWidth\": 400, \"continuousHeight\": 300, \"stroke\": null}}, \"hconcat\": [{\"layer\": [{\"data\": {\"sphere\": true}, \"mark\": {\"type\": \"geoshape\", \"fill\": \"white\"}}, {\"data\": {\"graticule\": true}, \"mark\": {\"type\": \"geoshape\", \"stroke\": \"white\", \"strokeWidth\": 0.5}}, {\"data\": {\"url\": \"https://cdn.jsdelivr.net/npm/vega-datasets@v1.29.0/data/world-110m.json\", \"format\": {\"feature\": \"countries\", \"type\": \"topojson\"}}, \"mark\": {\"type\": \"geoshape\", \"stroke\": \"black\"}, \"encoding\": {\"color\": {\"type\": \"quantitative\", \"field\": \"number\", \"legend\": null, \"scale\": {\"scheme\": \"reds\"}, \"title\": \"number\"}}, \"transform\": [{\"lookup\": \"id\", \"from\": {\"data\": {\"name\": \"data-e2c079776daeebdefc3d98d1fb06fb4c\"}, \"key\": \"numeric\", \"fields\": [\"number\"]}}]}], \"height\": 500, \"projection\": {\"center\": [-80, 70], \"scale\": 100, \"type\": \"mercator\"}, \"width\": 450}, {\"data\": {\"name\": \"data-e2c079776daeebdefc3d98d1fb06fb4c\"}, \"mark\": \"bar\", \"encoding\": {\"color\": {\"type\": \"quantitative\", \"field\": \"number\"}, \"x\": {\"type\": \"nominal\", \"field\": \"country\"}, \"y\": {\"type\": \"quantitative\", \"field\": \"number\"}}, \"height\": 400, \"width\": 100}], \"$schema\": \"https://vega.github.io/schema/vega-lite/v4.8.1.json\", \"datasets\": {\"data-e2c079776daeebdefc3d98d1fb06fb4c\": [{\"country\": \"NL\", \"number\": 7, \"numeric\": 528}, {\"country\": \"FR\", \"number\": 2, \"numeric\": 250}, {\"country\": \"DE\", \"number\": 2, \"numeric\": 276}, {\"country\": \"AU\", \"number\": 2, \"numeric\": 36}, {\"country\": \"SE\", \"number\": 1, \"numeric\": 752}, {\"country\": \"CH\", \"number\": 1, \"numeric\": 756}, {\"country\": \"GB\", \"number\": 1, \"numeric\": 826}, {\"country\": \"IL\", \"number\": 1, \"numeric\": 376}, {\"country\": \"BR\", \"number\": 1, \"numeric\": 76}, {\"country\": \"IT\", \"number\": 1, \"numeric\": 380}]}}, {\"mode\": \"vega-lite\"});\n",
       "</script>"
      ],
      "text/plain": [
       "alt.HConcatChart(...)"
      ]
     },
     "execution_count": 12,
     "metadata": {},
     "output_type": "execute_result"
    }
   ],
   "source": [
    "compound_aut_chart"
   ]
  },
  {
   "cell_type": "markdown",
   "metadata": {
    "tags": [
     "narrative"
    ]
   },
   "source": [
    "Some authors also fulfilled other roles in the network. Günter Beijer was the editor of the whole series and 7 wrote a preface for works in which they were not involved as authors. Groenman and Zeegers held three different roles, as they also wrote an introduction. \n",
    "\n",
    "There were 25 persons or institutions who either wrote prefaces or funded the REMP publications. ICEM was the largest supporter with 4 titles, there were another 4 financers from the Netherlands and 1 each from Swiss, France and the UK."
   ]
  },
  {
   "cell_type": "markdown",
   "metadata": {
    "tags": [
     "hermeneutics",
     "hermeneutics-step"
    ]
   },
   "source": [
    "We want to display how often each entities was involved in a publication in REMP or IM, in the role of article author, preface or introduction author, funder, editor or commissioner.\n",
    "\n",
    "Step 1. We load the records containing the relationships between persons and the publications they were involved in, combine the first name and surname columns.\n",
    "\n",
    "Step 2. We iterate over the types of roles and count how often each person had that role in a publication.\n",
    "\n",
    "Step 3. Finally, we sum the number of publications per role per person and sort the persons by how many publication they were involved in in total."
   ]
  },
  {
   "cell_type": "code",
   "execution_count": 13,
   "metadata": {
    "tags": [
     "hermeneutics",
     "hermeneutics-step"
    ]
   },
   "outputs": [],
   "source": [
    "from collections import Counter\n",
    "\n",
    "from scripts.data_wrangling import t_authors as author_columns\n",
    "from scripts.data_wrangling import add_fullname_columns, author_name_column_map\n",
    "\n",
    "relationship_records = dataset_api.read_person_relationship_records()\n",
    "# merge columns with surname and initials into fullname columns\n",
    "relationship_records = add_fullname_columns(relationship_records)\n",
    "\n",
    "# drop non-author name columns \n",
    "keepcolumns = ['series', 'volume', 'volume_title', 'year', 'funder', 'client', 'executor_org'] + author_columns\n",
    "reduced_records = relationship_records[keepcolumns].fillna('')\n",
    "\n",
    "# count the number of publications per author name and per author type\n",
    "cnted = {}\n",
    "for key in author_name_column_map:\n",
    "    cnted[key] = Counter()\n",
    "    for f in author_name_column_map[key]:\n",
    "        cnted[key].update(reduced_records[f].value_counts().to_dict())\n",
    "overview = pd.DataFrame(cnted).fillna(0)\n",
    "overview.drop(index='', inplace=True)\n",
    "\n",
    "# sum the total publications per author over all author types\n",
    "overview['total'] = overview.agg('sum', axis=1)\n",
    "\n",
    "for column in overview.columns:\n",
    "    overview[column] = overview[column].astype('int')\n",
    "    \n"
   ]
  },
  {
   "cell_type": "code",
   "execution_count": 14,
   "metadata": {
    "jdh": {
     "object": {
      "source": [
       "table 2: Role overlap in the REMP network"
      ]
     }
    },
    "tags": [
     "hermeneutics",
     "table-2",
     "narrative",
     "hermeneutics-step"
    ]
   },
   "outputs": [
    {
     "data": {
      "text/html": [
       "<div>\n",
       "<style scoped>\n",
       "    .dataframe tbody tr th:only-of-type {\n",
       "        vertical-align: middle;\n",
       "    }\n",
       "\n",
       "    .dataframe tbody tr th {\n",
       "        vertical-align: top;\n",
       "    }\n",
       "\n",
       "    .dataframe thead th {\n",
       "        text-align: right;\n",
       "    }\n",
       "</style>\n",
       "<table border=\"1\" class=\"dataframe\">\n",
       "  <thead>\n",
       "    <tr style=\"text-align: right;\">\n",
       "      <th></th>\n",
       "      <th>authors</th>\n",
       "      <th>pref_a</th>\n",
       "      <th>intro_a</th>\n",
       "      <th>editor</th>\n",
       "      <th>funder</th>\n",
       "      <th>executor_org</th>\n",
       "      <th>total</th>\n",
       "    </tr>\n",
       "  </thead>\n",
       "  <tbody>\n",
       "    <tr>\n",
       "      <th>Beijer,  G.</th>\n",
       "      <td>12</td>\n",
       "      <td>0</td>\n",
       "      <td>0</td>\n",
       "      <td>139</td>\n",
       "      <td>0</td>\n",
       "      <td>0</td>\n",
       "      <td>151</td>\n",
       "    </tr>\n",
       "    <tr>\n",
       "      <th>REMP</th>\n",
       "      <td>0</td>\n",
       "      <td>0</td>\n",
       "      <td>0</td>\n",
       "      <td>0</td>\n",
       "      <td>0</td>\n",
       "      <td>24</td>\n",
       "      <td>24</td>\n",
       "    </tr>\n",
       "    <tr>\n",
       "      <th>Hofstee,  E.W.</th>\n",
       "      <td>4</td>\n",
       "      <td>1</td>\n",
       "      <td>0</td>\n",
       "      <td>0</td>\n",
       "      <td>0</td>\n",
       "      <td>0</td>\n",
       "      <td>5</td>\n",
       "    </tr>\n",
       "    <tr>\n",
       "      <th>Groenman,  Sj.</th>\n",
       "      <td>2</td>\n",
       "      <td>2</td>\n",
       "      <td>1</td>\n",
       "      <td>0</td>\n",
       "      <td>0</td>\n",
       "      <td>0</td>\n",
       "      <td>5</td>\n",
       "    </tr>\n",
       "    <tr>\n",
       "      <th>Edding,  F.</th>\n",
       "      <td>4</td>\n",
       "      <td>0</td>\n",
       "      <td>0</td>\n",
       "      <td>0</td>\n",
       "      <td>0</td>\n",
       "      <td>0</td>\n",
       "      <td>4</td>\n",
       "    </tr>\n",
       "    <tr>\n",
       "      <th>ICEM</th>\n",
       "      <td>0</td>\n",
       "      <td>0</td>\n",
       "      <td>0</td>\n",
       "      <td>0</td>\n",
       "      <td>4</td>\n",
       "      <td>0</td>\n",
       "      <td>4</td>\n",
       "    </tr>\n",
       "    <tr>\n",
       "      <th>Radspieler,  T.</th>\n",
       "      <td>3</td>\n",
       "      <td>0</td>\n",
       "      <td>0</td>\n",
       "      <td>0</td>\n",
       "      <td>0</td>\n",
       "      <td>0</td>\n",
       "      <td>3</td>\n",
       "    </tr>\n",
       "    <tr>\n",
       "      <th>Richardson,  A.</th>\n",
       "      <td>3</td>\n",
       "      <td>0</td>\n",
       "      <td>0</td>\n",
       "      <td>0</td>\n",
       "      <td>0</td>\n",
       "      <td>0</td>\n",
       "      <td>3</td>\n",
       "    </tr>\n",
       "    <tr>\n",
       "      <th>Mol,  J.J.</th>\n",
       "      <td>3</td>\n",
       "      <td>0</td>\n",
       "      <td>0</td>\n",
       "      <td>0</td>\n",
       "      <td>0</td>\n",
       "      <td>0</td>\n",
       "      <td>3</td>\n",
       "    </tr>\n",
       "    <tr>\n",
       "      <th>Hack,  H.</th>\n",
       "      <td>3</td>\n",
       "      <td>0</td>\n",
       "      <td>0</td>\n",
       "      <td>0</td>\n",
       "      <td>0</td>\n",
       "      <td>0</td>\n",
       "      <td>3</td>\n",
       "    </tr>\n",
       "    <tr>\n",
       "      <th>Zubrzycki,  J.</th>\n",
       "      <td>3</td>\n",
       "      <td>0</td>\n",
       "      <td>0</td>\n",
       "      <td>0</td>\n",
       "      <td>0</td>\n",
       "      <td>0</td>\n",
       "      <td>3</td>\n",
       "    </tr>\n",
       "    <tr>\n",
       "      <th>Isaac,  J.</th>\n",
       "      <td>2</td>\n",
       "      <td>1</td>\n",
       "      <td>0</td>\n",
       "      <td>0</td>\n",
       "      <td>0</td>\n",
       "      <td>0</td>\n",
       "      <td>3</td>\n",
       "    </tr>\n",
       "    <tr>\n",
       "      <th>Sauvy,  A.</th>\n",
       "      <td>1</td>\n",
       "      <td>2</td>\n",
       "      <td>0</td>\n",
       "      <td>0</td>\n",
       "      <td>0</td>\n",
       "      <td>0</td>\n",
       "      <td>3</td>\n",
       "    </tr>\n",
       "    <tr>\n",
       "      <th>Zeegers,  G.H.L.</th>\n",
       "      <td>1</td>\n",
       "      <td>1</td>\n",
       "      <td>1</td>\n",
       "      <td>0</td>\n",
       "      <td>0</td>\n",
       "      <td>0</td>\n",
       "      <td>3</td>\n",
       "    </tr>\n",
       "    <tr>\n",
       "      <th>Frijda,  N.H.</th>\n",
       "      <td>2</td>\n",
       "      <td>0</td>\n",
       "      <td>0</td>\n",
       "      <td>0</td>\n",
       "      <td>0</td>\n",
       "      <td>0</td>\n",
       "      <td>2</td>\n",
       "    </tr>\n",
       "    <tr>\n",
       "      <th>Rubin,  E.</th>\n",
       "      <td>2</td>\n",
       "      <td>0</td>\n",
       "      <td>0</td>\n",
       "      <td>0</td>\n",
       "      <td>0</td>\n",
       "      <td>0</td>\n",
       "      <td>2</td>\n",
       "    </tr>\n",
       "    <tr>\n",
       "      <th>Nixon,  J.W.</th>\n",
       "      <td>2</td>\n",
       "      <td>0</td>\n",
       "      <td>0</td>\n",
       "      <td>0</td>\n",
       "      <td>0</td>\n",
       "      <td>0</td>\n",
       "      <td>2</td>\n",
       "    </tr>\n",
       "    <tr>\n",
       "      <th>Mast, van der W.</th>\n",
       "      <td>2</td>\n",
       "      <td>0</td>\n",
       "      <td>0</td>\n",
       "      <td>0</td>\n",
       "      <td>0</td>\n",
       "      <td>0</td>\n",
       "      <td>2</td>\n",
       "    </tr>\n",
       "    <tr>\n",
       "      <th>Timlin,  M.F.</th>\n",
       "      <td>2</td>\n",
       "      <td>0</td>\n",
       "      <td>0</td>\n",
       "      <td>0</td>\n",
       "      <td>0</td>\n",
       "      <td>0</td>\n",
       "      <td>2</td>\n",
       "    </tr>\n",
       "    <tr>\n",
       "      <th>Appleyard,  R.T.</th>\n",
       "      <td>2</td>\n",
       "      <td>0</td>\n",
       "      <td>0</td>\n",
       "      <td>0</td>\n",
       "      <td>0</td>\n",
       "      <td>0</td>\n",
       "      <td>2</td>\n",
       "    </tr>\n",
       "    <tr>\n",
       "      <th>Hofstede,  B.P.</th>\n",
       "      <td>2</td>\n",
       "      <td>0</td>\n",
       "      <td>0</td>\n",
       "      <td>0</td>\n",
       "      <td>0</td>\n",
       "      <td>0</td>\n",
       "      <td>2</td>\n",
       "    </tr>\n",
       "    <tr>\n",
       "      <th>Bouscaren,  A.T.</th>\n",
       "      <td>2</td>\n",
       "      <td>0</td>\n",
       "      <td>0</td>\n",
       "      <td>0</td>\n",
       "      <td>0</td>\n",
       "      <td>0</td>\n",
       "      <td>2</td>\n",
       "    </tr>\n",
       "    <tr>\n",
       "      <th>Wentholt,  R.</th>\n",
       "      <td>2</td>\n",
       "      <td>0</td>\n",
       "      <td>0</td>\n",
       "      <td>0</td>\n",
       "      <td>0</td>\n",
       "      <td>0</td>\n",
       "      <td>2</td>\n",
       "    </tr>\n",
       "    <tr>\n",
       "      <th>Gadolin, de A.</th>\n",
       "      <td>2</td>\n",
       "      <td>0</td>\n",
       "      <td>0</td>\n",
       "      <td>0</td>\n",
       "      <td>0</td>\n",
       "      <td>0</td>\n",
       "      <td>2</td>\n",
       "    </tr>\n",
       "    <tr>\n",
       "      <th>Petersen,  W.</th>\n",
       "      <td>2</td>\n",
       "      <td>0</td>\n",
       "      <td>0</td>\n",
       "      <td>0</td>\n",
       "      <td>0</td>\n",
       "      <td>0</td>\n",
       "      <td>2</td>\n",
       "    </tr>\n",
       "    <tr>\n",
       "      <th>Bastos de Avila,  F.</th>\n",
       "      <td>2</td>\n",
       "      <td>0</td>\n",
       "      <td>0</td>\n",
       "      <td>0</td>\n",
       "      <td>0</td>\n",
       "      <td>0</td>\n",
       "      <td>2</td>\n",
       "    </tr>\n",
       "    <tr>\n",
       "      <th>Rosenfield,  H.N.</th>\n",
       "      <td>2</td>\n",
       "      <td>0</td>\n",
       "      <td>0</td>\n",
       "      <td>0</td>\n",
       "      <td>0</td>\n",
       "      <td>0</td>\n",
       "      <td>2</td>\n",
       "    </tr>\n",
       "    <tr>\n",
       "      <th>Lehmkuhler,  M.</th>\n",
       "      <td>2</td>\n",
       "      <td>0</td>\n",
       "      <td>0</td>\n",
       "      <td>0</td>\n",
       "      <td>0</td>\n",
       "      <td>0</td>\n",
       "      <td>2</td>\n",
       "    </tr>\n",
       "    <tr>\n",
       "      <th>Beld, van den C.A.</th>\n",
       "      <td>2</td>\n",
       "      <td>0</td>\n",
       "      <td>0</td>\n",
       "      <td>0</td>\n",
       "      <td>0</td>\n",
       "      <td>0</td>\n",
       "      <td>2</td>\n",
       "    </tr>\n",
       "    <tr>\n",
       "      <th>Ipsen,  G.</th>\n",
       "      <td>1</td>\n",
       "      <td>1</td>\n",
       "      <td>0</td>\n",
       "      <td>0</td>\n",
       "      <td>0</td>\n",
       "      <td>0</td>\n",
       "      <td>2</td>\n",
       "    </tr>\n",
       "    <tr>\n",
       "      <th>Mill, van A.N.</th>\n",
       "      <td>1</td>\n",
       "      <td>1</td>\n",
       "      <td>0</td>\n",
       "      <td>0</td>\n",
       "      <td>0</td>\n",
       "      <td>0</td>\n",
       "      <td>2</td>\n",
       "    </tr>\n",
       "    <tr>\n",
       "      <th>Haveman,  B.W.</th>\n",
       "      <td>0</td>\n",
       "      <td>2</td>\n",
       "      <td>0</td>\n",
       "      <td>0</td>\n",
       "      <td>0</td>\n",
       "      <td>0</td>\n",
       "      <td>2</td>\n",
       "    </tr>\n",
       "    <tr>\n",
       "      <th>Lyon,  A.V.</th>\n",
       "      <td>1</td>\n",
       "      <td>0</td>\n",
       "      <td>0</td>\n",
       "      <td>0</td>\n",
       "      <td>0</td>\n",
       "      <td>0</td>\n",
       "      <td>1</td>\n",
       "    </tr>\n",
       "    <tr>\n",
       "      <th>Witkamp,  T.</th>\n",
       "      <td>1</td>\n",
       "      <td>0</td>\n",
       "      <td>0</td>\n",
       "      <td>0</td>\n",
       "      <td>0</td>\n",
       "      <td>0</td>\n",
       "      <td>1</td>\n",
       "    </tr>\n",
       "    <tr>\n",
       "      <th>Herberle,  R.</th>\n",
       "      <td>1</td>\n",
       "      <td>0</td>\n",
       "      <td>0</td>\n",
       "      <td>0</td>\n",
       "      <td>0</td>\n",
       "      <td>0</td>\n",
       "      <td>1</td>\n",
       "    </tr>\n",
       "    <tr>\n",
       "      <th>Reid,  I.D.A.</th>\n",
       "      <td>1</td>\n",
       "      <td>0</td>\n",
       "      <td>0</td>\n",
       "      <td>0</td>\n",
       "      <td>0</td>\n",
       "      <td>0</td>\n",
       "      <td>1</td>\n",
       "    </tr>\n",
       "    <tr>\n",
       "      <th>Starr,  M.</th>\n",
       "      <td>1</td>\n",
       "      <td>0</td>\n",
       "      <td>0</td>\n",
       "      <td>0</td>\n",
       "      <td>0</td>\n",
       "      <td>0</td>\n",
       "      <td>1</td>\n",
       "    </tr>\n",
       "    <tr>\n",
       "      <th>Pressat,  R.</th>\n",
       "      <td>1</td>\n",
       "      <td>0</td>\n",
       "      <td>0</td>\n",
       "      <td>0</td>\n",
       "      <td>0</td>\n",
       "      <td>0</td>\n",
       "      <td>1</td>\n",
       "    </tr>\n",
       "    <tr>\n",
       "      <th>Maris,  A.</th>\n",
       "      <td>1</td>\n",
       "      <td>0</td>\n",
       "      <td>0</td>\n",
       "      <td>0</td>\n",
       "      <td>0</td>\n",
       "      <td>0</td>\n",
       "      <td>1</td>\n",
       "    </tr>\n",
       "    <tr>\n",
       "      <th>Balhana,  A.Pilatti</th>\n",
       "      <td>1</td>\n",
       "      <td>0</td>\n",
       "      <td>0</td>\n",
       "      <td>0</td>\n",
       "      <td>0</td>\n",
       "      <td>0</td>\n",
       "      <td>1</td>\n",
       "    </tr>\n",
       "    <tr>\n",
       "      <th>Witcover,  J.</th>\n",
       "      <td>1</td>\n",
       "      <td>0</td>\n",
       "      <td>0</td>\n",
       "      <td>0</td>\n",
       "      <td>0</td>\n",
       "      <td>0</td>\n",
       "      <td>1</td>\n",
       "    </tr>\n",
       "    <tr>\n",
       "      <th>Cidor,  H.A.</th>\n",
       "      <td>1</td>\n",
       "      <td>0</td>\n",
       "      <td>0</td>\n",
       "      <td>0</td>\n",
       "      <td>0</td>\n",
       "      <td>0</td>\n",
       "      <td>1</td>\n",
       "    </tr>\n",
       "    <tr>\n",
       "      <th>Gottmann,  J.</th>\n",
       "      <td>1</td>\n",
       "      <td>0</td>\n",
       "      <td>0</td>\n",
       "      <td>0</td>\n",
       "      <td>0</td>\n",
       "      <td>0</td>\n",
       "      <td>1</td>\n",
       "    </tr>\n",
       "    <tr>\n",
       "      <th>Luckham,  B.</th>\n",
       "      <td>1</td>\n",
       "      <td>0</td>\n",
       "      <td>0</td>\n",
       "      <td>0</td>\n",
       "      <td>0</td>\n",
       "      <td>0</td>\n",
       "      <td>1</td>\n",
       "    </tr>\n",
       "    <tr>\n",
       "      <th>Orleans,  L.A.</th>\n",
       "      <td>1</td>\n",
       "      <td>0</td>\n",
       "      <td>0</td>\n",
       "      <td>0</td>\n",
       "      <td>0</td>\n",
       "      <td>0</td>\n",
       "      <td>1</td>\n",
       "    </tr>\n",
       "    <tr>\n",
       "      <th>Kraak,  J.H.</th>\n",
       "      <td>1</td>\n",
       "      <td>0</td>\n",
       "      <td>0</td>\n",
       "      <td>0</td>\n",
       "      <td>0</td>\n",
       "      <td>0</td>\n",
       "      <td>1</td>\n",
       "    </tr>\n",
       "    <tr>\n",
       "      <th>Schoenberg,  H.W.</th>\n",
       "      <td>1</td>\n",
       "      <td>0</td>\n",
       "      <td>0</td>\n",
       "      <td>0</td>\n",
       "      <td>0</td>\n",
       "      <td>0</td>\n",
       "      <td>1</td>\n",
       "    </tr>\n",
       "    <tr>\n",
       "      <th>Tavuchis,  N.</th>\n",
       "      <td>1</td>\n",
       "      <td>0</td>\n",
       "      <td>0</td>\n",
       "      <td>0</td>\n",
       "      <td>0</td>\n",
       "      <td>0</td>\n",
       "      <td>1</td>\n",
       "    </tr>\n",
       "    <tr>\n",
       "      <th>Weinberg,  A.A.</th>\n",
       "      <td>1</td>\n",
       "      <td>0</td>\n",
       "      <td>0</td>\n",
       "      <td>0</td>\n",
       "      <td>0</td>\n",
       "      <td>0</td>\n",
       "      <td>1</td>\n",
       "    </tr>\n",
       "    <tr>\n",
       "      <th>Bentwich,  N.</th>\n",
       "      <td>1</td>\n",
       "      <td>0</td>\n",
       "      <td>0</td>\n",
       "      <td>0</td>\n",
       "      <td>0</td>\n",
       "      <td>0</td>\n",
       "      <td>1</td>\n",
       "    </tr>\n",
       "    <tr>\n",
       "      <th>Schreuder,  O.</th>\n",
       "      <td>1</td>\n",
       "      <td>0</td>\n",
       "      <td>0</td>\n",
       "      <td>0</td>\n",
       "      <td>0</td>\n",
       "      <td>0</td>\n",
       "      <td>1</td>\n",
       "    </tr>\n",
       "    <tr>\n",
       "      <th>Taft,  R.</th>\n",
       "      <td>1</td>\n",
       "      <td>0</td>\n",
       "      <td>0</td>\n",
       "      <td>0</td>\n",
       "      <td>0</td>\n",
       "      <td>0</td>\n",
       "      <td>1</td>\n",
       "    </tr>\n",
       "    <tr>\n",
       "      <th>Fentener van Vlissingen,  R.</th>\n",
       "      <td>1</td>\n",
       "      <td>0</td>\n",
       "      <td>0</td>\n",
       "      <td>0</td>\n",
       "      <td>0</td>\n",
       "      <td>0</td>\n",
       "      <td>1</td>\n",
       "    </tr>\n",
       "    <tr>\n",
       "      <th>Sumiya,  M.</th>\n",
       "      <td>1</td>\n",
       "      <td>0</td>\n",
       "      <td>0</td>\n",
       "      <td>0</td>\n",
       "      <td>0</td>\n",
       "      <td>0</td>\n",
       "      <td>1</td>\n",
       "    </tr>\n",
       "    <tr>\n",
       "      <th>Makulu,  H.F.</th>\n",
       "      <td>1</td>\n",
       "      <td>0</td>\n",
       "      <td>0</td>\n",
       "      <td>0</td>\n",
       "      <td>0</td>\n",
       "      <td>0</td>\n",
       "      <td>1</td>\n",
       "    </tr>\n",
       "    <tr>\n",
       "      <th>Boer-Lasschuyt, de T.</th>\n",
       "      <td>1</td>\n",
       "      <td>0</td>\n",
       "      <td>0</td>\n",
       "      <td>0</td>\n",
       "      <td>0</td>\n",
       "      <td>0</td>\n",
       "      <td>1</td>\n",
       "    </tr>\n",
       "    <tr>\n",
       "      <th>Roof,  M.K.</th>\n",
       "      <td>1</td>\n",
       "      <td>0</td>\n",
       "      <td>0</td>\n",
       "      <td>0</td>\n",
       "      <td>0</td>\n",
       "      <td>0</td>\n",
       "      <td>1</td>\n",
       "    </tr>\n",
       "    <tr>\n",
       "      <th>Putten, v.d. A.</th>\n",
       "      <td>1</td>\n",
       "      <td>0</td>\n",
       "      <td>0</td>\n",
       "      <td>0</td>\n",
       "      <td>0</td>\n",
       "      <td>0</td>\n",
       "      <td>1</td>\n",
       "    </tr>\n",
       "    <tr>\n",
       "      <th>Heyn,  H.</th>\n",
       "      <td>1</td>\n",
       "      <td>0</td>\n",
       "      <td>0</td>\n",
       "      <td>0</td>\n",
       "      <td>0</td>\n",
       "      <td>0</td>\n",
       "      <td>1</td>\n",
       "    </tr>\n",
       "    <tr>\n",
       "      <th>Paulson,  B.</th>\n",
       "      <td>1</td>\n",
       "      <td>0</td>\n",
       "      <td>0</td>\n",
       "      <td>0</td>\n",
       "      <td>0</td>\n",
       "      <td>0</td>\n",
       "      <td>1</td>\n",
       "    </tr>\n",
       "    <tr>\n",
       "      <th>Rees,  E.</th>\n",
       "      <td>1</td>\n",
       "      <td>0</td>\n",
       "      <td>0</td>\n",
       "      <td>0</td>\n",
       "      <td>0</td>\n",
       "      <td>0</td>\n",
       "      <td>1</td>\n",
       "    </tr>\n",
       "    <tr>\n",
       "      <th>Price,  C.A.</th>\n",
       "      <td>1</td>\n",
       "      <td>0</td>\n",
       "      <td>0</td>\n",
       "      <td>0</td>\n",
       "      <td>0</td>\n",
       "      <td>0</td>\n",
       "      <td>1</td>\n",
       "    </tr>\n",
       "    <tr>\n",
       "      <th>Fagley,  R.</th>\n",
       "      <td>1</td>\n",
       "      <td>0</td>\n",
       "      <td>0</td>\n",
       "      <td>0</td>\n",
       "      <td>0</td>\n",
       "      <td>0</td>\n",
       "      <td>1</td>\n",
       "    </tr>\n",
       "    <tr>\n",
       "      <th>Borrie,  W.D.</th>\n",
       "      <td>1</td>\n",
       "      <td>0</td>\n",
       "      <td>0</td>\n",
       "      <td>0</td>\n",
       "      <td>0</td>\n",
       "      <td>0</td>\n",
       "      <td>1</td>\n",
       "    </tr>\n",
       "    <tr>\n",
       "      <th>Lewis,  J.N.</th>\n",
       "      <td>1</td>\n",
       "      <td>0</td>\n",
       "      <td>0</td>\n",
       "      <td>0</td>\n",
       "      <td>0</td>\n",
       "      <td>0</td>\n",
       "      <td>1</td>\n",
       "    </tr>\n",
       "    <tr>\n",
       "      <th>Schmitz,  J.P.G.</th>\n",
       "      <td>1</td>\n",
       "      <td>0</td>\n",
       "      <td>0</td>\n",
       "      <td>0</td>\n",
       "      <td>0</td>\n",
       "      <td>0</td>\n",
       "      <td>1</td>\n",
       "    </tr>\n",
       "    <tr>\n",
       "      <th>Geyl,  W.F.</th>\n",
       "      <td>1</td>\n",
       "      <td>0</td>\n",
       "      <td>0</td>\n",
       "      <td>0</td>\n",
       "      <td>0</td>\n",
       "      <td>0</td>\n",
       "      <td>1</td>\n",
       "    </tr>\n",
       "    <tr>\n",
       "      <th>Olsson,  B.</th>\n",
       "      <td>1</td>\n",
       "      <td>0</td>\n",
       "      <td>0</td>\n",
       "      <td>0</td>\n",
       "      <td>0</td>\n",
       "      <td>0</td>\n",
       "      <td>1</td>\n",
       "    </tr>\n",
       "    <tr>\n",
       "      <th>Jong, de  P.</th>\n",
       "      <td>1</td>\n",
       "      <td>0</td>\n",
       "      <td>0</td>\n",
       "      <td>0</td>\n",
       "      <td>0</td>\n",
       "      <td>0</td>\n",
       "      <td>1</td>\n",
       "    </tr>\n",
       "    <tr>\n",
       "      <th>Brepohl,  W.</th>\n",
       "      <td>1</td>\n",
       "      <td>0</td>\n",
       "      <td>0</td>\n",
       "      <td>0</td>\n",
       "      <td>0</td>\n",
       "      <td>0</td>\n",
       "      <td>1</td>\n",
       "    </tr>\n",
       "    <tr>\n",
       "      <th>REMP,</th>\n",
       "      <td>1</td>\n",
       "      <td>0</td>\n",
       "      <td>0</td>\n",
       "      <td>0</td>\n",
       "      <td>0</td>\n",
       "      <td>0</td>\n",
       "      <td>1</td>\n",
       "    </tr>\n",
       "    <tr>\n",
       "      <th>Witkamp,  F.Th.</th>\n",
       "      <td>1</td>\n",
       "      <td>0</td>\n",
       "      <td>0</td>\n",
       "      <td>0</td>\n",
       "      <td>0</td>\n",
       "      <td>0</td>\n",
       "      <td>1</td>\n",
       "    </tr>\n",
       "    <tr>\n",
       "      <th>Bovenkerk,  F.</th>\n",
       "      <td>1</td>\n",
       "      <td>0</td>\n",
       "      <td>0</td>\n",
       "      <td>0</td>\n",
       "      <td>0</td>\n",
       "      <td>0</td>\n",
       "      <td>1</td>\n",
       "    </tr>\n",
       "    <tr>\n",
       "      <th>Muller,  K.D.</th>\n",
       "      <td>1</td>\n",
       "      <td>0</td>\n",
       "      <td>0</td>\n",
       "      <td>0</td>\n",
       "      <td>0</td>\n",
       "      <td>0</td>\n",
       "      <td>1</td>\n",
       "    </tr>\n",
       "    <tr>\n",
       "      <th>Neumann,  B.</th>\n",
       "      <td>1</td>\n",
       "      <td>0</td>\n",
       "      <td>0</td>\n",
       "      <td>0</td>\n",
       "      <td>0</td>\n",
       "      <td>0</td>\n",
       "      <td>1</td>\n",
       "    </tr>\n",
       "    <tr>\n",
       "      <th>Albin,  A.</th>\n",
       "      <td>1</td>\n",
       "      <td>0</td>\n",
       "      <td>0</td>\n",
       "      <td>0</td>\n",
       "      <td>0</td>\n",
       "      <td>0</td>\n",
       "      <td>1</td>\n",
       "    </tr>\n",
       "    <tr>\n",
       "      <th>Wilder-Okladek,  F.</th>\n",
       "      <td>1</td>\n",
       "      <td>0</td>\n",
       "      <td>0</td>\n",
       "      <td>0</td>\n",
       "      <td>0</td>\n",
       "      <td>0</td>\n",
       "      <td>1</td>\n",
       "    </tr>\n",
       "    <tr>\n",
       "      <th>Weinstock,  S. Alexander</th>\n",
       "      <td>1</td>\n",
       "      <td>0</td>\n",
       "      <td>0</td>\n",
       "      <td>0</td>\n",
       "      <td>0</td>\n",
       "      <td>0</td>\n",
       "      <td>1</td>\n",
       "    </tr>\n",
       "    <tr>\n",
       "      <th>Johnston,  R.</th>\n",
       "      <td>1</td>\n",
       "      <td>0</td>\n",
       "      <td>0</td>\n",
       "      <td>0</td>\n",
       "      <td>0</td>\n",
       "      <td>0</td>\n",
       "      <td>1</td>\n",
       "    </tr>\n",
       "    <tr>\n",
       "      <th>Ex,  J.</th>\n",
       "      <td>1</td>\n",
       "      <td>0</td>\n",
       "      <td>0</td>\n",
       "      <td>0</td>\n",
       "      <td>0</td>\n",
       "      <td>0</td>\n",
       "      <td>1</td>\n",
       "    </tr>\n",
       "    <tr>\n",
       "      <th>Paikert,  G.C.</th>\n",
       "      <td>1</td>\n",
       "      <td>0</td>\n",
       "      <td>0</td>\n",
       "      <td>0</td>\n",
       "      <td>0</td>\n",
       "      <td>0</td>\n",
       "      <td>1</td>\n",
       "    </tr>\n",
       "    <tr>\n",
       "      <th>Verwey-Jonker,  H.</th>\n",
       "      <td>1</td>\n",
       "      <td>0</td>\n",
       "      <td>0</td>\n",
       "      <td>0</td>\n",
       "      <td>0</td>\n",
       "      <td>0</td>\n",
       "      <td>1</td>\n",
       "    </tr>\n",
       "    <tr>\n",
       "      <th>Steigenga,  W.</th>\n",
       "      <td>1</td>\n",
       "      <td>0</td>\n",
       "      <td>0</td>\n",
       "      <td>0</td>\n",
       "      <td>0</td>\n",
       "      <td>0</td>\n",
       "      <td>1</td>\n",
       "    </tr>\n",
       "    <tr>\n",
       "      <th>Lannes,  X.</th>\n",
       "      <td>1</td>\n",
       "      <td>0</td>\n",
       "      <td>0</td>\n",
       "      <td>0</td>\n",
       "      <td>0</td>\n",
       "      <td>0</td>\n",
       "      <td>1</td>\n",
       "    </tr>\n",
       "    <tr>\n",
       "      <th>Brink, van den  T.</th>\n",
       "      <td>1</td>\n",
       "      <td>0</td>\n",
       "      <td>0</td>\n",
       "      <td>0</td>\n",
       "      <td>0</td>\n",
       "      <td>0</td>\n",
       "      <td>1</td>\n",
       "    </tr>\n",
       "    <tr>\n",
       "      <th>Citroen,  H.A.</th>\n",
       "      <td>1</td>\n",
       "      <td>0</td>\n",
       "      <td>0</td>\n",
       "      <td>0</td>\n",
       "      <td>0</td>\n",
       "      <td>0</td>\n",
       "      <td>1</td>\n",
       "    </tr>\n",
       "    <tr>\n",
       "      <th>Wander,  H.</th>\n",
       "      <td>1</td>\n",
       "      <td>0</td>\n",
       "      <td>0</td>\n",
       "      <td>0</td>\n",
       "      <td>0</td>\n",
       "      <td>0</td>\n",
       "      <td>1</td>\n",
       "    </tr>\n",
       "    <tr>\n",
       "      <th>Cnossen,  T.</th>\n",
       "      <td>1</td>\n",
       "      <td>0</td>\n",
       "      <td>0</td>\n",
       "      <td>0</td>\n",
       "      <td>0</td>\n",
       "      <td>0</td>\n",
       "      <td>1</td>\n",
       "    </tr>\n",
       "    <tr>\n",
       "      <th>Jain,  S.K.</th>\n",
       "      <td>1</td>\n",
       "      <td>0</td>\n",
       "      <td>0</td>\n",
       "      <td>0</td>\n",
       "      <td>0</td>\n",
       "      <td>0</td>\n",
       "      <td>1</td>\n",
       "    </tr>\n",
       "    <tr>\n",
       "      <th>Stone,  K.H.</th>\n",
       "      <td>1</td>\n",
       "      <td>0</td>\n",
       "      <td>0</td>\n",
       "      <td>0</td>\n",
       "      <td>0</td>\n",
       "      <td>0</td>\n",
       "      <td>1</td>\n",
       "    </tr>\n",
       "    <tr>\n",
       "      <th>Peltier,  R.</th>\n",
       "      <td>1</td>\n",
       "      <td>0</td>\n",
       "      <td>0</td>\n",
       "      <td>0</td>\n",
       "      <td>0</td>\n",
       "      <td>0</td>\n",
       "      <td>1</td>\n",
       "    </tr>\n",
       "    <tr>\n",
       "      <th>Belshaw,  H.</th>\n",
       "      <td>1</td>\n",
       "      <td>0</td>\n",
       "      <td>0</td>\n",
       "      <td>0</td>\n",
       "      <td>0</td>\n",
       "      <td>0</td>\n",
       "      <td>1</td>\n",
       "    </tr>\n",
       "    <tr>\n",
       "      <th>Mannoni,  E.</th>\n",
       "      <td>1</td>\n",
       "      <td>0</td>\n",
       "      <td>0</td>\n",
       "      <td>0</td>\n",
       "      <td>0</td>\n",
       "      <td>0</td>\n",
       "      <td>1</td>\n",
       "    </tr>\n",
       "    <tr>\n",
       "      <th>Hyrenius,  H.</th>\n",
       "      <td>1</td>\n",
       "      <td>0</td>\n",
       "      <td>0</td>\n",
       "      <td>0</td>\n",
       "      <td>0</td>\n",
       "      <td>0</td>\n",
       "      <td>1</td>\n",
       "    </tr>\n",
       "    <tr>\n",
       "      <th>Weinberg,  A.A.W.</th>\n",
       "      <td>1</td>\n",
       "      <td>0</td>\n",
       "      <td>0</td>\n",
       "      <td>0</td>\n",
       "      <td>0</td>\n",
       "      <td>0</td>\n",
       "      <td>1</td>\n",
       "    </tr>\n",
       "    <tr>\n",
       "      <th>Meyers,  H.G.</th>\n",
       "      <td>1</td>\n",
       "      <td>0</td>\n",
       "      <td>0</td>\n",
       "      <td>0</td>\n",
       "      <td>0</td>\n",
       "      <td>0</td>\n",
       "      <td>1</td>\n",
       "    </tr>\n",
       "    <tr>\n",
       "      <th>Brink, van den T</th>\n",
       "      <td>1</td>\n",
       "      <td>0</td>\n",
       "      <td>0</td>\n",
       "      <td>0</td>\n",
       "      <td>0</td>\n",
       "      <td>0</td>\n",
       "      <td>1</td>\n",
       "    </tr>\n",
       "    <tr>\n",
       "      <th>Dorpema,  H.</th>\n",
       "      <td>1</td>\n",
       "      <td>0</td>\n",
       "      <td>0</td>\n",
       "      <td>0</td>\n",
       "      <td>0</td>\n",
       "      <td>0</td>\n",
       "      <td>1</td>\n",
       "    </tr>\n",
       "    <tr>\n",
       "      <th>Maselli,  G.</th>\n",
       "      <td>1</td>\n",
       "      <td>0</td>\n",
       "      <td>0</td>\n",
       "      <td>0</td>\n",
       "      <td>0</td>\n",
       "      <td>0</td>\n",
       "      <td>1</td>\n",
       "    </tr>\n",
       "    <tr>\n",
       "      <th>MacKay,  M.C.J.</th>\n",
       "      <td>1</td>\n",
       "      <td>0</td>\n",
       "      <td>0</td>\n",
       "      <td>0</td>\n",
       "      <td>0</td>\n",
       "      <td>0</td>\n",
       "      <td>1</td>\n",
       "    </tr>\n",
       "    <tr>\n",
       "      <th>Sjollema,  B.Ch.</th>\n",
       "      <td>1</td>\n",
       "      <td>0</td>\n",
       "      <td>0</td>\n",
       "      <td>0</td>\n",
       "      <td>0</td>\n",
       "      <td>0</td>\n",
       "      <td>1</td>\n",
       "    </tr>\n",
       "    <tr>\n",
       "      <th>Glinstra Bleeker, van R.J.P.</th>\n",
       "      <td>1</td>\n",
       "      <td>0</td>\n",
       "      <td>0</td>\n",
       "      <td>0</td>\n",
       "      <td>0</td>\n",
       "      <td>0</td>\n",
       "      <td>1</td>\n",
       "    </tr>\n",
       "    <tr>\n",
       "      <th>Mackenroth,  G.</th>\n",
       "      <td>1</td>\n",
       "      <td>0</td>\n",
       "      <td>0</td>\n",
       "      <td>0</td>\n",
       "      <td>0</td>\n",
       "      <td>0</td>\n",
       "      <td>1</td>\n",
       "    </tr>\n",
       "    <tr>\n",
       "      <th>Jorge,  A.</th>\n",
       "      <td>1</td>\n",
       "      <td>0</td>\n",
       "      <td>0</td>\n",
       "      <td>0</td>\n",
       "      <td>0</td>\n",
       "      <td>0</td>\n",
       "      <td>1</td>\n",
       "    </tr>\n",
       "    <tr>\n",
       "      <th>Sassen,  S.</th>\n",
       "      <td>1</td>\n",
       "      <td>0</td>\n",
       "      <td>0</td>\n",
       "      <td>0</td>\n",
       "      <td>0</td>\n",
       "      <td>0</td>\n",
       "      <td>1</td>\n",
       "    </tr>\n",
       "    <tr>\n",
       "      <th>Bernard,  W.S.</th>\n",
       "      <td>1</td>\n",
       "      <td>0</td>\n",
       "      <td>0</td>\n",
       "      <td>0</td>\n",
       "      <td>0</td>\n",
       "      <td>0</td>\n",
       "      <td>1</td>\n",
       "    </tr>\n",
       "    <tr>\n",
       "      <th>Lattimore jr,  B.G.</th>\n",
       "      <td>1</td>\n",
       "      <td>0</td>\n",
       "      <td>0</td>\n",
       "      <td>0</td>\n",
       "      <td>0</td>\n",
       "      <td>0</td>\n",
       "      <td>1</td>\n",
       "    </tr>\n",
       "    <tr>\n",
       "      <th>Oudegeest,  J.J.</th>\n",
       "      <td>1</td>\n",
       "      <td>0</td>\n",
       "      <td>0</td>\n",
       "      <td>0</td>\n",
       "      <td>0</td>\n",
       "      <td>0</td>\n",
       "      <td>1</td>\n",
       "    </tr>\n",
       "    <tr>\n",
       "      <th>Brackel,  P.O.M.</th>\n",
       "      <td>1</td>\n",
       "      <td>0</td>\n",
       "      <td>0</td>\n",
       "      <td>0</td>\n",
       "      <td>0</td>\n",
       "      <td>0</td>\n",
       "      <td>1</td>\n",
       "    </tr>\n",
       "    <tr>\n",
       "      <th>Alexander,  R.</th>\n",
       "      <td>1</td>\n",
       "      <td>0</td>\n",
       "      <td>0</td>\n",
       "      <td>0</td>\n",
       "      <td>0</td>\n",
       "      <td>0</td>\n",
       "      <td>1</td>\n",
       "    </tr>\n",
       "    <tr>\n",
       "      <th>Mezoff,  R.</th>\n",
       "      <td>1</td>\n",
       "      <td>0</td>\n",
       "      <td>0</td>\n",
       "      <td>0</td>\n",
       "      <td>0</td>\n",
       "      <td>0</td>\n",
       "      <td>1</td>\n",
       "    </tr>\n",
       "    <tr>\n",
       "      <th>Moncarz,  R.</th>\n",
       "      <td>1</td>\n",
       "      <td>0</td>\n",
       "      <td>0</td>\n",
       "      <td>0</td>\n",
       "      <td>0</td>\n",
       "      <td>0</td>\n",
       "      <td>1</td>\n",
       "    </tr>\n",
       "    <tr>\n",
       "      <th>Godefroy,  J.</th>\n",
       "      <td>1</td>\n",
       "      <td>0</td>\n",
       "      <td>0</td>\n",
       "      <td>0</td>\n",
       "      <td>0</td>\n",
       "      <td>0</td>\n",
       "      <td>1</td>\n",
       "    </tr>\n",
       "    <tr>\n",
       "      <th>Sauvon,  E.A.</th>\n",
       "      <td>1</td>\n",
       "      <td>0</td>\n",
       "      <td>0</td>\n",
       "      <td>0</td>\n",
       "      <td>0</td>\n",
       "      <td>0</td>\n",
       "      <td>1</td>\n",
       "    </tr>\n",
       "    <tr>\n",
       "      <th>Doczy,  A.G.</th>\n",
       "      <td>1</td>\n",
       "      <td>0</td>\n",
       "      <td>0</td>\n",
       "      <td>0</td>\n",
       "      <td>0</td>\n",
       "      <td>0</td>\n",
       "      <td>1</td>\n",
       "    </tr>\n",
       "    <tr>\n",
       "      <th>Klompe,  M.</th>\n",
       "      <td>0</td>\n",
       "      <td>1</td>\n",
       "      <td>0</td>\n",
       "      <td>0</td>\n",
       "      <td>0</td>\n",
       "      <td>0</td>\n",
       "      <td>1</td>\n",
       "    </tr>\n",
       "    <tr>\n",
       "      <th>Clemens,  R.</th>\n",
       "      <td>0</td>\n",
       "      <td>1</td>\n",
       "      <td>0</td>\n",
       "      <td>0</td>\n",
       "      <td>0</td>\n",
       "      <td>0</td>\n",
       "      <td>1</td>\n",
       "    </tr>\n",
       "    <tr>\n",
       "      <th>Neher,  L.</th>\n",
       "      <td>0</td>\n",
       "      <td>1</td>\n",
       "      <td>0</td>\n",
       "      <td>0</td>\n",
       "      <td>0</td>\n",
       "      <td>0</td>\n",
       "      <td>1</td>\n",
       "    </tr>\n",
       "    <tr>\n",
       "      <th>Beveridge,  W.H.</th>\n",
       "      <td>0</td>\n",
       "      <td>1</td>\n",
       "      <td>0</td>\n",
       "      <td>0</td>\n",
       "      <td>0</td>\n",
       "      <td>0</td>\n",
       "      <td>1</td>\n",
       "    </tr>\n",
       "    <tr>\n",
       "      <th>Visser t Hooft,  W.A.</th>\n",
       "      <td>0</td>\n",
       "      <td>1</td>\n",
       "      <td>0</td>\n",
       "      <td>0</td>\n",
       "      <td>0</td>\n",
       "      <td>0</td>\n",
       "      <td>1</td>\n",
       "    </tr>\n",
       "    <tr>\n",
       "      <th>Eidt,  R.C.</th>\n",
       "      <td>0</td>\n",
       "      <td>1</td>\n",
       "      <td>0</td>\n",
       "      <td>0</td>\n",
       "      <td>0</td>\n",
       "      <td>0</td>\n",
       "      <td>1</td>\n",
       "    </tr>\n",
       "    <tr>\n",
       "      <th>Rutten,  F.J.Th.</th>\n",
       "      <td>0</td>\n",
       "      <td>1</td>\n",
       "      <td>0</td>\n",
       "      <td>0</td>\n",
       "      <td>0</td>\n",
       "      <td>0</td>\n",
       "      <td>1</td>\n",
       "    </tr>\n",
       "    <tr>\n",
       "      <th>Camillo de Oliveira,  A.</th>\n",
       "      <td>0</td>\n",
       "      <td>1</td>\n",
       "      <td>0</td>\n",
       "      <td>0</td>\n",
       "      <td>0</td>\n",
       "      <td>0</td>\n",
       "      <td>1</td>\n",
       "    </tr>\n",
       "    <tr>\n",
       "      <th>Glass,  D.V.</th>\n",
       "      <td>0</td>\n",
       "      <td>1</td>\n",
       "      <td>0</td>\n",
       "      <td>0</td>\n",
       "      <td>0</td>\n",
       "      <td>0</td>\n",
       "      <td>1</td>\n",
       "    </tr>\n",
       "    <tr>\n",
       "      <th>Salin,  E.</th>\n",
       "      <td>0</td>\n",
       "      <td>1</td>\n",
       "      <td>0</td>\n",
       "      <td>0</td>\n",
       "      <td>0</td>\n",
       "      <td>0</td>\n",
       "      <td>1</td>\n",
       "    </tr>\n",
       "    <tr>\n",
       "      <th>Bouman,  P.J.</th>\n",
       "      <td>0</td>\n",
       "      <td>1</td>\n",
       "      <td>0</td>\n",
       "      <td>0</td>\n",
       "      <td>0</td>\n",
       "      <td>0</td>\n",
       "      <td>1</td>\n",
       "    </tr>\n",
       "    <tr>\n",
       "      <th>Guttman,  L.</th>\n",
       "      <td>0</td>\n",
       "      <td>1</td>\n",
       "      <td>0</td>\n",
       "      <td>0</td>\n",
       "      <td>0</td>\n",
       "      <td>0</td>\n",
       "      <td>1</td>\n",
       "    </tr>\n",
       "    <tr>\n",
       "      <th>Rappard,  W.E.</th>\n",
       "      <td>0</td>\n",
       "      <td>1</td>\n",
       "      <td>0</td>\n",
       "      <td>0</td>\n",
       "      <td>0</td>\n",
       "      <td>0</td>\n",
       "      <td>1</td>\n",
       "    </tr>\n",
       "    <tr>\n",
       "      <th>Davis,  K.</th>\n",
       "      <td>0</td>\n",
       "      <td>1</td>\n",
       "      <td>0</td>\n",
       "      <td>0</td>\n",
       "      <td>0</td>\n",
       "      <td>0</td>\n",
       "      <td>1</td>\n",
       "    </tr>\n",
       "    <tr>\n",
       "      <th>Duijker,  H.C.J.</th>\n",
       "      <td>0</td>\n",
       "      <td>0</td>\n",
       "      <td>1</td>\n",
       "      <td>0</td>\n",
       "      <td>0</td>\n",
       "      <td>0</td>\n",
       "      <td>1</td>\n",
       "    </tr>\n",
       "    <tr>\n",
       "      <th>Verkade,  W.</th>\n",
       "      <td>0</td>\n",
       "      <td>0</td>\n",
       "      <td>1</td>\n",
       "      <td>0</td>\n",
       "      <td>0</td>\n",
       "      <td>0</td>\n",
       "      <td>1</td>\n",
       "    </tr>\n",
       "    <tr>\n",
       "      <th>Patijn,  C.L.</th>\n",
       "      <td>0</td>\n",
       "      <td>0</td>\n",
       "      <td>1</td>\n",
       "      <td>0</td>\n",
       "      <td>0</td>\n",
       "      <td>0</td>\n",
       "      <td>1</td>\n",
       "    </tr>\n",
       "    <tr>\n",
       "      <th>HWvanLoon Fellowship, NL regering</th>\n",
       "      <td>0</td>\n",
       "      <td>0</td>\n",
       "      <td>0</td>\n",
       "      <td>0</td>\n",
       "      <td>1</td>\n",
       "      <td>0</td>\n",
       "      <td>1</td>\n",
       "    </tr>\n",
       "    <tr>\n",
       "      <th>WOTRO (Netherlands Foundation for the Advancement of Tropical Research)</th>\n",
       "      <td>0</td>\n",
       "      <td>0</td>\n",
       "      <td>0</td>\n",
       "      <td>0</td>\n",
       "      <td>1</td>\n",
       "      <td>0</td>\n",
       "      <td>1</td>\n",
       "    </tr>\n",
       "    <tr>\n",
       "      <th>RCE</th>\n",
       "      <td>0</td>\n",
       "      <td>0</td>\n",
       "      <td>0</td>\n",
       "      <td>0</td>\n",
       "      <td>0</td>\n",
       "      <td>1</td>\n",
       "      <td>1</td>\n",
       "    </tr>\n",
       "  </tbody>\n",
       "</table>\n",
       "</div>"
      ],
      "text/plain": [
       "                                                    authors  pref_a  intro_a  \\\n",
       "Beijer,  G.                                              12       0        0   \n",
       "REMP                                                      0       0        0   \n",
       "Hofstee,  E.W.                                            4       1        0   \n",
       "Groenman,  Sj.                                            2       2        1   \n",
       "Edding,  F.                                               4       0        0   \n",
       "ICEM                                                      0       0        0   \n",
       "Radspieler,  T.                                           3       0        0   \n",
       "Richardson,  A.                                           3       0        0   \n",
       "Mol,  J.J.                                                3       0        0   \n",
       "Hack,  H.                                                 3       0        0   \n",
       "Zubrzycki,  J.                                            3       0        0   \n",
       "Isaac,  J.                                                2       1        0   \n",
       "Sauvy,  A.                                                1       2        0   \n",
       "Zeegers,  G.H.L.                                          1       1        1   \n",
       "Frijda,  N.H.                                             2       0        0   \n",
       "Rubin,  E.                                                2       0        0   \n",
       "Nixon,  J.W.                                              2       0        0   \n",
       "Mast, van der W.                                          2       0        0   \n",
       "Timlin,  M.F.                                             2       0        0   \n",
       "Appleyard,  R.T.                                          2       0        0   \n",
       "Hofstede,  B.P.                                           2       0        0   \n",
       "Bouscaren,  A.T.                                          2       0        0   \n",
       "Wentholt,  R.                                             2       0        0   \n",
       "Gadolin, de A.                                            2       0        0   \n",
       "Petersen,  W.                                             2       0        0   \n",
       "Bastos de Avila,  F.                                      2       0        0   \n",
       "Rosenfield,  H.N.                                         2       0        0   \n",
       "Lehmkuhler,  M.                                           2       0        0   \n",
       "Beld, van den C.A.                                        2       0        0   \n",
       "Ipsen,  G.                                                1       1        0   \n",
       "Mill, van A.N.                                            1       1        0   \n",
       "Haveman,  B.W.                                            0       2        0   \n",
       "Lyon,  A.V.                                               1       0        0   \n",
       "Witkamp,  T.                                              1       0        0   \n",
       "Herberle,  R.                                             1       0        0   \n",
       "Reid,  I.D.A.                                             1       0        0   \n",
       "Starr,  M.                                                1       0        0   \n",
       "Pressat,  R.                                              1       0        0   \n",
       "Maris,  A.                                                1       0        0   \n",
       "Balhana,  A.Pilatti                                       1       0        0   \n",
       "Witcover,  J.                                             1       0        0   \n",
       "Cidor,  H.A.                                              1       0        0   \n",
       "Gottmann,  J.                                             1       0        0   \n",
       "Luckham,  B.                                              1       0        0   \n",
       "Orleans,  L.A.                                            1       0        0   \n",
       "Kraak,  J.H.                                              1       0        0   \n",
       "Schoenberg,  H.W.                                         1       0        0   \n",
       "Tavuchis,  N.                                             1       0        0   \n",
       "Weinberg,  A.A.                                           1       0        0   \n",
       "Bentwich,  N.                                             1       0        0   \n",
       "Schreuder,  O.                                            1       0        0   \n",
       "Taft,  R.                                                 1       0        0   \n",
       "Fentener van Vlissingen,  R.                              1       0        0   \n",
       "Sumiya,  M.                                               1       0        0   \n",
       "Makulu,  H.F.                                             1       0        0   \n",
       "Boer-Lasschuyt, de T.                                     1       0        0   \n",
       "Roof,  M.K.                                               1       0        0   \n",
       "Putten, v.d. A.                                           1       0        0   \n",
       "Heyn,  H.                                                 1       0        0   \n",
       "Paulson,  B.                                              1       0        0   \n",
       "Rees,  E.                                                 1       0        0   \n",
       "Price,  C.A.                                              1       0        0   \n",
       "Fagley,  R.                                               1       0        0   \n",
       "Borrie,  W.D.                                             1       0        0   \n",
       "Lewis,  J.N.                                              1       0        0   \n",
       "Schmitz,  J.P.G.                                          1       0        0   \n",
       "Geyl,  W.F.                                               1       0        0   \n",
       "Olsson,  B.                                               1       0        0   \n",
       "Jong, de  P.                                              1       0        0   \n",
       "Brepohl,  W.                                              1       0        0   \n",
       "REMP,                                                     1       0        0   \n",
       "Witkamp,  F.Th.                                           1       0        0   \n",
       "Bovenkerk,  F.                                            1       0        0   \n",
       "Muller,  K.D.                                             1       0        0   \n",
       "Neumann,  B.                                              1       0        0   \n",
       "Albin,  A.                                                1       0        0   \n",
       "Wilder-Okladek,  F.                                       1       0        0   \n",
       "Weinstock,  S. Alexander                                  1       0        0   \n",
       "Johnston,  R.                                             1       0        0   \n",
       "Ex,  J.                                                   1       0        0   \n",
       "Paikert,  G.C.                                            1       0        0   \n",
       "Verwey-Jonker,  H.                                        1       0        0   \n",
       "Steigenga,  W.                                            1       0        0   \n",
       "Lannes,  X.                                               1       0        0   \n",
       "Brink, van den  T.                                        1       0        0   \n",
       "Citroen,  H.A.                                            1       0        0   \n",
       "Wander,  H.                                               1       0        0   \n",
       "Cnossen,  T.                                              1       0        0   \n",
       "Jain,  S.K.                                               1       0        0   \n",
       "Stone,  K.H.                                              1       0        0   \n",
       "Peltier,  R.                                              1       0        0   \n",
       "Belshaw,  H.                                              1       0        0   \n",
       "Mannoni,  E.                                              1       0        0   \n",
       "Hyrenius,  H.                                             1       0        0   \n",
       "Weinberg,  A.A.W.                                         1       0        0   \n",
       "Meyers,  H.G.                                             1       0        0   \n",
       "Brink, van den T                                          1       0        0   \n",
       "Dorpema,  H.                                              1       0        0   \n",
       "Maselli,  G.                                              1       0        0   \n",
       "MacKay,  M.C.J.                                           1       0        0   \n",
       "Sjollema,  B.Ch.                                          1       0        0   \n",
       "Glinstra Bleeker, van R.J.P.                              1       0        0   \n",
       "Mackenroth,  G.                                           1       0        0   \n",
       "Jorge,  A.                                                1       0        0   \n",
       "Sassen,  S.                                               1       0        0   \n",
       "Bernard,  W.S.                                            1       0        0   \n",
       "Lattimore jr,  B.G.                                       1       0        0   \n",
       "Oudegeest,  J.J.                                          1       0        0   \n",
       "Brackel,  P.O.M.                                          1       0        0   \n",
       "Alexander,  R.                                            1       0        0   \n",
       "Mezoff,  R.                                               1       0        0   \n",
       "Moncarz,  R.                                              1       0        0   \n",
       "Godefroy,  J.                                             1       0        0   \n",
       "Sauvon,  E.A.                                             1       0        0   \n",
       "Doczy,  A.G.                                              1       0        0   \n",
       "Klompe,  M.                                               0       1        0   \n",
       "Clemens,  R.                                              0       1        0   \n",
       "Neher,  L.                                                0       1        0   \n",
       "Beveridge,  W.H.                                          0       1        0   \n",
       "Visser t Hooft,  W.A.                                     0       1        0   \n",
       "Eidt,  R.C.                                               0       1        0   \n",
       "Rutten,  F.J.Th.                                          0       1        0   \n",
       "Camillo de Oliveira,  A.                                  0       1        0   \n",
       "Glass,  D.V.                                              0       1        0   \n",
       "Salin,  E.                                                0       1        0   \n",
       "Bouman,  P.J.                                             0       1        0   \n",
       "Guttman,  L.                                              0       1        0   \n",
       "Rappard,  W.E.                                            0       1        0   \n",
       "Davis,  K.                                                0       1        0   \n",
       "Duijker,  H.C.J.                                          0       0        1   \n",
       "Verkade,  W.                                              0       0        1   \n",
       "Patijn,  C.L.                                             0       0        1   \n",
       "HWvanLoon Fellowship, NL regering                         0       0        0   \n",
       "WOTRO (Netherlands Foundation for the Advanceme...        0       0        0   \n",
       "RCE                                                       0       0        0   \n",
       "\n",
       "                                                    editor  funder  \\\n",
       "Beijer,  G.                                            139       0   \n",
       "REMP                                                     0       0   \n",
       "Hofstee,  E.W.                                           0       0   \n",
       "Groenman,  Sj.                                           0       0   \n",
       "Edding,  F.                                              0       0   \n",
       "ICEM                                                     0       4   \n",
       "Radspieler,  T.                                          0       0   \n",
       "Richardson,  A.                                          0       0   \n",
       "Mol,  J.J.                                               0       0   \n",
       "Hack,  H.                                                0       0   \n",
       "Zubrzycki,  J.                                           0       0   \n",
       "Isaac,  J.                                               0       0   \n",
       "Sauvy,  A.                                               0       0   \n",
       "Zeegers,  G.H.L.                                         0       0   \n",
       "Frijda,  N.H.                                            0       0   \n",
       "Rubin,  E.                                               0       0   \n",
       "Nixon,  J.W.                                             0       0   \n",
       "Mast, van der W.                                         0       0   \n",
       "Timlin,  M.F.                                            0       0   \n",
       "Appleyard,  R.T.                                         0       0   \n",
       "Hofstede,  B.P.                                          0       0   \n",
       "Bouscaren,  A.T.                                         0       0   \n",
       "Wentholt,  R.                                            0       0   \n",
       "Gadolin, de A.                                           0       0   \n",
       "Petersen,  W.                                            0       0   \n",
       "Bastos de Avila,  F.                                     0       0   \n",
       "Rosenfield,  H.N.                                        0       0   \n",
       "Lehmkuhler,  M.                                          0       0   \n",
       "Beld, van den C.A.                                       0       0   \n",
       "Ipsen,  G.                                               0       0   \n",
       "Mill, van A.N.                                           0       0   \n",
       "Haveman,  B.W.                                           0       0   \n",
       "Lyon,  A.V.                                              0       0   \n",
       "Witkamp,  T.                                             0       0   \n",
       "Herberle,  R.                                            0       0   \n",
       "Reid,  I.D.A.                                            0       0   \n",
       "Starr,  M.                                               0       0   \n",
       "Pressat,  R.                                             0       0   \n",
       "Maris,  A.                                               0       0   \n",
       "Balhana,  A.Pilatti                                      0       0   \n",
       "Witcover,  J.                                            0       0   \n",
       "Cidor,  H.A.                                             0       0   \n",
       "Gottmann,  J.                                            0       0   \n",
       "Luckham,  B.                                             0       0   \n",
       "Orleans,  L.A.                                           0       0   \n",
       "Kraak,  J.H.                                             0       0   \n",
       "Schoenberg,  H.W.                                        0       0   \n",
       "Tavuchis,  N.                                            0       0   \n",
       "Weinberg,  A.A.                                          0       0   \n",
       "Bentwich,  N.                                            0       0   \n",
       "Schreuder,  O.                                           0       0   \n",
       "Taft,  R.                                                0       0   \n",
       "Fentener van Vlissingen,  R.                             0       0   \n",
       "Sumiya,  M.                                              0       0   \n",
       "Makulu,  H.F.                                            0       0   \n",
       "Boer-Lasschuyt, de T.                                    0       0   \n",
       "Roof,  M.K.                                              0       0   \n",
       "Putten, v.d. A.                                          0       0   \n",
       "Heyn,  H.                                                0       0   \n",
       "Paulson,  B.                                             0       0   \n",
       "Rees,  E.                                                0       0   \n",
       "Price,  C.A.                                             0       0   \n",
       "Fagley,  R.                                              0       0   \n",
       "Borrie,  W.D.                                            0       0   \n",
       "Lewis,  J.N.                                             0       0   \n",
       "Schmitz,  J.P.G.                                         0       0   \n",
       "Geyl,  W.F.                                              0       0   \n",
       "Olsson,  B.                                              0       0   \n",
       "Jong, de  P.                                             0       0   \n",
       "Brepohl,  W.                                             0       0   \n",
       "REMP,                                                    0       0   \n",
       "Witkamp,  F.Th.                                          0       0   \n",
       "Bovenkerk,  F.                                           0       0   \n",
       "Muller,  K.D.                                            0       0   \n",
       "Neumann,  B.                                             0       0   \n",
       "Albin,  A.                                               0       0   \n",
       "Wilder-Okladek,  F.                                      0       0   \n",
       "Weinstock,  S. Alexander                                 0       0   \n",
       "Johnston,  R.                                            0       0   \n",
       "Ex,  J.                                                  0       0   \n",
       "Paikert,  G.C.                                           0       0   \n",
       "Verwey-Jonker,  H.                                       0       0   \n",
       "Steigenga,  W.                                           0       0   \n",
       "Lannes,  X.                                              0       0   \n",
       "Brink, van den  T.                                       0       0   \n",
       "Citroen,  H.A.                                           0       0   \n",
       "Wander,  H.                                              0       0   \n",
       "Cnossen,  T.                                             0       0   \n",
       "Jain,  S.K.                                              0       0   \n",
       "Stone,  K.H.                                             0       0   \n",
       "Peltier,  R.                                             0       0   \n",
       "Belshaw,  H.                                             0       0   \n",
       "Mannoni,  E.                                             0       0   \n",
       "Hyrenius,  H.                                            0       0   \n",
       "Weinberg,  A.A.W.                                        0       0   \n",
       "Meyers,  H.G.                                            0       0   \n",
       "Brink, van den T                                         0       0   \n",
       "Dorpema,  H.                                             0       0   \n",
       "Maselli,  G.                                             0       0   \n",
       "MacKay,  M.C.J.                                          0       0   \n",
       "Sjollema,  B.Ch.                                         0       0   \n",
       "Glinstra Bleeker, van R.J.P.                             0       0   \n",
       "Mackenroth,  G.                                          0       0   \n",
       "Jorge,  A.                                               0       0   \n",
       "Sassen,  S.                                              0       0   \n",
       "Bernard,  W.S.                                           0       0   \n",
       "Lattimore jr,  B.G.                                      0       0   \n",
       "Oudegeest,  J.J.                                         0       0   \n",
       "Brackel,  P.O.M.                                         0       0   \n",
       "Alexander,  R.                                           0       0   \n",
       "Mezoff,  R.                                              0       0   \n",
       "Moncarz,  R.                                             0       0   \n",
       "Godefroy,  J.                                            0       0   \n",
       "Sauvon,  E.A.                                            0       0   \n",
       "Doczy,  A.G.                                             0       0   \n",
       "Klompe,  M.                                              0       0   \n",
       "Clemens,  R.                                             0       0   \n",
       "Neher,  L.                                               0       0   \n",
       "Beveridge,  W.H.                                         0       0   \n",
       "Visser t Hooft,  W.A.                                    0       0   \n",
       "Eidt,  R.C.                                              0       0   \n",
       "Rutten,  F.J.Th.                                         0       0   \n",
       "Camillo de Oliveira,  A.                                 0       0   \n",
       "Glass,  D.V.                                             0       0   \n",
       "Salin,  E.                                               0       0   \n",
       "Bouman,  P.J.                                            0       0   \n",
       "Guttman,  L.                                             0       0   \n",
       "Rappard,  W.E.                                           0       0   \n",
       "Davis,  K.                                               0       0   \n",
       "Duijker,  H.C.J.                                         0       0   \n",
       "Verkade,  W.                                             0       0   \n",
       "Patijn,  C.L.                                            0       0   \n",
       "HWvanLoon Fellowship, NL regering                        0       1   \n",
       "WOTRO (Netherlands Foundation for the Advanceme...       0       1   \n",
       "RCE                                                      0       0   \n",
       "\n",
       "                                                    executor_org  total  \n",
       "Beijer,  G.                                                    0    151  \n",
       "REMP                                                          24     24  \n",
       "Hofstee,  E.W.                                                 0      5  \n",
       "Groenman,  Sj.                                                 0      5  \n",
       "Edding,  F.                                                    0      4  \n",
       "ICEM                                                           0      4  \n",
       "Radspieler,  T.                                                0      3  \n",
       "Richardson,  A.                                                0      3  \n",
       "Mol,  J.J.                                                     0      3  \n",
       "Hack,  H.                                                      0      3  \n",
       "Zubrzycki,  J.                                                 0      3  \n",
       "Isaac,  J.                                                     0      3  \n",
       "Sauvy,  A.                                                     0      3  \n",
       "Zeegers,  G.H.L.                                               0      3  \n",
       "Frijda,  N.H.                                                  0      2  \n",
       "Rubin,  E.                                                     0      2  \n",
       "Nixon,  J.W.                                                   0      2  \n",
       "Mast, van der W.                                               0      2  \n",
       "Timlin,  M.F.                                                  0      2  \n",
       "Appleyard,  R.T.                                               0      2  \n",
       "Hofstede,  B.P.                                                0      2  \n",
       "Bouscaren,  A.T.                                               0      2  \n",
       "Wentholt,  R.                                                  0      2  \n",
       "Gadolin, de A.                                                 0      2  \n",
       "Petersen,  W.                                                  0      2  \n",
       "Bastos de Avila,  F.                                           0      2  \n",
       "Rosenfield,  H.N.                                              0      2  \n",
       "Lehmkuhler,  M.                                                0      2  \n",
       "Beld, van den C.A.                                             0      2  \n",
       "Ipsen,  G.                                                     0      2  \n",
       "Mill, van A.N.                                                 0      2  \n",
       "Haveman,  B.W.                                                 0      2  \n",
       "Lyon,  A.V.                                                    0      1  \n",
       "Witkamp,  T.                                                   0      1  \n",
       "Herberle,  R.                                                  0      1  \n",
       "Reid,  I.D.A.                                                  0      1  \n",
       "Starr,  M.                                                     0      1  \n",
       "Pressat,  R.                                                   0      1  \n",
       "Maris,  A.                                                     0      1  \n",
       "Balhana,  A.Pilatti                                            0      1  \n",
       "Witcover,  J.                                                  0      1  \n",
       "Cidor,  H.A.                                                   0      1  \n",
       "Gottmann,  J.                                                  0      1  \n",
       "Luckham,  B.                                                   0      1  \n",
       "Orleans,  L.A.                                                 0      1  \n",
       "Kraak,  J.H.                                                   0      1  \n",
       "Schoenberg,  H.W.                                              0      1  \n",
       "Tavuchis,  N.                                                  0      1  \n",
       "Weinberg,  A.A.                                                0      1  \n",
       "Bentwich,  N.                                                  0      1  \n",
       "Schreuder,  O.                                                 0      1  \n",
       "Taft,  R.                                                      0      1  \n",
       "Fentener van Vlissingen,  R.                                   0      1  \n",
       "Sumiya,  M.                                                    0      1  \n",
       "Makulu,  H.F.                                                  0      1  \n",
       "Boer-Lasschuyt, de T.                                          0      1  \n",
       "Roof,  M.K.                                                    0      1  \n",
       "Putten, v.d. A.                                                0      1  \n",
       "Heyn,  H.                                                      0      1  \n",
       "Paulson,  B.                                                   0      1  \n",
       "Rees,  E.                                                      0      1  \n",
       "Price,  C.A.                                                   0      1  \n",
       "Fagley,  R.                                                    0      1  \n",
       "Borrie,  W.D.                                                  0      1  \n",
       "Lewis,  J.N.                                                   0      1  \n",
       "Schmitz,  J.P.G.                                               0      1  \n",
       "Geyl,  W.F.                                                    0      1  \n",
       "Olsson,  B.                                                    0      1  \n",
       "Jong, de  P.                                                   0      1  \n",
       "Brepohl,  W.                                                   0      1  \n",
       "REMP,                                                          0      1  \n",
       "Witkamp,  F.Th.                                                0      1  \n",
       "Bovenkerk,  F.                                                 0      1  \n",
       "Muller,  K.D.                                                  0      1  \n",
       "Neumann,  B.                                                   0      1  \n",
       "Albin,  A.                                                     0      1  \n",
       "Wilder-Okladek,  F.                                            0      1  \n",
       "Weinstock,  S. Alexander                                       0      1  \n",
       "Johnston,  R.                                                  0      1  \n",
       "Ex,  J.                                                        0      1  \n",
       "Paikert,  G.C.                                                 0      1  \n",
       "Verwey-Jonker,  H.                                             0      1  \n",
       "Steigenga,  W.                                                 0      1  \n",
       "Lannes,  X.                                                    0      1  \n",
       "Brink, van den  T.                                             0      1  \n",
       "Citroen,  H.A.                                                 0      1  \n",
       "Wander,  H.                                                    0      1  \n",
       "Cnossen,  T.                                                   0      1  \n",
       "Jain,  S.K.                                                    0      1  \n",
       "Stone,  K.H.                                                   0      1  \n",
       "Peltier,  R.                                                   0      1  \n",
       "Belshaw,  H.                                                   0      1  \n",
       "Mannoni,  E.                                                   0      1  \n",
       "Hyrenius,  H.                                                  0      1  \n",
       "Weinberg,  A.A.W.                                              0      1  \n",
       "Meyers,  H.G.                                                  0      1  \n",
       "Brink, van den T                                               0      1  \n",
       "Dorpema,  H.                                                   0      1  \n",
       "Maselli,  G.                                                   0      1  \n",
       "MacKay,  M.C.J.                                                0      1  \n",
       "Sjollema,  B.Ch.                                               0      1  \n",
       "Glinstra Bleeker, van R.J.P.                                   0      1  \n",
       "Mackenroth,  G.                                                0      1  \n",
       "Jorge,  A.                                                     0      1  \n",
       "Sassen,  S.                                                    0      1  \n",
       "Bernard,  W.S.                                                 0      1  \n",
       "Lattimore jr,  B.G.                                            0      1  \n",
       "Oudegeest,  J.J.                                               0      1  \n",
       "Brackel,  P.O.M.                                               0      1  \n",
       "Alexander,  R.                                                 0      1  \n",
       "Mezoff,  R.                                                    0      1  \n",
       "Moncarz,  R.                                                   0      1  \n",
       "Godefroy,  J.                                                  0      1  \n",
       "Sauvon,  E.A.                                                  0      1  \n",
       "Doczy,  A.G.                                                   0      1  \n",
       "Klompe,  M.                                                    0      1  \n",
       "Clemens,  R.                                                   0      1  \n",
       "Neher,  L.                                                     0      1  \n",
       "Beveridge,  W.H.                                               0      1  \n",
       "Visser t Hooft,  W.A.                                          0      1  \n",
       "Eidt,  R.C.                                                    0      1  \n",
       "Rutten,  F.J.Th.                                               0      1  \n",
       "Camillo de Oliveira,  A.                                       0      1  \n",
       "Glass,  D.V.                                                   0      1  \n",
       "Salin,  E.                                                     0      1  \n",
       "Bouman,  P.J.                                                  0      1  \n",
       "Guttman,  L.                                                   0      1  \n",
       "Rappard,  W.E.                                                 0      1  \n",
       "Davis,  K.                                                     0      1  \n",
       "Duijker,  H.C.J.                                               0      1  \n",
       "Verkade,  W.                                                   0      1  \n",
       "Patijn,  C.L.                                                  0      1  \n",
       "HWvanLoon Fellowship, NL regering                              0      1  \n",
       "WOTRO (Netherlands Foundation for the Advanceme...             0      1  \n",
       "RCE                                                            1      1  "
      ]
     },
     "execution_count": 14,
     "metadata": {},
     "output_type": "execute_result"
    }
   ],
   "source": [
    "\n",
    "pd.options.display.max_rows = 999\n",
    "\n",
    "overview.sort_values(['total','authors'], ascending=False)"
   ]
  },
  {
   "cell_type": "markdown",
   "metadata": {
    "tags": [
     "narrative"
    ]
   },
   "source": [
    "There are a few important conclusions that follow from this analysis. \n",
    "\n",
    "1. Günter Beijer was the founder of the REMP and throughout the 1950s, 60 and 70s the central person for its scientific output. His network consisted of academics and administrators that collaborated on a number of studies.\n",
    "2. The people and organisations in the network were not only from the Netherlands, but also a number of other countries. \n",
    "3. There were numerous connections between politicians and academics that together established a discourse coalition, in which the academics (mostly) wrote the contributions while administrators and their organisations supported the research by funding, by commissioning studies and by writing prefaces that pointed out the importance for policy formation.\n",
    "4. The international organisation ICEM was involved explicitly in the network from 1958 when it started to fund studies in emigration. This was mediated through Bas Haveman, who in 1961 became director of ICEM. "
   ]
  },
  {
   "cell_type": "markdown",
   "metadata": {
    "tags": [
     "narrative"
    ]
   },
   "source": [
    "### Network Overlap"
   ]
  },
  {
   "cell_type": "markdown",
   "metadata": {
    "tags": [
     "narrative"
    ]
   },
   "source": [
    "From the time Haveman took office as Government Commissioner and later as Director-General at ICEM, he involved the REMP network in its operations, striving to found policies on research. This was evident when the previously separated journals _Migration_ and the _REMP Bulletin_ were merged into a new journal, _International Migration_ (IM). But also the network itself was extended. The REMP publications dataset is not suited to investigate this. Therefore, we have compared the evidence we have in other datasets for overlap. These datasets are show in the diagram in figure 1. \n",
    "\n",
    "More specifically, we study the overlap between members of the REMP Board, the ICEM directors and deputy directors, the Dutch Government and the authors of the studies in REMP, IM and the _International Migration Review_ (IMR) journal. \n"
   ]
  },
  {
   "cell_type": "markdown",
   "metadata": {
    "tags": [
     "hermeneutics",
     "hermeneutics-step"
    ]
   },
   "source": [
    "We want to show the overlap between persons who published research on migration management and persons who had a role as governing board member. \n",
    "\n",
    "Step 1. Load the publication records and the person entity metadata. \n",
    "\n",
    "Step 2. Merge the lists of person names using their surname and the first initial of their first name, to make sure that small variations in how their names appear are mapped to the same person. E.g. Günther Beijer, G. Beijer and G.O.K. Beijer all refer to the same person. We did a manual inspection of all the names that were linked through overlapping surname and first initial and found no errors.\n",
    "\n",
    "Step 3. We categorise each person as being 1) a research author and 2) an administrator or member of a governing board, and calculate how many persons each category contains."
   ]
  },
  {
   "cell_type": "code",
   "execution_count": 15,
   "metadata": {
    "tags": [
     "hermeneutics",
     "hermeneutics-step"
    ]
   },
   "outputs": [],
   "source": [
    "import pandas as pd\n",
    "from scripts.data_wrangling import get_publication_author_administrator_overlap\n",
    "import scripts.datasets as dataset_api\n",
    "\n",
    "\n",
    "pub_df = dataset_api.read_publications()\n",
    "category_records = dataset_api.read_person_category_records()\n",
    "\n",
    "# find overlap in persons as authors and persons as administrators or board members\n",
    "authors_admin = get_publication_author_administrator_overlap(pub_df, category_records)\n",
    "\n",
    "# The total number of person entities in the dataset\n",
    "n_all = authors_admin.author_surname_initial.unique()\n",
    "# The total number of authors of the REMP and IM publications\n",
    "n_authors = authors_admin.loc[authors_admin.in_pub>0].author_surname_initial.unique()\n",
    "# The number of board members in REMP, ICEM and national governments\n",
    "n_admin = authors_admin.loc[authors_admin.in_admin>0].author_surname_initial.unique()\n",
    "# The number of persons who are both article author and board member\n",
    "n_admin_and_author = authors_admin.loc[(authors_admin.in_admin>0) & (authors_admin.in_pub>0)].author_surname_initial.unique()\n",
    "\n",
    "# Wrap these in a dataframe for readable display\n",
    "nw_nrs = {'all_network':len(n_all), \n",
    "'authors':len(n_authors),\n",
    "'administrators':len(n_admin), \n",
    "'administrator and author':len(n_admin_and_author)}\n",
    "\n",
    "nw_div = pd.Series(nw_nrs).to_frame().rename(columns={0:\"number\"})\n",
    "nw_div['%'] = round(nw_div.number/len(n_all)*100, 1)\n"
   ]
  },
  {
   "cell_type": "code",
   "execution_count": 16,
   "metadata": {
    "jdh": {
     "object": {
      "source": [
       "table 3: Division between Authors and Administrators"
      ]
     }
    },
    "tags": [
     "hermeneutics",
     "table-3",
     "narrative",
     "hermeneutics-step"
    ]
   },
   "outputs": [
    {
     "data": {
      "text/html": [
       "<div>\n",
       "<style scoped>\n",
       "    .dataframe tbody tr th:only-of-type {\n",
       "        vertical-align: middle;\n",
       "    }\n",
       "\n",
       "    .dataframe tbody tr th {\n",
       "        vertical-align: top;\n",
       "    }\n",
       "\n",
       "    .dataframe thead th {\n",
       "        text-align: right;\n",
       "    }\n",
       "</style>\n",
       "<table border=\"1\" class=\"dataframe\">\n",
       "  <thead>\n",
       "    <tr style=\"text-align: right;\">\n",
       "      <th></th>\n",
       "      <th>number</th>\n",
       "      <th>%</th>\n",
       "    </tr>\n",
       "  </thead>\n",
       "  <tbody>\n",
       "    <tr>\n",
       "      <th>all_network</th>\n",
       "      <td>2538</td>\n",
       "      <td>100.0</td>\n",
       "    </tr>\n",
       "    <tr>\n",
       "      <th>authors</th>\n",
       "      <td>2498</td>\n",
       "      <td>98.4</td>\n",
       "    </tr>\n",
       "    <tr>\n",
       "      <th>administrators</th>\n",
       "      <td>72</td>\n",
       "      <td>2.8</td>\n",
       "    </tr>\n",
       "    <tr>\n",
       "      <th>administrator and author</th>\n",
       "      <td>32</td>\n",
       "      <td>1.3</td>\n",
       "    </tr>\n",
       "  </tbody>\n",
       "</table>\n",
       "</div>"
      ],
      "text/plain": [
       "                          number      %\n",
       "all_network                 2538  100.0\n",
       "authors                     2498   98.4\n",
       "administrators                72    2.8\n",
       "administrator and author      32    1.3"
      ]
     },
     "execution_count": 16,
     "metadata": {},
     "output_type": "execute_result"
    }
   ],
   "source": [
    "nw_div"
   ]
  },
  {
   "cell_type": "markdown",
   "metadata": {
    "tags": [
     "narrative"
    ]
   },
   "source": [
    "In the datasets, there are 2540 records. Most of the people in the migration managment discourse network (98,4 percent) were authors, while 2.8 percent were on the governing boards of either REMP or ICEM. Only 1.2 percent were active in governance and were authors as well. Our datasets allow us to analyse the evolution of the network over time to a limited extent, as the REMP network decreases in activity after 1970 and as we have much less detailed data about the ICEM network in which the REMP discourse coalition was absorped. The analysis per decade in figure 5 therefore has an emphasis on the 1950s and 1960, when the REMP discourse coalition was most active. REMP founder Günter Beijer was active from the start in 1952 until his death in 1983, but he was followed by other academics and organizers. Australia-based Reginald Appleyard, for instance, appeared in the REMP network in the 1960s, and remained active in the ICEM network as editor of International Migration until the 1990s.\n",
    "\n",
    "Haveman became ICEM director in the early 1960s, but his predecessors and followers were not Dutch. On the basis of the national provenance of the people in the network of REMP and ICEM it can be concluded that REMP was predominantly (though not exclusively) Dutch oriented in the 1950s, but got more international in the 1960s and even more so in later decades. We have visualized the nationalities of the people in the discourse coalition networks in different decades, as far as we were able to track these down (figure 6). Especially for the later decades, our data about nationalities mostly comprise the administrators in the network, so overall conclusions cannot be very firm. It is clear, however, that the importance of the Netherlands decreased over time and that the network got more international and operated under auspices of ICEM. \n",
    "\n",
    "This is mirrored in the scientific output of the discourse coalition, as the REMP publications decreased in number over the years. As we have outlined above, the REMP bulletin merged into the ICEM sponsored _International Migration_ journal. But it was also a result of the changing nature of migration in the Netherlands, that changed from an emigration country in the 1950s and 1960s to a mostly immigration country from the 1970s. The Netherlands shared this change with much of Europe. At the ICEM sponsored ‘Seminar on \"The Role of International Migration in the Development of Modern Society”' in Turin on 14 and 15 October 1961, the French technocrat and at the time chair of the REMP-board Alfred Sauvy remarked that \"[s]ince the discovery of the New World, migrations have traditionally been from Europe, a developed region, to [...] America, Africa and, to a far less extent, to Asia. We are therefore confronted with an unexpected reversal of the migration flow [...] which no one at all had foreseen ten years ago\" (<cite data-cite=\"3655479/4X34EF3B\"></cite> preliminaries_2009, 21-22). This was in the years that Haveman was ICEM director and leads us to the discourse part of the migration management discourse network."
   ]
  },
  {
   "cell_type": "code",
   "execution_count": 17,
   "metadata": {
    "tags": [
     "hermeneutics"
    ]
   },
   "outputs": [],
   "source": [
    "from scripts.data_wrangling import highlight_decade\n",
    "from scripts.data_wrangling import get_publication_author_administrator_overlap\n",
    "\n",
    "pub_df = dataset_api.read_publications()\n",
    "category_records = dataset_api.read_person_category_records()\n",
    "\n",
    "# Get all publications and admin memberships per author per decade\n",
    "author_admin = get_publication_author_administrator_overlap(pub_df, category_records)\n",
    "\n",
    "# Select only the persons who have both publications and memberships\n",
    "author_admin_decade = author_admin[(author_admin.in_admin == 1) & (author_admin.in_pub == 1)].drop(\n",
    "    ['in_admin', 'in_pub'], axis=1)\n",
    "\n",
    "# Select cols for display\n",
    "cols = ['author_surname_initial', 'cat', 1950, 1960, 1970, 1980, 1990]\n",
    "\n"
   ]
  },
  {
   "cell_type": "code",
   "execution_count": 18,
   "metadata": {
    "jdh": {
     "object": {
      "source": [
       "table 4: Network Overlap in the Discourse Coalition"
      ]
     }
    },
    "tags": [
     "hermeneutics",
     "table-4",
     "narrative"
    ]
   },
   "outputs": [
    {
     "data": {
      "text/html": [
       "<style type=\"text/css\">\n",
       "#T_57d06_row0_col2, #T_57d06_row0_col3, #T_57d06_row0_col4, #T_57d06_row0_col5, #T_57d06_row0_col6, #T_57d06_row3_col2, #T_57d06_row3_col3, #T_57d06_row5_col3, #T_57d06_row7_col3, #T_57d06_row9_col2, #T_57d06_row9_col3, #T_57d06_row9_col4, #T_57d06_row9_col5, #T_57d06_row13_col2, #T_57d06_row13_col3, #T_57d06_row16_col2, #T_57d06_row18_col5, #T_57d06_row20_col6, #T_57d06_row21_col3, #T_57d06_row24_col2, #T_57d06_row26_col2, #T_57d06_row28_col2, #T_57d06_row29_col2, #T_57d06_row32_col3, #T_57d06_row34_col3, #T_57d06_row36_col2, #T_57d06_row39_col2, #T_57d06_row40_col2, #T_57d06_row42_col2, #T_57d06_row44_col3, #T_57d06_row44_col4, #T_57d06_row47_col2, #T_57d06_row47_col3, #T_57d06_row49_col2, #T_57d06_row50_col6, #T_57d06_row52_col3, #T_57d06_row55_col2, #T_57d06_row55_col3, #T_57d06_row57_col3, #T_57d06_row61_col3, #T_57d06_row65_col2, #T_57d06_row66_col2, #T_57d06_row66_col3, #T_57d06_row69_col2 {\n",
       "  background-color: #0000ff;\n",
       "}\n",
       "#T_57d06_row1_col5, #T_57d06_row11_col5, #T_57d06_row63_col6 {\n",
       "  background-color: #8888ff;\n",
       "}\n",
       "#T_57d06_row2_col3, #T_57d06_row4_col3, #T_57d06_row6_col2, #T_57d06_row6_col3, #T_57d06_row12_col2, #T_57d06_row12_col3, #T_57d06_row12_col4, #T_57d06_row12_col5, #T_57d06_row14_col3, #T_57d06_row15_col2, #T_57d06_row23_col3, #T_57d06_row25_col2, #T_57d06_row27_col2, #T_57d06_row27_col3, #T_57d06_row30_col2, #T_57d06_row30_col3, #T_57d06_row37_col2, #T_57d06_row37_col3, #T_57d06_row38_col2, #T_57d06_row38_col3, #T_57d06_row41_col2, #T_57d06_row43_col2, #T_57d06_row46_col2, #T_57d06_row46_col3, #T_57d06_row48_col3, #T_57d06_row53_col3, #T_57d06_row54_col2, #T_57d06_row54_col3, #T_57d06_row58_col3, #T_57d06_row67_col3, #T_57d06_row68_col2, #T_57d06_row68_col3 {\n",
       "  background-color: #ff0000;\n",
       "}\n",
       "#T_57d06_row8_col3, #T_57d06_row8_col4, #T_57d06_row17_col4, #T_57d06_row17_col5, #T_57d06_row19_col5, #T_57d06_row19_col6, #T_57d06_row22_col2, #T_57d06_row22_col3, #T_57d06_row33_col3, #T_57d06_row45_col3, #T_57d06_row45_col4, #T_57d06_row45_col5, #T_57d06_row51_col5, #T_57d06_row51_col6, #T_57d06_row59_col3, #T_57d06_row59_col4 {\n",
       "  background-color: #ff6666;\n",
       "}\n",
       "#T_57d06_row10_col3, #T_57d06_row10_col4, #T_57d06_row56_col4, #T_57d06_row60_col5 {\n",
       "  background-color: #bbbbff;\n",
       "}\n",
       "#T_57d06_row31_col2, #T_57d06_row31_col3, #T_57d06_row35_col2, #T_57d06_row35_col3, #T_57d06_row64_col2, #T_57d06_row64_col3, #T_57d06_row64_col4 {\n",
       "  background-color: #ffbbbb;\n",
       "}\n",
       "</style>\n",
       "<table id=\"T_57d06_\">\n",
       "  <thead>\n",
       "    <tr>\n",
       "      <th class=\"blank level0\" >&nbsp;</th>\n",
       "      <th class=\"col_heading level0 col0\" >author_surname_initial</th>\n",
       "      <th class=\"col_heading level0 col1\" >cat</th>\n",
       "      <th class=\"col_heading level0 col2\" >1950</th>\n",
       "      <th class=\"col_heading level0 col3\" >1960</th>\n",
       "      <th class=\"col_heading level0 col4\" >1970</th>\n",
       "      <th class=\"col_heading level0 col5\" >1980</th>\n",
       "      <th class=\"col_heading level0 col6\" >1990</th>\n",
       "    </tr>\n",
       "  </thead>\n",
       "  <tbody>\n",
       "    <tr>\n",
       "      <th id=\"T_57d06_level0_row0\" class=\"row_heading level0 row0\" >166</th>\n",
       "      <td id=\"T_57d06_row0_col0\" class=\"data row0 col0\" >Appleyard, R</td>\n",
       "      <td id=\"T_57d06_row0_col1\" class=\"data row0 col1\" >REMP_IM</td>\n",
       "      <td id=\"T_57d06_row0_col2\" class=\"data row0 col2\" >2</td>\n",
       "      <td id=\"T_57d06_row0_col3\" class=\"data row0 col3\" >1</td>\n",
       "      <td id=\"T_57d06_row0_col4\" class=\"data row0 col4\" >1</td>\n",
       "      <td id=\"T_57d06_row0_col5\" class=\"data row0 col5\" >3</td>\n",
       "      <td id=\"T_57d06_row0_col6\" class=\"data row0 col6\" >14</td>\n",
       "    </tr>\n",
       "    <tr>\n",
       "      <th id=\"T_57d06_level0_row1\" class=\"row_heading level0 row1\" >165</th>\n",
       "      <td id=\"T_57d06_row1_col0\" class=\"data row1 col0\" >Appleyard, R</td>\n",
       "      <td id=\"T_57d06_row1_col1\" class=\"data row1 col1\" >IMR_research</td>\n",
       "      <td id=\"T_57d06_row1_col2\" class=\"data row1 col2\" >0</td>\n",
       "      <td id=\"T_57d06_row1_col3\" class=\"data row1 col3\" >0</td>\n",
       "      <td id=\"T_57d06_row1_col4\" class=\"data row1 col4\" >0</td>\n",
       "      <td id=\"T_57d06_row1_col5\" class=\"data row1 col5\" >1</td>\n",
       "      <td id=\"T_57d06_row1_col6\" class=\"data row1 col6\" >0</td>\n",
       "    </tr>\n",
       "    <tr>\n",
       "      <th id=\"T_57d06_level0_row2\" class=\"row_heading level0 row2\" >49</th>\n",
       "      <td id=\"T_57d06_row2_col0\" class=\"data row2 col0\" >Appleyard, R</td>\n",
       "      <td id=\"T_57d06_row2_col1\" class=\"data row2 col1\" >REMP</td>\n",
       "      <td id=\"T_57d06_row2_col2\" class=\"data row2 col2\" >0</td>\n",
       "      <td id=\"T_57d06_row2_col3\" class=\"data row2 col3\" >1</td>\n",
       "      <td id=\"T_57d06_row2_col4\" class=\"data row2 col4\" >0</td>\n",
       "      <td id=\"T_57d06_row2_col5\" class=\"data row2 col5\" >0</td>\n",
       "      <td id=\"T_57d06_row2_col6\" class=\"data row2 col6\" >0</td>\n",
       "    </tr>\n",
       "    <tr>\n",
       "      <th id=\"T_57d06_level0_row3\" class=\"row_heading level0 row3\" >192</th>\n",
       "      <td id=\"T_57d06_row3_col0\" class=\"data row3 col0\" >Avila, F</td>\n",
       "      <td id=\"T_57d06_row3_col1\" class=\"data row3 col1\" >REMP_IM</td>\n",
       "      <td id=\"T_57d06_row3_col2\" class=\"data row3 col2\" >2</td>\n",
       "      <td id=\"T_57d06_row3_col3\" class=\"data row3 col3\" >1</td>\n",
       "      <td id=\"T_57d06_row3_col4\" class=\"data row3 col4\" >0</td>\n",
       "      <td id=\"T_57d06_row3_col5\" class=\"data row3 col5\" >0</td>\n",
       "      <td id=\"T_57d06_row3_col6\" class=\"data row3 col6\" >0</td>\n",
       "    </tr>\n",
       "    <tr>\n",
       "      <th id=\"T_57d06_level0_row4\" class=\"row_heading level0 row4\" >47</th>\n",
       "      <td id=\"T_57d06_row4_col0\" class=\"data row4 col0\" >Avila, F</td>\n",
       "      <td id=\"T_57d06_row4_col1\" class=\"data row4 col1\" >REMP</td>\n",
       "      <td id=\"T_57d06_row4_col2\" class=\"data row4 col2\" >0</td>\n",
       "      <td id=\"T_57d06_row4_col3\" class=\"data row4 col3\" >1</td>\n",
       "      <td id=\"T_57d06_row4_col4\" class=\"data row4 col4\" >0</td>\n",
       "      <td id=\"T_57d06_row4_col5\" class=\"data row4 col5\" >0</td>\n",
       "      <td id=\"T_57d06_row4_col6\" class=\"data row4 col6\" >0</td>\n",
       "    </tr>\n",
       "    <tr>\n",
       "      <th id=\"T_57d06_level0_row5\" class=\"row_heading level0 row5\" >201</th>\n",
       "      <td id=\"T_57d06_row5_col0\" class=\"data row5 col0\" >Backer, J</td>\n",
       "      <td id=\"T_57d06_row5_col1\" class=\"data row5 col1\" >REMP_IM</td>\n",
       "      <td id=\"T_57d06_row5_col2\" class=\"data row5 col2\" >0</td>\n",
       "      <td id=\"T_57d06_row5_col3\" class=\"data row5 col3\" >1</td>\n",
       "      <td id=\"T_57d06_row5_col4\" class=\"data row5 col4\" >0</td>\n",
       "      <td id=\"T_57d06_row5_col5\" class=\"data row5 col5\" >0</td>\n",
       "      <td id=\"T_57d06_row5_col6\" class=\"data row5 col6\" >0</td>\n",
       "    </tr>\n",
       "    <tr>\n",
       "      <th id=\"T_57d06_level0_row6\" class=\"row_heading level0 row6\" >37</th>\n",
       "      <td id=\"T_57d06_row6_col0\" class=\"data row6 col0\" >Backer, J</td>\n",
       "      <td id=\"T_57d06_row6_col1\" class=\"data row6 col1\" >REMP</td>\n",
       "      <td id=\"T_57d06_row6_col2\" class=\"data row6 col2\" >1</td>\n",
       "      <td id=\"T_57d06_row6_col3\" class=\"data row6 col3\" >1</td>\n",
       "      <td id=\"T_57d06_row6_col4\" class=\"data row6 col4\" >0</td>\n",
       "      <td id=\"T_57d06_row6_col5\" class=\"data row6 col5\" >0</td>\n",
       "      <td id=\"T_57d06_row6_col6\" class=\"data row6 col6\" >0</td>\n",
       "    </tr>\n",
       "    <tr>\n",
       "      <th id=\"T_57d06_level0_row7\" class=\"row_heading level0 row7\" >310</th>\n",
       "      <td id=\"T_57d06_row7_col0\" class=\"data row7 col0\" >Besterman, W</td>\n",
       "      <td id=\"T_57d06_row7_col1\" class=\"data row7 col1\" >REMP_IM</td>\n",
       "      <td id=\"T_57d06_row7_col2\" class=\"data row7 col2\" >0</td>\n",
       "      <td id=\"T_57d06_row7_col3\" class=\"data row7 col3\" >2</td>\n",
       "      <td id=\"T_57d06_row7_col4\" class=\"data row7 col4\" >0</td>\n",
       "      <td id=\"T_57d06_row7_col5\" class=\"data row7 col5\" >0</td>\n",
       "      <td id=\"T_57d06_row7_col6\" class=\"data row7 col6\" >0</td>\n",
       "    </tr>\n",
       "    <tr>\n",
       "      <th id=\"T_57d06_level0_row8\" class=\"row_heading level0 row8\" >68</th>\n",
       "      <td id=\"T_57d06_row8_col0\" class=\"data row8 col0\" >Besterman, W</td>\n",
       "      <td id=\"T_57d06_row8_col1\" class=\"data row8 col1\" >ICEM</td>\n",
       "      <td id=\"T_57d06_row8_col2\" class=\"data row8 col2\" >0</td>\n",
       "      <td id=\"T_57d06_row8_col3\" class=\"data row8 col3\" >1</td>\n",
       "      <td id=\"T_57d06_row8_col4\" class=\"data row8 col4\" >1</td>\n",
       "      <td id=\"T_57d06_row8_col5\" class=\"data row8 col5\" >0</td>\n",
       "      <td id=\"T_57d06_row8_col6\" class=\"data row8 col6\" >0</td>\n",
       "    </tr>\n",
       "    <tr>\n",
       "      <th id=\"T_57d06_level0_row9\" class=\"row_heading level0 row9\" >317</th>\n",
       "      <td id=\"T_57d06_row9_col0\" class=\"data row9 col0\" >Beyer, G</td>\n",
       "      <td id=\"T_57d06_row9_col1\" class=\"data row9 col1\" >REMP_IM</td>\n",
       "      <td id=\"T_57d06_row9_col2\" class=\"data row9 col2\" >10</td>\n",
       "      <td id=\"T_57d06_row9_col3\" class=\"data row9 col3\" >7</td>\n",
       "      <td id=\"T_57d06_row9_col4\" class=\"data row9 col4\" >3</td>\n",
       "      <td id=\"T_57d06_row9_col5\" class=\"data row9 col5\" >1</td>\n",
       "      <td id=\"T_57d06_row9_col6\" class=\"data row9 col6\" >0</td>\n",
       "    </tr>\n",
       "    <tr>\n",
       "      <th id=\"T_57d06_level0_row10\" class=\"row_heading level0 row10\" >316</th>\n",
       "      <td id=\"T_57d06_row10_col0\" class=\"data row10 col0\" >Beyer, G</td>\n",
       "      <td id=\"T_57d06_row10_col1\" class=\"data row10 col1\" >IMR_review</td>\n",
       "      <td id=\"T_57d06_row10_col2\" class=\"data row10 col2\" >0</td>\n",
       "      <td id=\"T_57d06_row10_col3\" class=\"data row10 col3\" >1</td>\n",
       "      <td id=\"T_57d06_row10_col4\" class=\"data row10 col4\" >1</td>\n",
       "      <td id=\"T_57d06_row10_col5\" class=\"data row10 col5\" >0</td>\n",
       "      <td id=\"T_57d06_row10_col6\" class=\"data row10 col6\" >0</td>\n",
       "    </tr>\n",
       "    <tr>\n",
       "      <th id=\"T_57d06_level0_row11\" class=\"row_heading level0 row11\" >315</th>\n",
       "      <td id=\"T_57d06_row11_col0\" class=\"data row11 col0\" >Beyer, G</td>\n",
       "      <td id=\"T_57d06_row11_col1\" class=\"data row11 col1\" >IMR_research</td>\n",
       "      <td id=\"T_57d06_row11_col2\" class=\"data row11 col2\" >0</td>\n",
       "      <td id=\"T_57d06_row11_col3\" class=\"data row11 col3\" >0</td>\n",
       "      <td id=\"T_57d06_row11_col4\" class=\"data row11 col4\" >0</td>\n",
       "      <td id=\"T_57d06_row11_col5\" class=\"data row11 col5\" >1</td>\n",
       "      <td id=\"T_57d06_row11_col6\" class=\"data row11 col6\" >0</td>\n",
       "    </tr>\n",
       "    <tr>\n",
       "      <th id=\"T_57d06_level0_row12\" class=\"row_heading level0 row12\" >0</th>\n",
       "      <td id=\"T_57d06_row12_col0\" class=\"data row12 col0\" >Beyer, G</td>\n",
       "      <td id=\"T_57d06_row12_col1\" class=\"data row12 col1\" >REMP</td>\n",
       "      <td id=\"T_57d06_row12_col2\" class=\"data row12 col2\" >1</td>\n",
       "      <td id=\"T_57d06_row12_col3\" class=\"data row12 col3\" >1</td>\n",
       "      <td id=\"T_57d06_row12_col4\" class=\"data row12 col4\" >1</td>\n",
       "      <td id=\"T_57d06_row12_col5\" class=\"data row12 col5\" >1</td>\n",
       "      <td id=\"T_57d06_row12_col6\" class=\"data row12 col6\" >0</td>\n",
       "    </tr>\n",
       "    <tr>\n",
       "      <th id=\"T_57d06_level0_row13\" class=\"row_heading level0 row13\" >365</th>\n",
       "      <td id=\"T_57d06_row13_col0\" class=\"data row13 col0\" >Borrie, W</td>\n",
       "      <td id=\"T_57d06_row13_col1\" class=\"data row13 col1\" >REMP_IM</td>\n",
       "      <td id=\"T_57d06_row13_col2\" class=\"data row13 col2\" >1</td>\n",
       "      <td id=\"T_57d06_row13_col3\" class=\"data row13 col3\" >1</td>\n",
       "      <td id=\"T_57d06_row13_col4\" class=\"data row13 col4\" >0</td>\n",
       "      <td id=\"T_57d06_row13_col5\" class=\"data row13 col5\" >0</td>\n",
       "      <td id=\"T_57d06_row13_col6\" class=\"data row13 col6\" >0</td>\n",
       "    </tr>\n",
       "    <tr>\n",
       "      <th id=\"T_57d06_level0_row14\" class=\"row_heading level0 row14\" >50</th>\n",
       "      <td id=\"T_57d06_row14_col0\" class=\"data row14 col0\" >Borrie, W</td>\n",
       "      <td id=\"T_57d06_row14_col1\" class=\"data row14 col1\" >REMP</td>\n",
       "      <td id=\"T_57d06_row14_col2\" class=\"data row14 col2\" >0</td>\n",
       "      <td id=\"T_57d06_row14_col3\" class=\"data row14 col3\" >1</td>\n",
       "      <td id=\"T_57d06_row14_col4\" class=\"data row14 col4\" >0</td>\n",
       "      <td id=\"T_57d06_row14_col5\" class=\"data row14 col5\" >0</td>\n",
       "      <td id=\"T_57d06_row14_col6\" class=\"data row14 col6\" >0</td>\n",
       "    </tr>\n",
       "    <tr>\n",
       "      <th id=\"T_57d06_level0_row15\" class=\"row_heading level0 row15\" >34</th>\n",
       "      <td id=\"T_57d06_row15_col0\" class=\"data row15 col0\" >Brink, Van Den, T</td>\n",
       "      <td id=\"T_57d06_row15_col1\" class=\"data row15 col1\" >REMP</td>\n",
       "      <td id=\"T_57d06_row15_col2\" class=\"data row15 col2\" >1</td>\n",
       "      <td id=\"T_57d06_row15_col3\" class=\"data row15 col3\" >0</td>\n",
       "      <td id=\"T_57d06_row15_col4\" class=\"data row15 col4\" >0</td>\n",
       "      <td id=\"T_57d06_row15_col5\" class=\"data row15 col5\" >0</td>\n",
       "      <td id=\"T_57d06_row15_col6\" class=\"data row15 col6\" >0</td>\n",
       "    </tr>\n",
       "    <tr>\n",
       "      <th id=\"T_57d06_level0_row16\" class=\"row_heading level0 row16\" >397</th>\n",
       "      <td id=\"T_57d06_row16_col0\" class=\"data row16 col0\" >Brink, Van Den, T</td>\n",
       "      <td id=\"T_57d06_row16_col1\" class=\"data row16 col1\" >REMP_IM</td>\n",
       "      <td id=\"T_57d06_row16_col2\" class=\"data row16 col2\" >2</td>\n",
       "      <td id=\"T_57d06_row16_col3\" class=\"data row16 col3\" >0</td>\n",
       "      <td id=\"T_57d06_row16_col4\" class=\"data row16 col4\" >0</td>\n",
       "      <td id=\"T_57d06_row16_col5\" class=\"data row16 col5\" >0</td>\n",
       "      <td id=\"T_57d06_row16_col6\" class=\"data row16 col6\" >0</td>\n",
       "    </tr>\n",
       "    <tr>\n",
       "      <th id=\"T_57d06_level0_row17\" class=\"row_heading level0 row17\" >60</th>\n",
       "      <td id=\"T_57d06_row17_col0\" class=\"data row17 col0\" >Carlin, J</td>\n",
       "      <td id=\"T_57d06_row17_col1\" class=\"data row17 col1\" >ICEM</td>\n",
       "      <td id=\"T_57d06_row17_col2\" class=\"data row17 col2\" >0</td>\n",
       "      <td id=\"T_57d06_row17_col3\" class=\"data row17 col3\" >0</td>\n",
       "      <td id=\"T_57d06_row17_col4\" class=\"data row17 col4\" >1</td>\n",
       "      <td id=\"T_57d06_row17_col5\" class=\"data row17 col5\" >1</td>\n",
       "      <td id=\"T_57d06_row17_col6\" class=\"data row17 col6\" >0</td>\n",
       "    </tr>\n",
       "    <tr>\n",
       "      <th id=\"T_57d06_level0_row18\" class=\"row_heading level0 row18\" >456</th>\n",
       "      <td id=\"T_57d06_row18_col0\" class=\"data row18 col0\" >Carlin, J</td>\n",
       "      <td id=\"T_57d06_row18_col1\" class=\"data row18 col1\" >REMP_IM</td>\n",
       "      <td id=\"T_57d06_row18_col2\" class=\"data row18 col2\" >0</td>\n",
       "      <td id=\"T_57d06_row18_col3\" class=\"data row18 col3\" >0</td>\n",
       "      <td id=\"T_57d06_row18_col4\" class=\"data row18 col4\" >0</td>\n",
       "      <td id=\"T_57d06_row18_col5\" class=\"data row18 col5\" >2</td>\n",
       "      <td id=\"T_57d06_row18_col6\" class=\"data row18 col6\" >0</td>\n",
       "    </tr>\n",
       "    <tr>\n",
       "      <th id=\"T_57d06_level0_row19\" class=\"row_heading level0 row19\" >70</th>\n",
       "      <td id=\"T_57d06_row19_col0\" class=\"data row19 col0\" >Charry-Samper, H</td>\n",
       "      <td id=\"T_57d06_row19_col1\" class=\"data row19 col1\" >ICEM</td>\n",
       "      <td id=\"T_57d06_row19_col2\" class=\"data row19 col2\" >0</td>\n",
       "      <td id=\"T_57d06_row19_col3\" class=\"data row19 col3\" >0</td>\n",
       "      <td id=\"T_57d06_row19_col4\" class=\"data row19 col4\" >0</td>\n",
       "      <td id=\"T_57d06_row19_col5\" class=\"data row19 col5\" >1</td>\n",
       "      <td id=\"T_57d06_row19_col6\" class=\"data row19 col6\" >1</td>\n",
       "    </tr>\n",
       "    <tr>\n",
       "      <th id=\"T_57d06_level0_row20\" class=\"row_heading level0 row20\" >495</th>\n",
       "      <td id=\"T_57d06_row20_col0\" class=\"data row20 col0\" >Charry-Samper, H</td>\n",
       "      <td id=\"T_57d06_row20_col1\" class=\"data row20 col1\" >REMP_IM</td>\n",
       "      <td id=\"T_57d06_row20_col2\" class=\"data row20 col2\" >0</td>\n",
       "      <td id=\"T_57d06_row20_col3\" class=\"data row20 col3\" >0</td>\n",
       "      <td id=\"T_57d06_row20_col4\" class=\"data row20 col4\" >0</td>\n",
       "      <td id=\"T_57d06_row20_col5\" class=\"data row20 col5\" >0</td>\n",
       "      <td id=\"T_57d06_row20_col6\" class=\"data row20 col6\" >1</td>\n",
       "    </tr>\n",
       "    <tr>\n",
       "      <th id=\"T_57d06_level0_row21\" class=\"row_heading level0 row21\" >614</th>\n",
       "      <td id=\"T_57d06_row21_col0\" class=\"data row21 col0\" >Daly, M</td>\n",
       "      <td id=\"T_57d06_row21_col1\" class=\"data row21 col1\" >REMP_IM</td>\n",
       "      <td id=\"T_57d06_row21_col2\" class=\"data row21 col2\" >0</td>\n",
       "      <td id=\"T_57d06_row21_col3\" class=\"data row21 col3\" >1</td>\n",
       "      <td id=\"T_57d06_row21_col4\" class=\"data row21 col4\" >0</td>\n",
       "      <td id=\"T_57d06_row21_col5\" class=\"data row21 col5\" >0</td>\n",
       "      <td id=\"T_57d06_row21_col6\" class=\"data row21 col6\" >0</td>\n",
       "    </tr>\n",
       "    <tr>\n",
       "      <th id=\"T_57d06_level0_row22\" class=\"row_heading level0 row22\" >57</th>\n",
       "      <td id=\"T_57d06_row22_col0\" class=\"data row22 col0\" >Daly, M</td>\n",
       "      <td id=\"T_57d06_row22_col1\" class=\"data row22 col1\" >ICEM</td>\n",
       "      <td id=\"T_57d06_row22_col2\" class=\"data row22 col2\" >1</td>\n",
       "      <td id=\"T_57d06_row22_col3\" class=\"data row22 col3\" >1</td>\n",
       "      <td id=\"T_57d06_row22_col4\" class=\"data row22 col4\" >0</td>\n",
       "      <td id=\"T_57d06_row22_col5\" class=\"data row22 col5\" >0</td>\n",
       "      <td id=\"T_57d06_row22_col6\" class=\"data row22 col6\" >0</td>\n",
       "    </tr>\n",
       "    <tr>\n",
       "      <th id=\"T_57d06_level0_row23\" class=\"row_heading level0 row23\" >43</th>\n",
       "      <td id=\"T_57d06_row23_col0\" class=\"data row23 col0\" >Edding, F</td>\n",
       "      <td id=\"T_57d06_row23_col1\" class=\"data row23 col1\" >REMP</td>\n",
       "      <td id=\"T_57d06_row23_col2\" class=\"data row23 col2\" >0</td>\n",
       "      <td id=\"T_57d06_row23_col3\" class=\"data row23 col3\" >1</td>\n",
       "      <td id=\"T_57d06_row23_col4\" class=\"data row23 col4\" >0</td>\n",
       "      <td id=\"T_57d06_row23_col5\" class=\"data row23 col5\" >0</td>\n",
       "      <td id=\"T_57d06_row23_col6\" class=\"data row23 col6\" >0</td>\n",
       "    </tr>\n",
       "    <tr>\n",
       "      <th id=\"T_57d06_level0_row24\" class=\"row_heading level0 row24\" >733</th>\n",
       "      <td id=\"T_57d06_row24_col0\" class=\"data row24 col0\" >Edding, F</td>\n",
       "      <td id=\"T_57d06_row24_col1\" class=\"data row24 col1\" >REMP_IM</td>\n",
       "      <td id=\"T_57d06_row24_col2\" class=\"data row24 col2\" >4</td>\n",
       "      <td id=\"T_57d06_row24_col3\" class=\"data row24 col3\" >0</td>\n",
       "      <td id=\"T_57d06_row24_col4\" class=\"data row24 col4\" >0</td>\n",
       "      <td id=\"T_57d06_row24_col5\" class=\"data row24 col5\" >0</td>\n",
       "      <td id=\"T_57d06_row24_col6\" class=\"data row24 col6\" >0</td>\n",
       "    </tr>\n",
       "    <tr>\n",
       "      <th id=\"T_57d06_level0_row25\" class=\"row_heading level0 row25\" >20</th>\n",
       "      <td id=\"T_57d06_row25_col0\" class=\"data row25 col0\" >Gadolin, De, A</td>\n",
       "      <td id=\"T_57d06_row25_col1\" class=\"data row25 col1\" >REMP</td>\n",
       "      <td id=\"T_57d06_row25_col2\" class=\"data row25 col2\" >1</td>\n",
       "      <td id=\"T_57d06_row25_col3\" class=\"data row25 col3\" >0</td>\n",
       "      <td id=\"T_57d06_row25_col4\" class=\"data row25 col4\" >0</td>\n",
       "      <td id=\"T_57d06_row25_col5\" class=\"data row25 col5\" >0</td>\n",
       "      <td id=\"T_57d06_row25_col6\" class=\"data row25 col6\" >0</td>\n",
       "    </tr>\n",
       "    <tr>\n",
       "      <th id=\"T_57d06_level0_row26\" class=\"row_heading level0 row26\" >896</th>\n",
       "      <td id=\"T_57d06_row26_col0\" class=\"data row26 col0\" >Gadolin, De, A</td>\n",
       "      <td id=\"T_57d06_row26_col1\" class=\"data row26 col1\" >REMP_IM</td>\n",
       "      <td id=\"T_57d06_row26_col2\" class=\"data row26 col2\" >2</td>\n",
       "      <td id=\"T_57d06_row26_col3\" class=\"data row26 col3\" >0</td>\n",
       "      <td id=\"T_57d06_row26_col4\" class=\"data row26 col4\" >0</td>\n",
       "      <td id=\"T_57d06_row26_col5\" class=\"data row26 col5\" >0</td>\n",
       "      <td id=\"T_57d06_row26_col6\" class=\"data row26 col6\" >0</td>\n",
       "    </tr>\n",
       "    <tr>\n",
       "      <th id=\"T_57d06_level0_row27\" class=\"row_heading level0 row27\" >9</th>\n",
       "      <td id=\"T_57d06_row27_col0\" class=\"data row27 col0\" >Gottmann, J</td>\n",
       "      <td id=\"T_57d06_row27_col1\" class=\"data row27 col1\" >REMP</td>\n",
       "      <td id=\"T_57d06_row27_col2\" class=\"data row27 col2\" >1</td>\n",
       "      <td id=\"T_57d06_row27_col3\" class=\"data row27 col3\" >1</td>\n",
       "      <td id=\"T_57d06_row27_col4\" class=\"data row27 col4\" >0</td>\n",
       "      <td id=\"T_57d06_row27_col5\" class=\"data row27 col5\" >0</td>\n",
       "      <td id=\"T_57d06_row27_col6\" class=\"data row27 col6\" >0</td>\n",
       "    </tr>\n",
       "    <tr>\n",
       "      <th id=\"T_57d06_level0_row28\" class=\"row_heading level0 row28\" >1005</th>\n",
       "      <td id=\"T_57d06_row28_col0\" class=\"data row28 col0\" >Gottmann, J</td>\n",
       "      <td id=\"T_57d06_row28_col1\" class=\"data row28 col1\" >REMP_IM</td>\n",
       "      <td id=\"T_57d06_row28_col2\" class=\"data row28 col2\" >1</td>\n",
       "      <td id=\"T_57d06_row28_col3\" class=\"data row28 col3\" >0</td>\n",
       "      <td id=\"T_57d06_row28_col4\" class=\"data row28 col4\" >0</td>\n",
       "      <td id=\"T_57d06_row28_col5\" class=\"data row28 col5\" >0</td>\n",
       "      <td id=\"T_57d06_row28_col6\" class=\"data row28 col6\" >0</td>\n",
       "    </tr>\n",
       "    <tr>\n",
       "      <th id=\"T_57d06_level0_row29\" class=\"row_heading level0 row29\" >1041</th>\n",
       "      <td id=\"T_57d06_row29_col0\" class=\"data row29 col0\" >Groenman, S</td>\n",
       "      <td id=\"T_57d06_row29_col1\" class=\"data row29 col1\" >REMP_IM</td>\n",
       "      <td id=\"T_57d06_row29_col2\" class=\"data row29 col2\" >2</td>\n",
       "      <td id=\"T_57d06_row29_col3\" class=\"data row29 col3\" >0</td>\n",
       "      <td id=\"T_57d06_row29_col4\" class=\"data row29 col4\" >0</td>\n",
       "      <td id=\"T_57d06_row29_col5\" class=\"data row29 col5\" >0</td>\n",
       "      <td id=\"T_57d06_row29_col6\" class=\"data row29 col6\" >0</td>\n",
       "    </tr>\n",
       "    <tr>\n",
       "      <th id=\"T_57d06_level0_row30\" class=\"row_heading level0 row30\" >1</th>\n",
       "      <td id=\"T_57d06_row30_col0\" class=\"data row30 col0\" >Groenman, S</td>\n",
       "      <td id=\"T_57d06_row30_col1\" class=\"data row30 col1\" >REMP</td>\n",
       "      <td id=\"T_57d06_row30_col2\" class=\"data row30 col2\" >1</td>\n",
       "      <td id=\"T_57d06_row30_col3\" class=\"data row30 col3\" >1</td>\n",
       "      <td id=\"T_57d06_row30_col4\" class=\"data row30 col4\" >0</td>\n",
       "      <td id=\"T_57d06_row30_col5\" class=\"data row30 col5\" >0</td>\n",
       "      <td id=\"T_57d06_row30_col6\" class=\"data row30 col6\" >0</td>\n",
       "    </tr>\n",
       "    <tr>\n",
       "      <th id=\"T_57d06_level0_row31\" class=\"row_heading level0 row31\" >51</th>\n",
       "      <td id=\"T_57d06_row31_col0\" class=\"data row31 col0\" >Haveman, B</td>\n",
       "      <td id=\"T_57d06_row31_col1\" class=\"data row31 col1\" >Dutch Government</td>\n",
       "      <td id=\"T_57d06_row31_col2\" class=\"data row31 col2\" >1</td>\n",
       "      <td id=\"T_57d06_row31_col3\" class=\"data row31 col3\" >1</td>\n",
       "      <td id=\"T_57d06_row31_col4\" class=\"data row31 col4\" >0</td>\n",
       "      <td id=\"T_57d06_row31_col5\" class=\"data row31 col5\" >0</td>\n",
       "      <td id=\"T_57d06_row31_col6\" class=\"data row31 col6\" >0</td>\n",
       "    </tr>\n",
       "    <tr>\n",
       "      <th id=\"T_57d06_level0_row32\" class=\"row_heading level0 row32\" >1120</th>\n",
       "      <td id=\"T_57d06_row32_col0\" class=\"data row32 col0\" >Haveman, B</td>\n",
       "      <td id=\"T_57d06_row32_col1\" class=\"data row32 col1\" >REMP_IM</td>\n",
       "      <td id=\"T_57d06_row32_col2\" class=\"data row32 col2\" >0</td>\n",
       "      <td id=\"T_57d06_row32_col3\" class=\"data row32 col3\" >4</td>\n",
       "      <td id=\"T_57d06_row32_col4\" class=\"data row32 col4\" >0</td>\n",
       "      <td id=\"T_57d06_row32_col5\" class=\"data row32 col5\" >0</td>\n",
       "      <td id=\"T_57d06_row32_col6\" class=\"data row32 col6\" >0</td>\n",
       "    </tr>\n",
       "    <tr>\n",
       "      <th id=\"T_57d06_level0_row33\" class=\"row_heading level0 row33\" >58</th>\n",
       "      <td id=\"T_57d06_row33_col0\" class=\"data row33 col0\" >Haveman, B</td>\n",
       "      <td id=\"T_57d06_row33_col1\" class=\"data row33 col1\" >ICEM</td>\n",
       "      <td id=\"T_57d06_row33_col2\" class=\"data row33 col2\" >0</td>\n",
       "      <td id=\"T_57d06_row33_col3\" class=\"data row33 col3\" >1</td>\n",
       "      <td id=\"T_57d06_row33_col4\" class=\"data row33 col4\" >0</td>\n",
       "      <td id=\"T_57d06_row33_col5\" class=\"data row33 col5\" >0</td>\n",
       "      <td id=\"T_57d06_row33_col6\" class=\"data row33 col6\" >0</td>\n",
       "    </tr>\n",
       "    <tr>\n",
       "      <th id=\"T_57d06_level0_row34\" class=\"row_heading level0 row34\" >1186</th>\n",
       "      <td id=\"T_57d06_row34_col0\" class=\"data row34 col0\" >Hofstede, B</td>\n",
       "      <td id=\"T_57d06_row34_col1\" class=\"data row34 col1\" >REMP_IM</td>\n",
       "      <td id=\"T_57d06_row34_col2\" class=\"data row34 col2\" >0</td>\n",
       "      <td id=\"T_57d06_row34_col3\" class=\"data row34 col3\" >1</td>\n",
       "      <td id=\"T_57d06_row34_col4\" class=\"data row34 col4\" >0</td>\n",
       "      <td id=\"T_57d06_row34_col5\" class=\"data row34 col5\" >0</td>\n",
       "      <td id=\"T_57d06_row34_col6\" class=\"data row34 col6\" >0</td>\n",
       "    </tr>\n",
       "    <tr>\n",
       "      <th id=\"T_57d06_level0_row35\" class=\"row_heading level0 row35\" >52</th>\n",
       "      <td id=\"T_57d06_row35_col0\" class=\"data row35 col0\" >Hofstede, B</td>\n",
       "      <td id=\"T_57d06_row35_col1\" class=\"data row35 col1\" >Dutch Government</td>\n",
       "      <td id=\"T_57d06_row35_col2\" class=\"data row35 col2\" >1</td>\n",
       "      <td id=\"T_57d06_row35_col3\" class=\"data row35 col3\" >1</td>\n",
       "      <td id=\"T_57d06_row35_col4\" class=\"data row35 col4\" >0</td>\n",
       "      <td id=\"T_57d06_row35_col5\" class=\"data row35 col5\" >0</td>\n",
       "      <td id=\"T_57d06_row35_col6\" class=\"data row35 col6\" >0</td>\n",
       "    </tr>\n",
       "    <tr>\n",
       "      <th id=\"T_57d06_level0_row36\" class=\"row_heading level0 row36\" >1187</th>\n",
       "      <td id=\"T_57d06_row36_col0\" class=\"data row36 col0\" >Hofstee, E</td>\n",
       "      <td id=\"T_57d06_row36_col1\" class=\"data row36 col1\" >REMP_IM</td>\n",
       "      <td id=\"T_57d06_row36_col2\" class=\"data row36 col2\" >4</td>\n",
       "      <td id=\"T_57d06_row36_col3\" class=\"data row36 col3\" >0</td>\n",
       "      <td id=\"T_57d06_row36_col4\" class=\"data row36 col4\" >0</td>\n",
       "      <td id=\"T_57d06_row36_col5\" class=\"data row36 col5\" >0</td>\n",
       "      <td id=\"T_57d06_row36_col6\" class=\"data row36 col6\" >0</td>\n",
       "    </tr>\n",
       "    <tr>\n",
       "      <th id=\"T_57d06_level0_row37\" class=\"row_heading level0 row37\" >3</th>\n",
       "      <td id=\"T_57d06_row37_col0\" class=\"data row37 col0\" >Hofstee, E</td>\n",
       "      <td id=\"T_57d06_row37_col1\" class=\"data row37 col1\" >REMP</td>\n",
       "      <td id=\"T_57d06_row37_col2\" class=\"data row37 col2\" >1</td>\n",
       "      <td id=\"T_57d06_row37_col3\" class=\"data row37 col3\" >1</td>\n",
       "      <td id=\"T_57d06_row37_col4\" class=\"data row37 col4\" >0</td>\n",
       "      <td id=\"T_57d06_row37_col5\" class=\"data row37 col5\" >0</td>\n",
       "      <td id=\"T_57d06_row37_col6\" class=\"data row37 col6\" >0</td>\n",
       "    </tr>\n",
       "    <tr>\n",
       "      <th id=\"T_57d06_level0_row38\" class=\"row_heading level0 row38\" >26</th>\n",
       "      <td id=\"T_57d06_row38_col0\" class=\"data row38 col0\" >Hyrenius, H</td>\n",
       "      <td id=\"T_57d06_row38_col1\" class=\"data row38 col1\" >REMP</td>\n",
       "      <td id=\"T_57d06_row38_col2\" class=\"data row38 col2\" >1</td>\n",
       "      <td id=\"T_57d06_row38_col3\" class=\"data row38 col3\" >1</td>\n",
       "      <td id=\"T_57d06_row38_col4\" class=\"data row38 col4\" >0</td>\n",
       "      <td id=\"T_57d06_row38_col5\" class=\"data row38 col5\" >0</td>\n",
       "      <td id=\"T_57d06_row38_col6\" class=\"data row38 col6\" >0</td>\n",
       "    </tr>\n",
       "    <tr>\n",
       "      <th id=\"T_57d06_level0_row39\" class=\"row_heading level0 row39\" >1243</th>\n",
       "      <td id=\"T_57d06_row39_col0\" class=\"data row39 col0\" >Hyrenius, H</td>\n",
       "      <td id=\"T_57d06_row39_col1\" class=\"data row39 col1\" >REMP_IM</td>\n",
       "      <td id=\"T_57d06_row39_col2\" class=\"data row39 col2\" >1</td>\n",
       "      <td id=\"T_57d06_row39_col3\" class=\"data row39 col3\" >0</td>\n",
       "      <td id=\"T_57d06_row39_col4\" class=\"data row39 col4\" >0</td>\n",
       "      <td id=\"T_57d06_row39_col5\" class=\"data row39 col5\" >0</td>\n",
       "      <td id=\"T_57d06_row39_col6\" class=\"data row39 col6\" >0</td>\n",
       "    </tr>\n",
       "    <tr>\n",
       "      <th id=\"T_57d06_level0_row40\" class=\"row_heading level0 row40\" >1259</th>\n",
       "      <td id=\"T_57d06_row40_col0\" class=\"data row40 col0\" >Isaac, J</td>\n",
       "      <td id=\"T_57d06_row40_col1\" class=\"data row40 col1\" >REMP_IM</td>\n",
       "      <td id=\"T_57d06_row40_col2\" class=\"data row40 col2\" >2</td>\n",
       "      <td id=\"T_57d06_row40_col3\" class=\"data row40 col3\" >0</td>\n",
       "      <td id=\"T_57d06_row40_col4\" class=\"data row40 col4\" >0</td>\n",
       "      <td id=\"T_57d06_row40_col5\" class=\"data row40 col5\" >0</td>\n",
       "      <td id=\"T_57d06_row40_col6\" class=\"data row40 col6\" >0</td>\n",
       "    </tr>\n",
       "    <tr>\n",
       "      <th id=\"T_57d06_level0_row41\" class=\"row_heading level0 row41\" >30</th>\n",
       "      <td id=\"T_57d06_row41_col0\" class=\"data row41 col0\" >Isaac, J</td>\n",
       "      <td id=\"T_57d06_row41_col1\" class=\"data row41 col1\" >REMP</td>\n",
       "      <td id=\"T_57d06_row41_col2\" class=\"data row41 col2\" >1</td>\n",
       "      <td id=\"T_57d06_row41_col3\" class=\"data row41 col3\" >0</td>\n",
       "      <td id=\"T_57d06_row41_col4\" class=\"data row41 col4\" >0</td>\n",
       "      <td id=\"T_57d06_row41_col5\" class=\"data row41 col5\" >0</td>\n",
       "      <td id=\"T_57d06_row41_col6\" class=\"data row41 col6\" >0</td>\n",
       "    </tr>\n",
       "    <tr>\n",
       "      <th id=\"T_57d06_level0_row42\" class=\"row_heading level0 row42\" >1670</th>\n",
       "      <td id=\"T_57d06_row42_col0\" class=\"data row42 col0\" >Mackenroth, G</td>\n",
       "      <td id=\"T_57d06_row42_col1\" class=\"data row42 col1\" >REMP_IM</td>\n",
       "      <td id=\"T_57d06_row42_col2\" class=\"data row42 col2\" >1</td>\n",
       "      <td id=\"T_57d06_row42_col3\" class=\"data row42 col3\" >0</td>\n",
       "      <td id=\"T_57d06_row42_col4\" class=\"data row42 col4\" >0</td>\n",
       "      <td id=\"T_57d06_row42_col5\" class=\"data row42 col5\" >0</td>\n",
       "      <td id=\"T_57d06_row42_col6\" class=\"data row42 col6\" >0</td>\n",
       "    </tr>\n",
       "    <tr>\n",
       "      <th id=\"T_57d06_level0_row43\" class=\"row_heading level0 row43\" >16</th>\n",
       "      <td id=\"T_57d06_row43_col0\" class=\"data row43 col0\" >Mackenroth, G</td>\n",
       "      <td id=\"T_57d06_row43_col1\" class=\"data row43 col1\" >REMP</td>\n",
       "      <td id=\"T_57d06_row43_col2\" class=\"data row43 col2\" >1</td>\n",
       "      <td id=\"T_57d06_row43_col3\" class=\"data row43 col3\" >0</td>\n",
       "      <td id=\"T_57d06_row43_col4\" class=\"data row43 col4\" >0</td>\n",
       "      <td id=\"T_57d06_row43_col5\" class=\"data row43 col5\" >0</td>\n",
       "      <td id=\"T_57d06_row43_col6\" class=\"data row43 col6\" >0</td>\n",
       "    </tr>\n",
       "    <tr>\n",
       "      <th id=\"T_57d06_level0_row44\" class=\"row_heading level0 row44\" >1726</th>\n",
       "      <td id=\"T_57d06_row44_col0\" class=\"data row44 col0\" >Maselli, G</td>\n",
       "      <td id=\"T_57d06_row44_col1\" class=\"data row44 col1\" >REMP_IM</td>\n",
       "      <td id=\"T_57d06_row44_col2\" class=\"data row44 col2\" >0</td>\n",
       "      <td id=\"T_57d06_row44_col3\" class=\"data row44 col3\" >1</td>\n",
       "      <td id=\"T_57d06_row44_col4\" class=\"data row44 col4\" >2</td>\n",
       "      <td id=\"T_57d06_row44_col5\" class=\"data row44 col5\" >0</td>\n",
       "      <td id=\"T_57d06_row44_col6\" class=\"data row44 col6\" >0</td>\n",
       "    </tr>\n",
       "    <tr>\n",
       "      <th id=\"T_57d06_level0_row45\" class=\"row_heading level0 row45\" >69</th>\n",
       "      <td id=\"T_57d06_row45_col0\" class=\"data row45 col0\" >Maselli, G</td>\n",
       "      <td id=\"T_57d06_row45_col1\" class=\"data row45 col1\" >ICEM</td>\n",
       "      <td id=\"T_57d06_row45_col2\" class=\"data row45 col2\" >0</td>\n",
       "      <td id=\"T_57d06_row45_col3\" class=\"data row45 col3\" >1</td>\n",
       "      <td id=\"T_57d06_row45_col4\" class=\"data row45 col4\" >1</td>\n",
       "      <td id=\"T_57d06_row45_col5\" class=\"data row45 col5\" >1</td>\n",
       "      <td id=\"T_57d06_row45_col6\" class=\"data row45 col6\" >0</td>\n",
       "    </tr>\n",
       "    <tr>\n",
       "      <th id=\"T_57d06_level0_row46\" class=\"row_heading level0 row46\" >29</th>\n",
       "      <td id=\"T_57d06_row46_col0\" class=\"data row46 col0\" >Nixon, J</td>\n",
       "      <td id=\"T_57d06_row46_col1\" class=\"data row46 col1\" >REMP</td>\n",
       "      <td id=\"T_57d06_row46_col2\" class=\"data row46 col2\" >1</td>\n",
       "      <td id=\"T_57d06_row46_col3\" class=\"data row46 col3\" >1</td>\n",
       "      <td id=\"T_57d06_row46_col4\" class=\"data row46 col4\" >0</td>\n",
       "      <td id=\"T_57d06_row46_col5\" class=\"data row46 col5\" >0</td>\n",
       "      <td id=\"T_57d06_row46_col6\" class=\"data row46 col6\" >0</td>\n",
       "    </tr>\n",
       "    <tr>\n",
       "      <th id=\"T_57d06_level0_row47\" class=\"row_heading level0 row47\" >1958</th>\n",
       "      <td id=\"T_57d06_row47_col0\" class=\"data row47 col0\" >Nixon, J</td>\n",
       "      <td id=\"T_57d06_row47_col1\" class=\"data row47 col1\" >REMP_IM</td>\n",
       "      <td id=\"T_57d06_row47_col2\" class=\"data row47 col2\" >1</td>\n",
       "      <td id=\"T_57d06_row47_col3\" class=\"data row47 col3\" >1</td>\n",
       "      <td id=\"T_57d06_row47_col4\" class=\"data row47 col4\" >0</td>\n",
       "      <td id=\"T_57d06_row47_col5\" class=\"data row47 col5\" >0</td>\n",
       "      <td id=\"T_57d06_row47_col6\" class=\"data row47 col6\" >0</td>\n",
       "    </tr>\n",
       "    <tr>\n",
       "      <th id=\"T_57d06_level0_row48\" class=\"row_heading level0 row48\" >48</th>\n",
       "      <td id=\"T_57d06_row48_col0\" class=\"data row48 col0\" >Oudegeest, J</td>\n",
       "      <td id=\"T_57d06_row48_col1\" class=\"data row48 col1\" >REMP</td>\n",
       "      <td id=\"T_57d06_row48_col2\" class=\"data row48 col2\" >0</td>\n",
       "      <td id=\"T_57d06_row48_col3\" class=\"data row48 col3\" >1</td>\n",
       "      <td id=\"T_57d06_row48_col4\" class=\"data row48 col4\" >0</td>\n",
       "      <td id=\"T_57d06_row48_col5\" class=\"data row48 col5\" >0</td>\n",
       "      <td id=\"T_57d06_row48_col6\" class=\"data row48 col6\" >0</td>\n",
       "    </tr>\n",
       "    <tr>\n",
       "      <th id=\"T_57d06_level0_row49\" class=\"row_heading level0 row49\" >2005</th>\n",
       "      <td id=\"T_57d06_row49_col0\" class=\"data row49 col0\" >Oudegeest, J</td>\n",
       "      <td id=\"T_57d06_row49_col1\" class=\"data row49 col1\" >REMP_IM</td>\n",
       "      <td id=\"T_57d06_row49_col2\" class=\"data row49 col2\" >1</td>\n",
       "      <td id=\"T_57d06_row49_col3\" class=\"data row49 col3\" >0</td>\n",
       "      <td id=\"T_57d06_row49_col4\" class=\"data row49 col4\" >0</td>\n",
       "      <td id=\"T_57d06_row49_col5\" class=\"data row49 col5\" >0</td>\n",
       "      <td id=\"T_57d06_row49_col6\" class=\"data row49 col6\" >0</td>\n",
       "    </tr>\n",
       "    <tr>\n",
       "      <th id=\"T_57d06_level0_row50\" class=\"row_heading level0 row50\" >2139</th>\n",
       "      <td id=\"T_57d06_row50_col0\" class=\"data row50 col0\" >Purcell, J</td>\n",
       "      <td id=\"T_57d06_row50_col1\" class=\"data row50 col1\" >REMP_IM</td>\n",
       "      <td id=\"T_57d06_row50_col2\" class=\"data row50 col2\" >0</td>\n",
       "      <td id=\"T_57d06_row50_col3\" class=\"data row50 col3\" >0</td>\n",
       "      <td id=\"T_57d06_row50_col4\" class=\"data row50 col4\" >0</td>\n",
       "      <td id=\"T_57d06_row50_col5\" class=\"data row50 col5\" >0</td>\n",
       "      <td id=\"T_57d06_row50_col6\" class=\"data row50 col6\" >2</td>\n",
       "    </tr>\n",
       "    <tr>\n",
       "      <th id=\"T_57d06_level0_row51\" class=\"row_heading level0 row51\" >61</th>\n",
       "      <td id=\"T_57d06_row51_col0\" class=\"data row51 col0\" >Purcell, J</td>\n",
       "      <td id=\"T_57d06_row51_col1\" class=\"data row51 col1\" >ICEM</td>\n",
       "      <td id=\"T_57d06_row51_col2\" class=\"data row51 col2\" >0</td>\n",
       "      <td id=\"T_57d06_row51_col3\" class=\"data row51 col3\" >0</td>\n",
       "      <td id=\"T_57d06_row51_col4\" class=\"data row51 col4\" >0</td>\n",
       "      <td id=\"T_57d06_row51_col5\" class=\"data row51 col5\" >1</td>\n",
       "      <td id=\"T_57d06_row51_col6\" class=\"data row51 col6\" >1</td>\n",
       "    </tr>\n",
       "    <tr>\n",
       "      <th id=\"T_57d06_level0_row52\" class=\"row_heading level0 row52\" >2244</th>\n",
       "      <td id=\"T_57d06_row52_col0\" class=\"data row52 col0\" >Roof, M</td>\n",
       "      <td id=\"T_57d06_row52_col1\" class=\"data row52 col1\" >REMP_IM</td>\n",
       "      <td id=\"T_57d06_row52_col2\" class=\"data row52 col2\" >0</td>\n",
       "      <td id=\"T_57d06_row52_col3\" class=\"data row52 col3\" >1</td>\n",
       "      <td id=\"T_57d06_row52_col4\" class=\"data row52 col4\" >0</td>\n",
       "      <td id=\"T_57d06_row52_col5\" class=\"data row52 col5\" >0</td>\n",
       "      <td id=\"T_57d06_row52_col6\" class=\"data row52 col6\" >0</td>\n",
       "    </tr>\n",
       "    <tr>\n",
       "      <th id=\"T_57d06_level0_row53\" class=\"row_heading level0 row53\" >46</th>\n",
       "      <td id=\"T_57d06_row53_col0\" class=\"data row53 col0\" >Roof, M</td>\n",
       "      <td id=\"T_57d06_row53_col1\" class=\"data row53 col1\" >REMP</td>\n",
       "      <td id=\"T_57d06_row53_col2\" class=\"data row53 col2\" >0</td>\n",
       "      <td id=\"T_57d06_row53_col3\" class=\"data row53 col3\" >1</td>\n",
       "      <td id=\"T_57d06_row53_col4\" class=\"data row53 col4\" >0</td>\n",
       "      <td id=\"T_57d06_row53_col5\" class=\"data row53 col5\" >0</td>\n",
       "      <td id=\"T_57d06_row53_col6\" class=\"data row53 col6\" >0</td>\n",
       "    </tr>\n",
       "    <tr>\n",
       "      <th id=\"T_57d06_level0_row54\" class=\"row_heading level0 row54\" >8</th>\n",
       "      <td id=\"T_57d06_row54_col0\" class=\"data row54 col0\" >Sauvy, A</td>\n",
       "      <td id=\"T_57d06_row54_col1\" class=\"data row54 col1\" >REMP</td>\n",
       "      <td id=\"T_57d06_row54_col2\" class=\"data row54 col2\" >1</td>\n",
       "      <td id=\"T_57d06_row54_col3\" class=\"data row54 col3\" >1</td>\n",
       "      <td id=\"T_57d06_row54_col4\" class=\"data row54 col4\" >0</td>\n",
       "      <td id=\"T_57d06_row54_col5\" class=\"data row54 col5\" >0</td>\n",
       "      <td id=\"T_57d06_row54_col6\" class=\"data row54 col6\" >0</td>\n",
       "    </tr>\n",
       "    <tr>\n",
       "      <th id=\"T_57d06_level0_row55\" class=\"row_heading level0 row55\" >2345</th>\n",
       "      <td id=\"T_57d06_row55_col0\" class=\"data row55 col0\" >Sauvy, A</td>\n",
       "      <td id=\"T_57d06_row55_col1\" class=\"data row55 col1\" >REMP_IM</td>\n",
       "      <td id=\"T_57d06_row55_col2\" class=\"data row55 col2\" >1</td>\n",
       "      <td id=\"T_57d06_row55_col3\" class=\"data row55 col3\" >1</td>\n",
       "      <td id=\"T_57d06_row55_col4\" class=\"data row55 col4\" >0</td>\n",
       "      <td id=\"T_57d06_row55_col5\" class=\"data row55 col5\" >0</td>\n",
       "      <td id=\"T_57d06_row55_col6\" class=\"data row55 col6\" >0</td>\n",
       "    </tr>\n",
       "    <tr>\n",
       "      <th id=\"T_57d06_level0_row56\" class=\"row_heading level0 row56\" >2599</th>\n",
       "      <td id=\"T_57d06_row56_col0\" class=\"data row56 col0\" >Thomas, B</td>\n",
       "      <td id=\"T_57d06_row56_col1\" class=\"data row56 col1\" >IMR_review</td>\n",
       "      <td id=\"T_57d06_row56_col2\" class=\"data row56 col2\" >0</td>\n",
       "      <td id=\"T_57d06_row56_col3\" class=\"data row56 col3\" >0</td>\n",
       "      <td id=\"T_57d06_row56_col4\" class=\"data row56 col4\" >2</td>\n",
       "      <td id=\"T_57d06_row56_col5\" class=\"data row56 col5\" >0</td>\n",
       "      <td id=\"T_57d06_row56_col6\" class=\"data row56 col6\" >0</td>\n",
       "    </tr>\n",
       "    <tr>\n",
       "      <th id=\"T_57d06_level0_row57\" class=\"row_heading level0 row57\" >2600</th>\n",
       "      <td id=\"T_57d06_row57_col0\" class=\"data row57 col0\" >Thomas, B</td>\n",
       "      <td id=\"T_57d06_row57_col1\" class=\"data row57 col1\" >REMP_IM</td>\n",
       "      <td id=\"T_57d06_row57_col2\" class=\"data row57 col2\" >0</td>\n",
       "      <td id=\"T_57d06_row57_col3\" class=\"data row57 col3\" >2</td>\n",
       "      <td id=\"T_57d06_row57_col4\" class=\"data row57 col4\" >0</td>\n",
       "      <td id=\"T_57d06_row57_col5\" class=\"data row57 col5\" >0</td>\n",
       "      <td id=\"T_57d06_row57_col6\" class=\"data row57 col6\" >0</td>\n",
       "    </tr>\n",
       "    <tr>\n",
       "      <th id=\"T_57d06_level0_row58\" class=\"row_heading level0 row58\" >42</th>\n",
       "      <td id=\"T_57d06_row58_col0\" class=\"data row58 col0\" >Thomas, B</td>\n",
       "      <td id=\"T_57d06_row58_col1\" class=\"data row58 col1\" >REMP</td>\n",
       "      <td id=\"T_57d06_row58_col2\" class=\"data row58 col2\" >0</td>\n",
       "      <td id=\"T_57d06_row58_col3\" class=\"data row58 col3\" >1</td>\n",
       "      <td id=\"T_57d06_row58_col4\" class=\"data row58 col4\" >0</td>\n",
       "      <td id=\"T_57d06_row58_col5\" class=\"data row58 col5\" >0</td>\n",
       "      <td id=\"T_57d06_row58_col6\" class=\"data row58 col6\" >0</td>\n",
       "    </tr>\n",
       "    <tr>\n",
       "      <th id=\"T_57d06_level0_row59\" class=\"row_heading level0 row59\" >59</th>\n",
       "      <td id=\"T_57d06_row59_col0\" class=\"data row59 col0\" >Thomas, J</td>\n",
       "      <td id=\"T_57d06_row59_col1\" class=\"data row59 col1\" >ICEM</td>\n",
       "      <td id=\"T_57d06_row59_col2\" class=\"data row59 col2\" >0</td>\n",
       "      <td id=\"T_57d06_row59_col3\" class=\"data row59 col3\" >1</td>\n",
       "      <td id=\"T_57d06_row59_col4\" class=\"data row59 col4\" >1</td>\n",
       "      <td id=\"T_57d06_row59_col5\" class=\"data row59 col5\" >0</td>\n",
       "      <td id=\"T_57d06_row59_col6\" class=\"data row59 col6\" >0</td>\n",
       "    </tr>\n",
       "    <tr>\n",
       "      <th id=\"T_57d06_level0_row60\" class=\"row_heading level0 row60\" >2601</th>\n",
       "      <td id=\"T_57d06_row60_col0\" class=\"data row60 col0\" >Thomas, J</td>\n",
       "      <td id=\"T_57d06_row60_col1\" class=\"data row60 col1\" >IMR_review</td>\n",
       "      <td id=\"T_57d06_row60_col2\" class=\"data row60 col2\" >0</td>\n",
       "      <td id=\"T_57d06_row60_col3\" class=\"data row60 col3\" >0</td>\n",
       "      <td id=\"T_57d06_row60_col4\" class=\"data row60 col4\" >0</td>\n",
       "      <td id=\"T_57d06_row60_col5\" class=\"data row60 col5\" >1</td>\n",
       "      <td id=\"T_57d06_row60_col6\" class=\"data row60 col6\" >0</td>\n",
       "    </tr>\n",
       "    <tr>\n",
       "      <th id=\"T_57d06_level0_row61\" class=\"row_heading level0 row61\" >2602</th>\n",
       "      <td id=\"T_57d06_row61_col0\" class=\"data row61 col0\" >Thomas, J</td>\n",
       "      <td id=\"T_57d06_row61_col1\" class=\"data row61 col1\" >REMP_IM</td>\n",
       "      <td id=\"T_57d06_row61_col2\" class=\"data row61 col2\" >0</td>\n",
       "      <td id=\"T_57d06_row61_col3\" class=\"data row61 col3\" >1</td>\n",
       "      <td id=\"T_57d06_row61_col4\" class=\"data row61 col4\" >0</td>\n",
       "      <td id=\"T_57d06_row61_col5\" class=\"data row61 col5\" >0</td>\n",
       "      <td id=\"T_57d06_row61_col6\" class=\"data row61 col6\" >0</td>\n",
       "    </tr>\n",
       "    <tr>\n",
       "      <th id=\"T_57d06_level0_row62\" class=\"row_heading level0 row62\" >73</th>\n",
       "      <td id=\"T_57d06_row62_col0\" class=\"data row62 col0\" >Thompson, L</td>\n",
       "      <td id=\"T_57d06_row62_col1\" class=\"data row62 col1\" >ICEM</td>\n",
       "      <td id=\"T_57d06_row62_col2\" class=\"data row62 col2\" >0</td>\n",
       "      <td id=\"T_57d06_row62_col3\" class=\"data row62 col3\" >0</td>\n",
       "      <td id=\"T_57d06_row62_col4\" class=\"data row62 col4\" >0</td>\n",
       "      <td id=\"T_57d06_row62_col5\" class=\"data row62 col5\" >0</td>\n",
       "      <td id=\"T_57d06_row62_col6\" class=\"data row62 col6\" >0</td>\n",
       "    </tr>\n",
       "    <tr>\n",
       "      <th id=\"T_57d06_level0_row63\" class=\"row_heading level0 row63\" >2607</th>\n",
       "      <td id=\"T_57d06_row63_col0\" class=\"data row63 col0\" >Thompson, L</td>\n",
       "      <td id=\"T_57d06_row63_col1\" class=\"data row63 col1\" >IMR_research</td>\n",
       "      <td id=\"T_57d06_row63_col2\" class=\"data row63 col2\" >0</td>\n",
       "      <td id=\"T_57d06_row63_col3\" class=\"data row63 col3\" >0</td>\n",
       "      <td id=\"T_57d06_row63_col4\" class=\"data row63 col4\" >0</td>\n",
       "      <td id=\"T_57d06_row63_col5\" class=\"data row63 col5\" >0</td>\n",
       "      <td id=\"T_57d06_row63_col6\" class=\"data row63 col6\" >1</td>\n",
       "    </tr>\n",
       "    <tr>\n",
       "      <th id=\"T_57d06_level0_row64\" class=\"row_heading level0 row64\" >53</th>\n",
       "      <td id=\"T_57d06_row64_col0\" class=\"data row64 col0\" >Verwey-Jonker, H</td>\n",
       "      <td id=\"T_57d06_row64_col1\" class=\"data row64 col1\" >Dutch Government</td>\n",
       "      <td id=\"T_57d06_row64_col2\" class=\"data row64 col2\" >1</td>\n",
       "      <td id=\"T_57d06_row64_col3\" class=\"data row64 col3\" >1</td>\n",
       "      <td id=\"T_57d06_row64_col4\" class=\"data row64 col4\" >1</td>\n",
       "      <td id=\"T_57d06_row64_col5\" class=\"data row64 col5\" >0</td>\n",
       "      <td id=\"T_57d06_row64_col6\" class=\"data row64 col6\" >0</td>\n",
       "    </tr>\n",
       "    <tr>\n",
       "      <th id=\"T_57d06_level0_row65\" class=\"row_heading level0 row65\" >2718</th>\n",
       "      <td id=\"T_57d06_row65_col0\" class=\"data row65 col0\" >Verwey-Jonker, H</td>\n",
       "      <td id=\"T_57d06_row65_col1\" class=\"data row65 col1\" >REMP_IM</td>\n",
       "      <td id=\"T_57d06_row65_col2\" class=\"data row65 col2\" >1</td>\n",
       "      <td id=\"T_57d06_row65_col3\" class=\"data row65 col3\" >0</td>\n",
       "      <td id=\"T_57d06_row65_col4\" class=\"data row65 col4\" >0</td>\n",
       "      <td id=\"T_57d06_row65_col5\" class=\"data row65 col5\" >0</td>\n",
       "      <td id=\"T_57d06_row65_col6\" class=\"data row65 col6\" >0</td>\n",
       "    </tr>\n",
       "    <tr>\n",
       "      <th id=\"T_57d06_level0_row66\" class=\"row_heading level0 row66\" >2774</th>\n",
       "      <td id=\"T_57d06_row66_col0\" class=\"data row66 col0\" >Weinberg, A</td>\n",
       "      <td id=\"T_57d06_row66_col1\" class=\"data row66 col1\" >REMP_IM</td>\n",
       "      <td id=\"T_57d06_row66_col2\" class=\"data row66 col2\" >1</td>\n",
       "      <td id=\"T_57d06_row66_col3\" class=\"data row66 col3\" >2</td>\n",
       "      <td id=\"T_57d06_row66_col4\" class=\"data row66 col4\" >0</td>\n",
       "      <td id=\"T_57d06_row66_col5\" class=\"data row66 col5\" >0</td>\n",
       "      <td id=\"T_57d06_row66_col6\" class=\"data row66 col6\" >0</td>\n",
       "    </tr>\n",
       "    <tr>\n",
       "      <th id=\"T_57d06_level0_row67\" class=\"row_heading level0 row67\" >45</th>\n",
       "      <td id=\"T_57d06_row67_col0\" class=\"data row67 col0\" >Weinberg, A</td>\n",
       "      <td id=\"T_57d06_row67_col1\" class=\"data row67 col1\" >REMP</td>\n",
       "      <td id=\"T_57d06_row67_col2\" class=\"data row67 col2\" >0</td>\n",
       "      <td id=\"T_57d06_row67_col3\" class=\"data row67 col3\" >1</td>\n",
       "      <td id=\"T_57d06_row67_col4\" class=\"data row67 col4\" >0</td>\n",
       "      <td id=\"T_57d06_row67_col5\" class=\"data row67 col5\" >0</td>\n",
       "      <td id=\"T_57d06_row67_col6\" class=\"data row67 col6\" >0</td>\n",
       "    </tr>\n",
       "    <tr>\n",
       "      <th id=\"T_57d06_level0_row68\" class=\"row_heading level0 row68\" >2</th>\n",
       "      <td id=\"T_57d06_row68_col0\" class=\"data row68 col0\" >Zeegers, G</td>\n",
       "      <td id=\"T_57d06_row68_col1\" class=\"data row68 col1\" >REMP</td>\n",
       "      <td id=\"T_57d06_row68_col2\" class=\"data row68 col2\" >1</td>\n",
       "      <td id=\"T_57d06_row68_col3\" class=\"data row68 col3\" >1</td>\n",
       "      <td id=\"T_57d06_row68_col4\" class=\"data row68 col4\" >0</td>\n",
       "      <td id=\"T_57d06_row68_col5\" class=\"data row68 col5\" >0</td>\n",
       "      <td id=\"T_57d06_row68_col6\" class=\"data row68 col6\" >0</td>\n",
       "    </tr>\n",
       "    <tr>\n",
       "      <th id=\"T_57d06_level0_row69\" class=\"row_heading level0 row69\" >2885</th>\n",
       "      <td id=\"T_57d06_row69_col0\" class=\"data row69 col0\" >Zeegers, G</td>\n",
       "      <td id=\"T_57d06_row69_col1\" class=\"data row69 col1\" >REMP_IM</td>\n",
       "      <td id=\"T_57d06_row69_col2\" class=\"data row69 col2\" >2</td>\n",
       "      <td id=\"T_57d06_row69_col3\" class=\"data row69 col3\" >0</td>\n",
       "      <td id=\"T_57d06_row69_col4\" class=\"data row69 col4\" >0</td>\n",
       "      <td id=\"T_57d06_row69_col5\" class=\"data row69 col5\" >0</td>\n",
       "      <td id=\"T_57d06_row69_col6\" class=\"data row69 col6\" >0</td>\n",
       "    </tr>\n",
       "  </tbody>\n",
       "</table>\n"
      ],
      "text/plain": [
       "<pandas.io.formats.style.Styler at 0x7fcd4fdc9490>"
      ]
     },
     "execution_count": 18,
     "metadata": {},
     "output_type": "execute_result"
    }
   ],
   "source": [
    "# Use colour highlighting to show \n",
    "# - in blue: decades in which a person published\n",
    "# - in red: decades in which a person served on as administrator\n",
    "author_admin_decade[cols].sort_values(by='author_surname_initial').style.apply(highlight_decade, axis=1)"
   ]
  },
  {
   "cell_type": "markdown",
   "metadata": {
    "tags": [
     "hermeneutics",
     "narrative"
    ]
   },
   "source": [
    "Table 5 contains a list of persons who both published research and had an administrative role. Each person is listed at least twice, once for the decades in which they publish in REMP or IM, once for publications in IMR and once for each administrative role they had. From the 80s, the list of persons with double roles decreases. Also, the balance shifts from Dutch to non-Dutch persons (figure 4). \n",
    "\n",
    "It is tempting to conclude from the decrease of the network that it fell apart and that the discourse coalition disappeared in the 1980s, but we argue that that is not the case. Rather, the explicit involvement of adminstrators in the network became less prominent and the discussion shifted to the academic part of the network. We know from the Beijer archive that at the end of the 1960s, beginning of the 1970s there was a dip in the REMP/IM activities and that he established contacts with IMR-editors, which also shows in the data. This also applies to Beijers Australian successor Appleyard.  At the same time, policy making strategies in ICM/IOM migration management was increasingly handed over to regional activities in the public domain in collaboration with think tanks and consultancy agencies, mostly on border control with biometrical instrument that were neither part of academia nor of public administration, and certainly contributed to a new phase in technocracy (Cf. <cite data-cite=\"3655479/LQ8F88BC\"></cite>, 72, 78-80; <cite data-cite=\"3655479/42V6U65E\"></cite>, 988, esp. note 17). They were informed by and participated in the ongoing discourse about migrant management. Because these agencies have no obligation for public accounting, as they perform their studies for political or administrative actors that do no longer directly interact with research, but are indirectly still informed by it. While it became harder to follow the administrative part of the discourse coalition in the datasets we used, we can still observe its research part as this continued in the same academic journals as before. "
   ]
  },
  {
   "cell_type": "markdown",
   "metadata": {
    "tags": [
     "hermeneutics"
    ]
   },
   "source": [
    "We want to visualise the geographical spread of administrators and members of governing boards in each decade from the 1950s until the 1990s.\n",
    "\n",
    "Step 1. We load the person category metadata (which governing boards they served on and when), and check the overlap between their period of membership and each decade. \n",
    "\n",
    "Step 2. We normalise the country codes (e.g. USA $\\rightarrow$ US, UK $\\rightarrow$ GB), excluding the persons for which we do not know the country of origin. \n",
    "\n",
    "Step 3. Create a geographical chart with a heat map highlighting the number of active board members per country."
   ]
  },
  {
   "cell_type": "code",
   "execution_count": 19,
   "metadata": {
    "tags": [
     "hermeneutics"
    ]
   },
   "outputs": [],
   "source": [
    "import scripts.datasets as dataset_api\n",
    "import scripts.data_wrangling as dw\n",
    "\n",
    "# Read the person category data\n",
    "category_records = dataset_api.read_person_category_records()\n",
    "\n",
    "# Create a dataframe with the decades in which each administrator was active\n",
    "decade_admin_df = dw.get_administrator_decades(category_records)\n",
    "\n",
    "# normalise country codes to be consistent\n",
    "country_code_map = {\n",
    "    'prs_country': {\n",
    "        'UK': 'GB',\n",
    "        'USA': 'US',\n",
    "        'UK /AU': 'AU',\n",
    "        '': 'US', \n",
    "    }\n",
    "}\n",
    "\n",
    "decade_admin_df = decade_admin_df.replace(country_code_map)\n",
    "\n",
    "# select only administrator for which country of origin is known\n",
    "decade_admin_df = decade_admin_df.loc[decade_admin_df.prs_country != 'unknown']\n",
    "\n",
    "# Create a dataframe per decade with the number of active administrators per country\n",
    "per_decade_df = {}\n",
    "\n",
    "for decade in range(1950, 2000, 10):\n",
    "    decade_df = decade_admin_df.loc[decade_admin_df[decade] > 0].prs_country.value_counts().rename_axis(\n",
    "        'country').reset_index(name='number')\n",
    "    decade_df['numeric'] = decade_df.country.map(lambda x: int(countries.get(x).numeric))\n",
    "    per_decade_df[decade] = decade_df"
   ]
  },
  {
   "cell_type": "code",
   "execution_count": 20,
   "metadata": {
    "tags": [
     "hermeneutics"
    ]
   },
   "outputs": [],
   "source": [
    "\n",
    "admin_charts = alt.hconcat()\n",
    "sphere = alt.sphere()\n",
    "graticule = alt.graticule()\n",
    "# Source of land data\n",
    "source = alt.topo_feature(vega_data.world_110m.url, 'countries')\n",
    "\n",
    "for decade in per_decade_df:\n",
    "    dec_colours_obj = alt.Color('number:Q',\n",
    "                                scale=alt.Scale(scheme='blues'),\n",
    "                                title=\"number\",\n",
    "                                legend=None)\n",
    "    admin_map = alt.layer(\n",
    "        alt.Chart(sphere, title=f\"{decade}\").mark_geoshape(fill='white'),\n",
    "        alt.Chart(graticule).mark_geoshape(stroke='white', strokeWidth=0.5),\n",
    "        alt.Chart(source\n",
    "                  ).mark_geoshape(stroke='black', ).encode(\n",
    "            color=dec_colours_obj\n",
    "        ).transform_lookup(\n",
    "            lookup='id',\n",
    "            from_=alt.LookupData(per_decade_df[decade], key='numeric', fields=['number']))\n",
    "    ).project(\n",
    "        'mercator',\n",
    "        scale=100,\n",
    "        center=[-170, 85]\n",
    "    ).properties(width=600, height=400)\n",
    "\n",
    "    histogram = alt.Chart(per_decade_df[decade]).mark_bar().encode(\n",
    "        x='country',\n",
    "        y=alt.Y('number:Q'),\n",
    "        color='number:Q'\n",
    "    ).properties(\n",
    "        height=400,\n",
    "        width=100\n",
    "    )\n",
    "\n",
    "    compound_chart = alt.hconcat(\n",
    "        admin_map,\n",
    "        histogram\n",
    "    )\n",
    "\n",
    "    admin_charts &= compound_chart\n",
    "\n"
   ]
  },
  {
   "cell_type": "code",
   "execution_count": 21,
   "metadata": {
    "jdh": {
     "object": {
      "source": [
       "figure 4: Provenance of Discourse Coalition Participants 1950s-1980s"
      ]
     }
    },
    "tags": [
     "figure-4",
     "hermeneutics",
     "hermeneutics-step",
     "narrative"
    ]
   },
   "outputs": [
    {
     "data": {
      "text/html": [
       "\n",
       "<div id=\"altair-viz-d095a2cdf49043878640533c7427f51b\"></div>\n",
       "<script type=\"text/javascript\">\n",
       "  (function(spec, embedOpt){\n",
       "    let outputDiv = document.currentScript.previousElementSibling;\n",
       "    if (outputDiv.id !== \"altair-viz-d095a2cdf49043878640533c7427f51b\") {\n",
       "      outputDiv = document.getElementById(\"altair-viz-d095a2cdf49043878640533c7427f51b\");\n",
       "    }\n",
       "    const paths = {\n",
       "      \"vega\": \"https://cdn.jsdelivr.net/npm//vega@5?noext\",\n",
       "      \"vega-lib\": \"https://cdn.jsdelivr.net/npm//vega-lib?noext\",\n",
       "      \"vega-lite\": \"https://cdn.jsdelivr.net/npm//vega-lite@4.8.1?noext\",\n",
       "      \"vega-embed\": \"https://cdn.jsdelivr.net/npm//vega-embed@6?noext\",\n",
       "    };\n",
       "\n",
       "    function loadScript(lib) {\n",
       "      return new Promise(function(resolve, reject) {\n",
       "        var s = document.createElement('script');\n",
       "        s.src = paths[lib];\n",
       "        s.async = true;\n",
       "        s.onload = () => resolve(paths[lib]);\n",
       "        s.onerror = () => reject(`Error loading script: ${paths[lib]}`);\n",
       "        document.getElementsByTagName(\"head\")[0].appendChild(s);\n",
       "      });\n",
       "    }\n",
       "\n",
       "    function showError(err) {\n",
       "      outputDiv.innerHTML = `<div class=\"error\" style=\"color:red;\">${err}</div>`;\n",
       "      throw err;\n",
       "    }\n",
       "\n",
       "    function displayChart(vegaEmbed) {\n",
       "      vegaEmbed(outputDiv, spec, embedOpt)\n",
       "        .catch(err => showError(`Javascript Error: ${err.message}<br>This usually means there's a typo in your chart specification. See the javascript console for the full traceback.`));\n",
       "    }\n",
       "\n",
       "    if(typeof define === \"function\" && define.amd) {\n",
       "      requirejs.config({paths});\n",
       "      require([\"vega-embed\"], displayChart, err => showError(`Error loading script: ${err.message}`));\n",
       "    } else if (typeof vegaEmbed === \"function\") {\n",
       "      displayChart(vegaEmbed);\n",
       "    } else {\n",
       "      loadScript(\"vega\")\n",
       "        .then(() => loadScript(\"vega-lite\"))\n",
       "        .then(() => loadScript(\"vega-embed\"))\n",
       "        .catch(showError)\n",
       "        .then(() => displayChart(vegaEmbed));\n",
       "    }\n",
       "  })({\"config\": {\"view\": {\"continuousWidth\": 400, \"continuousHeight\": 300, \"stroke\": null}, \"axis\": {\"labelFontSize\": 9, \"titleFontSize\": 16}}, \"vconcat\": [{\"hconcat\": []}, {\"hconcat\": [{\"layer\": [{\"data\": {\"sphere\": true}, \"mark\": {\"type\": \"geoshape\", \"fill\": \"white\"}, \"title\": \"1950\"}, {\"data\": {\"graticule\": true}, \"mark\": {\"type\": \"geoshape\", \"stroke\": \"white\", \"strokeWidth\": 0.5}}, {\"data\": {\"url\": \"https://cdn.jsdelivr.net/npm/vega-datasets@v1.29.0/data/world-110m.json\", \"format\": {\"feature\": \"countries\", \"type\": \"topojson\"}}, \"mark\": {\"type\": \"geoshape\", \"stroke\": \"black\"}, \"encoding\": {\"color\": {\"type\": \"quantitative\", \"field\": \"number\", \"legend\": null, \"scale\": {\"scheme\": \"blues\"}, \"title\": \"number\"}}, \"transform\": [{\"lookup\": \"id\", \"from\": {\"data\": {\"name\": \"data-452a8cdfa62e9f087a7d67e9b9c830c5\"}, \"key\": \"numeric\", \"fields\": [\"number\"]}}]}], \"height\": 400, \"projection\": {\"center\": [-170, 85], \"scale\": 100, \"type\": \"mercator\"}, \"width\": 600}, {\"data\": {\"name\": \"data-452a8cdfa62e9f087a7d67e9b9c830c5\"}, \"mark\": \"bar\", \"encoding\": {\"color\": {\"type\": \"quantitative\", \"field\": \"number\"}, \"x\": {\"type\": \"nominal\", \"field\": \"country\"}, \"y\": {\"type\": \"quantitative\", \"field\": \"number\"}}, \"height\": 400, \"width\": 100}]}, {\"hconcat\": [{\"layer\": [{\"data\": {\"sphere\": true}, \"mark\": {\"type\": \"geoshape\", \"fill\": \"white\"}, \"title\": \"1960\"}, {\"data\": {\"graticule\": true}, \"mark\": {\"type\": \"geoshape\", \"stroke\": \"white\", \"strokeWidth\": 0.5}}, {\"data\": {\"url\": \"https://cdn.jsdelivr.net/npm/vega-datasets@v1.29.0/data/world-110m.json\", \"format\": {\"feature\": \"countries\", \"type\": \"topojson\"}}, \"mark\": {\"type\": \"geoshape\", \"stroke\": \"black\"}, \"encoding\": {\"color\": {\"type\": \"quantitative\", \"field\": \"number\", \"legend\": null, \"scale\": {\"scheme\": \"blues\"}, \"title\": \"number\"}}, \"transform\": [{\"lookup\": \"id\", \"from\": {\"data\": {\"name\": \"data-d520742224268e392956f6cd34697ca3\"}, \"key\": \"numeric\", \"fields\": [\"number\"]}}]}], \"height\": 400, \"projection\": {\"center\": [-170, 85], \"scale\": 100, \"type\": \"mercator\"}, \"width\": 600}, {\"data\": {\"name\": \"data-d520742224268e392956f6cd34697ca3\"}, \"mark\": \"bar\", \"encoding\": {\"color\": {\"type\": \"quantitative\", \"field\": \"number\"}, \"x\": {\"type\": \"nominal\", \"field\": \"country\"}, \"y\": {\"type\": \"quantitative\", \"field\": \"number\"}}, \"height\": 400, \"width\": 100}]}, {\"hconcat\": [{\"layer\": [{\"data\": {\"sphere\": true}, \"mark\": {\"type\": \"geoshape\", \"fill\": \"white\"}, \"title\": \"1970\"}, {\"data\": {\"graticule\": true}, \"mark\": {\"type\": \"geoshape\", \"stroke\": \"white\", \"strokeWidth\": 0.5}}, {\"data\": {\"url\": \"https://cdn.jsdelivr.net/npm/vega-datasets@v1.29.0/data/world-110m.json\", \"format\": {\"feature\": \"countries\", \"type\": \"topojson\"}}, \"mark\": {\"type\": \"geoshape\", \"stroke\": \"black\"}, \"encoding\": {\"color\": {\"type\": \"quantitative\", \"field\": \"number\", \"legend\": null, \"scale\": {\"scheme\": \"blues\"}, \"title\": \"number\"}}, \"transform\": [{\"lookup\": \"id\", \"from\": {\"data\": {\"name\": \"data-110f45bd90cb32f5b9c898017754442d\"}, \"key\": \"numeric\", \"fields\": [\"number\"]}}]}], \"height\": 400, \"projection\": {\"center\": [-170, 85], \"scale\": 100, \"type\": \"mercator\"}, \"width\": 600}, {\"data\": {\"name\": \"data-110f45bd90cb32f5b9c898017754442d\"}, \"mark\": \"bar\", \"encoding\": {\"color\": {\"type\": \"quantitative\", \"field\": \"number\"}, \"x\": {\"type\": \"nominal\", \"field\": \"country\"}, \"y\": {\"type\": \"quantitative\", \"field\": \"number\"}}, \"height\": 400, \"width\": 100}]}, {\"hconcat\": [{\"layer\": [{\"data\": {\"sphere\": true}, \"mark\": {\"type\": \"geoshape\", \"fill\": \"white\"}, \"title\": \"1980\"}, {\"data\": {\"graticule\": true}, \"mark\": {\"type\": \"geoshape\", \"stroke\": \"white\", \"strokeWidth\": 0.5}}, {\"data\": {\"url\": \"https://cdn.jsdelivr.net/npm/vega-datasets@v1.29.0/data/world-110m.json\", \"format\": {\"feature\": \"countries\", \"type\": \"topojson\"}}, \"mark\": {\"type\": \"geoshape\", \"stroke\": \"black\"}, \"encoding\": {\"color\": {\"type\": \"quantitative\", \"field\": \"number\", \"legend\": null, \"scale\": {\"scheme\": \"blues\"}, \"title\": \"number\"}}, \"transform\": [{\"lookup\": \"id\", \"from\": {\"data\": {\"name\": \"data-122dc8cfefdc81bfed4fcc0a069e614e\"}, \"key\": \"numeric\", \"fields\": [\"number\"]}}]}], \"height\": 400, \"projection\": {\"center\": [-170, 85], \"scale\": 100, \"type\": \"mercator\"}, \"width\": 600}, {\"data\": {\"name\": \"data-122dc8cfefdc81bfed4fcc0a069e614e\"}, \"mark\": \"bar\", \"encoding\": {\"color\": {\"type\": \"quantitative\", \"field\": \"number\"}, \"x\": {\"type\": \"nominal\", \"field\": \"country\"}, \"y\": {\"type\": \"quantitative\", \"field\": \"number\"}}, \"height\": 400, \"width\": 100}]}, {\"hconcat\": [{\"layer\": [{\"data\": {\"sphere\": true}, \"mark\": {\"type\": \"geoshape\", \"fill\": \"white\"}, \"title\": \"1990\"}, {\"data\": {\"graticule\": true}, \"mark\": {\"type\": \"geoshape\", \"stroke\": \"white\", \"strokeWidth\": 0.5}}, {\"data\": {\"url\": \"https://cdn.jsdelivr.net/npm/vega-datasets@v1.29.0/data/world-110m.json\", \"format\": {\"feature\": \"countries\", \"type\": \"topojson\"}}, \"mark\": {\"type\": \"geoshape\", \"stroke\": \"black\"}, \"encoding\": {\"color\": {\"type\": \"quantitative\", \"field\": \"number\", \"legend\": null, \"scale\": {\"scheme\": \"blues\"}, \"title\": \"number\"}}, \"transform\": [{\"lookup\": \"id\", \"from\": {\"data\": {\"name\": \"data-28173fac62dc3d238915d3ce142eb0b7\"}, \"key\": \"numeric\", \"fields\": [\"number\"]}}]}], \"height\": 400, \"projection\": {\"center\": [-170, 85], \"scale\": 100, \"type\": \"mercator\"}, \"width\": 600}, {\"data\": {\"name\": \"data-28173fac62dc3d238915d3ce142eb0b7\"}, \"mark\": \"bar\", \"encoding\": {\"color\": {\"type\": \"quantitative\", \"field\": \"number\"}, \"x\": {\"type\": \"nominal\", \"field\": \"country\"}, \"y\": {\"type\": \"quantitative\", \"field\": \"number\"}}, \"height\": 400, \"width\": 100}]}], \"$schema\": \"https://vega.github.io/schema/vega-lite/v4.8.1.json\", \"datasets\": {\"data-452a8cdfa62e9f087a7d67e9b9c830c5\": [{\"country\": \"NL\", \"number\": 14, \"numeric\": 528}, {\"country\": \"FR\", \"number\": 6, \"numeric\": 250}, {\"country\": \"IT\", \"number\": 6, \"numeric\": 380}, {\"country\": \"DE\", \"number\": 5, \"numeric\": 276}, {\"country\": \"US\", \"number\": 4, \"numeric\": 840}, {\"country\": \"CH\", \"number\": 3, \"numeric\": 756}, {\"country\": \"BE\", \"number\": 2, \"numeric\": 56}, {\"country\": \"SE\", \"number\": 2, \"numeric\": 752}, {\"country\": \"AT\", \"number\": 1, \"numeric\": 40}, {\"country\": \"FI\", \"number\": 1, \"numeric\": 246}, {\"country\": \"GB\", \"number\": 1, \"numeric\": 826}, {\"country\": \"CA\", \"number\": 1, \"numeric\": 124}, {\"country\": \"ZA\", \"number\": 1, \"numeric\": 710}, {\"country\": \"AU\", \"number\": 1, \"numeric\": 36}, {\"country\": \"NO\", \"number\": 1, \"numeric\": 578}], \"data-d520742224268e392956f6cd34697ca3\": [{\"country\": \"NL\", \"number\": 13, \"numeric\": 528}, {\"country\": \"DE\", \"number\": 5, \"numeric\": 276}, {\"country\": \"US\", \"number\": 5, \"numeric\": 840}, {\"country\": \"FR\", \"number\": 4, \"numeric\": 250}, {\"country\": \"IT\", \"number\": 4, \"numeric\": 380}, {\"country\": \"AU\", \"number\": 4, \"numeric\": 36}, {\"country\": \"SE\", \"number\": 2, \"numeric\": 752}, {\"country\": \"CH\", \"number\": 2, \"numeric\": 756}, {\"country\": \"AT\", \"number\": 1, \"numeric\": 40}, {\"country\": \"BE\", \"number\": 1, \"numeric\": 56}, {\"country\": \"NO\", \"number\": 1, \"numeric\": 578}, {\"country\": \"FI\", \"number\": 1, \"numeric\": 246}, {\"country\": \"EE\", \"number\": 1, \"numeric\": 233}, {\"country\": \"IL\", \"number\": 1, \"numeric\": 376}, {\"country\": \"BR\", \"number\": 1, \"numeric\": 76}], \"data-110f45bd90cb32f5b9c898017754442d\": [{\"country\": \"NL\", \"number\": 3, \"numeric\": 528}, {\"country\": \"US\", \"number\": 3, \"numeric\": 840}, {\"country\": \"IT\", \"number\": 1, \"numeric\": 380}], \"data-122dc8cfefdc81bfed4fcc0a069e614e\": [{\"country\": \"US\", \"number\": 2, \"numeric\": 840}, {\"country\": \"NL\", \"number\": 1, \"numeric\": 528}, {\"country\": \"IT\", \"number\": 1, \"numeric\": 380}, {\"country\": \"CO\", \"number\": 1, \"numeric\": 170}], \"data-28173fac62dc3d238915d3ce142eb0b7\": [{\"country\": \"US\", \"number\": 2, \"numeric\": 840}, {\"country\": \"CO\", \"number\": 1, \"numeric\": 170}, {\"country\": \"PH\", \"number\": 1, \"numeric\": 608}, {\"country\": \"SN\", \"number\": 1, \"numeric\": 686}]}}, {\"mode\": \"vega-lite\"});\n",
       "</script>"
      ],
      "text/plain": [
       "alt.VConcatChart(...)"
      ]
     },
     "execution_count": 21,
     "metadata": {},
     "output_type": "execute_result"
    }
   ],
   "source": [
    "admin_charts.configure_axis(\n",
    "    labelFontSize=9, titleFontSize=16\n",
    ").configure_view(stroke=None)"
   ]
  },
  {
   "cell_type": "markdown",
   "metadata": {
    "tags": [
     "narrative"
    ]
   },
   "source": [
    "## Discourse evolution ##\n"
   ]
  },
  {
   "cell_type": "markdown",
   "metadata": {
    "tags": [
     "narrative"
    ]
   },
   "source": [
    "### Discourse Research Questions"
   ]
  },
  {
   "cell_type": "markdown",
   "metadata": {
    "tags": [
     "narrative"
    ]
   },
   "source": [
    "The overall subject of the discourse in the discourse coalition was the ‘planning’ and ‘guiding’ or in today’s words the management of migration. As we wrote above, migration in the early 1950s, when both REMP and ICEM and its predecessors were founded, was mainly about emigration from Europe. In the course of time this changed as Sauvy tentatively remarked in the early 1960s quoted above. Sauvy had a similar background as Haveman being educated at the Ecole Polytechnique and was a member of the French technocratic X-crise group and described by Nord as a 'decisionmaker'  (<cite data-cite=\"3655479/GD9N3A3H\"></cite>). Without going into the details, it is obvious he was right, and there was a change in migration streams in which Europe became an immigration area, instead of mainly an emigration area. It is also obvious that these changes in migration would have their influence on the discourse about migration management. In this section, we will analyse this evolution.\n"
   ]
  },
  {
   "cell_type": "markdown",
   "metadata": {
    "tags": [
     "narrative",
     "hermeneutics"
    ]
   },
   "source": [
    "In a first attempt to come to an analysis of the evolution of the discourse, we used the Worldcat analysis and word clouds for them (see REMP: https://worldcat.org/identities/lccn-n50070935/\n",
    "ICEM: https://worldcat.org/identities/lccn-n50055088/\n",
    "IOM: https://worldcat.org/identities/lccn-no90018047/). We recognize a strong attention for the outward movement (emigration) and metaphors like ‘assimilation’ from the post war modernization discourse that Raphael already mentioned. However, upon closer inspection and reflection, it is impossible to either know or distinguish who (i.e. which library) added those keywords or at what time. Moreover, it is not clear whether there were conscious or unconscious (or both) changes in the editorial policies for keywords. Therefore, we decided the wordclouds of Worldcat for our purposes should be regarded as artefacts constructed by Worldcat and could not be regarded as reliable qualifications of the discourse and its evolution. "
   ]
  },
  {
   "cell_type": "markdown",
   "metadata": {
    "tags": [
     "narrative",
     "hermeneutics"
    ]
   },
   "source": [
    "For our analysis of the discourse we have used other sources, of both a qualitative and a quantitative nature. The main sources we used are the articles in the _International Migration_ (IM) journal published under ICEM (and later IOM) sponsorship (datasource VI in the diagram above). As a comparison, we used the _International Migration Review_ (IMR) journal, with a comparable general migration scope and published in roughly the same period as _International Migration_ but  independent from ICEM. The aim of the comparison is to see whether the academic content of both journals was mainly determined by either developments in migration or those in the migration studies academic field or whether there was a lasting influence of ICEM/IOM sponsorship.\n",
    "\n",
    "For the quantitative title analyse, we only used the original authored contributions in both journals. IM also contains a number of anonymous (un-authored) contributions that we excluded from this quantitative analysis. We did not use the article fulltext, as we had no access to fulltext, but also because in our opinion the titles can be regarded as a means to engage in discourses, as they are the first and primary means to attract the attention of the readers of the journal. \n"
   ]
  },
  {
   "cell_type": "markdown",
   "metadata": {
    "tags": [
     "narrative",
     "hermeneutics"
    ]
   },
   "source": [
    "For the qualitative analysis, we used the anonymous articles in IM, under the assumption that anonymous articles were meant as a collective statement. Upon closer inspection, it appeared that this was indeed the case, as apart from review articles, bibliographies and a single obituray, they were mostly reports from ICEM conventions, that were held irregularly over the years. The close reading of these editorial articles offers an opportunity to explore the way ICEM conceptualized the relationship between science, **policymaking** and governance. Therefore we start by outlining these discussions and use a quantitative analysis of the journal titles to confirm or amend this qualitative analysis."
   ]
  },
  {
   "cell_type": "markdown",
   "metadata": {
    "tags": [
     "narrative"
    ]
   },
   "source": [
    "### Seminars"
   ]
  },
  {
   "cell_type": "markdown",
   "metadata": {
    "tags": [
     "narrative"
    ]
   },
   "source": [
    "In 1982 it was stated that “[t]he Intergovernmental Committee for Migration (ICM) has organized Seminars on Migrant Adaptation and Integration regularly since 1974” (<cite data-cite=\"3655479/75ITZX9T\"></cite>), but there were previous conferences that had a similar goal. In 1962 Haveman wrote that in 1961 there had been a ‘Seminar on \"The Role of International Migration in the Development of Modern Society” It took place in Turin on 14 and 15 October I961 and was organized by the Intergovernmental Committee for European Migration, with the co-operation and assistance of the Italian authorities.’ (<cite data-cite=\"3655479/MSDRDKEC\"></cite>) Its scientific director was the statistician and REMP-board member Giusippe Parenti. Contrary to later seminars, it included exclusively academic speakers and did not end in concrete policy recommendations.\n",
    "\n",
    "The purpose of the seminars is very clearly stated in 1979 in what already was the fith seminar on this topic  (<cite data-cite=\"3655479/4RB6A474\"></cite>): “The ICEM Seminars on Adaptation and Integration of Permanent Immigrants are intended as a forum for an exchange of views and experience in the field of migrant adaptation and integration between representatives of governments and international governmental and non-governmental organizations concerned with migration. The Seminars usually deal with two main subjects, divided into sub-topics, i.e. individual aspects, which are analysed and discussed on the basis of working papers prepared by experts on the subject matters chosen. In addition, governments and international organizations contribute information documents reflecting their own experiences and/or policies in those fields. General and specific recommendations on each sub-topic are formulated by the participants for guidance and action on a national or international level respectively.”  And it also gives an insight into the preparation of a Seminar: “The programme for this Seminar was prepared by a Working Group under the chairmanship of Mr. Rent Fourdin, Director General of the Chancellery, Ministry of Foreign Affairs, Belgium. The Working Group was composed of the Government Representatives of Argentina, Australia, Belgium, Brazil, Canada, Israel, Italy, Portugal, Turkey and the United States of America. [...] Experts from Australia, Belgium, France, Italy, Portugal, the Netherlands, Spain,Switzerland, Turkey and the U.S.A. prepared 11 working documents on the above-mentioned subjects and acted as discussion leaders during the Seminar.”\n",
    "\n",
    "After that, this is repeated several times and the Seminar also recommends ICEM to regularly organize seminars (<cite data-cite=\"3655479/FVXABUEW\"></cite>): \n",
    "\n",
    "1. “The Seminar recognizes the very considerable efforts that the ICEM Administration has to make in the organizing of Seminars. It stresses the importance of this international forum for the discussion of problems concerning migrants’ integration and submits to the competent governing bodies of ICEM the suggestion that the organization of seminars become a regular function of the Committee. \n",
    "2. The Seminar expresses the wish that at the appropriate time, a fifth seminar be organized under the auspices of ICEM and that the mandate of the Working Group which has assisted in the past in the preparation of seminars be confirmed. The principle of rotation among its members should be maintained.”\n",
    "\n",
    "\n"
   ]
  },
  {
   "cell_type": "markdown",
   "metadata": {
    "tags": [
     "narrative"
    ]
   },
   "source": [
    "### About discourse coalitions ###"
   ]
  },
  {
   "cell_type": "markdown",
   "metadata": {
    "tags": [
     "narrative"
    ]
   },
   "source": [
    "The desirability of a close connection between research and policymaking is affirmed over and over. The first explicit mention is in 1963, when the editorial stated that “Thanks to [a growing number of migration]  studies, a greater knowledge has been acquired of the many aspects of the migration process and thus it has been possible for the immigration countries to establish the conditions which will allow their immigration policies to succeed.” (<cite data-cite=\"3655479/QMQKWK6U\"></cite>) At the time much attention was devoted to migration in Latin America. The second 1963 editorial referred to ICEM policies regarding agricultural productivity: “Many of the programmes which the Intergovernmental Committee for European Migration has established to assist its Latin-American Member Governments are precisely designed to help with these problems. ICEM’S policy in the agricultural field is therefore designed to select and resettle small groups of skilled European farmers trained in up to date techniques of agricultural production.” (<cite data-cite=\"3655479/6DFSR6FZ\"></cite>) From previous research we know that Haveman during his ICEM-directorship had a special focus on stimulating selective European migration to Latin America, as can also be concluded from the 1964 editorial, which reported on the biannual ICEM Council- Session that was mainly concerned with Latin America (<cite data-cite=\"3655479/32E77X2A\"></cite>).  The entanglement of research and policy was made explicit when from 1965 onwards Dutch farmers were subsidized by the Dutch Government (ministery of development cooperation) to migrate to Latin-America as expert-migrants (<cite data-cite=\"3655479/MKBTDHSV\"></cite>, 391-398). \n",
    "\n",
    "\n",
    "An explicit connection between research and governance was made in 1976.  In the recommendations of the second ICEM Seminar, which from then on included representatives from governments, international and non-governmental organizations as well as experts, thus developing itself further in what Geiger & Koch now conceptualize as a world organization (2018). The first point was: “The establishment of a body of statistical data could be instrumental in coping with the range of problems concerning migration and more particularly family migration and/or family reunion. Such data are seen as an essential element also at the policy making level. There is therefore a great need for research both at the national and at the international level and governments are urged to take appropriate measures to make such research possible. Methods of data collection should not, however, make more difficult or increasingly hamper the movement of people across frontiers.” (<cite data-cite=\"3655479/4V8R7EWF\"></cite>) After that, the need for better statistics for policy making was explicitly repeated in all the Seminar recommendations in almost the same words. And in 1983 the Seminar even recommended that “ICM, in collaboration with other organizations, should be encouraged to establish pilot case studies to research this phenomenon. These could serve as an input for regional discussions.” (<cite data-cite=\"3655479/ADTMZT7F\"></cite>)\n",
    "\n",
    "\n",
    "It is remarkable that there is only an explicit call for statistical research. When in 1979 the topic of the Seminar was the adaptation of child migrants, the Seminar concluded that “scientific analysis and research in the field of the socio-psychology of the children of migrants has produced a whole range of very divergent data.” (<cite data-cite=\"3655479/4RB6A474\"></cite>) and that “There was a strong feeling that the results of this research are badly in need of being integrated and collated.” But immediately following this, the Seminar warned that “considering that the socialization problems of migrant children in the host country are conditioned by their economic, social and legal status in that country, the Seminar has drawn attention to the dangers of an excessive intrusion of psychology into the problems of the children of migrants.” This is the only instance when another field of research than statistics or demography was mentioned. \n"
   ]
  },
  {
   "cell_type": "markdown",
   "metadata": {
    "tags": [
     "narrative"
    ]
   },
   "source": [
    "### Agenda setting"
   ]
  },
  {
   "cell_type": "markdown",
   "metadata": {
    "tags": [
     "narrative"
    ]
   },
   "source": [
    "\n",
    "From the first seminar, these seem to have had a strong (research) agenda setting purpose. Haveman stated that “The fundamental problem facing the world today is how not to hinder, indeed how to facilitate, the development of society insofar as is considered to be advantageous to its members [...] Does international migration contribute to the solution of this problem; if so, what type of migration and in what way ?” (<cite data-cite=\"3655479/MSDRDKEC\"></cite>) We already cited Sauvy who stated around the same time that from the beginning of colonization, it had led to a migration from Europe, as a result of overpopulation but that at the beginning of the 1960s that was possibly changing. \n",
    "\n",
    "This agenda setting purpose can also be recognized in the 1963 issue, when attention was directed to migration to Latin America, as we already stated above: ”In order that our readers may be better acquainted with some of the problems facing Latin America today and with their many implications we have, therefore, decided to devote most of this issue of International Migration to the study of various agricultural settlements in Latin America” (<cite data-cite=\"3655479/QMQKWK6U\"></cite>) and in the following seminar US representative “Abba P. Schwartz said [...] 'Whatever help we give Latin America is, in the final analysis, self-help. Our destinies are bound together. If we are all to survive as free nations, we will only do so together'” (<cite data-cite=\"3655479/32E77X2A\"></cite>), bringing cold war rhetoric directly into the discussion.\n",
    "\n",
    "In 1968 all issues contain un-authored articles on the migration of university trained men. In reaction to a British report on this topic of a possible brain drain the Dutch ministery for Education and Sciences asked for advise, which resulted in a report from the “Working group for Emigration of Scientists\", presided by REMP-Board member Evert Hofstee (<cite data-cite=\"3655479/SU5JFDPW\"></cite>). In the last issue of 1968 a follow up article was written about the migration of scientist with special attention to the developing countries (<cite data-cite=\"3655479/ZNURTIHE\"></cite>). \n",
    "\n",
    "When we jump to 1979,  the agenda setting part seems to remain consistent: “The Seminar, meeting the wish expressed by several Latin American delegations, agreed that the next ICEM Seminar should examine problems more directly connected with that continent.” (<cite data-cite=\"3655479/4RB6A474\"></cite>)\n"
   ]
  },
  {
   "cell_type": "markdown",
   "metadata": {
    "tags": [
     "narrative"
    ]
   },
   "source": [
    "## Quantitative Analysis of the Discourse"
   ]
  },
  {
   "cell_type": "markdown",
   "metadata": {
    "tags": [
     "hermeneutics"
    ]
   },
   "source": [
    "## Research Questions - discourse\n",
    "\n",
    "The two separate questions have to be researched in different ways. Research question 1 refers to the content of the discourse and may be broken down in some more specific questions:\n",
    "\n",
    "* Are there global consistencies in the use of terminology and subjects of the IM journal\n",
    "* What are the most important topics\n",
    "* Do the topics shift over time and can we attach a periodization to the shifts. \n",
    "    - Does this periodization coincide with periodizations in institutional priorities identified elsewhere or do they either predecede or follow them?\n",
    "* Are there specific regions featured in the research\n",
    "    - Does this change over time and if so, is this related to/coincide with shifts in topics\n",
    "\n",
    "From the _network perspective_ we can add the following questions\n",
    "* Who are the authors of the articles in IM\n",
    "* Are specific authors connected to specific topics or regions or both \n",
    "    - Are there subgroups of authors concerned with a specific topic. Do these groups change in composition over time\n",
    "    - Can periodizations and changes in topics/regions be related to specific authors or groups of authors\n",
    "    "
   ]
  },
  {
   "cell_type": "markdown",
   "metadata": {
    "tags": [
     "hermeneutics",
     "narrative"
    ]
   },
   "source": [
    "## Research Questions - research-policy connections\n",
    "\n",
    "* have we been able to establish a connection between the authors and public administrators in our network analysis and does any changes in content reflect these connections\n",
    "* are there articles that reflect \n",
    "* are there any specific articles related to policy issues and how does this manifest itself\n",
    "* does the periodizations support conclusions about agenda setting on either policy or research side"
   ]
  },
  {
   "cell_type": "markdown",
   "metadata": {
    "tags": [
     "narrative"
    ]
   },
   "source": [
    "###  The datasets"
   ]
  },
  {
   "cell_type": "markdown",
   "metadata": {
    "tags": [
     "narrative",
     "hermeneutics"
    ]
   },
   "source": [
    "The datasets used for the analysis (IV, V, VI and VII in the diagram above) contain a total of 4,282 article titles, divided over 762 _REMP_ and _International Migration_ (IM) titles and 1678 _International Migration Review_ (IMR) titles. IMR also contains 1842 reviews of literature, that we left out of the comparison. The total number of articles increased from 100 in the 1950s to 1,490 in the 1990s. The IM set is smaller than the IMR set, but the rate varies. In the 1950s we have no IM and IMR titles and only 100 for REMP, so trends for this decade are tentative. In the 1960s the ratio between IM and IMR was 0.84 (i.e.IM published 0.84 articles per 1 article in IMR) and after that it changed to 0.30 in the 1970 to approximately 0.5 in the 1980s and 1990s. IMR research is dominant in the total numbers, but we use IMR mainly to see how trends in IM differ from the more general trends, so therefore we will often present a graph of both IM and general (IM+IMR) developments. \n",
    "\n",
    "Tracing topics in literature is difficult and subject to interpretation issues in every way. For trend analysis the relatively small word set made using with word counts good enough for our purposes; the method has the advantage of being transparent. Two thirds of individual words in titles only occurred once, so we classified title words into somewhat bigger topics by hand; the classi. Below, our analysis refers to these topics.  \n",
    "We manually identified topics and constructed word lists per topic by searching through the titles, inspired by the topic categories defined in the UCREL Semantic Analysis System (<cite data-cite=\"3655479/LN4UKSH7\"></cite>, <cite data-cite=\"3655479/YX3ERH3B\"></cite>). One set of topics covers directions of migration, another set focuses on aspects of management, a third on forms of migration and a fourth set on academic discplines. The graphs were all made by calculating the fraction of all title words that belong to a specific topic, for five year periods, starting from 1950 until 2000, increasing the start and end of the period by one year in each step (1950-1954, 1951-1955, 1952-1956, etc)."
   ]
  },
  {
   "cell_type": "code",
   "execution_count": 22,
   "metadata": {
    "code_folding": [],
    "tags": [
     "hermeneutics",
     "hermeneutics-step"
    ]
   },
   "outputs": [
    {
     "data": {
      "text/html": [
       "<dl><dt>cause_effect</dt>\n",
       "\t<dd>cause, causal, determinant, factor, influen, setting, effect, affect, impact, consequence, implication</dd>\n",
       "<dt>process</dt>\n",
       "\t<dd>process, dynamic, rate, development, pattern, change, changing, interact, relation, evolution, transform, interpretation, participat</dd>\n",
       "<dt>decision making</dt>\n",
       "\t<dd>policy, policies, politic, decision, management, managing, govern, promotion, planned, recruitment, law, act, implement, amend, guidelines, reform, program, enforcement, legislation, legislative, control, refine, revis, border, international, national, protection, coordination, rationale, administrat, examinat</dd>\n",
       "<dt>labour</dt>\n",
       "\t<dd>labour, labor, worker, work, employment, occupation,</dd>\n",
       "<dt>skill</dt>\n",
       "\t<dd>low-skill, skilled, skill, high-level, professional, intellectual, scientist, brain drain, vocational, vocational training</dd>\n",
       "<dt>legal</dt>\n",
       "\t<dd>illegal, legal, undocumented, unwanted, undesirable, citizenship, right</dd>\n",
       "<dt>forced</dt>\n",
       "\t<dd>involuntary, forced, refuge, refugee, necessity, war, conflict, asylum</dd>\n",
       "<dt>immigration</dt>\n",
       "\t<dd>immigrant, immigrate, immigration</dd>\n",
       "<dt>emigration</dt>\n",
       "\t<dd>emigrant, emigrate, emigration, overseas destination, voluntary return</dd>\n",
       "<dt>migration</dt>\n",
       "\t<dd>migratory, migrant, migración, migrantes, migratoria, migraciones, migraci, arbeitsmigranten, migratori, migrazioni, migratoire, migrações</dd>\n",
       "<dt>group</dt>\n",
       "\t<dd>family, household, community, group</dd>\n",
       "<dt>identity</dt>\n",
       "\t<dd>identity, nationality, nationalism, xenophob, ethnic, race, ideolog, naturali, assimilation, integration, adaptation , absorption</dd>\n",
       "</dl>"
      ],
      "text/plain": [
       "<IPython.core.display.HTML object>"
      ]
     },
     "execution_count": 22,
     "metadata": {},
     "output_type": "execute_result"
    }
   ],
   "source": [
    "from IPython.display import HTML\n",
    "from scripts.content_analysis import get_topic_words\n",
    "\n",
    "topic_words = get_topic_words()\n",
    "#pd.DataFrame(data=)\n",
    "out = ''\n",
    "for topic in topic_words:\n",
    "    out += f'<dt>{topic}</dt>\\n'\n",
    "    item = ', '.join(topic_words[topic])\n",
    "    out += f'\\t<dd>{item}</dd>\\n'\n",
    "HTML(f'<dl>{out}</dl>')\n",
    "#    print(f\"{topic}\\n\\t{', '.join(topic_words[topic])}\\n\")\n"
   ]
  },
  {
   "cell_type": "code",
   "execution_count": 23,
   "metadata": {
    "tags": [
     "hermeneutics",
     "hermeneutics-step"
    ]
   },
   "outputs": [],
   "source": [
    "topic_words['decision making'] = [\n",
    "    'policy',\n",
    "     'policies',\n",
    "     'politic',\n",
    "     'decision',\n",
    "     'management',\n",
    "     'managing',\n",
    "     'govern',\n",
    "     'promotion',\n",
    "     'planned',\n",
    "     'recruitment',\n",
    "     'implement',\n",
    "     'program',\n",
    "     'enforcement',\n",
    "     'control',\n",
    "     'border',\n",
    "     'international',\n",
    "     'national',\n",
    "     'protection',\n",
    "     'coordination',\n",
    "     'rationale',\n",
    "     'administrat',\n",
    "     'examinat'\n",
    "    # 'law',\n",
    "    # 'act',\n",
    "    # 'amend',\n",
    "    # 'guidelines',\n",
    "    # 'reform',\n",
    "    # 'legislation',\n",
    "    # 'legislative',\n",
    "    # 'refine',\n",
    "    # 'revis',\n",
    "]"
   ]
  },
  {
   "cell_type": "code",
   "execution_count": 24,
   "metadata": {
    "tags": [
     "hermeneutics",
     "hermeneutics-step"
    ]
   },
   "outputs": [],
   "source": [
    "from scripts.countries import CountryLookup\n",
    "import scripts.content_analysis as ca\n",
    "\n",
    "# Create country lookup instance\n",
    "lookup = CountryLookup()\n",
    "\n",
    "df = ca.read_publication_records()\n",
    "\n",
    "# Normalise titles \n",
    "# - remove punctuation and superscript\n",
    "# - normalise acronyms\n",
    "# - normalise whitespace\n",
    "# - resolve apostrophes\n",
    "# - map to lowercase\n",
    "df['normalised_title'] = df.article_title.apply(ca.normalise_title)\n",
    "\n"
   ]
  },
  {
   "cell_type": "code",
   "execution_count": 25,
   "metadata": {
    "tags": [
     "hermeneutics",
     "hermeneutics-step"
    ]
   },
   "outputs": [],
   "source": [
    "df_remp_im = df[df.dataset == 'REMP_IM']\n",
    "\n",
    "df_imr_research = df[df.dataset == 'IMR_research']"
   ]
  },
  {
   "cell_type": "code",
   "execution_count": 26,
   "metadata": {
    "jdh": {
     "object": {
      "source": [
       "figure 5: Migration Types"
      ]
     }
    },
    "tags": [
     "figure-5",
     "narrative",
     "hermeneutics",
     "hermeneutics-step"
    ]
   },
   "outputs": [
    {
     "data": {
      "text/html": [
       "\n",
       "<div id=\"altair-viz-eb339f3f1c2b47bb99c149402b763b20\"></div>\n",
       "<script type=\"text/javascript\">\n",
       "  (function(spec, embedOpt){\n",
       "    let outputDiv = document.currentScript.previousElementSibling;\n",
       "    if (outputDiv.id !== \"altair-viz-eb339f3f1c2b47bb99c149402b763b20\") {\n",
       "      outputDiv = document.getElementById(\"altair-viz-eb339f3f1c2b47bb99c149402b763b20\");\n",
       "    }\n",
       "    const paths = {\n",
       "      \"vega\": \"https://cdn.jsdelivr.net/npm//vega@5?noext\",\n",
       "      \"vega-lib\": \"https://cdn.jsdelivr.net/npm//vega-lib?noext\",\n",
       "      \"vega-lite\": \"https://cdn.jsdelivr.net/npm//vega-lite@4.8.1?noext\",\n",
       "      \"vega-embed\": \"https://cdn.jsdelivr.net/npm//vega-embed@6?noext\",\n",
       "    };\n",
       "\n",
       "    function loadScript(lib) {\n",
       "      return new Promise(function(resolve, reject) {\n",
       "        var s = document.createElement('script');\n",
       "        s.src = paths[lib];\n",
       "        s.async = true;\n",
       "        s.onload = () => resolve(paths[lib]);\n",
       "        s.onerror = () => reject(`Error loading script: ${paths[lib]}`);\n",
       "        document.getElementsByTagName(\"head\")[0].appendChild(s);\n",
       "      });\n",
       "    }\n",
       "\n",
       "    function showError(err) {\n",
       "      outputDiv.innerHTML = `<div class=\"error\" style=\"color:red;\">${err}</div>`;\n",
       "      throw err;\n",
       "    }\n",
       "\n",
       "    function displayChart(vegaEmbed) {\n",
       "      vegaEmbed(outputDiv, spec, embedOpt)\n",
       "        .catch(err => showError(`Javascript Error: ${err.message}<br>This usually means there's a typo in your chart specification. See the javascript console for the full traceback.`));\n",
       "    }\n",
       "\n",
       "    if(typeof define === \"function\" && define.amd) {\n",
       "      requirejs.config({paths});\n",
       "      require([\"vega-embed\"], displayChart, err => showError(`Error loading script: ${err.message}`));\n",
       "    } else if (typeof vegaEmbed === \"function\") {\n",
       "      displayChart(vegaEmbed);\n",
       "    } else {\n",
       "      loadScript(\"vega\")\n",
       "        .then(() => loadScript(\"vega-lite\"))\n",
       "        .then(() => loadScript(\"vega-embed\"))\n",
       "        .catch(showError)\n",
       "        .then(() => displayChart(vegaEmbed));\n",
       "    }\n",
       "  })({\"config\": {\"view\": {\"continuousWidth\": 400, \"continuousHeight\": 300}, \"title\": {\"align\": \"center\", \"color\": \"black\", \"font\": \"Verdana\", \"fontSize\": 20}}, \"vconcat\": [{\"data\": {\"name\": \"data-65a19cc2bff1cca2e1d876c1796d63aa\"}, \"mark\": \"line\", \"encoding\": {\"color\": {\"type\": \"ordinal\", \"field\": \"migration_type\", \"scale\": {\"reverse\": true, \"scheme\": \"set1\"}, \"title\": \"Migration types in REMP/IM\"}, \"x\": {\"type\": \"nominal\", \"axis\": {\"tickCount\": 10}, \"field\": \"years\"}, \"y\": {\"type\": \"quantitative\", \"field\": \"Fraction of REMP/IM articles\"}}}, {\"data\": {\"name\": \"data-866ccec43131fc8ecb3cacd70c5af1c7\"}, \"mark\": \"line\", \"encoding\": {\"color\": {\"type\": \"ordinal\", \"field\": \"migration_type\", \"scale\": {\"reverse\": true, \"scheme\": \"set1\"}, \"title\": \"Migration Types in IMR\"}, \"x\": {\"type\": \"nominal\", \"axis\": {\"tickCount\": 10}, \"field\": \"years\"}, \"y\": {\"type\": \"quantitative\", \"field\": \"Fraction of IMR articles\"}}}], \"title\": \"Migration types\", \"$schema\": \"https://vega.github.io/schema/vega-lite/v4.8.1.json\", \"datasets\": {\"data-65a19cc2bff1cca2e1d876c1796d63aa\": [{\"years\": \"1950-1955\", \"migration_type\": \"migration\", \"Fraction of REMP/IM articles\": 0.0}, {\"years\": \"1951-1956\", \"migration_type\": \"migration\", \"Fraction of REMP/IM articles\": 0.0}, {\"years\": \"1952-1957\", \"migration_type\": \"migration\", \"Fraction of REMP/IM articles\": 0.0}, {\"years\": \"1953-1958\", \"migration_type\": \"migration\", \"Fraction of REMP/IM articles\": 0.0}, {\"years\": \"1954-1959\", \"migration_type\": \"migration\", \"Fraction of REMP/IM articles\": 0.0}, {\"years\": \"1955-1960\", \"migration_type\": \"migration\", \"Fraction of REMP/IM articles\": 0.0}, {\"years\": \"1956-1961\", \"migration_type\": \"migration\", \"Fraction of REMP/IM articles\": 0.0}, {\"years\": \"1957-1962\", \"migration_type\": \"migration\", \"Fraction of REMP/IM articles\": 0.0}, {\"years\": \"1958-1963\", \"migration_type\": \"migration\", \"Fraction of REMP/IM articles\": 0.0}, {\"years\": \"1959-1964\", \"migration_type\": \"migration\", \"Fraction of REMP/IM articles\": 0.0}, {\"years\": \"1960-1965\", \"migration_type\": \"migration\", \"Fraction of REMP/IM articles\": 0.012658227848101266}, {\"years\": \"1961-1966\", \"migration_type\": \"migration\", \"Fraction of REMP/IM articles\": 0.03409090909090909}, {\"years\": \"1962-1967\", \"migration_type\": \"migration\", \"Fraction of REMP/IM articles\": 0.04878048780487805}, {\"years\": \"1963-1968\", \"migration_type\": \"migration\", \"Fraction of REMP/IM articles\": 0.04878048780487805}, {\"years\": \"1964-1969\", \"migration_type\": \"migration\", \"Fraction of REMP/IM articles\": 0.05813953488372093}, {\"years\": \"1965-1970\", \"migration_type\": \"migration\", \"Fraction of REMP/IM articles\": 0.08108108108108109}, {\"years\": \"1966-1971\", \"migration_type\": \"migration\", \"Fraction of REMP/IM articles\": 0.07142857142857142}, {\"years\": \"1967-1972\", \"migration_type\": \"migration\", \"Fraction of REMP/IM articles\": 0.07352941176470588}, {\"years\": \"1968-1973\", \"migration_type\": \"migration\", \"Fraction of REMP/IM articles\": 0.07692307692307693}, {\"years\": \"1969-1974\", \"migration_type\": \"migration\", \"Fraction of REMP/IM articles\": 0.125}, {\"years\": \"1970-1975\", \"migration_type\": \"migration\", \"Fraction of REMP/IM articles\": 0.10144927536231885}, {\"years\": \"1971-1976\", \"migration_type\": \"migration\", \"Fraction of REMP/IM articles\": 0.08450704225352113}, {\"years\": \"1972-1977\", \"migration_type\": \"migration\", \"Fraction of REMP/IM articles\": 0.12162162162162163}, {\"years\": \"1973-1978\", \"migration_type\": \"migration\", \"Fraction of REMP/IM articles\": 0.13432835820895522}, {\"years\": \"1974-1979\", \"migration_type\": \"migration\", \"Fraction of REMP/IM articles\": 0.1076923076923077}, {\"years\": \"1975-1980\", \"migration_type\": \"migration\", \"Fraction of REMP/IM articles\": 0.11764705882352941}, {\"years\": \"1976-1981\", \"migration_type\": \"migration\", \"Fraction of REMP/IM articles\": 0.14634146341463414}, {\"years\": \"1977-1982\", \"migration_type\": \"migration\", \"Fraction of REMP/IM articles\": 0.2619047619047619}, {\"years\": \"1978-1983\", \"migration_type\": \"migration\", \"Fraction of REMP/IM articles\": 0.26666666666666666}, {\"years\": \"1979-1984\", \"migration_type\": \"migration\", \"Fraction of REMP/IM articles\": 0.24193548387096775}, {\"years\": \"1980-1985\", \"migration_type\": \"migration\", \"Fraction of REMP/IM articles\": 0.20481927710843373}, {\"years\": \"1981-1986\", \"migration_type\": \"migration\", \"Fraction of REMP/IM articles\": 0.19047619047619047}, {\"years\": \"1982-1987\", \"migration_type\": \"migration\", \"Fraction of REMP/IM articles\": 0.16129032258064516}, {\"years\": \"1983-1988\", \"migration_type\": \"migration\", \"Fraction of REMP/IM articles\": 0.17687074829931973}, {\"years\": \"1984-1989\", \"migration_type\": \"migration\", \"Fraction of REMP/IM articles\": 0.1780821917808219}, {\"years\": \"1985-1990\", \"migration_type\": \"migration\", \"Fraction of REMP/IM articles\": 0.18867924528301888}, {\"years\": \"1986-1991\", \"migration_type\": \"migration\", \"Fraction of REMP/IM articles\": 0.1927710843373494}, {\"years\": \"1987-1992\", \"migration_type\": \"migration\", \"Fraction of REMP/IM articles\": 0.17159763313609466}, {\"years\": \"1988-1993\", \"migration_type\": \"migration\", \"Fraction of REMP/IM articles\": 0.17901234567901234}, {\"years\": \"1989-1994\", \"migration_type\": \"migration\", \"Fraction of REMP/IM articles\": 0.15337423312883436}, {\"years\": \"1990-1995\", \"migration_type\": \"migration\", \"Fraction of REMP/IM articles\": 0.1346153846153846}, {\"years\": \"1991-1996\", \"migration_type\": \"migration\", \"Fraction of REMP/IM articles\": 0.1267605633802817}, {\"years\": \"1992-1997\", \"migration_type\": \"migration\", \"Fraction of REMP/IM articles\": 0.0962962962962963}, {\"years\": \"1993-1998\", \"migration_type\": \"migration\", \"Fraction of REMP/IM articles\": 0.06015037593984962}, {\"years\": \"1994-1999\", \"migration_type\": \"migration\", \"Fraction of REMP/IM articles\": 0.07751937984496124}, {\"years\": \"1950-1955\", \"migration_type\": \"immigration\", \"Fraction of REMP/IM articles\": 0.10869565217391304}, {\"years\": \"1951-1956\", \"migration_type\": \"immigration\", \"Fraction of REMP/IM articles\": 0.1206896551724138}, {\"years\": \"1952-1957\", \"migration_type\": \"immigration\", \"Fraction of REMP/IM articles\": 0.2}, {\"years\": \"1953-1958\", \"migration_type\": \"immigration\", \"Fraction of REMP/IM articles\": 0.25}, {\"years\": \"1954-1959\", \"migration_type\": \"immigration\", \"Fraction of REMP/IM articles\": 0.2878787878787879}, {\"years\": \"1955-1960\", \"migration_type\": \"immigration\", \"Fraction of REMP/IM articles\": 0.35714285714285715}, {\"years\": \"1956-1961\", \"migration_type\": \"immigration\", \"Fraction of REMP/IM articles\": 0.38461538461538464}, {\"years\": \"1957-1962\", \"migration_type\": \"immigration\", \"Fraction of REMP/IM articles\": 0.3442622950819672}, {\"years\": \"1958-1963\", \"migration_type\": \"immigration\", \"Fraction of REMP/IM articles\": 0.26865671641791045}, {\"years\": \"1959-1964\", \"migration_type\": \"immigration\", \"Fraction of REMP/IM articles\": 0.2571428571428571}, {\"years\": \"1960-1965\", \"migration_type\": \"immigration\", \"Fraction of REMP/IM articles\": 0.20253164556962025}, {\"years\": \"1961-1966\", \"migration_type\": \"immigration\", \"Fraction of REMP/IM articles\": 0.22727272727272727}, {\"years\": \"1962-1967\", \"migration_type\": \"immigration\", \"Fraction of REMP/IM articles\": 0.2073170731707317}, {\"years\": \"1963-1968\", \"migration_type\": \"immigration\", \"Fraction of REMP/IM articles\": 0.2682926829268293}, {\"years\": \"1964-1969\", \"migration_type\": \"immigration\", \"Fraction of REMP/IM articles\": 0.29069767441860467}, {\"years\": \"1965-1970\", \"migration_type\": \"immigration\", \"Fraction of REMP/IM articles\": 0.3108108108108108}, {\"years\": \"1966-1971\", \"migration_type\": \"immigration\", \"Fraction of REMP/IM articles\": 0.2714285714285714}, {\"years\": \"1967-1972\", \"migration_type\": \"immigration\", \"Fraction of REMP/IM articles\": 0.22058823529411764}, {\"years\": \"1968-1973\", \"migration_type\": \"immigration\", \"Fraction of REMP/IM articles\": 0.24615384615384617}, {\"years\": \"1969-1974\", \"migration_type\": \"immigration\", \"Fraction of REMP/IM articles\": 0.203125}, {\"years\": \"1970-1975\", \"migration_type\": \"immigration\", \"Fraction of REMP/IM articles\": 0.2318840579710145}, {\"years\": \"1971-1976\", \"migration_type\": \"immigration\", \"Fraction of REMP/IM articles\": 0.22535211267605634}, {\"years\": \"1972-1977\", \"migration_type\": \"immigration\", \"Fraction of REMP/IM articles\": 0.28378378378378377}, {\"years\": \"1973-1978\", \"migration_type\": \"immigration\", \"Fraction of REMP/IM articles\": 0.23880597014925373}, {\"years\": \"1974-1979\", \"migration_type\": \"immigration\", \"Fraction of REMP/IM articles\": 0.26153846153846155}, {\"years\": \"1975-1980\", \"migration_type\": \"immigration\", \"Fraction of REMP/IM articles\": 0.2549019607843137}, {\"years\": \"1976-1981\", \"migration_type\": \"immigration\", \"Fraction of REMP/IM articles\": 0.3170731707317073}, {\"years\": \"1977-1982\", \"migration_type\": \"immigration\", \"Fraction of REMP/IM articles\": 0.21428571428571427}, {\"years\": \"1978-1983\", \"migration_type\": \"immigration\", \"Fraction of REMP/IM articles\": 0.17777777777777778}, {\"years\": \"1979-1984\", \"migration_type\": \"immigration\", \"Fraction of REMP/IM articles\": 0.1774193548387097}, {\"years\": \"1980-1985\", \"migration_type\": \"immigration\", \"Fraction of REMP/IM articles\": 0.1927710843373494}, {\"years\": \"1981-1986\", \"migration_type\": \"immigration\", \"Fraction of REMP/IM articles\": 0.2}, {\"years\": \"1982-1987\", \"migration_type\": \"immigration\", \"Fraction of REMP/IM articles\": 0.1935483870967742}, {\"years\": \"1983-1988\", \"migration_type\": \"immigration\", \"Fraction of REMP/IM articles\": 0.19727891156462585}, {\"years\": \"1984-1989\", \"migration_type\": \"immigration\", \"Fraction of REMP/IM articles\": 0.1917808219178082}, {\"years\": \"1985-1990\", \"migration_type\": \"immigration\", \"Fraction of REMP/IM articles\": 0.16352201257861634}, {\"years\": \"1986-1991\", \"migration_type\": \"immigration\", \"Fraction of REMP/IM articles\": 0.1686746987951807}, {\"years\": \"1987-1992\", \"migration_type\": \"immigration\", \"Fraction of REMP/IM articles\": 0.17159763313609466}, {\"years\": \"1988-1993\", \"migration_type\": \"immigration\", \"Fraction of REMP/IM articles\": 0.16049382716049382}, {\"years\": \"1989-1994\", \"migration_type\": \"immigration\", \"Fraction of REMP/IM articles\": 0.1411042944785276}, {\"years\": \"1990-1995\", \"migration_type\": \"immigration\", \"Fraction of REMP/IM articles\": 0.16666666666666666}, {\"years\": \"1991-1996\", \"migration_type\": \"immigration\", \"Fraction of REMP/IM articles\": 0.13380281690140844}, {\"years\": \"1992-1997\", \"migration_type\": \"immigration\", \"Fraction of REMP/IM articles\": 0.17037037037037037}, {\"years\": \"1993-1998\", \"migration_type\": \"immigration\", \"Fraction of REMP/IM articles\": 0.19548872180451127}, {\"years\": \"1994-1999\", \"migration_type\": \"immigration\", \"Fraction of REMP/IM articles\": 0.2248062015503876}, {\"years\": \"1950-1955\", \"migration_type\": \"emigration\", \"Fraction of REMP/IM articles\": 0.21739130434782608}, {\"years\": \"1951-1956\", \"migration_type\": \"emigration\", \"Fraction of REMP/IM articles\": 0.1896551724137931}, {\"years\": \"1952-1957\", \"migration_type\": \"emigration\", \"Fraction of REMP/IM articles\": 0.13846153846153847}, {\"years\": \"1953-1958\", \"migration_type\": \"emigration\", \"Fraction of REMP/IM articles\": 0.10294117647058823}, {\"years\": \"1954-1959\", \"migration_type\": \"emigration\", \"Fraction of REMP/IM articles\": 0.10606060606060606}, {\"years\": \"1955-1960\", \"migration_type\": \"emigration\", \"Fraction of REMP/IM articles\": 0.05357142857142857}, {\"years\": \"1956-1961\", \"migration_type\": \"emigration\", \"Fraction of REMP/IM articles\": 0.057692307692307696}, {\"years\": \"1957-1962\", \"migration_type\": \"emigration\", \"Fraction of REMP/IM articles\": 0.08196721311475409}, {\"years\": \"1958-1963\", \"migration_type\": \"emigration\", \"Fraction of REMP/IM articles\": 0.13432835820895522}, {\"years\": \"1959-1964\", \"migration_type\": \"emigration\", \"Fraction of REMP/IM articles\": 0.12857142857142856}, {\"years\": \"1960-1965\", \"migration_type\": \"emigration\", \"Fraction of REMP/IM articles\": 0.11392405063291139}, {\"years\": \"1961-1966\", \"migration_type\": \"emigration\", \"Fraction of REMP/IM articles\": 0.09090909090909091}, {\"years\": \"1962-1967\", \"migration_type\": \"emigration\", \"Fraction of REMP/IM articles\": 0.08536585365853659}, {\"years\": \"1963-1968\", \"migration_type\": \"emigration\", \"Fraction of REMP/IM articles\": 0.04878048780487805}, {\"years\": \"1964-1969\", \"migration_type\": \"emigration\", \"Fraction of REMP/IM articles\": 0.046511627906976744}, {\"years\": \"1965-1970\", \"migration_type\": \"emigration\", \"Fraction of REMP/IM articles\": 0.04054054054054054}, {\"years\": \"1966-1971\", \"migration_type\": \"emigration\", \"Fraction of REMP/IM articles\": 0.04285714285714286}, {\"years\": \"1967-1972\", \"migration_type\": \"emigration\", \"Fraction of REMP/IM articles\": 0.029411764705882353}, {\"years\": \"1968-1973\", \"migration_type\": \"emigration\", \"Fraction of REMP/IM articles\": 0.015384615384615385}, {\"years\": \"1969-1974\", \"migration_type\": \"emigration\", \"Fraction of REMP/IM articles\": 0.03125}, {\"years\": \"1970-1975\", \"migration_type\": \"emigration\", \"Fraction of REMP/IM articles\": 0.043478260869565216}, {\"years\": \"1971-1976\", \"migration_type\": \"emigration\", \"Fraction of REMP/IM articles\": 0.04225352112676056}, {\"years\": \"1972-1977\", \"migration_type\": \"emigration\", \"Fraction of REMP/IM articles\": 0.05405405405405406}, {\"years\": \"1973-1978\", \"migration_type\": \"emigration\", \"Fraction of REMP/IM articles\": 0.05970149253731343}, {\"years\": \"1974-1979\", \"migration_type\": \"emigration\", \"Fraction of REMP/IM articles\": 0.03076923076923077}, {\"years\": \"1975-1980\", \"migration_type\": \"emigration\", \"Fraction of REMP/IM articles\": 0.0196078431372549}, {\"years\": \"1976-1981\", \"migration_type\": \"emigration\", \"Fraction of REMP/IM articles\": 0.024390243902439025}, {\"years\": \"1977-1982\", \"migration_type\": \"emigration\", \"Fraction of REMP/IM articles\": 0.0}, {\"years\": \"1978-1983\", \"migration_type\": \"emigration\", \"Fraction of REMP/IM articles\": 0.044444444444444446}, {\"years\": \"1979-1984\", \"migration_type\": \"emigration\", \"Fraction of REMP/IM articles\": 0.04838709677419355}, {\"years\": \"1980-1985\", \"migration_type\": \"emigration\", \"Fraction of REMP/IM articles\": 0.04819277108433735}, {\"years\": \"1981-1986\", \"migration_type\": \"emigration\", \"Fraction of REMP/IM articles\": 0.0380952380952381}, {\"years\": \"1982-1987\", \"migration_type\": \"emigration\", \"Fraction of REMP/IM articles\": 0.056451612903225805}, {\"years\": \"1983-1988\", \"migration_type\": \"emigration\", \"Fraction of REMP/IM articles\": 0.034013605442176874}, {\"years\": \"1984-1989\", \"migration_type\": \"emigration\", \"Fraction of REMP/IM articles\": 0.0273972602739726}, {\"years\": \"1985-1990\", \"migration_type\": \"emigration\", \"Fraction of REMP/IM articles\": 0.018867924528301886}, {\"years\": \"1986-1991\", \"migration_type\": \"emigration\", \"Fraction of REMP/IM articles\": 0.03614457831325301}, {\"years\": \"1987-1992\", \"migration_type\": \"emigration\", \"Fraction of REMP/IM articles\": 0.023668639053254437}, {\"years\": \"1988-1993\", \"migration_type\": \"emigration\", \"Fraction of REMP/IM articles\": 0.024691358024691357}, {\"years\": \"1989-1994\", \"migration_type\": \"emigration\", \"Fraction of REMP/IM articles\": 0.03067484662576687}, {\"years\": \"1990-1995\", \"migration_type\": \"emigration\", \"Fraction of REMP/IM articles\": 0.0641025641025641}, {\"years\": \"1991-1996\", \"migration_type\": \"emigration\", \"Fraction of REMP/IM articles\": 0.11267605633802817}, {\"years\": \"1992-1997\", \"migration_type\": \"emigration\", \"Fraction of REMP/IM articles\": 0.14814814814814814}, {\"years\": \"1993-1998\", \"migration_type\": \"emigration\", \"Fraction of REMP/IM articles\": 0.15037593984962405}, {\"years\": \"1994-1999\", \"migration_type\": \"emigration\", \"Fraction of REMP/IM articles\": 0.14728682170542637}], \"data-866ccec43131fc8ecb3cacd70c5af1c7\": [{\"years\": \"1950-1955\", \"migration_type\": \"migration\", \"Fraction of IMR articles\": 0.0}, {\"years\": \"1951-1956\", \"migration_type\": \"migration\", \"Fraction of IMR articles\": 0.0}, {\"years\": \"1952-1957\", \"migration_type\": \"migration\", \"Fraction of IMR articles\": 0.0}, {\"years\": \"1953-1958\", \"migration_type\": \"migration\", \"Fraction of IMR articles\": 0.0}, {\"years\": \"1954-1959\", \"migration_type\": \"migration\", \"Fraction of IMR articles\": 0.0}, {\"years\": \"1955-1960\", \"migration_type\": \"migration\", \"Fraction of IMR articles\": 0.0}, {\"years\": \"1956-1961\", \"migration_type\": \"migration\", \"Fraction of IMR articles\": 0.0}, {\"years\": \"1957-1962\", \"migration_type\": \"migration\", \"Fraction of IMR articles\": 0.0}, {\"years\": \"1958-1963\", \"migration_type\": \"migration\", \"Fraction of IMR articles\": 0.0}, {\"years\": \"1959-1964\", \"migration_type\": \"migration\", \"Fraction of IMR articles\": 0.0}, {\"years\": \"1960-1965\", \"migration_type\": \"migration\", \"Fraction of IMR articles\": 0.06451612903225806}, {\"years\": \"1961-1966\", \"migration_type\": \"migration\", \"Fraction of IMR articles\": 0.058823529411764705}, {\"years\": \"1962-1967\", \"migration_type\": \"migration\", \"Fraction of IMR articles\": 0.046153846153846156}, {\"years\": \"1963-1968\", \"migration_type\": \"migration\", \"Fraction of IMR articles\": 0.0449438202247191}, {\"years\": \"1964-1969\", \"migration_type\": \"migration\", \"Fraction of IMR articles\": 0.05660377358490566}, {\"years\": \"1965-1970\", \"migration_type\": \"migration\", \"Fraction of IMR articles\": 0.04395604395604396}, {\"years\": \"1966-1971\", \"migration_type\": \"migration\", \"Fraction of IMR articles\": 0.038834951456310676}, {\"years\": \"1967-1972\", \"migration_type\": \"migration\", \"Fraction of IMR articles\": 0.03333333333333333}, {\"years\": \"1968-1973\", \"migration_type\": \"migration\", \"Fraction of IMR articles\": 0.025157232704402517}, {\"years\": \"1969-1974\", \"migration_type\": \"migration\", \"Fraction of IMR articles\": 0.011764705882352941}, {\"years\": \"1970-1975\", \"migration_type\": \"migration\", \"Fraction of IMR articles\": 0.022099447513812154}, {\"years\": \"1971-1976\", \"migration_type\": \"migration\", \"Fraction of IMR articles\": 0.03208556149732621}, {\"years\": \"1972-1977\", \"migration_type\": \"migration\", \"Fraction of IMR articles\": 0.03260869565217391}, {\"years\": \"1973-1978\", \"migration_type\": \"migration\", \"Fraction of IMR articles\": 0.040268456375838924}, {\"years\": \"1974-1979\", \"migration_type\": \"migration\", \"Fraction of IMR articles\": 0.08163265306122448}, {\"years\": \"1975-1980\", \"migration_type\": \"migration\", \"Fraction of IMR articles\": 0.07547169811320754}, {\"years\": \"1976-1981\", \"migration_type\": \"migration\", \"Fraction of IMR articles\": 0.05660377358490566}, {\"years\": \"1977-1982\", \"migration_type\": \"migration\", \"Fraction of IMR articles\": 0.05789473684210526}, {\"years\": \"1978-1983\", \"migration_type\": \"migration\", \"Fraction of IMR articles\": 0.05612244897959184}, {\"years\": \"1979-1984\", \"migration_type\": \"migration\", \"Fraction of IMR articles\": 0.04602510460251046}, {\"years\": \"1980-1985\", \"migration_type\": \"migration\", \"Fraction of IMR articles\": 0.05384615384615385}, {\"years\": \"1981-1986\", \"migration_type\": \"migration\", \"Fraction of IMR articles\": 0.05952380952380952}, {\"years\": \"1982-1987\", \"migration_type\": \"migration\", \"Fraction of IMR articles\": 0.064}, {\"years\": \"1983-1988\", \"migration_type\": \"migration\", \"Fraction of IMR articles\": 0.06593406593406594}, {\"years\": \"1984-1989\", \"migration_type\": \"migration\", \"Fraction of IMR articles\": 0.059322033898305086}, {\"years\": \"1985-1990\", \"migration_type\": \"migration\", \"Fraction of IMR articles\": 0.046511627906976744}, {\"years\": \"1986-1991\", \"migration_type\": \"migration\", \"Fraction of IMR articles\": 0.05555555555555555}, {\"years\": \"1987-1992\", \"migration_type\": \"migration\", \"Fraction of IMR articles\": 0.08629441624365482}, {\"years\": \"1988-1993\", \"migration_type\": \"migration\", \"Fraction of IMR articles\": 0.08040201005025126}, {\"years\": \"1989-1994\", \"migration_type\": \"migration\", \"Fraction of IMR articles\": 0.08130081300813008}, {\"years\": \"1990-1995\", \"migration_type\": \"migration\", \"Fraction of IMR articles\": 0.056716417910447764}, {\"years\": \"1991-1996\", \"migration_type\": \"migration\", \"Fraction of IMR articles\": 0.047493403693931395}, {\"years\": \"1992-1997\", \"migration_type\": \"migration\", \"Fraction of IMR articles\": 0.039603960396039604}, {\"years\": \"1993-1998\", \"migration_type\": \"migration\", \"Fraction of IMR articles\": 0.04773869346733668}, {\"years\": \"1994-1999\", \"migration_type\": \"migration\", \"Fraction of IMR articles\": 0.04189944134078212}, {\"years\": \"1950-1955\", \"migration_type\": \"immigration\", \"Fraction of IMR articles\": 0.0}, {\"years\": \"1951-1956\", \"migration_type\": \"immigration\", \"Fraction of IMR articles\": 0.0}, {\"years\": \"1952-1957\", \"migration_type\": \"immigration\", \"Fraction of IMR articles\": 0.0}, {\"years\": \"1953-1958\", \"migration_type\": \"immigration\", \"Fraction of IMR articles\": 0.0}, {\"years\": \"1954-1959\", \"migration_type\": \"immigration\", \"Fraction of IMR articles\": 0.0}, {\"years\": \"1955-1960\", \"migration_type\": \"immigration\", \"Fraction of IMR articles\": 0.0}, {\"years\": \"1956-1961\", \"migration_type\": \"immigration\", \"Fraction of IMR articles\": 0.0}, {\"years\": \"1957-1962\", \"migration_type\": \"immigration\", \"Fraction of IMR articles\": 0.0}, {\"years\": \"1958-1963\", \"migration_type\": \"immigration\", \"Fraction of IMR articles\": 0.0}, {\"years\": \"1959-1964\", \"migration_type\": \"immigration\", \"Fraction of IMR articles\": 0.0}, {\"years\": \"1960-1965\", \"migration_type\": \"immigration\", \"Fraction of IMR articles\": 0.3548387096774194}, {\"years\": \"1961-1966\", \"migration_type\": \"immigration\", \"Fraction of IMR articles\": 0.27450980392156865}, {\"years\": \"1962-1967\", \"migration_type\": \"immigration\", \"Fraction of IMR articles\": 0.27692307692307694}, {\"years\": \"1963-1968\", \"migration_type\": \"immigration\", \"Fraction of IMR articles\": 0.24719101123595505}, {\"years\": \"1964-1969\", \"migration_type\": \"immigration\", \"Fraction of IMR articles\": 0.24528301886792453}, {\"years\": \"1965-1970\", \"migration_type\": \"immigration\", \"Fraction of IMR articles\": 0.21978021978021978}, {\"years\": \"1966-1971\", \"migration_type\": \"immigration\", \"Fraction of IMR articles\": 0.23300970873786409}, {\"years\": \"1967-1972\", \"migration_type\": \"immigration\", \"Fraction of IMR articles\": 0.23333333333333334}, {\"years\": \"1968-1973\", \"migration_type\": \"immigration\", \"Fraction of IMR articles\": 0.2578616352201258}, {\"years\": \"1969-1974\", \"migration_type\": \"immigration\", \"Fraction of IMR articles\": 0.22941176470588234}, {\"years\": \"1970-1975\", \"migration_type\": \"immigration\", \"Fraction of IMR articles\": 0.23204419889502761}, {\"years\": \"1971-1976\", \"migration_type\": \"immigration\", \"Fraction of IMR articles\": 0.25133689839572193}, {\"years\": \"1972-1977\", \"migration_type\": \"immigration\", \"Fraction of IMR articles\": 0.24456521739130435}, {\"years\": \"1973-1978\", \"migration_type\": \"immigration\", \"Fraction of IMR articles\": 0.2214765100671141}, {\"years\": \"1974-1979\", \"migration_type\": \"immigration\", \"Fraction of IMR articles\": 0.24489795918367346}, {\"years\": \"1975-1980\", \"migration_type\": \"immigration\", \"Fraction of IMR articles\": 0.20754716981132076}, {\"years\": \"1976-1981\", \"migration_type\": \"immigration\", \"Fraction of IMR articles\": 0.16981132075471697}, {\"years\": \"1977-1982\", \"migration_type\": \"immigration\", \"Fraction of IMR articles\": 0.14210526315789473}, {\"years\": \"1978-1983\", \"migration_type\": \"immigration\", \"Fraction of IMR articles\": 0.1326530612244898}, {\"years\": \"1979-1984\", \"migration_type\": \"immigration\", \"Fraction of IMR articles\": 0.11297071129707113}, {\"years\": \"1980-1985\", \"migration_type\": \"immigration\", \"Fraction of IMR articles\": 0.16923076923076924}, {\"years\": \"1981-1986\", \"migration_type\": \"immigration\", \"Fraction of IMR articles\": 0.18253968253968253}, {\"years\": \"1982-1987\", \"migration_type\": \"immigration\", \"Fraction of IMR articles\": 0.184}, {\"years\": \"1983-1988\", \"migration_type\": \"immigration\", \"Fraction of IMR articles\": 0.20146520146520147}, {\"years\": \"1984-1989\", \"migration_type\": \"immigration\", \"Fraction of IMR articles\": 0.24152542372881355}, {\"years\": \"1985-1990\", \"migration_type\": \"immigration\", \"Fraction of IMR articles\": 0.2186046511627907}, {\"years\": \"1986-1991\", \"migration_type\": \"immigration\", \"Fraction of IMR articles\": 0.20833333333333334}, {\"years\": \"1987-1992\", \"migration_type\": \"immigration\", \"Fraction of IMR articles\": 0.23857868020304568}, {\"years\": \"1988-1993\", \"migration_type\": \"immigration\", \"Fraction of IMR articles\": 0.2562814070351759}, {\"years\": \"1989-1994\", \"migration_type\": \"immigration\", \"Fraction of IMR articles\": 0.23170731707317074}, {\"years\": \"1990-1995\", \"migration_type\": \"immigration\", \"Fraction of IMR articles\": 0.18208955223880596}, {\"years\": \"1991-1996\", \"migration_type\": \"immigration\", \"Fraction of IMR articles\": 0.17678100263852242}, {\"years\": \"1992-1997\", \"migration_type\": \"immigration\", \"Fraction of IMR articles\": 0.17326732673267325}, {\"years\": \"1993-1998\", \"migration_type\": \"immigration\", \"Fraction of IMR articles\": 0.16834170854271358}, {\"years\": \"1994-1999\", \"migration_type\": \"immigration\", \"Fraction of IMR articles\": 0.18435754189944134}, {\"years\": \"1950-1955\", \"migration_type\": \"emigration\", \"Fraction of IMR articles\": 0.0}, {\"years\": \"1951-1956\", \"migration_type\": \"emigration\", \"Fraction of IMR articles\": 0.0}, {\"years\": \"1952-1957\", \"migration_type\": \"emigration\", \"Fraction of IMR articles\": 0.0}, {\"years\": \"1953-1958\", \"migration_type\": \"emigration\", \"Fraction of IMR articles\": 0.0}, {\"years\": \"1954-1959\", \"migration_type\": \"emigration\", \"Fraction of IMR articles\": 0.0}, {\"years\": \"1955-1960\", \"migration_type\": \"emigration\", \"Fraction of IMR articles\": 0.0}, {\"years\": \"1956-1961\", \"migration_type\": \"emigration\", \"Fraction of IMR articles\": 0.0}, {\"years\": \"1957-1962\", \"migration_type\": \"emigration\", \"Fraction of IMR articles\": 0.0}, {\"years\": \"1958-1963\", \"migration_type\": \"emigration\", \"Fraction of IMR articles\": 0.0}, {\"years\": \"1959-1964\", \"migration_type\": \"emigration\", \"Fraction of IMR articles\": 0.0}, {\"years\": \"1960-1965\", \"migration_type\": \"emigration\", \"Fraction of IMR articles\": 0.0}, {\"years\": \"1961-1966\", \"migration_type\": \"emigration\", \"Fraction of IMR articles\": 0.0}, {\"years\": \"1962-1967\", \"migration_type\": \"emigration\", \"Fraction of IMR articles\": 0.0}, {\"years\": \"1963-1968\", \"migration_type\": \"emigration\", \"Fraction of IMR articles\": 0.02247191011235955}, {\"years\": \"1964-1969\", \"migration_type\": \"emigration\", \"Fraction of IMR articles\": 0.018867924528301886}, {\"years\": \"1965-1970\", \"migration_type\": \"emigration\", \"Fraction of IMR articles\": 0.03296703296703297}, {\"years\": \"1966-1971\", \"migration_type\": \"emigration\", \"Fraction of IMR articles\": 0.02912621359223301}, {\"years\": \"1967-1972\", \"migration_type\": \"emigration\", \"Fraction of IMR articles\": 0.025}, {\"years\": \"1968-1973\", \"migration_type\": \"emigration\", \"Fraction of IMR articles\": 0.031446540880503145}, {\"years\": \"1969-1974\", \"migration_type\": \"emigration\", \"Fraction of IMR articles\": 0.03529411764705882}, {\"years\": \"1970-1975\", \"migration_type\": \"emigration\", \"Fraction of IMR articles\": 0.027624309392265192}, {\"years\": \"1971-1976\", \"migration_type\": \"emigration\", \"Fraction of IMR articles\": 0.026737967914438502}, {\"years\": \"1972-1977\", \"migration_type\": \"emigration\", \"Fraction of IMR articles\": 0.02717391304347826}, {\"years\": \"1973-1978\", \"migration_type\": \"emigration\", \"Fraction of IMR articles\": 0.006711409395973154}, {\"years\": \"1974-1979\", \"migration_type\": \"emigration\", \"Fraction of IMR articles\": 0.0}, {\"years\": \"1975-1980\", \"migration_type\": \"emigration\", \"Fraction of IMR articles\": 0.025157232704402517}, {\"years\": \"1976-1981\", \"migration_type\": \"emigration\", \"Fraction of IMR articles\": 0.031446540880503145}, {\"years\": \"1977-1982\", \"migration_type\": \"emigration\", \"Fraction of IMR articles\": 0.031578947368421054}, {\"years\": \"1978-1983\", \"migration_type\": \"emigration\", \"Fraction of IMR articles\": 0.05102040816326531}, {\"years\": \"1979-1984\", \"migration_type\": \"emigration\", \"Fraction of IMR articles\": 0.0502092050209205}, {\"years\": \"1980-1985\", \"migration_type\": \"emigration\", \"Fraction of IMR articles\": 0.04230769230769231}, {\"years\": \"1981-1986\", \"migration_type\": \"emigration\", \"Fraction of IMR articles\": 0.04365079365079365}, {\"years\": \"1982-1987\", \"migration_type\": \"emigration\", \"Fraction of IMR articles\": 0.048}, {\"years\": \"1983-1988\", \"migration_type\": \"emigration\", \"Fraction of IMR articles\": 0.03296703296703297}, {\"years\": \"1984-1989\", \"migration_type\": \"emigration\", \"Fraction of IMR articles\": 0.029661016949152543}, {\"years\": \"1985-1990\", \"migration_type\": \"emigration\", \"Fraction of IMR articles\": 0.023255813953488372}, {\"years\": \"1986-1991\", \"migration_type\": \"emigration\", \"Fraction of IMR articles\": 0.023148148148148147}, {\"years\": \"1987-1992\", \"migration_type\": \"emigration\", \"Fraction of IMR articles\": 0.02030456852791878}, {\"years\": \"1988-1993\", \"migration_type\": \"emigration\", \"Fraction of IMR articles\": 0.03015075376884422}, {\"years\": \"1989-1994\", \"migration_type\": \"emigration\", \"Fraction of IMR articles\": 0.036585365853658534}, {\"years\": \"1990-1995\", \"migration_type\": \"emigration\", \"Fraction of IMR articles\": 0.023880597014925373}, {\"years\": \"1991-1996\", \"migration_type\": \"emigration\", \"Fraction of IMR articles\": 0.018469656992084433}, {\"years\": \"1992-1997\", \"migration_type\": \"emigration\", \"Fraction of IMR articles\": 0.017326732673267328}, {\"years\": \"1993-1998\", \"migration_type\": \"emigration\", \"Fraction of IMR articles\": 0.010050251256281407}, {\"years\": \"1994-1999\", \"migration_type\": \"emigration\", \"Fraction of IMR articles\": 0.002793296089385475}]}}, {\"mode\": \"vega-lite\"});\n",
       "</script>"
      ],
      "text/plain": [
       "alt.VConcatChart(...)"
      ]
     },
     "execution_count": 26,
     "metadata": {},
     "output_type": "execute_result"
    }
   ],
   "source": [
    "selected_topics = ['migration','immigration','emigration']\n",
    "selected_topic_words = {topic: topic_words[topic] for topic in selected_topics }\n",
    "\n",
    "c1 = ca.alt_topic_chart(selected_topics=selected_topic_words,\n",
    "                   topic_df=df_remp_im, \n",
    "                   var_name='migration_type', source='REMP/IM', title='Migration types in REMP/IM')\n",
    "\n",
    "c2 = ca.alt_topic_chart(selected_topics=selected_topic_words,\n",
    "                   topic_df=df_imr_research, \n",
    "                   var_name='migration_type', source='IMR', title='Migration Types in IMR')\n",
    "\n",
    "alt.vconcat(c1, c2).properties(\n",
    "    title='Migration types'\n",
    ").configure_title(\n",
    "    fontSize=20,\n",
    "    font='Verdana',\n",
    "    align='center',\n",
    "    color='black'\n",
    ")"
   ]
  },
  {
   "cell_type": "markdown",
   "metadata": {
    "tags": [
     "narrative"
    ]
   },
   "source": [
    "In a corpus like this, it comes as no surprise that the most common terms include (variants of) \"migration\". As figures 7 (terms in IM) and 8 (total terms) show, _emigration_ was more common in the 1960s, while _immigration_ was used more often later on, although there was a concentration in the mid-1960s. The term _migration_ was not used very frequently throughout the whole period, though its use increased slightly over the years. Of course, the terms _emigration_ and _immigration_ depend on the perspective, because what is immigration for one country is emigration for another. However, in general immigration causes more and more lasting changes. In our qualitative analysis of the discourse above, we have already seen how researchers and politicians used emigration to mean European emigration, while immigration (or migration) was the term commonly used for other contexts, although it was increasingly used for Europe as well. The quantitative title analysis of the titles confirms this."
   ]
  },
  {
   "cell_type": "code",
   "execution_count": 27,
   "metadata": {
    "tags": [
     "hermeneutics",
     "hermeneutics-step"
    ]
   },
   "outputs": [],
   "source": [
    "# per article, list countries mentioned in the title\n",
    "df['country'] = df.normalised_title.apply(lambda x: ca.extract_country(lookup, x))\n",
    "\n",
    "# per article, list continents of countries mentioned in the title\n",
    "# or continents mentioned directly\n",
    "df['continent'] = df.normalised_title.apply(lambda x: ca.extract_continent(lookup, x))\n",
    "    \n",
    "decade_continent_freq = df[df.continent.notna()].groupby(['issue_decade', 'continent']).agg('count').article_title\n",
    "decade_continent_perc = decade_continent_freq / decade_continent_freq.groupby('issue_decade').agg('sum')*100\n",
    "df_continent_decade = decade_continent_perc.to_frame().reset_index()"
   ]
  },
  {
   "cell_type": "code",
   "execution_count": 28,
   "metadata": {
    "jdh": {
     "object": {
      "source": [
       "figure 6: Continents in Title per Decade (1950s-1990s)"
      ]
     }
    },
    "tags": [
     "figure-6",
     "narrative",
     "hermeneutics",
     "hermeneutics-step"
    ]
   },
   "outputs": [
    {
     "data": {
      "text/html": [
       "\n",
       "<div id=\"altair-viz-6ba9a0034afa48b4aa1c76e70c969c26\"></div>\n",
       "<script type=\"text/javascript\">\n",
       "  (function(spec, embedOpt){\n",
       "    let outputDiv = document.currentScript.previousElementSibling;\n",
       "    if (outputDiv.id !== \"altair-viz-6ba9a0034afa48b4aa1c76e70c969c26\") {\n",
       "      outputDiv = document.getElementById(\"altair-viz-6ba9a0034afa48b4aa1c76e70c969c26\");\n",
       "    }\n",
       "    const paths = {\n",
       "      \"vega\": \"https://cdn.jsdelivr.net/npm//vega@5?noext\",\n",
       "      \"vega-lib\": \"https://cdn.jsdelivr.net/npm//vega-lib?noext\",\n",
       "      \"vega-lite\": \"https://cdn.jsdelivr.net/npm//vega-lite@4.8.1?noext\",\n",
       "      \"vega-embed\": \"https://cdn.jsdelivr.net/npm//vega-embed@6?noext\",\n",
       "    };\n",
       "\n",
       "    function loadScript(lib) {\n",
       "      return new Promise(function(resolve, reject) {\n",
       "        var s = document.createElement('script');\n",
       "        s.src = paths[lib];\n",
       "        s.async = true;\n",
       "        s.onload = () => resolve(paths[lib]);\n",
       "        s.onerror = () => reject(`Error loading script: ${paths[lib]}`);\n",
       "        document.getElementsByTagName(\"head\")[0].appendChild(s);\n",
       "      });\n",
       "    }\n",
       "\n",
       "    function showError(err) {\n",
       "      outputDiv.innerHTML = `<div class=\"error\" style=\"color:red;\">${err}</div>`;\n",
       "      throw err;\n",
       "    }\n",
       "\n",
       "    function displayChart(vegaEmbed) {\n",
       "      vegaEmbed(outputDiv, spec, embedOpt)\n",
       "        .catch(err => showError(`Javascript Error: ${err.message}<br>This usually means there's a typo in your chart specification. See the javascript console for the full traceback.`));\n",
       "    }\n",
       "\n",
       "    if(typeof define === \"function\" && define.amd) {\n",
       "      requirejs.config({paths});\n",
       "      require([\"vega-embed\"], displayChart, err => showError(`Error loading script: ${err.message}`));\n",
       "    } else if (typeof vegaEmbed === \"function\") {\n",
       "      displayChart(vegaEmbed);\n",
       "    } else {\n",
       "      loadScript(\"vega\")\n",
       "        .then(() => loadScript(\"vega-lite\"))\n",
       "        .then(() => loadScript(\"vega-embed\"))\n",
       "        .catch(showError)\n",
       "        .then(() => displayChart(vegaEmbed));\n",
       "    }\n",
       "  })({\"config\": {\"view\": {\"continuousWidth\": 400, \"continuousHeight\": 300}, \"title\": {\"align\": \"center\", \"color\": \"black\", \"font\": \"Verdana\", \"fontSize\": 20}}, \"repeat\": {\"row\": [\"issue_decade:N\"]}, \"spec\": {\"data\": {\"name\": \"data-4bfcc98048393e400aa2bbff3404fcb6\"}, \"mark\": \"bar\", \"encoding\": {\"color\": {\"type\": \"nominal\", \"field\": \"continent\"}, \"column\": {\"type\": \"nominal\", \"field\": \"issue_decade\", \"title\": \"Decade\"}, \"x\": {\"type\": \"nominal\", \"field\": \"continent\", \"title\": \"\"}, \"y\": {\"type\": \"quantitative\", \"field\": \"article_title\", \"title\": \"number\"}}, \"height\": 200, \"selection\": {\"selector001\": {\"type\": \"interval\", \"bind\": \"scales\", \"encodings\": [\"x\", \"y\"]}}, \"width\": 200}, \"title\": \"Continents in titles per decade\", \"$schema\": \"https://vega.github.io/schema/vega-lite/v4.8.1.json\", \"datasets\": {\"data-4bfcc98048393e400aa2bbff3404fcb6\": [{\"issue_decade\": 1950, \"continent\": \"Asia\", \"article_title\": 8.771929824561402}, {\"issue_decade\": 1950, \"continent\": \"Europe\", \"article_title\": 63.1578947368421}, {\"issue_decade\": 1950, \"continent\": \"North America\", \"article_title\": 3.508771929824561}, {\"issue_decade\": 1950, \"continent\": \"Oceania\", \"article_title\": 15.789473684210526}, {\"issue_decade\": 1950, \"continent\": \"South America\", \"article_title\": 8.771929824561402}, {\"issue_decade\": 1960, \"continent\": \"Africa\", \"article_title\": 6.923076923076923}, {\"issue_decade\": 1960, \"continent\": \"Asia\", \"article_title\": 12.307692307692308}, {\"issue_decade\": 1960, \"continent\": \"Europe\", \"article_title\": 22.30769230769231}, {\"issue_decade\": 1960, \"continent\": \"North America\", \"article_title\": 20.76923076923077}, {\"issue_decade\": 1960, \"continent\": \"Oceania\", \"article_title\": 28.46153846153846}, {\"issue_decade\": 1960, \"continent\": \"South America\", \"article_title\": 9.230769230769232}, {\"issue_decade\": 1970, \"continent\": \"Africa\", \"article_title\": 7.575757575757576}, {\"issue_decade\": 1970, \"continent\": \"Asia\", \"article_title\": 21.21212121212121}, {\"issue_decade\": 1970, \"continent\": \"Europe\", \"article_title\": 17.272727272727273}, {\"issue_decade\": 1970, \"continent\": \"North America\", \"article_title\": 34.84848484848485}, {\"issue_decade\": 1970, \"continent\": \"Oceania\", \"article_title\": 9.393939393939393}, {\"issue_decade\": 1970, \"continent\": \"South America\", \"article_title\": 9.696969696969697}, {\"issue_decade\": 1980, \"continent\": \"Africa\", \"article_title\": 8.764940239043826}, {\"issue_decade\": 1980, \"continent\": \"Asia\", \"article_title\": 26.49402390438247}, {\"issue_decade\": 1980, \"continent\": \"Europe\", \"article_title\": 21.91235059760956}, {\"issue_decade\": 1980, \"continent\": \"North America\", \"article_title\": 30.0796812749004}, {\"issue_decade\": 1980, \"continent\": \"Oceania\", \"article_title\": 6.772908366533864}, {\"issue_decade\": 1980, \"continent\": \"South America\", \"article_title\": 5.9760956175298805}, {\"issue_decade\": 1990, \"continent\": \"Africa\", \"article_title\": 7.266982622432859}, {\"issue_decade\": 1990, \"continent\": \"Asia\", \"article_title\": 37.598736176935226}, {\"issue_decade\": 1990, \"continent\": \"Europe\", \"article_title\": 21.484992101105846}, {\"issue_decade\": 1990, \"continent\": \"North America\", \"article_title\": 25.118483412322274}, {\"issue_decade\": 1990, \"continent\": \"Oceania\", \"article_title\": 7.5829383886255926}, {\"issue_decade\": 1990, \"continent\": \"South America\", \"article_title\": 0.9478672985781991}]}}, {\"mode\": \"vega-lite\"});\n",
       "</script>"
      ],
      "text/plain": [
       "alt.RepeatChart(...)"
      ]
     },
     "execution_count": 28,
     "metadata": {},
     "output_type": "execute_result"
    }
   ],
   "source": [
    "xc = alt.Chart(df_continent_decade).mark_bar().encode(\n",
    "    alt.Y(\"article_title:Q\", title='number'),\n",
    "    alt.X('continent:N', title=''),\n",
    "    color='continent:N',\n",
    "    column=alt.Column('issue_decade:N', title='Decade')\n",
    ").properties(\n",
    "    width=200,\n",
    "    height=200\n",
    ").repeat(\n",
    "    row=['issue_decade:N']\n",
    ").interactive()\n",
    "xc.properties(\n",
    "    title='Continents in titles per decade'\n",
    ").configure_title(\n",
    "    fontSize=20,\n",
    "    font='Verdana',\n",
    "    align='center',\n",
    "    color='black',\n",
    ")"
   ]
  },
  {
   "cell_type": "markdown",
   "metadata": {
    "tags": [
     "narrative"
    ]
   },
   "source": [
    "When we look at the (relative) frequency with which continents are mentioned in the article titles, this confirmes the general trend. In the 1950s the emphasis is mainly on Europe, from where most emigration took place, in the 1960s there was a relative emphasis on Oceania (mainly Australia). In the decades after that, it was mostly on other continents, even if Europe remained important. South America and Africa rarely were the focus in migration discussions. "
   ]
  },
  {
   "cell_type": "code",
   "execution_count": 29,
   "metadata": {
    "tags": [
     "hermeneutics",
     "narrative",
     "hermeneutics-step"
    ]
   },
   "outputs": [],
   "source": [
    "selected_topics = ['cause_effect', 'process', 'decision making']\n",
    "selected_topic_words = {topic: topic_words[topic] for topic in selected_topics }\n",
    "\n",
    "c3 = ca.alt_topic_chart(selected_topics=selected_topic_words,\n",
    "                   topic_df=df_remp_im, \n",
    "                   var_name='migration_type', source='REMP/IM', title='Topics'\n",
    ")\n",
    "\n",
    "c4 = ca.alt_topic_chart(selected_topics=selected_topic_words,\n",
    "                   topic_df=df_imr_research, \n",
    "                   var_name='migration_type', source='IMR', title='Topics')\n",
    "\n"
   ]
  },
  {
   "cell_type": "code",
   "execution_count": 30,
   "metadata": {
    "jdh": {
     "object": {
      "source": [
       "figure 7: Migration Management in Titles"
      ]
     }
    },
    "tags": [
     "figure-7",
     "narrative",
     "hermeneutics",
     "hermeneutics-step"
    ]
   },
   "outputs": [
    {
     "data": {
      "text/html": [
       "\n",
       "<div id=\"altair-viz-e34ff69cc6ab4d408c0e6ad4d979d178\"></div>\n",
       "<script type=\"text/javascript\">\n",
       "  (function(spec, embedOpt){\n",
       "    let outputDiv = document.currentScript.previousElementSibling;\n",
       "    if (outputDiv.id !== \"altair-viz-e34ff69cc6ab4d408c0e6ad4d979d178\") {\n",
       "      outputDiv = document.getElementById(\"altair-viz-e34ff69cc6ab4d408c0e6ad4d979d178\");\n",
       "    }\n",
       "    const paths = {\n",
       "      \"vega\": \"https://cdn.jsdelivr.net/npm//vega@5?noext\",\n",
       "      \"vega-lib\": \"https://cdn.jsdelivr.net/npm//vega-lib?noext\",\n",
       "      \"vega-lite\": \"https://cdn.jsdelivr.net/npm//vega-lite@4.8.1?noext\",\n",
       "      \"vega-embed\": \"https://cdn.jsdelivr.net/npm//vega-embed@6?noext\",\n",
       "    };\n",
       "\n",
       "    function loadScript(lib) {\n",
       "      return new Promise(function(resolve, reject) {\n",
       "        var s = document.createElement('script');\n",
       "        s.src = paths[lib];\n",
       "        s.async = true;\n",
       "        s.onload = () => resolve(paths[lib]);\n",
       "        s.onerror = () => reject(`Error loading script: ${paths[lib]}`);\n",
       "        document.getElementsByTagName(\"head\")[0].appendChild(s);\n",
       "      });\n",
       "    }\n",
       "\n",
       "    function showError(err) {\n",
       "      outputDiv.innerHTML = `<div class=\"error\" style=\"color:red;\">${err}</div>`;\n",
       "      throw err;\n",
       "    }\n",
       "\n",
       "    function displayChart(vegaEmbed) {\n",
       "      vegaEmbed(outputDiv, spec, embedOpt)\n",
       "        .catch(err => showError(`Javascript Error: ${err.message}<br>This usually means there's a typo in your chart specification. See the javascript console for the full traceback.`));\n",
       "    }\n",
       "\n",
       "    if(typeof define === \"function\" && define.amd) {\n",
       "      requirejs.config({paths});\n",
       "      require([\"vega-embed\"], displayChart, err => showError(`Error loading script: ${err.message}`));\n",
       "    } else if (typeof vegaEmbed === \"function\") {\n",
       "      displayChart(vegaEmbed);\n",
       "    } else {\n",
       "      loadScript(\"vega\")\n",
       "        .then(() => loadScript(\"vega-lite\"))\n",
       "        .then(() => loadScript(\"vega-embed\"))\n",
       "        .catch(showError)\n",
       "        .then(() => displayChart(vegaEmbed));\n",
       "    }\n",
       "  })({\"config\": {\"view\": {\"continuousWidth\": 400, \"continuousHeight\": 300}, \"title\": {\"align\": \"center\", \"color\": \"black\", \"font\": \"Verdana\", \"fontSize\": 20}}, \"vconcat\": [{\"data\": {\"name\": \"data-8ed6ca6ded4bbb44b6bf3098b82d4bda\"}, \"mark\": \"line\", \"encoding\": {\"color\": {\"type\": \"ordinal\", \"field\": \"migration_type\", \"scale\": {\"reverse\": true, \"scheme\": \"set1\"}, \"title\": \"Topics\"}, \"x\": {\"type\": \"nominal\", \"axis\": {\"tickCount\": 10}, \"field\": \"years\"}, \"y\": {\"type\": \"quantitative\", \"field\": \"Fraction of REMP/IM articles\"}}}, {\"data\": {\"name\": \"data-353f96a176daeab47608891e74374e30\"}, \"mark\": \"line\", \"encoding\": {\"color\": {\"type\": \"ordinal\", \"field\": \"migration_type\", \"scale\": {\"reverse\": true, \"scheme\": \"set1\"}, \"title\": \"Topics\"}, \"x\": {\"type\": \"nominal\", \"axis\": {\"tickCount\": 10}, \"field\": \"years\"}, \"y\": {\"type\": \"quantitative\", \"field\": \"Fraction of IMR articles\"}}}], \"title\": \"Migration Management\", \"$schema\": \"https://vega.github.io/schema/vega-lite/v4.8.1.json\", \"datasets\": {\"data-8ed6ca6ded4bbb44b6bf3098b82d4bda\": [{\"years\": \"1950-1955\", \"migration_type\": \"cause_effect\", \"Fraction of REMP/IM articles\": 0.13043478260869565}, {\"years\": \"1951-1956\", \"migration_type\": \"cause_effect\", \"Fraction of REMP/IM articles\": 0.1206896551724138}, {\"years\": \"1952-1957\", \"migration_type\": \"cause_effect\", \"Fraction of REMP/IM articles\": 0.1076923076923077}, {\"years\": \"1953-1958\", \"migration_type\": \"cause_effect\", \"Fraction of REMP/IM articles\": 0.07352941176470588}, {\"years\": \"1954-1959\", \"migration_type\": \"cause_effect\", \"Fraction of REMP/IM articles\": 0.07575757575757576}, {\"years\": \"1955-1960\", \"migration_type\": \"cause_effect\", \"Fraction of REMP/IM articles\": 0.07142857142857142}, {\"years\": \"1956-1961\", \"migration_type\": \"cause_effect\", \"Fraction of REMP/IM articles\": 0.057692307692307696}, {\"years\": \"1957-1962\", \"migration_type\": \"cause_effect\", \"Fraction of REMP/IM articles\": 0.09836065573770492}, {\"years\": \"1958-1963\", \"migration_type\": \"cause_effect\", \"Fraction of REMP/IM articles\": 0.13432835820895522}, {\"years\": \"1959-1964\", \"migration_type\": \"cause_effect\", \"Fraction of REMP/IM articles\": 0.12857142857142856}, {\"years\": \"1960-1965\", \"migration_type\": \"cause_effect\", \"Fraction of REMP/IM articles\": 0.12658227848101267}, {\"years\": \"1961-1966\", \"migration_type\": \"cause_effect\", \"Fraction of REMP/IM articles\": 0.125}, {\"years\": \"1962-1967\", \"migration_type\": \"cause_effect\", \"Fraction of REMP/IM articles\": 0.0975609756097561}, {\"years\": \"1963-1968\", \"migration_type\": \"cause_effect\", \"Fraction of REMP/IM articles\": 0.08536585365853659}, {\"years\": \"1964-1969\", \"migration_type\": \"cause_effect\", \"Fraction of REMP/IM articles\": 0.08139534883720931}, {\"years\": \"1965-1970\", \"migration_type\": \"cause_effect\", \"Fraction of REMP/IM articles\": 0.05405405405405406}, {\"years\": \"1966-1971\", \"migration_type\": \"cause_effect\", \"Fraction of REMP/IM articles\": 0.1}, {\"years\": \"1967-1972\", \"migration_type\": \"cause_effect\", \"Fraction of REMP/IM articles\": 0.10294117647058823}, {\"years\": \"1968-1973\", \"migration_type\": \"cause_effect\", \"Fraction of REMP/IM articles\": 0.07692307692307693}, {\"years\": \"1969-1974\", \"migration_type\": \"cause_effect\", \"Fraction of REMP/IM articles\": 0.078125}, {\"years\": \"1970-1975\", \"migration_type\": \"cause_effect\", \"Fraction of REMP/IM articles\": 0.07246376811594203}, {\"years\": \"1971-1976\", \"migration_type\": \"cause_effect\", \"Fraction of REMP/IM articles\": 0.028169014084507043}, {\"years\": \"1972-1977\", \"migration_type\": \"cause_effect\", \"Fraction of REMP/IM articles\": 0.04054054054054054}, {\"years\": \"1973-1978\", \"migration_type\": \"cause_effect\", \"Fraction of REMP/IM articles\": 0.05970149253731343}, {\"years\": \"1974-1979\", \"migration_type\": \"cause_effect\", \"Fraction of REMP/IM articles\": 0.09230769230769231}, {\"years\": \"1975-1980\", \"migration_type\": \"cause_effect\", \"Fraction of REMP/IM articles\": 0.09803921568627451}, {\"years\": \"1976-1981\", \"migration_type\": \"cause_effect\", \"Fraction of REMP/IM articles\": 0.0975609756097561}, {\"years\": \"1977-1982\", \"migration_type\": \"cause_effect\", \"Fraction of REMP/IM articles\": 0.09523809523809523}, {\"years\": \"1978-1983\", \"migration_type\": \"cause_effect\", \"Fraction of REMP/IM articles\": 0.08888888888888889}, {\"years\": \"1979-1984\", \"migration_type\": \"cause_effect\", \"Fraction of REMP/IM articles\": 0.0967741935483871}, {\"years\": \"1980-1985\", \"migration_type\": \"cause_effect\", \"Fraction of REMP/IM articles\": 0.13253012048192772}, {\"years\": \"1981-1986\", \"migration_type\": \"cause_effect\", \"Fraction of REMP/IM articles\": 0.12380952380952381}, {\"years\": \"1982-1987\", \"migration_type\": \"cause_effect\", \"Fraction of REMP/IM articles\": 0.11290322580645161}, {\"years\": \"1983-1988\", \"migration_type\": \"cause_effect\", \"Fraction of REMP/IM articles\": 0.12244897959183673}, {\"years\": \"1984-1989\", \"migration_type\": \"cause_effect\", \"Fraction of REMP/IM articles\": 0.1095890410958904}, {\"years\": \"1985-1990\", \"migration_type\": \"cause_effect\", \"Fraction of REMP/IM articles\": 0.16352201257861634}, {\"years\": \"1986-1991\", \"migration_type\": \"cause_effect\", \"Fraction of REMP/IM articles\": 0.18072289156626506}, {\"years\": \"1987-1992\", \"migration_type\": \"cause_effect\", \"Fraction of REMP/IM articles\": 0.17751479289940827}, {\"years\": \"1988-1993\", \"migration_type\": \"cause_effect\", \"Fraction of REMP/IM articles\": 0.16666666666666666}, {\"years\": \"1989-1994\", \"migration_type\": \"cause_effect\", \"Fraction of REMP/IM articles\": 0.1656441717791411}, {\"years\": \"1990-1995\", \"migration_type\": \"cause_effect\", \"Fraction of REMP/IM articles\": 0.09615384615384616}, {\"years\": \"1991-1996\", \"migration_type\": \"cause_effect\", \"Fraction of REMP/IM articles\": 0.07042253521126761}, {\"years\": \"1992-1997\", \"migration_type\": \"cause_effect\", \"Fraction of REMP/IM articles\": 0.08148148148148149}, {\"years\": \"1993-1998\", \"migration_type\": \"cause_effect\", \"Fraction of REMP/IM articles\": 0.07518796992481203}, {\"years\": \"1994-1999\", \"migration_type\": \"cause_effect\", \"Fraction of REMP/IM articles\": 0.06201550387596899}, {\"years\": \"1950-1955\", \"migration_type\": \"process\", \"Fraction of REMP/IM articles\": 0.06521739130434782}, {\"years\": \"1951-1956\", \"migration_type\": \"process\", \"Fraction of REMP/IM articles\": 0.06896551724137931}, {\"years\": \"1952-1957\", \"migration_type\": \"process\", \"Fraction of REMP/IM articles\": 0.09230769230769231}, {\"years\": \"1953-1958\", \"migration_type\": \"process\", \"Fraction of REMP/IM articles\": 0.07352941176470588}, {\"years\": \"1954-1959\", \"migration_type\": \"process\", \"Fraction of REMP/IM articles\": 0.09090909090909091}, {\"years\": \"1955-1960\", \"migration_type\": \"process\", \"Fraction of REMP/IM articles\": 0.10714285714285714}, {\"years\": \"1956-1961\", \"migration_type\": \"process\", \"Fraction of REMP/IM articles\": 0.1346153846153846}, {\"years\": \"1957-1962\", \"migration_type\": \"process\", \"Fraction of REMP/IM articles\": 0.13114754098360656}, {\"years\": \"1958-1963\", \"migration_type\": \"process\", \"Fraction of REMP/IM articles\": 0.13432835820895522}, {\"years\": \"1959-1964\", \"migration_type\": \"process\", \"Fraction of REMP/IM articles\": 0.15714285714285714}, {\"years\": \"1960-1965\", \"migration_type\": \"process\", \"Fraction of REMP/IM articles\": 0.13924050632911392}, {\"years\": \"1961-1966\", \"migration_type\": \"process\", \"Fraction of REMP/IM articles\": 0.1590909090909091}, {\"years\": \"1962-1967\", \"migration_type\": \"process\", \"Fraction of REMP/IM articles\": 0.17073170731707318}, {\"years\": \"1963-1968\", \"migration_type\": \"process\", \"Fraction of REMP/IM articles\": 0.17073170731707318}, {\"years\": \"1964-1969\", \"migration_type\": \"process\", \"Fraction of REMP/IM articles\": 0.13953488372093023}, {\"years\": \"1965-1970\", \"migration_type\": \"process\", \"Fraction of REMP/IM articles\": 0.13513513513513514}, {\"years\": \"1966-1971\", \"migration_type\": \"process\", \"Fraction of REMP/IM articles\": 0.07142857142857142}, {\"years\": \"1967-1972\", \"migration_type\": \"process\", \"Fraction of REMP/IM articles\": 0.029411764705882353}, {\"years\": \"1968-1973\", \"migration_type\": \"process\", \"Fraction of REMP/IM articles\": 0.03076923076923077}, {\"years\": \"1969-1974\", \"migration_type\": \"process\", \"Fraction of REMP/IM articles\": 0.03125}, {\"years\": \"1970-1975\", \"migration_type\": \"process\", \"Fraction of REMP/IM articles\": 0.043478260869565216}, {\"years\": \"1971-1976\", \"migration_type\": \"process\", \"Fraction of REMP/IM articles\": 0.07042253521126761}, {\"years\": \"1972-1977\", \"migration_type\": \"process\", \"Fraction of REMP/IM articles\": 0.10810810810810811}, {\"years\": \"1973-1978\", \"migration_type\": \"process\", \"Fraction of REMP/IM articles\": 0.1044776119402985}, {\"years\": \"1974-1979\", \"migration_type\": \"process\", \"Fraction of REMP/IM articles\": 0.13846153846153847}, {\"years\": \"1975-1980\", \"migration_type\": \"process\", \"Fraction of REMP/IM articles\": 0.1568627450980392}, {\"years\": \"1976-1981\", \"migration_type\": \"process\", \"Fraction of REMP/IM articles\": 0.14634146341463414}, {\"years\": \"1977-1982\", \"migration_type\": \"process\", \"Fraction of REMP/IM articles\": 0.07142857142857142}, {\"years\": \"1978-1983\", \"migration_type\": \"process\", \"Fraction of REMP/IM articles\": 0.06666666666666667}, {\"years\": \"1979-1984\", \"migration_type\": \"process\", \"Fraction of REMP/IM articles\": 0.03225806451612903}, {\"years\": \"1980-1985\", \"migration_type\": \"process\", \"Fraction of REMP/IM articles\": 0.0963855421686747}, {\"years\": \"1981-1986\", \"migration_type\": \"process\", \"Fraction of REMP/IM articles\": 0.10476190476190476}, {\"years\": \"1982-1987\", \"migration_type\": \"process\", \"Fraction of REMP/IM articles\": 0.12096774193548387}, {\"years\": \"1983-1988\", \"migration_type\": \"process\", \"Fraction of REMP/IM articles\": 0.11564625850340136}, {\"years\": \"1984-1989\", \"migration_type\": \"process\", \"Fraction of REMP/IM articles\": 0.1506849315068493}, {\"years\": \"1985-1990\", \"migration_type\": \"process\", \"Fraction of REMP/IM articles\": 0.14465408805031446}, {\"years\": \"1986-1991\", \"migration_type\": \"process\", \"Fraction of REMP/IM articles\": 0.1566265060240964}, {\"years\": \"1987-1992\", \"migration_type\": \"process\", \"Fraction of REMP/IM articles\": 0.1301775147928994}, {\"years\": \"1988-1993\", \"migration_type\": \"process\", \"Fraction of REMP/IM articles\": 0.15432098765432098}, {\"years\": \"1989-1994\", \"migration_type\": \"process\", \"Fraction of REMP/IM articles\": 0.1411042944785276}, {\"years\": \"1990-1995\", \"migration_type\": \"process\", \"Fraction of REMP/IM articles\": 0.14743589743589744}, {\"years\": \"1991-1996\", \"migration_type\": \"process\", \"Fraction of REMP/IM articles\": 0.18309859154929578}, {\"years\": \"1992-1997\", \"migration_type\": \"process\", \"Fraction of REMP/IM articles\": 0.22962962962962963}, {\"years\": \"1993-1998\", \"migration_type\": \"process\", \"Fraction of REMP/IM articles\": 0.20300751879699247}, {\"years\": \"1994-1999\", \"migration_type\": \"process\", \"Fraction of REMP/IM articles\": 0.17054263565891473}, {\"years\": \"1950-1955\", \"migration_type\": \"decision making\", \"Fraction of REMP/IM articles\": 0.021739130434782608}, {\"years\": \"1951-1956\", \"migration_type\": \"decision making\", \"Fraction of REMP/IM articles\": 0.05172413793103448}, {\"years\": \"1952-1957\", \"migration_type\": \"decision making\", \"Fraction of REMP/IM articles\": 0.07692307692307693}, {\"years\": \"1953-1958\", \"migration_type\": \"decision making\", \"Fraction of REMP/IM articles\": 0.08823529411764706}, {\"years\": \"1954-1959\", \"migration_type\": \"decision making\", \"Fraction of REMP/IM articles\": 0.09090909090909091}, {\"years\": \"1955-1960\", \"migration_type\": \"decision making\", \"Fraction of REMP/IM articles\": 0.125}, {\"years\": \"1956-1961\", \"migration_type\": \"decision making\", \"Fraction of REMP/IM articles\": 0.1346153846153846}, {\"years\": \"1957-1962\", \"migration_type\": \"decision making\", \"Fraction of REMP/IM articles\": 0.14754098360655737}, {\"years\": \"1958-1963\", \"migration_type\": \"decision making\", \"Fraction of REMP/IM articles\": 0.13432835820895522}, {\"years\": \"1959-1964\", \"migration_type\": \"decision making\", \"Fraction of REMP/IM articles\": 0.11428571428571428}, {\"years\": \"1960-1965\", \"migration_type\": \"decision making\", \"Fraction of REMP/IM articles\": 0.11392405063291139}, {\"years\": \"1961-1966\", \"migration_type\": \"decision making\", \"Fraction of REMP/IM articles\": 0.11363636363636363}, {\"years\": \"1962-1967\", \"migration_type\": \"decision making\", \"Fraction of REMP/IM articles\": 0.08536585365853659}, {\"years\": \"1963-1968\", \"migration_type\": \"decision making\", \"Fraction of REMP/IM articles\": 0.07317073170731707}, {\"years\": \"1964-1969\", \"migration_type\": \"decision making\", \"Fraction of REMP/IM articles\": 0.09302325581395349}, {\"years\": \"1965-1970\", \"migration_type\": \"decision making\", \"Fraction of REMP/IM articles\": 0.10810810810810811}, {\"years\": \"1966-1971\", \"migration_type\": \"decision making\", \"Fraction of REMP/IM articles\": 0.1}, {\"years\": \"1967-1972\", \"migration_type\": \"decision making\", \"Fraction of REMP/IM articles\": 0.1323529411764706}, {\"years\": \"1968-1973\", \"migration_type\": \"decision making\", \"Fraction of REMP/IM articles\": 0.13846153846153847}, {\"years\": \"1969-1974\", \"migration_type\": \"decision making\", \"Fraction of REMP/IM articles\": 0.125}, {\"years\": \"1970-1975\", \"migration_type\": \"decision making\", \"Fraction of REMP/IM articles\": 0.11594202898550725}, {\"years\": \"1971-1976\", \"migration_type\": \"decision making\", \"Fraction of REMP/IM articles\": 0.09859154929577464}, {\"years\": \"1972-1977\", \"migration_type\": \"decision making\", \"Fraction of REMP/IM articles\": 0.0945945945945946}, {\"years\": \"1973-1978\", \"migration_type\": \"decision making\", \"Fraction of REMP/IM articles\": 0.13432835820895522}, {\"years\": \"1974-1979\", \"migration_type\": \"decision making\", \"Fraction of REMP/IM articles\": 0.15384615384615385}, {\"years\": \"1975-1980\", \"migration_type\": \"decision making\", \"Fraction of REMP/IM articles\": 0.1568627450980392}, {\"years\": \"1976-1981\", \"migration_type\": \"decision making\", \"Fraction of REMP/IM articles\": 0.17073170731707318}, {\"years\": \"1977-1982\", \"migration_type\": \"decision making\", \"Fraction of REMP/IM articles\": 0.11904761904761904}, {\"years\": \"1978-1983\", \"migration_type\": \"decision making\", \"Fraction of REMP/IM articles\": 0.08888888888888889}, {\"years\": \"1979-1984\", \"migration_type\": \"decision making\", \"Fraction of REMP/IM articles\": 0.1774193548387097}, {\"years\": \"1980-1985\", \"migration_type\": \"decision making\", \"Fraction of REMP/IM articles\": 0.18072289156626506}, {\"years\": \"1981-1986\", \"migration_type\": \"decision making\", \"Fraction of REMP/IM articles\": 0.22857142857142856}, {\"years\": \"1982-1987\", \"migration_type\": \"decision making\", \"Fraction of REMP/IM articles\": 0.25806451612903225}, {\"years\": \"1983-1988\", \"migration_type\": \"decision making\", \"Fraction of REMP/IM articles\": 0.2653061224489796}, {\"years\": \"1984-1989\", \"migration_type\": \"decision making\", \"Fraction of REMP/IM articles\": 0.2534246575342466}, {\"years\": \"1985-1990\", \"migration_type\": \"decision making\", \"Fraction of REMP/IM articles\": 0.24528301886792453}, {\"years\": \"1986-1991\", \"migration_type\": \"decision making\", \"Fraction of REMP/IM articles\": 0.2289156626506024}, {\"years\": \"1987-1992\", \"migration_type\": \"decision making\", \"Fraction of REMP/IM articles\": 0.1893491124260355}, {\"years\": \"1988-1993\", \"migration_type\": \"decision making\", \"Fraction of REMP/IM articles\": 0.18518518518518517}, {\"years\": \"1989-1994\", \"migration_type\": \"decision making\", \"Fraction of REMP/IM articles\": 0.18404907975460122}, {\"years\": \"1990-1995\", \"migration_type\": \"decision making\", \"Fraction of REMP/IM articles\": 0.1858974358974359}, {\"years\": \"1991-1996\", \"migration_type\": \"decision making\", \"Fraction of REMP/IM articles\": 0.19014084507042253}, {\"years\": \"1992-1997\", \"migration_type\": \"decision making\", \"Fraction of REMP/IM articles\": 0.22962962962962963}, {\"years\": \"1993-1998\", \"migration_type\": \"decision making\", \"Fraction of REMP/IM articles\": 0.23308270676691728}, {\"years\": \"1994-1999\", \"migration_type\": \"decision making\", \"Fraction of REMP/IM articles\": 0.20930232558139536}], \"data-353f96a176daeab47608891e74374e30\": [{\"years\": \"1950-1955\", \"migration_type\": \"cause_effect\", \"Fraction of IMR articles\": 0.0}, {\"years\": \"1951-1956\", \"migration_type\": \"cause_effect\", \"Fraction of IMR articles\": 0.0}, {\"years\": \"1952-1957\", \"migration_type\": \"cause_effect\", \"Fraction of IMR articles\": 0.0}, {\"years\": \"1953-1958\", \"migration_type\": \"cause_effect\", \"Fraction of IMR articles\": 0.0}, {\"years\": \"1954-1959\", \"migration_type\": \"cause_effect\", \"Fraction of IMR articles\": 0.0}, {\"years\": \"1955-1960\", \"migration_type\": \"cause_effect\", \"Fraction of IMR articles\": 0.0}, {\"years\": \"1956-1961\", \"migration_type\": \"cause_effect\", \"Fraction of IMR articles\": 0.0}, {\"years\": \"1957-1962\", \"migration_type\": \"cause_effect\", \"Fraction of IMR articles\": 0.0}, {\"years\": \"1958-1963\", \"migration_type\": \"cause_effect\", \"Fraction of IMR articles\": 0.0}, {\"years\": \"1959-1964\", \"migration_type\": \"cause_effect\", \"Fraction of IMR articles\": 0.0}, {\"years\": \"1960-1965\", \"migration_type\": \"cause_effect\", \"Fraction of IMR articles\": 0.06451612903225806}, {\"years\": \"1961-1966\", \"migration_type\": \"cause_effect\", \"Fraction of IMR articles\": 0.058823529411764705}, {\"years\": \"1962-1967\", \"migration_type\": \"cause_effect\", \"Fraction of IMR articles\": 0.046153846153846156}, {\"years\": \"1963-1968\", \"migration_type\": \"cause_effect\", \"Fraction of IMR articles\": 0.033707865168539325}, {\"years\": \"1964-1969\", \"migration_type\": \"cause_effect\", \"Fraction of IMR articles\": 0.02830188679245283}, {\"years\": \"1965-1970\", \"migration_type\": \"cause_effect\", \"Fraction of IMR articles\": 0.02197802197802198}, {\"years\": \"1966-1971\", \"migration_type\": \"cause_effect\", \"Fraction of IMR articles\": 0.019417475728155338}, {\"years\": \"1967-1972\", \"migration_type\": \"cause_effect\", \"Fraction of IMR articles\": 0.03333333333333333}, {\"years\": \"1968-1973\", \"migration_type\": \"cause_effect\", \"Fraction of IMR articles\": 0.050314465408805034}, {\"years\": \"1969-1974\", \"migration_type\": \"cause_effect\", \"Fraction of IMR articles\": 0.058823529411764705}, {\"years\": \"1970-1975\", \"migration_type\": \"cause_effect\", \"Fraction of IMR articles\": 0.055248618784530384}, {\"years\": \"1971-1976\", \"migration_type\": \"cause_effect\", \"Fraction of IMR articles\": 0.06417112299465241}, {\"years\": \"1972-1977\", \"migration_type\": \"cause_effect\", \"Fraction of IMR articles\": 0.06521739130434782}, {\"years\": \"1973-1978\", \"migration_type\": \"cause_effect\", \"Fraction of IMR articles\": 0.08053691275167785}, {\"years\": \"1974-1979\", \"migration_type\": \"cause_effect\", \"Fraction of IMR articles\": 0.06802721088435375}, {\"years\": \"1975-1980\", \"migration_type\": \"cause_effect\", \"Fraction of IMR articles\": 0.06918238993710692}, {\"years\": \"1976-1981\", \"migration_type\": \"cause_effect\", \"Fraction of IMR articles\": 0.050314465408805034}, {\"years\": \"1977-1982\", \"migration_type\": \"cause_effect\", \"Fraction of IMR articles\": 0.05789473684210526}, {\"years\": \"1978-1983\", \"migration_type\": \"cause_effect\", \"Fraction of IMR articles\": 0.05612244897959184}, {\"years\": \"1979-1984\", \"migration_type\": \"cause_effect\", \"Fraction of IMR articles\": 0.06694560669456066}, {\"years\": \"1980-1985\", \"migration_type\": \"cause_effect\", \"Fraction of IMR articles\": 0.06923076923076923}, {\"years\": \"1981-1986\", \"migration_type\": \"cause_effect\", \"Fraction of IMR articles\": 0.07936507936507936}, {\"years\": \"1982-1987\", \"migration_type\": \"cause_effect\", \"Fraction of IMR articles\": 0.088}, {\"years\": \"1983-1988\", \"migration_type\": \"cause_effect\", \"Fraction of IMR articles\": 0.08424908424908426}, {\"years\": \"1984-1989\", \"migration_type\": \"cause_effect\", \"Fraction of IMR articles\": 0.08050847457627118}, {\"years\": \"1985-1990\", \"migration_type\": \"cause_effect\", \"Fraction of IMR articles\": 0.08837209302325581}, {\"years\": \"1986-1991\", \"migration_type\": \"cause_effect\", \"Fraction of IMR articles\": 0.11574074074074074}, {\"years\": \"1987-1992\", \"migration_type\": \"cause_effect\", \"Fraction of IMR articles\": 0.09137055837563451}, {\"years\": \"1988-1993\", \"migration_type\": \"cause_effect\", \"Fraction of IMR articles\": 0.08542713567839195}, {\"years\": \"1989-1994\", \"migration_type\": \"cause_effect\", \"Fraction of IMR articles\": 0.0975609756097561}, {\"years\": \"1990-1995\", \"migration_type\": \"cause_effect\", \"Fraction of IMR articles\": 0.05970149253731343}, {\"years\": \"1991-1996\", \"migration_type\": \"cause_effect\", \"Fraction of IMR articles\": 0.04221635883905013}, {\"years\": \"1992-1997\", \"migration_type\": \"cause_effect\", \"Fraction of IMR articles\": 0.04455445544554455}, {\"years\": \"1993-1998\", \"migration_type\": \"cause_effect\", \"Fraction of IMR articles\": 0.04773869346733668}, {\"years\": \"1994-1999\", \"migration_type\": \"cause_effect\", \"Fraction of IMR articles\": 0.04189944134078212}, {\"years\": \"1950-1955\", \"migration_type\": \"process\", \"Fraction of IMR articles\": 0.0}, {\"years\": \"1951-1956\", \"migration_type\": \"process\", \"Fraction of IMR articles\": 0.0}, {\"years\": \"1952-1957\", \"migration_type\": \"process\", \"Fraction of IMR articles\": 0.0}, {\"years\": \"1953-1958\", \"migration_type\": \"process\", \"Fraction of IMR articles\": 0.0}, {\"years\": \"1954-1959\", \"migration_type\": \"process\", \"Fraction of IMR articles\": 0.0}, {\"years\": \"1955-1960\", \"migration_type\": \"process\", \"Fraction of IMR articles\": 0.0}, {\"years\": \"1956-1961\", \"migration_type\": \"process\", \"Fraction of IMR articles\": 0.0}, {\"years\": \"1957-1962\", \"migration_type\": \"process\", \"Fraction of IMR articles\": 0.0}, {\"years\": \"1958-1963\", \"migration_type\": \"process\", \"Fraction of IMR articles\": 0.0}, {\"years\": \"1959-1964\", \"migration_type\": \"process\", \"Fraction of IMR articles\": 0.0}, {\"years\": \"1960-1965\", \"migration_type\": \"process\", \"Fraction of IMR articles\": 0.0}, {\"years\": \"1961-1966\", \"migration_type\": \"process\", \"Fraction of IMR articles\": 0.0196078431372549}, {\"years\": \"1962-1967\", \"migration_type\": \"process\", \"Fraction of IMR articles\": 0.046153846153846156}, {\"years\": \"1963-1968\", \"migration_type\": \"process\", \"Fraction of IMR articles\": 0.0449438202247191}, {\"years\": \"1964-1969\", \"migration_type\": \"process\", \"Fraction of IMR articles\": 0.05660377358490566}, {\"years\": \"1965-1970\", \"migration_type\": \"process\", \"Fraction of IMR articles\": 0.08791208791208792}, {\"years\": \"1966-1971\", \"migration_type\": \"process\", \"Fraction of IMR articles\": 0.06796116504854369}, {\"years\": \"1967-1972\", \"migration_type\": \"process\", \"Fraction of IMR articles\": 0.075}, {\"years\": \"1968-1973\", \"migration_type\": \"process\", \"Fraction of IMR articles\": 0.08176100628930817}, {\"years\": \"1969-1974\", \"migration_type\": \"process\", \"Fraction of IMR articles\": 0.08235294117647059}, {\"years\": \"1970-1975\", \"migration_type\": \"process\", \"Fraction of IMR articles\": 0.08287292817679558}, {\"years\": \"1971-1976\", \"migration_type\": \"process\", \"Fraction of IMR articles\": 0.0962566844919786}, {\"years\": \"1972-1977\", \"migration_type\": \"process\", \"Fraction of IMR articles\": 0.09239130434782608}, {\"years\": \"1973-1978\", \"migration_type\": \"process\", \"Fraction of IMR articles\": 0.10067114093959731}, {\"years\": \"1974-1979\", \"migration_type\": \"process\", \"Fraction of IMR articles\": 0.10884353741496598}, {\"years\": \"1975-1980\", \"migration_type\": \"process\", \"Fraction of IMR articles\": 0.11320754716981132}, {\"years\": \"1976-1981\", \"migration_type\": \"process\", \"Fraction of IMR articles\": 0.1320754716981132}, {\"years\": \"1977-1982\", \"migration_type\": \"process\", \"Fraction of IMR articles\": 0.1368421052631579}, {\"years\": \"1978-1983\", \"migration_type\": \"process\", \"Fraction of IMR articles\": 0.15306122448979592}, {\"years\": \"1979-1984\", \"migration_type\": \"process\", \"Fraction of IMR articles\": 0.14644351464435146}, {\"years\": \"1980-1985\", \"migration_type\": \"process\", \"Fraction of IMR articles\": 0.1423076923076923}, {\"years\": \"1981-1986\", \"migration_type\": \"process\", \"Fraction of IMR articles\": 0.14285714285714285}, {\"years\": \"1982-1987\", \"migration_type\": \"process\", \"Fraction of IMR articles\": 0.144}, {\"years\": \"1983-1988\", \"migration_type\": \"process\", \"Fraction of IMR articles\": 0.13186813186813187}, {\"years\": \"1984-1989\", \"migration_type\": \"process\", \"Fraction of IMR articles\": 0.13559322033898305}, {\"years\": \"1985-1990\", \"migration_type\": \"process\", \"Fraction of IMR articles\": 0.15813953488372093}, {\"years\": \"1986-1991\", \"migration_type\": \"process\", \"Fraction of IMR articles\": 0.14351851851851852}, {\"years\": \"1987-1992\", \"migration_type\": \"process\", \"Fraction of IMR articles\": 0.1319796954314721}, {\"years\": \"1988-1993\", \"migration_type\": \"process\", \"Fraction of IMR articles\": 0.1306532663316583}, {\"years\": \"1989-1994\", \"migration_type\": \"process\", \"Fraction of IMR articles\": 0.08943089430894309}, {\"years\": \"1990-1995\", \"migration_type\": \"process\", \"Fraction of IMR articles\": 0.056716417910447764}, {\"years\": \"1991-1996\", \"migration_type\": \"process\", \"Fraction of IMR articles\": 0.055408970976253295}, {\"years\": \"1992-1997\", \"migration_type\": \"process\", \"Fraction of IMR articles\": 0.05693069306930693}, {\"years\": \"1993-1998\", \"migration_type\": \"process\", \"Fraction of IMR articles\": 0.04773869346733668}, {\"years\": \"1994-1999\", \"migration_type\": \"process\", \"Fraction of IMR articles\": 0.06424581005586592}, {\"years\": \"1950-1955\", \"migration_type\": \"decision making\", \"Fraction of IMR articles\": 0.0}, {\"years\": \"1951-1956\", \"migration_type\": \"decision making\", \"Fraction of IMR articles\": 0.0}, {\"years\": \"1952-1957\", \"migration_type\": \"decision making\", \"Fraction of IMR articles\": 0.0}, {\"years\": \"1953-1958\", \"migration_type\": \"decision making\", \"Fraction of IMR articles\": 0.0}, {\"years\": \"1954-1959\", \"migration_type\": \"decision making\", \"Fraction of IMR articles\": 0.0}, {\"years\": \"1955-1960\", \"migration_type\": \"decision making\", \"Fraction of IMR articles\": 0.0}, {\"years\": \"1956-1961\", \"migration_type\": \"decision making\", \"Fraction of IMR articles\": 0.0}, {\"years\": \"1957-1962\", \"migration_type\": \"decision making\", \"Fraction of IMR articles\": 0.0}, {\"years\": \"1958-1963\", \"migration_type\": \"decision making\", \"Fraction of IMR articles\": 0.0}, {\"years\": \"1959-1964\", \"migration_type\": \"decision making\", \"Fraction of IMR articles\": 0.0}, {\"years\": \"1960-1965\", \"migration_type\": \"decision making\", \"Fraction of IMR articles\": 0.0967741935483871}, {\"years\": \"1961-1966\", \"migration_type\": \"decision making\", \"Fraction of IMR articles\": 0.11764705882352941}, {\"years\": \"1962-1967\", \"migration_type\": \"decision making\", \"Fraction of IMR articles\": 0.12307692307692308}, {\"years\": \"1963-1968\", \"migration_type\": \"decision making\", \"Fraction of IMR articles\": 0.0898876404494382}, {\"years\": \"1964-1969\", \"migration_type\": \"decision making\", \"Fraction of IMR articles\": 0.08490566037735849}, {\"years\": \"1965-1970\", \"migration_type\": \"decision making\", \"Fraction of IMR articles\": 0.07692307692307693}, {\"years\": \"1966-1971\", \"migration_type\": \"decision making\", \"Fraction of IMR articles\": 0.05825242718446602}, {\"years\": \"1967-1972\", \"migration_type\": \"decision making\", \"Fraction of IMR articles\": 0.041666666666666664}, {\"years\": \"1968-1973\", \"migration_type\": \"decision making\", \"Fraction of IMR articles\": 0.0440251572327044}, {\"years\": \"1969-1974\", \"migration_type\": \"decision making\", \"Fraction of IMR articles\": 0.058823529411764705}, {\"years\": \"1970-1975\", \"migration_type\": \"decision making\", \"Fraction of IMR articles\": 0.10497237569060773}, {\"years\": \"1971-1976\", \"migration_type\": \"decision making\", \"Fraction of IMR articles\": 0.1443850267379679}, {\"years\": \"1972-1977\", \"migration_type\": \"decision making\", \"Fraction of IMR articles\": 0.1956521739130435}, {\"years\": \"1973-1978\", \"migration_type\": \"decision making\", \"Fraction of IMR articles\": 0.2684563758389262}, {\"years\": \"1974-1979\", \"migration_type\": \"decision making\", \"Fraction of IMR articles\": 0.2925170068027211}, {\"years\": \"1975-1980\", \"migration_type\": \"decision making\", \"Fraction of IMR articles\": 0.2893081761006289}, {\"years\": \"1976-1981\", \"migration_type\": \"decision making\", \"Fraction of IMR articles\": 0.2578616352201258}, {\"years\": \"1977-1982\", \"migration_type\": \"decision making\", \"Fraction of IMR articles\": 0.2789473684210526}, {\"years\": \"1978-1983\", \"migration_type\": \"decision making\", \"Fraction of IMR articles\": 0.29591836734693877}, {\"years\": \"1979-1984\", \"migration_type\": \"decision making\", \"Fraction of IMR articles\": 0.27615062761506276}, {\"years\": \"1980-1985\", \"migration_type\": \"decision making\", \"Fraction of IMR articles\": 0.25769230769230766}, {\"years\": \"1981-1986\", \"migration_type\": \"decision making\", \"Fraction of IMR articles\": 0.2976190476190476}, {\"years\": \"1982-1987\", \"migration_type\": \"decision making\", \"Fraction of IMR articles\": 0.268}, {\"years\": \"1983-1988\", \"migration_type\": \"decision making\", \"Fraction of IMR articles\": 0.27472527472527475}, {\"years\": \"1984-1989\", \"migration_type\": \"decision making\", \"Fraction of IMR articles\": 0.2796610169491525}, {\"years\": \"1985-1990\", \"migration_type\": \"decision making\", \"Fraction of IMR articles\": 0.3209302325581395}, {\"years\": \"1986-1991\", \"migration_type\": \"decision making\", \"Fraction of IMR articles\": 0.32407407407407407}, {\"years\": \"1987-1992\", \"migration_type\": \"decision making\", \"Fraction of IMR articles\": 0.3401015228426396}, {\"years\": \"1988-1993\", \"migration_type\": \"decision making\", \"Fraction of IMR articles\": 0.32663316582914576}, {\"years\": \"1989-1994\", \"migration_type\": \"decision making\", \"Fraction of IMR articles\": 0.3008130081300813}, {\"years\": \"1990-1995\", \"migration_type\": \"decision making\", \"Fraction of IMR articles\": 0.191044776119403}, {\"years\": \"1991-1996\", \"migration_type\": \"decision making\", \"Fraction of IMR articles\": 0.17150395778364116}, {\"years\": \"1992-1997\", \"migration_type\": \"decision making\", \"Fraction of IMR articles\": 0.18564356435643564}, {\"years\": \"1993-1998\", \"migration_type\": \"decision making\", \"Fraction of IMR articles\": 0.16834170854271358}, {\"years\": \"1994-1999\", \"migration_type\": \"decision making\", \"Fraction of IMR articles\": 0.17597765363128492}]}}, {\"mode\": \"vega-lite\"});\n",
       "</script>"
      ],
      "text/plain": [
       "alt.VConcatChart(...)"
      ]
     },
     "execution_count": 30,
     "metadata": {},
     "output_type": "execute_result"
    }
   ],
   "source": [
    "alt.vconcat(c3, c4).properties(\n",
    "    title='Migration Management'\n",
    ").configure_title(\n",
    "    fontSize=20,\n",
    "    font='Verdana',\n",
    "    align='center',\n",
    "    color='black',\n",
    ")\n"
   ]
  },
  {
   "cell_type": "markdown",
   "metadata": {
    "tags": [
     "narrative"
    ]
   },
   "source": [
    "As this is a discourse coalition about migration management, the next aspect to consider is the extent to which management words played a role in the discourse. Management has a changing vocabulary, but we tried to single out the most important terms. From figure 10 it appears that overall there was a growing interest in management related issues, but overall in IMR discussions about decision making were more important than the other two topics throughout the entire period. This confirms our idea that the ICEM liaison of IM had an influence on its discussions. The topics that the titles referred to shifted from a process to a decision making orientation, in both journals but more so in IM. Without further research, it is hard make any definitive interpretions of this shift, but it seems to be indicative for a shift from an approach of migration management as interacting with migration to a more control oriented approach."
   ]
  },
  {
   "cell_type": "code",
   "execution_count": 31,
   "metadata": {
    "jdh": {
     "object": {
      "source": [
       "figure 8: Labour Migration Terminology in Titles"
      ]
     }
    },
    "tags": [
     "figure-8",
     "narrative",
     "hermeneutics",
     "hermeneutics-step"
    ]
   },
   "outputs": [
    {
     "data": {
      "text/html": [
       "\n",
       "<div id=\"altair-viz-cbd4195fd8b54a798ed40f54cadbd0ee\"></div>\n",
       "<script type=\"text/javascript\">\n",
       "  (function(spec, embedOpt){\n",
       "    let outputDiv = document.currentScript.previousElementSibling;\n",
       "    if (outputDiv.id !== \"altair-viz-cbd4195fd8b54a798ed40f54cadbd0ee\") {\n",
       "      outputDiv = document.getElementById(\"altair-viz-cbd4195fd8b54a798ed40f54cadbd0ee\");\n",
       "    }\n",
       "    const paths = {\n",
       "      \"vega\": \"https://cdn.jsdelivr.net/npm//vega@5?noext\",\n",
       "      \"vega-lib\": \"https://cdn.jsdelivr.net/npm//vega-lib?noext\",\n",
       "      \"vega-lite\": \"https://cdn.jsdelivr.net/npm//vega-lite@4.8.1?noext\",\n",
       "      \"vega-embed\": \"https://cdn.jsdelivr.net/npm//vega-embed@6?noext\",\n",
       "    };\n",
       "\n",
       "    function loadScript(lib) {\n",
       "      return new Promise(function(resolve, reject) {\n",
       "        var s = document.createElement('script');\n",
       "        s.src = paths[lib];\n",
       "        s.async = true;\n",
       "        s.onload = () => resolve(paths[lib]);\n",
       "        s.onerror = () => reject(`Error loading script: ${paths[lib]}`);\n",
       "        document.getElementsByTagName(\"head\")[0].appendChild(s);\n",
       "      });\n",
       "    }\n",
       "\n",
       "    function showError(err) {\n",
       "      outputDiv.innerHTML = `<div class=\"error\" style=\"color:red;\">${err}</div>`;\n",
       "      throw err;\n",
       "    }\n",
       "\n",
       "    function displayChart(vegaEmbed) {\n",
       "      vegaEmbed(outputDiv, spec, embedOpt)\n",
       "        .catch(err => showError(`Javascript Error: ${err.message}<br>This usually means there's a typo in your chart specification. See the javascript console for the full traceback.`));\n",
       "    }\n",
       "\n",
       "    if(typeof define === \"function\" && define.amd) {\n",
       "      requirejs.config({paths});\n",
       "      require([\"vega-embed\"], displayChart, err => showError(`Error loading script: ${err.message}`));\n",
       "    } else if (typeof vegaEmbed === \"function\") {\n",
       "      displayChart(vegaEmbed);\n",
       "    } else {\n",
       "      loadScript(\"vega\")\n",
       "        .then(() => loadScript(\"vega-lite\"))\n",
       "        .then(() => loadScript(\"vega-embed\"))\n",
       "        .catch(showError)\n",
       "        .then(() => displayChart(vegaEmbed));\n",
       "    }\n",
       "  })({\"config\": {\"view\": {\"continuousWidth\": 400, \"continuousHeight\": 300}, \"title\": {\"align\": \"center\", \"color\": \"black\", \"font\": \"Verdana\", \"fontSize\": 20}}, \"vconcat\": [{\"data\": {\"name\": \"data-a3bbe713c3a64823a4ea5097be6da535\"}, \"mark\": \"line\", \"encoding\": {\"color\": {\"type\": \"ordinal\", \"field\": \"migration_type\", \"scale\": {\"reverse\": true, \"scheme\": \"set1\"}, \"title\": \"Topics\"}, \"x\": {\"type\": \"nominal\", \"axis\": {\"tickCount\": 10}, \"field\": \"years\"}, \"y\": {\"type\": \"quantitative\", \"field\": \"Fraction of REMP/IM articles\"}}}, {\"data\": {\"name\": \"data-85af0433655d913d335bbbe363e6954c\"}, \"mark\": \"line\", \"encoding\": {\"color\": {\"type\": \"ordinal\", \"field\": \"migration_type\", \"scale\": {\"reverse\": true, \"scheme\": \"set1\"}, \"title\": \"Topics\"}, \"x\": {\"type\": \"nominal\", \"axis\": {\"tickCount\": 10}, \"field\": \"years\"}, \"y\": {\"type\": \"quantitative\", \"field\": \"Fraction of IMR articles\"}}}], \"title\": \"Labour Migration terminology\", \"$schema\": \"https://vega.github.io/schema/vega-lite/v4.8.1.json\", \"datasets\": {\"data-a3bbe713c3a64823a4ea5097be6da535\": [{\"years\": \"1950-1955\", \"migration_type\": \"labour\", \"Fraction of REMP/IM articles\": 0.0}, {\"years\": \"1951-1956\", \"migration_type\": \"labour\", \"Fraction of REMP/IM articles\": 0.0}, {\"years\": \"1952-1957\", \"migration_type\": \"labour\", \"Fraction of REMP/IM articles\": 0.015384615384615385}, {\"years\": \"1953-1958\", \"migration_type\": \"labour\", \"Fraction of REMP/IM articles\": 0.014705882352941176}, {\"years\": \"1954-1959\", \"migration_type\": \"labour\", \"Fraction of REMP/IM articles\": 0.030303030303030304}, {\"years\": \"1955-1960\", \"migration_type\": \"labour\", \"Fraction of REMP/IM articles\": 0.07142857142857142}, {\"years\": \"1956-1961\", \"migration_type\": \"labour\", \"Fraction of REMP/IM articles\": 0.07692307692307693}, {\"years\": \"1957-1962\", \"migration_type\": \"labour\", \"Fraction of REMP/IM articles\": 0.06557377049180328}, {\"years\": \"1958-1963\", \"migration_type\": \"labour\", \"Fraction of REMP/IM articles\": 0.08955223880597014}, {\"years\": \"1959-1964\", \"migration_type\": \"labour\", \"Fraction of REMP/IM articles\": 0.07142857142857142}, {\"years\": \"1960-1965\", \"migration_type\": \"labour\", \"Fraction of REMP/IM articles\": 0.0379746835443038}, {\"years\": \"1961-1966\", \"migration_type\": \"labour\", \"Fraction of REMP/IM articles\": 0.045454545454545456}, {\"years\": \"1962-1967\", \"migration_type\": \"labour\", \"Fraction of REMP/IM articles\": 0.06097560975609756}, {\"years\": \"1963-1968\", \"migration_type\": \"labour\", \"Fraction of REMP/IM articles\": 0.036585365853658534}, {\"years\": \"1964-1969\", \"migration_type\": \"labour\", \"Fraction of REMP/IM articles\": 0.03488372093023256}, {\"years\": \"1965-1970\", \"migration_type\": \"labour\", \"Fraction of REMP/IM articles\": 0.05405405405405406}, {\"years\": \"1966-1971\", \"migration_type\": \"labour\", \"Fraction of REMP/IM articles\": 0.05714285714285714}, {\"years\": \"1967-1972\", \"migration_type\": \"labour\", \"Fraction of REMP/IM articles\": 0.04411764705882353}, {\"years\": \"1968-1973\", \"migration_type\": \"labour\", \"Fraction of REMP/IM articles\": 0.046153846153846156}, {\"years\": \"1969-1974\", \"migration_type\": \"labour\", \"Fraction of REMP/IM articles\": 0.0625}, {\"years\": \"1970-1975\", \"migration_type\": \"labour\", \"Fraction of REMP/IM articles\": 0.08695652173913043}, {\"years\": \"1971-1976\", \"migration_type\": \"labour\", \"Fraction of REMP/IM articles\": 0.09859154929577464}, {\"years\": \"1972-1977\", \"migration_type\": \"labour\", \"Fraction of REMP/IM articles\": 0.0945945945945946}, {\"years\": \"1973-1978\", \"migration_type\": \"labour\", \"Fraction of REMP/IM articles\": 0.11940298507462686}, {\"years\": \"1974-1979\", \"migration_type\": \"labour\", \"Fraction of REMP/IM articles\": 0.12307692307692308}, {\"years\": \"1975-1980\", \"migration_type\": \"labour\", \"Fraction of REMP/IM articles\": 0.11764705882352941}, {\"years\": \"1976-1981\", \"migration_type\": \"labour\", \"Fraction of REMP/IM articles\": 0.0975609756097561}, {\"years\": \"1977-1982\", \"migration_type\": \"labour\", \"Fraction of REMP/IM articles\": 0.14285714285714285}, {\"years\": \"1978-1983\", \"migration_type\": \"labour\", \"Fraction of REMP/IM articles\": 0.13333333333333333}, {\"years\": \"1979-1984\", \"migration_type\": \"labour\", \"Fraction of REMP/IM articles\": 0.12903225806451613}, {\"years\": \"1980-1985\", \"migration_type\": \"labour\", \"Fraction of REMP/IM articles\": 0.10843373493975904}, {\"years\": \"1981-1986\", \"migration_type\": \"labour\", \"Fraction of REMP/IM articles\": 0.1523809523809524}, {\"years\": \"1982-1987\", \"migration_type\": \"labour\", \"Fraction of REMP/IM articles\": 0.1693548387096774}, {\"years\": \"1983-1988\", \"migration_type\": \"labour\", \"Fraction of REMP/IM articles\": 0.14965986394557823}, {\"years\": \"1984-1989\", \"migration_type\": \"labour\", \"Fraction of REMP/IM articles\": 0.15753424657534246}, {\"years\": \"1985-1990\", \"migration_type\": \"labour\", \"Fraction of REMP/IM articles\": 0.16352201257861634}, {\"years\": \"1986-1991\", \"migration_type\": \"labour\", \"Fraction of REMP/IM articles\": 0.15060240963855423}, {\"years\": \"1987-1992\", \"migration_type\": \"labour\", \"Fraction of REMP/IM articles\": 0.11834319526627218}, {\"years\": \"1988-1993\", \"migration_type\": \"labour\", \"Fraction of REMP/IM articles\": 0.1419753086419753}, {\"years\": \"1989-1994\", \"migration_type\": \"labour\", \"Fraction of REMP/IM articles\": 0.1656441717791411}, {\"years\": \"1990-1995\", \"migration_type\": \"labour\", \"Fraction of REMP/IM articles\": 0.14743589743589744}, {\"years\": \"1991-1996\", \"migration_type\": \"labour\", \"Fraction of REMP/IM articles\": 0.13380281690140844}, {\"years\": \"1992-1997\", \"migration_type\": \"labour\", \"Fraction of REMP/IM articles\": 0.17037037037037037}, {\"years\": \"1993-1998\", \"migration_type\": \"labour\", \"Fraction of REMP/IM articles\": 0.17293233082706766}, {\"years\": \"1994-1999\", \"migration_type\": \"labour\", \"Fraction of REMP/IM articles\": 0.13953488372093023}, {\"years\": \"1950-1955\", \"migration_type\": \"skill\", \"Fraction of REMP/IM articles\": 0.043478260869565216}, {\"years\": \"1951-1956\", \"migration_type\": \"skill\", \"Fraction of REMP/IM articles\": 0.034482758620689655}, {\"years\": \"1952-1957\", \"migration_type\": \"skill\", \"Fraction of REMP/IM articles\": 0.03076923076923077}, {\"years\": \"1953-1958\", \"migration_type\": \"skill\", \"Fraction of REMP/IM articles\": 0.029411764705882353}, {\"years\": \"1954-1959\", \"migration_type\": \"skill\", \"Fraction of REMP/IM articles\": 0.015151515151515152}, {\"years\": \"1955-1960\", \"migration_type\": \"skill\", \"Fraction of REMP/IM articles\": 0.03571428571428571}, {\"years\": \"1956-1961\", \"migration_type\": \"skill\", \"Fraction of REMP/IM articles\": 0.038461538461538464}, {\"years\": \"1957-1962\", \"migration_type\": \"skill\", \"Fraction of REMP/IM articles\": 0.08196721311475409}, {\"years\": \"1958-1963\", \"migration_type\": \"skill\", \"Fraction of REMP/IM articles\": 0.07462686567164178}, {\"years\": \"1959-1964\", \"migration_type\": \"skill\", \"Fraction of REMP/IM articles\": 0.05714285714285714}, {\"years\": \"1960-1965\", \"migration_type\": \"skill\", \"Fraction of REMP/IM articles\": 0.0379746835443038}, {\"years\": \"1961-1966\", \"migration_type\": \"skill\", \"Fraction of REMP/IM articles\": 0.045454545454545456}, {\"years\": \"1962-1967\", \"migration_type\": \"skill\", \"Fraction of REMP/IM articles\": 0.024390243902439025}, {\"years\": \"1963-1968\", \"migration_type\": \"skill\", \"Fraction of REMP/IM articles\": 0.04878048780487805}, {\"years\": \"1964-1969\", \"migration_type\": \"skill\", \"Fraction of REMP/IM articles\": 0.046511627906976744}, {\"years\": \"1965-1970\", \"migration_type\": \"skill\", \"Fraction of REMP/IM articles\": 0.06756756756756757}, {\"years\": \"1966-1971\", \"migration_type\": \"skill\", \"Fraction of REMP/IM articles\": 0.1}, {\"years\": \"1967-1972\", \"migration_type\": \"skill\", \"Fraction of REMP/IM articles\": 0.08823529411764706}, {\"years\": \"1968-1973\", \"migration_type\": \"skill\", \"Fraction of REMP/IM articles\": 0.06153846153846154}, {\"years\": \"1969-1974\", \"migration_type\": \"skill\", \"Fraction of REMP/IM articles\": 0.078125}, {\"years\": \"1970-1975\", \"migration_type\": \"skill\", \"Fraction of REMP/IM articles\": 0.08695652173913043}, {\"years\": \"1971-1976\", \"migration_type\": \"skill\", \"Fraction of REMP/IM articles\": 0.04225352112676056}, {\"years\": \"1972-1977\", \"migration_type\": \"skill\", \"Fraction of REMP/IM articles\": 0.06756756756756757}, {\"years\": \"1973-1978\", \"migration_type\": \"skill\", \"Fraction of REMP/IM articles\": 0.1044776119402985}, {\"years\": \"1974-1979\", \"migration_type\": \"skill\", \"Fraction of REMP/IM articles\": 0.09230769230769231}, {\"years\": \"1975-1980\", \"migration_type\": \"skill\", \"Fraction of REMP/IM articles\": 0.0784313725490196}, {\"years\": \"1976-1981\", \"migration_type\": \"skill\", \"Fraction of REMP/IM articles\": 0.12195121951219512}, {\"years\": \"1977-1982\", \"migration_type\": \"skill\", \"Fraction of REMP/IM articles\": 0.07142857142857142}, {\"years\": \"1978-1983\", \"migration_type\": \"skill\", \"Fraction of REMP/IM articles\": 0.044444444444444446}, {\"years\": \"1979-1984\", \"migration_type\": \"skill\", \"Fraction of REMP/IM articles\": 0.04838709677419355}, {\"years\": \"1980-1985\", \"migration_type\": \"skill\", \"Fraction of REMP/IM articles\": 0.03614457831325301}, {\"years\": \"1981-1986\", \"migration_type\": \"skill\", \"Fraction of REMP/IM articles\": 0.0380952380952381}, {\"years\": \"1982-1987\", \"migration_type\": \"skill\", \"Fraction of REMP/IM articles\": 0.04838709677419355}, {\"years\": \"1983-1988\", \"migration_type\": \"skill\", \"Fraction of REMP/IM articles\": 0.034013605442176874}, {\"years\": \"1984-1989\", \"migration_type\": \"skill\", \"Fraction of REMP/IM articles\": 0.0273972602739726}, {\"years\": \"1985-1990\", \"migration_type\": \"skill\", \"Fraction of REMP/IM articles\": 0.03773584905660377}, {\"years\": \"1986-1991\", \"migration_type\": \"skill\", \"Fraction of REMP/IM articles\": 0.030120481927710843}, {\"years\": \"1987-1992\", \"migration_type\": \"skill\", \"Fraction of REMP/IM articles\": 0.029585798816568046}, {\"years\": \"1988-1993\", \"migration_type\": \"skill\", \"Fraction of REMP/IM articles\": 0.030864197530864196}, {\"years\": \"1989-1994\", \"migration_type\": \"skill\", \"Fraction of REMP/IM articles\": 0.03067484662576687}, {\"years\": \"1990-1995\", \"migration_type\": \"skill\", \"Fraction of REMP/IM articles\": 0.02564102564102564}, {\"years\": \"1991-1996\", \"migration_type\": \"skill\", \"Fraction of REMP/IM articles\": 0.028169014084507043}, {\"years\": \"1992-1997\", \"migration_type\": \"skill\", \"Fraction of REMP/IM articles\": 0.02962962962962963}, {\"years\": \"1993-1998\", \"migration_type\": \"skill\", \"Fraction of REMP/IM articles\": 0.03759398496240601}, {\"years\": \"1994-1999\", \"migration_type\": \"skill\", \"Fraction of REMP/IM articles\": 0.046511627906976744}, {\"years\": \"1950-1955\", \"migration_type\": \"legal\", \"Fraction of REMP/IM articles\": 0.0}, {\"years\": \"1951-1956\", \"migration_type\": \"legal\", \"Fraction of REMP/IM articles\": 0.0}, {\"years\": \"1952-1957\", \"migration_type\": \"legal\", \"Fraction of REMP/IM articles\": 0.0}, {\"years\": \"1953-1958\", \"migration_type\": \"legal\", \"Fraction of REMP/IM articles\": 0.0}, {\"years\": \"1954-1959\", \"migration_type\": \"legal\", \"Fraction of REMP/IM articles\": 0.0}, {\"years\": \"1955-1960\", \"migration_type\": \"legal\", \"Fraction of REMP/IM articles\": 0.017857142857142856}, {\"years\": \"1956-1961\", \"migration_type\": \"legal\", \"Fraction of REMP/IM articles\": 0.019230769230769232}, {\"years\": \"1957-1962\", \"migration_type\": \"legal\", \"Fraction of REMP/IM articles\": 0.01639344262295082}, {\"years\": \"1958-1963\", \"migration_type\": \"legal\", \"Fraction of REMP/IM articles\": 0.014925373134328358}, {\"years\": \"1959-1964\", \"migration_type\": \"legal\", \"Fraction of REMP/IM articles\": 0.014285714285714285}, {\"years\": \"1960-1965\", \"migration_type\": \"legal\", \"Fraction of REMP/IM articles\": 0.0}, {\"years\": \"1961-1966\", \"migration_type\": \"legal\", \"Fraction of REMP/IM articles\": 0.0}, {\"years\": \"1962-1967\", \"migration_type\": \"legal\", \"Fraction of REMP/IM articles\": 0.0}, {\"years\": \"1963-1968\", \"migration_type\": \"legal\", \"Fraction of REMP/IM articles\": 0.0}, {\"years\": \"1964-1969\", \"migration_type\": \"legal\", \"Fraction of REMP/IM articles\": 0.0}, {\"years\": \"1965-1970\", \"migration_type\": \"legal\", \"Fraction of REMP/IM articles\": 0.0}, {\"years\": \"1966-1971\", \"migration_type\": \"legal\", \"Fraction of REMP/IM articles\": 0.0}, {\"years\": \"1967-1972\", \"migration_type\": \"legal\", \"Fraction of REMP/IM articles\": 0.0}, {\"years\": \"1968-1973\", \"migration_type\": \"legal\", \"Fraction of REMP/IM articles\": 0.015384615384615385}, {\"years\": \"1969-1974\", \"migration_type\": \"legal\", \"Fraction of REMP/IM articles\": 0.015625}, {\"years\": \"1970-1975\", \"migration_type\": \"legal\", \"Fraction of REMP/IM articles\": 0.014492753623188406}, {\"years\": \"1971-1976\", \"migration_type\": \"legal\", \"Fraction of REMP/IM articles\": 0.014084507042253521}, {\"years\": \"1972-1977\", \"migration_type\": \"legal\", \"Fraction of REMP/IM articles\": 0.013513513513513514}, {\"years\": \"1973-1978\", \"migration_type\": \"legal\", \"Fraction of REMP/IM articles\": 0.014925373134328358}, {\"years\": \"1974-1979\", \"migration_type\": \"legal\", \"Fraction of REMP/IM articles\": 0.03076923076923077}, {\"years\": \"1975-1980\", \"migration_type\": \"legal\", \"Fraction of REMP/IM articles\": 0.0392156862745098}, {\"years\": \"1976-1981\", \"migration_type\": \"legal\", \"Fraction of REMP/IM articles\": 0.04878048780487805}, {\"years\": \"1977-1982\", \"migration_type\": \"legal\", \"Fraction of REMP/IM articles\": 0.07142857142857142}, {\"years\": \"1978-1983\", \"migration_type\": \"legal\", \"Fraction of REMP/IM articles\": 0.044444444444444446}, {\"years\": \"1979-1984\", \"migration_type\": \"legal\", \"Fraction of REMP/IM articles\": 0.12903225806451613}, {\"years\": \"1980-1985\", \"migration_type\": \"legal\", \"Fraction of REMP/IM articles\": 0.0963855421686747}, {\"years\": \"1981-1986\", \"migration_type\": \"legal\", \"Fraction of REMP/IM articles\": 0.0761904761904762}, {\"years\": \"1982-1987\", \"migration_type\": \"legal\", \"Fraction of REMP/IM articles\": 0.07258064516129033}, {\"years\": \"1983-1988\", \"migration_type\": \"legal\", \"Fraction of REMP/IM articles\": 0.07482993197278912}, {\"years\": \"1984-1989\", \"migration_type\": \"legal\", \"Fraction of REMP/IM articles\": 0.03424657534246575}, {\"years\": \"1985-1990\", \"migration_type\": \"legal\", \"Fraction of REMP/IM articles\": 0.050314465408805034}, {\"years\": \"1986-1991\", \"migration_type\": \"legal\", \"Fraction of REMP/IM articles\": 0.05421686746987952}, {\"years\": \"1987-1992\", \"migration_type\": \"legal\", \"Fraction of REMP/IM articles\": 0.047337278106508875}, {\"years\": \"1988-1993\", \"migration_type\": \"legal\", \"Fraction of REMP/IM articles\": 0.05555555555555555}, {\"years\": \"1989-1994\", \"migration_type\": \"legal\", \"Fraction of REMP/IM articles\": 0.05521472392638037}, {\"years\": \"1990-1995\", \"migration_type\": \"legal\", \"Fraction of REMP/IM articles\": 0.04487179487179487}, {\"years\": \"1991-1996\", \"migration_type\": \"legal\", \"Fraction of REMP/IM articles\": 0.04225352112676056}, {\"years\": \"1992-1997\", \"migration_type\": \"legal\", \"Fraction of REMP/IM articles\": 0.044444444444444446}, {\"years\": \"1993-1998\", \"migration_type\": \"legal\", \"Fraction of REMP/IM articles\": 0.03007518796992481}, {\"years\": \"1994-1999\", \"migration_type\": \"legal\", \"Fraction of REMP/IM articles\": 0.023255813953488372}, {\"years\": \"1950-1955\", \"migration_type\": \"forced\", \"Fraction of REMP/IM articles\": 0.17391304347826086}, {\"years\": \"1951-1956\", \"migration_type\": \"forced\", \"Fraction of REMP/IM articles\": 0.20689655172413793}, {\"years\": \"1952-1957\", \"migration_type\": \"forced\", \"Fraction of REMP/IM articles\": 0.16923076923076924}, {\"years\": \"1953-1958\", \"migration_type\": \"forced\", \"Fraction of REMP/IM articles\": 0.20588235294117646}, {\"years\": \"1954-1959\", \"migration_type\": \"forced\", \"Fraction of REMP/IM articles\": 0.18181818181818182}, {\"years\": \"1955-1960\", \"migration_type\": \"forced\", \"Fraction of REMP/IM articles\": 0.21428571428571427}, {\"years\": \"1956-1961\", \"migration_type\": \"forced\", \"Fraction of REMP/IM articles\": 0.15384615384615385}, {\"years\": \"1957-1962\", \"migration_type\": \"forced\", \"Fraction of REMP/IM articles\": 0.14754098360655737}, {\"years\": \"1958-1963\", \"migration_type\": \"forced\", \"Fraction of REMP/IM articles\": 0.08955223880597014}, {\"years\": \"1959-1964\", \"migration_type\": \"forced\", \"Fraction of REMP/IM articles\": 0.08571428571428572}, {\"years\": \"1960-1965\", \"migration_type\": \"forced\", \"Fraction of REMP/IM articles\": 0.0759493670886076}, {\"years\": \"1961-1966\", \"migration_type\": \"forced\", \"Fraction of REMP/IM articles\": 0.09090909090909091}, {\"years\": \"1962-1967\", \"migration_type\": \"forced\", \"Fraction of REMP/IM articles\": 0.10975609756097561}, {\"years\": \"1963-1968\", \"migration_type\": \"forced\", \"Fraction of REMP/IM articles\": 0.12195121951219512}, {\"years\": \"1964-1969\", \"migration_type\": \"forced\", \"Fraction of REMP/IM articles\": 0.10465116279069768}, {\"years\": \"1965-1970\", \"migration_type\": \"forced\", \"Fraction of REMP/IM articles\": 0.12162162162162163}, {\"years\": \"1966-1971\", \"migration_type\": \"forced\", \"Fraction of REMP/IM articles\": 0.12857142857142856}, {\"years\": \"1967-1972\", \"migration_type\": \"forced\", \"Fraction of REMP/IM articles\": 0.1323529411764706}, {\"years\": \"1968-1973\", \"migration_type\": \"forced\", \"Fraction of REMP/IM articles\": 0.13846153846153847}, {\"years\": \"1969-1974\", \"migration_type\": \"forced\", \"Fraction of REMP/IM articles\": 0.15625}, {\"years\": \"1970-1975\", \"migration_type\": \"forced\", \"Fraction of REMP/IM articles\": 0.10144927536231885}, {\"years\": \"1971-1976\", \"migration_type\": \"forced\", \"Fraction of REMP/IM articles\": 0.1267605633802817}, {\"years\": \"1972-1977\", \"migration_type\": \"forced\", \"Fraction of REMP/IM articles\": 0.12162162162162163}, {\"years\": \"1973-1978\", \"migration_type\": \"forced\", \"Fraction of REMP/IM articles\": 0.1044776119402985}, {\"years\": \"1974-1979\", \"migration_type\": \"forced\", \"Fraction of REMP/IM articles\": 0.1076923076923077}, {\"years\": \"1975-1980\", \"migration_type\": \"forced\", \"Fraction of REMP/IM articles\": 0.13725490196078433}, {\"years\": \"1976-1981\", \"migration_type\": \"forced\", \"Fraction of REMP/IM articles\": 0.07317073170731707}, {\"years\": \"1977-1982\", \"migration_type\": \"forced\", \"Fraction of REMP/IM articles\": 0.07142857142857142}, {\"years\": \"1978-1983\", \"migration_type\": \"forced\", \"Fraction of REMP/IM articles\": 0.08888888888888889}, {\"years\": \"1979-1984\", \"migration_type\": \"forced\", \"Fraction of REMP/IM articles\": 0.0967741935483871}, {\"years\": \"1980-1985\", \"migration_type\": \"forced\", \"Fraction of REMP/IM articles\": 0.08433734939759036}, {\"years\": \"1981-1986\", \"migration_type\": \"forced\", \"Fraction of REMP/IM articles\": 0.08571428571428572}, {\"years\": \"1982-1987\", \"migration_type\": \"forced\", \"Fraction of REMP/IM articles\": 0.08870967741935484}, {\"years\": \"1983-1988\", \"migration_type\": \"forced\", \"Fraction of REMP/IM articles\": 0.08163265306122448}, {\"years\": \"1984-1989\", \"migration_type\": \"forced\", \"Fraction of REMP/IM articles\": 0.06164383561643835}, {\"years\": \"1985-1990\", \"migration_type\": \"forced\", \"Fraction of REMP/IM articles\": 0.05660377358490566}, {\"years\": \"1986-1991\", \"migration_type\": \"forced\", \"Fraction of REMP/IM articles\": 0.060240963855421686}, {\"years\": \"1987-1992\", \"migration_type\": \"forced\", \"Fraction of REMP/IM articles\": 0.05917159763313609}, {\"years\": \"1988-1993\", \"migration_type\": \"forced\", \"Fraction of REMP/IM articles\": 0.06790123456790123}, {\"years\": \"1989-1994\", \"migration_type\": \"forced\", \"Fraction of REMP/IM articles\": 0.0736196319018405}, {\"years\": \"1990-1995\", \"migration_type\": \"forced\", \"Fraction of REMP/IM articles\": 0.08333333333333333}, {\"years\": \"1991-1996\", \"migration_type\": \"forced\", \"Fraction of REMP/IM articles\": 0.08450704225352113}, {\"years\": \"1992-1997\", \"migration_type\": \"forced\", \"Fraction of REMP/IM articles\": 0.06666666666666667}, {\"years\": \"1993-1998\", \"migration_type\": \"forced\", \"Fraction of REMP/IM articles\": 0.045112781954887216}, {\"years\": \"1994-1999\", \"migration_type\": \"forced\", \"Fraction of REMP/IM articles\": 0.06201550387596899}], \"data-85af0433655d913d335bbbe363e6954c\": [{\"years\": \"1950-1955\", \"migration_type\": \"labour\", \"Fraction of IMR articles\": 0.0}, {\"years\": \"1951-1956\", \"migration_type\": \"labour\", \"Fraction of IMR articles\": 0.0}, {\"years\": \"1952-1957\", \"migration_type\": \"labour\", \"Fraction of IMR articles\": 0.0}, {\"years\": \"1953-1958\", \"migration_type\": \"labour\", \"Fraction of IMR articles\": 0.0}, {\"years\": \"1954-1959\", \"migration_type\": \"labour\", \"Fraction of IMR articles\": 0.0}, {\"years\": \"1955-1960\", \"migration_type\": \"labour\", \"Fraction of IMR articles\": 0.0}, {\"years\": \"1956-1961\", \"migration_type\": \"labour\", \"Fraction of IMR articles\": 0.0}, {\"years\": \"1957-1962\", \"migration_type\": \"labour\", \"Fraction of IMR articles\": 0.0}, {\"years\": \"1958-1963\", \"migration_type\": \"labour\", \"Fraction of IMR articles\": 0.0}, {\"years\": \"1959-1964\", \"migration_type\": \"labour\", \"Fraction of IMR articles\": 0.0}, {\"years\": \"1960-1965\", \"migration_type\": \"labour\", \"Fraction of IMR articles\": 0.03225806451612903}, {\"years\": \"1961-1966\", \"migration_type\": \"labour\", \"Fraction of IMR articles\": 0.058823529411764705}, {\"years\": \"1962-1967\", \"migration_type\": \"labour\", \"Fraction of IMR articles\": 0.046153846153846156}, {\"years\": \"1963-1968\", \"migration_type\": \"labour\", \"Fraction of IMR articles\": 0.0449438202247191}, {\"years\": \"1964-1969\", \"migration_type\": \"labour\", \"Fraction of IMR articles\": 0.04716981132075472}, {\"years\": \"1965-1970\", \"migration_type\": \"labour\", \"Fraction of IMR articles\": 0.054945054945054944}, {\"years\": \"1966-1971\", \"migration_type\": \"labour\", \"Fraction of IMR articles\": 0.06796116504854369}, {\"years\": \"1967-1972\", \"migration_type\": \"labour\", \"Fraction of IMR articles\": 0.058333333333333334}, {\"years\": \"1968-1973\", \"migration_type\": \"labour\", \"Fraction of IMR articles\": 0.07547169811320754}, {\"years\": \"1969-1974\", \"migration_type\": \"labour\", \"Fraction of IMR articles\": 0.06470588235294118}, {\"years\": \"1970-1975\", \"migration_type\": \"labour\", \"Fraction of IMR articles\": 0.06077348066298342}, {\"years\": \"1971-1976\", \"migration_type\": \"labour\", \"Fraction of IMR articles\": 0.0374331550802139}, {\"years\": \"1972-1977\", \"migration_type\": \"labour\", \"Fraction of IMR articles\": 0.05434782608695652}, {\"years\": \"1973-1978\", \"migration_type\": \"labour\", \"Fraction of IMR articles\": 0.04697986577181208}, {\"years\": \"1974-1979\", \"migration_type\": \"labour\", \"Fraction of IMR articles\": 0.06802721088435375}, {\"years\": \"1975-1980\", \"migration_type\": \"labour\", \"Fraction of IMR articles\": 0.0880503144654088}, {\"years\": \"1976-1981\", \"migration_type\": \"labour\", \"Fraction of IMR articles\": 0.1069182389937107}, {\"years\": \"1977-1982\", \"migration_type\": \"labour\", \"Fraction of IMR articles\": 0.12105263157894737}, {\"years\": \"1978-1983\", \"migration_type\": \"labour\", \"Fraction of IMR articles\": 0.12755102040816327}, {\"years\": \"1979-1984\", \"migration_type\": \"labour\", \"Fraction of IMR articles\": 0.13807531380753138}, {\"years\": \"1980-1985\", \"migration_type\": \"labour\", \"Fraction of IMR articles\": 0.1576923076923077}, {\"years\": \"1981-1986\", \"migration_type\": \"labour\", \"Fraction of IMR articles\": 0.1626984126984127}, {\"years\": \"1982-1987\", \"migration_type\": \"labour\", \"Fraction of IMR articles\": 0.18}, {\"years\": \"1983-1988\", \"migration_type\": \"labour\", \"Fraction of IMR articles\": 0.14652014652014653}, {\"years\": \"1984-1989\", \"migration_type\": \"labour\", \"Fraction of IMR articles\": 0.1440677966101695}, {\"years\": \"1985-1990\", \"migration_type\": \"labour\", \"Fraction of IMR articles\": 0.10697674418604651}, {\"years\": \"1986-1991\", \"migration_type\": \"labour\", \"Fraction of IMR articles\": 0.12037037037037036}, {\"years\": \"1987-1992\", \"migration_type\": \"labour\", \"Fraction of IMR articles\": 0.12690355329949238}, {\"years\": \"1988-1993\", \"migration_type\": \"labour\", \"Fraction of IMR articles\": 0.1658291457286432}, {\"years\": \"1989-1994\", \"migration_type\": \"labour\", \"Fraction of IMR articles\": 0.15447154471544716}, {\"years\": \"1990-1995\", \"migration_type\": \"labour\", \"Fraction of IMR articles\": 0.11940298507462686}, {\"years\": \"1991-1996\", \"migration_type\": \"labour\", \"Fraction of IMR articles\": 0.11081794195250659}, {\"years\": \"1992-1997\", \"migration_type\": \"labour\", \"Fraction of IMR articles\": 0.09653465346534654}, {\"years\": \"1993-1998\", \"migration_type\": \"labour\", \"Fraction of IMR articles\": 0.09798994974874371}, {\"years\": \"1994-1999\", \"migration_type\": \"labour\", \"Fraction of IMR articles\": 0.09217877094972067}, {\"years\": \"1950-1955\", \"migration_type\": \"skill\", \"Fraction of IMR articles\": 0.0}, {\"years\": \"1951-1956\", \"migration_type\": \"skill\", \"Fraction of IMR articles\": 0.0}, {\"years\": \"1952-1957\", \"migration_type\": \"skill\", \"Fraction of IMR articles\": 0.0}, {\"years\": \"1953-1958\", \"migration_type\": \"skill\", \"Fraction of IMR articles\": 0.0}, {\"years\": \"1954-1959\", \"migration_type\": \"skill\", \"Fraction of IMR articles\": 0.0}, {\"years\": \"1955-1960\", \"migration_type\": \"skill\", \"Fraction of IMR articles\": 0.0}, {\"years\": \"1956-1961\", \"migration_type\": \"skill\", \"Fraction of IMR articles\": 0.0}, {\"years\": \"1957-1962\", \"migration_type\": \"skill\", \"Fraction of IMR articles\": 0.0}, {\"years\": \"1958-1963\", \"migration_type\": \"skill\", \"Fraction of IMR articles\": 0.0}, {\"years\": \"1959-1964\", \"migration_type\": \"skill\", \"Fraction of IMR articles\": 0.0}, {\"years\": \"1960-1965\", \"migration_type\": \"skill\", \"Fraction of IMR articles\": 0.03225806451612903}, {\"years\": \"1961-1966\", \"migration_type\": \"skill\", \"Fraction of IMR articles\": 0.0196078431372549}, {\"years\": \"1962-1967\", \"migration_type\": \"skill\", \"Fraction of IMR articles\": 0.015384615384615385}, {\"years\": \"1963-1968\", \"migration_type\": \"skill\", \"Fraction of IMR articles\": 0.011235955056179775}, {\"years\": \"1964-1969\", \"migration_type\": \"skill\", \"Fraction of IMR articles\": 0.018867924528301886}, {\"years\": \"1965-1970\", \"migration_type\": \"skill\", \"Fraction of IMR articles\": 0.01098901098901099}, {\"years\": \"1966-1971\", \"migration_type\": \"skill\", \"Fraction of IMR articles\": 0.019417475728155338}, {\"years\": \"1967-1972\", \"migration_type\": \"skill\", \"Fraction of IMR articles\": 0.016666666666666666}, {\"years\": \"1968-1973\", \"migration_type\": \"skill\", \"Fraction of IMR articles\": 0.025157232704402517}, {\"years\": \"1969-1974\", \"migration_type\": \"skill\", \"Fraction of IMR articles\": 0.023529411764705882}, {\"years\": \"1970-1975\", \"migration_type\": \"skill\", \"Fraction of IMR articles\": 0.027624309392265192}, {\"years\": \"1971-1976\", \"migration_type\": \"skill\", \"Fraction of IMR articles\": 0.0213903743315508}, {\"years\": \"1972-1977\", \"migration_type\": \"skill\", \"Fraction of IMR articles\": 0.03260869565217391}, {\"years\": \"1973-1978\", \"migration_type\": \"skill\", \"Fraction of IMR articles\": 0.026845637583892617}, {\"years\": \"1974-1979\", \"migration_type\": \"skill\", \"Fraction of IMR articles\": 0.02040816326530612}, {\"years\": \"1975-1980\", \"migration_type\": \"skill\", \"Fraction of IMR articles\": 0.012578616352201259}, {\"years\": \"1976-1981\", \"migration_type\": \"skill\", \"Fraction of IMR articles\": 0.012578616352201259}, {\"years\": \"1977-1982\", \"migration_type\": \"skill\", \"Fraction of IMR articles\": 0.0}, {\"years\": \"1978-1983\", \"migration_type\": \"skill\", \"Fraction of IMR articles\": 0.0}, {\"years\": \"1979-1984\", \"migration_type\": \"skill\", \"Fraction of IMR articles\": 0.0}, {\"years\": \"1980-1985\", \"migration_type\": \"skill\", \"Fraction of IMR articles\": 0.0}, {\"years\": \"1981-1986\", \"migration_type\": \"skill\", \"Fraction of IMR articles\": 0.003968253968253968}, {\"years\": \"1982-1987\", \"migration_type\": \"skill\", \"Fraction of IMR articles\": 0.004}, {\"years\": \"1983-1988\", \"migration_type\": \"skill\", \"Fraction of IMR articles\": 0.003663003663003663}, {\"years\": \"1984-1989\", \"migration_type\": \"skill\", \"Fraction of IMR articles\": 0.012711864406779662}, {\"years\": \"1985-1990\", \"migration_type\": \"skill\", \"Fraction of IMR articles\": 0.013953488372093023}, {\"years\": \"1986-1991\", \"migration_type\": \"skill\", \"Fraction of IMR articles\": 0.009259259259259259}, {\"years\": \"1987-1992\", \"migration_type\": \"skill\", \"Fraction of IMR articles\": 0.01015228426395939}, {\"years\": \"1988-1993\", \"migration_type\": \"skill\", \"Fraction of IMR articles\": 0.01507537688442211}, {\"years\": \"1989-1994\", \"migration_type\": \"skill\", \"Fraction of IMR articles\": 0.0040650406504065045}, {\"years\": \"1990-1995\", \"migration_type\": \"skill\", \"Fraction of IMR articles\": 0.0029850746268656717}, {\"years\": \"1991-1996\", \"migration_type\": \"skill\", \"Fraction of IMR articles\": 0.0079155672823219}, {\"years\": \"1992-1997\", \"migration_type\": \"skill\", \"Fraction of IMR articles\": 0.007425742574257425}, {\"years\": \"1993-1998\", \"migration_type\": \"skill\", \"Fraction of IMR articles\": 0.007537688442211055}, {\"years\": \"1994-1999\", \"migration_type\": \"skill\", \"Fraction of IMR articles\": 0.013966480446927373}, {\"years\": \"1950-1955\", \"migration_type\": \"legal\", \"Fraction of IMR articles\": 0.0}, {\"years\": \"1951-1956\", \"migration_type\": \"legal\", \"Fraction of IMR articles\": 0.0}, {\"years\": \"1952-1957\", \"migration_type\": \"legal\", \"Fraction of IMR articles\": 0.0}, {\"years\": \"1953-1958\", \"migration_type\": \"legal\", \"Fraction of IMR articles\": 0.0}, {\"years\": \"1954-1959\", \"migration_type\": \"legal\", \"Fraction of IMR articles\": 0.0}, {\"years\": \"1955-1960\", \"migration_type\": \"legal\", \"Fraction of IMR articles\": 0.0}, {\"years\": \"1956-1961\", \"migration_type\": \"legal\", \"Fraction of IMR articles\": 0.0}, {\"years\": \"1957-1962\", \"migration_type\": \"legal\", \"Fraction of IMR articles\": 0.0}, {\"years\": \"1958-1963\", \"migration_type\": \"legal\", \"Fraction of IMR articles\": 0.0}, {\"years\": \"1959-1964\", \"migration_type\": \"legal\", \"Fraction of IMR articles\": 0.0}, {\"years\": \"1960-1965\", \"migration_type\": \"legal\", \"Fraction of IMR articles\": 0.0}, {\"years\": \"1961-1966\", \"migration_type\": \"legal\", \"Fraction of IMR articles\": 0.0}, {\"years\": \"1962-1967\", \"migration_type\": \"legal\", \"Fraction of IMR articles\": 0.0}, {\"years\": \"1963-1968\", \"migration_type\": \"legal\", \"Fraction of IMR articles\": 0.0}, {\"years\": \"1964-1969\", \"migration_type\": \"legal\", \"Fraction of IMR articles\": 0.0}, {\"years\": \"1965-1970\", \"migration_type\": \"legal\", \"Fraction of IMR articles\": 0.0}, {\"years\": \"1966-1971\", \"migration_type\": \"legal\", \"Fraction of IMR articles\": 0.0}, {\"years\": \"1967-1972\", \"migration_type\": \"legal\", \"Fraction of IMR articles\": 0.03333333333333333}, {\"years\": \"1968-1973\", \"migration_type\": \"legal\", \"Fraction of IMR articles\": 0.025157232704402517}, {\"years\": \"1969-1974\", \"migration_type\": \"legal\", \"Fraction of IMR articles\": 0.03529411764705882}, {\"years\": \"1970-1975\", \"migration_type\": \"legal\", \"Fraction of IMR articles\": 0.03867403314917127}, {\"years\": \"1971-1976\", \"migration_type\": \"legal\", \"Fraction of IMR articles\": 0.058823529411764705}, {\"years\": \"1972-1977\", \"migration_type\": \"legal\", \"Fraction of IMR articles\": 0.043478260869565216}, {\"years\": \"1973-1978\", \"migration_type\": \"legal\", \"Fraction of IMR articles\": 0.06040268456375839}, {\"years\": \"1974-1979\", \"migration_type\": \"legal\", \"Fraction of IMR articles\": 0.047619047619047616}, {\"years\": \"1975-1980\", \"migration_type\": \"legal\", \"Fraction of IMR articles\": 0.0440251572327044}, {\"years\": \"1976-1981\", \"migration_type\": \"legal\", \"Fraction of IMR articles\": 0.018867924528301886}, {\"years\": \"1977-1982\", \"migration_type\": \"legal\", \"Fraction of IMR articles\": 0.010526315789473684}, {\"years\": \"1978-1983\", \"migration_type\": \"legal\", \"Fraction of IMR articles\": 0.01020408163265306}, {\"years\": \"1979-1984\", \"migration_type\": \"legal\", \"Fraction of IMR articles\": 0.012552301255230125}, {\"years\": \"1980-1985\", \"migration_type\": \"legal\", \"Fraction of IMR articles\": 0.06923076923076923}, {\"years\": \"1981-1986\", \"migration_type\": \"legal\", \"Fraction of IMR articles\": 0.0873015873015873}, {\"years\": \"1982-1987\", \"migration_type\": \"legal\", \"Fraction of IMR articles\": 0.092}, {\"years\": \"1983-1988\", \"migration_type\": \"legal\", \"Fraction of IMR articles\": 0.10622710622710622}, {\"years\": \"1984-1989\", \"migration_type\": \"legal\", \"Fraction of IMR articles\": 0.1228813559322034}, {\"years\": \"1985-1990\", \"migration_type\": \"legal\", \"Fraction of IMR articles\": 0.06976744186046512}, {\"years\": \"1986-1991\", \"migration_type\": \"legal\", \"Fraction of IMR articles\": 0.05555555555555555}, {\"years\": \"1987-1992\", \"migration_type\": \"legal\", \"Fraction of IMR articles\": 0.08121827411167512}, {\"years\": \"1988-1993\", \"migration_type\": \"legal\", \"Fraction of IMR articles\": 0.06532663316582915}, {\"years\": \"1989-1994\", \"migration_type\": \"legal\", \"Fraction of IMR articles\": 0.06097560975609756}, {\"years\": \"1990-1995\", \"migration_type\": \"legal\", \"Fraction of IMR articles\": 0.050746268656716415}, {\"years\": \"1991-1996\", \"migration_type\": \"legal\", \"Fraction of IMR articles\": 0.047493403693931395}, {\"years\": \"1992-1997\", \"migration_type\": \"legal\", \"Fraction of IMR articles\": 0.039603960396039604}, {\"years\": \"1993-1998\", \"migration_type\": \"legal\", \"Fraction of IMR articles\": 0.03768844221105527}, {\"years\": \"1994-1999\", \"migration_type\": \"legal\", \"Fraction of IMR articles\": 0.05307262569832402}, {\"years\": \"1950-1955\", \"migration_type\": \"forced\", \"Fraction of IMR articles\": 0.0}, {\"years\": \"1951-1956\", \"migration_type\": \"forced\", \"Fraction of IMR articles\": 0.0}, {\"years\": \"1952-1957\", \"migration_type\": \"forced\", \"Fraction of IMR articles\": 0.0}, {\"years\": \"1953-1958\", \"migration_type\": \"forced\", \"Fraction of IMR articles\": 0.0}, {\"years\": \"1954-1959\", \"migration_type\": \"forced\", \"Fraction of IMR articles\": 0.0}, {\"years\": \"1955-1960\", \"migration_type\": \"forced\", \"Fraction of IMR articles\": 0.0}, {\"years\": \"1956-1961\", \"migration_type\": \"forced\", \"Fraction of IMR articles\": 0.0}, {\"years\": \"1957-1962\", \"migration_type\": \"forced\", \"Fraction of IMR articles\": 0.0}, {\"years\": \"1958-1963\", \"migration_type\": \"forced\", \"Fraction of IMR articles\": 0.0}, {\"years\": \"1959-1964\", \"migration_type\": \"forced\", \"Fraction of IMR articles\": 0.0}, {\"years\": \"1960-1965\", \"migration_type\": \"forced\", \"Fraction of IMR articles\": 0.06451612903225806}, {\"years\": \"1961-1966\", \"migration_type\": \"forced\", \"Fraction of IMR articles\": 0.0392156862745098}, {\"years\": \"1962-1967\", \"migration_type\": \"forced\", \"Fraction of IMR articles\": 0.046153846153846156}, {\"years\": \"1963-1968\", \"migration_type\": \"forced\", \"Fraction of IMR articles\": 0.033707865168539325}, {\"years\": \"1964-1969\", \"migration_type\": \"forced\", \"Fraction of IMR articles\": 0.03773584905660377}, {\"years\": \"1965-1970\", \"migration_type\": \"forced\", \"Fraction of IMR articles\": 0.03296703296703297}, {\"years\": \"1966-1971\", \"migration_type\": \"forced\", \"Fraction of IMR articles\": 0.02912621359223301}, {\"years\": \"1967-1972\", \"migration_type\": \"forced\", \"Fraction of IMR articles\": 0.025}, {\"years\": \"1968-1973\", \"migration_type\": \"forced\", \"Fraction of IMR articles\": 0.025157232704402517}, {\"years\": \"1969-1974\", \"migration_type\": \"forced\", \"Fraction of IMR articles\": 0.041176470588235294}, {\"years\": \"1970-1975\", \"migration_type\": \"forced\", \"Fraction of IMR articles\": 0.03867403314917127}, {\"years\": \"1971-1976\", \"migration_type\": \"forced\", \"Fraction of IMR articles\": 0.0374331550802139}, {\"years\": \"1972-1977\", \"migration_type\": \"forced\", \"Fraction of IMR articles\": 0.03260869565217391}, {\"years\": \"1973-1978\", \"migration_type\": \"forced\", \"Fraction of IMR articles\": 0.040268456375838924}, {\"years\": \"1974-1979\", \"migration_type\": \"forced\", \"Fraction of IMR articles\": 0.013605442176870748}, {\"years\": \"1975-1980\", \"migration_type\": \"forced\", \"Fraction of IMR articles\": 0.025157232704402517}, {\"years\": \"1976-1981\", \"migration_type\": \"forced\", \"Fraction of IMR articles\": 0.025157232704402517}, {\"years\": \"1977-1982\", \"migration_type\": \"forced\", \"Fraction of IMR articles\": 0.12105263157894737}, {\"years\": \"1978-1983\", \"migration_type\": \"forced\", \"Fraction of IMR articles\": 0.12244897959183673}, {\"years\": \"1979-1984\", \"migration_type\": \"forced\", \"Fraction of IMR articles\": 0.10460251046025104}, {\"years\": \"1980-1985\", \"migration_type\": \"forced\", \"Fraction of IMR articles\": 0.08846153846153847}, {\"years\": \"1981-1986\", \"migration_type\": \"forced\", \"Fraction of IMR articles\": 0.09523809523809523}, {\"years\": \"1982-1987\", \"migration_type\": \"forced\", \"Fraction of IMR articles\": 0.084}, {\"years\": \"1983-1988\", \"migration_type\": \"forced\", \"Fraction of IMR articles\": 0.09523809523809523}, {\"years\": \"1984-1989\", \"migration_type\": \"forced\", \"Fraction of IMR articles\": 0.1059322033898305}, {\"years\": \"1985-1990\", \"migration_type\": \"forced\", \"Fraction of IMR articles\": 0.14418604651162792}, {\"years\": \"1986-1991\", \"migration_type\": \"forced\", \"Fraction of IMR articles\": 0.14351851851851852}, {\"years\": \"1987-1992\", \"migration_type\": \"forced\", \"Fraction of IMR articles\": 0.09644670050761421}, {\"years\": \"1988-1993\", \"migration_type\": \"forced\", \"Fraction of IMR articles\": 0.09045226130653267}, {\"years\": \"1989-1994\", \"migration_type\": \"forced\", \"Fraction of IMR articles\": 0.08943089430894309}, {\"years\": \"1990-1995\", \"migration_type\": \"forced\", \"Fraction of IMR articles\": 0.056716417910447764}, {\"years\": \"1991-1996\", \"migration_type\": \"forced\", \"Fraction of IMR articles\": 0.05013192612137203}, {\"years\": \"1992-1997\", \"migration_type\": \"forced\", \"Fraction of IMR articles\": 0.06435643564356436}, {\"years\": \"1993-1998\", \"migration_type\": \"forced\", \"Fraction of IMR articles\": 0.07035175879396985}, {\"years\": \"1994-1999\", \"migration_type\": \"forced\", \"Fraction of IMR articles\": 0.07541899441340782}]}}, {\"mode\": \"vega-lite\"});\n",
       "</script>"
      ],
      "text/plain": [
       "alt.VConcatChart(...)"
      ]
     },
     "execution_count": 31,
     "metadata": {},
     "output_type": "execute_result"
    }
   ],
   "source": [
    "selected_topics = ['labour', 'skill', 'legal', 'forced']\n",
    "selected_topic_words = {topic: topic_words[topic] for topic in selected_topics }\n",
    "\n",
    "c5 = ca.alt_topic_chart(selected_topics=selected_topic_words,\n",
    "                   topic_df=df_remp_im, \n",
    "                   var_name='migration_type', source='REMP/IM', title='Topics'\n",
    ")\n",
    "\n",
    "c6 = ca.alt_topic_chart(selected_topics=selected_topic_words,\n",
    "                   topic_df=df_imr_research, \n",
    "                   var_name='migration_type', source='IMR', title='Topics')\n",
    "\n",
    "alt.vconcat(c5, c6).properties(\n",
    "    title='Labour Migration terminology'\n",
    ").configure_title(\n",
    "    fontSize=20,\n",
    "    font='Verdana',\n",
    "    align='center',\n",
    "    color='black',\n",
    ")"
   ]
  },
  {
   "cell_type": "markdown",
   "metadata": {
    "tags": [
     "narrative"
    ]
   },
   "source": [
    "Taken as a whole, there no remarkable difference in the content of the articles of IM and IMR. Over the years the relative proportion of articles that cover a specific topic drops, which may be a sign that the diversity of topics increases, or that terminology diversifies. As an example we have taken the topic of labour migration. Labour in relation to migration was important from the start in both IM and IMR and always remained so. The varying trends in both journals does show that there were dynamics in the scientific discussions in both journals that did not coincide, but without close reading it is impossible to give any more specifics about them (figure 11). "
   ]
  },
  {
   "cell_type": "code",
   "execution_count": 32,
   "metadata": {
    "tags": [
     "hermeneutics",
     "hermeneutics-step"
    ]
   },
   "outputs": [],
   "source": [
    "from scripts.content_analysis import get_discipline_words\n",
    "\n",
    "topic_words = get_discipline_words()\n",
    "c7 = ca.alt_topic_chart(selected_topics=topic_words,\n",
    "                   topic_df=df_remp_im, \n",
    "                   var_name='migration_type', source='REMP/IM', title='Disciplines', scheme='category20b'\n",
    ")\n",
    "\n",
    "c8 = ca.alt_topic_chart(selected_topics=topic_words,\n",
    "                   topic_df=df_imr_research, \n",
    "                   var_name='migration_type', source='IMR', title='Disciplines', scheme='category20b')\n",
    "\n"
   ]
  },
  {
   "cell_type": "code",
   "execution_count": 33,
   "metadata": {
    "jdh": {
     "object": {
      "source": [
       "figure 9: Disciplines in Titles"
      ]
     }
    },
    "tags": [
     "figure-9",
     "narrative",
     "hermeneutics",
     "hermeneutics-step"
    ]
   },
   "outputs": [
    {
     "data": {
      "text/html": [
       "\n",
       "<div id=\"altair-viz-84edcbc02d9b4fdf8e701507d526d569\"></div>\n",
       "<script type=\"text/javascript\">\n",
       "  (function(spec, embedOpt){\n",
       "    let outputDiv = document.currentScript.previousElementSibling;\n",
       "    if (outputDiv.id !== \"altair-viz-84edcbc02d9b4fdf8e701507d526d569\") {\n",
       "      outputDiv = document.getElementById(\"altair-viz-84edcbc02d9b4fdf8e701507d526d569\");\n",
       "    }\n",
       "    const paths = {\n",
       "      \"vega\": \"https://cdn.jsdelivr.net/npm//vega@5?noext\",\n",
       "      \"vega-lib\": \"https://cdn.jsdelivr.net/npm//vega-lib?noext\",\n",
       "      \"vega-lite\": \"https://cdn.jsdelivr.net/npm//vega-lite@4.8.1?noext\",\n",
       "      \"vega-embed\": \"https://cdn.jsdelivr.net/npm//vega-embed@6?noext\",\n",
       "    };\n",
       "\n",
       "    function loadScript(lib) {\n",
       "      return new Promise(function(resolve, reject) {\n",
       "        var s = document.createElement('script');\n",
       "        s.src = paths[lib];\n",
       "        s.async = true;\n",
       "        s.onload = () => resolve(paths[lib]);\n",
       "        s.onerror = () => reject(`Error loading script: ${paths[lib]}`);\n",
       "        document.getElementsByTagName(\"head\")[0].appendChild(s);\n",
       "      });\n",
       "    }\n",
       "\n",
       "    function showError(err) {\n",
       "      outputDiv.innerHTML = `<div class=\"error\" style=\"color:red;\">${err}</div>`;\n",
       "      throw err;\n",
       "    }\n",
       "\n",
       "    function displayChart(vegaEmbed) {\n",
       "      vegaEmbed(outputDiv, spec, embedOpt)\n",
       "        .catch(err => showError(`Javascript Error: ${err.message}<br>This usually means there's a typo in your chart specification. See the javascript console for the full traceback.`));\n",
       "    }\n",
       "\n",
       "    if(typeof define === \"function\" && define.amd) {\n",
       "      requirejs.config({paths});\n",
       "      require([\"vega-embed\"], displayChart, err => showError(`Error loading script: ${err.message}`));\n",
       "    } else if (typeof vegaEmbed === \"function\") {\n",
       "      displayChart(vegaEmbed);\n",
       "    } else {\n",
       "      loadScript(\"vega\")\n",
       "        .then(() => loadScript(\"vega-lite\"))\n",
       "        .then(() => loadScript(\"vega-embed\"))\n",
       "        .catch(showError)\n",
       "        .then(() => displayChart(vegaEmbed));\n",
       "    }\n",
       "  })({\"config\": {\"view\": {\"continuousWidth\": 400, \"continuousHeight\": 300}, \"title\": {\"align\": \"center\", \"color\": \"black\", \"font\": \"Verdana\", \"fontSize\": 20}}, \"vconcat\": [{\"data\": {\"name\": \"data-5ba4c73873ed0cb5535bfd563f6cb65f\"}, \"mark\": \"line\", \"encoding\": {\"color\": {\"type\": \"ordinal\", \"field\": \"migration_type\", \"scale\": {\"reverse\": true, \"scheme\": \"category20b\"}, \"title\": \"Disciplines\"}, \"x\": {\"type\": \"nominal\", \"axis\": {\"tickCount\": 10}, \"field\": \"years\"}, \"y\": {\"type\": \"quantitative\", \"field\": \"Fraction of REMP/IM articles\"}}}, {\"data\": {\"name\": \"data-b8faef812c63f8c17c0420caea73a73f\"}, \"mark\": \"line\", \"encoding\": {\"color\": {\"type\": \"ordinal\", \"field\": \"migration_type\", \"scale\": {\"reverse\": true, \"scheme\": \"category20b\"}, \"title\": \"Disciplines\"}, \"x\": {\"type\": \"nominal\", \"axis\": {\"tickCount\": 10}, \"field\": \"years\"}, \"y\": {\"type\": \"quantitative\", \"field\": \"Fraction of IMR articles\"}}}], \"title\": \"Disciplines in titles\", \"$schema\": \"https://vega.github.io/schema/vega-lite/v4.8.1.json\", \"datasets\": {\"data-5ba4c73873ed0cb5535bfd563f6cb65f\": [{\"years\": \"1950-1955\", \"migration_type\": \"psychology\", \"Fraction of REMP/IM articles\": 0.0}, {\"years\": \"1951-1956\", \"migration_type\": \"psychology\", \"Fraction of REMP/IM articles\": 0.0}, {\"years\": \"1952-1957\", \"migration_type\": \"psychology\", \"Fraction of REMP/IM articles\": 0.0}, {\"years\": \"1953-1958\", \"migration_type\": \"psychology\", \"Fraction of REMP/IM articles\": 0.0}, {\"years\": \"1954-1959\", \"migration_type\": \"psychology\", \"Fraction of REMP/IM articles\": 0.0}, {\"years\": \"1955-1960\", \"migration_type\": \"psychology\", \"Fraction of REMP/IM articles\": 0.0}, {\"years\": \"1956-1961\", \"migration_type\": \"psychology\", \"Fraction of REMP/IM articles\": 0.0}, {\"years\": \"1957-1962\", \"migration_type\": \"psychology\", \"Fraction of REMP/IM articles\": 0.0}, {\"years\": \"1958-1963\", \"migration_type\": \"psychology\", \"Fraction of REMP/IM articles\": 0.0}, {\"years\": \"1959-1964\", \"migration_type\": \"psychology\", \"Fraction of REMP/IM articles\": 0.0}, {\"years\": \"1960-1965\", \"migration_type\": \"psychology\", \"Fraction of REMP/IM articles\": 0.012658227848101266}, {\"years\": \"1961-1966\", \"migration_type\": \"psychology\", \"Fraction of REMP/IM articles\": 0.011363636363636364}, {\"years\": \"1962-1967\", \"migration_type\": \"psychology\", \"Fraction of REMP/IM articles\": 0.012195121951219513}, {\"years\": \"1963-1968\", \"migration_type\": \"psychology\", \"Fraction of REMP/IM articles\": 0.024390243902439025}, {\"years\": \"1964-1969\", \"migration_type\": \"psychology\", \"Fraction of REMP/IM articles\": 0.023255813953488372}, {\"years\": \"1965-1970\", \"migration_type\": \"psychology\", \"Fraction of REMP/IM articles\": 0.013513513513513514}, {\"years\": \"1966-1971\", \"migration_type\": \"psychology\", \"Fraction of REMP/IM articles\": 0.014285714285714285}, {\"years\": \"1967-1972\", \"migration_type\": \"psychology\", \"Fraction of REMP/IM articles\": 0.014705882352941176}, {\"years\": \"1968-1973\", \"migration_type\": \"psychology\", \"Fraction of REMP/IM articles\": 0.015384615384615385}, {\"years\": \"1969-1974\", \"migration_type\": \"psychology\", \"Fraction of REMP/IM articles\": 0.015625}, {\"years\": \"1970-1975\", \"migration_type\": \"psychology\", \"Fraction of REMP/IM articles\": 0.014492753623188406}, {\"years\": \"1971-1976\", \"migration_type\": \"psychology\", \"Fraction of REMP/IM articles\": 0.014084507042253521}, {\"years\": \"1972-1977\", \"migration_type\": \"psychology\", \"Fraction of REMP/IM articles\": 0.013513513513513514}, {\"years\": \"1973-1978\", \"migration_type\": \"psychology\", \"Fraction of REMP/IM articles\": 0.0}, {\"years\": \"1974-1979\", \"migration_type\": \"psychology\", \"Fraction of REMP/IM articles\": 0.0}, {\"years\": \"1975-1980\", \"migration_type\": \"psychology\", \"Fraction of REMP/IM articles\": 0.0}, {\"years\": \"1976-1981\", \"migration_type\": \"psychology\", \"Fraction of REMP/IM articles\": 0.0}, {\"years\": \"1977-1982\", \"migration_type\": \"psychology\", \"Fraction of REMP/IM articles\": 0.0}, {\"years\": \"1978-1983\", \"migration_type\": \"psychology\", \"Fraction of REMP/IM articles\": 0.0}, {\"years\": \"1979-1984\", \"migration_type\": \"psychology\", \"Fraction of REMP/IM articles\": 0.0}, {\"years\": \"1980-1985\", \"migration_type\": \"psychology\", \"Fraction of REMP/IM articles\": 0.0}, {\"years\": \"1981-1986\", \"migration_type\": \"psychology\", \"Fraction of REMP/IM articles\": 0.0}, {\"years\": \"1982-1987\", \"migration_type\": \"psychology\", \"Fraction of REMP/IM articles\": 0.008064516129032258}, {\"years\": \"1983-1988\", \"migration_type\": \"psychology\", \"Fraction of REMP/IM articles\": 0.006802721088435374}, {\"years\": \"1984-1989\", \"migration_type\": \"psychology\", \"Fraction of REMP/IM articles\": 0.00684931506849315}, {\"years\": \"1985-1990\", \"migration_type\": \"psychology\", \"Fraction of REMP/IM articles\": 0.006289308176100629}, {\"years\": \"1986-1991\", \"migration_type\": \"psychology\", \"Fraction of REMP/IM articles\": 0.006024096385542169}, {\"years\": \"1987-1992\", \"migration_type\": \"psychology\", \"Fraction of REMP/IM articles\": 0.0}, {\"years\": \"1988-1993\", \"migration_type\": \"psychology\", \"Fraction of REMP/IM articles\": 0.0}, {\"years\": \"1989-1994\", \"migration_type\": \"psychology\", \"Fraction of REMP/IM articles\": 0.0}, {\"years\": \"1990-1995\", \"migration_type\": \"psychology\", \"Fraction of REMP/IM articles\": 0.0}, {\"years\": \"1991-1996\", \"migration_type\": \"psychology\", \"Fraction of REMP/IM articles\": 0.0}, {\"years\": \"1992-1997\", \"migration_type\": \"psychology\", \"Fraction of REMP/IM articles\": 0.0}, {\"years\": \"1993-1998\", \"migration_type\": \"psychology\", \"Fraction of REMP/IM articles\": 0.0}, {\"years\": \"1994-1999\", \"migration_type\": \"psychology\", \"Fraction of REMP/IM articles\": 0.0}, {\"years\": \"1950-1955\", \"migration_type\": \"economics\", \"Fraction of REMP/IM articles\": 0.13043478260869565}, {\"years\": \"1951-1956\", \"migration_type\": \"economics\", \"Fraction of REMP/IM articles\": 0.1206896551724138}, {\"years\": \"1952-1957\", \"migration_type\": \"economics\", \"Fraction of REMP/IM articles\": 0.13846153846153847}, {\"years\": \"1953-1958\", \"migration_type\": \"economics\", \"Fraction of REMP/IM articles\": 0.1323529411764706}, {\"years\": \"1954-1959\", \"migration_type\": \"economics\", \"Fraction of REMP/IM articles\": 0.13636363636363635}, {\"years\": \"1955-1960\", \"migration_type\": \"economics\", \"Fraction of REMP/IM articles\": 0.07142857142857142}, {\"years\": \"1956-1961\", \"migration_type\": \"economics\", \"Fraction of REMP/IM articles\": 0.057692307692307696}, {\"years\": \"1957-1962\", \"migration_type\": \"economics\", \"Fraction of REMP/IM articles\": 0.03278688524590164}, {\"years\": \"1958-1963\", \"migration_type\": \"economics\", \"Fraction of REMP/IM articles\": 0.07462686567164178}, {\"years\": \"1959-1964\", \"migration_type\": \"economics\", \"Fraction of REMP/IM articles\": 0.07142857142857142}, {\"years\": \"1960-1965\", \"migration_type\": \"economics\", \"Fraction of REMP/IM articles\": 0.06329113924050633}, {\"years\": \"1961-1966\", \"migration_type\": \"economics\", \"Fraction of REMP/IM articles\": 0.07954545454545454}, {\"years\": \"1962-1967\", \"migration_type\": \"economics\", \"Fraction of REMP/IM articles\": 0.08536585365853659}, {\"years\": \"1963-1968\", \"migration_type\": \"economics\", \"Fraction of REMP/IM articles\": 0.04878048780487805}, {\"years\": \"1964-1969\", \"migration_type\": \"economics\", \"Fraction of REMP/IM articles\": 0.046511627906976744}, {\"years\": \"1965-1970\", \"migration_type\": \"economics\", \"Fraction of REMP/IM articles\": 0.05405405405405406}, {\"years\": \"1966-1971\", \"migration_type\": \"economics\", \"Fraction of REMP/IM articles\": 0.05714285714285714}, {\"years\": \"1967-1972\", \"migration_type\": \"economics\", \"Fraction of REMP/IM articles\": 0.058823529411764705}, {\"years\": \"1968-1973\", \"migration_type\": \"economics\", \"Fraction of REMP/IM articles\": 0.1076923076923077}, {\"years\": \"1969-1974\", \"migration_type\": \"economics\", \"Fraction of REMP/IM articles\": 0.109375}, {\"years\": \"1970-1975\", \"migration_type\": \"economics\", \"Fraction of REMP/IM articles\": 0.08695652173913043}, {\"years\": \"1971-1976\", \"migration_type\": \"economics\", \"Fraction of REMP/IM articles\": 0.07042253521126761}, {\"years\": \"1972-1977\", \"migration_type\": \"economics\", \"Fraction of REMP/IM articles\": 0.06756756756756757}, {\"years\": \"1973-1978\", \"migration_type\": \"economics\", \"Fraction of REMP/IM articles\": 0.029850746268656716}, {\"years\": \"1974-1979\", \"migration_type\": \"economics\", \"Fraction of REMP/IM articles\": 0.03076923076923077}, {\"years\": \"1975-1980\", \"migration_type\": \"economics\", \"Fraction of REMP/IM articles\": 0.0392156862745098}, {\"years\": \"1976-1981\", \"migration_type\": \"economics\", \"Fraction of REMP/IM articles\": 0.024390243902439025}, {\"years\": \"1977-1982\", \"migration_type\": \"economics\", \"Fraction of REMP/IM articles\": 0.0}, {\"years\": \"1978-1983\", \"migration_type\": \"economics\", \"Fraction of REMP/IM articles\": 0.0}, {\"years\": \"1979-1984\", \"migration_type\": \"economics\", \"Fraction of REMP/IM articles\": 0.016129032258064516}, {\"years\": \"1980-1985\", \"migration_type\": \"economics\", \"Fraction of REMP/IM articles\": 0.04819277108433735}, {\"years\": \"1981-1986\", \"migration_type\": \"economics\", \"Fraction of REMP/IM articles\": 0.0380952380952381}, {\"years\": \"1982-1987\", \"migration_type\": \"economics\", \"Fraction of REMP/IM articles\": 0.04838709677419355}, {\"years\": \"1983-1988\", \"migration_type\": \"economics\", \"Fraction of REMP/IM articles\": 0.047619047619047616}, {\"years\": \"1984-1989\", \"migration_type\": \"economics\", \"Fraction of REMP/IM articles\": 0.06164383561643835}, {\"years\": \"1985-1990\", \"migration_type\": \"economics\", \"Fraction of REMP/IM articles\": 0.0440251572327044}, {\"years\": \"1986-1991\", \"migration_type\": \"economics\", \"Fraction of REMP/IM articles\": 0.04819277108433735}, {\"years\": \"1987-1992\", \"migration_type\": \"economics\", \"Fraction of REMP/IM articles\": 0.047337278106508875}, {\"years\": \"1988-1993\", \"migration_type\": \"economics\", \"Fraction of REMP/IM articles\": 0.04938271604938271}, {\"years\": \"1989-1994\", \"migration_type\": \"economics\", \"Fraction of REMP/IM articles\": 0.04294478527607362}, {\"years\": \"1990-1995\", \"migration_type\": \"economics\", \"Fraction of REMP/IM articles\": 0.057692307692307696}, {\"years\": \"1991-1996\", \"migration_type\": \"economics\", \"Fraction of REMP/IM articles\": 0.07746478873239436}, {\"years\": \"1992-1997\", \"migration_type\": \"economics\", \"Fraction of REMP/IM articles\": 0.08148148148148149}, {\"years\": \"1993-1998\", \"migration_type\": \"economics\", \"Fraction of REMP/IM articles\": 0.09774436090225563}, {\"years\": \"1994-1999\", \"migration_type\": \"economics\", \"Fraction of REMP/IM articles\": 0.09302325581395349}, {\"years\": \"1950-1955\", \"migration_type\": \"statistics\", \"Fraction of REMP/IM articles\": 0.021739130434782608}, {\"years\": \"1951-1956\", \"migration_type\": \"statistics\", \"Fraction of REMP/IM articles\": 0.017241379310344827}, {\"years\": \"1952-1957\", \"migration_type\": \"statistics\", \"Fraction of REMP/IM articles\": 0.015384615384615385}, {\"years\": \"1953-1958\", \"migration_type\": \"statistics\", \"Fraction of REMP/IM articles\": 0.014705882352941176}, {\"years\": \"1954-1959\", \"migration_type\": \"statistics\", \"Fraction of REMP/IM articles\": 0.015151515151515152}, {\"years\": \"1955-1960\", \"migration_type\": \"statistics\", \"Fraction of REMP/IM articles\": 0.0}, {\"years\": \"1956-1961\", \"migration_type\": \"statistics\", \"Fraction of REMP/IM articles\": 0.0}, {\"years\": \"1957-1962\", \"migration_type\": \"statistics\", \"Fraction of REMP/IM articles\": 0.0}, {\"years\": \"1958-1963\", \"migration_type\": \"statistics\", \"Fraction of REMP/IM articles\": 0.0}, {\"years\": \"1959-1964\", \"migration_type\": \"statistics\", \"Fraction of REMP/IM articles\": 0.0}, {\"years\": \"1960-1965\", \"migration_type\": \"statistics\", \"Fraction of REMP/IM articles\": 0.0}, {\"years\": \"1961-1966\", \"migration_type\": \"statistics\", \"Fraction of REMP/IM articles\": 0.0}, {\"years\": \"1962-1967\", \"migration_type\": \"statistics\", \"Fraction of REMP/IM articles\": 0.0}, {\"years\": \"1963-1968\", \"migration_type\": \"statistics\", \"Fraction of REMP/IM articles\": 0.0}, {\"years\": \"1964-1969\", \"migration_type\": \"statistics\", \"Fraction of REMP/IM articles\": 0.0}, {\"years\": \"1965-1970\", \"migration_type\": \"statistics\", \"Fraction of REMP/IM articles\": 0.0}, {\"years\": \"1966-1971\", \"migration_type\": \"statistics\", \"Fraction of REMP/IM articles\": 0.0}, {\"years\": \"1967-1972\", \"migration_type\": \"statistics\", \"Fraction of REMP/IM articles\": 0.0}, {\"years\": \"1968-1973\", \"migration_type\": \"statistics\", \"Fraction of REMP/IM articles\": 0.0}, {\"years\": \"1969-1974\", \"migration_type\": \"statistics\", \"Fraction of REMP/IM articles\": 0.0}, {\"years\": \"1970-1975\", \"migration_type\": \"statistics\", \"Fraction of REMP/IM articles\": 0.0}, {\"years\": \"1971-1976\", \"migration_type\": \"statistics\", \"Fraction of REMP/IM articles\": 0.0}, {\"years\": \"1972-1977\", \"migration_type\": \"statistics\", \"Fraction of REMP/IM articles\": 0.0}, {\"years\": \"1973-1978\", \"migration_type\": \"statistics\", \"Fraction of REMP/IM articles\": 0.0}, {\"years\": \"1974-1979\", \"migration_type\": \"statistics\", \"Fraction of REMP/IM articles\": 0.0}, {\"years\": \"1975-1980\", \"migration_type\": \"statistics\", \"Fraction of REMP/IM articles\": 0.0}, {\"years\": \"1976-1981\", \"migration_type\": \"statistics\", \"Fraction of REMP/IM articles\": 0.024390243902439025}, {\"years\": \"1977-1982\", \"migration_type\": \"statistics\", \"Fraction of REMP/IM articles\": 0.023809523809523808}, {\"years\": \"1978-1983\", \"migration_type\": \"statistics\", \"Fraction of REMP/IM articles\": 0.044444444444444446}, {\"years\": \"1979-1984\", \"migration_type\": \"statistics\", \"Fraction of REMP/IM articles\": 0.04838709677419355}, {\"years\": \"1980-1985\", \"migration_type\": \"statistics\", \"Fraction of REMP/IM articles\": 0.03614457831325301}, {\"years\": \"1981-1986\", \"migration_type\": \"statistics\", \"Fraction of REMP/IM articles\": 0.02857142857142857}, {\"years\": \"1982-1987\", \"migration_type\": \"statistics\", \"Fraction of REMP/IM articles\": 0.024193548387096774}, {\"years\": \"1983-1988\", \"migration_type\": \"statistics\", \"Fraction of REMP/IM articles\": 0.013605442176870748}, {\"years\": \"1984-1989\", \"migration_type\": \"statistics\", \"Fraction of REMP/IM articles\": 0.00684931506849315}, {\"years\": \"1985-1990\", \"migration_type\": \"statistics\", \"Fraction of REMP/IM articles\": 0.006289308176100629}, {\"years\": \"1986-1991\", \"migration_type\": \"statistics\", \"Fraction of REMP/IM articles\": 0.0}, {\"years\": \"1987-1992\", \"migration_type\": \"statistics\", \"Fraction of REMP/IM articles\": 0.0}, {\"years\": \"1988-1993\", \"migration_type\": \"statistics\", \"Fraction of REMP/IM articles\": 0.0}, {\"years\": \"1989-1994\", \"migration_type\": \"statistics\", \"Fraction of REMP/IM articles\": 0.0}, {\"years\": \"1990-1995\", \"migration_type\": \"statistics\", \"Fraction of REMP/IM articles\": 0.0}, {\"years\": \"1991-1996\", \"migration_type\": \"statistics\", \"Fraction of REMP/IM articles\": 0.0}, {\"years\": \"1992-1997\", \"migration_type\": \"statistics\", \"Fraction of REMP/IM articles\": 0.007407407407407408}, {\"years\": \"1993-1998\", \"migration_type\": \"statistics\", \"Fraction of REMP/IM articles\": 0.007518796992481203}, {\"years\": \"1994-1999\", \"migration_type\": \"statistics\", \"Fraction of REMP/IM articles\": 0.007751937984496124}, {\"years\": \"1950-1955\", \"migration_type\": \"sociology\", \"Fraction of REMP/IM articles\": 0.021739130434782608}, {\"years\": \"1951-1956\", \"migration_type\": \"sociology\", \"Fraction of REMP/IM articles\": 0.017241379310344827}, {\"years\": \"1952-1957\", \"migration_type\": \"sociology\", \"Fraction of REMP/IM articles\": 0.015384615384615385}, {\"years\": \"1953-1958\", \"migration_type\": \"sociology\", \"Fraction of REMP/IM articles\": 0.029411764705882353}, {\"years\": \"1954-1959\", \"migration_type\": \"sociology\", \"Fraction of REMP/IM articles\": 0.045454545454545456}, {\"years\": \"1955-1960\", \"migration_type\": \"sociology\", \"Fraction of REMP/IM articles\": 0.03571428571428571}, {\"years\": \"1956-1961\", \"migration_type\": \"sociology\", \"Fraction of REMP/IM articles\": 0.038461538461538464}, {\"years\": \"1957-1962\", \"migration_type\": \"sociology\", \"Fraction of REMP/IM articles\": 0.03278688524590164}, {\"years\": \"1958-1963\", \"migration_type\": \"sociology\", \"Fraction of REMP/IM articles\": 0.05970149253731343}, {\"years\": \"1959-1964\", \"migration_type\": \"sociology\", \"Fraction of REMP/IM articles\": 0.04285714285714286}, {\"years\": \"1960-1965\", \"migration_type\": \"sociology\", \"Fraction of REMP/IM articles\": 0.05063291139240506}, {\"years\": \"1961-1966\", \"migration_type\": \"sociology\", \"Fraction of REMP/IM articles\": 0.06818181818181818}, {\"years\": \"1962-1967\", \"migration_type\": \"sociology\", \"Fraction of REMP/IM articles\": 0.07317073170731707}, {\"years\": \"1963-1968\", \"migration_type\": \"sociology\", \"Fraction of REMP/IM articles\": 0.06097560975609756}, {\"years\": \"1964-1969\", \"migration_type\": \"sociology\", \"Fraction of REMP/IM articles\": 0.06976744186046512}, {\"years\": \"1965-1970\", \"migration_type\": \"sociology\", \"Fraction of REMP/IM articles\": 0.06756756756756757}, {\"years\": \"1966-1971\", \"migration_type\": \"sociology\", \"Fraction of REMP/IM articles\": 0.04285714285714286}, {\"years\": \"1967-1972\", \"migration_type\": \"sociology\", \"Fraction of REMP/IM articles\": 0.04411764705882353}, {\"years\": \"1968-1973\", \"migration_type\": \"sociology\", \"Fraction of REMP/IM articles\": 0.06153846153846154}, {\"years\": \"1969-1974\", \"migration_type\": \"sociology\", \"Fraction of REMP/IM articles\": 0.046875}, {\"years\": \"1970-1975\", \"migration_type\": \"sociology\", \"Fraction of REMP/IM articles\": 0.07246376811594203}, {\"years\": \"1971-1976\", \"migration_type\": \"sociology\", \"Fraction of REMP/IM articles\": 0.08450704225352113}, {\"years\": \"1972-1977\", \"migration_type\": \"sociology\", \"Fraction of REMP/IM articles\": 0.0945945945945946}, {\"years\": \"1973-1978\", \"migration_type\": \"sociology\", \"Fraction of REMP/IM articles\": 0.05970149253731343}, {\"years\": \"1974-1979\", \"migration_type\": \"sociology\", \"Fraction of REMP/IM articles\": 0.07692307692307693}, {\"years\": \"1975-1980\", \"migration_type\": \"sociology\", \"Fraction of REMP/IM articles\": 0.058823529411764705}, {\"years\": \"1976-1981\", \"migration_type\": \"sociology\", \"Fraction of REMP/IM articles\": 0.04878048780487805}, {\"years\": \"1977-1982\", \"migration_type\": \"sociology\", \"Fraction of REMP/IM articles\": 0.07142857142857142}, {\"years\": \"1978-1983\", \"migration_type\": \"sociology\", \"Fraction of REMP/IM articles\": 0.06666666666666667}, {\"years\": \"1979-1984\", \"migration_type\": \"sociology\", \"Fraction of REMP/IM articles\": 0.08064516129032258}, {\"years\": \"1980-1985\", \"migration_type\": \"sociology\", \"Fraction of REMP/IM articles\": 0.07228915662650602}, {\"years\": \"1981-1986\", \"migration_type\": \"sociology\", \"Fraction of REMP/IM articles\": 0.08571428571428572}, {\"years\": \"1982-1987\", \"migration_type\": \"sociology\", \"Fraction of REMP/IM articles\": 0.08870967741935484}, {\"years\": \"1983-1988\", \"migration_type\": \"sociology\", \"Fraction of REMP/IM articles\": 0.08843537414965986}, {\"years\": \"1984-1989\", \"migration_type\": \"sociology\", \"Fraction of REMP/IM articles\": 0.10273972602739725}, {\"years\": \"1985-1990\", \"migration_type\": \"sociology\", \"Fraction of REMP/IM articles\": 0.1320754716981132}, {\"years\": \"1986-1991\", \"migration_type\": \"sociology\", \"Fraction of REMP/IM articles\": 0.1144578313253012}, {\"years\": \"1987-1992\", \"migration_type\": \"sociology\", \"Fraction of REMP/IM articles\": 0.10059171597633136}, {\"years\": \"1988-1993\", \"migration_type\": \"sociology\", \"Fraction of REMP/IM articles\": 0.10493827160493827}, {\"years\": \"1989-1994\", \"migration_type\": \"sociology\", \"Fraction of REMP/IM articles\": 0.07975460122699386}, {\"years\": \"1990-1995\", \"migration_type\": \"sociology\", \"Fraction of REMP/IM articles\": 0.04487179487179487}, {\"years\": \"1991-1996\", \"migration_type\": \"sociology\", \"Fraction of REMP/IM articles\": 0.04929577464788732}, {\"years\": \"1992-1997\", \"migration_type\": \"sociology\", \"Fraction of REMP/IM articles\": 0.037037037037037035}, {\"years\": \"1993-1998\", \"migration_type\": \"sociology\", \"Fraction of REMP/IM articles\": 0.03007518796992481}, {\"years\": \"1994-1999\", \"migration_type\": \"sociology\", \"Fraction of REMP/IM articles\": 0.023255813953488372}, {\"years\": \"1950-1955\", \"migration_type\": \"demography\", \"Fraction of REMP/IM articles\": 0.0}, {\"years\": \"1951-1956\", \"migration_type\": \"demography\", \"Fraction of REMP/IM articles\": 0.034482758620689655}, {\"years\": \"1952-1957\", \"migration_type\": \"demography\", \"Fraction of REMP/IM articles\": 0.03076923076923077}, {\"years\": \"1953-1958\", \"migration_type\": \"demography\", \"Fraction of REMP/IM articles\": 0.029411764705882353}, {\"years\": \"1954-1959\", \"migration_type\": \"demography\", \"Fraction of REMP/IM articles\": 0.030303030303030304}, {\"years\": \"1955-1960\", \"migration_type\": \"demography\", \"Fraction of REMP/IM articles\": 0.05357142857142857}, {\"years\": \"1956-1961\", \"migration_type\": \"demography\", \"Fraction of REMP/IM articles\": 0.019230769230769232}, {\"years\": \"1957-1962\", \"migration_type\": \"demography\", \"Fraction of REMP/IM articles\": 0.03278688524590164}, {\"years\": \"1958-1963\", \"migration_type\": \"demography\", \"Fraction of REMP/IM articles\": 0.029850746268656716}, {\"years\": \"1959-1964\", \"migration_type\": \"demography\", \"Fraction of REMP/IM articles\": 0.02857142857142857}, {\"years\": \"1960-1965\", \"migration_type\": \"demography\", \"Fraction of REMP/IM articles\": 0.012658227848101266}, {\"years\": \"1961-1966\", \"migration_type\": \"demography\", \"Fraction of REMP/IM articles\": 0.011363636363636364}, {\"years\": \"1962-1967\", \"migration_type\": \"demography\", \"Fraction of REMP/IM articles\": 0.012195121951219513}, {\"years\": \"1963-1968\", \"migration_type\": \"demography\", \"Fraction of REMP/IM articles\": 0.012195121951219513}, {\"years\": \"1964-1969\", \"migration_type\": \"demography\", \"Fraction of REMP/IM articles\": 0.011627906976744186}, {\"years\": \"1965-1970\", \"migration_type\": \"demography\", \"Fraction of REMP/IM articles\": 0.013513513513513514}, {\"years\": \"1966-1971\", \"migration_type\": \"demography\", \"Fraction of REMP/IM articles\": 0.014285714285714285}, {\"years\": \"1967-1972\", \"migration_type\": \"demography\", \"Fraction of REMP/IM articles\": 0.0}, {\"years\": \"1968-1973\", \"migration_type\": \"demography\", \"Fraction of REMP/IM articles\": 0.0}, {\"years\": \"1969-1974\", \"migration_type\": \"demography\", \"Fraction of REMP/IM articles\": 0.0}, {\"years\": \"1970-1975\", \"migration_type\": \"demography\", \"Fraction of REMP/IM articles\": 0.014492753623188406}, {\"years\": \"1971-1976\", \"migration_type\": \"demography\", \"Fraction of REMP/IM articles\": 0.014084507042253521}, {\"years\": \"1972-1977\", \"migration_type\": \"demography\", \"Fraction of REMP/IM articles\": 0.013513513513513514}, {\"years\": \"1973-1978\", \"migration_type\": \"demography\", \"Fraction of REMP/IM articles\": 0.014925373134328358}, {\"years\": \"1974-1979\", \"migration_type\": \"demography\", \"Fraction of REMP/IM articles\": 0.015384615384615385}, {\"years\": \"1975-1980\", \"migration_type\": \"demography\", \"Fraction of REMP/IM articles\": 0.0}, {\"years\": \"1976-1981\", \"migration_type\": \"demography\", \"Fraction of REMP/IM articles\": 0.0}, {\"years\": \"1977-1982\", \"migration_type\": \"demography\", \"Fraction of REMP/IM articles\": 0.0}, {\"years\": \"1978-1983\", \"migration_type\": \"demography\", \"Fraction of REMP/IM articles\": 0.0}, {\"years\": \"1979-1984\", \"migration_type\": \"demography\", \"Fraction of REMP/IM articles\": 0.0}, {\"years\": \"1980-1985\", \"migration_type\": \"demography\", \"Fraction of REMP/IM articles\": 0.012048192771084338}, {\"years\": \"1981-1986\", \"migration_type\": \"demography\", \"Fraction of REMP/IM articles\": 0.009523809523809525}, {\"years\": \"1982-1987\", \"migration_type\": \"demography\", \"Fraction of REMP/IM articles\": 0.016129032258064516}, {\"years\": \"1983-1988\", \"migration_type\": \"demography\", \"Fraction of REMP/IM articles\": 0.027210884353741496}, {\"years\": \"1984-1989\", \"migration_type\": \"demography\", \"Fraction of REMP/IM articles\": 0.0273972602739726}, {\"years\": \"1985-1990\", \"migration_type\": \"demography\", \"Fraction of REMP/IM articles\": 0.018867924528301886}, {\"years\": \"1986-1991\", \"migration_type\": \"demography\", \"Fraction of REMP/IM articles\": 0.030120481927710843}, {\"years\": \"1987-1992\", \"migration_type\": \"demography\", \"Fraction of REMP/IM articles\": 0.023668639053254437}, {\"years\": \"1988-1993\", \"migration_type\": \"demography\", \"Fraction of REMP/IM articles\": 0.012345679012345678}, {\"years\": \"1989-1994\", \"migration_type\": \"demography\", \"Fraction of REMP/IM articles\": 0.012269938650306749}, {\"years\": \"1990-1995\", \"migration_type\": \"demography\", \"Fraction of REMP/IM articles\": 0.01282051282051282}, {\"years\": \"1991-1996\", \"migration_type\": \"demography\", \"Fraction of REMP/IM articles\": 0.007042253521126761}, {\"years\": \"1992-1997\", \"migration_type\": \"demography\", \"Fraction of REMP/IM articles\": 0.007407407407407408}, {\"years\": \"1993-1998\", \"migration_type\": \"demography\", \"Fraction of REMP/IM articles\": 0.015037593984962405}, {\"years\": \"1994-1999\", \"migration_type\": \"demography\", \"Fraction of REMP/IM articles\": 0.031007751937984496}], \"data-b8faef812c63f8c17c0420caea73a73f\": [{\"years\": \"1950-1955\", \"migration_type\": \"psychology\", \"Fraction of IMR articles\": 0.0}, {\"years\": \"1951-1956\", \"migration_type\": \"psychology\", \"Fraction of IMR articles\": 0.0}, {\"years\": \"1952-1957\", \"migration_type\": \"psychology\", \"Fraction of IMR articles\": 0.0}, {\"years\": \"1953-1958\", \"migration_type\": \"psychology\", \"Fraction of IMR articles\": 0.0}, {\"years\": \"1954-1959\", \"migration_type\": \"psychology\", \"Fraction of IMR articles\": 0.0}, {\"years\": \"1955-1960\", \"migration_type\": \"psychology\", \"Fraction of IMR articles\": 0.0}, {\"years\": \"1956-1961\", \"migration_type\": \"psychology\", \"Fraction of IMR articles\": 0.0}, {\"years\": \"1957-1962\", \"migration_type\": \"psychology\", \"Fraction of IMR articles\": 0.0}, {\"years\": \"1958-1963\", \"migration_type\": \"psychology\", \"Fraction of IMR articles\": 0.0}, {\"years\": \"1959-1964\", \"migration_type\": \"psychology\", \"Fraction of IMR articles\": 0.0}, {\"years\": \"1960-1965\", \"migration_type\": \"psychology\", \"Fraction of IMR articles\": 0.0}, {\"years\": \"1961-1966\", \"migration_type\": \"psychology\", \"Fraction of IMR articles\": 0.0196078431372549}, {\"years\": \"1962-1967\", \"migration_type\": \"psychology\", \"Fraction of IMR articles\": 0.03076923076923077}, {\"years\": \"1963-1968\", \"migration_type\": \"psychology\", \"Fraction of IMR articles\": 0.033707865168539325}, {\"years\": \"1964-1969\", \"migration_type\": \"psychology\", \"Fraction of IMR articles\": 0.02830188679245283}, {\"years\": \"1965-1970\", \"migration_type\": \"psychology\", \"Fraction of IMR articles\": 0.03296703296703297}, {\"years\": \"1966-1971\", \"migration_type\": \"psychology\", \"Fraction of IMR articles\": 0.019417475728155338}, {\"years\": \"1967-1972\", \"migration_type\": \"psychology\", \"Fraction of IMR articles\": 0.008333333333333333}, {\"years\": \"1968-1973\", \"migration_type\": \"psychology\", \"Fraction of IMR articles\": 0.0}, {\"years\": \"1969-1974\", \"migration_type\": \"psychology\", \"Fraction of IMR articles\": 0.0}, {\"years\": \"1970-1975\", \"migration_type\": \"psychology\", \"Fraction of IMR articles\": 0.0}, {\"years\": \"1971-1976\", \"migration_type\": \"psychology\", \"Fraction of IMR articles\": 0.0}, {\"years\": \"1972-1977\", \"migration_type\": \"psychology\", \"Fraction of IMR articles\": 0.0}, {\"years\": \"1973-1978\", \"migration_type\": \"psychology\", \"Fraction of IMR articles\": 0.0}, {\"years\": \"1974-1979\", \"migration_type\": \"psychology\", \"Fraction of IMR articles\": 0.0}, {\"years\": \"1975-1980\", \"migration_type\": \"psychology\", \"Fraction of IMR articles\": 0.0}, {\"years\": \"1976-1981\", \"migration_type\": \"psychology\", \"Fraction of IMR articles\": 0.0}, {\"years\": \"1977-1982\", \"migration_type\": \"psychology\", \"Fraction of IMR articles\": 0.005263157894736842}, {\"years\": \"1978-1983\", \"migration_type\": \"psychology\", \"Fraction of IMR articles\": 0.00510204081632653}, {\"years\": \"1979-1984\", \"migration_type\": \"psychology\", \"Fraction of IMR articles\": 0.0041841004184100415}, {\"years\": \"1980-1985\", \"migration_type\": \"psychology\", \"Fraction of IMR articles\": 0.0038461538461538464}, {\"years\": \"1981-1986\", \"migration_type\": \"psychology\", \"Fraction of IMR articles\": 0.003968253968253968}, {\"years\": \"1982-1987\", \"migration_type\": \"psychology\", \"Fraction of IMR articles\": 0.0}, {\"years\": \"1983-1988\", \"migration_type\": \"psychology\", \"Fraction of IMR articles\": 0.007326007326007326}, {\"years\": \"1984-1989\", \"migration_type\": \"psychology\", \"Fraction of IMR articles\": 0.00847457627118644}, {\"years\": \"1985-1990\", \"migration_type\": \"psychology\", \"Fraction of IMR articles\": 0.009302325581395349}, {\"years\": \"1986-1991\", \"migration_type\": \"psychology\", \"Fraction of IMR articles\": 0.009259259259259259}, {\"years\": \"1987-1992\", \"migration_type\": \"psychology\", \"Fraction of IMR articles\": 0.01015228426395939}, {\"years\": \"1988-1993\", \"migration_type\": \"psychology\", \"Fraction of IMR articles\": 0.0}, {\"years\": \"1989-1994\", \"migration_type\": \"psychology\", \"Fraction of IMR articles\": 0.0}, {\"years\": \"1990-1995\", \"migration_type\": \"psychology\", \"Fraction of IMR articles\": 0.0}, {\"years\": \"1991-1996\", \"migration_type\": \"psychology\", \"Fraction of IMR articles\": 0.0}, {\"years\": \"1992-1997\", \"migration_type\": \"psychology\", \"Fraction of IMR articles\": 0.0}, {\"years\": \"1993-1998\", \"migration_type\": \"psychology\", \"Fraction of IMR articles\": 0.0}, {\"years\": \"1994-1999\", \"migration_type\": \"psychology\", \"Fraction of IMR articles\": 0.0}, {\"years\": \"1950-1955\", \"migration_type\": \"economics\", \"Fraction of IMR articles\": 0.0}, {\"years\": \"1951-1956\", \"migration_type\": \"economics\", \"Fraction of IMR articles\": 0.0}, {\"years\": \"1952-1957\", \"migration_type\": \"economics\", \"Fraction of IMR articles\": 0.0}, {\"years\": \"1953-1958\", \"migration_type\": \"economics\", \"Fraction of IMR articles\": 0.0}, {\"years\": \"1954-1959\", \"migration_type\": \"economics\", \"Fraction of IMR articles\": 0.0}, {\"years\": \"1955-1960\", \"migration_type\": \"economics\", \"Fraction of IMR articles\": 0.0}, {\"years\": \"1956-1961\", \"migration_type\": \"economics\", \"Fraction of IMR articles\": 0.0}, {\"years\": \"1957-1962\", \"migration_type\": \"economics\", \"Fraction of IMR articles\": 0.0}, {\"years\": \"1958-1963\", \"migration_type\": \"economics\", \"Fraction of IMR articles\": 0.0}, {\"years\": \"1959-1964\", \"migration_type\": \"economics\", \"Fraction of IMR articles\": 0.0}, {\"years\": \"1960-1965\", \"migration_type\": \"economics\", \"Fraction of IMR articles\": 0.0}, {\"years\": \"1961-1966\", \"migration_type\": \"economics\", \"Fraction of IMR articles\": 0.0}, {\"years\": \"1962-1967\", \"migration_type\": \"economics\", \"Fraction of IMR articles\": 0.0}, {\"years\": \"1963-1968\", \"migration_type\": \"economics\", \"Fraction of IMR articles\": 0.011235955056179775}, {\"years\": \"1964-1969\", \"migration_type\": \"economics\", \"Fraction of IMR articles\": 0.009433962264150943}, {\"years\": \"1965-1970\", \"migration_type\": \"economics\", \"Fraction of IMR articles\": 0.01098901098901099}, {\"years\": \"1966-1971\", \"migration_type\": \"economics\", \"Fraction of IMR articles\": 0.009708737864077669}, {\"years\": \"1967-1972\", \"migration_type\": \"economics\", \"Fraction of IMR articles\": 0.016666666666666666}, {\"years\": \"1968-1973\", \"migration_type\": \"economics\", \"Fraction of IMR articles\": 0.012578616352201259}, {\"years\": \"1969-1974\", \"migration_type\": \"economics\", \"Fraction of IMR articles\": 0.01764705882352941}, {\"years\": \"1970-1975\", \"migration_type\": \"economics\", \"Fraction of IMR articles\": 0.016574585635359115}, {\"years\": \"1971-1976\", \"migration_type\": \"economics\", \"Fraction of IMR articles\": 0.016042780748663103}, {\"years\": \"1972-1977\", \"migration_type\": \"economics\", \"Fraction of IMR articles\": 0.021739130434782608}, {\"years\": \"1973-1978\", \"migration_type\": \"economics\", \"Fraction of IMR articles\": 0.03355704697986577}, {\"years\": \"1974-1979\", \"migration_type\": \"economics\", \"Fraction of IMR articles\": 0.04081632653061224}, {\"years\": \"1975-1980\", \"migration_type\": \"economics\", \"Fraction of IMR articles\": 0.050314465408805034}, {\"years\": \"1976-1981\", \"migration_type\": \"economics\", \"Fraction of IMR articles\": 0.050314465408805034}, {\"years\": \"1977-1982\", \"migration_type\": \"economics\", \"Fraction of IMR articles\": 0.042105263157894736}, {\"years\": \"1978-1983\", \"migration_type\": \"economics\", \"Fraction of IMR articles\": 0.05102040816326531}, {\"years\": \"1979-1984\", \"migration_type\": \"economics\", \"Fraction of IMR articles\": 0.0502092050209205}, {\"years\": \"1980-1985\", \"migration_type\": \"economics\", \"Fraction of IMR articles\": 0.05}, {\"years\": \"1981-1986\", \"migration_type\": \"economics\", \"Fraction of IMR articles\": 0.05952380952380952}, {\"years\": \"1982-1987\", \"migration_type\": \"economics\", \"Fraction of IMR articles\": 0.064}, {\"years\": \"1983-1988\", \"migration_type\": \"economics\", \"Fraction of IMR articles\": 0.05128205128205128}, {\"years\": \"1984-1989\", \"migration_type\": \"economics\", \"Fraction of IMR articles\": 0.0423728813559322}, {\"years\": \"1985-1990\", \"migration_type\": \"economics\", \"Fraction of IMR articles\": 0.04186046511627907}, {\"years\": \"1986-1991\", \"migration_type\": \"economics\", \"Fraction of IMR articles\": 0.032407407407407406}, {\"years\": \"1987-1992\", \"migration_type\": \"economics\", \"Fraction of IMR articles\": 0.030456852791878174}, {\"years\": \"1988-1993\", \"migration_type\": \"economics\", \"Fraction of IMR articles\": 0.03015075376884422}, {\"years\": \"1989-1994\", \"migration_type\": \"economics\", \"Fraction of IMR articles\": 0.04065040650406504}, {\"years\": \"1990-1995\", \"migration_type\": \"economics\", \"Fraction of IMR articles\": 0.029850746268656716}, {\"years\": \"1991-1996\", \"migration_type\": \"economics\", \"Fraction of IMR articles\": 0.036939313984168866}, {\"years\": \"1992-1997\", \"migration_type\": \"economics\", \"Fraction of IMR articles\": 0.04207920792079208}, {\"years\": \"1993-1998\", \"migration_type\": \"economics\", \"Fraction of IMR articles\": 0.04020100502512563}, {\"years\": \"1994-1999\", \"migration_type\": \"economics\", \"Fraction of IMR articles\": 0.036312849162011177}, {\"years\": \"1950-1955\", \"migration_type\": \"statistics\", \"Fraction of IMR articles\": 0.0}, {\"years\": \"1951-1956\", \"migration_type\": \"statistics\", \"Fraction of IMR articles\": 0.0}, {\"years\": \"1952-1957\", \"migration_type\": \"statistics\", \"Fraction of IMR articles\": 0.0}, {\"years\": \"1953-1958\", \"migration_type\": \"statistics\", \"Fraction of IMR articles\": 0.0}, {\"years\": \"1954-1959\", \"migration_type\": \"statistics\", \"Fraction of IMR articles\": 0.0}, {\"years\": \"1955-1960\", \"migration_type\": \"statistics\", \"Fraction of IMR articles\": 0.0}, {\"years\": \"1956-1961\", \"migration_type\": \"statistics\", \"Fraction of IMR articles\": 0.0}, {\"years\": \"1957-1962\", \"migration_type\": \"statistics\", \"Fraction of IMR articles\": 0.0}, {\"years\": \"1958-1963\", \"migration_type\": \"statistics\", \"Fraction of IMR articles\": 0.0}, {\"years\": \"1959-1964\", \"migration_type\": \"statistics\", \"Fraction of IMR articles\": 0.0}, {\"years\": \"1960-1965\", \"migration_type\": \"statistics\", \"Fraction of IMR articles\": 0.03225806451612903}, {\"years\": \"1961-1966\", \"migration_type\": \"statistics\", \"Fraction of IMR articles\": 0.0196078431372549}, {\"years\": \"1962-1967\", \"migration_type\": \"statistics\", \"Fraction of IMR articles\": 0.03076923076923077}, {\"years\": \"1963-1968\", \"migration_type\": \"statistics\", \"Fraction of IMR articles\": 0.02247191011235955}, {\"years\": \"1964-1969\", \"migration_type\": \"statistics\", \"Fraction of IMR articles\": 0.02830188679245283}, {\"years\": \"1965-1970\", \"migration_type\": \"statistics\", \"Fraction of IMR articles\": 0.02197802197802198}, {\"years\": \"1966-1971\", \"migration_type\": \"statistics\", \"Fraction of IMR articles\": 0.019417475728155338}, {\"years\": \"1967-1972\", \"migration_type\": \"statistics\", \"Fraction of IMR articles\": 0.008333333333333333}, {\"years\": \"1968-1973\", \"migration_type\": \"statistics\", \"Fraction of IMR articles\": 0.006289308176100629}, {\"years\": \"1969-1974\", \"migration_type\": \"statistics\", \"Fraction of IMR articles\": 0.0}, {\"years\": \"1970-1975\", \"migration_type\": \"statistics\", \"Fraction of IMR articles\": 0.0}, {\"years\": \"1971-1976\", \"migration_type\": \"statistics\", \"Fraction of IMR articles\": 0.0}, {\"years\": \"1972-1977\", \"migration_type\": \"statistics\", \"Fraction of IMR articles\": 0.005434782608695652}, {\"years\": \"1973-1978\", \"migration_type\": \"statistics\", \"Fraction of IMR articles\": 0.006711409395973154}, {\"years\": \"1974-1979\", \"migration_type\": \"statistics\", \"Fraction of IMR articles\": 0.006802721088435374}, {\"years\": \"1975-1980\", \"migration_type\": \"statistics\", \"Fraction of IMR articles\": 0.006289308176100629}, {\"years\": \"1976-1981\", \"migration_type\": \"statistics\", \"Fraction of IMR articles\": 0.006289308176100629}, {\"years\": \"1977-1982\", \"migration_type\": \"statistics\", \"Fraction of IMR articles\": 0.005263157894736842}, {\"years\": \"1978-1983\", \"migration_type\": \"statistics\", \"Fraction of IMR articles\": 0.01020408163265306}, {\"years\": \"1979-1984\", \"migration_type\": \"statistics\", \"Fraction of IMR articles\": 0.008368200836820083}, {\"years\": \"1980-1985\", \"migration_type\": \"statistics\", \"Fraction of IMR articles\": 0.007692307692307693}, {\"years\": \"1981-1986\", \"migration_type\": \"statistics\", \"Fraction of IMR articles\": 0.007936507936507936}, {\"years\": \"1982-1987\", \"migration_type\": \"statistics\", \"Fraction of IMR articles\": 0.004}, {\"years\": \"1983-1988\", \"migration_type\": \"statistics\", \"Fraction of IMR articles\": 0.014652014652014652}, {\"years\": \"1984-1989\", \"migration_type\": \"statistics\", \"Fraction of IMR articles\": 0.01694915254237288}, {\"years\": \"1985-1990\", \"migration_type\": \"statistics\", \"Fraction of IMR articles\": 0.018604651162790697}, {\"years\": \"1986-1991\", \"migration_type\": \"statistics\", \"Fraction of IMR articles\": 0.018518518518518517}, {\"years\": \"1987-1992\", \"migration_type\": \"statistics\", \"Fraction of IMR articles\": 0.02030456852791878}, {\"years\": \"1988-1993\", \"migration_type\": \"statistics\", \"Fraction of IMR articles\": 0.0}, {\"years\": \"1989-1994\", \"migration_type\": \"statistics\", \"Fraction of IMR articles\": 0.0}, {\"years\": \"1990-1995\", \"migration_type\": \"statistics\", \"Fraction of IMR articles\": 0.0}, {\"years\": \"1991-1996\", \"migration_type\": \"statistics\", \"Fraction of IMR articles\": 0.0}, {\"years\": \"1992-1997\", \"migration_type\": \"statistics\", \"Fraction of IMR articles\": 0.0}, {\"years\": \"1993-1998\", \"migration_type\": \"statistics\", \"Fraction of IMR articles\": 0.0}, {\"years\": \"1994-1999\", \"migration_type\": \"statistics\", \"Fraction of IMR articles\": 0.0}, {\"years\": \"1950-1955\", \"migration_type\": \"sociology\", \"Fraction of IMR articles\": 0.0}, {\"years\": \"1951-1956\", \"migration_type\": \"sociology\", \"Fraction of IMR articles\": 0.0}, {\"years\": \"1952-1957\", \"migration_type\": \"sociology\", \"Fraction of IMR articles\": 0.0}, {\"years\": \"1953-1958\", \"migration_type\": \"sociology\", \"Fraction of IMR articles\": 0.0}, {\"years\": \"1954-1959\", \"migration_type\": \"sociology\", \"Fraction of IMR articles\": 0.0}, {\"years\": \"1955-1960\", \"migration_type\": \"sociology\", \"Fraction of IMR articles\": 0.0}, {\"years\": \"1956-1961\", \"migration_type\": \"sociology\", \"Fraction of IMR articles\": 0.0}, {\"years\": \"1957-1962\", \"migration_type\": \"sociology\", \"Fraction of IMR articles\": 0.0}, {\"years\": \"1958-1963\", \"migration_type\": \"sociology\", \"Fraction of IMR articles\": 0.0}, {\"years\": \"1959-1964\", \"migration_type\": \"sociology\", \"Fraction of IMR articles\": 0.0}, {\"years\": \"1960-1965\", \"migration_type\": \"sociology\", \"Fraction of IMR articles\": 0.03225806451612903}, {\"years\": \"1961-1966\", \"migration_type\": \"sociology\", \"Fraction of IMR articles\": 0.058823529411764705}, {\"years\": \"1962-1967\", \"migration_type\": \"sociology\", \"Fraction of IMR articles\": 0.06153846153846154}, {\"years\": \"1963-1968\", \"migration_type\": \"sociology\", \"Fraction of IMR articles\": 0.0449438202247191}, {\"years\": \"1964-1969\", \"migration_type\": \"sociology\", \"Fraction of IMR articles\": 0.04716981132075472}, {\"years\": \"1965-1970\", \"migration_type\": \"sociology\", \"Fraction of IMR articles\": 0.054945054945054944}, {\"years\": \"1966-1971\", \"migration_type\": \"sociology\", \"Fraction of IMR articles\": 0.038834951456310676}, {\"years\": \"1967-1972\", \"migration_type\": \"sociology\", \"Fraction of IMR articles\": 0.025}, {\"years\": \"1968-1973\", \"migration_type\": \"sociology\", \"Fraction of IMR articles\": 0.0440251572327044}, {\"years\": \"1969-1974\", \"migration_type\": \"sociology\", \"Fraction of IMR articles\": 0.03529411764705882}, {\"years\": \"1970-1975\", \"migration_type\": \"sociology\", \"Fraction of IMR articles\": 0.03314917127071823}, {\"years\": \"1971-1976\", \"migration_type\": \"sociology\", \"Fraction of IMR articles\": 0.03208556149732621}, {\"years\": \"1972-1977\", \"migration_type\": \"sociology\", \"Fraction of IMR articles\": 0.03804347826086957}, {\"years\": \"1973-1978\", \"migration_type\": \"sociology\", \"Fraction of IMR articles\": 0.020134228187919462}, {\"years\": \"1974-1979\", \"migration_type\": \"sociology\", \"Fraction of IMR articles\": 0.034013605442176874}, {\"years\": \"1975-1980\", \"migration_type\": \"sociology\", \"Fraction of IMR articles\": 0.025157232704402517}, {\"years\": \"1976-1981\", \"migration_type\": \"sociology\", \"Fraction of IMR articles\": 0.018867924528301886}, {\"years\": \"1977-1982\", \"migration_type\": \"sociology\", \"Fraction of IMR articles\": 0.015789473684210527}, {\"years\": \"1978-1983\", \"migration_type\": \"sociology\", \"Fraction of IMR articles\": 0.015306122448979591}, {\"years\": \"1979-1984\", \"migration_type\": \"sociology\", \"Fraction of IMR articles\": 0.0041841004184100415}, {\"years\": \"1980-1985\", \"migration_type\": \"sociology\", \"Fraction of IMR articles\": 0.015384615384615385}, {\"years\": \"1981-1986\", \"migration_type\": \"sociology\", \"Fraction of IMR articles\": 0.015873015873015872}, {\"years\": \"1982-1987\", \"migration_type\": \"sociology\", \"Fraction of IMR articles\": 0.016}, {\"years\": \"1983-1988\", \"migration_type\": \"sociology\", \"Fraction of IMR articles\": 0.02564102564102564}, {\"years\": \"1984-1989\", \"migration_type\": \"sociology\", \"Fraction of IMR articles\": 0.038135593220338986}, {\"years\": \"1985-1990\", \"migration_type\": \"sociology\", \"Fraction of IMR articles\": 0.03255813953488372}, {\"years\": \"1986-1991\", \"migration_type\": \"sociology\", \"Fraction of IMR articles\": 0.037037037037037035}, {\"years\": \"1987-1992\", \"migration_type\": \"sociology\", \"Fraction of IMR articles\": 0.04060913705583756}, {\"years\": \"1988-1993\", \"migration_type\": \"sociology\", \"Fraction of IMR articles\": 0.04020100502512563}, {\"years\": \"1989-1994\", \"migration_type\": \"sociology\", \"Fraction of IMR articles\": 0.036585365853658534}, {\"years\": \"1990-1995\", \"migration_type\": \"sociology\", \"Fraction of IMR articles\": 0.029850746268656716}, {\"years\": \"1991-1996\", \"migration_type\": \"sociology\", \"Fraction of IMR articles\": 0.0316622691292876}, {\"years\": \"1992-1997\", \"migration_type\": \"sociology\", \"Fraction of IMR articles\": 0.0297029702970297}, {\"years\": \"1993-1998\", \"migration_type\": \"sociology\", \"Fraction of IMR articles\": 0.02763819095477387}, {\"years\": \"1994-1999\", \"migration_type\": \"sociology\", \"Fraction of IMR articles\": 0.027932960893854747}, {\"years\": \"1950-1955\", \"migration_type\": \"demography\", \"Fraction of IMR articles\": 0.0}, {\"years\": \"1951-1956\", \"migration_type\": \"demography\", \"Fraction of IMR articles\": 0.0}, {\"years\": \"1952-1957\", \"migration_type\": \"demography\", \"Fraction of IMR articles\": 0.0}, {\"years\": \"1953-1958\", \"migration_type\": \"demography\", \"Fraction of IMR articles\": 0.0}, {\"years\": \"1954-1959\", \"migration_type\": \"demography\", \"Fraction of IMR articles\": 0.0}, {\"years\": \"1955-1960\", \"migration_type\": \"demography\", \"Fraction of IMR articles\": 0.0}, {\"years\": \"1956-1961\", \"migration_type\": \"demography\", \"Fraction of IMR articles\": 0.0}, {\"years\": \"1957-1962\", \"migration_type\": \"demography\", \"Fraction of IMR articles\": 0.0}, {\"years\": \"1958-1963\", \"migration_type\": \"demography\", \"Fraction of IMR articles\": 0.0}, {\"years\": \"1959-1964\", \"migration_type\": \"demography\", \"Fraction of IMR articles\": 0.0}, {\"years\": \"1960-1965\", \"migration_type\": \"demography\", \"Fraction of IMR articles\": 0.0}, {\"years\": \"1961-1966\", \"migration_type\": \"demography\", \"Fraction of IMR articles\": 0.0}, {\"years\": \"1962-1967\", \"migration_type\": \"demography\", \"Fraction of IMR articles\": 0.0}, {\"years\": \"1963-1968\", \"migration_type\": \"demography\", \"Fraction of IMR articles\": 0.0}, {\"years\": \"1964-1969\", \"migration_type\": \"demography\", \"Fraction of IMR articles\": 0.009433962264150943}, {\"years\": \"1965-1970\", \"migration_type\": \"demography\", \"Fraction of IMR articles\": 0.01098901098901099}, {\"years\": \"1966-1971\", \"migration_type\": \"demography\", \"Fraction of IMR articles\": 0.009708737864077669}, {\"years\": \"1967-1972\", \"migration_type\": \"demography\", \"Fraction of IMR articles\": 0.016666666666666666}, {\"years\": \"1968-1973\", \"migration_type\": \"demography\", \"Fraction of IMR articles\": 0.012578616352201259}, {\"years\": \"1969-1974\", \"migration_type\": \"demography\", \"Fraction of IMR articles\": 0.0058823529411764705}, {\"years\": \"1970-1975\", \"migration_type\": \"demography\", \"Fraction of IMR articles\": 0.011049723756906077}, {\"years\": \"1971-1976\", \"migration_type\": \"demography\", \"Fraction of IMR articles\": 0.0213903743315508}, {\"years\": \"1972-1977\", \"migration_type\": \"demography\", \"Fraction of IMR articles\": 0.021739130434782608}, {\"years\": \"1973-1978\", \"migration_type\": \"demography\", \"Fraction of IMR articles\": 0.03355704697986577}, {\"years\": \"1974-1979\", \"migration_type\": \"demography\", \"Fraction of IMR articles\": 0.034013605442176874}, {\"years\": \"1975-1980\", \"migration_type\": \"demography\", \"Fraction of IMR articles\": 0.031446540880503145}, {\"years\": \"1976-1981\", \"migration_type\": \"demography\", \"Fraction of IMR articles\": 0.018867924528301886}, {\"years\": \"1977-1982\", \"migration_type\": \"demography\", \"Fraction of IMR articles\": 0.010526315789473684}, {\"years\": \"1978-1983\", \"migration_type\": \"demography\", \"Fraction of IMR articles\": 0.01020408163265306}, {\"years\": \"1979-1984\", \"migration_type\": \"demography\", \"Fraction of IMR articles\": 0.012552301255230125}, {\"years\": \"1980-1985\", \"migration_type\": \"demography\", \"Fraction of IMR articles\": 0.007692307692307693}, {\"years\": \"1981-1986\", \"migration_type\": \"demography\", \"Fraction of IMR articles\": 0.007936507936507936}, {\"years\": \"1982-1987\", \"migration_type\": \"demography\", \"Fraction of IMR articles\": 0.012}, {\"years\": \"1983-1988\", \"migration_type\": \"demography\", \"Fraction of IMR articles\": 0.007326007326007326}, {\"years\": \"1984-1989\", \"migration_type\": \"demography\", \"Fraction of IMR articles\": 0.00423728813559322}, {\"years\": \"1985-1990\", \"migration_type\": \"demography\", \"Fraction of IMR articles\": 0.004651162790697674}, {\"years\": \"1986-1991\", \"migration_type\": \"demography\", \"Fraction of IMR articles\": 0.004629629629629629}, {\"years\": \"1987-1992\", \"migration_type\": \"demography\", \"Fraction of IMR articles\": 0.0}, {\"years\": \"1988-1993\", \"migration_type\": \"demography\", \"Fraction of IMR articles\": 0.0}, {\"years\": \"1989-1994\", \"migration_type\": \"demography\", \"Fraction of IMR articles\": 0.012195121951219513}, {\"years\": \"1990-1995\", \"migration_type\": \"demography\", \"Fraction of IMR articles\": 0.008955223880597015}, {\"years\": \"1991-1996\", \"migration_type\": \"demography\", \"Fraction of IMR articles\": 0.013192612137203167}, {\"years\": \"1992-1997\", \"migration_type\": \"demography\", \"Fraction of IMR articles\": 0.012376237623762377}, {\"years\": \"1993-1998\", \"migration_type\": \"demography\", \"Fraction of IMR articles\": 0.01256281407035176}, {\"years\": \"1994-1999\", \"migration_type\": \"demography\", \"Fraction of IMR articles\": 0.00558659217877095}]}}, {\"mode\": \"vega-lite\"});\n",
       "</script>"
      ],
      "text/plain": [
       "alt.VConcatChart(...)"
      ]
     },
     "execution_count": 33,
     "metadata": {},
     "output_type": "execute_result"
    }
   ],
   "source": [
    "alt.vconcat(c7, c8).properties(\n",
    "    title='Disciplines in titles'\n",
    ").configure_title(\n",
    "    fontSize=20,\n",
    "    font='Verdana',\n",
    "    align='center',\n",
    "    color='black',\n",
    ")"
   ]
  },
  {
   "cell_type": "markdown",
   "metadata": {
    "tags": [
     "narrative"
    ]
   },
   "source": [
    "However, there is another important difference between IM and IMR in the disciplines that were represented in the articles. Both journals are general social science migration journals without any specific disciplinary orientation. In both IM and IMR sociology was important. In the early years economics dominated titles in REMP, but after the late 1950s this subsided and many disciplines were represented, with some emphasis on pyschology in the 1980s. Demography was never important in IMR, but in IM it was always present, while in IMR statistics were always present, and in IM it was only present as a separate subject in the 1980s. In IM psychology got a lot of attention in the late 1960s and early 1970s, but after that psychology was much less of a topic. \n",
    "\n",
    "This overview presents some trends, that confirm the general social science nature of both journals, though mainly the social sciences that make heavy use of statistics and statistical methods. Anthropology, for instance, is not part of the discussions in either IM or IMR, even if there is much anthropological research about migration and its impact on migrant groups. The disciplinary topics are, of course, not sharpely separated. For instance, demographics and statistics are closely related, while sociology and economics provide much of the theoretical framework for other social sciences. However, some of the analysis of the qualitative discussion sheds some light on this quantitative approach. As we have seen, up until the 1970s in IM there was a lasting presence of demographers and statistically oriented researchers that in the ICEM conferences persistently called for funding of statistical research, while they then cut short the influence of psychological research, especially in the report of the 1979 conference report. Even before that psychology was not prominent as a topic in the titles anymore."
   ]
  },
  {
   "cell_type": "markdown",
   "metadata": {
    "tags": [
     "narrative"
    ]
   },
   "source": [
    "### Conclusion"
   ]
  },
  {
   "cell_type": "markdown",
   "metadata": {
    "tags": [
     "narrative"
    ]
   },
   "source": [
    "The discourse coalition on migration management came into being in the early 1950s when in the Netherlands Günter Beijer founded the Research Group for European Migration Problems and at the same time the precursor of ICEM was founded as a temporary intergovernmental committee for the transportation of migrants. In the public presentation the focus of ICEM was on refugees, but internally it was explicitly also on European labour emigrants and still later on even more diverse groups of migrants. REMP had its roots in the planning-oriented governance circles in the Netherlands, Europe and the World and from its inception included both international researchers and administrators. The aim was to control migration by founding it on research and scientific insights, mainly demography and sociology, due to the orientation of the researchers involved.\n",
    "\n",
    "From the late 1950s throughout Europe  emigration lost importance when increasing numbers of labour migrants started coming to Europe and the numbers of European emigrants decreased. Still, in ICEM governance circles and its associated research group, there remained a perceived need for the management of migration based on insights from research. The changes in migration influenced the discourse coalition that altered in the1960s . Its orientation got more international and research became more closely allied with ICEM when Bas Haveman became its director and the ICEM supported journal International Migration became the main venue for research. The international orientation of the research group  increased during Beijer's long dominant position. The researchers constituted the think tank for ICEM as well, but the changes in migration had little influence on its research orientations that remained by and large the same and predominantly oriented to statistically founded social science. Growing influences from other social sciences, mainly psychology, were largely cut short in the late 1970s. The control set of IMR shares many of the same orientations, but there seems to be more room for other voices, mainly a lasting interest in psychology. The calls in the conference reports for funding of statistical research give the impression of a group that was striving to maintain its position.\n",
    "\n",
    "The discourse coalition that came into being in the 1950s proved to found a lasting relation between governance of migration and the research on which it founded itself. While migration itself changed constantly, the basic orientation of both research and governance remained remarkably constant in a focus on the migration streams and the control of them and much less concerned with either the motivations behind migration or the effects on the migrants. Remarkably enough, IOM today still caters to the outward movement in its voluntary return programs, but its subjects are not the European born nationals anymore. IOM proved to be successful in—at least the suggestion of — involving more and more different kinds of actors in its policy-programming throughout the years, thus developing itself in what can be seen as a world organization. The discourse coalition therefore evolved over time, but remained constant in its conception about the relation between research and governance. This is not to say that research was not independent, but the result was that it was hard to influence the discourse from outside the coalition, a direction that Petersen seemed to recognize already in 1963.\n",
    "\n",
    "In this essay, we analysed the development of the evolution of IOM out of ICEM and the migration man discourse coalition that surrounded it with a combination of analog and digital methods. This is both an elaboration and a test of the data scopes method we have described in earlier work (Hoekstra & Koolen 2019). Using datasets for a dynamic analysis uses the iterative steps we described in data scopes for all datasets. Performing analysis on the datasets required us to be very precise and to do quite a bit of data mangling to prepare the sets. While we have tried to account for all analyses, introducing all datamangling proved too distracting for the extra heuristic layers in this journal. As we still think data preparation should be accounted for as they will influence the analysis, we moved these operations to the extra notebooks and scripts in the github repository. The data scopes concept is mainly about connecting datasets for analysis, but in writing this article, combining digital with analog methods proved indispensable for analysis and for interpretation. However, the digital part makes it necessary to translate concepts and inferences to concrete questions and queries that can be applied to the datasets. This leads to an iterative alternation between analog and digital analytical steps that were only possible if we combined different research expertises and perspectives. As we think that there is still a big difference within the current generations of historians or humanities researchers in general  in knowledge and skills in how to use digital or even computational methods and tools in a non-naive way, we are convinced of the importance of stimulating the dialogue between the more domain oriented and the more digital oriented scholars. We felt challenged by the possibilities of this new Journal of Digital History to really balance  the ‘Digital’ and the ‘History’ part in our article in the hope to advance historiography in general and to stimulate new interdisciplinary research in which ‘first authorship’ is really shared."
   ]
  }
 ],
 "metadata": {
  "celltoolbar": "Tags",
  "cite2c": {
   "citations": {
    "3655479/32E77X2A": {
     "DOI": "10.1111/j.1468-2435.1963.tb00381.x",
     "URL": "https://onlinelibrary.wiley.com/doi/10.1111/j.1468-2435.1963.tb00381.x",
     "accessed": {
      "date-parts": [
       [
        2022,
        3,
        4
       ]
      ]
     },
     "container-title": "International Migration",
     "issue": "3",
     "issued": {
      "date-parts": [
       [
        "1963"
       ]
      ]
     },
     "language": "en",
     "page": "155-155",
     "title": "Editorial",
     "type": "article-journal",
     "volume": "1"
    },
    "3655479/3CFRXHVE": {
     "author": [
      {
       "family": "Geiger",
       "given": "Martin"
      },
      {
       "family": "Koch",
       "given": "Martin"
      }
     ],
     "container-title": "Journal of International Organization Studies",
     "issue": "1",
     "issued": {
      "date-parts": [
       [
        2018
       ]
      ]
     },
     "page": "25–44",
     "title": "World Organizations in Migration Politics: The International Organization for Migration",
     "type": "article-journal",
     "volume": "9"
    },
    "3655479/42V6U65E": {
     "author": [
      {
       "family": "Andrijasevic",
       "given": "Rutvica"
      },
      {
       "family": "Walters",
       "given": "William"
      }
     ],
     "container-title": "Environment and Planning D: Society and Space",
     "issue": "6",
     "issued": {
      "date-parts": [
       [
        2010
       ]
      ]
     },
     "note": "Publisher: SAGE Publications Sage UK: London, England",
     "page": "977–999",
     "title": "The International Organization for Migration and the international government of borders",
     "type": "article-journal",
     "volume": "28"
    },
    "3655479/4RB6A474": {
     "DOI": "10.1111/j.1468-2435.1979.tb00844.x",
     "URL": "https://onlinelibrary.wiley.com/doi/10.1111/j.1468-2435.1979.tb00844.x",
     "accessed": {
      "date-parts": [
       [
        2022,
        3,
        4
       ]
      ]
     },
     "container-title": "International Migration",
     "issue": "1-2",
     "issued": {
      "date-parts": [
       [
        1979,
        1,
        4
       ]
      ]
     },
     "language": "en",
     "page": "7-12",
     "title": "Introduction",
     "type": "article-journal",
     "volume": "17"
    },
    "3655479/4V8R7EWF": {
     "DOI": "10.1111/j.1468-2435.1976.tb00402.x",
     "URL": "https://onlinelibrary.wiley.com/doi/10.1111/j.1468-2435.1976.tb00402.x",
     "accessed": {
      "date-parts": [
       [
        2022,
        3,
        4
       ]
      ]
     },
     "container-title": "International Migration",
     "issue": "1-2",
     "issued": {
      "date-parts": [
       [
        "1976"
       ]
      ]
     },
     "language": "en",
     "page": "25-27",
     "title": "Recommendations on Migration of Family Units and Family Reunion",
     "type": "article-journal",
     "volume": "14"
    },
    "3655479/4X34EF3B": {
     "DOI": "10.1111/j.1468-2435.1962.tb00855.x",
     "URL": "https://onlinelibrary.wiley.com/doi/10.1111/j.1468-2435.1962.tb00855.x",
     "accessed": {
      "date-parts": [
       [
        2022,
        3,
        7
       ]
      ]
     },
     "container-title": "Migration",
     "issue": "3-4",
     "issued": {
      "date-parts": [
       [
        2009,
        7,
        30
       ]
      ]
     },
     "language": "en",
     "page": "19-28",
     "shortTitle": "First Meeting",
     "title": "First Meeting: CHARACTERISTICS OF INTERNATIONAL MIGRATION AT THE PRESENT DAY",
     "type": "article-journal",
     "volume": "2"
    },
    "3655479/5SKCBEUV": {
     "author": [
      {
       "family": "Petersen",
       "given": "William"
      }
     ],
     "issued": {
      "date-parts": [
       [
        1955
       ]
      ]
     },
     "publisher": "Berkeley: University of California Press",
     "title": "Planned migration: The social determinants of the Dutch-Canadian movement",
     "type": "book",
     "volume": "2"
    },
    "3655479/6DFSR6FZ": {
     "DOI": "10.1111/j.1468-2435.1963.tb00372.x",
     "URL": "https://onlinelibrary.wiley.com/doi/10.1111/j.1468-2435.1963.tb00372.x",
     "accessed": {
      "date-parts": [
       [
        2022,
        3,
        4
       ]
      ]
     },
     "container-title": "International Migration",
     "issue": "2",
     "issued": {
      "date-parts": [
       [
        "1963"
       ]
      ]
     },
     "language": "en",
     "page": "77-77",
     "title": "Editorial",
     "type": "article-journal",
     "volume": "1"
    },
    "3655479/6T5CAR8S": {
     "author": [
      {
       "family": "Parsanoglou",
       "given": "Dimitris"
      }
     ],
     "container-title": "International ‘Migration Management’in the Early Cold War. The Intergovernmental Committee for European Migration",
     "issued": {
      "date-parts": [
       [
        2015
       ]
      ]
     },
     "note": "Publisher: University of the Peloponnese Corinth",
     "page": "55–85",
     "title": "Organizing an international migration machinery: the intergovermental committee for European migration",
     "type": "article-journal"
    },
    "3655479/75ITZX9T": {
     "DOI": "10.1111/j.1468-2435.1982.tb00068.x",
     "URL": "https://onlinelibrary.wiley.com/doi/10.1111/j.1468-2435.1982.tb00068.x",
     "accessed": {
      "date-parts": [
       [
        2022,
        3,
        4
       ]
      ]
     },
     "container-title": "International Migration",
     "issue": "1-2",
     "issued": {
      "date-parts": [
       [
        "1982"
       ]
      ]
     },
     "language": "en",
     "page": "65-65",
     "title": "Sixth Seminar on Migrant Adaptation and Integration",
     "type": "article-journal",
     "volume": "20"
    },
    "3655479/7A2RCVBK": {
     "author": [
      {
       "family": "Hajer",
       "given": "Maarten A"
      }
     ],
     "issued": {
      "date-parts": [
       [
        1995
       ]
      ]
     },
     "publisher": "Clarendon Press",
     "title": "The politics of environmental discourse: Ecological modernization and the policy process",
     "type": "book"
    },
    "3655479/94XUYCEW": {
     "author": [
      {
       "family": "Freund",
       "given": "Alexander"
      }
     ],
     "issued": {
      "date-parts": [
       [
        2004
       ]
      ]
     },
     "publisher": "Vandenhoeck & Ruprecht",
     "title": "Aufbrüche nach dem Zusammenbruch: Die deutsche Nordamerika-Auswanderung nach dem Zweiten Weltkrieg. E-BOOK",
     "type": "book",
     "volume": "12"
    },
    "3655479/A8BVBSQP": {
     "author": [
      {
       "family": "Steinert",
       "given": "JD"
      }
     ],
     "container-title": "ARCHIV FUR SOZIALGESCHICHTE, 35. BD, 1995",
     "issued": {
      "date-parts": [
       [
        1995
       ]
      ]
     },
     "note": "Publisher: VERLAG JHW DIETZ NACHF POSTFACH 200 189, W-5300 BONN, GERMANY",
     "page": "197",
     "title": "Work in West Germany: Migration agreements with Italy, Spain, Greece and Turkey and the start of the organised recruitment of foreign workers",
     "type": "article-journal",
     "volume": "35"
    },
    "3655479/ABRHNR4T": {
     "author": [
      {
       "family": "Hoekstra",
       "given": "Rik"
      },
      {
       "family": "Koolen",
       "given": "Marijn"
      }
     ],
     "container-title": "Historical Methods: A Journal of Quantitative and Interdisciplinary History",
     "issue": "2",
     "issued": {
      "date-parts": [
       [
        2019
       ]
      ]
     },
     "note": "Publisher: Taylor & Francis",
     "page": "79–94",
     "title": "Data scopes for digital history research",
     "type": "article-journal",
     "volume": "52"
    },
    "3655479/ADTMZT7F": {
     "DOI": "10.1111/j.1468-2435.1983.tb00431.x",
     "URL": "https://onlinelibrary.wiley.com/doi/10.1111/j.1468-2435.1983.tb00431.x",
     "accessed": {
      "date-parts": [
       [
        2022,
        3,
        4
       ]
      ]
     },
     "container-title": "International Migration",
     "issue": "2",
     "issued": {
      "date-parts": [
       [
        "1983"
       ]
      ]
     },
     "language": "en",
     "page": "105-106",
     "title": "Specific Motivations and Underlying Causes of Undocumented Migration",
     "type": "article-journal",
     "volume": "21"
    },
    "3655479/ARPE8PPK": {
     "author": [
      {
       "family": "Habermas",
       "given": "Jürgen"
      }
     ],
     "issued": {
      "date-parts": [
       [
        2015
       ]
      ]
     },
     "publisher": "John Wiley & Sons",
     "title": "The lure of technocracy",
     "type": "book"
    },
    "3655479/B8X95E7G": {
     "URL": "https://hdl.handle.net/10622/ARCH03193?locatt=view:ead",
     "abstract": "C",
     "archive": "ARCH03193",
     "author": [
      {
       "family": "Beijer",
       "given": "Gunther"
      }
     ],
     "editor": [
      {
       "family": "Beijer",
       "given": "Gunther"
      }
     ],
     "event-place": "Amsterdam",
     "language": "Dutch, English, German",
     "note": "Archive maintained by the International Institute for Social History.",
     "publisher-place": "Amsterdam",
     "title": "Archief Gunther Beyer",
     "type": "book"
    },
    "3655479/BN3VJMLV": {
     "author": [
      {
       "family": "Zieck",
       "given": "Marjoleine"
      }
     ],
     "issued": {
      "date-parts": [
       [
        1997
       ]
      ]
     },
     "publisher": "Martinus Nijhoff Publishers",
     "title": "UNHCR and voluntary repatriation of refugees: A legal analysis",
     "type": "book"
    },
    "3655479/DYYKG32V": {
     "author": [
      {
       "family": "Feldblum",
       "given": "Miriam"
      }
     ],
     "container-title": "Annual meeting of the International Studies Association, Washington, DC",
     "issued": {
      "date-parts": [
       [
        1999
       ]
      ]
     },
     "title": "Passage-Making and Service Creation in International Migration",
     "type": "paper-conference"
    },
    "3655479/E7QYM9B8": {
     "ISBN": "978-3-929979-14-5",
     "author": [
      {
       "family": "Steinert",
       "given": "Johannes-Dieter"
      }
     ],
     "edition": "1. Aufl.",
     "issued": {
      "date-parts": [
       [
        1995
       ]
      ]
     },
     "language": "deu",
     "publisher": "Osnabrück : Secolo-Verl.",
     "shortTitle": "Migration und Politik",
     "title": "Migration und Politik : Westdeutschland, Europa, Übersee 1945 - 1961",
     "type": "book"
    },
    "3655479/FVXABUEW": {
     "DOI": "10.1111/j.1468-2435.1979.tb00845.x",
     "URL": "https://onlinelibrary.wiley.com/doi/10.1111/j.1468-2435.1979.tb00845.x",
     "accessed": {
      "date-parts": [
       [
        2022,
        3,
        4
       ]
      ]
     },
     "container-title": "International Migration",
     "issue": "1-2",
     "issued": {
      "date-parts": [
       [
        1979,
        1,
        4
       ]
      ]
     },
     "language": "en",
     "page": "13-18",
     "title": "ADAPTATION AND INTEGRATION OF MIGRANT AND REFUGEE CHILDREN ADAPTATION ET INTEGRATION DES ENFANTS DE MIGRANTS ET DE REFUGIES ADAPTACION E INTEGRACION DE LOS NIROS MIGRANTES Y REFUGIADOS",
     "type": "article-journal",
     "volume": "17"
    },
    "3655479/GD9N3A3H": {
     "author": [
      {
       "family": "Nord",
       "given": "Philip G"
      }
     ],
     "issued": {
      "date-parts": [
       [
        2010
       ]
      ]
     },
     "publisher": "Princeton University Press",
     "title": "France's New Deal: From the Thirties to the Liberation",
     "type": "book"
    },
    "3655479/GVTVTC3K": {
     "author": [
      {
       "family": "Hofstee",
       "given": "Evert Willem"
      }
     ],
     "container-title": "Some Remarks on Selective Migration",
     "issued": {
      "date-parts": [
       [
        1952
       ]
      ]
     },
     "page": "1–28",
     "publisher": "Springer",
     "title": "Some remarks on selective migration",
     "type": "chapter"
    },
    "3655479/HIVHZPDF": {
     "DOI": "10.2307/2091489",
     "URL": "https://www.jstor.org/stable/2091489",
     "accessed": {
      "date-parts": [
       [
        2022,
        3,
        7
       ]
      ]
     },
     "author": [
      {
       "family": "Petersen",
       "given": "William"
      }
     ],
     "container-title": "American Sociological Review",
     "issue": "3",
     "issued": {
      "date-parts": [
       [
        1964
       ]
      ]
     },
     "note": "Publisher: [American Sociological Association, Sage Publications, Inc.]",
     "page": "419-421",
     "shortTitle": "Review of The German Exodus",
     "title": "Review of The German Exodus: A Selective Study on the Post-World War II Expulsion of German Populations and Its Effects.; The German Expellees: A Problem of Integration.; International Migration: Quarterly Review on the Role of Migratory Movements in the Contemporary World.; Hearings before the Subcommittee to Investigate Problems Connected with Refugees and Escapees of the Committee on the Judiciary, United States Senate.",
     "type": "article-journal",
     "volume": "29"
    },
    "3655479/LEZ48HY3": {
     "author": [
      {
       "family": "Hofsten",
       "given": "Erland"
      },
      {
       "family": "Van De Kaa",
       "given": "Dirk J"
      }
     ],
     "issued": {
      "date-parts": [
       [
        1983
       ]
      ]
     },
     "publisher": "JSTOR",
     "title": "In Memoriam: Dr. Gunther Beyer",
     "type": "article"
    },
    "3655479/LN4UKSH7": {
     "author": [
      {
       "family": "Wilson",
       "given": "Andrew"
      }
     ],
     "issued": {
      "date-parts": [
       [
        1993
       ]
      ]
     },
     "note": "Publisher: Citeseer",
     "title": "Towards an integration of content analysis and discourse analysis: the automatic linkage of key relations in text",
     "type": "article-journal"
    },
    "3655479/LQ8F88BC": {
     "author": [
      {
       "family": "Von Koppenfels",
       "given": "Amanda Klekowski"
      }
     ],
     "container-title": "International Migration",
     "issue": "6",
     "issued": {
      "date-parts": [
       [
        2001
       ]
      ]
     },
     "note": "Publisher: Wiley Online Library",
     "page": "61–84",
     "title": "Informal but effective: Regional consultative processes as a tool in managing migration",
     "type": "article-journal",
     "volume": "39"
    },
    "3655479/MKBTDHSV": {
     "author": [
      {
       "family": "van Faassen",
       "given": "Marijke"
      }
     ],
     "genre": "PhD Thesis",
     "issued": {
      "date-parts": [
       [
        2014
       ]
      ]
     },
     "publisher": "Rijksuniversiteit Groningen",
     "title": "Polder en emigratie.: Het Nederlandse emigratiebestel in internationaal perspectief 1945-1967",
     "type": "thesis"
    },
    "3655479/MSDRDKEC": {
     "DOI": "10.1111/j.1468-2435.1962.tb00852.x",
     "URL": "https://onlinelibrary.wiley.com/doi/10.1111/j.1468-2435.1962.tb00852.x",
     "accessed": {
      "date-parts": [
       [
        2022,
        3,
        4
       ]
      ]
     },
     "author": [
      {
       "family": "Haveman",
       "given": "B. W."
      }
     ],
     "container-title": "Migration",
     "issue": "3-4",
     "issued": {
      "date-parts": [
       [
        1962
       ]
      ]
     },
     "language": "en",
     "page": "5-5",
     "title": "Foreword",
     "type": "article-journal",
     "volume": "2"
    },
    "3655479/N46966HL": {
     "author": [
      {
       "family": "Baneke",
       "given": "David"
      }
     ],
     "container-title": "The British Journal for the History of Science",
     "issue": "1",
     "issued": {
      "date-parts": [
       [
        2011
       ]
      ]
     },
     "note": "Publisher: Cambridge University Press",
     "page": "89–113",
     "title": "Synthetic technocracy: Dutch scientific intellectuals in science, society and culture, 1880–1950",
     "type": "article-journal",
     "volume": "44"
    },
    "3655479/N6J5DKMR": {
     "author": [
      {
       "family": "Salomon",
       "given": "Kim"
      }
     ],
     "issued": {
      "date-parts": [
       [
        1991
       ]
      ]
     },
     "publisher": "Lund University Press",
     "title": "Refugees in the Cold War. Toward a New International Refugee Regime in the Early Postwar Era",
     "type": "book"
    },
    "3655479/PGU7H2H8": {
     "author": [
      {
       "family": "van Faassen",
       "given": "Marijke"
      },
      {
       "family": "Hoekstra",
       "given": "FG"
      }
     ],
     "issued": {
      "date-parts": [
       [
        2017
       ]
      ]
     },
     "title": "Modelling Society through Migration Management: Exploring the role of (Dutch) experts in 20th century international migration policy.",
     "type": "article-journal"
    },
    "3655479/PL633QM8": {
     "author": [
      {
       "family": "Georgi",
       "given": "Fabian"
      }
     ],
     "container-title": "The politics of international migration management",
     "issued": {
      "date-parts": [
       [
        2010
       ]
      ]
     },
     "page": "45–72",
     "publisher": "Springer",
     "title": "For the benefit of some: The International Organization for Migration and its global migration management",
     "type": "chapter"
    },
    "3655479/QGLAUNK7": {
     "author": [
      {
       "family": "van Faassen",
       "given": "Marijke"
      }
     ],
     "issued": {
      "date-parts": [
       [
        2017
       ]
      ]
     },
     "title": "The whereabouts of Migrants: A comparison of Dutch migrant registration systems",
     "type": "article-journal"
    },
    "3655479/QL6MHJ3H": {
     "author": [
      {
       "family": "Alcock",
       "given": "Antony Evelyn"
      }
     ],
     "issued": {
      "date-parts": [
       [
        1971
       ]
      ]
     },
     "publisher": "Springer",
     "title": "History of the International Labour Organisation",
     "type": "book"
    },
    "3655479/QMQKWK6U": {
     "DOI": "10.1111/j.1468-2435.1964.tb00416.x",
     "URL": "https://onlinelibrary.wiley.com/doi/10.1111/j.1468-2435.1964.tb00416.x",
     "accessed": {
      "date-parts": [
       [
        2022,
        3,
        4
       ]
      ]
     },
     "container-title": "International Migration",
     "issue": "2",
     "issued": {
      "date-parts": [
       [
        "1964"
       ]
      ]
     },
     "language": "en",
     "page": "95-95",
     "title": "Editorial",
     "type": "article-journal",
     "volume": "2"
    },
    "3655479/RD3NVU4A": {
     "author": [
      {
       "family": "Fischer",
       "given": "Frank"
      }
     ],
     "container-title": "The argumentative turn in policy analysis and planning",
     "event-place": "Durham, North Carolina",
     "issued": {
      "date-parts": [
       [
        1993
       ]
      ]
     },
     "page": "21-42",
     "publisher": "Duke University Press",
     "publisher-place": "Durham, North Carolina",
     "title": "Policy discourse and the politics of Washington think tanks",
     "type": "chapter"
    },
    "3655479/SU5JFDPW": {
     "DOI": "10.1111/j.1468-2435.1968.tb01049.x",
     "URL": "https://onlinelibrary.wiley.com/doi/10.1111/j.1468-2435.1968.tb01049.x",
     "accessed": {
      "date-parts": [
       [
        2022,
        3,
        4
       ]
      ]
     },
     "container-title": "International Migration",
     "issue": "1-2",
     "issued": {
      "date-parts": [
       [
        1968,
        1,
        4
       ]
      ]
     },
     "language": "en",
     "page": "33-38",
     "title": "Migration of Netherlands Engineers, Physicians and Scientists",
     "type": "article-journal",
     "volume": "6"
    },
    "3655479/UHF3TATW": {
     "author": [
      {
       "family": "Raphael",
       "given": "Lutz"
      }
     ],
     "container-title": "Engineering Society",
     "issued": {
      "date-parts": [
       [
        2012
       ]
      ]
     },
     "note": "Publisher: Springer",
     "page": "41–56",
     "title": "Embedding the Human and Social Sciences in Western Societies, 1880–1980: Reflections on Trends and Methods of Current Research",
     "type": "article-journal"
    },
    "3655479/UPFAYATG": {
     "author": [
      {
       "family": "Page",
       "given": "Scott E"
      }
     ],
     "issued": {
      "date-parts": [
       [
        2018
       ]
      ]
     },
     "publisher": "Basic Books",
     "title": "The model thinker: What you need to know to make data work for you",
     "type": "book"
    },
    "3655479/VZKJYC9X": {
     "author": [
      {
       "family": "van Faassen",
       "given": "M."
      }
     ],
     "event-place": "Nederland",
     "issued": {
      "date-parts": [
       [
        2014
       ]
      ]
     },
     "language": "Nederlands",
     "publisher": "Huygens Instituut voor Nederlandse Geschiedenis",
     "publisher-place": "Nederland",
     "title": "Digitale onderzoeksgids Emigratie 1945-1967",
     "type": "book"
    },
    "3655479/W5TM5GI3": {
     "ISBN": "978-1-137-28450-1",
     "abstract": "Explaining crime by reference to abnormalities of the brain is just one example of how the human and social sciences have influenced the approach to social problems in Western societies since 1880. Focusing on applications such as penal policy, therapy, and marketing, this volume examines how these sciences have become embedded in society.",
     "author": [
      {
       "family": "Brückweh",
       "given": "Kerstin"
      },
      {
       "family": "Wetzell",
       "given": "Richard F."
      }
     ],
     "issued": {
      "date-parts": [
       [
        2012,
        10,
        9
       ]
      ]
     },
     "language": "en",
     "note": "Google-Books-ID: CEP4X4Ib32QC",
     "number-of-pages": "328",
     "publisher": "Springer",
     "shortTitle": "Engineering Society",
     "title": "Engineering Society: The Role of the Human and Social Sciences in Modern Societies, 1880-1980",
     "type": "book"
    },
    "3655479/W6F88F74": {
     "author": [
      {
       "family": "Fischer",
       "given": "Frank"
      },
      {
       "family": "Forester",
       "given": "John"
      }
     ],
     "issued": {
      "date-parts": [
       [
        1993
       ]
      ]
     },
     "publisher": "Duke University Press Durham, NC",
     "title": "The argumentative turn in policy analysis and planning",
     "type": "book"
    },
    "3655479/X56S34DQ": {
     "author": [
      {
       "family": "Perruchoud",
       "given": "Richard"
      }
     ],
     "container-title": "Annuaire français de droit international",
     "issue": "1",
     "issued": {
      "date-parts": [
       [
        1987
       ]
      ]
     },
     "note": "Publisher: Persée-Portail des revues scientifiques en SHS",
     "page": "513–539",
     "title": "L'Organisation internationale pour les Migrations",
     "type": "article-journal",
     "volume": "33"
    },
    "3655479/YNB8MWYT": {
     "author": [
      {
       "family": "Fleay",
       "given": "Caroline"
      },
      {
       "family": "Hoffman",
       "given": "Sue"
      }
     ],
     "container-title": "Refugee Survey Quarterly",
     "issue": "2",
     "issued": {
      "date-parts": [
       [
        2014
       ]
      ]
     },
     "note": "Publisher: Oxford University Press",
     "page": "1–19",
     "title": "Despair as a governing strategy: Australia and the offshore processing of asylum-seekers on Nauru",
     "type": "article-journal",
     "volume": "33"
    },
    "3655479/YX3ERH3B": {
     "author": [
      {
       "family": "Archer",
       "given": "Dawn"
      },
      {
       "family": "Wilson",
       "given": "Andrew"
      },
      {
       "family": "Rayson",
       "given": "Paul"
      }
     ],
     "container-title": "Benedict project report",
     "issued": {
      "date-parts": [
       [
        2002
       ]
      ]
     },
     "title": "Introduction to the USAS category system",
     "type": "article-journal"
    },
    "3655479/YXIT69RE": {
     "author": [
      {
       "family": "Van De Kaa",
       "given": "Dirk J"
      }
     ],
     "issued": {
      "date-parts": [
       [
        1983
       ]
      ]
     },
     "title": "Dr. G. Beyer: 1904-1983",
     "type": "article-journal"
    },
    "3655479/ZNURTIHE": {
     "DOI": "10.1111/j.1468-2435.1968.tb01057.x",
     "URL": "https://onlinelibrary.wiley.com/doi/10.1111/j.1468-2435.1968.tb01057.x",
     "accessed": {
      "date-parts": [
       [
        2022,
        3,
        4
       ]
      ]
     },
     "container-title": "International Migration",
     "issue": "3",
     "issued": {
      "date-parts": [
       [
        "1968"
       ]
      ]
     },
     "language": "en",
     "page": "112-128",
     "title": "University and Science across the World",
     "type": "article-journal",
     "volume": "6"
    },
    "undefined": {
     "author": [
      {
       "family": "Geiger",
       "given": "Martin"
      },
      {
       "family": "Koch",
       "given": "Martin"
      }
     ],
     "container-title": "Journal of International Organization Studies",
     "issue": "1",
     "issued": {
      "date-parts": [
       [
        2018
       ]
      ]
     },
     "page": "25–44",
     "title": "World Organizations in Migration Politics: The International Organization for Migration",
     "type": "article-journal",
     "volume": "9"
    }
   }
  },
  "kernelspec": {
   "display_name": "Python 3 (ipykernel)",
   "language": "python",
   "name": "python3"
  },
  "language_info": {
   "codemirror_mode": {
    "name": "ipython",
    "version": 3
   },
   "file_extension": ".py",
   "mimetype": "text/x-python",
   "name": "python",
   "nbconvert_exporter": "python",
   "pygments_lexer": "ipython3",
   "version": "3.10.2"
  },
  "toc": {
   "base_numbering": 1,
   "nav_menu": {
    "height": "271px",
    "width": "662px"
   },
   "number_sections": true,
   "sideBar": true,
   "skip_h1_title": false,
   "title_cell": "Table of Contents",
   "title_sidebar": "Contents",
   "toc_cell": false,
   "toc_position": {},
   "toc_section_display": true,
   "toc_window_display": true
  }
 },
 "nbformat": 4,
 "nbformat_minor": 4
}
