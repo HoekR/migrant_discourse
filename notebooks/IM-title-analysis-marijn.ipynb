{
 "cells": [
  {
   "cell_type": "markdown",
   "metadata": {},
   "source": [
    "# Analysing Topical Shifts in Migration Publication via Title Words\n",
    "\n",
    "The titles of publications on migration management give us an overview of what the scientific community focused in their research over the decades.\n",
    "\n",
    "The dataset consists of authors, titles and publication year of articles published in the journal International Migration (IM) over the period 1961-2011. \n",
    "\n"
   ]
  },
  {
   "cell_type": "markdown",
   "metadata": {},
   "source": [
    "## Loading and inspecting the dataset\n",
    "\n",
    "We start by loading the dataset in Pandas, which allows us to do basic analysis of the metadata."
   ]
  },
  {
   "cell_type": "code",
   "execution_count": 1,
   "metadata": {},
   "outputs": [
    {
     "data": {
      "text/html": [
       "<div>\n",
       "<style scoped>\n",
       "    .dataframe tbody tr th:only-of-type {\n",
       "        vertical-align: middle;\n",
       "    }\n",
       "\n",
       "    .dataframe tbody tr th {\n",
       "        vertical-align: top;\n",
       "    }\n",
       "\n",
       "    .dataframe thead th {\n",
       "        text-align: right;\n",
       "    }\n",
       "</style>\n",
       "<table border=\"1\" class=\"dataframe\">\n",
       "  <thead>\n",
       "    <tr style=\"text-align: right;\">\n",
       "      <th></th>\n",
       "      <th>AU</th>\n",
       "      <th>TI</th>\n",
       "      <th>PY</th>\n",
       "      <th>JO</th>\n",
       "    </tr>\n",
       "  </thead>\n",
       "  <tbody>\n",
       "    <tr>\n",
       "      <th>0</th>\n",
       "      <td>NaN</td>\n",
       "      <td>The New Director Of Icem</td>\n",
       "      <td>1961.0</td>\n",
       "      <td>Migracion</td>\n",
       "    </tr>\n",
       "    <tr>\n",
       "      <th>1</th>\n",
       "      <td>Perotti, Antonio</td>\n",
       "      <td>The Migration Problem And The Encyclical “Mate...</td>\n",
       "      <td>1961.0</td>\n",
       "      <td>Migracion</td>\n",
       "    </tr>\n",
       "    <tr>\n",
       "      <th>2</th>\n",
       "      <td>Marsal, Juan F.</td>\n",
       "      <td>Argentina As An Immigration Country</td>\n",
       "      <td>1961.0</td>\n",
       "      <td>Migracion</td>\n",
       "    </tr>\n",
       "    <tr>\n",
       "      <th>3</th>\n",
       "      <td>Dominedo, M.</td>\n",
       "      <td>How Migration Affects The Country Of Emigration</td>\n",
       "      <td>1961.0</td>\n",
       "      <td>Migracion</td>\n",
       "    </tr>\n",
       "    <tr>\n",
       "      <th>4</th>\n",
       "      <td>Zubrzycki, Jerzy</td>\n",
       "      <td>Sociological Methods For The Study Of Immigran...</td>\n",
       "      <td>1961.0</td>\n",
       "      <td>Migracion</td>\n",
       "    </tr>\n",
       "    <tr>\n",
       "      <th>...</th>\n",
       "      <td>...</td>\n",
       "      <td>...</td>\n",
       "      <td>...</td>\n",
       "      <td>...</td>\n",
       "    </tr>\n",
       "    <tr>\n",
       "      <th>1141</th>\n",
       "      <td>Düvell, Franck</td>\n",
       "      <td>Introduction</td>\n",
       "      <td>2011.0</td>\n",
       "      <td>International Migration</td>\n",
       "    </tr>\n",
       "    <tr>\n",
       "      <th>1142</th>\n",
       "      <td>Jandl, Michael</td>\n",
       "      <td>Methods, Approaches and Data Sources for Estim...</td>\n",
       "      <td>2011.0</td>\n",
       "      <td>International Migration</td>\n",
       "    </tr>\n",
       "    <tr>\n",
       "      <th>1143</th>\n",
       "      <td>Prescott, Hannah</td>\n",
       "      <td>The Size of the Irregular Migrant Population i...</td>\n",
       "      <td>2011.0</td>\n",
       "      <td>International Migration</td>\n",
       "    </tr>\n",
       "    <tr>\n",
       "      <th>1144</th>\n",
       "      <td>Reichel, David</td>\n",
       "      <td>Measuring Irregular Migration and Population F...</td>\n",
       "      <td>2011.0</td>\n",
       "      <td>International Migration</td>\n",
       "    </tr>\n",
       "    <tr>\n",
       "      <th>1145</th>\n",
       "      <td>Gmaj, Katarzyna</td>\n",
       "      <td>Irregular Migration and Informal Economy in So...</td>\n",
       "      <td>2011.0</td>\n",
       "      <td>International Migration</td>\n",
       "    </tr>\n",
       "  </tbody>\n",
       "</table>\n",
       "<p>1146 rows × 4 columns</p>\n",
       "</div>"
      ],
      "text/plain": [
       "                    AU                                                 TI  \\\n",
       "0                  NaN                           The New Director Of Icem   \n",
       "1     Perotti, Antonio  The Migration Problem And The Encyclical “Mate...   \n",
       "2      Marsal, Juan F.                Argentina As An Immigration Country   \n",
       "3         Dominedo, M.    How Migration Affects The Country Of Emigration   \n",
       "4     Zubrzycki, Jerzy  Sociological Methods For The Study Of Immigran...   \n",
       "...                ...                                                ...   \n",
       "1141    Düvell, Franck                                       Introduction   \n",
       "1142    Jandl, Michael  Methods, Approaches and Data Sources for Estim...   \n",
       "1143  Prescott, Hannah  The Size of the Irregular Migrant Population i...   \n",
       "1144    Reichel, David  Measuring Irregular Migration and Population F...   \n",
       "1145   Gmaj, Katarzyna  Irregular Migration and Informal Economy in So...   \n",
       "\n",
       "          PY                       JO  \n",
       "0     1961.0                Migracion  \n",
       "1     1961.0                Migracion  \n",
       "2     1961.0                Migracion  \n",
       "3     1961.0                Migracion  \n",
       "4     1961.0                Migracion  \n",
       "...      ...                      ...  \n",
       "1141  2011.0  International Migration  \n",
       "1142  2011.0  International Migration  \n",
       "1143  2011.0  International Migration  \n",
       "1144  2011.0  International Migration  \n",
       "1145  2011.0  International Migration  \n",
       "\n",
       "[1146 rows x 4 columns]"
      ]
     },
     "execution_count": 1,
     "metadata": {},
     "output_type": "execute_result"
    }
   ],
   "source": [
    "import pandas as pd\n",
    "\n",
    "# the name and location of the article records for the IM journal (in CSV format)\n",
    "wiley_file = '../data/wileyrecs.csv'\n",
    "\n",
    "# load the csv data into a data frame\n",
    "df = pd.read_csv(wiley_file)\n",
    "# show the first and last records of the dataset to demonstrate what the records look like\n",
    "df"
   ]
  },
  {
   "cell_type": "markdown",
   "metadata": {},
   "source": [
    "### Basic summary statistics"
   ]
  },
  {
   "cell_type": "markdown",
   "metadata": {},
   "source": [
    "A conut of the values in the journal name column ('JO'), reveals that the metadata of articles has some variation, but almost all use the canonical _International Migration_.\n",
    "\n",
    "This should also be a warning that some values in the record may be _incorrect_, _incomplete_ and/or _inconsistent_, so quantitative analysis should always be complemented with qualitative analysis."
   ]
  },
  {
   "cell_type": "code",
   "execution_count": 2,
   "metadata": {},
   "outputs": [
    {
     "data": {
      "text/plain": [
       "International Migration    1103\n",
       "Migracion                    22\n",
       "Migration                    19\n",
       "Name: JO, dtype: int64"
      ]
     },
     "execution_count": 2,
     "metadata": {},
     "output_type": "execute_result"
    }
   ],
   "source": [
    "df.JO.value_counts()"
   ]
  },
  {
   "cell_type": "markdown",
   "metadata": {},
   "source": [
    "#### Authors\n",
    "\n",
    "There are many different authors in the dataset. A value count reveals that some authors published multiple articles in IM, but the majority published only a single article. "
   ]
  },
  {
   "cell_type": "code",
   "execution_count": 3,
   "metadata": {},
   "outputs": [
    {
     "data": {
      "text/plain": [
       "Appleyard, Reginald      9\n",
       "Adepoju, Aderanti        7\n",
       "BEYER, G.                6\n",
       "Martin, Susan            5\n",
       "Beyer, G.                5\n",
       "                        ..\n",
       "Mattila, Heikki S.       1\n",
       "Sinclair, Marion Ryan    1\n",
       "Kirisci, K.              1\n",
       "Carey, Malcolm           1\n",
       "FEIL, CHRISTINE          1\n",
       "Name: AU, Length: 932, dtype: int64"
      ]
     },
     "execution_count": 3,
     "metadata": {},
     "output_type": "execute_result"
    }
   ],
   "source": [
    "df.AU.value_counts()"
   ]
  },
  {
   "cell_type": "markdown",
   "metadata": {},
   "source": [
    "These author names need normalisation to collapse variants like `BEYER, G.` and `Beyer, G.`."
   ]
  },
  {
   "cell_type": "code",
   "execution_count": 4,
   "metadata": {},
   "outputs": [
    {
     "data": {
      "text/plain": [
       "Beyer, G.              11\n",
       "Appleyard, Reginald     9\n",
       "Adepoju, Aderanti       7\n",
       "Moncarz, Raul           6\n",
       "Bernard, William S.     5\n",
       "                       ..\n",
       "Mullan, B. P.           1\n",
       "Daly, Marcus            1\n",
       "Abella, Manolo I.       1\n",
       "Waldstein, Anna         1\n",
       "Zlotnik, H.             1\n",
       "Name: AU, Length: 899, dtype: int64"
      ]
     },
     "execution_count": 4,
     "metadata": {},
     "output_type": "execute_result"
    }
   ],
   "source": [
    "df.AU.str.lower().str.title().value_counts()"
   ]
  },
  {
   "cell_type": "markdown",
   "metadata": {},
   "source": [
    "This reduces the number of distinct values from 932 to 899, so the impact is small, although Gunther Beyer is now the most frequent author in the dataset."
   ]
  },
  {
   "cell_type": "code",
   "execution_count": 5,
   "metadata": {},
   "outputs": [
    {
     "data": {
      "text/plain": [
       "1     786\n",
       "2      80\n",
       "3      19\n",
       "4       7\n",
       "5       3\n",
       "11      1\n",
       "9       1\n",
       "7       1\n",
       "6       1\n",
       "Name: AU, dtype: int64"
      ]
     },
     "execution_count": 5,
     "metadata": {},
     "output_type": "execute_result"
    }
   ],
   "source": [
    "df.AU.str.lower().str.title().value_counts().value_counts()"
   ]
  },
  {
   "cell_type": "markdown",
   "metadata": {},
   "source": [
    "There are 786 author names that appear only once, and only a handful authored 4 or more articles. \n",
    "\n",
    "#### Publication Years\n",
    "\n",
    "Counting the number of articles per year reveals that some years had very few articles (e.g. 1979 has only 1), but most years have more than 10. The number of articles per year seems to increase over time. "
   ]
  },
  {
   "cell_type": "code",
   "execution_count": 6,
   "metadata": {},
   "outputs": [
    {
     "data": {
      "text/plain": [
       "<AxesSubplot:>"
      ]
     },
     "execution_count": 6,
     "metadata": {},
     "output_type": "execute_result"
    },
    {
     "data": {
      "image/png": "[encoded data removed]",
      "text/plain": [
       "<Figure size 432x288 with 1 Axes>"
      ]
     },
     "metadata": {
      "needs_background": "light"
     },
     "output_type": "display_data"
    }
   ],
   "source": [
    "df.PY.value_counts().sort_index().plot()"
   ]
  },
  {
   "cell_type": "markdown",
   "metadata": {},
   "source": [
    "## Analysing the Article Titles\n",
    "\n",
    "To analyse the topics of discourse, we use the article titles. To do a content analysis, some data transformations are needed:\n",
    "\n",
    "- standardising the use of upper and lowercase characters,\n",
    "- removing common stopwords, as they convey nothing about the topics discussed\n",
    "- counting individual words and sequences of words as a quantitative signal for the attention to different topics.\n",
    "\n",
    "We look specifically at:\n",
    "\n",
    "- word unigram frequencies: how often individual words occur across titles\n",
    "- word bigram frequencies: how often combinations of two words occur across titles.\n",
    "\n",
    "To demonstrate the need for the transformations described above, we look at the first 20 titles."
   ]
  },
  {
   "cell_type": "code",
   "execution_count": 7,
   "metadata": {
    "scrolled": true
   },
   "outputs": [
    {
     "data": {
      "text/plain": [
       "['The New Director Of Icem',\n",
       " 'The Migration Problem And The Encyclical “Mater Et Magistra”',\n",
       " 'Argentina As An Immigration Country',\n",
       " 'How Migration Affects The Country Of Emigration',\n",
       " 'Sociological Methods For The Study Of Immigrant Adjustement',\n",
       " 'Foreword',\n",
       " 'Editorial',\n",
       " 'The Influence Of Migration On Australian Foreign Policy*',\n",
       " 'Prospects And Machinery Of European Migration Movements Within The European Economic Community',\n",
       " 'The Importance Of Immigration In The Development Of Brazil',\n",
       " 'Emigration From Greece',\n",
       " 'Information',\n",
       " 'Resolutions Of The Thirteenth Session Of The Council Of The Intergovernmental Committee For European Migration',\n",
       " 'Book Reviews',\n",
       " 'Bibliography',\n",
       " nan,\n",
       " 'INTERGOVERNMENTAL PARTNERSHIP FOR PLANNED MIGRATION',\n",
       " 'THE REPORT OF THE INTERGOVERNMENTAL COMMITTEE FOR EUROPEAN MIGRATION FOR THE YEAR 1960',\n",
       " 'GREEK IMMIGRANTS IN AUSTRALIA',\n",
       " nan]"
      ]
     },
     "execution_count": 7,
     "metadata": {},
     "output_type": "execute_result"
    }
   ],
   "source": [
    "# Get a list of all the titles\n",
    "titles = list(df.TI)\n",
    "\n",
    "# show the first 20 titles\n",
    "titles[:20]\n",
    "\n"
   ]
  },
  {
   "cell_type": "markdown",
   "metadata": {},
   "source": [
    "#### Inconsistent Case\n",
    "\n",
    "The titles differ in their use of upper and lower case, so one step is to normalise all titles to be lower case. \n",
    "\n",
    "One consequence of this is that meaningful differences between a word with an initial uppercase that is part of a name (like _Migration_ in the organisation name _Internationl Committee for European Migration_) is merged with the regular noun _migration_. But in most cases this is not a problem, as they represent the same concept. Moreover, titles of journal article tend to use title casing of all words in the title, or at least all content-bearing words (i.e. non-stopwords). So it is difficult to make this distinction with algorithmic processing anyway.\n",
    "\n",
    "#### Missing titles\n",
    "\n",
    "Another thing we note is that the last value in the list is `nan`, which stands for `Not a Number` and is Pandas' way of warning us that there is no value for the row in the dataset. What it means for us is that there is an entry that has no title. For now we will skip these missing titles in the word cloud analysis.\n",
    "\n",
    "But first let us see how prevalent they are. If a significant fraction of articles have no title, the title word analysis might not be a good reflection of the actual frequencies of title words.\n"
   ]
  },
  {
   "cell_type": "code",
   "execution_count": 8,
   "metadata": {},
   "outputs": [
    {
     "name": "stdout",
     "output_type": "stream",
     "text": [
      "Total number of article titles: 1146\n",
      "Number of missing article titles: 2\n"
     ]
    }
   ],
   "source": [
    "missing_titles = [title for title in titles if not isinstance(title, str)]\n",
    "print('Total number of article titles:', len(titles))\n",
    "print('Number of missing article titles:', len(missing_titles))\n"
   ]
  },
  {
   "cell_type": "markdown",
   "metadata": {},
   "source": [
    "Only two out of 1146 titles are missing, which will have a negligible affect on the analysis."
   ]
  },
  {
   "cell_type": "code",
   "execution_count": 9,
   "metadata": {},
   "outputs": [
    {
     "data": {
      "text/plain": [
       "1144"
      ]
     },
     "execution_count": 9,
     "metadata": {},
     "output_type": "execute_result"
    }
   ],
   "source": [
    "# we remove the missing titles and continue the analysis with the 1144 remaining actual titles.\n",
    "titles = [title for title in titles if isinstance(title, str)]\n",
    "\n",
    "len(titles)"
   ]
  },
  {
   "cell_type": "markdown",
   "metadata": {},
   "source": [
    "### Word Frequency Lists\n",
    "\n",
    "We start with a quick look at individual word frequencies for the first 20 titles to get an insight in some easy that need preprossing."
   ]
  },
  {
   "cell_type": "code",
   "execution_count": 10,
   "metadata": {},
   "outputs": [
    {
     "name": "stdout",
     "output_type": "stream",
     "text": [
      "the                              16\n",
      "of                               12\n",
      "migration                         8\n",
      "for                               5\n",
      "european                          4\n",
      "in                                4\n",
      "and                               3\n",
      "intergovernmental                 3\n",
      "immigration                       2\n",
      "country                           2\n",
      "emigration                        2\n",
      "development                       2\n",
      "brazil                            2\n",
      "committee                         2\n",
      "new                               1\n",
      "director                          1\n",
      "icem                              1\n",
      "problem                           1\n",
      "encyclical                        1\n",
      "“mater                            1\n",
      "et                                1\n",
      "magistra”                         1\n",
      "argentina                         1\n",
      "as                                1\n",
      "an                                1\n"
     ]
    }
   ],
   "source": [
    "from collections import Counter # import to count word frequencies\n",
    "\n",
    "\n",
    "# count frequencies of individual words\n",
    "uni_freq = Counter()\n",
    "\n",
    "for title in titles[:20]:\n",
    "    # .lower() transform all characters to lower case\n",
    "    # .split(' ') splits the title into chunks wherever there is a whitespace\n",
    "    terms = title.lower().split(' ')\n",
    "    uni_freq.update(terms)\n",
    "\n",
    "# Show the 25 most common words and their frequencies\n",
    "for term, freq in uni_freq.most_common(25):\n",
    "    print(f'{term: <30}{freq: >5}')"
   ]
  },
  {
   "cell_type": "markdown",
   "metadata": {},
   "source": [
    "Our first attempt is to simply split the title on whitespaces, but that leaves punctuation as part of words, e.g. `“Mater`.\n",
    "\n",
    "The next preprocessing step is removing punctuation from the titles."
   ]
  },
  {
   "cell_type": "code",
   "execution_count": 11,
   "metadata": {},
   "outputs": [
    {
     "name": "stdout",
     "output_type": "stream",
     "text": [
      "the                              16\n",
      "of                               12\n",
      "migration                         8\n",
      "for                               5\n",
      "european                          4\n",
      "in                                4\n",
      "and                               3\n",
      "immigration                       3\n",
      "intergovernmental                 3\n",
      "country                           2\n",
      "emigration                        2\n",
      "development                       2\n",
      "brazil                            2\n",
      "committee                         2\n",
      "new                               1\n",
      "director                          1\n",
      "icem                              1\n",
      "problem                           1\n",
      "encyclical                        1\n",
      "mater                             1\n",
      "et                                1\n",
      "magistra                          1\n",
      "argentina                         1\n",
      "as                                1\n",
      "an                                1\n"
     ]
    }
   ],
   "source": [
    "from collections import Counter # import to count word frequencies\n",
    "import re # import to remove punctuation\n",
    "\n",
    "# count frequencies of individual words\n",
    "uni_freq = Counter()\n",
    "\n",
    "for title in titles[:20]:\n",
    "    # First, transform characters to lowercase\n",
    "    clean_title = title.lower()\n",
    "    # split the transformed string on whitespace\n",
    "    terms = clean_title.split(' ')\n",
    "    # replace punctuation with nothing (i.e. remove from the word)\n",
    "    terms = [re.sub(r'\\W', '', term) for term in terms]\n",
    "    uni_freq.update(terms)\n",
    "\n",
    "for term, freq in uni_freq.most_common(25):\n",
    "    print(f'{term: <30}{freq: >5}')\n",
    "    \n",
    "\n"
   ]
  },
  {
   "cell_type": "markdown",
   "metadata": {},
   "source": [
    "#### Stopwords and Content Words\n",
    "\n",
    "Now we notice that the most frequent words are stopwords. We can use a standard stopword list provided by [NLTK](http://www.nltk.org) to remove those from the frequency lists to focus on the content words."
   ]
  },
  {
   "cell_type": "code",
   "execution_count": 12,
   "metadata": {},
   "outputs": [
    {
     "name": "stdout",
     "output_type": "stream",
     "text": [
      "The first 10 stopwords: ['i', 'me', 'my', 'myself', 'we', 'our', 'ours', 'ourselves', 'you', 'your']\n",
      "\n",
      "Total number of distinct stopwords: 153\n"
     ]
    }
   ],
   "source": [
    "from collections import Counter # import to count word frequencies\n",
    "import re # import to remove punctuation\n",
    "from nltk.corpus import stopwords # import to remove stopwords\n",
    "\n",
    "stopwords = stopwords.words('english')\n",
    "\n",
    "print('The first 10 stopwords:', stopwords[:10])\n",
    "print('\\nTotal number of distinct stopwords:', len(stopwords))"
   ]
  },
  {
   "cell_type": "code",
   "execution_count": 13,
   "metadata": {},
   "outputs": [
    {
     "name": "stdout",
     "output_type": "stream",
     "text": [
      "migration                         8\n",
      "european                          4\n",
      "immigration                       3\n",
      "intergovernmental                 3\n",
      "country                           2\n",
      "emigration                        2\n",
      "development                       2\n",
      "brazil                            2\n",
      "committee                         2\n",
      "new                               1\n",
      "director                          1\n",
      "icem                              1\n",
      "problem                           1\n",
      "encyclical                        1\n",
      "mater                             1\n",
      "et                                1\n",
      "magistra                          1\n",
      "argentina                         1\n",
      "affects                           1\n",
      "sociological                      1\n",
      "methods                           1\n",
      "study                             1\n",
      "immigrant                         1\n",
      "adjustement                       1\n",
      "foreword                          1\n"
     ]
    }
   ],
   "source": [
    "# count frequencies of individual words\n",
    "uni_freq = Counter()\n",
    "\n",
    "for title in titles[:20]:\n",
    "    # First, transform characters to lowercase\n",
    "    clean_title = title.lower()\n",
    "    # split the transformed string on whitespace\n",
    "    terms = clean_title.split(' ')\n",
    "    # replace punctuation with nothing (i.e. remove from the word)\n",
    "    terms = [re.sub(r'\\W', '', term) for term in terms]\n",
    "    # remove stopwords\n",
    "    terms = [term for term in terms if term not in stopwords]\n",
    "    uni_freq.update(terms)\n",
    "\n",
    "for term, freq in uni_freq.most_common(25):\n",
    "    print(f'{term: <30}{freq: >5}')\n",
    "    \n",
    "\n"
   ]
  },
  {
   "cell_type": "markdown",
   "metadata": {},
   "source": [
    "Now we have a list of mostly content words. Note that the stopwords list contains English stopwords, so common stopwords in other languages are not filtered out. We assume these are not very common so will leave them in for now. \n",
    "\n",
    "Now we repeat the the frequency counting for all 1144 titles, instead of the first 20."
   ]
  },
  {
   "cell_type": "code",
   "execution_count": 14,
   "metadata": {},
   "outputs": [
    {
     "name": "stdout",
     "output_type": "stream",
     "text": [
      "migration                       330\n",
      "immigrants                       96\n",
      "migrants                         82\n",
      "immigration                      77\n",
      "international                    73\n",
      "labour                           66\n",
      "case                             64\n",
      "de                               60\n",
      "australia                        56\n",
      "migrant                          56\n",
      "united                           53\n",
      "emigration                       52\n",
      "countries                        52\n",
      "policy                           50\n",
      "new                              48\n",
      "immigrant                        48\n",
      "states                           47\n",
      "refugees                         47\n",
      "economic                         46\n",
      "social                           46\n",
      "return                           45\n",
      "development                      42\n",
      "workers                          42\n",
      "women                            42\n",
      "en                               41\n"
     ]
    }
   ],
   "source": [
    "# count frequencies of individual words\n",
    "uni_freq = Counter()\n",
    "\n",
    "for title in titles:\n",
    "    # First, transform characters to lowercase\n",
    "    clean_title = title.lower()\n",
    "    # split the transformed string on whitespace\n",
    "    terms = clean_title.split(' ')\n",
    "    # replace punctuation with nothing (i.e. remove from the word)\n",
    "    terms = [re.sub(r'\\W', '', term) for term in terms]\n",
    "    # remove stopwords\n",
    "    terms = [term for term in terms if term not in stopwords]\n",
    "    uni_freq.update(terms)\n",
    "\n",
    "for term, freq in uni_freq.most_common(25):\n",
    "    print(f'{term: <30}{freq: >5}')\n",
    "    \n",
    "\n"
   ]
  },
  {
   "cell_type": "markdown",
   "metadata": {},
   "source": [
    "#### Word Bigrams\n",
    "\n",
    "Next, we look at combinations of two words. Individual words can have quite different meanings in different contexts. Two neighbouring words in a title tend to contextualise each other, so convey more meaning."
   ]
  },
  {
   "cell_type": "code",
   "execution_count": 15,
   "metadata": {},
   "outputs": [
    {
     "name": "stdout",
     "output_type": "stream",
     "text": [
      "international migration          50\n",
      "united states                    43\n",
      "labour migration                 19\n",
      "brain drain                      18\n",
      "case study                       18\n",
      "return migration                 16\n",
      "emigration dynamics              16\n",
      "labour market                    15\n",
      "migrant workers                  14\n",
      "immigration policy               13\n",
      "migrant women                    13\n",
      "developing countries             12\n",
      "human trafficking                12\n",
      "human rights                      9\n",
      "new zealand                       9\n",
      "latin america                     8\n",
      "books periodicals                 8\n",
      "de la                             8\n",
      "migration policy                  8\n",
      "middle east                       8\n",
      "current trends                    8\n",
      "former soviet                     8\n",
      "european migration                7\n",
      "periodicals pamphlets             7\n",
      "pamphlets statistics              7\n"
     ]
    }
   ],
   "source": [
    "# count frequencies of individual words\n",
    "bi_freq = Counter()\n",
    "\n",
    "for title in titles:\n",
    "    # First, transform characters to lowercase\n",
    "    clean_title = title.lower()\n",
    "    # split the transformed string on whitespace\n",
    "    terms = clean_title.split(' ')\n",
    "    # replace punctuation with nothing (i.e. remove from the word)\n",
    "    terms = [re.sub(r'\\W', '', term) for term in terms]\n",
    "    # get all pairs of subsequent title words\n",
    "    bigrams = list(zip(terms[:-1], terms[1:]))\n",
    "    # remove all bigrams for which the first or second word is a stopword\n",
    "    bigram_terms = [' '.join(bigram) for bigram in bigrams if bigram[0] not in stopwords and bigram[1] not in stopwords]\n",
    "    # count the occurrence of each bigram\n",
    "    bi_freq.update(bigram_terms)\n",
    "\n",
    "\n",
    "for term, freq in bi_freq.most_common(25):\n",
    "    print(f'{term: <30}{freq: >5}')\n",
    "    \n",
    "\n"
   ]
  },
  {
   "cell_type": "markdown",
   "metadata": {},
   "source": [
    "Now, 'international migration' is the most common two-word combination, followed by 'United States', 'labour migration', 'brain drain' and 'case study'.\n",
    "\n",
    "### Analysing Title Words Per Decade\n",
    "\n",
    "The articles are published over a period of several decades, and there might be shifts in the discourse over time. A next step is to group uni-grams and bi-grams per decade, to visualise shifts."
   ]
  },
  {
   "cell_type": "code",
   "execution_count": 16,
   "metadata": {},
   "outputs": [
    {
     "data": {
      "text/plain": [
       "0                                the new director of icem\n",
       "1       the migration problem and the encyclical mater...\n",
       "2                     argentina as an immigration country\n",
       "3         how migration affects the country of emigration\n",
       "4       sociological methods for the study of immigran...\n",
       "                              ...                        \n",
       "1141                                         introduction\n",
       "1142    methods approaches and data sources for estima...\n",
       "1143    the size of the irregular migrant population i...\n",
       "1144    measuring irregular migration and population f...\n",
       "1145    irregular migration and informal economy in so...\n",
       "Name: title, Length: 1146, dtype: object"
      ]
     },
     "execution_count": 16,
     "metadata": {},
     "output_type": "execute_result"
    }
   ],
   "source": [
    "def make_title_unigram_term_list(title: str, stopwords):\n",
    "    # First, transform characters to lowercase\n",
    "    clean_title = title.lower()\n",
    "    # split the transformed string on whitespace\n",
    "    terms = clean_title.split(' ')\n",
    "    # replace punctuation with nothing (i.e. remove from the word)\n",
    "    terms = [re.sub(r'\\W', '', term) for term in terms]\n",
    "    # remove stopwords\n",
    "    terms = [term for term in terms if term not in stopwords]\n",
    "    return terms\n",
    "\n",
    "\n",
    "def make_title_bigram_term_list(title: str, stopwords):\n",
    "    # first turn the title into a list of normalised words\n",
    "    terms = make_title_unigram_term_list(title, stopwords)\n",
    "    # get all pairs of subsequent title words\n",
    "    bigrams = list(zip(terms[:-1], terms[1:]))\n",
    "    # remove all bigrams for which the first or second word is a stopword\n",
    "    bigram_terms = [' '.join(bigram) for bigram in bigrams \n",
    "                    if bigram[0] not in stopwords and bigram[1] not in stopwords]\n",
    "    return bigram_terms\n",
    "\n",
    "\n",
    "def normalise_title(title: str):\n",
    "    if not isinstance(title, str):\n",
    "        return title\n",
    "    terms = make_title_unigram_term_list(title, [])\n",
    "    normalised_title = ' '.join(terms)\n",
    "    return normalised_title\n",
    "\n",
    "\n",
    "# Add the normalised title as extra column to the data frame\n",
    "df['title'] = df.TI.apply(normalise_title)\n",
    "df.title"
   ]
  },
  {
   "cell_type": "code",
   "execution_count": 17,
   "metadata": {},
   "outputs": [
    {
     "data": {
      "text/html": [
       "<div>\n",
       "<style scoped>\n",
       "    .dataframe tbody tr th:only-of-type {\n",
       "        vertical-align: middle;\n",
       "    }\n",
       "\n",
       "    .dataframe tbody tr th {\n",
       "        vertical-align: top;\n",
       "    }\n",
       "\n",
       "    .dataframe thead th {\n",
       "        text-align: right;\n",
       "    }\n",
       "</style>\n",
       "<table border=\"1\" class=\"dataframe\">\n",
       "  <thead>\n",
       "    <tr style=\"text-align: right;\">\n",
       "      <th></th>\n",
       "      <th>PY</th>\n",
       "      <th>decade</th>\n",
       "    </tr>\n",
       "  </thead>\n",
       "  <tbody>\n",
       "    <tr>\n",
       "      <th>0</th>\n",
       "      <td>1961.0</td>\n",
       "      <td>1960.0</td>\n",
       "    </tr>\n",
       "    <tr>\n",
       "      <th>1</th>\n",
       "      <td>1961.0</td>\n",
       "      <td>1960.0</td>\n",
       "    </tr>\n",
       "    <tr>\n",
       "      <th>2</th>\n",
       "      <td>1961.0</td>\n",
       "      <td>1960.0</td>\n",
       "    </tr>\n",
       "    <tr>\n",
       "      <th>3</th>\n",
       "      <td>1961.0</td>\n",
       "      <td>1960.0</td>\n",
       "    </tr>\n",
       "    <tr>\n",
       "      <th>4</th>\n",
       "      <td>1961.0</td>\n",
       "      <td>1960.0</td>\n",
       "    </tr>\n",
       "    <tr>\n",
       "      <th>...</th>\n",
       "      <td>...</td>\n",
       "      <td>...</td>\n",
       "    </tr>\n",
       "    <tr>\n",
       "      <th>1141</th>\n",
       "      <td>2011.0</td>\n",
       "      <td>2010.0</td>\n",
       "    </tr>\n",
       "    <tr>\n",
       "      <th>1142</th>\n",
       "      <td>2011.0</td>\n",
       "      <td>2010.0</td>\n",
       "    </tr>\n",
       "    <tr>\n",
       "      <th>1143</th>\n",
       "      <td>2011.0</td>\n",
       "      <td>2010.0</td>\n",
       "    </tr>\n",
       "    <tr>\n",
       "      <th>1144</th>\n",
       "      <td>2011.0</td>\n",
       "      <td>2010.0</td>\n",
       "    </tr>\n",
       "    <tr>\n",
       "      <th>1145</th>\n",
       "      <td>2011.0</td>\n",
       "      <td>2010.0</td>\n",
       "    </tr>\n",
       "  </tbody>\n",
       "</table>\n",
       "<p>1146 rows × 2 columns</p>\n",
       "</div>"
      ],
      "text/plain": [
       "          PY  decade\n",
       "0     1961.0  1960.0\n",
       "1     1961.0  1960.0\n",
       "2     1961.0  1960.0\n",
       "3     1961.0  1960.0\n",
       "4     1961.0  1960.0\n",
       "...      ...     ...\n",
       "1141  2011.0  2010.0\n",
       "1142  2011.0  2010.0\n",
       "1143  2011.0  2010.0\n",
       "1144  2011.0  2010.0\n",
       "1145  2011.0  2010.0\n",
       "\n",
       "[1146 rows x 2 columns]"
      ]
     },
     "execution_count": 17,
     "metadata": {},
     "output_type": "execute_result"
    }
   ],
   "source": [
    "df['decade'] = df.PY.apply(lambda x: int(x/10) * 10 if not pd.isnull(x) else x)\n",
    "df[['PY', 'decade']]"
   ]
  },
  {
   "cell_type": "markdown",
   "metadata": {},
   "source": [
    "The number of articles per decade:"
   ]
  },
  {
   "cell_type": "code",
   "execution_count": 18,
   "metadata": {},
   "outputs": [
    {
     "data": {
      "text/plain": [
       "1960.0    161\n",
       "1970.0    122\n",
       "1980.0    204\n",
       "1990.0    244\n",
       "2000.0    360\n",
       "2010.0     53\n",
       "Name: decade, dtype: int64"
      ]
     },
     "execution_count": 18,
     "metadata": {},
     "output_type": "execute_result"
    }
   ],
   "source": [
    "df.decade.value_counts().sort_index()"
   ]
  },
  {
   "cell_type": "code",
   "execution_count": 19,
   "metadata": {},
   "outputs": [
    {
     "data": {
      "text/plain": [
       "[1960, 1970, 1980, 1990, 2000, 2010]"
      ]
     },
     "execution_count": 19,
     "metadata": {},
     "output_type": "execute_result"
    }
   ],
   "source": [
    "decades = sorted([int(decade) for decade in list(set(df.decade)) if not pd.isnull(decade)])\n",
    "decades"
   ]
  },
  {
   "cell_type": "code",
   "execution_count": 20,
   "metadata": {},
   "outputs": [
    {
     "name": "stdout",
     "output_type": "stream",
     "text": [
      "1960\n",
      "--------------------------\n",
      "migration                        34\n",
      "immigration                      17\n",
      "emigration                       13\n",
      "australia                        12\n",
      "european                         11\n",
      "immigrants                       11\n",
      "america                          10\n",
      "international                     9\n",
      "australian                        8\n",
      "development                       8\n",
      "latin                             8\n",
      "social                            7\n",
      "assimilation                      7\n",
      "icem                              6\n",
      "immigrant                         6\n",
      "countries                         6\n",
      "country                           5\n",
      "economic                          5\n",
      "europe                            5\n",
      "western                           5\n",
      "latine                            5\n",
      "migrants                          5\n",
      "italian                           5\n",
      "study                             4\n",
      "influence                         4\n",
      "\n",
      "\n",
      "\n",
      "1970\n",
      "--------------------------\n",
      "migration                        25\n",
      "immigrants                       14\n",
      "immigration                      11\n",
      "refugees                         10\n",
      "united                            9\n",
      "states                            9\n",
      "economic                          7\n",
      "population                        7\n",
      "new                               7\n",
      "cuban                             6\n",
      "australia                         6\n",
      "adaptation                        6\n",
      "integration                       6\n",
      "books                             6\n",
      "periodicals                       6\n",
      "pamphlets                         6\n",
      "statistics                        6\n",
      "italian                           5\n",
      "european                          5\n",
      "case                              5\n",
      "policy                            5\n",
      "international                     4\n",
      "manpower                          4\n",
      "problems                          4\n",
      "emigration                        4\n",
      "\n",
      "\n",
      "\n",
      "1980\n",
      "--------------------------\n",
      "migration                        61\n",
      "migrants                         27\n",
      "migrant                          20\n",
      "countries                        19\n",
      "immigration                      18\n",
      "immigrants                       17\n",
      "women                            17\n",
      "social                           17\n",
      "return                           17\n",
      "states                           14\n",
      "international                    14\n",
      "labour                           14\n",
      "effects                          14\n",
      "origin                           13\n",
      "united                           12\n",
      "canada                           12\n",
      "case                             11\n",
      "policy                           11\n",
      "trends                           11\n",
      "situation                        10\n",
      "workers                          10\n",
      "family                            9\n",
      "undocumented                      8\n",
      "australia                         8\n",
      "current                           8\n",
      "\n",
      "\n",
      "\n",
      "1990\n",
      "--------------------------\n",
      "migration                        88\n",
      "labour                           24\n",
      "international                    22\n",
      "emigration                       22\n",
      "case                             21\n",
      "immigrants                       21\n",
      "migrants                         19\n",
      "united                           18\n",
      "immigration                      17\n",
      "australia                        15\n",
      "dynamics                         15\n",
      "countries                        14\n",
      "migrant                          14\n",
      "states                           14\n",
      "immigrant                        12\n",
      "new                              12\n",
      "economic                         12\n",
      "africa                           12\n",
      "development                      12\n",
      "workers                          11\n",
      "among                            11\n",
      "canada                           11\n",
      "study                            10\n",
      "women                            10\n",
      "experience                       10\n",
      "\n",
      "\n",
      "\n",
      "2000\n",
      "--------------------------\n",
      "migration                       111\n",
      "immigrants                       31\n",
      "labour                           22\n",
      "trafficking                      22\n",
      "migrants                         22\n",
      "new                              22\n",
      "international                    21\n",
      "immigrant                        21\n",
      "case                             20\n",
      "policy                           18\n",
      "human                            18\n",
      "study                            15\n",
      "australia                        15\n",
      "development                      15\n",
      "chinese                          15\n",
      "refugees                         14\n",
      "among                            14\n",
      "immigration                      13\n",
      "skilled                          13\n",
      "europe                           13\n",
      "migrant                          13\n",
      "israel                           13\n",
      "research                         13\n",
      "transnational                    12\n",
      "economic                         12\n",
      "\n",
      "\n",
      "\n",
      "2010\n",
      "--------------------------\n",
      "migration                        11\n",
      "asylum                            6\n",
      "irregular                         6\n",
      "case                              6\n",
      "trafficking                       6\n",
      "refugees                          5\n",
      "migrants                          5\n",
      "return                            5\n",
      "workers                           5\n",
      "remittances                       5\n",
      "immigrant                         4\n",
      "policy                            4\n",
      "women                             4\n",
      "integration                       4\n",
      "                                  4\n",
      "study                             4\n",
      "migrant                           4\n",
      "netherlands                       3\n",
      "international                     3\n",
      "networks                          3\n",
      "social                            3\n",
      "development                       3\n",
      "research                          3\n",
      "economic                          3\n",
      "human                             3\n",
      "\n",
      "\n",
      "\n"
     ]
    }
   ],
   "source": [
    "from nltk.corpus import stopwords\n",
    "\n",
    "\n",
    "# include stopwords from three languages in which articles were written\n",
    "all_stopwords = stopwords.words('english') + stopwords.words('french') + stopwords.words('spanish')\n",
    "\n",
    "\n",
    "for decade in decades:\n",
    "    titles = list(df[df.decade == decade].title)\n",
    "    unigram_terms = [term for title in titles for term in make_title_unigram_term_list(title, all_stopwords)]\n",
    "    unigram_freq = Counter(unigram_terms)\n",
    "    print(decade)\n",
    "    print('--------------------------')\n",
    "    for term, freq in unigram_freq.most_common(25):\n",
    "        print(f'{term: <30}{freq: >5}')\n",
    "    print('\\n\\n')\n",
    "    \n",
    "\n"
   ]
  },
  {
   "cell_type": "code",
   "execution_count": 21,
   "metadata": {},
   "outputs": [
    {
     "name": "stdout",
     "output_type": "stream",
     "text": [
      "1960\n",
      "--------------------------\n",
      "latin america                     8\n",
      "european migration                4\n",
      "international migration           4\n",
      "italian emigration                4\n",
      "intergovernmental committee       3\n",
      "committee european                3\n",
      "immigrants australia              3\n",
      "amérique latine                   3\n",
      "western australia                 3\n",
      "brain drain                       3\n",
      "migration affects                 2\n",
      "affects country                   2\n",
      "immigration development           2\n",
      "report intergovernmental          2\n",
      "migration year                    2\n",
      "council europe                    2\n",
      "international labour              2\n",
      "movement workers                  2\n",
      "migration australia               2\n",
      "economic social                   2\n",
      "meeting migrations                2\n",
      "migrations countries              2\n",
      "recent publications               2\n",
      "rural settlement                  2\n",
      "united states                     2\n",
      "\n",
      "\n",
      "\n",
      "1970\n",
      "--------------------------\n",
      "united states                     9\n",
      "books periodicals                 6\n",
      "periodicals pamphlets             6\n",
      "pamphlets statistics              6\n",
      "international migration           3\n",
      "brain drain                       3\n",
      "west germany                      3\n",
      "new zealand                       3\n",
      "adaptation integration            3\n",
      "canadian immigration              3\n",
      "immigration policy                3\n",
      "states 19591969                   2\n",
      "italian immigrants                2\n",
      "melbourne australia               2\n",
      "european migration                2\n",
      "professional adaptation           2\n",
      "migration europe                  2\n",
      "human rights                      2\n",
      "states america                    2\n",
      "integration permanent             2\n",
      "permanent immigrants              2\n",
      "vocational training               2\n",
      "ugandan asians                    2\n",
      "return migration                  2\n",
      "recent developments               2\n",
      "\n",
      "\n",
      "\n",
      "1980\n",
      "--------------------------\n",
      "united states                    12\n",
      "migrant women                    11\n",
      "international migration           9\n",
      "countries origin                  8\n",
      "current trends                    7\n",
      "trends developments               7\n",
      "return migration                  6\n",
      "brain drain                       5\n",
      "immigrants canada                 5\n",
      "return countries                  5\n",
      "effects migration                 5\n",
      "country origin                    4\n",
      "labour market                     4\n",
      "undocumented migrants             4\n",
      "middle east                       4\n",
      "labour migration                  4\n",
      "social effects                    4\n",
      "occupational mobility             3\n",
      "situation migrant                 3\n",
      "receiving countries               3\n",
      "western europe                    3\n",
      "forms reasons                     3\n",
      "reasons motivations               3\n",
      "motivations return                3\n",
      "migration persons                 3\n",
      "\n",
      "\n",
      "\n",
      "1990\n",
      "--------------------------\n",
      "international migration          17\n",
      "emigration dynamics              15\n",
      "united states                    12\n",
      "labour migration                  9\n",
      "southnorth migration              7\n",
      "developing countries              5\n",
      "central america                   5\n",
      "labour market                     5\n",
      "return migration                  5\n",
      "case study                        4\n",
      "united kingdom                    4\n",
      "asylum seekers                    4\n",
      "subsaharan africa                 4\n",
      "migrant workers                   3\n",
      "among immigrants                  3\n",
      "new zealand                       3\n",
      "special reference                 3\n",
      "medical screening                 3\n",
      "dynamics developing               3\n",
      "south asia                        3\n",
      "mexico central                    3\n",
      "foreign workers                   3\n",
      "migration case                    3\n",
      "immigrants australia              3\n",
      "south africa                      3\n",
      "\n",
      "\n",
      "\n",
      "2000\n",
      "--------------------------\n",
      "international migration          15\n",
      "human trafficking                 9\n",
      "case study                        8\n",
      "united states                     7\n",
      "labour market                     6\n",
      "best practice                     6\n",
      "migrant workers                   5\n",
      "human rights                      5\n",
      "brain drain                       5\n",
      "former soviet                     5\n",
      "practice options                  5\n",
      "migrationdevelopment nexus        5\n",
      "immigration policy                5\n",
      "labour migration                  5\n",
      "tráfico ilícito                   5\n",
      "south africa                      4\n",
      "highly skilled                    4\n",
      "among immigrants                  4\n",
      "skilled migration                 4\n",
      "migration policy                  4\n",
      "soviet union                      4\n",
      "forced migration                  4\n",
      "bosnia herzegovina                4\n",
      "research human                    4\n",
      "migration development             4\n",
      "\n",
      "\n",
      "\n",
      "2010\n",
      "--------------------------\n",
      "irregular migration               3\n",
      "human trafficking                 3\n",
      "untold stories                    2\n",
      "case study                        2\n",
      "international migration           2\n",
      "brain drain                       2\n",
      "migrant workers                   2\n",
      "irregular migrants                2\n",
      "workers thailand                  2\n",
      "refugees economics                1\n",
      "economics political               1\n",
      "political migration               1\n",
      "adaptation sudanese               1\n",
      "sudanese refugees                 1\n",
      "refugees australian               1\n",
      "australian context                1\n",
      "context investigating             1\n",
      "investigating helps               1\n",
      "helps hindrances                  1\n",
      "culture structure                 1\n",
      "structure refugee                 1\n",
      "refugee experience                1\n",
      "experience somali                 1\n",
      "somali immigrant                  1\n",
      "immigrant family                  1\n",
      "\n",
      "\n",
      "\n"
     ]
    }
   ],
   "source": [
    "from nltk.corpus import stopwords\n",
    "\n",
    "\n",
    "# include stopwords from three languages in which articles were written\n",
    "all_stopwords = stopwords.words('english') + stopwords.words('french') + stopwords.words('spanish')\n",
    "\n",
    "\n",
    "for decade in decades:\n",
    "    titles = list(df[df.decade == decade].title)\n",
    "    bigram_terms = [term for title in titles for term in make_title_bigram_term_list(title, all_stopwords)]\n",
    "    bigram_freq = Counter(bigram_terms)\n",
    "    print(decade)\n",
    "    print('--------------------------')\n",
    "    for term, freq in bigram_freq.most_common(25):\n",
    "        print(f'{term: <30}{freq: >5}')\n",
    "    print('\\n\\n')\n",
    "    \n",
    "\n"
   ]
  },
  {
   "cell_type": "code",
   "execution_count": null,
   "metadata": {},
   "outputs": [],
   "source": []
  },
  {
   "cell_type": "code",
   "execution_count": null,
   "metadata": {},
   "outputs": [],
   "source": []
  },
  {
   "cell_type": "code",
   "execution_count": null,
   "metadata": {},
   "outputs": [],
   "source": []
  },
  {
   "cell_type": "code",
   "execution_count": null,
   "metadata": {},
   "outputs": [],
   "source": []
  }
 ],
 "metadata": {
  "kernelspec": {
   "display_name": "Python 3",
   "language": "python",
   "name": "python3"
  },
  "language_info": {
   "codemirror_mode": {
    "name": "ipython",
    "version": 3
   },
   "file_extension": ".py",
   "mimetype": "text/x-python",
   "name": "python",
   "nbconvert_exporter": "python",
   "pygments_lexer": "ipython3",
   "version": "3.8.5"
  }
 },
 "nbformat": 4,
 "nbformat_minor": 4
}
