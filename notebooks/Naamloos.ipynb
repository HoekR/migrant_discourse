{
 "cells": [
  {
   "cell_type": "code",
   "execution_count": 1,
   "metadata": {},
   "outputs": [],
   "source": [
    "import pandas as pd"
   ]
  },
  {
   "cell_type": "code",
   "execution_count": 2,
   "metadata": {},
   "outputs": [],
   "source": [
    "df_titles = pd.read_csv('../data/wileyrecs.csv')"
   ]
  },
  {
   "cell_type": "code",
   "execution_count": 4,
   "metadata": {},
   "outputs": [],
   "source": [
    "df_network = pd.read_csv('../data/discourse_coalitionsNIOD2017.csv', sep=';', encoding='latin1')"
   ]
  },
  {
   "cell_type": "code",
   "execution_count": 5,
   "metadata": {},
   "outputs": [
    {
     "data": {
      "text/plain": [
       "Index(['Series', 'year', 'prsauthor1', 'prs_vv', 'prs_ini', 'prsauthor2',\n",
       "       'prs_vv.1', 'prs_ini.1', 'prs_preface1', 'prs_vv.2', 'prs_ini.2',\n",
       "       'prs_preface2', 'Unnamed: 12', 'Unnamed: 13', 'prs_intro1',\n",
       "       'Unnamed: 15', 'voorvoegsel', 'initialen', 'prs_intro2', 'Unnamed: 19',\n",
       "       'Unnamed: 20', 'executor_org', 'Financier', 'Client', 'prs_Editor',\n",
       "       'prs_vv.3', 'Prs_ini', 'Title'],\n",
       "      dtype='object')"
      ]
     },
     "execution_count": 5,
     "metadata": {},
     "output_type": "execute_result"
    }
   ],
   "source": [
    "df_network.columns\n"
   ]
  },
  {
   "cell_type": "code",
   "execution_count": 6,
   "metadata": {},
   "outputs": [
    {
     "data": {
      "text/html": [
       "<div>\n",
       "<style scoped>\n",
       "    .dataframe tbody tr th:only-of-type {\n",
       "        vertical-align: middle;\n",
       "    }\n",
       "\n",
       "    .dataframe tbody tr th {\n",
       "        vertical-align: top;\n",
       "    }\n",
       "\n",
       "    .dataframe thead th {\n",
       "        text-align: right;\n",
       "    }\n",
       "</style>\n",
       "<table border=\"1\" class=\"dataframe\">\n",
       "  <thead>\n",
       "    <tr style=\"text-align: right;\">\n",
       "      <th></th>\n",
       "      <th>AU</th>\n",
       "      <th>TI</th>\n",
       "      <th>PY</th>\n",
       "      <th>JO</th>\n",
       "    </tr>\n",
       "  </thead>\n",
       "  <tbody>\n",
       "    <tr>\n",
       "      <th>0</th>\n",
       "      <td>NaN</td>\n",
       "      <td>The New Director Of Icem</td>\n",
       "      <td>1961.0</td>\n",
       "      <td>Migracion</td>\n",
       "    </tr>\n",
       "    <tr>\n",
       "      <th>1</th>\n",
       "      <td>Perotti, Antonio</td>\n",
       "      <td>The Migration Problem And The Encyclical “Mate...</td>\n",
       "      <td>1961.0</td>\n",
       "      <td>Migracion</td>\n",
       "    </tr>\n",
       "    <tr>\n",
       "      <th>2</th>\n",
       "      <td>Marsal, Juan F.</td>\n",
       "      <td>Argentina As An Immigration Country</td>\n",
       "      <td>1961.0</td>\n",
       "      <td>Migracion</td>\n",
       "    </tr>\n",
       "    <tr>\n",
       "      <th>3</th>\n",
       "      <td>Dominedo, M.</td>\n",
       "      <td>How Migration Affects The Country Of Emigration</td>\n",
       "      <td>1961.0</td>\n",
       "      <td>Migracion</td>\n",
       "    </tr>\n",
       "    <tr>\n",
       "      <th>4</th>\n",
       "      <td>Zubrzycki, Jerzy</td>\n",
       "      <td>Sociological Methods For The Study Of Immigran...</td>\n",
       "      <td>1961.0</td>\n",
       "      <td>Migracion</td>\n",
       "    </tr>\n",
       "    <tr>\n",
       "      <th>...</th>\n",
       "      <td>...</td>\n",
       "      <td>...</td>\n",
       "      <td>...</td>\n",
       "      <td>...</td>\n",
       "    </tr>\n",
       "    <tr>\n",
       "      <th>1141</th>\n",
       "      <td>Düvell, Franck</td>\n",
       "      <td>Introduction</td>\n",
       "      <td>2011.0</td>\n",
       "      <td>International Migration</td>\n",
       "    </tr>\n",
       "    <tr>\n",
       "      <th>1142</th>\n",
       "      <td>Jandl, Michael</td>\n",
       "      <td>Methods, Approaches and Data Sources for Estim...</td>\n",
       "      <td>2011.0</td>\n",
       "      <td>International Migration</td>\n",
       "    </tr>\n",
       "    <tr>\n",
       "      <th>1143</th>\n",
       "      <td>Prescott, Hannah</td>\n",
       "      <td>The Size of the Irregular Migrant Population i...</td>\n",
       "      <td>2011.0</td>\n",
       "      <td>International Migration</td>\n",
       "    </tr>\n",
       "    <tr>\n",
       "      <th>1144</th>\n",
       "      <td>Reichel, David</td>\n",
       "      <td>Measuring Irregular Migration and Population F...</td>\n",
       "      <td>2011.0</td>\n",
       "      <td>International Migration</td>\n",
       "    </tr>\n",
       "    <tr>\n",
       "      <th>1145</th>\n",
       "      <td>Gmaj, Katarzyna</td>\n",
       "      <td>Irregular Migration and Informal Economy in So...</td>\n",
       "      <td>2011.0</td>\n",
       "      <td>International Migration</td>\n",
       "    </tr>\n",
       "  </tbody>\n",
       "</table>\n",
       "<p>1146 rows × 4 columns</p>\n",
       "</div>"
      ],
      "text/plain": [
       "                    AU                                                 TI  \\\n",
       "0                  NaN                           The New Director Of Icem   \n",
       "1     Perotti, Antonio  The Migration Problem And The Encyclical “Mate...   \n",
       "2      Marsal, Juan F.                Argentina As An Immigration Country   \n",
       "3         Dominedo, M.    How Migration Affects The Country Of Emigration   \n",
       "4     Zubrzycki, Jerzy  Sociological Methods For The Study Of Immigran...   \n",
       "...                ...                                                ...   \n",
       "1141    Düvell, Franck                                       Introduction   \n",
       "1142    Jandl, Michael  Methods, Approaches and Data Sources for Estim...   \n",
       "1143  Prescott, Hannah  The Size of the Irregular Migrant Population i...   \n",
       "1144    Reichel, David  Measuring Irregular Migration and Population F...   \n",
       "1145   Gmaj, Katarzyna  Irregular Migration and Informal Economy in So...   \n",
       "\n",
       "          PY                       JO  \n",
       "0     1961.0                Migracion  \n",
       "1     1961.0                Migracion  \n",
       "2     1961.0                Migracion  \n",
       "3     1961.0                Migracion  \n",
       "4     1961.0                Migracion  \n",
       "...      ...                      ...  \n",
       "1141  2011.0  International Migration  \n",
       "1142  2011.0  International Migration  \n",
       "1143  2011.0  International Migration  \n",
       "1144  2011.0  International Migration  \n",
       "1145  2011.0  International Migration  \n",
       "\n",
       "[1146 rows x 4 columns]"
      ]
     },
     "execution_count": 6,
     "metadata": {},
     "output_type": "execute_result"
    }
   ],
   "source": [
    "df_titles"
   ]
  },
  {
   "cell_type": "code",
   "execution_count": 7,
   "metadata": {},
   "outputs": [
    {
     "name": "stdout",
     "output_type": "stream",
     "text": [
      "Collecting fuzzy-search\n",
      "\u001b[?25l  Downloading https://files.pythonhosted.org/packages/06/27/fca9efcdaceebbc2e7ef8aab062d52218d0631ca180bcc43dd53732fdaee/fuzzy_search-1.1.4-py3-none-any.whl (53kB)\n",
      "\u001b[K     |████████████████████████████████| 61kB 1.5MB/s eta 0:00:01\n",
      "\u001b[?25hInstalling collected packages: fuzzy-search\n",
      "Successfully installed fuzzy-search-1.1.4\n",
      "\u001b[33mWARNING: You are using pip version 19.1, however version 21.0 is available.\n",
      "You should consider upgrading via the 'pip install --upgrade pip' command.\u001b[0m\n"
     ]
    }
   ],
   "source": [
    "import sys\n",
    "!{sys.executable} -m pip install fuzzy-search\n",
    "\n"
   ]
  },
  {
   "cell_type": "code",
   "execution_count": 9,
   "metadata": {},
   "outputs": [
    {
     "name": "stdout",
     "output_type": "stream",
     "text": [
      "Collecting pip\n",
      "  Using cached https://files.pythonhosted.org/packages/de/47/58b9f3e6f611dfd17fb8bd9ed3e6f93b7ee662fb85bdfee3565e8979ddf7/pip-21.0-py3-none-any.whl\n",
      "Installing collected packages: pip\n",
      "Successfully installed pip-21.0\n"
     ]
    }
   ],
   "source": [
    "!{sys.executable} -m pip install --user --upgrade pip\n"
   ]
  },
  {
   "cell_type": "code",
   "execution_count": 10,
   "metadata": {},
   "outputs": [],
   "source": [
    "auts = list(df_network.prsauthor1.unique())"
   ]
  },
  {
   "cell_type": "code",
   "execution_count": 15,
   "metadata": {},
   "outputs": [],
   "source": [
    "titlst = list(df_titles.AU.unique())"
   ]
  },
  {
   "cell_type": "code",
   "execution_count": 22,
   "metadata": {},
   "outputs": [],
   "source": [
    "ltits = [au.split(',')[0].lower() for au in titlst if au==au]"
   ]
  },
  {
   "cell_type": "code",
   "execution_count": 21,
   "metadata": {},
   "outputs": [],
   "source": [
    "lauts = [a.lower() for a in auts if a==a]"
   ]
  },
  {
   "cell_type": "code",
   "execution_count": 23,
   "metadata": {},
   "outputs": [],
   "source": [
    "slauts = set(lauts)\n",
    "sltits = set(ltits)"
   ]
  },
  {
   "cell_type": "code",
   "execution_count": 24,
   "metadata": {},
   "outputs": [
    {
     "data": {
      "text/plain": [
       "{'beijer',\n",
       " 'bernard',\n",
       " 'cnossen',\n",
       " 'johnston',\n",
       " 'maselli',\n",
       " 'mol',\n",
       " 'sassen',\n",
       " 'wander',\n",
       " 'wilder-okladek'}"
      ]
     },
     "execution_count": 24,
     "metadata": {},
     "output_type": "execute_result"
    }
   ],
   "source": [
    "slauts.intersection(sltits)"
   ]
  },
  {
   "cell_type": "code",
   "execution_count": 26,
   "metadata": {},
   "outputs": [],
   "source": [
    "df_titles['lau'] = df_titles.AU.str.lower()"
   ]
  },
  {
   "cell_type": "code",
   "execution_count": null,
   "metadata": {},
   "outputs": [],
   "source": [
    "df.titles."
   ]
  }
 ],
 "metadata": {
  "kernelspec": {
   "display_name": "Python 3",
   "language": "python",
   "name": "python3"
  },
  "language_info": {
   "codemirror_mode": {
    "name": "ipython",
    "version": 3
   },
   "file_extension": ".py",
   "mimetype": "text/x-python",
   "name": "python",
   "nbconvert_exporter": "python",
   "pygments_lexer": "ipython3",
   "version": "3.7.2"
  },
  "toc": {
   "base_numbering": 1,
   "nav_menu": {},
   "number_sections": true,
   "sideBar": true,
   "skip_h1_title": false,
   "title_cell": "Table of Contents",
   "title_sidebar": "Contents",
   "toc_cell": false,
   "toc_position": {},
   "toc_section_display": true,
   "toc_window_display": false
  }
 },
 "nbformat": 4,
 "nbformat_minor": 4
}
