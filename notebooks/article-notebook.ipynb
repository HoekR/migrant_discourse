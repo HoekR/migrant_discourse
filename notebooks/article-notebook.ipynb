{
 "cells": [
  {
   "cell_type": "markdown",
   "metadata": {},
   "source": [
    "# Fifty Years of Technocracy. International Migration Management as an Evolving Discourse Coalition.\n",
    "\n",
    "Marijke van Faassen - Huygens ING (marijke.van.faassen@huygens.knaw.nl), \n",
    "\n",
    "Rik Hoekstra - Huygens ING (rik.hoekstra@di.huc.knaw.nl), \n",
    "\n",
    "Marijn Koolen - Huygens ING (marijn.koolen@di.huc.knaw.nl)\n"
   ]
  },
  {
   "cell_type": "markdown",
   "metadata": {},
   "source": [
    "## Introduction\n",
    " \n",
    "In 1963 the American demographer and sociologist William Petersen wrote a review article on several books on refugee studies. Except for some studies on the German refugee problem, at that time still an important issue due to the millions of post-World War II ethnic and non-ethnic German expellees from Central and East Europe on German soil, Petersen also reviewed the first issue of a new journal called International Migration: Quarterly review on the role of migratory movements in the contemporary world (IM). The journal was ‘sponsored’ by the so called Intergovernmental Committee for European Migration (ICEM) and was in fact a merger between two journals: ICEM’s own journal Migration and the bulletin of the so called Research Group for European Migration Problems (REMP), the REMP-bulletin. Petersen praised the high scientific quality of one of the REMP-monographs he also reviewed, but he was extremely critical about this first journal issue. He not just saw the efforts of the Intergovernmental Committee for European Migration to assist migrants to move from Europe as a mere duplication of the purposes of the in 1952 established UN High Commissioner for Refugees, he also questioned the character of the newly established journal: ‘If the first number of International Migration is a good indication, the shift from the REMP Bulletin has been one from a scholarly journal to a self-aggrandizing house organ. […] Most of the articles are by agency officials rather than scholars.’ (Petersen 1963, 419-421).\n",
    "\n",
    "The Intergovernmental Committee for European Migration, nowadays better known under its current name International Organisation for Migration (IOM) is one of the bigger players in the field of regulating global migration, albeit not an undisputed one. Nowadays, In particular, IOM’s ‘voluntary’ return programs and IOM’s participation in Australia’s refugee policy in the Pacific are subject to criticism (Andrijasevic and Walters 2010; Fleay and Hoffman 2014). Since the establishment of the Provisional Intergovernmental Committee for the Migration from Europe (PICMME), the predecessor of both ICEM and IOM, scholars have been struggling to characterize this organization, which framed itself as a  purely technical post-war refugee transport organization which inherited the fleet and the budget of the temporary UN International Refugee Organization (IRO) after its expiration in 1951, but in fact was an organization, born out of a combination of the post war  ‘one world’ ideology and Cold War reality, with highly political aims, focusing especially on stimulating migration from Europe of labour surpluses in the first decennia of its existence (Van Faassen 2014, Ch.3; Parsanoglu 2015).[1] Its twofold objectives and its non-permanent status till the end of the 1980’s was probably the cause of being understudied by both refugee studies and international migration studies for almost forty years. This changed when the scholarly debate on international migration underwent a paradigm shift to the study of migration management and researchers discovered the new global ambitions of ICEM in this field. These ambitions found its expression in a new constitution and two name changes, first the skipping the ‘Europe-part’ (ICM 1980) followed by the shift from ‘intergovernmental committee’ to the more inclusive ‘International organization’ governance system’ (IOM 1987),  and obtaining a permanent status (Perruchoud 1987). Meanwhile, a lot of critical studies on ICEM/IOM have been published. Although the genesis and early history of the 1950’s is well known by now, most of them pay little or no attention  to the second decade of its existence, the 1960’s, thus neglecting the merger of the journals of ICEM and the till now further unnoticed  REMP research group and the critical notes on ICEM itself and its self representation for a wider public, that William Petersen put his finger on in his review.\n",
    "\n",
    "In fact, the changes Petersen noticed coincide with the start of a new Director-General of ICEM, Dutchman Bastiaan Wouter Haveman (1908-1979), who led ICEM between 1962-1969 as the only non-American Director-General till 2018. The social-democratic chemical engineer and lawyer Haveman had been appointed Dutch Government Commissioner for Emigration in November 1950 as the Dutch Government based its socioeconomic policy on two cornerstones. In order to prevent structural unemployment, as had been the case in the 1930s world economic crises, large-scale emigration to overseas destinations was to be encouraged, in addition to industrialization (Van Faassen 2014, 2017). As Haveman was of the opinion that migration policy had to be science-based and planning was only possible if he had an insight into the migration potential of the Dutch population, he established close connections with social scientists and demographers. Haveman himself and his ministerial emigration department closely collaborated with the German political economist and demographer Gunther Beyer, who was praised in Petersen’s review as the one who ‘created and sustained the Research Group for European Migration Problems’ and who ‘achieved an enviable reputation among demographers’ (Petersen 1963, 420). Beyer was also known for his skills in ‘ enabling a dialogue between politicians and demographers possible’ (Van de Kaa 1983, 3). The research group REMP was established in 1952 in the Hague, with Beyer as secretary/editor (till his death in 1983) and a provisional board largely consisting of Dutch social scientists who together guided  and stimulated the migration research commissioned by the Dutch government.[2] At the same time, Haveman, in close collaboration with the Australian and United States ICEM-delegates at certain moments played a pivotal role in ICEM between 1959 and 1961, which resulted in his appointment on 1 January 1962 as the first non-US ICEM Director (Van Faassen 2017).\n",
    "            \n",
    "Given the close professional connections between Haveman and Beyer in the early 1950s and the fact that in the 1960s REMP and ICEM (with Haveman as new director-general) at least profiled themselves via the same journal, it is highly plausible to assume that in order to really understand the nature of ICEMs policies and its technocratic character (Geiger 2018, 39) it is necessary to further study the relation between REMP and ICEM.  We argue that especially the constitutive years of ICEM are key to understanding how and which actors from both science and politics were able to be of influence on ICEM’s decision-making processes. By using the concept of discourse coalitions – defined by Wagner (as cited in Raphael 2012) as constellations at any given time in which social scientists develop ideas ‘that strengthen the arguments of a group of actors in the political system, whose policies might, in turn, support the standing of these scientists in academia’ –  we are able to lay bare networks of technocrats (on basis of their publications) shaping migration management interactively with national governments. We asked ourselves: can Petersen’s observation based on the first issue of International Migration, be substantiated through time and what does it tell us about the character of ICEM? Can we see REMP as the discourse coalition on migration management? If so, how did the discourse coalition evolve into an international version and can we actually see developments in discourse (a discursive development)? As neither REMP nor ICEM left many open access archival collections, we also had to address some methodological issues: how can we investigate these questions and make it plausible? What resources do we need? Is it possible to conduct this type of research based on long-running journals like IM by using the information that is publicly available onlineonly using their series of metadata and title content? How do we connect analog and digital sources?\n",
    "In the following sections we first explore the concept of discourse coalitions <and technocracy> and will compare the most recent studies on ICEM with previous archival research on REMP, ICEM and their connections with the Dutch emigration governance system. Following this, we present our digital sources, discuss missing links in some of them and present the methodological translation we had to make to answer our main research questions. Finally we analyse and explain our results <for  10 years windows in order to make possible shifts in the discourse networks and the discourse itself visible> and address the robustness of our choices.\n",
    "\n"
   ]
  },
  {
   "cell_type": "markdown",
   "metadata": {},
   "source": [
    "## Next sections\n",
    "\n",
    "[ Concepts and a genealogy: ICEM, REMP and the Dutch connection]\n",
    "\n",
    "[discourse coalitions: Fischer (technocratie / discourse coalition: p. 22, 28, 30 (methode: artikelen, boeken, conferenties); 32-34, gebruikt wagner en Hajer, benadrukt de agenada settende macht )) Wagner; Lutz; Hajer; Technocracy. Problematiseren: Op welke manier geeft de selectie van de wetenschap het discourse weer (milieuproblematiek, Hajer 1993 (bredere focus dan Wagner/Lutz; 1995: benadrukt belang institutionele genealogie (p.5))\n",
    "Argue that ICEM and REMP are interesting case study, because of difficulty to understand the character of ICEM; elaborate on periodization introduced by Lutz (NIOD-paper)\n",
    "connection to recent historiography on ICEM: Ventura; Parsanaglou; Geiger. Combine with previous analysis Van Faassen 2014.]\n",
    "\n",
    "[{ elaborate on analogue archival information_Collection Beyer:\n",
    "REMP started as ‘Dutch-German bilateral group on refugees studies’, and evolved to European group in which ‘technocrats’ as Sauvy were invited. [NB: Integrate Philip Nord’s analysis on french technocracy (French model) with the ‘Dutch: very comparable background to Haveman (NB: ido de Haan; Nele Beyen)\n",
    "- Beyen had contact with USA-delegates during Brussels Conference (= constitution of PICMME]\n",
    "\n",
    " during constitutative REMP conference 1952: representative of ICEM-dep. director Jacobsen (P.Jarrell, see memorandum, inv. 31, photo 201801054_163359) as observer: influencing REMP to focus not only on Europe, but also on overseas migration]\n",
    "\n",
    "[analysis- connecting to notebooks\n",
    "how do we translate our research questions into methodological ones: stuk RIK\n",
    "What data sets do we need? Mention them in the narrative; justification in the notebooks (stukken Rik/Marijn): \n",
    "Constructing the datasets for networks manually\n",
    "Meta data of journals IM / IMR for discovering discourse\n",
    "NB: IMR will be used as control dataset, to make comparison possible: we do not elaborate on this journal specifically.\n",
    "\n",
    "[The early years of REMP and ICEM: 1950s-1960]\n",
    "Narrative: explanation of role Haveman in constitution of PICMME / ICEM: in the Netherlands; at the international theatre (connection Australia/ Canada) (Van Faassen 2014; 2017)\n",
    "Narrative: Dutch governmental studies om emigration: supporting Dutch Policy (Haveman-Beyer); constitution of REMP in the Netherlands\n",
    "\n",
    "[Analysis: Connecting to notebooks: NB: REMP-bulletin and IM are still 2 journals; IMR doesn’t exist yet.\n",
    "What is the network; what is the discourse; how can we explain this with regard to previous research?\n",
    "\n",
    "[1960-1980] <Haveman-Beyer period>\n",
    "\tNarrative: serious financial problems ICEM; change in policy USA towards development aid Latin -America; combination of both partly solved by Haveman / Australia together with george Warren USA: (Van Faassen, 2014, 2017 check op Ventura, Parsanoglu]\n",
    "\n",
    "Haveman director-general ICEM; merger IM - REMP-bulletin\n",
    "\n",
    "[Analysis: connecting to notebooks: what network (NB: board of directors is still known from analogue research) what discourse: explanation : policy change USA→ Latin America….\n",
    "\n",
    "<1980-2000> Australia period \n",
    "\n",
    "\n",
    "Conclusions\n",
    "ICEM/IOM is orgaan om wetenschappelijk serieus genomen te worden, en om humanitair imago te scheppen\n",
    "Mensen in ICEM/IOM zitten ook in nationale regeringen -> nationale regeringen gebruiken ICEM als speelruimte voor remote control\n",
    "terugkomen op quote Petersen: huisorgaan: dat kan nog steeds aangetoond op basis van recente reviews van ICEM.\n",
    "discourse coalitions alleen als analytisch concept onvoldoende om ICEm helemaal te verklaren, maar leidt wel tot vervolg vragen\n",
    "\n",
    "\n",
    "[1] <eventueel nog aandacht besteden aan feit dat niemand echt toegang krijgt tot het ICEM-archief: feldblum / steinert meent zelfs dat het vernietigd is…checken bij Ventura / Geiger>\n",
    "[2] <Archiefverwijzing Statuten of data-sheet>.\n",
    "\n"
   ]
  },
  {
   "cell_type": "code",
   "execution_count": null,
   "metadata": {},
   "outputs": [],
   "source": []
  },
  {
   "cell_type": "code",
   "execution_count": null,
   "metadata": {},
   "outputs": [],
   "source": []
  }
 ],
 "metadata": {
  "kernelspec": {
   "display_name": "Python 3",
   "language": "python",
   "name": "python3"
  },
  "language_info": {
   "codemirror_mode": {
    "name": "ipython",
    "version": 3
   },
   "file_extension": ".py",
   "mimetype": "text/x-python",
   "name": "python",
   "nbconvert_exporter": "python",
   "pygments_lexer": "ipython3",
   "version": "3.6.8"
  }
 },
 "nbformat": 4,
 "nbformat_minor": 4
}
