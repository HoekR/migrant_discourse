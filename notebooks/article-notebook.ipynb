{
 "cells": [
  {
   "cell_type": "markdown",
   "metadata": {
    "tags": [
     "title"
    ]
   },
   "source": [
    "# Fifty Years of Technocracy. International Migration Management as an Evolving Discourse Coalition."
   ]
  },
  {
   "cell_type": "markdown",
   "metadata": {
    "tags": [
     "contributor"
    ]
   },
   "source": [
    "- Marijke van Faassen - Huygens ING (marijke.van.faassen@huygens.knaw.nl)"
   ]
  },
  {
   "cell_type": "markdown",
   "metadata": {
    "tags": [
     "contributor"
    ]
   },
   "source": [
    "- Rik Hoekstra - Huygens ING (rik.hoekstra@di.huc.knaw.nl)"
   ]
  },
  {
   "cell_type": "markdown",
   "metadata": {
    "tags": [
     "contributor"
    ]
   },
   "source": [
    "- Marijn Koolen - Huygens ING (marijn.koolen@di.huc.knaw.nl)"
   ]
  },
  {
   "cell_type": "markdown",
   "metadata": {
    "tags": [
     "title"
    ]
   },
   "source": [
    "## Introduction"
   ]
  },
  {
   "cell_type": "markdown",
   "metadata": {
    "tags": [
     "narrative"
    ]
   },
   "source": [
    "In 1963 the American demographer and sociologist William Petersen wrote a review article on several books on refugee studies. Except for some studies on the German refugee problem, at that time still an important issue due to the millions of post-World War II ethnic and non-ethnic German expellees from Central and East Europe on German soil, Petersen also reviewed the first issue of a new journal called International Migration: Quarterly review on the role of migratory movements in the contemporary world (IM). The journal was ‘sponsored’ by the so called Intergovernmental Committee for European Migration (ICEM) and was in fact a merger between two journals: ICEM’s own journal Migration and the bulletin of the so called Research Group for European Migration Problems (REMP), the REMP-bulletin. Petersen praised the high scientific quality of one of the REMP-monographs he also reviewed, but he was extremely critical about this first journal issue. He not just saw the efforts of the Intergovernmental Committee for European Migration to assist migrants to move from Europe as a mere duplication of the purposes of the in 1952 established UN High Commissioner for Refugees, he also questioned the character of the newly established journal: ‘If the first number of International Migration is a good indication, the shift from the REMP Bulletin has been one from a scholarly journal to a self-aggrandizing house organ. […] Most of the articles are by agency officials rather than scholars.’ (Petersen 1963, 419-421)."
   ]
  },
  {
   "cell_type": "markdown",
   "metadata": {
    "tags": [
     "narrative"
    ]
   },
   "source": [
    "The Intergovernmental Committee for European Migration, nowadays better known under its current name International Organisation for Migration (IOM) is one of the bigger players in the field of regulating global migration, albeit not an undisputed one. Nowadays, In particular, IOM’s ‘voluntary’ return programs and IOM’s participation in Australia’s refugee policy in the Pacific are subject to criticism (Andrijasevic and Walters 2010; Fleay and Hoffman 2014). Since the establishment of the Provisional Intergovernmental Committee for the Migration from Europe (PICMME), the predecessor of both ICEM and IOM, scholars have been struggling to characterize this organization, which framed itself as a  purely technical post-war refugee transport organization which inherited the fleet and the budget of the temporary UN International Refugee Organization (IRO) after its expiration in 1951, but in fact was an organization, born out of a combination of the post war  ‘one world’ ideology and Cold War reality, with highly political aims, focusing especially on stimulating migration from Europe of labour surpluses in the first decennia of its existence (Van Faassen 2014, Ch.3; Parsanoglu 2015).[1] Its twofold objectives and its non-permanent status till the end of the 1980’s was probably the cause of being understudied by both refugee studies and international migration studies for almost forty years. This changed when the scholarly debate on international migration underwent a paradigm shift to the study of migration management and researchers discovered the new global ambitions of ICEM in this field. These ambitions found its expression in a new constitution and two name changes, first the skipping the ‘Europe-part’ (ICM 1980) followed by the shift from ‘intergovernmental committee’ to the more inclusive ‘International organization’ governance system’ (IOM 1987),  and obtaining a permanent status (Perruchoud 1987). Meanwhile, a lot of critical studies on ICEM/IOM have been published. Although the genesis and early history of the 1950’s is well known by now, most of them pay little or no attention  to the second decade of its existence, the 1960’s, thus neglecting the merger of the journals of ICEM and the till now further unnoticed  REMP research group and the critical notes on ICEM itself and its self representation for a wider public, that William Petersen put his finger on in his review."
   ]
  },
  {
   "cell_type": "markdown",
   "metadata": {
    "tags": [
     "narrative"
    ]
   },
   "source": [
    "In fact, the changes Petersen noticed coincide with the start of a new Director-General of ICEM, Dutchman Bastiaan Wouter Haveman (1908-1979), who led ICEM between 1962-1969 as the only non-American Director-General till 2018. The social-democratic chemical engineer and lawyer Haveman had been appointed Dutch Government Commissioner for Emigration in November 1950 as the Dutch Government based its socioeconomic policy on two cornerstones. In order to prevent structural unemployment, as had been the case in the 1930s world economic crises, large-scale emigration to overseas destinations was to be encouraged, in addition to industrialization (Van Faassen 2014, 2017). As Haveman was of the opinion that migration policy had to be science-based and planning was only possible if he had an insight into the migration potential of the Dutch population, he established close connections with social scientists and demographers. Haveman himself and his ministerial emigration department closely collaborated with the German political economist and demographer Gunther Beyer, who was praised in Petersen’s review as the one who ‘created and sustained the Research Group for European Migration Problems’ and who ‘achieved an enviable reputation among demographers’ (Petersen 1963, 420). Beyer was also known for his skills in ‘ enabling a dialogue between politicians and demographers possible’ (Van de Kaa 1983, 3). The research group REMP was established in 1952 in the Hague, with Beyer as secretary/editor (till his death in 1983) and a provisional board largely consisting of Dutch social scientists who together guided  and stimulated the migration research commissioned by the Dutch government.[2] At the same time, Haveman, in close collaboration with the Australian and United States ICEM-delegates at certain moments played a pivotal role in ICEM between 1959 and 1961, which resulted in his appointment on 1 January 1962 as the first non-US ICEM Director (Van Faassen 2017)."
   ]
  },
  {
   "cell_type": "markdown",
   "metadata": {
    "tags": [
     "narrative"
    ]
   },
   "source": [
    "            \n",
    "Given the close professional connections between Haveman and Beyer in the early 1950s and the fact that in the 1960s REMP and ICEM (with Haveman as new director-general) at least profiled themselves via the same journal, it is highly plausible to assume that in order to really understand the nature of ICEMs policies and its technocratic character (Geiger 2018, 39) it is necessary to further study the relation between REMP and ICEM.  We argue that especially the constitutive years of ICEM are key to understanding how and which actors from both science and politics were able to be of influence on ICEM’s decision-making processes. By using the concept of discourse coalitions – defined by Wagner (as cited in Raphael 2012) as constellations at any given time in which social scientists develop ideas ‘that strengthen the arguments of a group of actors in the political system, whose policies might, in turn, support the standing of these scientists in academia’ –  we are able to lay bare networks of technocrats (on basis of their publications) shaping migration management interactively with national governments. We asked ourselves: can Petersen’s observation based on the first issue of International Migration, be substantiated through time and what does it tell us about the character of ICEM? Can we see REMP as the discourse coalition on migration management? If so, how did the discourse coalition evolve into an international version and can we actually see developments in discourse (a discursive development)? As neither REMP nor ICEM left many open access archival collections, we also had to address some methodological issues: how can we investigate these questions and make it plausible? What resources do we need? Is it possible to conduct this type of research based on long-running journals like IM by using the information that is publicly available onlineonly using their series of metadata and title content? How do we connect analog and digital sources?"
   ]
  },
  {
   "cell_type": "markdown",
   "metadata": {
    "tags": [
     "narrative"
    ]
   },
   "source": [
    "In the following sections we first explore the concept of discourse coalitions <and technocracy> and will compare the most recent studies on ICEM with previous archival research on REMP, ICEM and their connections with the Dutch emigration governance system. Following this, we present our digital sources, discuss missing links in some of them and present the methodological translation we had to make to answer our main research questions. Finally we analyse and explain our results <for  10 years windows in order to make possible shifts in the discourse networks and the discourse itself visible> and address the robustness of our choices."
   ]
  },
  {
   "cell_type": "markdown",
   "metadata": {
    "tags": [
     "title"
    ]
   },
   "source": [
    "## REMP, ICEM and the Dutch connection"
   ]
  },
  {
   "cell_type": "markdown",
   "metadata": {
    "tags": [
     "narrative"
    ]
   },
   "source": [
    "Technocracy tends to present itself as ‘above politics’, but in the last decades scholars have been actively demystifying the technocratic conception of policy analysis as neutral ‘science’, thus bringing to the surface the politics that is inherent in it. (Fischer 1995; Nord 2010; Habermas 2015). Technocracy is often defined as controlling or replacing democratic deliberation, which is usually based on finding a compromise between conflicting interests,  with a more neutral sounding science-based governance discourse where political issues more or less are transformed into undisputed, technically defined ends that can be pursued through administrative means. Although Lutz (2012) does not focus on ‘technocracy’ as such he argues that discourse coalitions originate in the desire to make scientifically informed policy. Therefore, his suggestion to study the impact of ‘expertise’ by a combined analysis of both the networks of actors from different backgrounds in academia, administration and political parties and the networks of discourses they produce is in fact a helpful tool to unravel the technocratic character of certain issues in politics, because it lays bare how the concepts and arguments of the social and human sciences got linked to the political domain and vice-versa. Thus, Lutz argues, using the concept of discourse coalitions requires  elementary prosopographic evidence (whenever available), but also a keen eye for the actual genesis of possible expert groups. Below, we first discuss the founding years of the Dutch emigration governance system, REMP and especially the predecessor of ICEM, the Provisional Intergovernmental Committee for the Movement of Migrants from Europe (PICMME). By using Lutz’ typology of the configuration of discourses and metaphors used in those periods we study the initial connections between social science expertise and international migration. This analysis gives rise to conclusions and questions about the relation between REMP and ICEM and to sub questions to select our sources and construct our datasets to answer our main research questions. "
   ]
  },
  {
   "cell_type": "markdown",
   "metadata": {
    "tags": [
     "narrative"
    ]
   },
   "source": [
    "The merger in 1961 between the REMP-bulletin and ICEMs magazine that William Petersen reviewed coincided with the start of the Dutchman Bas Haveman as the new Director-General of ICEM. Haveman was a social-democratic chemical engineer and lawyer and had been appointed Dutch Government Commissioner for Emigration in November 1950. But both Haveman and REMP already had a history, that is important to understand the genesis of REMP. The roots of the Dutch migration policies lie at the end of the 19th and the first half of the 20th century, periods that are characterized by discourses on ‘social reform’, targeted on the ‘working poor’  (1880-1910) and ‘social engineering’ (1910-1940). According to Lutz (2012), especially after World War I the interventions were grounded in social science research and were based on arguments concerning ‘fear of degeneration’ and - more positively formulated - ‘national recovery’, with discourses around ‘demography’ , ‘community’ or ‘eugenics'. The Dutch migration policies fit well into Lutz’ characterization of the impact of expert-influence in the Western societies in general. "
   ]
  },
  {
   "cell_type": "markdown",
   "metadata": {
    "tags": [
     "narrative"
    ]
   },
   "source": [
    "Although today’s polarized debates on economic migration seem to suggest otherwise, for more than a century states have considered (international) migration – and thus the regulation of it - as a sound instrument for the (re)allocation of labour. In 1913, the Netherlands Association for Resettlement (landverhuizing)  was founded, as a hybrid private-public organization. Amongst its initiators were the liberal Minister of Agriculture Willem Treub and an engineer from Delft Polytechnic University, Isaac Pieter de Vooys. Both were still working on their final report by the State Commission on Unemployment, in which they explored internal and international migration as possible solutions (Van Faassen 2014).  De Vooys was also part of an intellectual movement that has been described as synthetic technocracy, that was looking for  a synthesis that would bridge ideological differences and thus stop the fragmentation of Dutch society which was divided along religious lines (so called pillarization) at that time, and that paralyzed Dutch political decision-making in their view. "
   ]
  },
  {
   "cell_type": "markdown",
   "metadata": {
    "tags": [
     "narrative"
    ]
   },
   "source": [
    "During the interbellum their quest became increasingly connected with proposals for educational reform (Baneke 2011, 91)  and the movement began to coincide with the educational program of the socially engaged Professor Sebald Steinmetz. He developed a new research style called ‘sociography’ (the predecessor of sociology) focussing on empirical research on Dutch social groups and communities in relation to different people internationally. One of his students initiated the so-called People’s High School Movement in the Netherlands. This had comparable aims to the technocrats and attracted other Dutch  sociographers, like Hofstee and Bouman who later also played a role in REMP. During the world wide economic crisis of  the 1930s the Friesland High School organized combined employment and emigration courses, thus creating the possibilities for demography-based politics. One of the teachers was the Delft engineer Bas Haveman, who had previously been the secretary of the “Stichting Nederlands Volkskracht” (Dutch People's Power Foundation) that aimed at moral and physical  training of unemployed youth, to prevent ‘moral decay’ and to stimulate ‘community spirit’ (gemeenschapszin) especially to bridge the then perceived gaps in mentality between city and countryside (Van Faassen, 2014, Van Faassen and Hoekstra 2017)."
   ]
  },
  {
   "cell_type": "markdown",
   "metadata": {
    "tags": [
     "narrative"
    ]
   },
   "source": [
    "After World War II social engineering did not disappear, but emanating in the USA and the UK, it became instrumental for establishing a peaceful and above all a ‘planned modernization’, in which welfare states could be extended, according to Lutz (2012). Metaphors for this modernization discourse were ‘assimilation’ and 'adaptation’. Again the Netherlands were no exception to the general picture. Already during the war the Dutch government had started to investigate possibilities for a so-called active migration policy, emanating from a Keynesian aspiration for full employment. It based its post-World-War II socioeconomic policy on two cornerstones. In order to prevent structural unemployment, industrialization was to be encouraged. In addition, large-scale family emigration to overseas destinations was stimulated and facilitated. This not only enabled the Dutch government to manipulate the supply side of the labour market, but also to avoid at that time still unwanted demographic solutions like birth control in the still religious Netherlands, which had the highest increase in population forecast till the 1960s, due to its sky high birth rates (UN Population forecast 1951; Van Faassen 2014, Van Faassen and Hoekstra 2017). Not surprisingly, when Haveman was appointed Government Commissioner for Emigration in 1950 he believed that migration policy had to be science-based and planning was only possible if he had an insight into the migration potential of the Dutch population. "
   ]
  },
  {
   "cell_type": "markdown",
   "metadata": {
    "tags": [
     "narrative"
    ]
   },
   "source": [
    "Therefore he established close connections between his Commissioner’s Office of Emigration, based at the ministry of Social Affairs and social scientists and demographers, most of them from his former High School networks. He also established new acquaintances. Amongst them was the German political economist and demographer Gunther Beyer, who fled to the Netherlands in <1935>. Beyer was praised in Petersen’s review as the one who ‘created and sustained the Research Group for European Migration Problems’ - he was editor of the REMP-publication series till his death in 1983 - and who ‘achieved an enviable reputation among demographers’ (Petersen 1963, 420). According to his biographer, Beyer was also known for his skills in ‘facilitating a dialogue between politicians and demographers’ (Van de Kaa 1983, 3). Haveman met Gunther Beyer when they both were introduced to the American Delegation during its stopover in The Hague, just before the start of the founding Conference of PICMME in Brussels, Belgium in november 1951, and only a few months before REMP was established in March 1952 (IISG, collection Beyer, inv.nr. 33)."
   ]
  },
  {
   "cell_type": "markdown",
   "metadata": {
    "tags": [
     "narrative"
    ]
   },
   "source": [
    "In his latest analysis of IOM, Geiger (2018) does not connect   the founding of IOM’s predecessor PICMME with the history of the International Labour organization (ILO), the International Refugee Organization (IRO) and the United Nations High Commissioner on Refugees (UNHCR), although it was part of older ILO-studies (Alcock 1971). This interconnectedness is of importance for recognizing some of the technocratic arguments that accompanied the establishment of PICMME/ICEM, to better understand its longtime existence outside the UN as well as the Dutch influence in ICEM. The Netherlands took an active part in the international emigration debate after World War II, in which every country had its own agenda, while humanitarian and economic arguments concerning manpower became inseparably linked to arguments on collective security due to quickly deteriorating East-West relations.  Another element of Haveman’s job was strengthening international contacts. He acquired his first international experience as a social-economic expert in the Dutch delegation to the United Nations (UN) as a member of the Special Committee on Refugees and Displaced Persons, that  set up the International Refugee Organization (IRO) in 1946, a temporary UN-agency in which the Eastern (communist) European countries decided not to participate. In this role Haveman worked closely with United States (US) delegate George L. Warren, who was the State Department’s advisor on refugees and later became the head of the American delegation to ICEM till the mid-1960s (Van Faassen 2014, 2017)."
   ]
  },
  {
   "cell_type": "markdown",
   "metadata": {
    "tags": [
     "narrative"
    ]
   },
   "source": [
    "In the early 1950s, it was unclear which international institutions would regulate and be able to finance refugee and migrant flows. By the time the mandate of the IRO had expired at  the end of the 1940s the refugee problem had still not been resolved. The UN subsequently decided to establish the Office of the UN High Commissioner for Refugees (UNHCR), but with only a small administrative budget and at first without an operational mandate  (Salomon 1991, Zieck 1997). Due to Cold War considerations and the ‘white’ migration policies of Canada and Australia, the Western countries were also looking for a continuation of the IRO services outside of the UN system with its communist and ‘non-white’ member states. The International Labour Organization tried to enhance its position by arguing that migration traditionally was a ‘labour-’ issue and therefore should ressort under ILO. In 1951, Haveman convinced the Dutch government that ILO should not emerge as winner of the battle over the IRO’s material legacy (the fleet, personnel and an administrative budget augmented by a US bonus of ten million dollars), even though the current social-democratic Dutch government initially favoured the ILO option because of the tripartite composition of its governing and plenary bodies with union and employers delegates. Haveman informed the Dutch government that during his travels to Canada and Australia, he had experienced resistance to ILO interference due to the non-Western input that was difficult to combine with the de facto white migration policy of both countries. Haveman had also been in touch with Warren and learned that the US Congress would not finance any operational ILO migration work due to strong anti-ILO forces in US domestic politics. As a result the Netherlands supported the solution,  of allocating the IRO legacy for one year to the PICCME, which was instigated and presented by US Congressman Francis E. Walter at the conference in Brussels in November 1951.  "
   ]
  },
  {
   "cell_type": "markdown",
   "metadata": {
    "tags": [
     "narrative"
    ]
   },
   "source": [
    "PICMME presented itself as purely a transport organization for refugees and displaced persons, temporarily offering technical solutions for what was publicly stressed as a humanitarian problem. However, internally the member states had agreed that its main function was to encourage and facilitate the economic migration of labour surplus from a disrupted Europe, giving  this ‘depoliticized’ agreement in fact a highly political background. The preference for bilateral contacts on migration remained, while at the same time ICEM facilitated multilateral discussions without asking for too much collective commitment from the member states because of its temporary status outside the UN-system. Therefore, in the long run it could even function as a safety valve for an integrating Europe: the moment the free movement of people within Europe actually would be regulated  - in which Germany and the Netherlands would likely become the ‘receiving’ countries - this inflow could be compensated by facilitating the overseas emigration of their own nationals using PICMME / ICEM facilities  (Van Faassen 2014, Parsanoglu 2015). One of the advantages of this ‘light’ construction was that PICMME’s and from 1953 onwards  ICEM’s Executive Board, on which the Netherlands had an almost permanent seat until the 1970s, was only accountable to its own Council and thus could stay under the radar of the national parliaments. "
   ]
  },
  {
   "cell_type": "markdown",
   "metadata": {
    "tags": [
     "narrative"
    ]
   },
   "source": [
    "The day in november 1951 that Gunther Beyer met Haveman at the US embassy in the Hague, Beyer was invited to inform Congressman Walter and the other American delegates about the plans he had developed since May 1950 to establish an international research group on European migration and refugee problems. This group, which would eventually become the Research Group of European Migration Problems (REMP) in 1952, initially was a bilateral Dutch-German initiative. Gunther Beyer at that moment still was the only formal Dutch representative together with the German Bildungsökonom (education economist) Friedrich Edding, who worked at the Institut für Weltwirtschaft in Kiel. The aims of the research group was to find solutions for the fact that - in their analysis - the relations between population density, the age distribution, the labour potential and the national earning capacity had become so stressed in the second half of the 1940s, that there was a serious risk of social unrest that could endanger prosperity and that could only partially be solved on a national basis. As these Dutch and German researchers were ‘convinced that the integration of the national economies must be accompanied by free migration of labour’, they decided to join forces in order to investigate possible migration problems within Europe. The first studies were published in the spring of 1951 and offered to the US-delegation during the november meeting. Beyer stressed that the idea was to extend this research group ‘by inviting personalities from all nations, who are ready and able, by their scientific qualifications and practical experience, to co-operate on a basis free of national, party political and confessional bias’ (all citations IISG, collection Beyer, inv.nr.33). "
   ]
  },
  {
   "cell_type": "markdown",
   "metadata": {
    "tags": [
     "narrative"
    ]
   },
   "source": [
    "In March 1952 the Research Group formally was established in The Hague. Beyer was appointed secretary and editor-in-chief. The Dutch sociographer Pieter Bouman, professor at Groningen University and personal friend of Government Commissioner Haveman, had been appointed to form the first board of directors. The provisional managing committee consisted of the Utrecht professor and sociographer Sjoerd Groenman and the catholic economist and sociographer professor George Zeegers. In its Mission Statement, REMP highlighted the ‘threat of overpopulation’ for the future prosperity of mankind. Regional unemployment and a falling standard of living could be the results of the disproportional distribution of humanity over the earth. They considered it ‘the imperative duty of scientists and statesmen …to concern themselves with these local disharmonies, by studying them and if possible by indicating solutions to the present difficulties’ (IISG, collectie Beyer, inv.nr. 30). "
   ]
  },
  {
   "cell_type": "markdown",
   "metadata": {
    "tags": [
     "narrative"
    ]
   },
   "source": [
    " In July 1952 the Research Group organised its first international meeting to discuss its initial plans as expressed in a working paper. As Beyer had been invited by the Americans before the PICMME conference, in return the American Porter Jarrell was invited as an observer on behalf of Pierre Jacobsen, the deputy director of PICMME. He resolutely amended the REMP’s intended research plans, which were primarily focussed on intra-European migration. First he outlined PICMME’s activities: organising migrant transportation via field offices in Germany, Austria, Italy, Trieste and via chartered shipping from the Netherlands to Australia, Brazil, the USA and Venezuela and participating in bilateral agreements. Then he concluded that being so close to the day to day operation, PICMME realised that it might lose sight of the larger demographic implications of its work and therefore looked forward to the scientific studies of the Research Group ‘as possible guideposts for our program in the future’. However, to his view the Research Group was too much confined to intra-European migration only, probably because of ‘a certain distrust of overseas emigration as a cause for the weakening of the basic demographic structure of Europe.’ Jarrell argued that this was not necessary as both sending and receiving states were represented in PICMME. Thus PICMME offered the opportunity to counteract this danger by experimenting with the development of certain flexible controls concerning size, direction and composition of the outflow: ‘If the Research Group were to consider overseas migration it could well recommend to the various governments the nature of the “flexible controls” which might prove scientifically desirable’. The day after Jarrell left the conference Beyer sent him a letter to confirm that the REMP members fully shared Jarrell’s view and would also take overseas emigration into account as an object for study and advice. (all citations IISG, collectie Beyer, inv.nr.31)."
   ]
  },
  {
   "cell_type": "markdown",
   "metadata": {
    "tags": [
     "narrative"
    ]
   },
   "source": [
    "It can be concluded not only that the actual founding of REMP and PICMME coincided, but, via the Dutch connection, also that the mutual lobbying and influencing already started during the formative months. The initial discourses concerning labour, population density and demography indicate that the historical actors concerned believed in a makeable welfare society, in which one possible instrument was social engineering via regulating quantity and type of in- and outflow within the respective national populations of the member states. In the Netherlands this was called ‘guided (geleide migratie)’ or ‘planned migration’ (Petersen 1955) and part of the ‘planned modernization’ discourse, as defined by Lutz. However, with Lutz’ remarks on prosopographic evidence in mind, to really substantiate that this expert group in the long run formed a discourse coalition on ‘migration’ and to be able to discover and explain shifts in the presumed networks of actors and discursive elements, we have to establish who were the key scientists involved, and who were the key political actors. How were they connected to the key political actors and institutions mentioned above? And finally: what were the topics of this discourse and how did they develop? In the next section we reflect on the choices of sources and data and on the methodological choices we had to make to start answering these questions."
   ]
  },
  {
   "cell_type": "markdown",
   "metadata": {
    "tags": [
     "narrative",
     "title"
    ]
   },
   "source": [
    "## The REMP network"
   ]
  },
  {
   "cell_type": "markdown",
   "metadata": {
    "tags": [
     "narrative"
    ]
   },
   "source": [
    "REMP was an informal association of social scientists that is much closer to political policy making (both national and international) than was previously known from the literature. This would make it an informal technocratic association, because of the association and the exchange of knowledge between public administrators and scientists. On the one hand this makes administration (in this case migration management) supposedly more rational because it is based on research and scientific insights. But at the same time, this kind of technocratic associations\n",
    "\n",
    "- make policy making less transparant and less subject to democratic checking point of view and\n",
    "- science may be used as a justification of politically motivated motives; assuming that the research itself still conforms to scientific standards, it is relevant to compare the choice of subjects with the political agenda."
   ]
  },
  {
   "cell_type": "markdown",
   "metadata": {
    "tags": [
     "title"
    ]
   },
   "source": [
    "### Research Questions"
   ]
  },
  {
   "cell_type": "markdown",
   "metadata": {
    "tags": [
     "method",
     "hermeneutics"
    ]
   },
   "source": [
    "Researching the discourse coalition consists of two parts. We first have to make it probable that there were networks that together can be considered to form a discourse coalition because of the involvement of both researchers and admistrators. After the existence of this association is made likely, we can investigate what research content was produced in the networks. Both REMP and ICEM published journals and other research. To see if and how it was influenced by the REMP/ICEM discourse coalition, we will compare it with contemporary research about migration from a journal that was not associated with either REMP or ICEM. "
   ]
  },
  {
   "cell_type": "markdown",
   "metadata": {
    "tags": [
     "title"
    ]
   },
   "source": [
    "#### From Concept to Research Strategy"
   ]
  },
  {
   "cell_type": "markdown",
   "metadata": {
    "tags": [
     "narrative"
    ]
   },
   "source": [
    "We are trying to establish the existence of a discourse coalition, that is to say associations between scientists and policy makers, who are usually part of administration. The separation between scientists and public administration is by no means absolute Of course, the discourse coalition evolved over time as persons were associated with each other and how. \n",
    "\n",
    "A discourse coalition is a concept, an analytical construct that is used to characterize a perceived association between researchers and public administrators based on discursive characteristics. It may to be methodologically constructed from available evidence in two ways:\n",
    "\n",
    "- by close reading archival materials in which the association betweeen public administrators and researchers is mentioned, either implicitly or explicitly. \n",
    "- by measuring the association between researchers and public administrators in one or more networks. In this case, we are talking about several networks as migration management was a long running an increasingly international issue that had to face challenges that changed over the years.\n",
    "\n",
    "In the analysis of the REMP network and its interactions we have taken the following landmark years as our guidelines. They derive from the introductory narrative above. (**XXX how do we integrate this?**)\n",
    "\n",
    "- 1952 formal foundation of REMP (Beyer / sociologists like Hofstee); sociologists have an important influence on Dutch emigration from the moment of appointment of Haveman (nov.1950); it is integrated into the work of the _Commissariaat voor de Emigratie_ by way of _Studies over NL emigratie_\n",
    "\n",
    "- 1958-1962 publication of the most important Dutch emigration studies (supporting policies)\n",
    "\n",
    "- 1961-1967 Haveman director-general of ICEM (with the help of USA en Australie). (**XXX the following should probably go somewhere else**) In this period there is a shift in the political debate from emigration as a result of 'surplus labour from Europe' and 'overpopulation Europa' to 'development aid and Latijns Amerika. In NL a ministry of Development Cooperation is established that the Farming Lobby once again uses to finance emigration by farmers from their support group (now known as knowledge migration). NL  closely follows USA policies in this respect and Haveman is partially responsible for the execution. Attention shifts to Latin America in ICEM, inspired by Haveman (= knowledge based on archival research) \n",
    "\n",
    "- ICEM was founded in 1952, the successor to PICMME and the predecessor of ICM (1980) and finally IOM (1989)\n",
    "> matched by rapid expansion from a relatively small agency into one with an annual operating budget of an estimated $1.5 billion and more than 10,000 staff working in over 150 countries worldwide.\n",
    "\n",
    "[https://www.iom.int/iom-history], \n",
    "also see schema in Van Faassen, _polder en emigratie_, 126 \n",
    "\n",
    "In terms of network research:\n",
    "\n",
    "1. did REMP function as a nexus between public officials and social scientists in the 1950s, and how did this function\n",
    "2. ICEM was founded in approximately the same time as REMP. They appear to have gotten closer ties from 1961, when the _REMP bulletin_ became part of the _International Migration_ journal\n",
    "2. was the REMP science-officials nexus carried over and elaborated in ICEM in the 1960s and beyond\n",
    "3. at what time did the connection cease or transform and was there a relation with the change of ICEM into IOM"
   ]
  },
  {
   "cell_type": "markdown",
   "metadata": {
    "tags": [
     "narrative"
    ]
   },
   "source": [
    "Our research materials consist of both types of materials. The archival materials that lend themselves for close reading mainly stem from the early 1950s (**XXX make explicit: archive Beyer, REMP, sociale zaken?**). ICEM and its successor IOM are international organizations, of which the archives are essentially closed for researchers. As it is, from the REMP archives it is clear that both REMP and ICEM originated at the same time in the early 1950s and in their inception involved many of the same people, even if they were separate organizations.\n",
    "\n",
    "We have different long-running datasets that make it possible to establish the overlap between the different organizations involved. Because we are talking about a research-adminstrative coalition the datasets are from research and from the administration, that is the relevant boards and governments involved with REMP and ICEM. As researchers publish, covering scientific output is more fine-grained than administrative positions."
   ]
  },
  {
   "cell_type": "markdown",
   "metadata": {
    "tags": [
     "title"
    ]
   },
   "source": [
    "#### Data sets"
   ]
  },
  {
   "cell_type": "markdown",
   "metadata": {
    "tags": [
     "hermeneutics"
    ]
   },
   "source": [
    "The research material consists of the following datasets:\n",
    "\n",
    "1. REMP Board membership lists from 1952, 1954 and 1969 and a supplement from 1961.\n",
    "    - this allows us to establish who were active in REMP even if they did not publish\n",
    "2. authors, editors, preface writers and funders from the _Studies over NL emigratie_\n",
    "    * Studies in Social Life (1953-1974, only migration studies)\n",
    "    * REMP Bulletins Supplements (1954-1984)\n",
    "    - these allow us to establish the connection between the public administrators and the scientists (but all in equal measure?)\n",
    "3. authors from the REMP bulletin (1952-1962). REMP bulletin was edited by Günther Beijer from 1952. It started out as an informal newsletter but grew into a more serious publication platform for social scientists. \n",
    "    - editorialship of Beijer established a network tie with the authors of REMP bulletin\n",
    "4. in 1961 REMP Bulletin merged with _Migration/Migración_ into _Internation Migration_. IM was the official journal of the ICEM, later IOM. This is (increasingly?) clear from the (multilingual), officially anonymous editorials that have a clear policy mark.\n",
    "5. ICEM and IOM directors and deputy-directors"
   ]
  },
  {
   "cell_type": "markdown",
   "metadata": {
    "tags": [
     "method"
    ]
   },
   "source": [
    "**N.B. insert Data-Selection-Modelling notebook here, or below?** \n",
    "\n",
    "**here for data about REMP network**"
   ]
  },
  {
   "cell_type": "markdown",
   "metadata": {
    "tags": [
     "narrative"
    ]
   },
   "source": [
    "The different datasets all contain information about parts of the technocratic network of scientists and administrators in which an evolving discourse about migration and migration management was going on. However each dataset only has data about part of the network and it contains different data with overlaps in people but only partially in time. Together the sets allow for an analysis of the evolving network, that started out in the REMP and the ICEM precursor PICMME, and later was made (even) more international in the ICEM and its successors. "
   ]
  },
  {
   "cell_type": "markdown",
   "metadata": {
    "tags": [
     "header",
     "method"
    ]
   },
   "source": [
    "### Partial Networks"
   ]
  },
  {
   "cell_type": "markdown",
   "metadata": {
    "tags": [
     "method"
    ]
   },
   "source": [
    "\n",
    "The data sets make it possible to derive the following partial networks:\n",
    "    \n",
    "1. REMP board\n",
    "2. REMP Studies discourse coalition\n",
    "3. Beijer-REMP bulletin authors\n",
    "4. Association between editors authors etc of Studies series (do they all have this?)\n",
    "4. International Migration authors: \n",
    "    - overlap with REMP bulletin authors\n",
    "    - overlap with REMP administrators (probably small)\n",
    "    - overlap with ...\n",
    "5. Overlap in authors between IM, IMR, book series\n",
    "6. Overlap between administrators between NL foreign affairs, ICEM, IOM\n",
    "7. Overlap between administrators and board members of REMP, IM\n",
    "\n",
    "additional questions:\n",
    "\n",
    "- were there authors who were also active as public administrators"
   ]
  },
  {
   "cell_type": "markdown",
   "metadata": {
    "tags": [
     "title"
    ]
   },
   "source": [
    "#### Analysis"
   ]
  },
  {
   "cell_type": "markdown",
   "metadata": {
    "tags": [
     "hermeneutics"
    ]
   },
   "source": [
    "As a consequence, the analysis consists of several parts. \n",
    "   - We first establish the existence of a network and a discourse coalition in REMP. This is a network with different roles that we can visualize as a node-edges network, that visualizes the types of relations in the network.\n",
    "   - Then we establish which REMP members we also active in the ICEM network and which other people played an important role there. As the different datasets contain only a part of the network, they either contain information about the academic or the governance activities. It is not useful to visualize this as a node-edge diagram as many of the relations are not in the dataset. However, the main issue at stake is who was part of which network. Therefore we visualize the network overlap."
   ]
  },
  {
   "cell_type": "markdown",
   "metadata": {
    "tags": [
     "title"
    ]
   },
   "source": [
    "##### REMP discourse coalition"
   ]
  },
  {
   "cell_type": "markdown",
   "metadata": {
    "tags": [
     "hermeneutics"
    ]
   },
   "source": [
    "The REMP dataset makes it possible to establish the relations between researchers and public administrators most detailed as it includes indications of different roles in the publication process. The roles are:\n",
    "\n",
    "- _article authors_: authors who wrote contributions \n",
    "- _preface authors_: authors of the preface to a study\n",
    "- _introduction authors_: authors of the intro\n",
    "- _series editors_: the reseachers coordinating the publications\n",
    "- _executor_: (publishing organization?)\n",
    "- _funder_: organization that funded the research or publication\n",
    "\n",
    "The different roles make it possible to establish who contributed to research in different capacities, in this way forging a discourse coalition."
   ]
  },
  {
   "cell_type": "code",
   "execution_count": 7,
   "metadata": {
    "tags": [
     "hermeneutics"
    ]
   },
   "outputs": [],
   "source": [
    "import sys\n",
    "sys.path.append('/data/home/jupyter-jdh-artikel/.local/lib/python3.7/site-packages')\n",
    "%reload_ext autoreload\n",
    "%autoreload 2"
   ]
  },
  {
   "cell_type": "code",
   "execution_count": 8,
   "metadata": {
    "tags": [
     "hermeneutics"
    ]
   },
   "outputs": [],
   "source": [
    "import pandas as pd\n",
    "import networkx as nx\n",
    "import json\n"
   ]
  },
  {
   "cell_type": "code",
   "execution_count": 9,
   "metadata": {},
   "outputs": [],
   "source": [
    "import nx_altair as nxa\n",
    "import altair as alt"
   ]
  },
  {
   "cell_type": "markdown",
   "metadata": {
    "tags": [
     "title"
    ]
   },
   "source": [
    "## Data preparation"
   ]
  },
  {
   "cell_type": "code",
   "execution_count": 10,
   "metadata": {
    "tags": [
     "hermeneutics"
    ]
   },
   "outputs": [],
   "source": [
    "from scripts.network_analysis import retrieve_spreadsheet_records\n",
    "\n",
    "def lowercase_headers(records:list):\n",
    "    return [dict((k.lower(), v) for k,v in record.items()) for record in records] \n",
    "\n",
    "entity_records = retrieve_spreadsheet_records(record_type='entities')\n",
    "entity_records = lowercase_headers(entity_records)\n",
    "#print('Number of records:' , len(entity_records))\n"
   ]
  },
  {
   "cell_type": "code",
   "execution_count": 11,
   "metadata": {
    "tags": [
     "hermeneutics"
    ]
   },
   "outputs": [],
   "source": [
    "# index each person entity with their category (academic, technocrat)\n",
    "def get_entity_name(entity: dict, ):\n",
    "    name_labels = ['prs_surname', 'prs_infix', 'prs_initials']\n",
    "    if entity['prs_infix'] != '':\n",
    "        return f\"{entity['prs_surname']}, {entity['prs_infix']}, {entity['prs_initials']}\"\n",
    "    else:\n",
    "        return f\"{entity['prs_surname']}, {entity['prs_initials']}\"\n",
    "\n",
    "entity_roles = {get_entity_name(record): [record['prs_role1'], record['prs_role2'], record['prs_role3']] for record in entity_records}\n",
    "for k in entity_roles:\n",
    "    nr = [e for e in entity_roles[k] if e !='']\n",
    "    entity_roles[k]=nr\n",
    "#entity_roles\n",
    "entity_category = {get_entity_name(entity = record): record.get('prs_category') or 'unknown' for record in entity_records}"
   ]
  },
  {
   "cell_type": "code",
   "execution_count": 12,
   "metadata": {
    "tags": [
     "hermeneutics"
    ]
   },
   "outputs": [],
   "source": [
    "from scripts.network_analysis import retrieve_spreadsheet_records\n",
    "\n",
    "relationship_records = retrieve_spreadsheet_records(record_type='relationships')\n",
    "#len(relationship_records)"
   ]
  },
  {
   "cell_type": "code",
   "execution_count": 13,
   "metadata": {
    "tags": [
     "hermeneutics"
    ]
   },
   "outputs": [
    {
     "data": {
      "text/plain": [
       "Index(['series', 'volume', 'year', 'article_author1_surname',\n",
       "       'article_author1_infix', 'article_author1_initials',\n",
       "       'article_author2_surname', 'article_author2_infix',\n",
       "       'article_author2_initials', 'preface_author1_surname',\n",
       "       'preface_author1_infix', 'preface_author1_initials',\n",
       "       'preface_author2_surname', 'preface_author2_infix',\n",
       "       'preface_author2_initials', 'intro_author1_surname',\n",
       "       'intro_author1_infix', 'intro_author1_initials',\n",
       "       'intro_author2_surname', 'intro_author2_infix',\n",
       "       'intro_author2_initials', 'executor_org', 'funder', 'client',\n",
       "       'editor_surname', 'editor_infix', 'editor_initials', 'volume_title'],\n",
       "      dtype='object')"
      ]
     },
     "execution_count": 13,
     "metadata": {},
     "output_type": "execute_result"
    }
   ],
   "source": [
    "pd.DataFrame().from_records(relationship_records).columns"
   ]
  },
  {
   "cell_type": "code",
   "execution_count": 14,
   "metadata": {
    "tags": [
     "hermeneutics"
    ]
   },
   "outputs": [],
   "source": [
    "from itertools import chain\n"
   ]
  },
  {
   "cell_type": "code",
   "execution_count": 15,
   "metadata": {
    "tags": [
     "hermeneutics"
    ]
   },
   "outputs": [],
   "source": [
    "er = list(set(chain.from_iterable(entity_roles.values())))\n"
   ]
  },
  {
   "cell_type": "code",
   "execution_count": 16,
   "metadata": {
    "tags": [
     "hermeneutics"
    ]
   },
   "outputs": [],
   "source": [
    "{'vice-chair_BoD':'REMP director',\n",
    " 'Dep_dir_ICEM':'ICEM',\n",
    " 'chair_MC':'REMP board',\n",
    " 'AB':\"REMP board\",\n",
    " 'Correspondent':\"correspondent\",\n",
    " 'member _MC':\"REMP board\",\n",
    " 'chair_BoD':\"REMP director\",\n",
    " 'member_BoD':\"REMP director\",\n",
    " 'founder':\"founder\",\n",
    " 'editor':\"editor\",\n",
    " 'member_MC':\"REMP board\"}\n",
    "\n",
    "roled = {'author':['article_author1_surname','article_author2_surname'],\n",
    " 'preface_author':['preface_author1_surname','preface_author2_surname'],\n",
    " 'intro_author':['intro_author1_surname','intro_author2_surname'],\n",
    " 'executor':['executor_org'], \n",
    " 'funder':['funder'],\n",
    " 'client':['client'],\n",
    " 'editor':['editor_surname'],\n",
    " 'unknown':['']}\n",
    "\n",
    "rroled = {w:k for k,v in roled.items() for w in v}"
   ]
  },
  {
   "cell_type": "code",
   "execution_count": 17,
   "metadata": {
    "tags": [
     "hermeneutics"
    ]
   },
   "outputs": [],
   "source": [
    "categorized_persons = retrieve_spreadsheet_records(\"categories\")\n",
    "categorized_persons = lowercase_headers(categorized_persons)"
   ]
  },
  {
   "cell_type": "code",
   "execution_count": 18,
   "metadata": {
    "scrolled": true,
    "tags": [
     "hermeneutics"
    ]
   },
   "outputs": [],
   "source": [
    "from collections import defaultdict, Counter\n",
    "\n",
    "from scripts.network_analysis import extract_record_entities\n",
    "\n",
    "def get_entity_category(entity: dict):\n",
    "    if entity.get('entity_name') in entity_category:\n",
    "        return entity_category[entity['entity_name']] \n",
    "    else:\n",
    "        return 'unknown'\n"
   ]
  },
  {
   "cell_type": "code",
   "execution_count": 19,
   "metadata": {
    "scrolled": true,
    "tags": [
     "hermeneutics"
    ]
   },
   "outputs": [],
   "source": [
    "from collections import defaultdict, Counter\n",
    "record_entities = defaultdict(list)\n",
    "entity_count = Counter()\n",
    "entity_role_count = Counter()\n",
    "for ri, record in enumerate(relationship_records):\n",
    "    entities = extract_record_entities(record)\n",
    "    record_entities[ri].append(entities)\n",
    "    entity_count.update([entity['entity_name'] for entity in entities if 'entity_name' in entity])\n",
    "    entity_role_count.update([entity['entity_role'] + ' ' + entity['entity_name'] for entity in entities if 'entity_name' in entity])\n",
    "    for entity in entities:\n",
    "        if entity['entity_type'] == 'person':\n",
    "            entity['entity_type'] = get_entity_category(entity)\n",
    "        # print(entity)\n",
    "    # print(ri)\n",
    "    \n",
    "    "
   ]
  },
  {
   "cell_type": "code",
   "execution_count": 20,
   "metadata": {
    "tags": [
     "hermeneutics"
    ]
   },
   "outputs": [],
   "source": [
    "def make_nodes(entity):\n",
    "    return [n.get('entity_name') for n in entity if n.get('entity_name')]\n",
    "    \n",
    "def make_link_from_entity(entity, revnodelist):\n",
    "    counter = []\n",
    "    authors = [n.get('entity_name') for n in entity if n.get('entity_role')=='article_author']\n",
    "    links = []\n",
    "    for aut in authors:\n",
    "        autnr = revnodelist[aut]\n",
    "        counter.append(autnr)\n",
    "        for node in entity:\n",
    "            if node.get('entity_role') != 'article_author':\n",
    "                if node.get('entity_role'): # we don't include titles\n",
    "                    category = node.get('entity_role') or \"unknown\"\n",
    "                    target = revnodelist[node.get('entity_name')]\n",
    "                    graphnode = rempgraph.nodes()[target]\n",
    "                    if graphnode.get('category'):\n",
    "                        graphnode['category'].append(category)\n",
    "                    else:\n",
    "                        graphnode['category']= [category]\n",
    "                    link = (autnr, target, {\"link_type\": node.get('entity_role') or 'unknown'})\n",
    "                    links.append(link)\n",
    "                    counter.append(target)\n",
    "    \n",
    "    return links, counter"
   ]
  },
  {
   "cell_type": "code",
   "execution_count": 21,
   "metadata": {
    "tags": [
     "hermeneutics"
    ]
   },
   "outputs": [],
   "source": [
    "nodelist = []\n",
    "for rentity in record_entities:\n",
    "    nodelist.extend(make_nodes(record_entities[rentity][0]))\n",
    "nodelist = list(set(nodelist))\n",
    "revnodelist = {}\n",
    "rempgraph = nx.Graph()\n",
    "for node in enumerate(nodelist):\n",
    "    rempgraph.add_node(node[0], id=node[0], name=node[1])\n",
    "    revnodelist[node[1]]=node[0]"
   ]
  },
  {
   "cell_type": "code",
   "execution_count": 22,
   "metadata": {
    "tags": [
     "hermeneutics"
    ]
   },
   "outputs": [],
   "source": [
    "linklist = []\n",
    "counter = Counter()\n",
    "for rentity in record_entities:\n",
    "    links, cntr = make_link_from_entity(record_entities[rentity][0], revnodelist)\n",
    "    linklist.extend(links)\n",
    "    counter.update(cntr)"
   ]
  },
  {
   "cell_type": "code",
   "execution_count": 23,
   "metadata": {
    "tags": [
     "hermeneutics"
    ]
   },
   "outputs": [],
   "source": [
    "# communities = list(nx.community.label_propagation_communities(graph))\n",
    "my_communities = {\n",
    " 'ICEM':{'Appleyard, R.T.',\n",
    "  'Balhana, A.Pilatti',\n",
    "  'Beijer, G.',\n",
    "  'Beld, van den, C.A.',\n",
    "  'Belshaw, H.',\n",
    "  'Borrie, W.D.',\n",
    "  'Cidor, H.A.',\n",
    "  'Dorpema, H.',\n",
    "  'Fagley, R.',\n",
    "  'Geyl, W.F.',\n",
    "  'Glinstra Bleeker, van, R.J.P.',\n",
    "  'Gottmann, J.',\n",
    "  'Hack, H.',\n",
    "  'Herberle, R.',\n",
    "  'Heyn, H.',\n",
    "  'Hyrenius, H.',\n",
    "  'Kraak, J.H.',\n",
    "  'Luckham, B.',\n",
    "  'Lyon, A.V.',\n",
    "  'MacKay, M.C.J.',\n",
    "  'Mackenroth, G.',\n",
    "  'Mannoni, E.',\n",
    "  'Maris, A.',\n",
    "  'Mast, van der, W.',\n",
    "  'Mol, J.J.',\n",
    "  'Nixon, J.W.',\n",
    "  'Olsson, B.',\n",
    "  'Orleans, L.A.',\n",
    "  'Paulson, B.',\n",
    "  'Peltier, R.',\n",
    "  'Pressat, R.',\n",
    "  'Price, C.A.',\n",
    "  'Putten, v.d., A.',\n",
    "  'Rees, E.',\n",
    "  'Reid, I.D.A.',\n",
    "  'Richardson, A.',\n",
    "  'Rosenfield, H.N.',\n",
    "  'Rubin, E.',\n",
    "  'Schmitz, J.P.G.',\n",
    "  'Sjollema, B.Ch.',\n",
    "  'Starr, M.',\n",
    "  'Timlin, M.F.',\n",
    "  'Weinberg, A.A.W.',\n",
    "  'Wentholt, R.',\n",
    "  'Witcover, J.',\n",
    "  'Witkamp, T.','ICEM'},\n",
    " 'REMP':{'Beijer, G.',\n",
    "         'Bastos de Avila, F.',\n",
    "  'Bouman, P.J.',\n",
    "  'Brackel, P.O.M.',\n",
    "  'Brink, van den , T.',\n",
    "  'Brink, van den, T',\n",
    "  'Camillo de Oliveira, A.',\n",
    "  'Citroen, H.A.',\n",
    "  'Davis, K.',\n",
    "  'Edding, F.',\n",
    "  'Gadolin, de, A.',\n",
    "  'Glass, D.V.',\n",
    "  'Groenman, Sj.',\n",
    "  'HWvanLoon Fellowship, NL regering',\n",
    "  'Hofstee, E.W.',\n",
    "  'Institute of International Education',\n",
    "  'Ipsen, G.',\n",
    "  'Isaac, J.',\n",
    "  'Klompe, M.',\n",
    "  'Lannes, X.',\n",
    "  'Mill, van, A.N.',\n",
    "  'Oudegeest, J.J.',\n",
    "  'Petersen, W.',\n",
    "  'REMP',\n",
    "  'Rappard, W.E.',\n",
    "  'Salin, E.',\n",
    "  'Sauvy, A.',\n",
    "  'Steigenga, W.',\n",
    "  'Verkade, W.',\n",
    "  'Verwey-Jonker, H.',\n",
    "  'Wander, H.',\n",
    "  'Zeegers, G.H.L.',\n",
    "  'Hofstede, B.P.', \n",
    "  'RCE'},\n",
    "'rest': {'Clemens, R.', 'Zubrzycki, J.', 'Godefroy, J.', 'Meyers, H.G.', 'Patijn, C.L.', 'Witkamp, F.Th.',\n",
    "         'Brepohl, W.', 'Lehmkuhler, M.','Lewis, J.N.', 'Sauvon, E.A.','Neher, L.', 'Radspieler, T.',\n",
    "         'Bentwich, N.', 'Beveridge, W.H.'}}"
   ]
  },
  {
   "cell_type": "code",
   "execution_count": 24,
   "metadata": {
    "tags": [
     "hermeneutics"
    ]
   },
   "outputs": [],
   "source": [
    "import numpy as np\n",
    "import matplotlib.pyplot as plt\n",
    "import networkx as nx\n",
    "\n",
    "def community_layout(g, partition):\n",
    "    \"\"\"\n",
    "    Compute the layout for a modular graph.\n",
    "\n",
    "\n",
    "    Arguments:\n",
    "    ----------\n",
    "    g -- networkx.Graph or networkx.DiGraph instance\n",
    "        graph to plot\n",
    "\n",
    "    partition -- dict mapping int node -> int community\n",
    "        graph partitions\n",
    "\n",
    "\n",
    "    Returns:\n",
    "    --------\n",
    "    pos -- dict mapping int node -> (float x, float y)\n",
    "        node positions\n",
    "\n",
    "    \"\"\"\n",
    "\n",
    "    pos_communities = _position_communities(g, partition, scale=3.)\n",
    "\n",
    "    pos_nodes = _position_nodes(g, partition, scale=1.)\n",
    "\n",
    "    # combine positions\n",
    "    pos = dict()\n",
    "    for node in g.nodes():\n",
    "        pos[node] = pos_communities[node] + pos_nodes[node]\n",
    "\n",
    "    return pos\n",
    "\n",
    "def _position_communities(g, partition, **kwargs):\n",
    "\n",
    "    # create a weighted graph, in which each node corresponds to a community,\n",
    "    # and each edge weight to the number of edges between communities\n",
    "    between_community_edges = _find_between_community_edges(g, partition)\n",
    "\n",
    "    communities = set(partition.values())\n",
    "    hypergraph = nx.DiGraph()\n",
    "    hypergraph.add_nodes_from(communities)\n",
    "    for (ci, cj), edges in between_community_edges.items():\n",
    "        hypergraph.add_edge(ci, cj, weight=len(edges))\n",
    "\n",
    "    # find layout for communities\n",
    "    pos_communities = nx.spring_layout(hypergraph, **kwargs)\n",
    "\n",
    "    # set node positions to position of community\n",
    "    pos = dict()\n",
    "    for node, community in partition.items():\n",
    "        pos[node] = pos_communities[community]\n",
    "\n",
    "    return pos\n",
    "\n",
    "def _find_between_community_edges(g, partition):\n",
    "\n",
    "    edges = dict()\n",
    "\n",
    "    for (ni, nj) in g.edges():\n",
    "        ci = partition[ni]\n",
    "        cj = partition[nj]\n",
    "\n",
    "        if ci != cj:\n",
    "            try:\n",
    "                edges[(ci, cj)] += [(ni, nj)]\n",
    "            except KeyError:\n",
    "                edges[(ci, cj)] = [(ni, nj)]\n",
    "\n",
    "    return edges\n",
    "\n",
    "def _position_nodes(g, partition, **kwargs):\n",
    "    \"\"\"\n",
    "    Positions nodes within communities.\n",
    "    \"\"\"\n",
    "\n",
    "    communities = dict()\n",
    "    for node, community in partition.items():\n",
    "        try:\n",
    "            communities[community] += [node]\n",
    "        except KeyError:\n",
    "            communities[community] = [node]\n",
    "\n",
    "    pos = dict()\n",
    "    for ci, nodes in communities.items():\n",
    "        subgraph = g.subgraph(nodes)\n",
    "        pos_subgraph = nx.spring_layout(subgraph, **kwargs)\n",
    "        pos.update(pos_subgraph)\n",
    "\n",
    "    return pos\n",
    "\n",
    "def test():\n",
    "    #to install networkx 2.0 compatible version of python-louvain use:\n",
    "     \n",
    "    from community import community_louvain\n",
    "\n",
    "\n",
    "    partition = community_louvain.best_partition(graph)\n",
    "    pos = community_layout(graph, partition)\n",
    "\n",
    "    nx.draw(graph, pos, node_color=list(partition.values())); plt.show()\n",
    "    return\n",
    "\n"
   ]
  },
  {
   "cell_type": "code",
   "execution_count": 25,
   "metadata": {
    "scrolled": true,
    "tags": [
     "hermeneutics"
    ]
   },
   "outputs": [
    {
     "name": "stdout",
     "output_type": "stream",
     "text": [
      "adding link REMP Wander, H.\n",
      "adding link REMP Bouman, P.J.\n",
      "adding link REMP Beijer, G.\n",
      "adding link Wander, H. Bouman, P.J.\n",
      "adding link Wander, H. Beijer, G.\n",
      "adding link Bouman, P.J. Beijer, G.\n",
      "adding link REMP Citroen, H.A.\n",
      "adding link REMP Groenman, Sj.\n",
      "adding link REMP Rappard, W.E.\n",
      "adding link REMP Beijer, G.\n",
      "adding link Citroen, H.A. Groenman, Sj.\n",
      "adding link Citroen, H.A. Rappard, W.E.\n",
      "adding link Citroen, H.A. Beijer, G.\n",
      "adding link Groenman, Sj. Rappard, W.E.\n",
      "adding link Groenman, Sj. Beijer, G.\n",
      "adding link Rappard, W.E. Beijer, G.\n",
      "adding link REMP Edding, F.\n",
      "adding link REMP Salin, E.\n",
      "adding link REMP Beijer, G.\n",
      "adding link Edding, F. Salin, E.\n",
      "adding link Edding, F. Beijer, G.\n",
      "adding link Salin, E. Beijer, G.\n",
      "adding link REMP Beijer, G.\n",
      "adding link REMP Oudegeest, J.J.\n",
      "adding link REMP Sauvy, A.\n",
      "adding link REMP Beijer, G.\n",
      "adding link Beijer, G. Oudegeest, J.J.\n",
      "adding link Beijer, G. Sauvy, A.\n",
      "adding link Beijer, G. Beijer, G.\n",
      "adding link Oudegeest, J.J. Sauvy, A.\n",
      "adding link Oudegeest, J.J. Beijer, G.\n",
      "adding link Sauvy, A. Beijer, G.\n",
      "adding link REMP Brink, van den , T.\n",
      "adding link REMP Sauvy, A.\n",
      "adding link REMP Beijer, G.\n",
      "adding link Brink, van den , T. Sauvy, A.\n",
      "adding link Brink, van den , T. Beijer, G.\n",
      "adding link Sauvy, A. Beijer, G.\n",
      "adding link REMP Gadolin, de, A.\n",
      "adding link REMP Zeegers, G.H.L.\n",
      "adding link REMP Beijer, G.\n",
      "adding link Gadolin, de, A. Zeegers, G.H.L.\n",
      "adding link Gadolin, de, A. Beijer, G.\n",
      "adding link Zeegers, G.H.L. Beijer, G.\n",
      "adding link REMP HWvanLoon Fellowship, NL regering\n",
      "adding link REMP Institute of International Education\n",
      "adding link REMP Petersen, W.\n",
      "adding link REMP Hofstee, E.W.\n",
      "adding link REMP Davis, K.\n",
      "adding link REMP Beijer, G.\n",
      "adding link HWvanLoon Fellowship, NL regering Institute of International Education\n",
      "adding link HWvanLoon Fellowship, NL regering Petersen, W.\n",
      "adding link HWvanLoon Fellowship, NL regering Hofstee, E.W.\n",
      "adding link HWvanLoon Fellowship, NL regering Davis, K.\n",
      "adding link HWvanLoon Fellowship, NL regering Beijer, G.\n",
      "adding link Institute of International Education Petersen, W.\n",
      "adding link Institute of International Education Hofstee, E.W.\n",
      "adding link Institute of International Education Davis, K.\n",
      "adding link Institute of International Education Beijer, G.\n",
      "adding link Petersen, W. Hofstee, E.W.\n",
      "adding link Petersen, W. Davis, K.\n",
      "adding link Petersen, W. Beijer, G.\n",
      "adding link Hofstee, E.W. Davis, K.\n",
      "adding link Hofstee, E.W. Beijer, G.\n",
      "adding link Davis, K. Beijer, G.\n",
      "adding link REMP Hofstee, E.W.\n",
      "adding link REMP Glass, D.V.\n",
      "adding link REMP Beijer, G.\n",
      "adding link Hofstee, E.W. Glass, D.V.\n",
      "adding link Hofstee, E.W. Beijer, G.\n",
      "adding link Glass, D.V. Beijer, G.\n",
      "adding link Sauvy, A. Beijer, G.\n",
      "adding link Mackenroth, G. Beijer, G.\n",
      "adding link Nixon, J.W. Beijer, G.\n",
      "adding link REMP Lannes, X.\n",
      "adding link REMP Mill, van, A.N.\n",
      "adding link REMP Beijer, G.\n",
      "adding link Lannes, X. Mill, van, A.N.\n",
      "adding link Lannes, X. Beijer, G.\n",
      "adding link Mill, van, A.N. Beijer, G.\n",
      "adding link Edding, F. Beijer, G.\n",
      "adding link Mast, van der, W. Beijer, G.\n",
      "adding link Gadolin, de, A. Beijer, G.\n",
      "adding link Hofstee, E.W. Groenman, Sj.\n",
      "adding link Hofstee, E.W. Beijer, G.\n",
      "adding link Groenman, Sj. Beijer, G.\n",
      "adding link Glinstra Bleeker, van, R.J.P. Beijer, G.\n",
      "adding link Sjollema, B.Ch. Beijer, G.\n",
      "adding link Beijer, G. Zeegers, G.H.L.\n",
      "adding link Beijer, G. Beijer, G.\n",
      "adding link Zeegers, G.H.L. Beijer, G.\n",
      "adding link MacKay, M.C.J. Beijer, G.\n",
      "adding link Dorpema, H. Beijer, G.\n",
      "adding link Bentwich, N. Beveridge, W.H.\n",
      "adding link Bentwich, N. Beijer, G.\n",
      "adding link Beveridge, W.H. Beijer, G.\n",
      "adding link REMP Bastos de Avila, F.\n",
      "adding link REMP Camillo de Oliveira, A.\n",
      "adding link REMP Isaac, J.\n",
      "adding link REMP Beijer, G.\n",
      "adding link Bastos de Avila, F. Camillo de Oliveira, A.\n",
      "adding link Bastos de Avila, F. Isaac, J.\n",
      "adding link Bastos de Avila, F. Beijer, G.\n",
      "adding link Camillo de Oliveira, A. Isaac, J.\n",
      "adding link Camillo de Oliveira, A. Beijer, G.\n",
      "adding link Isaac, J. Beijer, G.\n",
      "adding link REMP Beijer, G.\n",
      "adding link Peltier, R. Beijer, G.\n",
      "adding link Beijer, G. Beijer, G.\n",
      "adding link Brink, van den, T Hofstee, E.W.\n",
      "adding link Brink, van den, T Beijer, G.\n",
      "adding link Hofstee, E.W. Beijer, G.\n",
      "adding link Mill, van, A.N. Beijer, G.\n",
      "adding link Meyers, H.G. Godefroy, J.\n",
      "adding link Meyers, H.G. Beijer, G.\n",
      "adding link Godefroy, J. Beijer, G.\n",
      "adding link Bastos de Avila, F. Beijer, G.\n",
      "adding link Radspieler, T. Beijer, G.\n",
      "adding link Weinberg, A.A.W. Beijer, G.\n",
      "adding link Mast, van der, W. Beijer, G.\n",
      "adding link Schmitz, J.P.G. Beijer, G.\n",
      "adding link Beijer, G. Beijer, G.\n",
      "adding link Isaac, J. Beijer, G.\n",
      "adding link Beijer, G. Beld, van den, C.A.\n",
      "adding link Beijer, G. Beijer, G.\n",
      "adding link Beld, van den, C.A. Beijer, G.\n",
      "adding link Hyrenius, H. Beijer, G.\n",
      "adding link Hofstee, E.W. Beijer, G.\n",
      "adding link Mannoni, E. Beijer, G.\n",
      "adding link Edding, F. Beijer, G.\n",
      "adding link Beld, van den, C.A. Beijer, G.\n",
      "adding link Belshaw, H. Beijer, G.\n",
      "adding link Edding, F. Beijer, G.\n",
      "adding link Olsson, B. Beijer, G.\n",
      "adding link Geyl, W.F. Beijer, G.\n",
      "adding link REMP Steigenga, W.\n",
      "adding link REMP Ipsen, G.\n",
      "adding link REMP Beijer, G.\n",
      "adding link Steigenga, W. Ipsen, G.\n",
      "adding link Steigenga, W. Beijer, G.\n",
      "adding link Ipsen, G. Beijer, G.\n",
      "adding link Brepohl, W. Lehmkuhler, M.\n",
      "adding link Brepohl, W. Beijer, G.\n",
      "adding link Lehmkuhler, M. Beijer, G.\n",
      "adding link Borrie, W.D. Beijer, G.\n",
      "adding link Lewis, J.N. Sauvon, E.A.\n",
      "adding link Lewis, J.N. Beijer, G.\n",
      "adding link Sauvon, E.A. Beijer, G.\n",
      "adding link Isaac, J. Beijer, G.\n",
      "adding link Radspieler, T. Beijer, G.\n",
      "adding link Maris, A. Beijer, G.\n",
      "adding link Ipsen, G. Beijer, G.\n",
      "adding link Pressat, R. Beijer, G.\n",
      "adding link Lyon, A.V. Beijer, G.\n",
      "adding link Petersen, W. Beijer, G.\n",
      "adding link Radspieler, T. Neher, L.\n",
      "adding link Radspieler, T. Beijer, G.\n",
      "adding link Neher, L. Beijer, G.\n",
      "adding link Herberle, R. Beijer, G.\n",
      "adding link Starr, M. Beijer, G.\n",
      "adding link Reid, I.D.A. Beijer, G.\n",
      "adding link Beijer, G. Beijer, G.\n",
      "adding link Lehmkuhler, M. Beijer, G.\n",
      "adding link Appleyard, R.T. Beijer, G.\n",
      "adding link Timlin, M.F. Beijer, G.\n",
      "adding link Zubrzycki, J. Beijer, G.\n",
      "adding link Appleyard, R.T. Beijer, G.\n",
      "adding link Zubrzycki, J. Clemens, R.\n",
      "adding link Zubrzycki, J. Beijer, G.\n",
      "adding link Clemens, R. Beijer, G.\n",
      "adding link REMP Verwey-Jonker, H.\n",
      "adding link REMP Brackel, P.O.M.\n",
      "adding link REMP Klompe, M.\n",
      "adding link REMP Verkade, W.\n",
      "adding link REMP Zeegers, G.H.L.\n",
      "adding link REMP Beijer, G.\n",
      "adding link Verwey-Jonker, H. Brackel, P.O.M.\n",
      "adding link Verwey-Jonker, H. Klompe, M.\n",
      "adding link Verwey-Jonker, H. Verkade, W.\n",
      "adding link Verwey-Jonker, H. Zeegers, G.H.L.\n",
      "adding link Verwey-Jonker, H. Beijer, G.\n",
      "adding link Brackel, P.O.M. Klompe, M.\n",
      "adding link Brackel, P.O.M. Verkade, W.\n",
      "adding link Brackel, P.O.M. Zeegers, G.H.L.\n",
      "adding link Brackel, P.O.M. Beijer, G.\n",
      "adding link Klompe, M. Verkade, W.\n",
      "adding link Klompe, M. Zeegers, G.H.L.\n",
      "adding link Klompe, M. Beijer, G.\n",
      "adding link Verkade, W. Zeegers, G.H.L.\n",
      "adding link Verkade, W. Beijer, G.\n",
      "adding link Zeegers, G.H.L. Beijer, G.\n",
      "adding link Witkamp, F.Th. Patijn, C.L.\n",
      "adding link Witkamp, F.Th. Beijer, G.\n",
      "adding link Patijn, C.L. Beijer, G.\n",
      "adding link Witkamp, T. Beijer, G.\n",
      "adding link Gottmann, J. Beijer, G.\n",
      "adding link Balhana, A.Pilatti Beijer, G.\n",
      "adding link Cidor, H.A. Beijer, G.\n",
      "adding link Zubrzycki, J. Beijer, G.\n",
      "adding link Wentholt, R. Beijer, G.\n",
      "adding link Rosenfield, H.N. Beijer, G.\n",
      "adding link RCE ICEM\n",
      "adding link RCE RCE\n",
      "adding link RCE Hofstede, B.P.\n",
      "adding link RCE Groenman, Sj.\n",
      "adding link ICEM RCE\n",
      "adding link ICEM Hofstede, B.P.\n",
      "adding link ICEM Groenman, Sj.\n",
      "adding link RCE Hofstede, B.P.\n",
      "adding link RCE Groenman, Sj.\n",
      "adding link Hofstede, B.P. Groenman, Sj.\n",
      "adding link Witcover, J. Beijer, G.\n",
      "adding link Orleans, L.A. Beijer, G.\n",
      "adding link Kraak, J.H. Beijer, G.\n",
      "adding link Richardson, A. Beijer, G.\n",
      "adding link Groenman, Sj. Beijer, G.\n",
      "adding link Beijer, G. Beijer, G.\n",
      "adding link Hack, H. Beijer, G.\n",
      "adding link Beijer, G. Beijer, G.\n",
      "adding link Rubin, E. Beijer, G.\n",
      "adding link Luckham, B. Beijer, G.\n",
      "adding link Rosenfield, H.N. Beijer, G.\n",
      "adding link Mol, J.J. Beijer, G.\n",
      "adding link Fagley, R. Beijer, G.\n",
      "adding link Price, C.A. Beijer, G.\n",
      "adding link Rees, E. Beijer, G.\n",
      "adding link Beijer, G. Beijer, G.\n",
      "adding link Paulson, B. Beijer, G.\n",
      "adding link Heyn, H. Beijer, G.\n",
      "adding link Rubin, E. Beijer, G.\n",
      "adding link Putten, v.d., A. Beijer, G.\n",
      "adding link Beijer, G. Beijer, G.\n",
      "adding link Hack, H. Beijer, G.\n",
      "adding link REMP ICEM\n",
      "adding link REMP RCE\n",
      "adding link REMP Frijda, N.H.\n",
      "adding link REMP Haveman, B.W.\n",
      "adding link REMP Duijker, H.C.J.\n",
      "adding link ICEM RCE\n",
      "adding link ICEM Frijda, N.H.\n",
      "adding link ICEM Haveman, B.W.\n",
      "adding link ICEM Duijker, H.C.J.\n",
      "adding link RCE Frijda, N.H.\n",
      "adding link RCE Haveman, B.W.\n",
      "adding link RCE Duijker, H.C.J.\n",
      "adding link Frijda, N.H. Haveman, B.W.\n",
      "adding link Frijda, N.H. Duijker, H.C.J.\n",
      "adding link Haveman, B.W. Duijker, H.C.J.\n",
      "adding link Roof, M.K. Beijer, G.\n",
      "adding link Nixon, J.W. Beijer, G.\n",
      "adding link Boer-Lasschuyt, de, T. Beijer, G.\n",
      "adding link Makulu, H.F. Beijer, G.\n",
      "adding link Sumiya, M. Beijer, G.\n",
      "adding link Fentener van Vlissingen, R. Beijer, G.\n",
      "adding link Timlin, M.F. Beijer, G.\n",
      "adding link Beijer, G. Beijer, G.\n",
      "adding link REMP ICEM\n",
      "adding link REMP RCE\n",
      "adding link REMP Wentholt, R.\n",
      "adding link REMP Haveman, B.W.\n",
      "adding link REMP Groenman, Sj.\n",
      "adding link ICEM RCE\n",
      "adding link ICEM Wentholt, R.\n",
      "adding link ICEM Haveman, B.W.\n",
      "adding link ICEM Groenman, Sj.\n",
      "adding link RCE Wentholt, R.\n",
      "adding link RCE Haveman, B.W.\n",
      "adding link RCE Groenman, Sj.\n",
      "adding link Wentholt, R. Haveman, B.W.\n",
      "adding link Wentholt, R. Groenman, Sj.\n",
      "adding link Haveman, B.W. Groenman, Sj.\n",
      "adding link Mol, J.J. Visser t Hooft, W.A.\n",
      "adding link Taft, R. Doczy, A.G.\n",
      "adding link Taft, R. Beijer, G.\n",
      "adding link Doczy, A.G. Beijer, G.\n",
      "adding link Weinberg, A.A. Guttman, L.\n",
      "adding link Weinberg, A.A. Beijer, G.\n",
      "adding link Guttman, L. Beijer, G.\n",
      "adding link REMP RCE\n",
      "adding link REMP Frijda, N.H.\n",
      "adding link RCE Frijda, N.H.\n",
      "adding link REMP Paikert, G.C.\n",
      "adding link REMP Beijer, G.\n",
      "adding link Paikert, G.C. Beijer, G.\n",
      "adding link Bouscaren, A.T. Beijer, G.\n",
      "adding link Richardson, A. Beijer, G.\n",
      "adding link Schreuder, O. Beijer, G.\n",
      "adding link Beijer, G. Beijer, G.\n",
      "adding link Tavuchis, N. Beijer, G.\n",
      "adding link Jong, de , P. Beijer, G.\n",
      "adding link Cnossen, T. Beijer, G.\n",
      "adding link ICEM Hofstede, B.P.\n",
      "adding link ICEM Beijer, G.\n",
      "adding link Hofstede, B.P. Beijer, G.\n",
      "adding link REMP Ex, J.\n",
      "adding link REMP Rutten, F.J.Th.\n",
      "adding link REMP Beijer, G.\n",
      "adding link Ex, J. Rutten, F.J.Th.\n",
      "adding link Ex, J. Beijer, G.\n",
      "adding link Rutten, F.J.Th. Beijer, G.\n",
      "adding link REMP Johnston, R.\n",
      "adding link REMP Beijer, G.\n",
      "adding link Johnston, R. Beijer, G.\n",
      "adding link REMP Weinstock, S. Alexander\n",
      "adding link REMP Beijer, G.\n",
      "adding link Weinstock, S. Alexander Beijer, G.\n",
      "adding link REMP Wilder-Okladek, F.\n",
      "adding link REMP Beijer, G.\n",
      "adding link Wilder-Okladek, F. Beijer, G.\n",
      "adding link Bouscaren, A.T. Beijer, G.\n",
      "adding link Jain, S.K. Beijer, G.\n",
      "adding link Schoenberg, H.W. Beijer, G.\n",
      "adding link REMP Albin, A.\n",
      "adding link REMP Alexander, R.\n",
      "adding link REMP Beijer, G.\n",
      "adding link Albin, A. Alexander, R.\n",
      "adding link Albin, A. Beijer, G.\n",
      "adding link Alexander, R. Beijer, G.\n",
      "adding link REMP Neumann, B.\n",
      "adding link REMP Mezoff, R.\n",
      "adding link REMP Beijer, G.\n",
      "adding link Neumann, B. Mezoff, R.\n",
      "adding link Neumann, B. Beijer, G.\n",
      "adding link Mezoff, R. Beijer, G.\n",
      "adding link Stone, K.H. Beijer, G.\n",
      "adding link REMP Muller, K.D.\n",
      "adding link REMP Eidt, R.C.\n",
      "adding link REMP Beijer, G.\n",
      "adding link Muller, K.D. Eidt, R.C.\n",
      "adding link Muller, K.D. Beijer, G.\n",
      "adding link Eidt, R.C. Beijer, G.\n",
      "adding link REMP WOTRO (Netherlands Foundation for the Advancement of Tropical Research)\n",
      "adding link REMP Bovenkerk, F.\n",
      "adding link REMP Beijer, G.\n",
      "adding link WOTRO (Netherlands Foundation for the Advancement of Tropical Research) Bovenkerk, F.\n",
      "adding link WOTRO (Netherlands Foundation for the Advancement of Tropical Research) Beijer, G.\n",
      "adding link Bovenkerk, F. Beijer, G.\n",
      "adding link Lattimore jr, B.G. Beijer, G.\n",
      "adding link Maselli, G. Beijer, G.\n",
      "adding link Bernard, W.S. Beijer, G.\n",
      "adding link Sassen, S. Beijer, G.\n",
      "adding link Jorge, A. Moncarz, R.\n",
      "adding link Jorge, A. Beijer, G.\n",
      "adding link Moncarz, R. Beijer, G.\n"
     ]
    }
   ],
   "source": [
    "from scripts.network_analysis import generate_graph, add_entities, add_record_links\n",
    "from community import community_louvain\n",
    "\n",
    "\n",
    "periods = {\n",
    "    1950:{'start': 1950, 'end': 1959}, \n",
    "    1960:{'start': 1960, 'end': 1969},\n",
    "    1970:{'start': 1970, 'end': 1985},\n",
    "     # {'start': 1980, 'end': 1989},\n",
    "}\n",
    "\n",
    "grphdict = {}\n",
    "\n",
    "for period in periods:\n",
    "    period = periods[period]\n",
    "    pn = period['start']\n",
    "    periodgraph = generate_graph()\n",
    "    for record in relationship_records:\n",
    "        record['year'] = int(record['year'])\n",
    "    for ri, record in enumerate(sorted(relationship_records, key = lambda x: x['year'])):\n",
    "        record['year'] = int(record['year'])\n",
    "        if record['year'] < period['start'] or record['year'] > period['end']:\n",
    "            continue\n",
    "        #print(record['year'])\n",
    "        entities = extract_record_entities(record)\n",
    "        for entity in entities:\n",
    "            if entity['entity_type'] == 'person':\n",
    "                entity['entity_type'] = get_entity_category(entity)\n",
    "        named_entities = [entity for entity in entities if 'entity_name' in entity]\n",
    "        #print([entity['entity_name'] for entity in named_entities])\n",
    "        add_entities(periodgraph, named_entities)\n",
    "        add_record_links(periodgraph, named_entities)\n",
    "        # if ri == 100:\n",
    "        #     break\n",
    "    grphdict[pn] = periodgraph\n"
   ]
  },
  {
   "cell_type": "code",
   "execution_count": 26,
   "metadata": {},
   "outputs": [],
   "source": [
    "periodcentralities = {}\n",
    "nodelists = {}\n",
    "for pn in grphdict:\n",
    "    periodcentralities[pn] = nx.eigenvector_centrality(grphdict[pn])\n",
    "    nodelists[pn] = [n for n in grphdict[pn].nodes()]"
   ]
  },
  {
   "cell_type": "code",
   "execution_count": 27,
   "metadata": {},
   "outputs": [],
   "source": [
    "from itertools import product, combinations, islice\n",
    "commonnames = {}\n",
    "\n",
    "#list(combinations(list(nodelists.keys()), r=3))\n",
    "# list(islice(list(nodelists.keys()), 3))\n",
    "window_size = 2\n",
    "\n",
    "seq = list(nodelists.keys())\n",
    "for i in range(len(seq) - window_size + 1):\n",
    "    w = seq[i: i + window_size]\n",
    "#     {e:set(nodelists[e]) for e in }\n",
    "    for item in w:\n",
    "        if item not in commonnames.keys():\n",
    "            commonnames[item] = set(nodelists[w[0]]) & set(nodelists[w[1]])"
   ]
  },
  {
   "cell_type": "code",
   "execution_count": 28,
   "metadata": {},
   "outputs": [],
   "source": [
    "colors = {'I':'navy', 'R':'red', 'IR':'purple', 'RI':'purple', 'r':'silver'}"
   ]
  },
  {
   "cell_type": "code",
   "execution_count": 29,
   "metadata": {},
   "outputs": [],
   "source": [
    "#this method factors out commonalities for the graphs below\n",
    "def period_graph(pn, grphdict=grphdict, periodcentralities=periodcentralities, commonnames=commonnames, colors=colors):\n",
    "    periodgraph = grphdict[pn]\n",
    "\n",
    "    for f in periodgraph.nodes():\n",
    "                # comty = periodgraph.nodes[f].get('community')\n",
    "                # comty = ''.join([c[0] for c in comty])\n",
    "                if f in commonnames[pn]:\n",
    "                    label = f\n",
    "                else:\n",
    "                    label = ''\n",
    "                periodgraph.nodes[f].update({#\"community\" : comty,\n",
    "                                    # \"edgecolor\": colors.get(comty) or 'purple',\n",
    "                                    \"centrality\" : periodcentralities[pn][f]*4,\n",
    "                                    \"name\" : f,\n",
    "                                    \"label\" : label\n",
    "                                   })\n",
    "\n",
    "    for f in periodgraph.edges():\n",
    "        for i, c in my_communities.items():\n",
    "             if f[0] and f[1] in c:\n",
    "                comty = periodgraph.edges[f].get('community') or ''\n",
    "                comty = ', '.join([comty,i])\n",
    "                periodgraph.edges[f].update({\"community\" : comty,\n",
    "                                    })\n",
    "\n",
    "        \n",
    "    partition = community_louvain.best_partition(periodgraph)\n",
    "    pos = community_layout(periodgraph, partition)\n",
    "    \n",
    "    return periodgraph, pos\n",
    "    "
   ]
  },
  {
   "cell_type": "code",
   "execution_count": 30,
   "metadata": {
    "tags": [
     "hermeneutics"
    ]
   },
   "outputs": [],
   "source": [
    "import altair as alt\n",
    "\n",
    "chartdict = {}\n",
    "for period in enumerate(grphdict.keys()):\n",
    "    n = period[0]\n",
    "    pn = period[1]\n",
    "    periodgraph, pos = period_graph(pn)\n",
    "\n",
    "    chart = nxa.draw_networkx(\n",
    "            G=periodgraph,\n",
    "            pos=pos,\n",
    "            node_size='centrality',\n",
    "            node_color='entity_type',\n",
    "            edge_color='community',\n",
    "            cmap='accent',\n",
    "            node_tooltip=['name'],\n",
    "            node_label='label',\n",
    "            font_color=\"navy\",\n",
    "            font_size=11\n",
    "        )\n",
    "    start = periods[pn]['start']\n",
    "    end = periods[pn]['end']\n",
    "    chart.title = f\"REMP network {start}-{end}\"\n",
    "    chart.configure_view(width=800, height=600,)\n",
    "    chartdict[n] = chart\n",
    "    \n"
   ]
  },
  {
   "cell_type": "code",
   "execution_count": 31,
   "metadata": {
    "tags": [
     "hermeneutics",
     "narrative",
     "figure_1"
    ]
   },
   "outputs": [
    {
     "data": {
      "text/html": [
       "\n",
       "<div id=\"altair-viz-a7294d42b3c7419da4c0c4a908dfa55d\"></div>\n",
       "<script type=\"text/javascript\">\n",
       "  (function(spec, embedOpt){\n",
       "    let outputDiv = document.currentScript.previousElementSibling;\n",
       "    if (outputDiv.id !== \"altair-viz-a7294d42b3c7419da4c0c4a908dfa55d\") {\n",
       "      outputDiv = document.getElementById(\"altair-viz-a7294d42b3c7419da4c0c4a908dfa55d\");\n",
       "    }\n",
       "    const paths = {\n",
       "      \"vega\": \"https://cdn.jsdelivr.net/npm//vega@5?noext\",\n",
       "      \"vega-lib\": \"https://cdn.jsdelivr.net/npm//vega-lib?noext\",\n",
       "      \"vega-lite\": \"https://cdn.jsdelivr.net/npm//vega-lite@4.8.1?noext\",\n",
       "      \"vega-embed\": \"https://cdn.jsdelivr.net/npm//vega-embed@6?noext\",\n",
       "    };\n",
       "\n",
       "    function loadScript(lib) {\n",
       "      return new Promise(function(resolve, reject) {\n",
       "        var s = document.createElement('script');\n",
       "        s.src = paths[lib];\n",
       "        s.async = true;\n",
       "        s.onload = () => resolve(paths[lib]);\n",
       "        s.onerror = () => reject(`Error loading script: ${paths[lib]}`);\n",
       "        document.getElementsByTagName(\"head\")[0].appendChild(s);\n",
       "      });\n",
       "    }\n",
       "\n",
       "    function showError(err) {\n",
       "      outputDiv.innerHTML = `<div class=\"error\" style=\"color:red;\">${err}</div>`;\n",
       "      throw err;\n",
       "    }\n",
       "\n",
       "    function displayChart(vegaEmbed) {\n",
       "      vegaEmbed(outputDiv, spec, embedOpt)\n",
       "        .catch(err => showError(`Javascript Error: ${err.message}<br>This usually means there's a typo in your chart specification. See the javascript console for the full traceback.`));\n",
       "    }\n",
       "\n",
       "    if(typeof define === \"function\" && define.amd) {\n",
       "      requirejs.config({paths});\n",
       "      require([\"vega-embed\"], displayChart, err => showError(`Error loading script: ${err.message}`));\n",
       "    } else if (typeof vegaEmbed === \"function\") {\n",
       "      displayChart(vegaEmbed);\n",
       "    } else {\n",
       "      loadScript(\"vega\")\n",
       "        .then(() => loadScript(\"vega-lite\"))\n",
       "        .then(() => loadScript(\"vega-embed\"))\n",
       "        .catch(showError)\n",
       "        .then(() => displayChart(vegaEmbed));\n",
       "    }\n",
       "  })({\"config\": {\"view\": {\"continuousWidth\": 400, \"continuousHeight\": 300}}, \"vconcat\": [{\"layer\": [{\"data\": {\"name\": \"data-c6623a6d209ac9426a2fe9563db3c743\"}, \"mark\": {\"type\": \"line\", \"opacity\": 1, \"strokeWidth\": 1}, \"encoding\": {\"color\": {\"type\": \"nominal\", \"field\": \"community\", \"legend\": null}, \"detail\": {\"type\": \"quantitative\", \"field\": \"edge\"}, \"x\": {\"type\": \"quantitative\", \"axis\": {\"grid\": false, \"labels\": false, \"ticks\": false, \"title\": \"\"}, \"field\": \"x\"}, \"y\": {\"type\": \"quantitative\", \"axis\": {\"grid\": false, \"labels\": false, \"ticks\": false, \"title\": \"\"}, \"field\": \"y\"}}}, {\"data\": {\"name\": \"data-c74b1aba7093088d44d1840837c5e4ca\"}, \"mark\": {\"type\": \"point\", \"opacity\": 1, \"strokeWidth\": 1.0}, \"encoding\": {\"fill\": {\"type\": \"nominal\", \"field\": \"entity_type\", \"scale\": {\"scheme\": \"accent\"}}, \"size\": {\"type\": \"quantitative\", \"field\": \"centrality\", \"legend\": null}, \"tooltip\": [{\"type\": \"nominal\", \"field\": \"name\"}], \"x\": {\"type\": \"quantitative\", \"axis\": {\"grid\": false, \"labels\": false, \"ticks\": false}, \"field\": \"x\"}, \"y\": {\"type\": \"quantitative\", \"axis\": {\"grid\": false, \"labels\": false, \"ticks\": false}, \"field\": \"y\"}}}, {\"data\": {\"name\": \"data-c74b1aba7093088d44d1840837c5e4ca\"}, \"mark\": {\"type\": \"text\", \"baseline\": \"middle\", \"fill\": \"navy\", \"size\": 11}, \"encoding\": {\"text\": {\"type\": \"nominal\", \"field\": \"label\"}, \"x\": {\"type\": \"quantitative\", \"axis\": {\"grid\": false, \"labels\": false, \"ticks\": false}, \"field\": \"x\"}, \"y\": {\"type\": \"quantitative\", \"axis\": {\"grid\": false, \"labels\": false, \"ticks\": false}, \"field\": \"y\"}}}], \"title\": \"REMP network 1950-1959\"}, {\"layer\": [{\"data\": {\"name\": \"data-b97cd3e27f0a036bd54f26db27532439\"}, \"mark\": {\"type\": \"line\", \"opacity\": 1, \"strokeWidth\": 1}, \"encoding\": {\"color\": {\"type\": \"nominal\", \"field\": \"community\", \"legend\": null}, \"detail\": {\"type\": \"quantitative\", \"field\": \"edge\"}, \"x\": {\"type\": \"quantitative\", \"axis\": {\"grid\": false, \"labels\": false, \"ticks\": false, \"title\": \"\"}, \"field\": \"x\"}, \"y\": {\"type\": \"quantitative\", \"axis\": {\"grid\": false, \"labels\": false, \"ticks\": false, \"title\": \"\"}, \"field\": \"y\"}}}, {\"data\": {\"name\": \"data-5ed4ded87ba705e6d7486fb68309aec1\"}, \"mark\": {\"type\": \"point\", \"opacity\": 1, \"strokeWidth\": 1.0}, \"encoding\": {\"fill\": {\"type\": \"nominal\", \"field\": \"entity_type\", \"scale\": {\"scheme\": \"accent\"}}, \"size\": {\"type\": \"quantitative\", \"field\": \"centrality\", \"legend\": null}, \"tooltip\": [{\"type\": \"nominal\", \"field\": \"name\"}], \"x\": {\"type\": \"quantitative\", \"axis\": {\"grid\": false, \"labels\": false, \"ticks\": false}, \"field\": \"x\"}, \"y\": {\"type\": \"quantitative\", \"axis\": {\"grid\": false, \"labels\": false, \"ticks\": false}, \"field\": \"y\"}}}, {\"data\": {\"name\": \"data-5ed4ded87ba705e6d7486fb68309aec1\"}, \"mark\": {\"type\": \"text\", \"baseline\": \"middle\", \"fill\": \"navy\", \"size\": 11}, \"encoding\": {\"text\": {\"type\": \"nominal\", \"field\": \"label\"}, \"x\": {\"type\": \"quantitative\", \"axis\": {\"grid\": false, \"labels\": false, \"ticks\": false}, \"field\": \"x\"}, \"y\": {\"type\": \"quantitative\", \"axis\": {\"grid\": false, \"labels\": false, \"ticks\": false}, \"field\": \"y\"}}}], \"title\": \"REMP network 1960-1969\"}, {\"layer\": [{\"data\": {\"name\": \"data-3614d954ff653c34dbf89feb432ff14f\"}, \"mark\": {\"type\": \"line\", \"opacity\": 1, \"strokeWidth\": 1}, \"encoding\": {\"color\": {\"type\": \"nominal\", \"field\": \"community\", \"legend\": null}, \"detail\": {\"type\": \"quantitative\", \"field\": \"edge\"}, \"x\": {\"type\": \"quantitative\", \"axis\": {\"grid\": false, \"labels\": false, \"ticks\": false, \"title\": \"\"}, \"field\": \"x\"}, \"y\": {\"type\": \"quantitative\", \"axis\": {\"grid\": false, \"labels\": false, \"ticks\": false, \"title\": \"\"}, \"field\": \"y\"}}}, {\"data\": {\"name\": \"data-314d8aff318e76076d6716f0d6297df3\"}, \"mark\": {\"type\": \"point\", \"opacity\": 1, \"strokeWidth\": 1.0}, \"encoding\": {\"fill\": {\"type\": \"nominal\", \"field\": \"entity_type\", \"scale\": {\"scheme\": \"accent\"}}, \"size\": {\"type\": \"quantitative\", \"field\": \"centrality\", \"legend\": null}, \"tooltip\": [{\"type\": \"nominal\", \"field\": \"name\"}], \"x\": {\"type\": \"quantitative\", \"axis\": {\"grid\": false, \"labels\": false, \"ticks\": false}, \"field\": \"x\"}, \"y\": {\"type\": \"quantitative\", \"axis\": {\"grid\": false, \"labels\": false, \"ticks\": false}, \"field\": \"y\"}}}, {\"data\": {\"name\": \"data-314d8aff318e76076d6716f0d6297df3\"}, \"mark\": {\"type\": \"text\", \"baseline\": \"middle\", \"fill\": \"navy\", \"size\": 11}, \"encoding\": {\"text\": {\"type\": \"nominal\", \"field\": \"label\"}, \"x\": {\"type\": \"quantitative\", \"axis\": {\"grid\": false, \"labels\": false, \"ticks\": false}, \"field\": \"x\"}, \"y\": {\"type\": \"quantitative\", \"axis\": {\"grid\": false, \"labels\": false, \"ticks\": false}, \"field\": \"y\"}}}], \"title\": \"REMP network 1970-1985\"}], \"$schema\": \"https://vega.github.io/schema/vega-lite/v4.8.1.json\", \"datasets\": {\"data-c6623a6d209ac9426a2fe9563db3c743\": [{\"y\": -0.09944905605752338, \"edge\": 0, \"community\": \", REMP\", \"source\": \"REMP\", \"target\": \"Wander, H.\", \"pair\": [\"REMP\", \"Wander, H.\"], \"x\": -0.004864576643362158}, {\"y\": -0.767620178219382, \"edge\": 0, \"community\": \", REMP\", \"source\": \"REMP\", \"target\": \"Wander, H.\", \"pair\": [\"REMP\", \"Wander, H.\"], \"x\": -0.65156865183117}, {\"y\": -0.09944905605752338, \"edge\": 1, \"community\": \", REMP\", \"source\": \"REMP\", \"target\": \"Bouman, P.J.\", \"pair\": [\"REMP\", \"Bouman, P.J.\"], \"x\": -0.004864576643362158}, {\"y\": -0.5297920879460544, \"edge\": 1, \"community\": \", REMP\", \"source\": \"REMP\", \"target\": \"Bouman, P.J.\", \"pair\": [\"REMP\", \"Bouman, P.J.\"], \"x\": -0.8709490171469418}, {\"y\": -0.09944905605752338, \"edge\": 2, \"community\": \", ICEM, REMP\", \"source\": \"REMP\", \"target\": \"Beijer, G.\", \"pair\": [\"REMP\", \"Beijer, G.\"], \"x\": -0.004864576643362158}, {\"y\": -0.030445614898313968, \"edge\": 2, \"community\": \", ICEM, REMP\", \"source\": \"REMP\", \"target\": \"Beijer, G.\", \"pair\": [\"REMP\", \"Beijer, G.\"], \"x\": 0.09166065945392926}, {\"y\": -0.09944905605752338, \"edge\": 3, \"community\": \", REMP\", \"source\": \"REMP\", \"target\": \"Citroen, H.A.\", \"pair\": [\"REMP\", \"Citroen, H.A.\"], \"x\": -0.004864576643362158}, {\"y\": 0.2942640082229764, \"edge\": 3, \"community\": \", REMP\", \"source\": \"REMP\", \"target\": \"Citroen, H.A.\", \"pair\": [\"REMP\", \"Citroen, H.A.\"], \"x\": 0.4498538377817033}, {\"y\": -0.09944905605752338, \"edge\": 4, \"community\": \", REMP\", \"source\": \"REMP\", \"target\": \"Groenman, Sj.\", \"pair\": [\"REMP\", \"Groenman, Sj.\"], \"x\": -0.004864576643362158}, {\"y\": 1.0832563835943099, \"edge\": 4, \"community\": \", REMP\", \"source\": \"REMP\", \"target\": \"Groenman, Sj.\", \"pair\": [\"REMP\", \"Groenman, Sj.\"], \"x\": 0.9221804407036506}, {\"y\": -0.09944905605752338, \"edge\": 5, \"community\": \", REMP\", \"source\": \"REMP\", \"target\": \"Rappard, W.E.\", \"pair\": [\"REMP\", \"Rappard, W.E.\"], \"x\": -0.004864576643362158}, {\"y\": 0.17302103204071062, \"edge\": 5, \"community\": \", REMP\", \"source\": \"REMP\", \"target\": \"Rappard, W.E.\", \"pair\": [\"REMP\", \"Rappard, W.E.\"], \"x\": 1.053747080709569}, {\"y\": -0.09944905605752338, \"edge\": 6, \"community\": \", REMP\", \"source\": \"REMP\", \"target\": \"Edding, F.\", \"pair\": [\"REMP\", \"Edding, F.\"], \"x\": -0.004864576643362158}, {\"y\": -0.998872794741764, \"edge\": 6, \"community\": \", REMP\", \"source\": \"REMP\", \"target\": \"Edding, F.\", \"pair\": [\"REMP\", \"Edding, F.\"], \"x\": -0.2846802416663137}, {\"y\": -0.09944905605752338, \"edge\": 7, \"community\": \", REMP\", \"source\": \"REMP\", \"target\": \"Salin, E.\", \"pair\": [\"REMP\", \"Salin, E.\"], \"x\": -0.004864576643362158}, {\"y\": -1.0147993810424651, \"edge\": 7, \"community\": \", REMP\", \"source\": \"REMP\", \"target\": \"Salin, E.\", \"pair\": [\"REMP\", \"Salin, E.\"], \"x\": 0.02335149696317161}, {\"y\": -0.09944905605752338, \"edge\": 8, \"community\": \", REMP\", \"source\": \"REMP\", \"target\": \"Oudegeest, J.J.\", \"pair\": [\"REMP\", \"Oudegeest, J.J.\"], \"x\": -0.004864576643362158}, {\"y\": -0.905226982057729, \"edge\": 8, \"community\": \", REMP\", \"source\": \"REMP\", \"target\": \"Oudegeest, J.J.\", \"pair\": [\"REMP\", \"Oudegeest, J.J.\"], \"x\": 0.42426619466536986}, {\"y\": -0.09944905605752338, \"edge\": 9, \"community\": \", REMP\", \"source\": \"REMP\", \"target\": \"Sauvy, A.\", \"pair\": [\"REMP\", \"Sauvy, A.\"], \"x\": -0.004864576643362158}, {\"y\": -0.7282226880427018, \"edge\": 9, \"community\": \", REMP\", \"source\": \"REMP\", \"target\": \"Sauvy, A.\", \"pair\": [\"REMP\", \"Sauvy, A.\"], \"x\": 0.6885708409551696}, {\"y\": -0.09944905605752338, \"edge\": 10, \"community\": \", REMP\", \"source\": \"REMP\", \"target\": \"Brink, van den , T.\", \"pair\": [\"REMP\", \"Brink, van den , T.\"], \"x\": -0.004864576643362158}, {\"y\": -0.4258069575953092, \"edge\": 10, \"community\": \", REMP\", \"source\": \"REMP\", \"target\": \"Brink, van den , T.\", \"pair\": [\"REMP\", \"Brink, van den , T.\"], \"x\": 0.792956663831658}, {\"y\": -0.09944905605752338, \"edge\": 11, \"community\": \", REMP\", \"source\": \"REMP\", \"target\": \"Gadolin, de, A.\", \"pair\": [\"REMP\", \"Gadolin, de, A.\"], \"x\": -0.004864576643362158}, {\"y\": 0.8319263829200667, \"edge\": 11, \"community\": \", REMP\", \"source\": \"REMP\", \"target\": \"Gadolin, de, A.\", \"pair\": [\"REMP\", \"Gadolin, de, A.\"], \"x\": -0.1559309386793259}, {\"y\": -0.09944905605752338, \"edge\": 12, \"community\": \", REMP\", \"source\": \"REMP\", \"target\": \"Zeegers, G.H.L.\", \"pair\": [\"REMP\", \"Zeegers, G.H.L.\"], \"x\": -0.004864576643362158}, {\"y\": 0.580177789712127, \"edge\": 12, \"community\": \", REMP\", \"source\": \"REMP\", \"target\": \"Zeegers, G.H.L.\", \"pair\": [\"REMP\", \"Zeegers, G.H.L.\"], \"x\": -0.5184813023172244}, {\"y\": -0.09944905605752338, \"edge\": 13, \"community\": \", REMP\", \"source\": \"REMP\", \"target\": \"HWvanLoon Fellowship, NL regering\", \"pair\": [\"REMP\", \"HWvanLoon Fellowship, NL regering\"], \"x\": -0.004864576643362158}, {\"y\": 1.1406204951561003, \"edge\": 13, \"community\": \", REMP\", \"source\": \"REMP\", \"target\": \"HWvanLoon Fellowship, NL regering\", \"pair\": [\"REMP\", \"HWvanLoon Fellowship, NL regering\"], \"x\": 2.2704996133501725}, {\"y\": -0.09944905605752338, \"edge\": 14, \"community\": \", REMP\", \"source\": \"REMP\", \"target\": \"Institute of International Education\", \"pair\": [\"REMP\", \"Institute of International Education\"], \"x\": -0.004864576643362158}, {\"y\": 0.8037888573046559, \"edge\": 14, \"community\": \", REMP\", \"source\": \"REMP\", \"target\": \"Institute of International Education\", \"pair\": [\"REMP\", \"Institute of International Education\"], \"x\": 2.5730204826737193}, {\"y\": -0.09944905605752338, \"edge\": 15, \"community\": \", REMP\", \"source\": \"REMP\", \"target\": \"Petersen, W.\", \"pair\": [\"REMP\", \"Petersen, W.\"], \"x\": -0.004864576643362158}, {\"y\": 0.7147782872693886, \"edge\": 15, \"community\": \", REMP\", \"source\": \"REMP\", \"target\": \"Petersen, W.\", \"pair\": [\"REMP\", \"Petersen, W.\"], \"x\": 2.151945748375654}, {\"y\": -0.09944905605752338, \"edge\": 16, \"community\": \", REMP\", \"source\": \"REMP\", \"target\": \"Hofstee, E.W.\", \"pair\": [\"REMP\", \"Hofstee, E.W.\"], \"x\": -0.004864576643362158}, {\"y\": 1.312397777029116, \"edge\": 16, \"community\": \", REMP\", \"source\": \"REMP\", \"target\": \"Hofstee, E.W.\", \"pair\": [\"REMP\", \"Hofstee, E.W.\"], \"x\": 1.8620677901140483}, {\"y\": -0.09944905605752338, \"edge\": 17, \"community\": \", REMP\", \"source\": \"REMP\", \"target\": \"Davis, K.\", \"pair\": [\"REMP\", \"Davis, K.\"], \"x\": -0.004864576643362158}, {\"y\": 1.2685795793814716, \"edge\": 17, \"community\": \", REMP\", \"source\": \"REMP\", \"target\": \"Davis, K.\", \"pair\": [\"REMP\", \"Davis, K.\"], \"x\": 2.6135240703794484}, {\"y\": -0.09944905605752338, \"edge\": 18, \"community\": \", REMP\", \"source\": \"REMP\", \"target\": \"Glass, D.V.\", \"pair\": [\"REMP\", \"Glass, D.V.\"], \"x\": -0.004864576643362158}, {\"y\": 2.113357973347823, \"edge\": 18, \"community\": \", REMP\", \"source\": \"REMP\", \"target\": \"Glass, D.V.\", \"pair\": [\"REMP\", \"Glass, D.V.\"], \"x\": 1.5491734422793204}, {\"y\": -0.09944905605752338, \"edge\": 19, \"community\": \", REMP\", \"source\": \"REMP\", \"target\": \"Lannes, X.\", \"pair\": [\"REMP\", \"Lannes, X.\"], \"x\": -0.004864576643362158}, {\"y\": 0.586254395776107, \"edge\": 19, \"community\": \", REMP\", \"source\": \"REMP\", \"target\": \"Lannes, X.\", \"pair\": [\"REMP\", \"Lannes, X.\"], \"x\": 0.6103848153679847}, {\"y\": -0.09944905605752338, \"edge\": 20, \"community\": \", REMP\", \"source\": \"REMP\", \"target\": \"Mill, van, A.N.\", \"pair\": [\"REMP\", \"Mill, van, A.N.\"], \"x\": -0.004864576643362158}, {\"y\": 0.7752005723257538, \"edge\": 20, \"community\": \", REMP\", \"source\": \"REMP\", \"target\": \"Mill, van, A.N.\", \"pair\": [\"REMP\", \"Mill, van, A.N.\"], \"x\": 0.35976855637598737}, {\"y\": -0.09944905605752338, \"edge\": 21, \"community\": \", REMP\", \"source\": \"REMP\", \"target\": \"Bastos de Avila, F.\", \"pair\": [\"REMP\", \"Bastos de Avila, F.\"], \"x\": -0.004864576643362158}, {\"y\": -3.2871312026128408, \"edge\": 21, \"community\": \", REMP\", \"source\": \"REMP\", \"target\": \"Bastos de Avila, F.\", \"pair\": [\"REMP\", \"Bastos de Avila, F.\"], \"x\": -2.8754977709633263}, {\"y\": -0.09944905605752338, \"edge\": 22, \"community\": \", REMP\", \"source\": \"REMP\", \"target\": \"Camillo de Oliveira, A.\", \"pair\": [\"REMP\", \"Camillo de Oliveira, A.\"], \"x\": -0.004864576643362158}, {\"y\": -1.8949532957863886, \"edge\": 22, \"community\": \", REMP\", \"source\": \"REMP\", \"target\": \"Camillo de Oliveira, A.\", \"pair\": [\"REMP\", \"Camillo de Oliveira, A.\"], \"x\": -3.928276518302776}, {\"y\": -0.09944905605752338, \"edge\": 23, \"community\": \", REMP\", \"source\": \"REMP\", \"target\": \"Isaac, J.\", \"pair\": [\"REMP\", \"Isaac, J.\"], \"x\": -0.004864576643362158}, {\"y\": -1.6793091094392931, \"edge\": 23, \"community\": \", REMP\", \"source\": \"REMP\", \"target\": \"Isaac, J.\", \"pair\": [\"REMP\", \"Isaac, J.\"], \"x\": -2.196225710733898}, {\"y\": -0.09944905605752338, \"edge\": 24, \"community\": \", REMP\", \"source\": \"REMP\", \"target\": \"Steigenga, W.\", \"pair\": [\"REMP\", \"Steigenga, W.\"], \"x\": -0.004864576643362158}, {\"y\": -0.041580431738985936, \"edge\": 24, \"community\": \", REMP\", \"source\": \"REMP\", \"target\": \"Steigenga, W.\", \"pair\": [\"REMP\", \"Steigenga, W.\"], \"x\": 0.970195845778259}, {\"y\": -0.09944905605752338, \"edge\": 25, \"community\": \", REMP\", \"source\": \"REMP\", \"target\": \"Ipsen, G.\", \"pair\": [\"REMP\", \"Ipsen, G.\"], \"x\": -0.004864576643362158}, {\"y\": 0.2120842357860188, \"edge\": 25, \"community\": \", REMP\", \"source\": \"REMP\", \"target\": \"Ipsen, G.\", \"pair\": [\"REMP\", \"Ipsen, G.\"], \"x\": 0.7967087332445795}, {\"y\": -0.09944905605752338, \"edge\": 26, \"community\": \", REMP\", \"source\": \"REMP\", \"target\": \"Verwey-Jonker, H.\", \"pair\": [\"REMP\", \"Verwey-Jonker, H.\"], \"x\": -0.004864576643362158}, {\"y\": 0.31467719716686093, \"edge\": 26, \"community\": \", REMP\", \"source\": \"REMP\", \"target\": \"Verwey-Jonker, H.\", \"pair\": [\"REMP\", \"Verwey-Jonker, H.\"], \"x\": -0.440657357245245}, {\"y\": -0.09944905605752338, \"edge\": 27, \"community\": \", REMP\", \"source\": \"REMP\", \"target\": \"Brackel, P.O.M.\", \"pair\": [\"REMP\", \"Brackel, P.O.M.\"], \"x\": -0.004864576643362158}, {\"y\": 0.18655282199255138, \"edge\": 27, \"community\": \", REMP\", \"source\": \"REMP\", \"target\": \"Brackel, P.O.M.\", \"pair\": [\"REMP\", \"Brackel, P.O.M.\"], \"x\": -0.8634742818866878}, {\"y\": -0.09944905605752338, \"edge\": 28, \"community\": \", REMP\", \"source\": \"REMP\", \"target\": \"Klompe, M.\", \"pair\": [\"REMP\", \"Klompe, M.\"], \"x\": -0.004864576643362158}, {\"y\": 0.08538298258582044, \"edge\": 28, \"community\": \", REMP\", \"source\": \"REMP\", \"target\": \"Klompe, M.\", \"pair\": [\"REMP\", \"Klompe, M.\"], \"x\": -0.6185082012294749}, {\"y\": -0.09944905605752338, \"edge\": 29, \"community\": \", REMP\", \"source\": \"REMP\", \"target\": \"Verkade, W.\", \"pair\": [\"REMP\", \"Verkade, W.\"], \"x\": -0.004864576643362158}, {\"y\": 0.44845810709166034, \"edge\": 29, \"community\": \", REMP\", \"source\": \"REMP\", \"target\": \"Verkade, W.\", \"pair\": [\"REMP\", \"Verkade, W.\"], \"x\": -0.7935633545277718}, {\"y\": -0.767620178219382, \"edge\": 30, \"community\": \", REMP\", \"source\": \"Wander, H.\", \"target\": \"Bouman, P.J.\", \"pair\": [\"Wander, H.\", \"Bouman, P.J.\"], \"x\": -0.65156865183117}, {\"y\": -0.5297920879460544, \"edge\": 30, \"community\": \", REMP\", \"source\": \"Wander, H.\", \"target\": \"Bouman, P.J.\", \"pair\": [\"Wander, H.\", \"Bouman, P.J.\"], \"x\": -0.8709490171469418}, {\"y\": -0.767620178219382, \"edge\": 31, \"community\": \", ICEM, REMP\", \"source\": \"Wander, H.\", \"target\": \"Beijer, G.\", \"pair\": [\"Wander, H.\", \"Beijer, G.\"], \"x\": -0.65156865183117}, {\"y\": -0.030445614898313968, \"edge\": 31, \"community\": \", ICEM, REMP\", \"source\": \"Wander, H.\", \"target\": \"Beijer, G.\", \"pair\": [\"Wander, H.\", \"Beijer, G.\"], \"x\": 0.09166065945392926}, {\"y\": -0.5297920879460544, \"edge\": 32, \"community\": \", ICEM, REMP\", \"source\": \"Bouman, P.J.\", \"target\": \"Beijer, G.\", \"pair\": [\"Bouman, P.J.\", \"Beijer, G.\"], \"x\": -0.8709490171469418}, {\"y\": -0.030445614898313968, \"edge\": 32, \"community\": \", ICEM, REMP\", \"source\": \"Bouman, P.J.\", \"target\": \"Beijer, G.\", \"pair\": [\"Bouman, P.J.\", \"Beijer, G.\"], \"x\": 0.09166065945392926}, {\"y\": -0.030445614898313968, \"edge\": 33, \"community\": \", REMP\", \"source\": \"Beijer, G.\", \"target\": \"Citroen, H.A.\", \"pair\": [\"Beijer, G.\", \"Citroen, H.A.\"], \"x\": 0.09166065945392926}, {\"y\": 0.2942640082229764, \"edge\": 33, \"community\": \", REMP\", \"source\": \"Beijer, G.\", \"target\": \"Citroen, H.A.\", \"pair\": [\"Beijer, G.\", \"Citroen, H.A.\"], \"x\": 0.4498538377817033}, {\"y\": -0.030445614898313968, \"edge\": 34, \"community\": \", REMP\", \"source\": \"Beijer, G.\", \"target\": \"Groenman, Sj.\", \"pair\": [\"Beijer, G.\", \"Groenman, Sj.\"], \"x\": 0.09166065945392926}, {\"y\": 1.0832563835943099, \"edge\": 34, \"community\": \", REMP\", \"source\": \"Beijer, G.\", \"target\": \"Groenman, Sj.\", \"pair\": [\"Beijer, G.\", \"Groenman, Sj.\"], \"x\": 0.9221804407036506}, {\"y\": -0.030445614898313968, \"edge\": 35, \"community\": \", REMP\", \"source\": \"Beijer, G.\", \"target\": \"Rappard, W.E.\", \"pair\": [\"Beijer, G.\", \"Rappard, W.E.\"], \"x\": 0.09166065945392926}, {\"y\": 0.17302103204071062, \"edge\": 35, \"community\": \", REMP\", \"source\": \"Beijer, G.\", \"target\": \"Rappard, W.E.\", \"pair\": [\"Beijer, G.\", \"Rappard, W.E.\"], \"x\": 1.053747080709569}, {\"y\": -0.030445614898313968, \"edge\": 36, \"community\": \", REMP\", \"source\": \"Beijer, G.\", \"target\": \"Edding, F.\", \"pair\": [\"Beijer, G.\", \"Edding, F.\"], \"x\": 0.09166065945392926}, {\"y\": -0.998872794741764, \"edge\": 36, \"community\": \", REMP\", \"source\": \"Beijer, G.\", \"target\": \"Edding, F.\", \"pair\": [\"Beijer, G.\", \"Edding, F.\"], \"x\": -0.2846802416663137}, {\"y\": -0.030445614898313968, \"edge\": 37, \"community\": \", REMP\", \"source\": \"Beijer, G.\", \"target\": \"Salin, E.\", \"pair\": [\"Beijer, G.\", \"Salin, E.\"], \"x\": 0.09166065945392926}, {\"y\": -1.0147993810424651, \"edge\": 37, \"community\": \", REMP\", \"source\": \"Beijer, G.\", \"target\": \"Salin, E.\", \"pair\": [\"Beijer, G.\", \"Salin, E.\"], \"x\": 0.02335149696317161}, {\"y\": -0.030445614898313968, \"edge\": 38, \"community\": \", REMP\", \"source\": \"Beijer, G.\", \"target\": \"Oudegeest, J.J.\", \"pair\": [\"Beijer, G.\", \"Oudegeest, J.J.\"], \"x\": 0.09166065945392926}, {\"y\": -0.905226982057729, \"edge\": 38, \"community\": \", REMP\", \"source\": \"Beijer, G.\", \"target\": \"Oudegeest, J.J.\", \"pair\": [\"Beijer, G.\", \"Oudegeest, J.J.\"], \"x\": 0.42426619466536986}, {\"y\": -0.030445614898313968, \"edge\": 39, \"community\": \", REMP\", \"source\": \"Beijer, G.\", \"target\": \"Sauvy, A.\", \"pair\": [\"Beijer, G.\", \"Sauvy, A.\"], \"x\": 0.09166065945392926}, {\"y\": -0.7282226880427018, \"edge\": 39, \"community\": \", REMP\", \"source\": \"Beijer, G.\", \"target\": \"Sauvy, A.\", \"pair\": [\"Beijer, G.\", \"Sauvy, A.\"], \"x\": 0.6885708409551696}, {\"y\": -0.030445614898313968, \"edge\": 40, \"community\": \", ICEM, REMP\", \"source\": \"Beijer, G.\", \"target\": \"Beijer, G.\", \"pair\": [\"Beijer, G.\", \"Beijer, G.\"], \"x\": 0.09166065945392926}, {\"y\": -0.030445614898313968, \"edge\": 40, \"community\": \", ICEM, REMP\", \"source\": \"Beijer, G.\", \"target\": \"Beijer, G.\", \"pair\": [\"Beijer, G.\", \"Beijer, G.\"], \"x\": 0.09166065945392926}, {\"y\": -0.030445614898313968, \"edge\": 41, \"community\": \", REMP\", \"source\": \"Beijer, G.\", \"target\": \"Brink, van den , T.\", \"pair\": [\"Beijer, G.\", \"Brink, van den , T.\"], \"x\": 0.09166065945392926}, {\"y\": -0.4258069575953092, \"edge\": 41, \"community\": \", REMP\", \"source\": \"Beijer, G.\", \"target\": \"Brink, van den , T.\", \"pair\": [\"Beijer, G.\", \"Brink, van den , T.\"], \"x\": 0.792956663831658}, {\"y\": -0.030445614898313968, \"edge\": 42, \"community\": \", REMP\", \"source\": \"Beijer, G.\", \"target\": \"Gadolin, de, A.\", \"pair\": [\"Beijer, G.\", \"Gadolin, de, A.\"], \"x\": 0.09166065945392926}, {\"y\": 0.8319263829200667, \"edge\": 42, \"community\": \", REMP\", \"source\": \"Beijer, G.\", \"target\": \"Gadolin, de, A.\", \"pair\": [\"Beijer, G.\", \"Gadolin, de, A.\"], \"x\": -0.1559309386793259}, {\"y\": -0.030445614898313968, \"edge\": 43, \"community\": \", REMP\", \"source\": \"Beijer, G.\", \"target\": \"Zeegers, G.H.L.\", \"pair\": [\"Beijer, G.\", \"Zeegers, G.H.L.\"], \"x\": 0.09166065945392926}, {\"y\": 0.580177789712127, \"edge\": 43, \"community\": \", REMP\", \"source\": \"Beijer, G.\", \"target\": \"Zeegers, G.H.L.\", \"pair\": [\"Beijer, G.\", \"Zeegers, G.H.L.\"], \"x\": -0.5184813023172244}, {\"y\": -0.030445614898313968, \"edge\": 44, \"community\": \", REMP\", \"source\": \"Beijer, G.\", \"target\": \"HWvanLoon Fellowship, NL regering\", \"pair\": [\"Beijer, G.\", \"HWvanLoon Fellowship, NL regering\"], \"x\": 0.09166065945392926}, {\"y\": 1.1406204951561003, \"edge\": 44, \"community\": \", REMP\", \"source\": \"Beijer, G.\", \"target\": \"HWvanLoon Fellowship, NL regering\", \"pair\": [\"Beijer, G.\", \"HWvanLoon Fellowship, NL regering\"], \"x\": 2.2704996133501725}, {\"y\": -0.030445614898313968, \"edge\": 45, \"community\": \", REMP\", \"source\": \"Beijer, G.\", \"target\": \"Institute of International Education\", \"pair\": [\"Beijer, G.\", \"Institute of International Education\"], \"x\": 0.09166065945392926}, {\"y\": 0.8037888573046559, \"edge\": 45, \"community\": \", REMP\", \"source\": \"Beijer, G.\", \"target\": \"Institute of International Education\", \"pair\": [\"Beijer, G.\", \"Institute of International Education\"], \"x\": 2.5730204826737193}, {\"y\": -0.030445614898313968, \"edge\": 46, \"community\": \", REMP\", \"source\": \"Beijer, G.\", \"target\": \"Petersen, W.\", \"pair\": [\"Beijer, G.\", \"Petersen, W.\"], \"x\": 0.09166065945392926}, {\"y\": 0.7147782872693886, \"edge\": 46, \"community\": \", REMP\", \"source\": \"Beijer, G.\", \"target\": \"Petersen, W.\", \"pair\": [\"Beijer, G.\", \"Petersen, W.\"], \"x\": 2.151945748375654}, {\"y\": -0.030445614898313968, \"edge\": 47, \"community\": \", REMP\", \"source\": \"Beijer, G.\", \"target\": \"Hofstee, E.W.\", \"pair\": [\"Beijer, G.\", \"Hofstee, E.W.\"], \"x\": 0.09166065945392926}, {\"y\": 1.312397777029116, \"edge\": 47, \"community\": \", REMP\", \"source\": \"Beijer, G.\", \"target\": \"Hofstee, E.W.\", \"pair\": [\"Beijer, G.\", \"Hofstee, E.W.\"], \"x\": 1.8620677901140483}, {\"y\": -0.030445614898313968, \"edge\": 48, \"community\": \", REMP\", \"source\": \"Beijer, G.\", \"target\": \"Davis, K.\", \"pair\": [\"Beijer, G.\", \"Davis, K.\"], \"x\": 0.09166065945392926}, {\"y\": 1.2685795793814716, \"edge\": 48, \"community\": \", REMP\", \"source\": \"Beijer, G.\", \"target\": \"Davis, K.\", \"pair\": [\"Beijer, G.\", \"Davis, K.\"], \"x\": 2.6135240703794484}, {\"y\": -0.030445614898313968, \"edge\": 49, \"community\": \", REMP\", \"source\": \"Beijer, G.\", \"target\": \"Glass, D.V.\", \"pair\": [\"Beijer, G.\", \"Glass, D.V.\"], \"x\": 0.09166065945392926}, {\"y\": 2.113357973347823, \"edge\": 49, \"community\": \", REMP\", \"source\": \"Beijer, G.\", \"target\": \"Glass, D.V.\", \"pair\": [\"Beijer, G.\", \"Glass, D.V.\"], \"x\": 1.5491734422793204}, {\"y\": -0.030445614898313968, \"edge\": 50, \"community\": \", ICEM\", \"source\": \"Beijer, G.\", \"target\": \"Mackenroth, G.\", \"pair\": [\"Beijer, G.\", \"Mackenroth, G.\"], \"x\": 0.09166065945392926}, {\"y\": -0.5431164524631767, \"edge\": 50, \"community\": \", ICEM\", \"source\": \"Beijer, G.\", \"target\": \"Mackenroth, G.\", \"pair\": [\"Beijer, G.\", \"Mackenroth, G.\"], \"x\": 0.15218100135447837}, {\"y\": -0.030445614898313968, \"edge\": 51, \"community\": \", ICEM\", \"source\": \"Beijer, G.\", \"target\": \"Nixon, J.W.\", \"pair\": [\"Beijer, G.\", \"Nixon, J.W.\"], \"x\": 0.09166065945392926}, {\"y\": -0.24289102026439452, \"edge\": 51, \"community\": \", ICEM\", \"source\": \"Beijer, G.\", \"target\": \"Nixon, J.W.\", \"pair\": [\"Beijer, G.\", \"Nixon, J.W.\"], \"x\": 0.47308947750662594}, {\"y\": -0.030445614898313968, \"edge\": 52, \"community\": \", REMP\", \"source\": \"Beijer, G.\", \"target\": \"Lannes, X.\", \"pair\": [\"Beijer, G.\", \"Lannes, X.\"], \"x\": 0.09166065945392926}, {\"y\": 0.586254395776107, \"edge\": 52, \"community\": \", REMP\", \"source\": \"Beijer, G.\", \"target\": \"Lannes, X.\", \"pair\": [\"Beijer, G.\", \"Lannes, X.\"], \"x\": 0.6103848153679847}, {\"y\": -0.030445614898313968, \"edge\": 53, \"community\": \", REMP\", \"source\": \"Beijer, G.\", \"target\": \"Mill, van, A.N.\", \"pair\": [\"Beijer, G.\", \"Mill, van, A.N.\"], \"x\": 0.09166065945392926}, {\"y\": 0.7752005723257538, \"edge\": 53, \"community\": \", REMP\", \"source\": \"Beijer, G.\", \"target\": \"Mill, van, A.N.\", \"pair\": [\"Beijer, G.\", \"Mill, van, A.N.\"], \"x\": 0.35976855637598737}, {\"y\": -0.030445614898313968, \"edge\": 54, \"community\": \", ICEM\", \"source\": \"Beijer, G.\", \"target\": \"Mast, van der, W.\", \"pair\": [\"Beijer, G.\", \"Mast, van der, W.\"], \"x\": 0.09166065945392926}, {\"y\": -0.42447739961697506, \"edge\": 54, \"community\": \", ICEM\", \"source\": \"Beijer, G.\", \"target\": \"Mast, van der, W.\", \"pair\": [\"Beijer, G.\", \"Mast, van der, W.\"], \"x\": -0.13910415732115883}, {\"y\": -0.030445614898313968, \"edge\": 55, \"community\": \", ICEM\", \"source\": \"Beijer, G.\", \"target\": \"Glinstra Bleeker, van, R.J.P.\", \"pair\": [\"Beijer, G.\", \"Glinstra Bleeker, van, R.J.P.\"], \"x\": 0.09166065945392926}, {\"y\": 0.04978010948361718, \"edge\": 55, \"community\": \", ICEM\", \"source\": \"Beijer, G.\", \"target\": \"Glinstra Bleeker, van, R.J.P.\", \"pair\": [\"Beijer, G.\", \"Glinstra Bleeker, van, R.J.P.\"], \"x\": -0.555748915341309}, {\"y\": -0.030445614898313968, \"edge\": 56, \"community\": \", ICEM\", \"source\": \"Beijer, G.\", \"target\": \"Sjollema, B.Ch.\", \"pair\": [\"Beijer, G.\", \"Sjollema, B.Ch.\"], \"x\": 0.09166065945392926}, {\"y\": 0.7378514531553836, \"edge\": 56, \"community\": \", ICEM\", \"source\": \"Beijer, G.\", \"target\": \"Sjollema, B.Ch.\", \"pair\": [\"Beijer, G.\", \"Sjollema, B.Ch.\"], \"x\": 0.06229854081771137}, {\"y\": -0.030445614898313968, \"edge\": 57, \"community\": \", ICEM\", \"source\": \"Beijer, G.\", \"target\": \"MacKay, M.C.J.\", \"pair\": [\"Beijer, G.\", \"MacKay, M.C.J.\"], \"x\": 0.09166065945392926}, {\"y\": -0.10221539686594339, \"edge\": 57, \"community\": \", ICEM\", \"source\": \"Beijer, G.\", \"target\": \"MacKay, M.C.J.\", \"pair\": [\"Beijer, G.\", \"MacKay, M.C.J.\"], \"x\": -0.903710245395294}, {\"y\": -0.030445614898313968, \"edge\": 58, \"community\": \", ICEM\", \"source\": \"Beijer, G.\", \"target\": \"Dorpema, H.\", \"pair\": [\"Beijer, G.\", \"Dorpema, H.\"], \"x\": 0.09166065945392926}, {\"y\": 0.7424595530745115, \"edge\": 58, \"community\": \", ICEM\", \"source\": \"Beijer, G.\", \"target\": \"Dorpema, H.\", \"pair\": [\"Beijer, G.\", \"Dorpema, H.\"], \"x\": -0.32725356850264903}, {\"y\": -0.030445614898313968, \"edge\": 59, \"community\": \", rest\", \"source\": \"Beijer, G.\", \"target\": \"Bentwich, N.\", \"pair\": [\"Beijer, G.\", \"Bentwich, N.\"], \"x\": 0.09166065945392926}, {\"y\": -0.5291821459829995, \"edge\": 59, \"community\": \", rest\", \"source\": \"Beijer, G.\", \"target\": \"Bentwich, N.\", \"pair\": [\"Beijer, G.\", \"Bentwich, N.\"], \"x\": 0.48417109210334963}, {\"y\": -0.030445614898313968, \"edge\": 60, \"community\": \", rest\", \"source\": \"Beijer, G.\", \"target\": \"Beveridge, W.H.\", \"pair\": [\"Beijer, G.\", \"Beveridge, W.H.\"], \"x\": 0.09166065945392926}, {\"y\": -0.7063224282018071, \"edge\": 60, \"community\": \", rest\", \"source\": \"Beijer, G.\", \"target\": \"Beveridge, W.H.\", \"pair\": [\"Beijer, G.\", \"Beveridge, W.H.\"], \"x\": 0.4008956224131223}, {\"y\": -0.030445614898313968, \"edge\": 61, \"community\": \", REMP\", \"source\": \"Beijer, G.\", \"target\": \"Bastos de Avila, F.\", \"pair\": [\"Beijer, G.\", \"Bastos de Avila, F.\"], \"x\": 0.09166065945392926}, {\"y\": -3.2871312026128408, \"edge\": 61, \"community\": \", REMP\", \"source\": \"Beijer, G.\", \"target\": \"Bastos de Avila, F.\", \"pair\": [\"Beijer, G.\", \"Bastos de Avila, F.\"], \"x\": -2.8754977709633263}, {\"y\": -0.030445614898313968, \"edge\": 62, \"community\": \", REMP\", \"source\": \"Beijer, G.\", \"target\": \"Camillo de Oliveira, A.\", \"pair\": [\"Beijer, G.\", \"Camillo de Oliveira, A.\"], \"x\": 0.09166065945392926}, {\"y\": -1.8949532957863886, \"edge\": 62, \"community\": \", REMP\", \"source\": \"Beijer, G.\", \"target\": \"Camillo de Oliveira, A.\", \"pair\": [\"Beijer, G.\", \"Camillo de Oliveira, A.\"], \"x\": -3.928276518302776}, {\"y\": -0.030445614898313968, \"edge\": 63, \"community\": \", REMP\", \"source\": \"Beijer, G.\", \"target\": \"Isaac, J.\", \"pair\": [\"Beijer, G.\", \"Isaac, J.\"], \"x\": 0.09166065945392926}, {\"y\": -1.6793091094392931, \"edge\": 63, \"community\": \", REMP\", \"source\": \"Beijer, G.\", \"target\": \"Isaac, J.\", \"pair\": [\"Beijer, G.\", \"Isaac, J.\"], \"x\": -2.196225710733898}, {\"y\": -0.030445614898313968, \"edge\": 64, \"community\": \", ICEM\", \"source\": \"Beijer, G.\", \"target\": \"Peltier, R.\", \"pair\": [\"Beijer, G.\", \"Peltier, R.\"], \"x\": 0.09166065945392926}, {\"y\": 0.5752112641888569, \"edge\": 64, \"community\": \", ICEM\", \"source\": \"Beijer, G.\", \"target\": \"Peltier, R.\", \"pair\": [\"Beijer, G.\", \"Peltier, R.\"], \"x\": 0.8289120140062317}, {\"y\": -0.030445614898313968, \"edge\": 65, \"community\": \", REMP\", \"source\": \"Beijer, G.\", \"target\": \"Brink, van den, T\", \"pair\": [\"Beijer, G.\", \"Brink, van den, T\"], \"x\": 0.09166065945392926}, {\"y\": 1.2390733053941572, \"edge\": 65, \"community\": \", REMP\", \"source\": \"Beijer, G.\", \"target\": \"Brink, van den, T\", \"pair\": [\"Beijer, G.\", \"Brink, van den, T\"], \"x\": 1.0033718578620605}, {\"y\": -0.030445614898313968, \"edge\": 66, \"community\": \", rest\", \"source\": \"Beijer, G.\", \"target\": \"Meyers, H.G.\", \"pair\": [\"Beijer, G.\", \"Meyers, H.G.\"], \"x\": 0.09166065945392926}, {\"y\": 0.3721442771497042, \"edge\": 66, \"community\": \", rest\", \"source\": \"Beijer, G.\", \"target\": \"Meyers, H.G.\", \"pair\": [\"Beijer, G.\", \"Meyers, H.G.\"], \"x\": -0.7560379437774106}, {\"y\": -0.030445614898313968, \"edge\": 67, \"community\": \", rest\", \"source\": \"Beijer, G.\", \"target\": \"Godefroy, J.\", \"pair\": [\"Beijer, G.\", \"Godefroy, J.\"], \"x\": 0.09166065945392926}, {\"y\": 0.3347535783949954, \"edge\": 67, \"community\": \", rest\", \"source\": \"Beijer, G.\", \"target\": \"Godefroy, J.\", \"pair\": [\"Beijer, G.\", \"Godefroy, J.\"], \"x\": -0.5752734218300525}, {\"y\": -0.030445614898313968, \"edge\": 68, \"community\": \", rest\", \"source\": \"Beijer, G.\", \"target\": \"Radspieler, T.\", \"pair\": [\"Beijer, G.\", \"Radspieler, T.\"], \"x\": 0.09166065945392926}, {\"y\": 0.41728591202545345, \"edge\": 68, \"community\": \", rest\", \"source\": \"Beijer, G.\", \"target\": \"Radspieler, T.\", \"pair\": [\"Beijer, G.\", \"Radspieler, T.\"], \"x\": 0.9728547952678523}, {\"y\": -0.030445614898313968, \"edge\": 69, \"community\": \", ICEM\", \"source\": \"Beijer, G.\", \"target\": \"Weinberg, A.A.W.\", \"pair\": [\"Beijer, G.\", \"Weinberg, A.A.W.\"], \"x\": 0.09166065945392926}, {\"y\": 0.6121624511323777, \"edge\": 69, \"community\": \", ICEM\", \"source\": \"Beijer, G.\", \"target\": \"Weinberg, A.A.W.\", \"pair\": [\"Beijer, G.\", \"Weinberg, A.A.W.\"], \"x\": -0.1356793949792533}, {\"y\": -0.030445614898313968, \"edge\": 70, \"community\": \", ICEM\", \"source\": \"Beijer, G.\", \"target\": \"Schmitz, J.P.G.\", \"pair\": [\"Beijer, G.\", \"Schmitz, J.P.G.\"], \"x\": 0.09166065945392926}, {\"y\": 0.34804597573782625, \"edge\": 70, \"community\": \", ICEM\", \"source\": \"Beijer, G.\", \"target\": \"Schmitz, J.P.G.\", \"pair\": [\"Beijer, G.\", \"Schmitz, J.P.G.\"], \"x\": 0.46781584080356553}, {\"y\": -0.030445614898313968, \"edge\": 71, \"community\": \", ICEM\", \"source\": \"Beijer, G.\", \"target\": \"Beld, van den, C.A.\", \"pair\": [\"Beijer, G.\", \"Beld, van den, C.A.\"], \"x\": 0.09166065945392926}, {\"y\": -0.48320249432698276, \"edge\": 71, \"community\": \", ICEM\", \"source\": \"Beijer, G.\", \"target\": \"Beld, van den, C.A.\", \"pair\": [\"Beijer, G.\", \"Beld, van den, C.A.\"], \"x\": 0.9888186047929451}, {\"y\": -0.030445614898313968, \"edge\": 72, \"community\": \", ICEM\", \"source\": \"Beijer, G.\", \"target\": \"Hyrenius, H.\", \"pair\": [\"Beijer, G.\", \"Hyrenius, H.\"], \"x\": 0.09166065945392926}, {\"y\": -0.697618805352801, \"edge\": 72, \"community\": \", ICEM\", \"source\": \"Beijer, G.\", \"target\": \"Hyrenius, H.\", \"pair\": [\"Beijer, G.\", \"Hyrenius, H.\"], \"x\": 0.8655235825890223}, {\"y\": -0.030445614898313968, \"edge\": 73, \"community\": \", ICEM\", \"source\": \"Beijer, G.\", \"target\": \"Mannoni, E.\", \"pair\": [\"Beijer, G.\", \"Mannoni, E.\"], \"x\": 0.09166065945392926}, {\"y\": 0.5726360389361301, \"edge\": 73, \"community\": \", ICEM\", \"source\": \"Beijer, G.\", \"target\": \"Mannoni, E.\", \"pair\": [\"Beijer, G.\", \"Mannoni, E.\"], \"x\": -0.4926210813980243}, {\"y\": -0.030445614898313968, \"edge\": 74, \"community\": \", ICEM\", \"source\": \"Beijer, G.\", \"target\": \"Belshaw, H.\", \"pair\": [\"Beijer, G.\", \"Belshaw, H.\"], \"x\": 0.09166065945392926}, {\"y\": -0.18422730140109067, \"edge\": 74, \"community\": \", ICEM\", \"source\": \"Beijer, G.\", \"target\": \"Belshaw, H.\", \"pair\": [\"Beijer, G.\", \"Belshaw, H.\"], \"x\": -0.6792408090974814}, {\"y\": -0.030445614898313968, \"edge\": 75, \"community\": \", ICEM\", \"source\": \"Beijer, G.\", \"target\": \"Olsson, B.\", \"pair\": [\"Beijer, G.\", \"Olsson, B.\"], \"x\": 0.09166065945392926}, {\"y\": 0.5891774109000049, \"edge\": 75, \"community\": \", ICEM\", \"source\": \"Beijer, G.\", \"target\": \"Olsson, B.\", \"pair\": [\"Beijer, G.\", \"Olsson, B.\"], \"x\": -0.7267578220628617}, {\"y\": -0.030445614898313968, \"edge\": 76, \"community\": \", ICEM\", \"source\": \"Beijer, G.\", \"target\": \"Geyl, W.F.\", \"pair\": [\"Beijer, G.\", \"Geyl, W.F.\"], \"x\": 0.09166065945392926}, {\"y\": 0.793524072315747, \"edge\": 76, \"community\": \", ICEM\", \"source\": \"Beijer, G.\", \"target\": \"Geyl, W.F.\", \"pair\": [\"Beijer, G.\", \"Geyl, W.F.\"], \"x\": -0.5318189760089127}, {\"y\": -0.030445614898313968, \"edge\": 77, \"community\": \", REMP\", \"source\": \"Beijer, G.\", \"target\": \"Steigenga, W.\", \"pair\": [\"Beijer, G.\", \"Steigenga, W.\"], \"x\": 0.09166065945392926}, {\"y\": -0.041580431738985936, \"edge\": 77, \"community\": \", REMP\", \"source\": \"Beijer, G.\", \"target\": \"Steigenga, W.\", \"pair\": [\"Beijer, G.\", \"Steigenga, W.\"], \"x\": 0.970195845778259}, {\"y\": -0.030445614898313968, \"edge\": 78, \"community\": \", REMP\", \"source\": \"Beijer, G.\", \"target\": \"Ipsen, G.\", \"pair\": [\"Beijer, G.\", \"Ipsen, G.\"], \"x\": 0.09166065945392926}, {\"y\": 0.2120842357860188, \"edge\": 78, \"community\": \", REMP\", \"source\": \"Beijer, G.\", \"target\": \"Ipsen, G.\", \"pair\": [\"Beijer, G.\", \"Ipsen, G.\"], \"x\": 0.7967087332445795}, {\"y\": -0.030445614898313968, \"edge\": 79, \"community\": \", rest\", \"source\": \"Beijer, G.\", \"target\": \"Brepohl, W.\", \"pair\": [\"Beijer, G.\", \"Brepohl, W.\"], \"x\": 0.09166065945392926}, {\"y\": -1.0305893567556013, \"edge\": 79, \"community\": \", rest\", \"source\": \"Beijer, G.\", \"target\": \"Brepohl, W.\", \"pair\": [\"Beijer, G.\", \"Brepohl, W.\"], \"x\": 0.16575994338918298}, {\"y\": -0.030445614898313968, \"edge\": 80, \"community\": \", rest\", \"source\": \"Beijer, G.\", \"target\": \"Lehmkuhler, M.\", \"pair\": [\"Beijer, G.\", \"Lehmkuhler, M.\"], \"x\": 0.09166065945392926}, {\"y\": -0.8404558013985588, \"edge\": 80, \"community\": \", rest\", \"source\": \"Beijer, G.\", \"target\": \"Lehmkuhler, M.\", \"pair\": [\"Beijer, G.\", \"Lehmkuhler, M.\"], \"x\": 0.16521615706807485}, {\"y\": -0.030445614898313968, \"edge\": 81, \"community\": \", ICEM\", \"source\": \"Beijer, G.\", \"target\": \"Borrie, W.D.\", \"pair\": [\"Beijer, G.\", \"Borrie, W.D.\"], \"x\": 0.09166065945392926}, {\"y\": 0.7512566595412383, \"edge\": 81, \"community\": \", ICEM\", \"source\": \"Beijer, G.\", \"target\": \"Borrie, W.D.\", \"pair\": [\"Beijer, G.\", \"Borrie, W.D.\"], \"x\": 0.7321957613038965}, {\"y\": -0.030445614898313968, \"edge\": 82, \"community\": \", rest\", \"source\": \"Beijer, G.\", \"target\": \"Lewis, J.N.\", \"pair\": [\"Beijer, G.\", \"Lewis, J.N.\"], \"x\": 0.09166065945392926}, {\"y\": 0.16544984092917409, \"edge\": 82, \"community\": \", rest\", \"source\": \"Beijer, G.\", \"target\": \"Lewis, J.N.\", \"pair\": [\"Beijer, G.\", \"Lewis, J.N.\"], \"x\": -0.29135666246731373}, {\"y\": -0.030445614898313968, \"edge\": 83, \"community\": \", rest\", \"source\": \"Beijer, G.\", \"target\": \"Sauvon, E.A.\", \"pair\": [\"Beijer, G.\", \"Sauvon, E.A.\"], \"x\": 0.09166065945392926}, {\"y\": 0.3729785067638525, \"edge\": 83, \"community\": \", rest\", \"source\": \"Beijer, G.\", \"target\": \"Sauvon, E.A.\", \"pair\": [\"Beijer, G.\", \"Sauvon, E.A.\"], \"x\": -0.24904775445819932}, {\"y\": -0.030445614898313968, \"edge\": 84, \"community\": \", ICEM\", \"source\": \"Beijer, G.\", \"target\": \"Maris, A.\", \"pair\": [\"Beijer, G.\", \"Maris, A.\"], \"x\": 0.09166065945392926}, {\"y\": -0.6264435152836743, \"edge\": 84, \"community\": \", ICEM\", \"source\": \"Beijer, G.\", \"target\": \"Maris, A.\", \"pair\": [\"Beijer, G.\", \"Maris, A.\"], \"x\": -0.7445819175300507}, {\"y\": -0.030445614898313968, \"edge\": 85, \"community\": \", ICEM\", \"source\": \"Beijer, G.\", \"target\": \"Pressat, R.\", \"pair\": [\"Beijer, G.\", \"Pressat, R.\"], \"x\": 0.09166065945392926}, {\"y\": -0.8866211685456376, \"edge\": 85, \"community\": \", ICEM\", \"source\": \"Beijer, G.\", \"target\": \"Pressat, R.\", \"pair\": [\"Beijer, G.\", \"Pressat, R.\"], \"x\": -0.42796744315652435}, {\"y\": -0.030445614898313968, \"edge\": 86, \"community\": \", ICEM\", \"source\": \"Beijer, G.\", \"target\": \"Lyon, A.V.\", \"pair\": [\"Beijer, G.\", \"Lyon, A.V.\"], \"x\": 0.09166065945392926}, {\"y\": -0.49138907785932906, \"edge\": 86, \"community\": \", ICEM\", \"source\": \"Beijer, G.\", \"target\": \"Lyon, A.V.\", \"pair\": [\"Beijer, G.\", \"Lyon, A.V.\"], \"x\": -0.48350330342764825}, {\"y\": -0.030445614898313968, \"edge\": 87, \"community\": \", rest\", \"source\": \"Beijer, G.\", \"target\": \"Neher, L.\", \"pair\": [\"Beijer, G.\", \"Neher, L.\"], \"x\": 0.09166065945392926}, {\"y\": 0.26017974513429004, \"edge\": 87, \"community\": \", rest\", \"source\": \"Beijer, G.\", \"target\": \"Neher, L.\", \"pair\": [\"Beijer, G.\", \"Neher, L.\"], \"x\": 1.059680476317034}, {\"y\": -0.030445614898313968, \"edge\": 88, \"community\": \", ICEM\", \"source\": \"Beijer, G.\", \"target\": \"Herberle, R.\", \"pair\": [\"Beijer, G.\", \"Herberle, R.\"], \"x\": 0.09166065945392926}, {\"y\": -0.33039864766271204, \"edge\": 88, \"community\": \", ICEM\", \"source\": \"Beijer, G.\", \"target\": \"Herberle, R.\", \"pair\": [\"Beijer, G.\", \"Herberle, R.\"], \"x\": -0.8904905494275158}, {\"y\": -0.030445614898313968, \"edge\": 89, \"community\": \", ICEM\", \"source\": \"Beijer, G.\", \"target\": \"Starr, M.\", \"pair\": [\"Beijer, G.\", \"Starr, M.\"], \"x\": 0.09166065945392926}, {\"y\": 0.9519586478694936, \"edge\": 89, \"community\": \", ICEM\", \"source\": \"Beijer, G.\", \"target\": \"Starr, M.\", \"pair\": [\"Beijer, G.\", \"Starr, M.\"], \"x\": -0.031956554478139984}, {\"y\": -0.030445614898313968, \"edge\": 90, \"community\": \", ICEM\", \"source\": \"Beijer, G.\", \"target\": \"Reid, I.D.A.\", \"pair\": [\"Beijer, G.\", \"Reid, I.D.A.\"], \"x\": 0.09166065945392926}, {\"y\": 0.6944854528315998, \"edge\": 90, \"community\": \", ICEM\", \"source\": \"Beijer, G.\", \"target\": \"Reid, I.D.A.\", \"pair\": [\"Beijer, G.\", \"Reid, I.D.A.\"], \"x\": 0.29592365424977346}, {\"y\": -0.030445614898313968, \"edge\": 91, \"community\": \", ICEM\", \"source\": \"Beijer, G.\", \"target\": \"Appleyard, R.T.\", \"pair\": [\"Beijer, G.\", \"Appleyard, R.T.\"], \"x\": 0.09166065945392926}, {\"y\": -0.42645057448016277, \"edge\": 91, \"community\": \", ICEM\", \"source\": \"Beijer, G.\", \"target\": \"Appleyard, R.T.\", \"pair\": [\"Beijer, G.\", \"Appleyard, R.T.\"], \"x\": -0.7098904128097787}, {\"y\": -0.030445614898313968, \"edge\": 92, \"community\": \", ICEM\", \"source\": \"Beijer, G.\", \"target\": \"Timlin, M.F.\", \"pair\": [\"Beijer, G.\", \"Timlin, M.F.\"], \"x\": 0.09166065945392926}, {\"y\": -0.7193513506692691, \"edge\": 92, \"community\": \", ICEM\", \"source\": \"Beijer, G.\", \"target\": \"Timlin, M.F.\", \"pair\": [\"Beijer, G.\", \"Timlin, M.F.\"], \"x\": 0.6659872235594578}, {\"y\": -0.030445614898313968, \"edge\": 93, \"community\": \", rest\", \"source\": \"Beijer, G.\", \"target\": \"Zubrzycki, J.\", \"pair\": [\"Beijer, G.\", \"Zubrzycki, J.\"], \"x\": 0.09166065945392926}, {\"y\": -0.22123881036935603, \"edge\": 93, \"community\": \", rest\", \"source\": \"Beijer, G.\", \"target\": \"Zubrzycki, J.\", \"pair\": [\"Beijer, G.\", \"Zubrzycki, J.\"], \"x\": 0.774255875562136}, {\"y\": -0.030445614898313968, \"edge\": 94, \"community\": \", rest\", \"source\": \"Beijer, G.\", \"target\": \"Clemens, R.\", \"pair\": [\"Beijer, G.\", \"Clemens, R.\"], \"x\": 0.09166065945392926}, {\"y\": -0.02516302850911237, \"edge\": 94, \"community\": \", rest\", \"source\": \"Beijer, G.\", \"target\": \"Clemens, R.\", \"pair\": [\"Beijer, G.\", \"Clemens, R.\"], \"x\": 0.7858018662138225}, {\"y\": -0.030445614898313968, \"edge\": 95, \"community\": \", REMP\", \"source\": \"Beijer, G.\", \"target\": \"Verwey-Jonker, H.\", \"pair\": [\"Beijer, G.\", \"Verwey-Jonker, H.\"], \"x\": 0.09166065945392926}, {\"y\": 0.31467719716686093, \"edge\": 95, \"community\": \", REMP\", \"source\": \"Beijer, G.\", \"target\": \"Verwey-Jonker, H.\", \"pair\": [\"Beijer, G.\", \"Verwey-Jonker, H.\"], \"x\": -0.440657357245245}, {\"y\": -0.030445614898313968, \"edge\": 96, \"community\": \", REMP\", \"source\": \"Beijer, G.\", \"target\": \"Brackel, P.O.M.\", \"pair\": [\"Beijer, G.\", \"Brackel, P.O.M.\"], \"x\": 0.09166065945392926}, {\"y\": 0.18655282199255138, \"edge\": 96, \"community\": \", REMP\", \"source\": \"Beijer, G.\", \"target\": \"Brackel, P.O.M.\", \"pair\": [\"Beijer, G.\", \"Brackel, P.O.M.\"], \"x\": -0.8634742818866878}, {\"y\": -0.030445614898313968, \"edge\": 97, \"community\": \", REMP\", \"source\": \"Beijer, G.\", \"target\": \"Klompe, M.\", \"pair\": [\"Beijer, G.\", \"Klompe, M.\"], \"x\": 0.09166065945392926}, {\"y\": 0.08538298258582044, \"edge\": 97, \"community\": \", REMP\", \"source\": \"Beijer, G.\", \"target\": \"Klompe, M.\", \"pair\": [\"Beijer, G.\", \"Klompe, M.\"], \"x\": -0.6185082012294749}, {\"y\": -0.030445614898313968, \"edge\": 98, \"community\": \", REMP\", \"source\": \"Beijer, G.\", \"target\": \"Verkade, W.\", \"pair\": [\"Beijer, G.\", \"Verkade, W.\"], \"x\": 0.09166065945392926}, {\"y\": 0.44845810709166034, \"edge\": 98, \"community\": \", REMP\", \"source\": \"Beijer, G.\", \"target\": \"Verkade, W.\", \"pair\": [\"Beijer, G.\", \"Verkade, W.\"], \"x\": -0.7935633545277718}, {\"y\": -0.030445614898313968, \"edge\": 99, \"community\": \", rest\", \"source\": \"Beijer, G.\", \"target\": \"Witkamp, F.Th.\", \"pair\": [\"Beijer, G.\", \"Witkamp, F.Th.\"], \"x\": 0.09166065945392926}, {\"y\": -0.2790942842452166, \"edge\": 99, \"community\": \", rest\", \"source\": \"Beijer, G.\", \"target\": \"Witkamp, F.Th.\", \"pair\": [\"Beijer, G.\", \"Witkamp, F.Th.\"], \"x\": 1.050598640303705}, {\"y\": -0.030445614898313968, \"edge\": 100, \"community\": \", rest\", \"source\": \"Beijer, G.\", \"target\": \"Patijn, C.L.\", \"pair\": [\"Beijer, G.\", \"Patijn, C.L.\"], \"x\": 0.09166065945392926}, {\"y\": -0.107524388129317, \"edge\": 100, \"community\": \", rest\", \"source\": \"Beijer, G.\", \"target\": \"Patijn, C.L.\", \"pair\": [\"Beijer, G.\", \"Patijn, C.L.\"], \"x\": 1.054716087425469}, {\"y\": -0.030445614898313968, \"edge\": 101, \"community\": \", ICEM\", \"source\": \"Beijer, G.\", \"target\": \"Witkamp, T.\", \"pair\": [\"Beijer, G.\", \"Witkamp, T.\"], \"x\": 0.09166065945392926}, {\"y\": -0.9038226651418902, \"edge\": 101, \"community\": \", ICEM\", \"source\": \"Beijer, G.\", \"target\": \"Witkamp, T.\", \"pair\": [\"Beijer, G.\", \"Witkamp, T.\"], \"x\": 0.5844498252475093}, {\"y\": -0.030445614898313968, \"edge\": 102, \"community\": \", ICEM\", \"source\": \"Beijer, G.\", \"target\": \"Gottmann, J.\", \"pair\": [\"Beijer, G.\", \"Gottmann, J.\"], \"x\": 0.09166065945392926}, {\"y\": 0.3234154194446652, \"edge\": 102, \"community\": \", ICEM\", \"source\": \"Beijer, G.\", \"target\": \"Gottmann, J.\", \"pair\": [\"Beijer, G.\", \"Gottmann, J.\"], \"x\": 0.7713853057325939}, {\"y\": -0.030445614898313968, \"edge\": 103, \"community\": \", ICEM\", \"source\": \"Beijer, G.\", \"target\": \"Balhana, A.Pilatti\", \"pair\": [\"Beijer, G.\", \"Balhana, A.Pilatti\"], \"x\": 0.09166065945392926}, {\"y\": -0.9776026323296902, \"edge\": 103, \"community\": \", ICEM\", \"source\": \"Beijer, G.\", \"target\": \"Balhana, A.Pilatti\", \"pair\": [\"Beijer, G.\", \"Balhana, A.Pilatti\"], \"x\": 0.3828543844415078}, {\"y\": -0.030445614898313968, \"edge\": 104, \"community\": \", ICEM\", \"source\": \"Beijer, G.\", \"target\": \"Cidor, H.A.\", \"pair\": [\"Beijer, G.\", \"Cidor, H.A.\"], \"x\": 0.09166065945392926}, {\"y\": 0.9324082631375793, \"edge\": 104, \"community\": \", ICEM\", \"source\": \"Beijer, G.\", \"target\": \"Cidor, H.A.\", \"pair\": [\"Beijer, G.\", \"Cidor, H.A.\"], \"x\": 0.39468006041046333}, {\"y\": -0.030445614898313968, \"edge\": 105, \"community\": \", ICEM\", \"source\": \"Beijer, G.\", \"target\": \"Wentholt, R.\", \"pair\": [\"Beijer, G.\", \"Wentholt, R.\"], \"x\": 0.09166065945392926}, {\"y\": 0.07158090407160475, \"edge\": 105, \"community\": \", ICEM\", \"source\": \"Beijer, G.\", \"target\": \"Wentholt, R.\", \"pair\": [\"Beijer, G.\", \"Wentholt, R.\"], \"x\": -0.813269566051326}, {\"y\": -0.030445614898313968, \"edge\": 106, \"community\": \", ICEM\", \"source\": \"Beijer, G.\", \"target\": \"Rosenfield, H.N.\", \"pair\": [\"Beijer, G.\", \"Rosenfield, H.N.\"], \"x\": 0.09166065945392926}, {\"y\": 0.44383124604681845, \"edge\": 106, \"community\": \", ICEM\", \"source\": \"Beijer, G.\", \"target\": \"Rosenfield, H.N.\", \"pair\": [\"Beijer, G.\", \"Rosenfield, H.N.\"], \"x\": 0.16462340424759964}, {\"y\": -0.030445614898313968, \"edge\": 107, \"community\": \", ICEM\", \"source\": \"Beijer, G.\", \"target\": \"Witcover, J.\", \"pair\": [\"Beijer, G.\", \"Witcover, J.\"], \"x\": 0.09166065945392926}, {\"y\": -0.9934477482004671, \"edge\": 107, \"community\": \", ICEM\", \"source\": \"Beijer, G.\", \"target\": \"Witcover, J.\", \"pair\": [\"Beijer, G.\", \"Witcover, J.\"], \"x\": -0.0461995148493828}, {\"y\": -0.030445614898313968, \"edge\": 108, \"community\": \", ICEM\", \"source\": \"Beijer, G.\", \"target\": \"Orleans, L.A.\", \"pair\": [\"Beijer, G.\", \"Orleans, L.A.\"], \"x\": 0.09166065945392926}, {\"y\": 0.1128429409197492, \"edge\": 108, \"community\": \", ICEM\", \"source\": \"Beijer, G.\", \"target\": \"Orleans, L.A.\", \"pair\": [\"Beijer, G.\", \"Orleans, L.A.\"], \"x\": 0.5780820146743668}, {\"y\": -0.030445614898313968, \"edge\": 109, \"community\": \", ICEM\", \"source\": \"Beijer, G.\", \"target\": \"Kraak, J.H.\", \"pair\": [\"Beijer, G.\", \"Kraak, J.H.\"], \"x\": 0.09166065945392926}, {\"y\": 0.9584500923668006, \"edge\": 109, \"community\": \", ICEM\", \"source\": \"Beijer, G.\", \"target\": \"Kraak, J.H.\", \"pair\": [\"Beijer, G.\", \"Kraak, J.H.\"], \"x\": 0.17739417572815444}, {\"y\": -0.030445614898313968, \"edge\": 110, \"community\": \", ICEM\", \"source\": \"Beijer, G.\", \"target\": \"Richardson, A.\", \"pair\": [\"Beijer, G.\", \"Richardson, A.\"], \"x\": 0.09166065945392926}, {\"y\": -0.9707106062448294, \"edge\": 110, \"community\": \", ICEM\", \"source\": \"Beijer, G.\", \"target\": \"Richardson, A.\", \"pair\": [\"Beijer, G.\", \"Richardson, A.\"], \"x\": -0.24389221294191687}, {\"y\": -0.030445614898313968, \"edge\": 111, \"community\": \", ICEM\", \"source\": \"Beijer, G.\", \"target\": \"Hack, H.\", \"pair\": [\"Beijer, G.\", \"Hack, H.\"], \"x\": 0.09166065945392926}, {\"y\": 0.9261471381462736, \"edge\": 111, \"community\": \", ICEM\", \"source\": \"Beijer, G.\", \"target\": \"Hack, H.\", \"pair\": [\"Beijer, G.\", \"Hack, H.\"], \"x\": -0.24216877227683853}, {\"y\": -0.030445614898313968, \"edge\": 112, \"community\": \", ICEM\", \"source\": \"Beijer, G.\", \"target\": \"Rubin, E.\", \"pair\": [\"Beijer, G.\", \"Rubin, E.\"], \"x\": 0.09166065945392926}, {\"y\": -0.22550050067454028, \"edge\": 112, \"community\": \", ICEM\", \"source\": \"Beijer, G.\", \"target\": \"Rubin, E.\", \"pair\": [\"Beijer, G.\", \"Rubin, E.\"], \"x\": -0.4052948884204651}, {\"y\": -0.030445614898313968, \"edge\": 113, \"community\": \", ICEM\", \"source\": \"Beijer, G.\", \"target\": \"Luckham, B.\", \"pair\": [\"Beijer, G.\", \"Luckham, B.\"], \"x\": 0.09166065945392926}, {\"y\": -0.74709331965811, \"edge\": 113, \"community\": \", ICEM\", \"source\": \"Beijer, G.\", \"target\": \"Luckham, B.\", \"pair\": [\"Beijer, G.\", \"Luckham, B.\"], \"x\": -0.5746886889259802}, {\"y\": -0.030445614898313968, \"edge\": 114, \"community\": \", ICEM\", \"source\": \"Beijer, G.\", \"target\": \"Mol, J.J.\", \"pair\": [\"Beijer, G.\", \"Mol, J.J.\"], \"x\": 0.09166065945392926}, {\"y\": -0.7425804877764381, \"edge\": 114, \"community\": \", ICEM\", \"source\": \"Beijer, G.\", \"target\": \"Mol, J.J.\", \"pair\": [\"Beijer, G.\", \"Mol, J.J.\"], \"x\": -0.08286829257910337}, {\"y\": -0.030445614898313968, \"edge\": 115, \"community\": \", ICEM\", \"source\": \"Beijer, G.\", \"target\": \"Fagley, R.\", \"pair\": [\"Beijer, G.\", \"Fagley, R.\"], \"x\": 0.09166065945392926}, {\"y\": 0.23609991984406214, \"edge\": 115, \"community\": \", ICEM\", \"source\": \"Beijer, G.\", \"target\": \"Fagley, R.\", \"pair\": [\"Beijer, G.\", \"Fagley, R.\"], \"x\": -0.9131919764684412}, {\"y\": -0.030445614898313968, \"edge\": 116, \"community\": \", ICEM\", \"source\": \"Beijer, G.\", \"target\": \"Price, C.A.\", \"pair\": [\"Beijer, G.\", \"Price, C.A.\"], \"x\": 0.09166065945392926}, {\"y\": 0.08082874652927476, \"edge\": 116, \"community\": \", ICEM\", \"source\": \"Beijer, G.\", \"target\": \"Price, C.A.\", \"pair\": [\"Beijer, G.\", \"Price, C.A.\"], \"x\": 1.011130771895846}, {\"y\": -0.030445614898313968, \"edge\": 117, \"community\": \", ICEM\", \"source\": \"Beijer, G.\", \"target\": \"Rees, E.\", \"pair\": [\"Beijer, G.\", \"Rees, E.\"], \"x\": 0.09166065945392926}, {\"y\": -0.6640678141792054, \"edge\": 117, \"community\": \", ICEM\", \"source\": \"Beijer, G.\", \"target\": \"Rees, E.\", \"pair\": [\"Beijer, G.\", \"Rees, E.\"], \"x\": -0.31105355850642674}, {\"y\": -0.030445614898313968, \"edge\": 118, \"community\": \", ICEM\", \"source\": \"Beijer, G.\", \"target\": \"Paulson, B.\", \"pair\": [\"Beijer, G.\", \"Paulson, B.\"], \"x\": 0.09166065945392926}, {\"y\": 0.5641641606133626, \"edge\": 118, \"community\": \", ICEM\", \"source\": \"Beijer, G.\", \"target\": \"Paulson, B.\", \"pair\": [\"Beijer, G.\", \"Paulson, B.\"], \"x\": 0.5519812018709238}, {\"y\": -0.030445614898313968, \"edge\": 119, \"community\": \", ICEM\", \"source\": \"Beijer, G.\", \"target\": \"Heyn, H.\", \"pair\": [\"Beijer, G.\", \"Heyn, H.\"], \"x\": 0.09166065945392926}, {\"y\": 0.7953740347373175, \"edge\": 119, \"community\": \", ICEM\", \"source\": \"Beijer, G.\", \"target\": \"Heyn, H.\", \"pair\": [\"Beijer, G.\", \"Heyn, H.\"], \"x\": 0.5413717627652679}, {\"y\": -0.030445614898313968, \"edge\": 120, \"community\": \", ICEM\", \"source\": \"Beijer, G.\", \"target\": \"Putten, v.d., A.\", \"pair\": [\"Beijer, G.\", \"Putten, v.d., A.\"], \"x\": 0.09166065945392926}, {\"y\": -0.4686003832702419, \"edge\": 120, \"community\": \", ICEM\", \"source\": \"Beijer, G.\", \"target\": \"Putten, v.d., A.\", \"pair\": [\"Beijer, G.\", \"Putten, v.d., A.\"], \"x\": 0.7613131140144334}, {\"y\": 0.2942640082229764, \"edge\": 121, \"community\": \", REMP\", \"source\": \"Citroen, H.A.\", \"target\": \"Groenman, Sj.\", \"pair\": [\"Citroen, H.A.\", \"Groenman, Sj.\"], \"x\": 0.4498538377817033}, {\"y\": 1.0832563835943099, \"edge\": 121, \"community\": \", REMP\", \"source\": \"Citroen, H.A.\", \"target\": \"Groenman, Sj.\", \"pair\": [\"Citroen, H.A.\", \"Groenman, Sj.\"], \"x\": 0.9221804407036506}, {\"y\": 0.2942640082229764, \"edge\": 122, \"community\": \", REMP\", \"source\": \"Citroen, H.A.\", \"target\": \"Rappard, W.E.\", \"pair\": [\"Citroen, H.A.\", \"Rappard, W.E.\"], \"x\": 0.4498538377817033}, {\"y\": 0.17302103204071062, \"edge\": 122, \"community\": \", REMP\", \"source\": \"Citroen, H.A.\", \"target\": \"Rappard, W.E.\", \"pair\": [\"Citroen, H.A.\", \"Rappard, W.E.\"], \"x\": 1.053747080709569}, {\"y\": 1.0832563835943099, \"edge\": 123, \"community\": \", REMP\", \"source\": \"Groenman, Sj.\", \"target\": \"Rappard, W.E.\", \"pair\": [\"Groenman, Sj.\", \"Rappard, W.E.\"], \"x\": 0.9221804407036506}, {\"y\": 0.17302103204071062, \"edge\": 123, \"community\": \", REMP\", \"source\": \"Groenman, Sj.\", \"target\": \"Rappard, W.E.\", \"pair\": [\"Groenman, Sj.\", \"Rappard, W.E.\"], \"x\": 1.053747080709569}, {\"y\": 1.0832563835943099, \"edge\": 124, \"community\": \", REMP\", \"source\": \"Groenman, Sj.\", \"target\": \"Hofstee, E.W.\", \"pair\": [\"Groenman, Sj.\", \"Hofstee, E.W.\"], \"x\": 0.9221804407036506}, {\"y\": 1.312397777029116, \"edge\": 124, \"community\": \", REMP\", \"source\": \"Groenman, Sj.\", \"target\": \"Hofstee, E.W.\", \"pair\": [\"Groenman, Sj.\", \"Hofstee, E.W.\"], \"x\": 1.8620677901140483}, {\"y\": 1.0832563835943099, \"edge\": 125, \"community\": \", REMP\", \"source\": \"Groenman, Sj.\", \"target\": \"RCE\", \"pair\": [\"Groenman, Sj.\", \"RCE\"], \"x\": 0.9221804407036506}, {\"y\": 2.0541454767910827, \"edge\": 125, \"community\": \", REMP\", \"source\": \"Groenman, Sj.\", \"target\": \"RCE\", \"pair\": [\"Groenman, Sj.\", \"RCE\"], \"x\": 1.117102860567062}, {\"y\": 1.0832563835943099, \"edge\": 126, \"community\": \", ICEM\", \"source\": \"Groenman, Sj.\", \"target\": \"ICEM\", \"pair\": [\"Groenman, Sj.\", \"ICEM\"], \"x\": 0.9221804407036506}, {\"y\": 1.7928987993082788, \"edge\": 126, \"community\": \", ICEM\", \"source\": \"Groenman, Sj.\", \"target\": \"ICEM\", \"pair\": [\"Groenman, Sj.\", \"ICEM\"], \"x\": 0.6700167835645283}, {\"y\": 1.0832563835943099, \"edge\": 127, \"community\": \", REMP\", \"source\": \"Groenman, Sj.\", \"target\": \"Hofstede, B.P.\", \"pair\": [\"Groenman, Sj.\", \"Hofstede, B.P.\"], \"x\": 0.9221804407036506}, {\"y\": 1.6405404922869051, \"edge\": 127, \"community\": \", REMP\", \"source\": \"Groenman, Sj.\", \"target\": \"Hofstede, B.P.\", \"pair\": [\"Groenman, Sj.\", \"Hofstede, B.P.\"], \"x\": 1.4283973215275065}, {\"y\": -0.998872794741764, \"edge\": 128, \"community\": \", REMP\", \"source\": \"Edding, F.\", \"target\": \"Salin, E.\", \"pair\": [\"Edding, F.\", \"Salin, E.\"], \"x\": -0.2846802416663137}, {\"y\": -1.0147993810424651, \"edge\": 128, \"community\": \", REMP\", \"source\": \"Edding, F.\", \"target\": \"Salin, E.\", \"pair\": [\"Edding, F.\", \"Salin, E.\"], \"x\": 0.02335149696317161}, {\"y\": -0.905226982057729, \"edge\": 129, \"community\": \", REMP\", \"source\": \"Oudegeest, J.J.\", \"target\": \"Sauvy, A.\", \"pair\": [\"Oudegeest, J.J.\", \"Sauvy, A.\"], \"x\": 0.42426619466536986}, {\"y\": -0.7282226880427018, \"edge\": 129, \"community\": \", REMP\", \"source\": \"Oudegeest, J.J.\", \"target\": \"Sauvy, A.\", \"pair\": [\"Oudegeest, J.J.\", \"Sauvy, A.\"], \"x\": 0.6885708409551696}, {\"y\": -0.7282226880427018, \"edge\": 130, \"community\": \", REMP\", \"source\": \"Sauvy, A.\", \"target\": \"Brink, van den , T.\", \"pair\": [\"Sauvy, A.\", \"Brink, van den , T.\"], \"x\": 0.6885708409551696}, {\"y\": -0.4258069575953092, \"edge\": 130, \"community\": \", REMP\", \"source\": \"Sauvy, A.\", \"target\": \"Brink, van den , T.\", \"pair\": [\"Sauvy, A.\", \"Brink, van den , T.\"], \"x\": 0.792956663831658}, {\"y\": 0.8319263829200667, \"edge\": 131, \"community\": \", REMP\", \"source\": \"Gadolin, de, A.\", \"target\": \"Zeegers, G.H.L.\", \"pair\": [\"Gadolin, de, A.\", \"Zeegers, G.H.L.\"], \"x\": -0.1559309386793259}, {\"y\": 0.580177789712127, \"edge\": 131, \"community\": \", REMP\", \"source\": \"Gadolin, de, A.\", \"target\": \"Zeegers, G.H.L.\", \"pair\": [\"Gadolin, de, A.\", \"Zeegers, G.H.L.\"], \"x\": -0.5184813023172244}, {\"y\": 0.580177789712127, \"edge\": 132, \"community\": \", REMP\", \"source\": \"Zeegers, G.H.L.\", \"target\": \"Verwey-Jonker, H.\", \"pair\": [\"Zeegers, G.H.L.\", \"Verwey-Jonker, H.\"], \"x\": -0.5184813023172244}, {\"y\": 0.31467719716686093, \"edge\": 132, \"community\": \", REMP\", \"source\": \"Zeegers, G.H.L.\", \"target\": \"Verwey-Jonker, H.\", \"pair\": [\"Zeegers, G.H.L.\", \"Verwey-Jonker, H.\"], \"x\": -0.440657357245245}, {\"y\": 0.580177789712127, \"edge\": 133, \"community\": \", REMP\", \"source\": \"Zeegers, G.H.L.\", \"target\": \"Brackel, P.O.M.\", \"pair\": [\"Zeegers, G.H.L.\", \"Brackel, P.O.M.\"], \"x\": -0.5184813023172244}, {\"y\": 0.18655282199255138, \"edge\": 133, \"community\": \", REMP\", \"source\": \"Zeegers, G.H.L.\", \"target\": \"Brackel, P.O.M.\", \"pair\": [\"Zeegers, G.H.L.\", \"Brackel, P.O.M.\"], \"x\": -0.8634742818866878}, {\"y\": 0.580177789712127, \"edge\": 134, \"community\": \", REMP\", \"source\": \"Zeegers, G.H.L.\", \"target\": \"Klompe, M.\", \"pair\": [\"Zeegers, G.H.L.\", \"Klompe, M.\"], \"x\": -0.5184813023172244}, {\"y\": 0.08538298258582044, \"edge\": 134, \"community\": \", REMP\", \"source\": \"Zeegers, G.H.L.\", \"target\": \"Klompe, M.\", \"pair\": [\"Zeegers, G.H.L.\", \"Klompe, M.\"], \"x\": -0.6185082012294749}, {\"y\": 0.580177789712127, \"edge\": 135, \"community\": \", REMP\", \"source\": \"Zeegers, G.H.L.\", \"target\": \"Verkade, W.\", \"pair\": [\"Zeegers, G.H.L.\", \"Verkade, W.\"], \"x\": -0.5184813023172244}, {\"y\": 0.44845810709166034, \"edge\": 135, \"community\": \", REMP\", \"source\": \"Zeegers, G.H.L.\", \"target\": \"Verkade, W.\", \"pair\": [\"Zeegers, G.H.L.\", \"Verkade, W.\"], \"x\": -0.7935633545277718}, {\"y\": 1.1406204951561003, \"edge\": 136, \"community\": \", REMP\", \"source\": \"HWvanLoon Fellowship, NL regering\", \"target\": \"Institute of International Education\", \"pair\": [\"HWvanLoon Fellowship, NL regering\", \"Institute of International Education\"], \"x\": 2.2704996133501725}, {\"y\": 0.8037888573046559, \"edge\": 136, \"community\": \", REMP\", \"source\": \"HWvanLoon Fellowship, NL regering\", \"target\": \"Institute of International Education\", \"pair\": [\"HWvanLoon Fellowship, NL regering\", \"Institute of International Education\"], \"x\": 2.5730204826737193}, {\"y\": 1.1406204951561003, \"edge\": 137, \"community\": \", REMP\", \"source\": \"HWvanLoon Fellowship, NL regering\", \"target\": \"Petersen, W.\", \"pair\": [\"HWvanLoon Fellowship, NL regering\", \"Petersen, W.\"], \"x\": 2.2704996133501725}, {\"y\": 0.7147782872693886, \"edge\": 137, \"community\": \", REMP\", \"source\": \"HWvanLoon Fellowship, NL regering\", \"target\": \"Petersen, W.\", \"pair\": [\"HWvanLoon Fellowship, NL regering\", \"Petersen, W.\"], \"x\": 2.151945748375654}, {\"y\": 1.1406204951561003, \"edge\": 138, \"community\": \", REMP\", \"source\": \"HWvanLoon Fellowship, NL regering\", \"target\": \"Hofstee, E.W.\", \"pair\": [\"HWvanLoon Fellowship, NL regering\", \"Hofstee, E.W.\"], \"x\": 2.2704996133501725}, {\"y\": 1.312397777029116, \"edge\": 138, \"community\": \", REMP\", \"source\": \"HWvanLoon Fellowship, NL regering\", \"target\": \"Hofstee, E.W.\", \"pair\": [\"HWvanLoon Fellowship, NL regering\", \"Hofstee, E.W.\"], \"x\": 1.8620677901140483}, {\"y\": 1.1406204951561003, \"edge\": 139, \"community\": \", REMP\", \"source\": \"HWvanLoon Fellowship, NL regering\", \"target\": \"Davis, K.\", \"pair\": [\"HWvanLoon Fellowship, NL regering\", \"Davis, K.\"], \"x\": 2.2704996133501725}, {\"y\": 1.2685795793814716, \"edge\": 139, \"community\": \", REMP\", \"source\": \"HWvanLoon Fellowship, NL regering\", \"target\": \"Davis, K.\", \"pair\": [\"HWvanLoon Fellowship, NL regering\", \"Davis, K.\"], \"x\": 2.6135240703794484}, {\"y\": 0.8037888573046559, \"edge\": 140, \"community\": \", REMP\", \"source\": \"Institute of International Education\", \"target\": \"Petersen, W.\", \"pair\": [\"Institute of International Education\", \"Petersen, W.\"], \"x\": 2.5730204826737193}, {\"y\": 0.7147782872693886, \"edge\": 140, \"community\": \", REMP\", \"source\": \"Institute of International Education\", \"target\": \"Petersen, W.\", \"pair\": [\"Institute of International Education\", \"Petersen, W.\"], \"x\": 2.151945748375654}, {\"y\": 0.8037888573046559, \"edge\": 141, \"community\": \", REMP\", \"source\": \"Institute of International Education\", \"target\": \"Hofstee, E.W.\", \"pair\": [\"Institute of International Education\", \"Hofstee, E.W.\"], \"x\": 2.5730204826737193}, {\"y\": 1.312397777029116, \"edge\": 141, \"community\": \", REMP\", \"source\": \"Institute of International Education\", \"target\": \"Hofstee, E.W.\", \"pair\": [\"Institute of International Education\", \"Hofstee, E.W.\"], \"x\": 1.8620677901140483}, {\"y\": 0.8037888573046559, \"edge\": 142, \"community\": \", REMP\", \"source\": \"Institute of International Education\", \"target\": \"Davis, K.\", \"pair\": [\"Institute of International Education\", \"Davis, K.\"], \"x\": 2.5730204826737193}, {\"y\": 1.2685795793814716, \"edge\": 142, \"community\": \", REMP\", \"source\": \"Institute of International Education\", \"target\": \"Davis, K.\", \"pair\": [\"Institute of International Education\", \"Davis, K.\"], \"x\": 2.6135240703794484}, {\"y\": 0.7147782872693886, \"edge\": 143, \"community\": \", REMP\", \"source\": \"Petersen, W.\", \"target\": \"Hofstee, E.W.\", \"pair\": [\"Petersen, W.\", \"Hofstee, E.W.\"], \"x\": 2.151945748375654}, {\"y\": 1.312397777029116, \"edge\": 143, \"community\": \", REMP\", \"source\": \"Petersen, W.\", \"target\": \"Hofstee, E.W.\", \"pair\": [\"Petersen, W.\", \"Hofstee, E.W.\"], \"x\": 1.8620677901140483}, {\"y\": 0.7147782872693886, \"edge\": 144, \"community\": \", REMP\", \"source\": \"Petersen, W.\", \"target\": \"Davis, K.\", \"pair\": [\"Petersen, W.\", \"Davis, K.\"], \"x\": 2.151945748375654}, {\"y\": 1.2685795793814716, \"edge\": 144, \"community\": \", REMP\", \"source\": \"Petersen, W.\", \"target\": \"Davis, K.\", \"pair\": [\"Petersen, W.\", \"Davis, K.\"], \"x\": 2.6135240703794484}, {\"y\": 1.312397777029116, \"edge\": 145, \"community\": \", REMP\", \"source\": \"Hofstee, E.W.\", \"target\": \"Davis, K.\", \"pair\": [\"Hofstee, E.W.\", \"Davis, K.\"], \"x\": 1.8620677901140483}, {\"y\": 1.2685795793814716, \"edge\": 145, \"community\": \", REMP\", \"source\": \"Hofstee, E.W.\", \"target\": \"Davis, K.\", \"pair\": [\"Hofstee, E.W.\", \"Davis, K.\"], \"x\": 2.6135240703794484}, {\"y\": 1.312397777029116, \"edge\": 146, \"community\": \", REMP\", \"source\": \"Hofstee, E.W.\", \"target\": \"Glass, D.V.\", \"pair\": [\"Hofstee, E.W.\", \"Glass, D.V.\"], \"x\": 1.8620677901140483}, {\"y\": 2.113357973347823, \"edge\": 146, \"community\": \", REMP\", \"source\": \"Hofstee, E.W.\", \"target\": \"Glass, D.V.\", \"pair\": [\"Hofstee, E.W.\", \"Glass, D.V.\"], \"x\": 1.5491734422793204}, {\"y\": 1.312397777029116, \"edge\": 147, \"community\": \", REMP\", \"source\": \"Hofstee, E.W.\", \"target\": \"Brink, van den, T\", \"pair\": [\"Hofstee, E.W.\", \"Brink, van den, T\"], \"x\": 1.8620677901140483}, {\"y\": 1.2390733053941572, \"edge\": 147, \"community\": \", REMP\", \"source\": \"Hofstee, E.W.\", \"target\": \"Brink, van den, T\", \"pair\": [\"Hofstee, E.W.\", \"Brink, van den, T\"], \"x\": 1.0033718578620605}, {\"y\": 0.586254395776107, \"edge\": 148, \"community\": \", REMP\", \"source\": \"Lannes, X.\", \"target\": \"Mill, van, A.N.\", \"pair\": [\"Lannes, X.\", \"Mill, van, A.N.\"], \"x\": 0.6103848153679847}, {\"y\": 0.7752005723257538, \"edge\": 148, \"community\": \", REMP\", \"source\": \"Lannes, X.\", \"target\": \"Mill, van, A.N.\", \"pair\": [\"Lannes, X.\", \"Mill, van, A.N.\"], \"x\": 0.35976855637598737}, {\"y\": -0.5291821459829995, \"edge\": 149, \"community\": \", rest\", \"source\": \"Bentwich, N.\", \"target\": \"Beveridge, W.H.\", \"pair\": [\"Bentwich, N.\", \"Beveridge, W.H.\"], \"x\": 0.48417109210334963}, {\"y\": -0.7063224282018071, \"edge\": 149, \"community\": \", rest\", \"source\": \"Bentwich, N.\", \"target\": \"Beveridge, W.H.\", \"pair\": [\"Bentwich, N.\", \"Beveridge, W.H.\"], \"x\": 0.4008956224131223}, {\"y\": -3.2871312026128408, \"edge\": 150, \"community\": \", REMP\", \"source\": \"Bastos de Avila, F.\", \"target\": \"Camillo de Oliveira, A.\", \"pair\": [\"Bastos de Avila, F.\", \"Camillo de Oliveira, A.\"], \"x\": -2.8754977709633263}, {\"y\": -1.8949532957863886, \"edge\": 150, \"community\": \", REMP\", \"source\": \"Bastos de Avila, F.\", \"target\": \"Camillo de Oliveira, A.\", \"pair\": [\"Bastos de Avila, F.\", \"Camillo de Oliveira, A.\"], \"x\": -3.928276518302776}, {\"y\": -3.2871312026128408, \"edge\": 151, \"community\": \", REMP\", \"source\": \"Bastos de Avila, F.\", \"target\": \"Isaac, J.\", \"pair\": [\"Bastos de Avila, F.\", \"Isaac, J.\"], \"x\": -2.8754977709633263}, {\"y\": -1.6793091094392931, \"edge\": 151, \"community\": \", REMP\", \"source\": \"Bastos de Avila, F.\", \"target\": \"Isaac, J.\", \"pair\": [\"Bastos de Avila, F.\", \"Isaac, J.\"], \"x\": -2.196225710733898}, {\"y\": -1.8949532957863886, \"edge\": 152, \"community\": \", REMP\", \"source\": \"Camillo de Oliveira, A.\", \"target\": \"Isaac, J.\", \"pair\": [\"Camillo de Oliveira, A.\", \"Isaac, J.\"], \"x\": -3.928276518302776}, {\"y\": -1.6793091094392931, \"edge\": 152, \"community\": \", REMP\", \"source\": \"Camillo de Oliveira, A.\", \"target\": \"Isaac, J.\", \"pair\": [\"Camillo de Oliveira, A.\", \"Isaac, J.\"], \"x\": -2.196225710733898}, {\"y\": 0.3721442771497042, \"edge\": 153, \"community\": \", rest\", \"source\": \"Meyers, H.G.\", \"target\": \"Godefroy, J.\", \"pair\": [\"Meyers, H.G.\", \"Godefroy, J.\"], \"x\": -0.7560379437774106}, {\"y\": 0.3347535783949954, \"edge\": 153, \"community\": \", rest\", \"source\": \"Meyers, H.G.\", \"target\": \"Godefroy, J.\", \"pair\": [\"Meyers, H.G.\", \"Godefroy, J.\"], \"x\": -0.5752734218300525}, {\"y\": 0.41728591202545345, \"edge\": 154, \"community\": \", rest\", \"source\": \"Radspieler, T.\", \"target\": \"Neher, L.\", \"pair\": [\"Radspieler, T.\", \"Neher, L.\"], \"x\": 0.9728547952678523}, {\"y\": 0.26017974513429004, \"edge\": 154, \"community\": \", rest\", \"source\": \"Radspieler, T.\", \"target\": \"Neher, L.\", \"pair\": [\"Radspieler, T.\", \"Neher, L.\"], \"x\": 1.059680476317034}, {\"y\": -0.041580431738985936, \"edge\": 155, \"community\": \", REMP\", \"source\": \"Steigenga, W.\", \"target\": \"Ipsen, G.\", \"pair\": [\"Steigenga, W.\", \"Ipsen, G.\"], \"x\": 0.970195845778259}, {\"y\": 0.2120842357860188, \"edge\": 155, \"community\": \", REMP\", \"source\": \"Steigenga, W.\", \"target\": \"Ipsen, G.\", \"pair\": [\"Steigenga, W.\", \"Ipsen, G.\"], \"x\": 0.7967087332445795}, {\"y\": -1.0305893567556013, \"edge\": 156, \"community\": \", rest\", \"source\": \"Brepohl, W.\", \"target\": \"Lehmkuhler, M.\", \"pair\": [\"Brepohl, W.\", \"Lehmkuhler, M.\"], \"x\": 0.16575994338918298}, {\"y\": -0.8404558013985588, \"edge\": 156, \"community\": \", rest\", \"source\": \"Brepohl, W.\", \"target\": \"Lehmkuhler, M.\", \"pair\": [\"Brepohl, W.\", \"Lehmkuhler, M.\"], \"x\": 0.16521615706807485}, {\"y\": 0.16544984092917409, \"edge\": 157, \"community\": \", rest\", \"source\": \"Lewis, J.N.\", \"target\": \"Sauvon, E.A.\", \"pair\": [\"Lewis, J.N.\", \"Sauvon, E.A.\"], \"x\": -0.29135666246731373}, {\"y\": 0.3729785067638525, \"edge\": 157, \"community\": \", rest\", \"source\": \"Lewis, J.N.\", \"target\": \"Sauvon, E.A.\", \"pair\": [\"Lewis, J.N.\", \"Sauvon, E.A.\"], \"x\": -0.24904775445819932}, {\"y\": -0.22123881036935603, \"edge\": 158, \"community\": \", rest\", \"source\": \"Zubrzycki, J.\", \"target\": \"Clemens, R.\", \"pair\": [\"Zubrzycki, J.\", \"Clemens, R.\"], \"x\": 0.774255875562136}, {\"y\": -0.02516302850911237, \"edge\": 158, \"community\": \", rest\", \"source\": \"Zubrzycki, J.\", \"target\": \"Clemens, R.\", \"pair\": [\"Zubrzycki, J.\", \"Clemens, R.\"], \"x\": 0.7858018662138225}, {\"y\": 0.31467719716686093, \"edge\": 159, \"community\": \", REMP\", \"source\": \"Verwey-Jonker, H.\", \"target\": \"Brackel, P.O.M.\", \"pair\": [\"Verwey-Jonker, H.\", \"Brackel, P.O.M.\"], \"x\": -0.440657357245245}, {\"y\": 0.18655282199255138, \"edge\": 159, \"community\": \", REMP\", \"source\": \"Verwey-Jonker, H.\", \"target\": \"Brackel, P.O.M.\", \"pair\": [\"Verwey-Jonker, H.\", \"Brackel, P.O.M.\"], \"x\": -0.8634742818866878}, {\"y\": 0.31467719716686093, \"edge\": 160, \"community\": \", REMP\", \"source\": \"Verwey-Jonker, H.\", \"target\": \"Klompe, M.\", \"pair\": [\"Verwey-Jonker, H.\", \"Klompe, M.\"], \"x\": -0.440657357245245}, {\"y\": 0.08538298258582044, \"edge\": 160, \"community\": \", REMP\", \"source\": \"Verwey-Jonker, H.\", \"target\": \"Klompe, M.\", \"pair\": [\"Verwey-Jonker, H.\", \"Klompe, M.\"], \"x\": -0.6185082012294749}, {\"y\": 0.31467719716686093, \"edge\": 161, \"community\": \", REMP\", \"source\": \"Verwey-Jonker, H.\", \"target\": \"Verkade, W.\", \"pair\": [\"Verwey-Jonker, H.\", \"Verkade, W.\"], \"x\": -0.440657357245245}, {\"y\": 0.44845810709166034, \"edge\": 161, \"community\": \", REMP\", \"source\": \"Verwey-Jonker, H.\", \"target\": \"Verkade, W.\", \"pair\": [\"Verwey-Jonker, H.\", \"Verkade, W.\"], \"x\": -0.7935633545277718}, {\"y\": 0.18655282199255138, \"edge\": 162, \"community\": \", REMP\", \"source\": \"Brackel, P.O.M.\", \"target\": \"Klompe, M.\", \"pair\": [\"Brackel, P.O.M.\", \"Klompe, M.\"], \"x\": -0.8634742818866878}, {\"y\": 0.08538298258582044, \"edge\": 162, \"community\": \", REMP\", \"source\": \"Brackel, P.O.M.\", \"target\": \"Klompe, M.\", \"pair\": [\"Brackel, P.O.M.\", \"Klompe, M.\"], \"x\": -0.6185082012294749}, {\"y\": 0.18655282199255138, \"edge\": 163, \"community\": \", REMP\", \"source\": \"Brackel, P.O.M.\", \"target\": \"Verkade, W.\", \"pair\": [\"Brackel, P.O.M.\", \"Verkade, W.\"], \"x\": -0.8634742818866878}, {\"y\": 0.44845810709166034, \"edge\": 163, \"community\": \", REMP\", \"source\": \"Brackel, P.O.M.\", \"target\": \"Verkade, W.\", \"pair\": [\"Brackel, P.O.M.\", \"Verkade, W.\"], \"x\": -0.7935633545277718}, {\"y\": 0.08538298258582044, \"edge\": 164, \"community\": \", REMP\", \"source\": \"Klompe, M.\", \"target\": \"Verkade, W.\", \"pair\": [\"Klompe, M.\", \"Verkade, W.\"], \"x\": -0.6185082012294749}, {\"y\": 0.44845810709166034, \"edge\": 164, \"community\": \", REMP\", \"source\": \"Klompe, M.\", \"target\": \"Verkade, W.\", \"pair\": [\"Klompe, M.\", \"Verkade, W.\"], \"x\": -0.7935633545277718}, {\"y\": -0.2790942842452166, \"edge\": 165, \"community\": \", rest\", \"source\": \"Witkamp, F.Th.\", \"target\": \"Patijn, C.L.\", \"pair\": [\"Witkamp, F.Th.\", \"Patijn, C.L.\"], \"x\": 1.050598640303705}, {\"y\": -0.107524388129317, \"edge\": 165, \"community\": \", rest\", \"source\": \"Witkamp, F.Th.\", \"target\": \"Patijn, C.L.\", \"pair\": [\"Witkamp, F.Th.\", \"Patijn, C.L.\"], \"x\": 1.054716087425469}, {\"y\": 2.0541454767910827, \"edge\": 166, \"community\": \", ICEM\", \"source\": \"RCE\", \"target\": \"ICEM\", \"pair\": [\"RCE\", \"ICEM\"], \"x\": 1.117102860567062}, {\"y\": 1.7928987993082788, \"edge\": 166, \"community\": \", ICEM\", \"source\": \"RCE\", \"target\": \"ICEM\", \"pair\": [\"RCE\", \"ICEM\"], \"x\": 0.6700167835645283}, {\"y\": 2.0541454767910827, \"edge\": 167, \"community\": \", REMP\", \"source\": \"RCE\", \"target\": \"RCE\", \"pair\": [\"RCE\", \"RCE\"], \"x\": 1.117102860567062}, {\"y\": 2.0541454767910827, \"edge\": 167, \"community\": \", REMP\", \"source\": \"RCE\", \"target\": \"RCE\", \"pair\": [\"RCE\", \"RCE\"], \"x\": 1.117102860567062}, {\"y\": 2.0541454767910827, \"edge\": 168, \"community\": \", REMP\", \"source\": \"RCE\", \"target\": \"Hofstede, B.P.\", \"pair\": [\"RCE\", \"Hofstede, B.P.\"], \"x\": 1.117102860567062}, {\"y\": 1.6405404922869051, \"edge\": 168, \"community\": \", REMP\", \"source\": \"RCE\", \"target\": \"Hofstede, B.P.\", \"pair\": [\"RCE\", \"Hofstede, B.P.\"], \"x\": 1.4283973215275065}, {\"y\": 1.7928987993082788, \"edge\": 169, \"community\": \", REMP\", \"source\": \"ICEM\", \"target\": \"Hofstede, B.P.\", \"pair\": [\"ICEM\", \"Hofstede, B.P.\"], \"x\": 0.6700167835645283}, {\"y\": 1.6405404922869051, \"edge\": 169, \"community\": \", REMP\", \"source\": \"ICEM\", \"target\": \"Hofstede, B.P.\", \"pair\": [\"ICEM\", \"Hofstede, B.P.\"], \"x\": 1.4283973215275065}], \"data-c74b1aba7093088d44d1840837c5e4ca\": [{\"y\": -0.09944905605752338, \"name\": \"REMP\", \"centrality\": 1.2586773020300357, \"label\": \"REMP\", \"entity_type\": \"organisation\", \"x\": -0.004864576643362158}, {\"y\": -0.767620178219382, \"name\": \"Wander, H.\", \"centrality\": 0.3527418243771955, \"label\": \"\", \"entity_type\": \"unknown\", \"x\": -0.65156865183117}, {\"y\": -0.5297920879460544, \"name\": \"Bouman, P.J.\", \"centrality\": 0.3527418243771955, \"label\": \"\", \"entity_type\": \"academic\", \"x\": -0.8709490171469418}, {\"y\": -0.030445614898313968, \"name\": \"Beijer, G.\", \"centrality\": 2.499407602528072, \"label\": \"Beijer, G.\", \"entity_type\": \"academic\", \"x\": 0.09166065945392926}, {\"y\": 0.2942640082229764, \"name\": \"Citroen, H.A.\", \"centrality\": 0.3952956614060603, \"label\": \"\", \"entity_type\": \"unknown\", \"x\": 0.4498538377817033}, {\"y\": 1.0832563835943099, \"name\": \"Groenman, Sj.\", \"centrality\": 0.45335943554952446, \"label\": \"Groenman, Sj.\", \"entity_type\": \"academic\", \"x\": 0.9221804407036506}, {\"y\": 0.17302103204071062, \"name\": \"Rappard, W.E.\", \"centrality\": 0.3952956614060603, \"label\": \"\", \"entity_type\": \"diplomat\", \"x\": 1.053747080709569}, {\"y\": -0.998872794741764, \"name\": \"Edding, F.\", \"centrality\": 0.3527418243771955, \"label\": \"\", \"entity_type\": \"academic\", \"x\": -0.2846802416663137}, {\"y\": -1.0147993810424651, \"name\": \"Salin, E.\", \"centrality\": 0.3527418243771955, \"label\": \"\", \"entity_type\": \"unknown\", \"x\": 0.02335149696317161}, {\"y\": -0.905226982057729, \"name\": \"Oudegeest, J.J.\", \"centrality\": 0.35537791425321147, \"label\": \"\", \"entity_type\": \"academic\", \"x\": 0.42426619466536986}, {\"y\": -0.7282226880427018, \"name\": \"Sauvy, A.\", \"centrality\": 0.3834627841146138, \"label\": \"\", \"entity_type\": \"academic\", \"x\": 0.6885708409551696}, {\"y\": -0.4258069575953092, \"name\": \"Brink, van den , T.\", \"centrality\": 0.35537791425321147, \"label\": \"\", \"entity_type\": \"unknown\", \"x\": 0.792956663831658}, {\"y\": 0.8319263829200667, \"name\": \"Gadolin, de, A.\", \"centrality\": 0.36742288578420923, \"label\": \"\", \"entity_type\": \"academic\", \"x\": -0.1559309386793259}, {\"y\": 0.580177789712127, \"name\": \"Zeegers, G.H.L.\", \"centrality\": 0.5238337930263712, \"label\": \"\", \"entity_type\": \"academic\", \"x\": -0.5184813023172244}, {\"y\": 1.1406204951561003, \"name\": \"HWvanLoon Fellowship, NL regering\", \"centrality\": 0.5022712052292354, \"label\": \"\", \"entity_type\": \"organisation\", \"x\": 2.2704996133501725}, {\"y\": 0.8037888573046559, \"name\": \"Institute of International Education\", \"centrality\": 0.5022712052292354, \"label\": \"\", \"entity_type\": \"organisation\", \"x\": 2.5730204826737193}, {\"y\": 0.7147782872693886, \"name\": \"Petersen, W.\", \"centrality\": 0.5022712052292354, \"label\": \"\", \"entity_type\": \"unknown\", \"x\": 2.151945748375654}, {\"y\": 1.312397777029116, \"name\": \"Hofstee, E.W.\", \"centrality\": 0.5885146161611401, \"label\": \"\", \"entity_type\": \"academic\", \"x\": 1.8620677901140483}, {\"y\": 1.2685795793814716, \"name\": \"Davis, K.\", \"centrality\": 0.5022712052292354, \"label\": \"\", \"entity_type\": \"unknown\", \"x\": 2.6135240703794484}, {\"y\": 2.113357973347823, \"name\": \"Glass, D.V.\", \"centrality\": 0.37297299905298126, \"label\": \"\", \"entity_type\": \"unknown\", \"x\": 1.5491734422793204}, {\"y\": -0.5431164524631767, \"name\": \"Mackenroth, G.\", \"centrality\": 0.214468516941147, \"label\": \"\", \"entity_type\": \"academic\", \"x\": 0.15218100135447837}, {\"y\": -0.24289102026439452, \"name\": \"Nixon, J.W.\", \"centrality\": 0.214468516941147, \"label\": \"Nixon, J.W.\", \"entity_type\": \"unknown\", \"x\": 0.47308947750662594}, {\"y\": 0.586254395776107, \"name\": \"Lannes, X.\", \"centrality\": 0.3527418243771955, \"label\": \"\", \"entity_type\": \"unknown\", \"x\": 0.6103848153679847}, {\"y\": 0.7752005723257538, \"name\": \"Mill, van, A.N.\", \"centrality\": 0.3527418243771955, \"label\": \"\", \"entity_type\": \"unknown\", \"x\": 0.35976855637598737}, {\"y\": -0.42447739961697506, \"name\": \"Mast, van der, W.\", \"centrality\": 0.214468516941147, \"label\": \"\", \"entity_type\": \"unknown\", \"x\": -0.13910415732115883}, {\"y\": 0.04978010948361718, \"name\": \"Glinstra Bleeker, van, R.J.P.\", \"centrality\": 0.214468516941147, \"label\": \"\", \"entity_type\": \"unknown\", \"x\": -0.555748915341309}, {\"y\": 0.7378514531553836, \"name\": \"Sjollema, B.Ch.\", \"centrality\": 0.214468516941147, \"label\": \"\", \"entity_type\": \"unknown\", \"x\": 0.06229854081771137}, {\"y\": -0.10221539686594339, \"name\": \"MacKay, M.C.J.\", \"centrality\": 0.214468516941147, \"label\": \"\", \"entity_type\": \"unknown\", \"x\": -0.903710245395294}, {\"y\": 0.7424595530745115, \"name\": \"Dorpema, H.\", \"centrality\": 0.214468516941147, \"label\": \"\", \"entity_type\": \"unknown\", \"x\": -0.32725356850264903}, {\"y\": -0.5291821459829995, \"name\": \"Bentwich, N.\", \"centrality\": 0.2345993758821934, \"label\": \"\", \"entity_type\": \"unknown\", \"x\": 0.48417109210334963}, {\"y\": -0.7063224282018071, \"name\": \"Beveridge, W.H.\", \"centrality\": 0.2345993758821934, \"label\": \"\", \"entity_type\": \"unknown\", \"x\": 0.4008956224131223}, {\"y\": -3.2871312026128408, \"name\": \"Bastos de Avila, F.\", \"centrality\": 0.3892810933847207, \"label\": \"\", \"entity_type\": \"unknown\", \"x\": -2.8754977709633263}, {\"y\": -1.8949532957863886, \"name\": \"Camillo de Oliveira, A.\", \"centrality\": 0.3892810933847207, \"label\": \"\", \"entity_type\": \"unknown\", \"x\": -3.928276518302776}, {\"y\": -1.6793091094392931, \"name\": \"Isaac, J.\", \"centrality\": 0.3892810933847207, \"label\": \"\", \"entity_type\": \"unknown\", \"x\": -2.196225710733898}, {\"y\": 0.5752112641888569, \"name\": \"Peltier, R.\", \"centrality\": 0.214468516941147, \"label\": \"\", \"entity_type\": \"unknown\", \"x\": 0.8289120140062317}, {\"y\": 1.2390733053941572, \"name\": \"Brink, van den, T\", \"centrality\": 0.26496824567043387, \"label\": \"\", \"entity_type\": \"unknown\", \"x\": 1.0033718578620605}, {\"y\": 0.3721442771497042, \"name\": \"Meyers, H.G.\", \"centrality\": 0.2345993758821934, \"label\": \"\", \"entity_type\": \"unknown\", \"x\": -0.7560379437774106}, {\"y\": 0.3347535783949954, \"name\": \"Godefroy, J.\", \"centrality\": 0.2345993758821934, \"label\": \"\", \"entity_type\": \"unknown\", \"x\": -0.5752734218300525}, {\"y\": 0.41728591202545345, \"name\": \"Radspieler, T.\", \"centrality\": 0.2345993758821934, \"label\": \"\", \"entity_type\": \"unknown\", \"x\": 0.9728547952678523}, {\"y\": 0.6121624511323777, \"name\": \"Weinberg, A.A.W.\", \"centrality\": 0.214468516941147, \"label\": \"\", \"entity_type\": \"unknown\", \"x\": -0.1356793949792533}, {\"y\": 0.34804597573782625, \"name\": \"Schmitz, J.P.G.\", \"centrality\": 0.214468516941147, \"label\": \"\", \"entity_type\": \"unknown\", \"x\": 0.46781584080356553}, {\"y\": -0.48320249432698276, \"name\": \"Beld, van den, C.A.\", \"centrality\": 0.214468516941147, \"label\": \"\", \"entity_type\": \"unknown\", \"x\": 0.9888186047929451}, {\"y\": -0.697618805352801, \"name\": \"Hyrenius, H.\", \"centrality\": 0.214468516941147, \"label\": \"\", \"entity_type\": \"unknown\", \"x\": 0.8655235825890223}, {\"y\": 0.5726360389361301, \"name\": \"Mannoni, E.\", \"centrality\": 0.214468516941147, \"label\": \"\", \"entity_type\": \"unknown\", \"x\": -0.4926210813980243}, {\"y\": -0.18422730140109067, \"name\": \"Belshaw, H.\", \"centrality\": 0.214468516941147, \"label\": \"\", \"entity_type\": \"unknown\", \"x\": -0.6792408090974814}, {\"y\": 0.5891774109000049, \"name\": \"Olsson, B.\", \"centrality\": 0.214468516941147, \"label\": \"\", \"entity_type\": \"unknown\", \"x\": -0.7267578220628617}, {\"y\": 0.793524072315747, \"name\": \"Geyl, W.F.\", \"centrality\": 0.214468516941147, \"label\": \"\", \"entity_type\": \"unknown\", \"x\": -0.5318189760089127}, {\"y\": -0.041580431738985936, \"name\": \"Steigenga, W.\", \"centrality\": 0.3527418243771955, \"label\": \"\", \"entity_type\": \"unknown\", \"x\": 0.970195845778259}, {\"y\": 0.2120842357860188, \"name\": \"Ipsen, G.\", \"centrality\": 0.3527418243771955, \"label\": \"\", \"entity_type\": \"unknown\", \"x\": 0.7967087332445795}, {\"y\": -1.0305893567556013, \"name\": \"Brepohl, W.\", \"centrality\": 0.2345993758821934, \"label\": \"\", \"entity_type\": \"unknown\", \"x\": 0.16575994338918298}, {\"y\": -0.8404558013985588, \"name\": \"Lehmkuhler, M.\", \"centrality\": 0.2345993758821934, \"label\": \"\", \"entity_type\": \"unknown\", \"x\": 0.16521615706807485}, {\"y\": 0.7512566595412383, \"name\": \"Borrie, W.D.\", \"centrality\": 0.214468516941147, \"label\": \"\", \"entity_type\": \"unknown\", \"x\": 0.7321957613038965}, {\"y\": 0.16544984092917409, \"name\": \"Lewis, J.N.\", \"centrality\": 0.2345993758821934, \"label\": \"\", \"entity_type\": \"unknown\", \"x\": -0.29135666246731373}, {\"y\": 0.3729785067638525, \"name\": \"Sauvon, E.A.\", \"centrality\": 0.2345993758821934, \"label\": \"\", \"entity_type\": \"unknown\", \"x\": -0.24904775445819932}, {\"y\": -0.6264435152836743, \"name\": \"Maris, A.\", \"centrality\": 0.214468516941147, \"label\": \"\", \"entity_type\": \"unknown\", \"x\": -0.7445819175300507}, {\"y\": -0.8866211685456376, \"name\": \"Pressat, R.\", \"centrality\": 0.214468516941147, \"label\": \"\", \"entity_type\": \"unknown\", \"x\": -0.42796744315652435}, {\"y\": -0.49138907785932906, \"name\": \"Lyon, A.V.\", \"centrality\": 0.214468516941147, \"label\": \"\", \"entity_type\": \"unknown\", \"x\": -0.48350330342764825}, {\"y\": 0.26017974513429004, \"name\": \"Neher, L.\", \"centrality\": 0.2345993758821934, \"label\": \"\", \"entity_type\": \"unknown\", \"x\": 1.059680476317034}, {\"y\": -0.33039864766271204, \"name\": \"Herberle, R.\", \"centrality\": 0.214468516941147, \"label\": \"\", \"entity_type\": \"unknown\", \"x\": -0.8904905494275158}, {\"y\": 0.9519586478694936, \"name\": \"Starr, M.\", \"centrality\": 0.214468516941147, \"label\": \"\", \"entity_type\": \"unknown\", \"x\": -0.031956554478139984}, {\"y\": 0.6944854528315998, \"name\": \"Reid, I.D.A.\", \"centrality\": 0.214468516941147, \"label\": \"\", \"entity_type\": \"unknown\", \"x\": 0.29592365424977346}, {\"y\": -0.42645057448016277, \"name\": \"Appleyard, R.T.\", \"centrality\": 0.214468516941147, \"label\": \"\", \"entity_type\": \"academic\", \"x\": -0.7098904128097787}, {\"y\": -0.7193513506692691, \"name\": \"Timlin, M.F.\", \"centrality\": 0.214468516941147, \"label\": \"Timlin, M.F.\", \"entity_type\": \"unknown\", \"x\": 0.6659872235594578}, {\"y\": -0.22123881036935603, \"name\": \"Zubrzycki, J.\", \"centrality\": 0.2345993758821934, \"label\": \"\", \"entity_type\": \"unknown\", \"x\": 0.774255875562136}, {\"y\": -0.02516302850911237, \"name\": \"Clemens, R.\", \"centrality\": 0.2345993758821934, \"label\": \"\", \"entity_type\": \"unknown\", \"x\": 0.7858018662138225}, {\"y\": 0.31467719716686093, \"name\": \"Verwey-Jonker, H.\", \"centrality\": 0.49479703293705624, \"label\": \"\", \"entity_type\": \"unknown\", \"x\": -0.440657357245245}, {\"y\": 0.18655282199255138, \"name\": \"Brackel, P.O.M.\", \"centrality\": 0.49479703293705624, \"label\": \"\", \"entity_type\": \"unknown\", \"x\": -0.8634742818866878}, {\"y\": 0.08538298258582044, \"name\": \"Klompe, M.\", \"centrality\": 0.49479703293705624, \"label\": \"\", \"entity_type\": \"unknown\", \"x\": -0.6185082012294749}, {\"y\": 0.44845810709166034, \"name\": \"Verkade, W.\", \"centrality\": 0.49479703293705624, \"label\": \"\", \"entity_type\": \"unknown\", \"x\": -0.7935633545277718}, {\"y\": -0.2790942842452166, \"name\": \"Witkamp, F.Th.\", \"centrality\": 0.2345993758821934, \"label\": \"\", \"entity_type\": \"unknown\", \"x\": 1.050598640303705}, {\"y\": -0.107524388129317, \"name\": \"Patijn, C.L.\", \"centrality\": 0.2345993758821934, \"label\": \"\", \"entity_type\": \"unknown\", \"x\": 1.054716087425469}, {\"y\": -0.9038226651418902, \"name\": \"Witkamp, T.\", \"centrality\": 0.214468516941147, \"label\": \"\", \"entity_type\": \"unknown\", \"x\": 0.5844498252475093}, {\"y\": 0.3234154194446652, \"name\": \"Gottmann, J.\", \"centrality\": 0.214468516941147, \"label\": \"\", \"entity_type\": \"academic\", \"x\": 0.7713853057325939}, {\"y\": -0.9776026323296902, \"name\": \"Balhana, A.Pilatti\", \"centrality\": 0.214468516941147, \"label\": \"\", \"entity_type\": \"unknown\", \"x\": 0.3828543844415078}, {\"y\": 0.9324082631375793, \"name\": \"Cidor, H.A.\", \"centrality\": 0.214468516941147, \"label\": \"\", \"entity_type\": \"unknown\", \"x\": 0.39468006041046333}, {\"y\": 0.07158090407160475, \"name\": \"Wentholt, R.\", \"centrality\": 0.214468516941147, \"label\": \"Wentholt, R.\", \"entity_type\": \"unknown\", \"x\": -0.813269566051326}, {\"y\": 0.44383124604681845, \"name\": \"Rosenfield, H.N.\", \"centrality\": 0.214468516941147, \"label\": \"\", \"entity_type\": \"unknown\", \"x\": 0.16462340424759964}, {\"y\": 2.0541454767910827, \"name\": \"RCE\", \"centrality\": 0.051448786292762325, \"label\": \"RCE\", \"entity_type\": \"organisation\", \"x\": 1.117102860567062}, {\"y\": 1.7928987993082788, \"name\": \"ICEM\", \"centrality\": 0.04738294552528016, \"label\": \"ICEM\", \"entity_type\": \"organisation\", \"x\": 0.6700167835645283}, {\"y\": 1.6405404922869051, \"name\": \"Hofstede, B.P.\", \"centrality\": 0.04738294552528016, \"label\": \"Hofstede, B.P.\", \"entity_type\": \"unknown\", \"x\": 1.4283973215275065}, {\"y\": -0.9934477482004671, \"name\": \"Witcover, J.\", \"centrality\": 0.214468516941147, \"label\": \"\", \"entity_type\": \"unknown\", \"x\": -0.0461995148493828}, {\"y\": 0.1128429409197492, \"name\": \"Orleans, L.A.\", \"centrality\": 0.214468516941147, \"label\": \"\", \"entity_type\": \"unknown\", \"x\": 0.5780820146743668}, {\"y\": 0.9584500923668006, \"name\": \"Kraak, J.H.\", \"centrality\": 0.214468516941147, \"label\": \"\", \"entity_type\": \"unknown\", \"x\": 0.17739417572815444}, {\"y\": -0.9707106062448294, \"name\": \"Richardson, A.\", \"centrality\": 0.214468516941147, \"label\": \"Richardson, A.\", \"entity_type\": \"unknown\", \"x\": -0.24389221294191687}, {\"y\": 0.9261471381462736, \"name\": \"Hack, H.\", \"centrality\": 0.214468516941147, \"label\": \"\", \"entity_type\": \"unknown\", \"x\": -0.24216877227683853}, {\"y\": -0.22550050067454028, \"name\": \"Rubin, E.\", \"centrality\": 0.214468516941147, \"label\": \"\", \"entity_type\": \"unknown\", \"x\": -0.4052948884204651}, {\"y\": -0.74709331965811, \"name\": \"Luckham, B.\", \"centrality\": 0.214468516941147, \"label\": \"\", \"entity_type\": \"unknown\", \"x\": -0.5746886889259802}, {\"y\": -0.7425804877764381, \"name\": \"Mol, J.J.\", \"centrality\": 0.214468516941147, \"label\": \"Mol, J.J.\", \"entity_type\": \"unknown\", \"x\": -0.08286829257910337}, {\"y\": 0.23609991984406214, \"name\": \"Fagley, R.\", \"centrality\": 0.214468516941147, \"label\": \"\", \"entity_type\": \"unknown\", \"x\": -0.9131919764684412}, {\"y\": 0.08082874652927476, \"name\": \"Price, C.A.\", \"centrality\": 0.214468516941147, \"label\": \"\", \"entity_type\": \"unknown\", \"x\": 1.011130771895846}, {\"y\": -0.6640678141792054, \"name\": \"Rees, E.\", \"centrality\": 0.214468516941147, \"label\": \"\", \"entity_type\": \"unknown\", \"x\": -0.31105355850642674}, {\"y\": 0.5641641606133626, \"name\": \"Paulson, B.\", \"centrality\": 0.214468516941147, \"label\": \"\", \"entity_type\": \"unknown\", \"x\": 0.5519812018709238}, {\"y\": 0.7953740347373175, \"name\": \"Heyn, H.\", \"centrality\": 0.214468516941147, \"label\": \"\", \"entity_type\": \"unknown\", \"x\": 0.5413717627652679}, {\"y\": -0.4686003832702419, \"name\": \"Putten, v.d., A.\", \"centrality\": 0.214468516941147, \"label\": \"\", \"entity_type\": \"unknown\", \"x\": 0.7613131140144334}], \"data-b97cd3e27f0a036bd54f26db27532439\": [{\"y\": -1.2061030036868672, \"edge\": 0, \"community\": \", ICEM\", \"source\": \"REMP\", \"target\": \"ICEM\", \"pair\": [\"REMP\", \"ICEM\"], \"x\": 0.5418093404009143}, {\"y\": -0.944198113274824, \"edge\": 0, \"community\": \", ICEM\", \"source\": \"REMP\", \"target\": \"ICEM\", \"pair\": [\"REMP\", \"ICEM\"], \"x\": 0.13133208713211608}, {\"y\": -1.2061030036868672, \"edge\": 1, \"community\": \", REMP\", \"source\": \"REMP\", \"target\": \"RCE\", \"pair\": [\"REMP\", \"RCE\"], \"x\": 0.5418093404009143}, {\"y\": -1.0225440070728757, \"edge\": 1, \"community\": \", REMP\", \"source\": \"REMP\", \"target\": \"RCE\", \"pair\": [\"REMP\", \"RCE\"], \"x\": -0.3734066923910425}, {\"y\": -1.2061030036868672, \"edge\": 2, \"community\": null, \"source\": \"REMP\", \"target\": \"Frijda, N.H.\", \"pair\": [\"REMP\", \"Frijda, N.H.\"], \"x\": 0.5418093404009143}, {\"y\": -0.04444707237748313, \"edge\": 2, \"community\": null, \"source\": \"REMP\", \"target\": \"Frijda, N.H.\", \"pair\": [\"REMP\", \"Frijda, N.H.\"], \"x\": -0.3711906032888801}, {\"y\": -1.2061030036868672, \"edge\": 3, \"community\": null, \"source\": \"REMP\", \"target\": \"Haveman, B.W.\", \"pair\": [\"REMP\", \"Haveman, B.W.\"], \"x\": 0.5418093404009143}, {\"y\": -0.9044073024444308, \"edge\": 3, \"community\": null, \"source\": \"REMP\", \"target\": \"Haveman, B.W.\", \"pair\": [\"REMP\", \"Haveman, B.W.\"], \"x\": 0.6394655824421953}, {\"y\": -1.2061030036868672, \"edge\": 4, \"community\": null, \"source\": \"REMP\", \"target\": \"Duijker, H.C.J.\", \"pair\": [\"REMP\", \"Duijker, H.C.J.\"], \"x\": 0.5418093404009143}, {\"y\": 0.04660588225242823, \"edge\": 4, \"community\": null, \"source\": \"REMP\", \"target\": \"Duijker, H.C.J.\", \"pair\": [\"REMP\", \"Duijker, H.C.J.\"], \"x\": 0.39787454418322077}, {\"y\": -1.2061030036868672, \"edge\": 5, \"community\": \", ICEM\", \"source\": \"REMP\", \"target\": \"Wentholt, R.\", \"pair\": [\"REMP\", \"Wentholt, R.\"], \"x\": 0.5418093404009143}, {\"y\": -1.8588506348409264, \"edge\": 5, \"community\": \", ICEM\", \"source\": \"REMP\", \"target\": \"Wentholt, R.\", \"pair\": [\"REMP\", \"Wentholt, R.\"], \"x\": 0.6286107772327643}, {\"y\": -1.2061030036868672, \"edge\": 6, \"community\": \", REMP\", \"source\": \"REMP\", \"target\": \"Groenman, Sj.\", \"pair\": [\"REMP\", \"Groenman, Sj.\"], \"x\": 0.5418093404009143}, {\"y\": -1.9459175764748904, \"edge\": 6, \"community\": \", REMP\", \"source\": \"REMP\", \"target\": \"Groenman, Sj.\", \"pair\": [\"REMP\", \"Groenman, Sj.\"], \"x\": -0.13260255605420299}, {\"y\": -1.2061030036868672, \"edge\": 7, \"community\": null, \"source\": \"REMP\", \"target\": \"Paikert, G.C.\", \"pair\": [\"REMP\", \"Paikert, G.C.\"], \"x\": 0.5418093404009143}, {\"y\": -0.39005754388660185, \"edge\": 7, \"community\": null, \"source\": \"REMP\", \"target\": \"Paikert, G.C.\", \"pair\": [\"REMP\", \"Paikert, G.C.\"], \"x\": -0.045066188368105164}, {\"y\": -1.2061030036868672, \"edge\": 8, \"community\": \", ICEM, REMP\", \"source\": \"REMP\", \"target\": \"Beijer, G.\", \"pair\": [\"REMP\", \"Beijer, G.\"], \"x\": 0.5418093404009143}, {\"y\": -0.8148883518532214, \"edge\": 8, \"community\": \", ICEM, REMP\", \"source\": \"REMP\", \"target\": \"Beijer, G.\", \"pair\": [\"REMP\", \"Beijer, G.\"], \"x\": 0.9153475948174251}, {\"y\": -1.2061030036868672, \"edge\": 9, \"community\": null, \"source\": \"REMP\", \"target\": \"Ex, J.\", \"pair\": [\"REMP\", \"Ex, J.\"], \"x\": 0.5418093404009143}, {\"y\": -2.084844716672666, \"edge\": 9, \"community\": null, \"source\": \"REMP\", \"target\": \"Ex, J.\", \"pair\": [\"REMP\", \"Ex, J.\"], \"x\": 0.9110084803327148}, {\"y\": -1.2061030036868672, \"edge\": 10, \"community\": null, \"source\": \"REMP\", \"target\": \"Rutten, F.J.Th.\", \"pair\": [\"REMP\", \"Rutten, F.J.Th.\"], \"x\": 0.5418093404009143}, {\"y\": -2.13579375967689, \"edge\": 10, \"community\": null, \"source\": \"REMP\", \"target\": \"Rutten, F.J.Th.\", \"pair\": [\"REMP\", \"Rutten, F.J.Th.\"], \"x\": 0.33370946363970144}, {\"y\": -1.2061030036868672, \"edge\": 11, \"community\": null, \"source\": \"REMP\", \"target\": \"Johnston, R.\", \"pair\": [\"REMP\", \"Johnston, R.\"], \"x\": 0.5418093404009143}, {\"y\": -0.3032631442500616, \"edge\": 11, \"community\": null, \"source\": \"REMP\", \"target\": \"Johnston, R.\", \"pair\": [\"REMP\", \"Johnston, R.\"], \"x\": 0.9709325656989924}, {\"y\": -1.2061030036868672, \"edge\": 12, \"community\": null, \"source\": \"REMP\", \"target\": \"Weinstock, S. Alexander\", \"pair\": [\"REMP\", \"Weinstock, S. Alexander\"], \"x\": 0.5418093404009143}, {\"y\": -1.3330185585001515, \"edge\": 12, \"community\": null, \"source\": \"REMP\", \"target\": \"Weinstock, S. Alexander\", \"pair\": [\"REMP\", \"Weinstock, S. Alexander\"], \"x\": -0.45693192912672687}, {\"y\": -1.2061030036868672, \"edge\": 13, \"community\": null, \"source\": \"REMP\", \"target\": \"Wilder-Okladek, F.\", \"pair\": [\"REMP\", \"Wilder-Okladek, F.\"], \"x\": 0.5418093404009143}, {\"y\": -1.1508314452584945, \"edge\": 13, \"community\": null, \"source\": \"REMP\", \"target\": \"Wilder-Okladek, F.\", \"pair\": [\"REMP\", \"Wilder-Okladek, F.\"], \"x\": 1.5425769554295816}, {\"y\": -0.944198113274824, \"edge\": 14, \"community\": \", REMP\", \"source\": \"ICEM\", \"target\": \"RCE\", \"pair\": [\"ICEM\", \"RCE\"], \"x\": 0.13133208713211608}, {\"y\": -1.0225440070728757, \"edge\": 14, \"community\": \", REMP\", \"source\": \"ICEM\", \"target\": \"RCE\", \"pair\": [\"ICEM\", \"RCE\"], \"x\": -0.3734066923910425}, {\"y\": -0.944198113274824, \"edge\": 15, \"community\": null, \"source\": \"ICEM\", \"target\": \"Frijda, N.H.\", \"pair\": [\"ICEM\", \"Frijda, N.H.\"], \"x\": 0.13133208713211608}, {\"y\": -0.04444707237748313, \"edge\": 15, \"community\": null, \"source\": \"ICEM\", \"target\": \"Frijda, N.H.\", \"pair\": [\"ICEM\", \"Frijda, N.H.\"], \"x\": -0.3711906032888801}, {\"y\": -0.944198113274824, \"edge\": 16, \"community\": null, \"source\": \"ICEM\", \"target\": \"Haveman, B.W.\", \"pair\": [\"ICEM\", \"Haveman, B.W.\"], \"x\": 0.13133208713211608}, {\"y\": -0.9044073024444308, \"edge\": 16, \"community\": null, \"source\": \"ICEM\", \"target\": \"Haveman, B.W.\", \"pair\": [\"ICEM\", \"Haveman, B.W.\"], \"x\": 0.6394655824421953}, {\"y\": -0.944198113274824, \"edge\": 17, \"community\": null, \"source\": \"ICEM\", \"target\": \"Duijker, H.C.J.\", \"pair\": [\"ICEM\", \"Duijker, H.C.J.\"], \"x\": 0.13133208713211608}, {\"y\": 0.04660588225242823, \"edge\": 17, \"community\": null, \"source\": \"ICEM\", \"target\": \"Duijker, H.C.J.\", \"pair\": [\"ICEM\", \"Duijker, H.C.J.\"], \"x\": 0.39787454418322077}, {\"y\": -0.944198113274824, \"edge\": 18, \"community\": \", ICEM\", \"source\": \"ICEM\", \"target\": \"Wentholt, R.\", \"pair\": [\"ICEM\", \"Wentholt, R.\"], \"x\": 0.13133208713211608}, {\"y\": -1.8588506348409264, \"edge\": 18, \"community\": \", ICEM\", \"source\": \"ICEM\", \"target\": \"Wentholt, R.\", \"pair\": [\"ICEM\", \"Wentholt, R.\"], \"x\": 0.6286107772327643}, {\"y\": -0.944198113274824, \"edge\": 19, \"community\": \", REMP\", \"source\": \"ICEM\", \"target\": \"Groenman, Sj.\", \"pair\": [\"ICEM\", \"Groenman, Sj.\"], \"x\": 0.13133208713211608}, {\"y\": -1.9459175764748904, \"edge\": 19, \"community\": \", REMP\", \"source\": \"ICEM\", \"target\": \"Groenman, Sj.\", \"pair\": [\"ICEM\", \"Groenman, Sj.\"], \"x\": -0.13260255605420299}, {\"y\": -0.944198113274824, \"edge\": 20, \"community\": \", REMP\", \"source\": \"ICEM\", \"target\": \"Hofstede, B.P.\", \"pair\": [\"ICEM\", \"Hofstede, B.P.\"], \"x\": 0.13133208713211608}, {\"y\": -1.0769311763402363, \"edge\": 20, \"community\": \", REMP\", \"source\": \"ICEM\", \"target\": \"Hofstede, B.P.\", \"pair\": [\"ICEM\", \"Hofstede, B.P.\"], \"x\": -0.05710728838560197}, {\"y\": -0.944198113274824, \"edge\": 21, \"community\": \", ICEM, REMP\", \"source\": \"ICEM\", \"target\": \"Beijer, G.\", \"pair\": [\"ICEM\", \"Beijer, G.\"], \"x\": 0.13133208713211608}, {\"y\": -0.8148883518532214, \"edge\": 21, \"community\": \", ICEM, REMP\", \"source\": \"ICEM\", \"target\": \"Beijer, G.\", \"pair\": [\"ICEM\", \"Beijer, G.\"], \"x\": 0.9153475948174251}, {\"y\": -1.0225440070728757, \"edge\": 22, \"community\": null, \"source\": \"RCE\", \"target\": \"Frijda, N.H.\", \"pair\": [\"RCE\", \"Frijda, N.H.\"], \"x\": -0.3734066923910425}, {\"y\": -0.04444707237748313, \"edge\": 22, \"community\": null, \"source\": \"RCE\", \"target\": \"Frijda, N.H.\", \"pair\": [\"RCE\", \"Frijda, N.H.\"], \"x\": -0.3711906032888801}, {\"y\": -1.0225440070728757, \"edge\": 23, \"community\": null, \"source\": \"RCE\", \"target\": \"Haveman, B.W.\", \"pair\": [\"RCE\", \"Haveman, B.W.\"], \"x\": -0.3734066923910425}, {\"y\": -0.9044073024444308, \"edge\": 23, \"community\": null, \"source\": \"RCE\", \"target\": \"Haveman, B.W.\", \"pair\": [\"RCE\", \"Haveman, B.W.\"], \"x\": 0.6394655824421953}, {\"y\": -1.0225440070728757, \"edge\": 24, \"community\": null, \"source\": \"RCE\", \"target\": \"Duijker, H.C.J.\", \"pair\": [\"RCE\", \"Duijker, H.C.J.\"], \"x\": -0.3734066923910425}, {\"y\": 0.04660588225242823, \"edge\": 24, \"community\": null, \"source\": \"RCE\", \"target\": \"Duijker, H.C.J.\", \"pair\": [\"RCE\", \"Duijker, H.C.J.\"], \"x\": 0.39787454418322077}, {\"y\": -1.0225440070728757, \"edge\": 25, \"community\": \", ICEM\", \"source\": \"RCE\", \"target\": \"Wentholt, R.\", \"pair\": [\"RCE\", \"Wentholt, R.\"], \"x\": -0.3734066923910425}, {\"y\": -1.8588506348409264, \"edge\": 25, \"community\": \", ICEM\", \"source\": \"RCE\", \"target\": \"Wentholt, R.\", \"pair\": [\"RCE\", \"Wentholt, R.\"], \"x\": 0.6286107772327643}, {\"y\": -1.0225440070728757, \"edge\": 26, \"community\": \", REMP\", \"source\": \"RCE\", \"target\": \"Groenman, Sj.\", \"pair\": [\"RCE\", \"Groenman, Sj.\"], \"x\": -0.3734066923910425}, {\"y\": -1.9459175764748904, \"edge\": 26, \"community\": \", REMP\", \"source\": \"RCE\", \"target\": \"Groenman, Sj.\", \"pair\": [\"RCE\", \"Groenman, Sj.\"], \"x\": -0.13260255605420299}, {\"y\": -0.04444707237748313, \"edge\": 27, \"community\": null, \"source\": \"Frijda, N.H.\", \"target\": \"Haveman, B.W.\", \"pair\": [\"Frijda, N.H.\", \"Haveman, B.W.\"], \"x\": -0.3711906032888801}, {\"y\": -0.9044073024444308, \"edge\": 27, \"community\": null, \"source\": \"Frijda, N.H.\", \"target\": \"Haveman, B.W.\", \"pair\": [\"Frijda, N.H.\", \"Haveman, B.W.\"], \"x\": 0.6394655824421953}, {\"y\": -0.04444707237748313, \"edge\": 28, \"community\": null, \"source\": \"Frijda, N.H.\", \"target\": \"Duijker, H.C.J.\", \"pair\": [\"Frijda, N.H.\", \"Duijker, H.C.J.\"], \"x\": -0.3711906032888801}, {\"y\": 0.04660588225242823, \"edge\": 28, \"community\": null, \"source\": \"Frijda, N.H.\", \"target\": \"Duijker, H.C.J.\", \"pair\": [\"Frijda, N.H.\", \"Duijker, H.C.J.\"], \"x\": 0.39787454418322077}, {\"y\": -0.9044073024444308, \"edge\": 29, \"community\": null, \"source\": \"Haveman, B.W.\", \"target\": \"Duijker, H.C.J.\", \"pair\": [\"Haveman, B.W.\", \"Duijker, H.C.J.\"], \"x\": 0.6394655824421953}, {\"y\": 0.04660588225242823, \"edge\": 29, \"community\": null, \"source\": \"Haveman, B.W.\", \"target\": \"Duijker, H.C.J.\", \"pair\": [\"Haveman, B.W.\", \"Duijker, H.C.J.\"], \"x\": 0.39787454418322077}, {\"y\": -0.9044073024444308, \"edge\": 30, \"community\": \", ICEM\", \"source\": \"Haveman, B.W.\", \"target\": \"Wentholt, R.\", \"pair\": [\"Haveman, B.W.\", \"Wentholt, R.\"], \"x\": 0.6394655824421953}, {\"y\": -1.8588506348409264, \"edge\": 30, \"community\": \", ICEM\", \"source\": \"Haveman, B.W.\", \"target\": \"Wentholt, R.\", \"pair\": [\"Haveman, B.W.\", \"Wentholt, R.\"], \"x\": 0.6286107772327643}, {\"y\": -0.9044073024444308, \"edge\": 31, \"community\": \", REMP\", \"source\": \"Haveman, B.W.\", \"target\": \"Groenman, Sj.\", \"pair\": [\"Haveman, B.W.\", \"Groenman, Sj.\"], \"x\": 0.6394655824421953}, {\"y\": -1.9459175764748904, \"edge\": 31, \"community\": \", REMP\", \"source\": \"Haveman, B.W.\", \"target\": \"Groenman, Sj.\", \"pair\": [\"Haveman, B.W.\", \"Groenman, Sj.\"], \"x\": -0.13260255605420299}, {\"y\": -1.8061858627208687, \"edge\": 32, \"community\": \", ICEM, REMP\", \"source\": \"Roof, M.K.\", \"target\": \"Beijer, G.\", \"pair\": [\"Roof, M.K.\", \"Beijer, G.\"], \"x\": 0.9881485943153407}, {\"y\": -0.8148883518532214, \"edge\": 32, \"community\": \", ICEM, REMP\", \"source\": \"Roof, M.K.\", \"target\": \"Beijer, G.\", \"pair\": [\"Roof, M.K.\", \"Beijer, G.\"], \"x\": 0.9153475948174251}, {\"y\": -0.8148883518532214, \"edge\": 33, \"community\": \", ICEM\", \"source\": \"Beijer, G.\", \"target\": \"Nixon, J.W.\", \"pair\": [\"Beijer, G.\", \"Nixon, J.W.\"], \"x\": 0.9153475948174251}, {\"y\": -1.047105091178174, \"edge\": 33, \"community\": \", ICEM\", \"source\": \"Beijer, G.\", \"target\": \"Nixon, J.W.\", \"pair\": [\"Beijer, G.\", \"Nixon, J.W.\"], \"x\": 1.4892100674978448}, {\"y\": -0.8148883518532214, \"edge\": 34, \"community\": null, \"source\": \"Beijer, G.\", \"target\": \"Boer-Lasschuyt, de, T.\", \"pair\": [\"Beijer, G.\", \"Boer-Lasschuyt, de, T.\"], \"x\": 0.9153475948174251}, {\"y\": 0.030143838263266942, \"edge\": 34, \"community\": null, \"source\": \"Beijer, G.\", \"target\": \"Boer-Lasschuyt, de, T.\", \"pair\": [\"Beijer, G.\", \"Boer-Lasschuyt, de, T.\"], \"x\": 0.3279634341530324}, {\"y\": -0.8148883518532214, \"edge\": 35, \"community\": null, \"source\": \"Beijer, G.\", \"target\": \"Makulu, H.F.\", \"pair\": [\"Beijer, G.\", \"Makulu, H.F.\"], \"x\": 0.9153475948174251}, {\"y\": -1.4505851016274962, \"edge\": 35, \"community\": null, \"source\": \"Beijer, G.\", \"target\": \"Makulu, H.F.\", \"pair\": [\"Beijer, G.\", \"Makulu, H.F.\"], \"x\": 0.13328398439502598}, {\"y\": -0.8148883518532214, \"edge\": 36, \"community\": null, \"source\": \"Beijer, G.\", \"target\": \"Sumiya, M.\", \"pair\": [\"Beijer, G.\", \"Sumiya, M.\"], \"x\": 0.9153475948174251}, {\"y\": -0.743166574546484, \"edge\": 36, \"community\": null, \"source\": \"Beijer, G.\", \"target\": \"Sumiya, M.\", \"pair\": [\"Beijer, G.\", \"Sumiya, M.\"], \"x\": 0.11387624091702764}, {\"y\": -0.8148883518532214, \"edge\": 37, \"community\": null, \"source\": \"Beijer, G.\", \"target\": \"Fentener van Vlissingen, R.\", \"pair\": [\"Beijer, G.\", \"Fentener van Vlissingen, R.\"], \"x\": 0.9153475948174251}, {\"y\": -0.5876194338110506, \"edge\": 37, \"community\": null, \"source\": \"Beijer, G.\", \"target\": \"Fentener van Vlissingen, R.\", \"pair\": [\"Beijer, G.\", \"Fentener van Vlissingen, R.\"], \"x\": 1.829138657387707}, {\"y\": -0.8148883518532214, \"edge\": 38, \"community\": \", ICEM\", \"source\": \"Beijer, G.\", \"target\": \"Timlin, M.F.\", \"pair\": [\"Beijer, G.\", \"Timlin, M.F.\"], \"x\": 0.9153475948174251}, {\"y\": -1.6209983460721746, \"edge\": 38, \"community\": \", ICEM\", \"source\": \"Beijer, G.\", \"target\": \"Timlin, M.F.\", \"pair\": [\"Beijer, G.\", \"Timlin, M.F.\"], \"x\": 1.3215386582530186}, {\"y\": -0.8148883518532214, \"edge\": 39, \"community\": \", ICEM, REMP\", \"source\": \"Beijer, G.\", \"target\": \"Beijer, G.\", \"pair\": [\"Beijer, G.\", \"Beijer, G.\"], \"x\": 0.9153475948174251}, {\"y\": -0.8148883518532214, \"edge\": 39, \"community\": \", ICEM, REMP\", \"source\": \"Beijer, G.\", \"target\": \"Beijer, G.\", \"pair\": [\"Beijer, G.\", \"Beijer, G.\"], \"x\": 0.9153475948174251}, {\"y\": -0.8148883518532214, \"edge\": 40, \"community\": null, \"source\": \"Beijer, G.\", \"target\": \"Taft, R.\", \"pair\": [\"Beijer, G.\", \"Taft, R.\"], \"x\": 0.9153475948174251}, {\"y\": 0.11634685899250752, \"edge\": 40, \"community\": null, \"source\": \"Beijer, G.\", \"target\": \"Taft, R.\", \"pair\": [\"Beijer, G.\", \"Taft, R.\"], \"x\": 1.2367087683538887}, {\"y\": -0.8148883518532214, \"edge\": 41, \"community\": null, \"source\": \"Beijer, G.\", \"target\": \"Doczy, A.G.\", \"pair\": [\"Beijer, G.\", \"Doczy, A.G.\"], \"x\": 0.9153475948174251}, {\"y\": -0.19995692784015906, \"edge\": 41, \"community\": null, \"source\": \"Beijer, G.\", \"target\": \"Doczy, A.G.\", \"pair\": [\"Beijer, G.\", \"Doczy, A.G.\"], \"x\": 1.29437093674636}, {\"y\": -0.8148883518532214, \"edge\": 42, \"community\": null, \"source\": \"Beijer, G.\", \"target\": \"Weinberg, A.A.\", \"pair\": [\"Beijer, G.\", \"Weinberg, A.A.\"], \"x\": 0.9153475948174251}, {\"y\": -1.7164053616422275, \"edge\": 42, \"community\": null, \"source\": \"Beijer, G.\", \"target\": \"Weinberg, A.A.\", \"pair\": [\"Beijer, G.\", \"Weinberg, A.A.\"], \"x\": 0.554089629370654}, {\"y\": -0.8148883518532214, \"edge\": 43, \"community\": null, \"source\": \"Beijer, G.\", \"target\": \"Guttman, L.\", \"pair\": [\"Beijer, G.\", \"Guttman, L.\"], \"x\": 0.9153475948174251}, {\"y\": -1.3957664154981413, \"edge\": 43, \"community\": null, \"source\": \"Beijer, G.\", \"target\": \"Guttman, L.\", \"pair\": [\"Beijer, G.\", \"Guttman, L.\"], \"x\": 0.5876633258244743}, {\"y\": -0.8148883518532214, \"edge\": 44, \"community\": null, \"source\": \"Beijer, G.\", \"target\": \"Paikert, G.C.\", \"pair\": [\"Beijer, G.\", \"Paikert, G.C.\"], \"x\": 0.9153475948174251}, {\"y\": -0.39005754388660185, \"edge\": 44, \"community\": null, \"source\": \"Beijer, G.\", \"target\": \"Paikert, G.C.\", \"pair\": [\"Beijer, G.\", \"Paikert, G.C.\"], \"x\": -0.045066188368105164}, {\"y\": -0.8148883518532214, \"edge\": 45, \"community\": null, \"source\": \"Beijer, G.\", \"target\": \"Bouscaren, A.T.\", \"pair\": [\"Beijer, G.\", \"Bouscaren, A.T.\"], \"x\": 0.9153475948174251}, {\"y\": -0.18902037551077178, \"edge\": 45, \"community\": null, \"source\": \"Beijer, G.\", \"target\": \"Bouscaren, A.T.\", \"pair\": [\"Beijer, G.\", \"Bouscaren, A.T.\"], \"x\": 1.7165012608050592}, {\"y\": -0.8148883518532214, \"edge\": 46, \"community\": \", ICEM\", \"source\": \"Beijer, G.\", \"target\": \"Richardson, A.\", \"pair\": [\"Beijer, G.\", \"Richardson, A.\"], \"x\": 0.9153475948174251}, {\"y\": -0.36900841281525953, \"edge\": 46, \"community\": \", ICEM\", \"source\": \"Beijer, G.\", \"target\": \"Richardson, A.\", \"pair\": [\"Beijer, G.\", \"Richardson, A.\"], \"x\": 0.006155045505038426}, {\"y\": -0.8148883518532214, \"edge\": 47, \"community\": null, \"source\": \"Beijer, G.\", \"target\": \"Schreuder, O.\", \"pair\": [\"Beijer, G.\", \"Schreuder, O.\"], \"x\": 0.9153475948174251}, {\"y\": -0.31741966555901735, \"edge\": 47, \"community\": null, \"source\": \"Beijer, G.\", \"target\": \"Schreuder, O.\", \"pair\": [\"Beijer, G.\", \"Schreuder, O.\"], \"x\": 0.5360464420159995}, {\"y\": -0.8148883518532214, \"edge\": 48, \"community\": null, \"source\": \"Beijer, G.\", \"target\": \"Tavuchis, N.\", \"pair\": [\"Beijer, G.\", \"Tavuchis, N.\"], \"x\": 0.9153475948174251}, {\"y\": -1.4742610460010073, \"edge\": 48, \"community\": null, \"source\": \"Beijer, G.\", \"target\": \"Tavuchis, N.\", \"pair\": [\"Beijer, G.\", \"Tavuchis, N.\"], \"x\": 1.695102754837937}, {\"y\": -0.8148883518532214, \"edge\": 49, \"community\": null, \"source\": \"Beijer, G.\", \"target\": \"Jong, de , P.\", \"pair\": [\"Beijer, G.\", \"Jong, de , P.\"], \"x\": 0.9153475948174251}, {\"y\": -1.0119587984145915, \"edge\": 49, \"community\": null, \"source\": \"Beijer, G.\", \"target\": \"Jong, de , P.\", \"pair\": [\"Beijer, G.\", \"Jong, de , P.\"], \"x\": 1.915402113341456}, {\"y\": -0.8148883518532214, \"edge\": 50, \"community\": null, \"source\": \"Beijer, G.\", \"target\": \"Cnossen, T.\", \"pair\": [\"Beijer, G.\", \"Cnossen, T.\"], \"x\": 0.9153475948174251}, {\"y\": 0.14275037662223866, \"edge\": 50, \"community\": null, \"source\": \"Beijer, G.\", \"target\": \"Cnossen, T.\", \"pair\": [\"Beijer, G.\", \"Cnossen, T.\"], \"x\": 0.7891999333359752}, {\"y\": -0.8148883518532214, \"edge\": 51, \"community\": \", REMP\", \"source\": \"Beijer, G.\", \"target\": \"Hofstede, B.P.\", \"pair\": [\"Beijer, G.\", \"Hofstede, B.P.\"], \"x\": 0.9153475948174251}, {\"y\": -1.0769311763402363, \"edge\": 51, \"community\": \", REMP\", \"source\": \"Beijer, G.\", \"target\": \"Hofstede, B.P.\", \"pair\": [\"Beijer, G.\", \"Hofstede, B.P.\"], \"x\": -0.05710728838560197}, {\"y\": -0.8148883518532214, \"edge\": 52, \"community\": null, \"source\": \"Beijer, G.\", \"target\": \"Ex, J.\", \"pair\": [\"Beijer, G.\", \"Ex, J.\"], \"x\": 0.9153475948174251}, {\"y\": -2.084844716672666, \"edge\": 52, \"community\": null, \"source\": \"Beijer, G.\", \"target\": \"Ex, J.\", \"pair\": [\"Beijer, G.\", \"Ex, J.\"], \"x\": 0.9110084803327148}, {\"y\": -0.8148883518532214, \"edge\": 53, \"community\": null, \"source\": \"Beijer, G.\", \"target\": \"Rutten, F.J.Th.\", \"pair\": [\"Beijer, G.\", \"Rutten, F.J.Th.\"], \"x\": 0.9153475948174251}, {\"y\": -2.13579375967689, \"edge\": 53, \"community\": null, \"source\": \"Beijer, G.\", \"target\": \"Rutten, F.J.Th.\", \"pair\": [\"Beijer, G.\", \"Rutten, F.J.Th.\"], \"x\": 0.33370946363970144}, {\"y\": -0.8148883518532214, \"edge\": 54, \"community\": null, \"source\": \"Beijer, G.\", \"target\": \"Johnston, R.\", \"pair\": [\"Beijer, G.\", \"Johnston, R.\"], \"x\": 0.9153475948174251}, {\"y\": -0.3032631442500616, \"edge\": 54, \"community\": null, \"source\": \"Beijer, G.\", \"target\": \"Johnston, R.\", \"pair\": [\"Beijer, G.\", \"Johnston, R.\"], \"x\": 0.9709325656989924}, {\"y\": -0.8148883518532214, \"edge\": 55, \"community\": null, \"source\": \"Beijer, G.\", \"target\": \"Weinstock, S. Alexander\", \"pair\": [\"Beijer, G.\", \"Weinstock, S. Alexander\"], \"x\": 0.9153475948174251}, {\"y\": -1.3330185585001515, \"edge\": 55, \"community\": null, \"source\": \"Beijer, G.\", \"target\": \"Weinstock, S. Alexander\", \"pair\": [\"Beijer, G.\", \"Weinstock, S. Alexander\"], \"x\": -0.45693192912672687}, {\"y\": -0.8148883518532214, \"edge\": 56, \"community\": null, \"source\": \"Beijer, G.\", \"target\": \"Wilder-Okladek, F.\", \"pair\": [\"Beijer, G.\", \"Wilder-Okladek, F.\"], \"x\": 0.9153475948174251}, {\"y\": -1.1508314452584945, \"edge\": 56, \"community\": null, \"source\": \"Beijer, G.\", \"target\": \"Wilder-Okladek, F.\", \"pair\": [\"Beijer, G.\", \"Wilder-Okladek, F.\"], \"x\": 1.5425769554295816}, {\"y\": -1.8588506348409264, \"edge\": 57, \"community\": \", REMP\", \"source\": \"Wentholt, R.\", \"target\": \"Groenman, Sj.\", \"pair\": [\"Wentholt, R.\", \"Groenman, Sj.\"], \"x\": 0.6286107772327643}, {\"y\": -1.9459175764748904, \"edge\": 57, \"community\": \", REMP\", \"source\": \"Wentholt, R.\", \"target\": \"Groenman, Sj.\", \"pair\": [\"Wentholt, R.\", \"Groenman, Sj.\"], \"x\": -0.13260255605420299}, {\"y\": 3.494283548124522, \"edge\": 58, \"community\": null, \"source\": \"Mol, J.J.\", \"target\": \"Visser t Hooft, W.A.\", \"pair\": [\"Mol, J.J.\", \"Visser t Hooft, W.A.\"], \"x\": -2.5894195172362053}, {\"y\": 2.5057164518754775, \"edge\": 58, \"community\": null, \"source\": \"Mol, J.J.\", \"target\": \"Visser t Hooft, W.A.\", \"pair\": [\"Mol, J.J.\", \"Visser t Hooft, W.A.\"], \"x\": -0.5894195172362056}, {\"y\": 0.11634685899250752, \"edge\": 59, \"community\": null, \"source\": \"Taft, R.\", \"target\": \"Doczy, A.G.\", \"pair\": [\"Taft, R.\", \"Doczy, A.G.\"], \"x\": 1.2367087683538887}, {\"y\": -0.19995692784015906, \"edge\": 59, \"community\": null, \"source\": \"Taft, R.\", \"target\": \"Doczy, A.G.\", \"pair\": [\"Taft, R.\", \"Doczy, A.G.\"], \"x\": 1.29437093674636}, {\"y\": -1.7164053616422275, \"edge\": 60, \"community\": null, \"source\": \"Weinberg, A.A.\", \"target\": \"Guttman, L.\", \"pair\": [\"Weinberg, A.A.\", \"Guttman, L.\"], \"x\": 0.554089629370654}, {\"y\": -1.3957664154981413, \"edge\": 60, \"community\": null, \"source\": \"Weinberg, A.A.\", \"target\": \"Guttman, L.\", \"pair\": [\"Weinberg, A.A.\", \"Guttman, L.\"], \"x\": 0.5876633258244743}, {\"y\": -2.084844716672666, \"edge\": 61, \"community\": null, \"source\": \"Ex, J.\", \"target\": \"Rutten, F.J.Th.\", \"pair\": [\"Ex, J.\", \"Rutten, F.J.Th.\"], \"x\": 0.9110084803327148}, {\"y\": -2.13579375967689, \"edge\": 61, \"community\": null, \"source\": \"Ex, J.\", \"target\": \"Rutten, F.J.Th.\", \"pair\": [\"Ex, J.\", \"Rutten, F.J.Th.\"], \"x\": 0.33370946363970144}], \"data-5ed4ded87ba705e6d7486fb68309aec1\": [{\"y\": -1.2061030036868672, \"name\": \"REMP\", \"centrality\": 1.66135542717494, \"label\": \"REMP\", \"entity_type\": \"organisation\", \"x\": 0.5418093404009143}, {\"y\": -0.944198113274824, \"name\": \"ICEM\", \"centrality\": 1.3281110213549943, \"label\": \"ICEM\", \"entity_type\": \"organisation\", \"x\": 0.13133208713211608}, {\"y\": -1.0225440070728757, \"name\": \"RCE\", \"centrality\": 1.0442326464020186, \"label\": \"RCE\", \"entity_type\": \"organisation\", \"x\": -0.3734066923910425}, {\"y\": -0.04444707237748313, \"name\": \"Frijda, N.H.\", \"centrality\": 0.8368022480904337, \"label\": \"\", \"entity_type\": \"unknown\", \"x\": -0.3711906032888801}, {\"y\": -0.9044073024444308, \"name\": \"Haveman, B.W.\", \"centrality\": 1.0442326464020188, \"label\": \"\", \"entity_type\": \"unknown\", \"x\": 0.6394655824421953}, {\"y\": 0.04660588225242823, \"name\": \"Duijker, H.C.J.\", \"centrality\": 0.8368022480904336, \"label\": \"\", \"entity_type\": \"unknown\", \"x\": 0.39787454418322077}, {\"y\": -1.8061858627208687, \"name\": \"Roof, M.K.\", \"centrality\": 0.26058981109869594, \"label\": \"\", \"entity_type\": \"unknown\", \"x\": 0.9881485943153407}, {\"y\": -0.8148883518532214, \"name\": \"Beijer, G.\", \"centrality\": 1.8418910225839231, \"label\": \"Beijer, G.\", \"entity_type\": \"academic\", \"x\": 0.9153475948174251}, {\"y\": -1.047105091178174, \"name\": \"Nixon, J.W.\", \"centrality\": 0.26058981109869594, \"label\": \"Nixon, J.W.\", \"entity_type\": \"unknown\", \"x\": 1.4892100674978448}, {\"y\": 0.030143838263266942, \"name\": \"Boer-Lasschuyt, de, T.\", \"centrality\": 0.26058981109869594, \"label\": \"\", \"entity_type\": \"unknown\", \"x\": 0.3279634341530324}, {\"y\": -1.4505851016274962, \"name\": \"Makulu, H.F.\", \"centrality\": 0.26058981109869594, \"label\": \"\", \"entity_type\": \"unknown\", \"x\": 0.13328398439502598}, {\"y\": -0.743166574546484, \"name\": \"Sumiya, M.\", \"centrality\": 0.26058981109869594, \"label\": \"\", \"entity_type\": \"unknown\", \"x\": 0.11387624091702764}, {\"y\": -0.5876194338110506, \"name\": \"Fentener van Vlissingen, R.\", \"centrality\": 0.26058981109869594, \"label\": \"\", \"entity_type\": \"unknown\", \"x\": 1.829138657387707}, {\"y\": -1.6209983460721746, \"name\": \"Timlin, M.F.\", \"centrality\": 0.26058981109869594, \"label\": \"Timlin, M.F.\", \"entity_type\": \"unknown\", \"x\": 1.3215386582530186}, {\"y\": -1.8588506348409264, \"name\": \"Wentholt, R.\", \"centrality\": 0.8368022480904337, \"label\": \"Wentholt, R.\", \"entity_type\": \"unknown\", \"x\": 0.6286107772327643}, {\"y\": -1.9459175764748904, \"name\": \"Groenman, Sj.\", \"centrality\": 0.8368022480904337, \"label\": \"Groenman, Sj.\", \"entity_type\": \"academic\", \"x\": -0.13260255605420299}, {\"y\": 3.494283548124522, \"name\": \"Mol, J.J.\", \"centrality\": 2.2008840986328155e-21, \"label\": \"Mol, J.J.\", \"entity_type\": \"unknown\", \"x\": -2.5894195172362053}, {\"y\": 2.5057164518754775, \"name\": \"Visser t Hooft, W.A.\", \"centrality\": 2.2008840986328155e-21, \"label\": \"\", \"entity_type\": \"unknown\", \"x\": -0.5894195172362056}, {\"y\": -0.36900841281525953, \"name\": \"Richardson, A.\", \"centrality\": 0.26058981109869594, \"label\": \"Richardson, A.\", \"entity_type\": \"unknown\", \"x\": 0.006155045505038426}, {\"y\": 0.11634685899250752, \"name\": \"Taft, R.\", \"centrality\": 0.3035337900953227, \"label\": \"\", \"entity_type\": \"unknown\", \"x\": 1.2367087683538887}, {\"y\": -0.19995692784015906, \"name\": \"Doczy, A.G.\", \"centrality\": 0.3035337900953227, \"label\": \"\", \"entity_type\": \"unknown\", \"x\": 1.29437093674636}, {\"y\": -1.7164053616422275, \"name\": \"Weinberg, A.A.\", \"centrality\": 0.3035337900953227, \"label\": \"\", \"entity_type\": \"unknown\", \"x\": 0.554089629370654}, {\"y\": -1.3957664154981413, \"name\": \"Guttman, L.\", \"centrality\": 0.3035337900953227, \"label\": \"\", \"entity_type\": \"unknown\", \"x\": 0.5876633258244743}, {\"y\": -0.39005754388660185, \"name\": \"Paikert, G.C.\", \"centrality\": 0.4956351410496253, \"label\": \"\", \"entity_type\": \"unknown\", \"x\": -0.045066188368105164}, {\"y\": -0.18902037551077178, \"name\": \"Bouscaren, A.T.\", \"centrality\": 0.26058981109869594, \"label\": \"\", \"entity_type\": \"unknown\", \"x\": 1.7165012608050592}, {\"y\": -0.31741966555901735, \"name\": \"Schreuder, O.\", \"centrality\": 0.26058981109869594, \"label\": \"\", \"entity_type\": \"unknown\", \"x\": 0.5360464420159995}, {\"y\": -1.4742610460010073, \"name\": \"Tavuchis, N.\", \"centrality\": 0.26058981109869594, \"label\": \"\", \"entity_type\": \"unknown\", \"x\": 1.695102754837937}, {\"y\": -1.0119587984145915, \"name\": \"Jong, de , P.\", \"centrality\": 0.26058981109869594, \"label\": \"\", \"entity_type\": \"unknown\", \"x\": 1.915402113341456}, {\"y\": 0.14275037662223866, \"name\": \"Cnossen, T.\", \"centrality\": 0.26058981109869594, \"label\": \"\", \"entity_type\": \"unknown\", \"x\": 0.7891999333359752}, {\"y\": -1.0769311763402363, \"name\": \"Hofstede, B.P.\", \"centrality\": 0.4484879713820992, \"label\": \"Hofstede, B.P.\", \"entity_type\": \"unknown\", \"x\": -0.05710728838560197}, {\"y\": -2.084844716672666, \"name\": \"Ex, J.\", \"centrality\": 0.577312803521705, \"label\": \"\", \"entity_type\": \"unknown\", \"x\": 0.9110084803327148}, {\"y\": -2.13579375967689, \"name\": \"Rutten, F.J.Th.\", \"centrality\": 0.577312803521705, \"label\": \"\", \"entity_type\": \"unknown\", \"x\": 0.33370946363970144}, {\"y\": -0.3032631442500616, \"name\": \"Johnston, R.\", \"centrality\": 0.4956351410496253, \"label\": \"\", \"entity_type\": \"unknown\", \"x\": 0.9709325656989924}, {\"y\": -1.3330185585001515, \"name\": \"Weinstock, S. Alexander\", \"centrality\": 0.4956351410496253, \"label\": \"\", \"entity_type\": \"unknown\", \"x\": -0.45693192912672687}, {\"y\": -1.1508314452584945, \"name\": \"Wilder-Okladek, F.\", \"centrality\": 0.4956351410496253, \"label\": \"\", \"entity_type\": \"unknown\", \"x\": 1.5425769554295816}], \"data-3614d954ff653c34dbf89feb432ff14f\": [{\"y\": -0.5742509743926818, \"edge\": 0, \"community\": \", ICEM, REMP\", \"source\": \"Jain, S.K.\", \"target\": \"Beijer, G.\", \"pair\": [\"Jain, S.K.\", \"Beijer, G.\"], \"x\": 1.0483075337093957}, {\"y\": -0.20733667277106094, \"edge\": 0, \"community\": \", ICEM, REMP\", \"source\": \"Jain, S.K.\", \"target\": \"Beijer, G.\", \"pair\": [\"Jain, S.K.\", \"Beijer, G.\"], \"x\": 0.13078174659990485}, {\"y\": -0.20733667277106094, \"edge\": 1, \"community\": null, \"source\": \"Beijer, G.\", \"target\": \"Schoenberg, H.W.\", \"pair\": [\"Beijer, G.\", \"Schoenberg, H.W.\"], \"x\": 0.13078174659990485}, {\"y\": -1.0887911269464272, \"edge\": 1, \"community\": null, \"source\": \"Beijer, G.\", \"target\": \"Schoenberg, H.W.\", \"pair\": [\"Beijer, G.\", \"Schoenberg, H.W.\"], \"x\": 0.5945135680349314}, {\"y\": -0.20733667277106094, \"edge\": 2, \"community\": \", REMP\", \"source\": \"Beijer, G.\", \"target\": \"REMP\", \"pair\": [\"Beijer, G.\", \"REMP\"], \"x\": 0.13078174659990485}, {\"y\": 0.23911783532326575, \"edge\": 2, \"community\": \", REMP\", \"source\": \"Beijer, G.\", \"target\": \"REMP\", \"pair\": [\"Beijer, G.\", \"REMP\"], \"x\": -0.15525057735914327}, {\"y\": -0.20733667277106094, \"edge\": 3, \"community\": null, \"source\": \"Beijer, G.\", \"target\": \"Albin, A.\", \"pair\": [\"Beijer, G.\", \"Albin, A.\"], \"x\": 0.13078174659990485}, {\"y\": 0.9199069671708118, \"edge\": 3, \"community\": null, \"source\": \"Beijer, G.\", \"target\": \"Albin, A.\", \"pair\": [\"Beijer, G.\", \"Albin, A.\"], \"x\": 2.1930832282096646}, {\"y\": -0.20733667277106094, \"edge\": 4, \"community\": null, \"source\": \"Beijer, G.\", \"target\": \"Alexander, R.\", \"pair\": [\"Beijer, G.\", \"Alexander, R.\"], \"x\": 0.13078174659990485}, {\"y\": 2.9199069671708116, \"edge\": 4, \"community\": null, \"source\": \"Beijer, G.\", \"target\": \"Alexander, R.\", \"pair\": [\"Beijer, G.\", \"Alexander, R.\"], \"x\": 3.8069167717903354}, {\"y\": -0.20733667277106094, \"edge\": 5, \"community\": null, \"source\": \"Beijer, G.\", \"target\": \"Neumann, B.\", \"pair\": [\"Beijer, G.\", \"Neumann, B.\"], \"x\": 0.13078174659990485}, {\"y\": -0.7595153437524044, \"edge\": 5, \"community\": null, \"source\": \"Beijer, G.\", \"target\": \"Neumann, B.\", \"pair\": [\"Beijer, G.\", \"Neumann, B.\"], \"x\": 0.2691292034673234}, {\"y\": -0.20733667277106094, \"edge\": 6, \"community\": null, \"source\": \"Beijer, G.\", \"target\": \"Mezoff, R.\", \"pair\": [\"Beijer, G.\", \"Mezoff, R.\"], \"x\": 0.13078174659990485}, {\"y\": -0.19578262726369536, \"edge\": 6, \"community\": null, \"source\": \"Beijer, G.\", \"target\": \"Mezoff, R.\", \"pair\": [\"Beijer, G.\", \"Mezoff, R.\"], \"x\": 0.838859665631342}, {\"y\": -0.20733667277106094, \"edge\": 7, \"community\": null, \"source\": \"Beijer, G.\", \"target\": \"Stone, K.H.\", \"pair\": [\"Beijer, G.\", \"Stone, K.H.\"], \"x\": 0.13078174659990485}, {\"y\": -0.1553727249058047, \"edge\": 7, \"community\": null, \"source\": \"Beijer, G.\", \"target\": \"Stone, K.H.\", \"pair\": [\"Beijer, G.\", \"Stone, K.H.\"], \"x\": -0.8709712268546858}, {\"y\": -0.20733667277106094, \"edge\": 8, \"community\": null, \"source\": \"Beijer, G.\", \"target\": \"Muller, K.D.\", \"pair\": [\"Beijer, G.\", \"Muller, K.D.\"], \"x\": 0.13078174659990485}, {\"y\": 0.6736430003538155, \"edge\": 8, \"community\": null, \"source\": \"Beijer, G.\", \"target\": \"Muller, K.D.\", \"pair\": [\"Beijer, G.\", \"Muller, K.D.\"], \"x\": -1.1509782467460141}, {\"y\": -0.20733667277106094, \"edge\": 9, \"community\": null, \"source\": \"Beijer, G.\", \"target\": \"Eidt, R.C.\", \"pair\": [\"Beijer, G.\", \"Eidt, R.C.\"], \"x\": 0.13078174659990485}, {\"y\": 1.2393657161652454, \"edge\": 9, \"community\": null, \"source\": \"Beijer, G.\", \"target\": \"Eidt, R.C.\", \"pair\": [\"Beijer, G.\", \"Eidt, R.C.\"], \"x\": -0.5792440783116446}, {\"y\": -0.20733667277106094, \"edge\": 10, \"community\": null, \"source\": \"Beijer, G.\", \"target\": \"WOTRO (Netherlands Foundation for the Advancement of Tropical Research)\", \"pair\": [\"Beijer, G.\", \"WOTRO (Netherlands Foundation for the Advancement of Tropical Research)\"], \"x\": 0.13078174659990485}, {\"y\": -0.9606519008869072, \"edge\": 10, \"community\": null, \"source\": \"Beijer, G.\", \"target\": \"WOTRO (Netherlands Foundation for the Advancement of Tropical Research)\", \"pair\": [\"Beijer, G.\", \"WOTRO (Netherlands Foundation for the Advancement of Tropical Research)\"], \"x\": -2.225644874458518}, {\"y\": -0.20733667277106094, \"edge\": 11, \"community\": null, \"source\": \"Beijer, G.\", \"target\": \"Bovenkerk, F.\", \"pair\": [\"Beijer, G.\", \"Bovenkerk, F.\"], \"x\": 0.13078174659990485}, {\"y\": -2.9606519008869068, \"edge\": 11, \"community\": null, \"source\": \"Beijer, G.\", \"target\": \"Bovenkerk, F.\", \"pair\": [\"Beijer, G.\", \"Bovenkerk, F.\"], \"x\": -3.721419058504856}, {\"y\": -0.20733667277106094, \"edge\": 12, \"community\": null, \"source\": \"Beijer, G.\", \"target\": \"Lattimore jr, B.G.\", \"pair\": [\"Beijer, G.\", \"Lattimore jr, B.G.\"], \"x\": 0.13078174659990485}, {\"y\": -0.813341597460585, \"edge\": 12, \"community\": null, \"source\": \"Beijer, G.\", \"target\": \"Lattimore jr, B.G.\", \"pair\": [\"Beijer, G.\", \"Lattimore jr, B.G.\"], \"x\": -0.6645489382816847}, {\"y\": -0.20733667277106094, \"edge\": 13, \"community\": null, \"source\": \"Beijer, G.\", \"target\": \"Maselli, G.\", \"pair\": [\"Beijer, G.\", \"Maselli, G.\"], \"x\": 0.13078174659990485}, {\"y\": 0.48706848514787227, \"edge\": 13, \"community\": null, \"source\": \"Beijer, G.\", \"target\": \"Maselli, G.\", \"pair\": [\"Beijer, G.\", \"Maselli, G.\"], \"x\": -0.598782173140238}, {\"y\": -0.20733667277106094, \"edge\": 14, \"community\": null, \"source\": \"Beijer, G.\", \"target\": \"Bernard, W.S.\", \"pair\": [\"Beijer, G.\", \"Bernard, W.S.\"], \"x\": 0.13078174659990485}, {\"y\": -1.1787733751849099, \"edge\": 14, \"community\": null, \"source\": \"Beijer, G.\", \"target\": \"Bernard, W.S.\", \"pair\": [\"Beijer, G.\", \"Bernard, W.S.\"], \"x\": -0.08426960806544792}, {\"y\": -0.20733667277106094, \"edge\": 15, \"community\": null, \"source\": \"Beijer, G.\", \"target\": \"Sassen, S.\", \"pair\": [\"Beijer, G.\", \"Sassen, S.\"], \"x\": 0.13078174659990485}, {\"y\": 0.11956455158667151, \"edge\": 15, \"community\": null, \"source\": \"Beijer, G.\", \"target\": \"Sassen, S.\", \"pair\": [\"Beijer, G.\", \"Sassen, S.\"], \"x\": 1.0803734201210404}, {\"y\": -0.20733667277106094, \"edge\": 16, \"community\": null, \"source\": \"Beijer, G.\", \"target\": \"Jorge, A.\", \"pair\": [\"Beijer, G.\", \"Jorge, A.\"], \"x\": 0.13078174659990485}, {\"y\": 0.6611289459306847, \"edge\": 16, \"community\": null, \"source\": \"Beijer, G.\", \"target\": \"Jorge, A.\", \"pair\": [\"Beijer, G.\", \"Jorge, A.\"], \"x\": 0.5576046694890406}, {\"y\": -0.20733667277106094, \"edge\": 17, \"community\": null, \"source\": \"Beijer, G.\", \"target\": \"Moncarz, R.\", \"pair\": [\"Beijer, G.\", \"Moncarz, R.\"], \"x\": 0.13078174659990485}, {\"y\": 0.763896664504739, \"edge\": 17, \"community\": null, \"source\": \"Beijer, G.\", \"target\": \"Moncarz, R.\", \"pair\": [\"Beijer, G.\", \"Moncarz, R.\"], \"x\": 0.09727873984088588}, {\"y\": 0.23911783532326575, \"edge\": 18, \"community\": null, \"source\": \"REMP\", \"target\": \"Albin, A.\", \"pair\": [\"REMP\", \"Albin, A.\"], \"x\": -0.15525057735914327}, {\"y\": 0.9199069671708118, \"edge\": 18, \"community\": null, \"source\": \"REMP\", \"target\": \"Albin, A.\", \"pair\": [\"REMP\", \"Albin, A.\"], \"x\": 2.1930832282096646}, {\"y\": 0.23911783532326575, \"edge\": 19, \"community\": null, \"source\": \"REMP\", \"target\": \"Alexander, R.\", \"pair\": [\"REMP\", \"Alexander, R.\"], \"x\": -0.15525057735914327}, {\"y\": 2.9199069671708116, \"edge\": 19, \"community\": null, \"source\": \"REMP\", \"target\": \"Alexander, R.\", \"pair\": [\"REMP\", \"Alexander, R.\"], \"x\": 3.8069167717903354}, {\"y\": 0.23911783532326575, \"edge\": 20, \"community\": null, \"source\": \"REMP\", \"target\": \"Neumann, B.\", \"pair\": [\"REMP\", \"Neumann, B.\"], \"x\": -0.15525057735914327}, {\"y\": -0.7595153437524044, \"edge\": 20, \"community\": null, \"source\": \"REMP\", \"target\": \"Neumann, B.\", \"pair\": [\"REMP\", \"Neumann, B.\"], \"x\": 0.2691292034673234}, {\"y\": 0.23911783532326575, \"edge\": 21, \"community\": null, \"source\": \"REMP\", \"target\": \"Mezoff, R.\", \"pair\": [\"REMP\", \"Mezoff, R.\"], \"x\": -0.15525057735914327}, {\"y\": -0.19578262726369536, \"edge\": 21, \"community\": null, \"source\": \"REMP\", \"target\": \"Mezoff, R.\", \"pair\": [\"REMP\", \"Mezoff, R.\"], \"x\": 0.838859665631342}, {\"y\": 0.23911783532326575, \"edge\": 22, \"community\": null, \"source\": \"REMP\", \"target\": \"Muller, K.D.\", \"pair\": [\"REMP\", \"Muller, K.D.\"], \"x\": -0.15525057735914327}, {\"y\": 0.6736430003538155, \"edge\": 22, \"community\": null, \"source\": \"REMP\", \"target\": \"Muller, K.D.\", \"pair\": [\"REMP\", \"Muller, K.D.\"], \"x\": -1.1509782467460141}, {\"y\": 0.23911783532326575, \"edge\": 23, \"community\": null, \"source\": \"REMP\", \"target\": \"Eidt, R.C.\", \"pair\": [\"REMP\", \"Eidt, R.C.\"], \"x\": -0.15525057735914327}, {\"y\": 1.2393657161652454, \"edge\": 23, \"community\": null, \"source\": \"REMP\", \"target\": \"Eidt, R.C.\", \"pair\": [\"REMP\", \"Eidt, R.C.\"], \"x\": -0.5792440783116446}, {\"y\": 0.23911783532326575, \"edge\": 24, \"community\": null, \"source\": \"REMP\", \"target\": \"WOTRO (Netherlands Foundation for the Advancement of Tropical Research)\", \"pair\": [\"REMP\", \"WOTRO (Netherlands Foundation for the Advancement of Tropical Research)\"], \"x\": -0.15525057735914327}, {\"y\": -0.9606519008869072, \"edge\": 24, \"community\": null, \"source\": \"REMP\", \"target\": \"WOTRO (Netherlands Foundation for the Advancement of Tropical Research)\", \"pair\": [\"REMP\", \"WOTRO (Netherlands Foundation for the Advancement of Tropical Research)\"], \"x\": -2.225644874458518}, {\"y\": 0.23911783532326575, \"edge\": 25, \"community\": null, \"source\": \"REMP\", \"target\": \"Bovenkerk, F.\", \"pair\": [\"REMP\", \"Bovenkerk, F.\"], \"x\": -0.15525057735914327}, {\"y\": -2.9606519008869068, \"edge\": 25, \"community\": null, \"source\": \"REMP\", \"target\": \"Bovenkerk, F.\", \"pair\": [\"REMP\", \"Bovenkerk, F.\"], \"x\": -3.721419058504856}, {\"y\": 0.9199069671708118, \"edge\": 26, \"community\": null, \"source\": \"Albin, A.\", \"target\": \"Alexander, R.\", \"pair\": [\"Albin, A.\", \"Alexander, R.\"], \"x\": 2.1930832282096646}, {\"y\": 2.9199069671708116, \"edge\": 26, \"community\": null, \"source\": \"Albin, A.\", \"target\": \"Alexander, R.\", \"pair\": [\"Albin, A.\", \"Alexander, R.\"], \"x\": 3.8069167717903354}, {\"y\": -0.7595153437524044, \"edge\": 27, \"community\": null, \"source\": \"Neumann, B.\", \"target\": \"Mezoff, R.\", \"pair\": [\"Neumann, B.\", \"Mezoff, R.\"], \"x\": 0.2691292034673234}, {\"y\": -0.19578262726369536, \"edge\": 27, \"community\": null, \"source\": \"Neumann, B.\", \"target\": \"Mezoff, R.\", \"pair\": [\"Neumann, B.\", \"Mezoff, R.\"], \"x\": 0.838859665631342}, {\"y\": 0.6736430003538155, \"edge\": 28, \"community\": null, \"source\": \"Muller, K.D.\", \"target\": \"Eidt, R.C.\", \"pair\": [\"Muller, K.D.\", \"Eidt, R.C.\"], \"x\": -1.1509782467460141}, {\"y\": 1.2393657161652454, \"edge\": 28, \"community\": null, \"source\": \"Muller, K.D.\", \"target\": \"Eidt, R.C.\", \"pair\": [\"Muller, K.D.\", \"Eidt, R.C.\"], \"x\": -0.5792440783116446}, {\"y\": -0.9606519008869072, \"edge\": 29, \"community\": null, \"source\": \"WOTRO (Netherlands Foundation for the Advancement of Tropical Research)\", \"target\": \"Bovenkerk, F.\", \"pair\": [\"WOTRO (Netherlands Foundation for the Advancement of Tropical Research)\", \"Bovenkerk, F.\"], \"x\": -2.225644874458518}, {\"y\": -2.9606519008869068, \"edge\": 29, \"community\": null, \"source\": \"WOTRO (Netherlands Foundation for the Advancement of Tropical Research)\", \"target\": \"Bovenkerk, F.\", \"pair\": [\"WOTRO (Netherlands Foundation for the Advancement of Tropical Research)\", \"Bovenkerk, F.\"], \"x\": -3.721419058504856}, {\"y\": 0.6611289459306847, \"edge\": 30, \"community\": null, \"source\": \"Jorge, A.\", \"target\": \"Moncarz, R.\", \"pair\": [\"Jorge, A.\", \"Moncarz, R.\"], \"x\": 0.5576046694890406}, {\"y\": 0.763896664504739, \"edge\": 30, \"community\": null, \"source\": \"Jorge, A.\", \"target\": \"Moncarz, R.\", \"pair\": [\"Jorge, A.\", \"Moncarz, R.\"], \"x\": 0.09727873984088588}], \"data-314d8aff318e76076d6716f0d6297df3\": [{\"y\": -0.5742509743926818, \"name\": \"Jain, S.K.\", \"centrality\": 0.4145488379422595, \"label\": \"\", \"entity_type\": \"unknown\", \"x\": 1.0483075337093957}, {\"y\": -0.20733667277106094, \"name\": \"Beijer, G.\", \"centrality\": 2.2891872011127368, \"label\": \"Beijer, G.\", \"entity_type\": \"academic\", \"x\": 0.13078174659990485}, {\"y\": -1.0887911269464272, \"name\": \"Schoenberg, H.W.\", \"centrality\": 0.4145488379422595, \"label\": \"\", \"entity_type\": \"unknown\", \"x\": 0.5945135680349314}, {\"y\": 0.23911783532326575, \"name\": \"REMP\", \"centrality\": 1.6890283443509215, \"label\": \"REMP\", \"entity_type\": \"organisation\", \"x\": -0.15525057735914327}, {\"y\": 0.9199069671708118, \"name\": \"Albin, A.\", \"centrality\": 0.8797251737068877, \"label\": \"\", \"entity_type\": \"unknown\", \"x\": 2.1930832282096646}, {\"y\": 2.9199069671708116, \"name\": \"Alexander, R.\", \"centrality\": 0.8797251737068877, \"label\": \"\", \"entity_type\": \"unknown\", \"x\": 3.8069167717903354}, {\"y\": -0.7595153437524044, \"name\": \"Neumann, B.\", \"centrality\": 0.8797251737068877, \"label\": \"\", \"entity_type\": \"unknown\", \"x\": 0.2691292034673234}, {\"y\": -0.19578262726369536, \"name\": \"Mezoff, R.\", \"centrality\": 0.8797251737068877, \"label\": \"\", \"entity_type\": \"unknown\", \"x\": 0.838859665631342}, {\"y\": -0.1553727249058047, \"name\": \"Stone, K.H.\", \"centrality\": 0.4145488379422595, \"label\": \"\", \"entity_type\": \"unknown\", \"x\": -0.8709712268546858}, {\"y\": 0.6736430003538155, \"name\": \"Muller, K.D.\", \"centrality\": 0.8797251737068877, \"label\": \"\", \"entity_type\": \"unknown\", \"x\": -1.1509782467460141}, {\"y\": 1.2393657161652454, \"name\": \"Eidt, R.C.\", \"centrality\": 0.8797251737068877, \"label\": \"\", \"entity_type\": \"unknown\", \"x\": -0.5792440783116446}, {\"y\": -0.9606519008869072, \"name\": \"WOTRO (Netherlands Foundation for the Advancement of Tropical Research)\", \"centrality\": 0.8797251737068877, \"label\": \"\", \"entity_type\": \"organisation\", \"x\": -2.225644874458518}, {\"y\": -2.9606519008869068, \"name\": \"Bovenkerk, F.\", \"centrality\": 0.8797251737068877, \"label\": \"\", \"entity_type\": \"unknown\", \"x\": -3.721419058504856}, {\"y\": -0.813341597460585, \"name\": \"Lattimore jr, B.G.\", \"centrality\": 0.4145488379422595, \"label\": \"\", \"entity_type\": \"unknown\", \"x\": -0.6645489382816847}, {\"y\": 0.48706848514787227, \"name\": \"Maselli, G.\", \"centrality\": 0.4145488379422595, \"label\": \"\", \"entity_type\": \"unknown\", \"x\": -0.598782173140238}, {\"y\": -1.1787733751849099, \"name\": \"Bernard, W.S.\", \"centrality\": 0.4145488379422595, \"label\": \"\", \"entity_type\": \"unknown\", \"x\": -0.08426960806544792}, {\"y\": 0.11956455158667151, \"name\": \"Sassen, S.\", \"centrality\": 0.4145488379422595, \"label\": \"\", \"entity_type\": \"unknown\", \"x\": 1.0803734201210404}, {\"y\": 0.6611289459306847, \"name\": \"Jorge, A.\", \"centrality\": 0.5062207951758638, \"label\": \"\", \"entity_type\": \"unknown\", \"x\": 0.5576046694890406}, {\"y\": 0.763896664504739, \"name\": \"Moncarz, R.\", \"centrality\": 0.5062207951758638, \"label\": \"\", \"entity_type\": \"unknown\", \"x\": 0.09727873984088588}]}}, {\"mode\": \"vega-lite\"});\n",
       "</script>"
      ],
      "text/plain": [
       "alt.VConcatChart(...)"
      ]
     },
     "execution_count": 31,
     "metadata": {},
     "output_type": "execute_result"
    }
   ],
   "source": [
    "alt.vconcat(chartdict[0], chartdict[1], chartdict[2])"
   ]
  },
  {
   "cell_type": "markdown",
   "metadata": {},
   "source": [
    "<hr>\n",
    "\n",
    "## Outside of the main article, junkyard and editorial stuff\n",
    "\n",
    "<hr>"
   ]
  },
  {
   "cell_type": "markdown",
   "metadata": {},
   "source": [
    "## Next sections\n",
    "\n",
    "[ Concepts and a genealogy: ICEM, REMP and the Dutch connection]\n",
    "\n",
    "[discourse coalitions: Fischer (technocratie / discourse coalition: p. 22, 28, 30 (methode: artikelen, boeken, conferenties); 32-34, gebruikt wagner en Hajer, benadrukt de agenada settende macht )) Wagner; Lutz; Hajer; Technocracy. Problematiseren: Op welke manier geeft de selectie van de wetenschap het discourse weer (milieuproblematiek, Hajer 1993 (bredere focus dan Wagner/Lutz; 1995: benadrukt belang institutionele genealogie (p.5))\n",
    "Argue that ICEM and REMP are interesting case study, because of difficulty to understand the character of ICEM; elaborate on periodization introduced by Lutz (NIOD-paper)\n",
    "connection to recent historiography on ICEM: Ventura; Parsanaglou; Geiger. Combine with previous analysis Van Faassen 2014.]\n",
    "\n",
    "[{ elaborate on analogue archival information_Collection Beyer:\n",
    "REMP started as ‘Dutch-German bilateral group on refugees studies’, and evolved to European group in which ‘technocrats’ as Sauvy were invited. [NB: Integrate Philip Nord’s analysis on french technocracy (French model) with the ‘Dutch: very comparable background to Haveman (NB: ido de Haan; Nele Beyen)\n",
    "- Beyen had contact with USA-delegates during Brussels Conference (= constitution of PICMME]\n",
    "\n",
    " during constitutative REMP conference 1952: representative of ICEM-dep. director Jacobsen (P.Jarrell, see memorandum, inv. 31, photo 201801054_163359) as observer: influencing REMP to focus not only on Europe, but also on overseas migration]\n",
    "\n",
    "[analysis- connecting to notebooks\n",
    "how do we translate our research questions into methodological ones: stuk RIK\n",
    "What data sets do we need? Mention them in the narrative; justification in the notebooks (stukken Rik/Marijn): \n",
    "Constructing the datasets for networks manually\n",
    "Meta data of journals IM / IMR for discovering discourse\n",
    "NB: IMR will be used as control dataset, to make comparison possible: we do not elaborate on this journal specifically.\n",
    "\n",
    "[The early years of REMP and ICEM: 1950s-1960]\n",
    "Narrative: explanation of role Haveman in constitution of PICMME / ICEM: in the Netherlands; at the international theatre (connection Australia/ Canada) (Van Faassen 2014; 2017)\n",
    "Narrative: Dutch governmental studies om emigration: supporting Dutch Policy (Haveman-Beyer); constitution of REMP in the Netherlands\n",
    "\n",
    "[Analysis: Connecting to notebooks: NB: REMP-bulletin and IM are still 2 journals; IMR doesn’t exist yet.\n",
    "What is the network; what is the discourse; how can we explain this with regard to previous research?\n",
    "\n",
    "[1960-1980] <Haveman-Beyer period>\n",
    "\tNarrative: serious financial problems ICEM; change in policy USA towards development aid Latin -America; combination of both partly solved by Haveman / Australia together with george Warren USA: (Van Faassen, 2014, 2017 check op Ventura, Parsanoglu]\n",
    "\n",
    "Haveman director-general ICEM; merger IM - REMP-bulletin\n",
    "\n",
    "[Analysis: connecting to notebooks: what network (NB: board of directors is still known from analogue research) what discourse: explanation : policy change USA→ Latin America….\n",
    "\n",
    "<1980-2000> Australia period \n",
    "\n",
    "\n",
    "Conclusions\n",
    "ICEM/IOM is orgaan om wetenschappelijk serieus genomen te worden, en om humanitair imago te scheppen\n",
    "Mensen in ICEM/IOM zitten ook in nationale regeringen -> nationale regeringen gebruiken ICEM als speelruimte voor remote control\n",
    "terugkomen op quote Petersen: huisorgaan: dat kan nog steeds aangetoond op basis van recente reviews van ICEM.\n",
    "discourse coalitions alleen als analytisch concept onvoldoende om ICEm helemaal te verklaren, maar leidt wel tot vervolg vragen\n",
    "\n",
    "\n",
    "[1] <eventueel nog aandacht besteden aan feit dat niemand echt toegang krijgt tot het ICEM-archief: feldblum / steinert meent zelfs dat het vernietigd is…checken bij Ventura / Geiger>\n",
    "[2] <Archiefverwijzing Statuten of data-sheet>.\n",
    "\n"
   ]
  },
  {
   "cell_type": "markdown",
   "metadata": {},
   "source": []
  },
  {
   "cell_type": "markdown",
   "metadata": {
    "tags": []
   },
   "source": [
    "[N] \n",
    "# Test"
   ]
  },
  {
   "cell_type": "code",
   "execution_count": null,
   "metadata": {},
   "outputs": [],
   "source": [
    "def some_func():\n",
    "    print(\"hello\")\n",
    "    \n",
    "some_func()"
   ]
  },
  {
   "cell_type": "code",
   "execution_count": null,
   "metadata": {},
   "outputs": [],
   "source": []
  }
 ],
 "metadata": {
  "kernelspec": {
   "display_name": "Python 3",
   "language": "python",
   "name": "python3"
  },
  "language_info": {
   "codemirror_mode": {
    "name": "ipython",
    "version": 3
   },
   "file_extension": ".py",
   "mimetype": "text/x-python",
   "name": "python",
   "nbconvert_exporter": "python",
   "pygments_lexer": "ipython3",
   "version": "3.7.11"
  }
 },
 "nbformat": 4,
 "nbformat_minor": 4
}
