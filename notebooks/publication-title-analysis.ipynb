{
 "cells": [
  {
   "cell_type": "markdown",
   "metadata": {},
   "source": [
    "# Analysing Topical Shifts in Migration Publication via Title Words\n",
    "\n",
    "The titles of publications on migration management give us an overview of what the scientific community focused in their research over the decades.\n",
    "\n",
    "The dataset consists of authors, titles and publication year of publications in the Research group on European Migration Problems series (REMP, since 1951), and the journals International Migration (IM, since 1964) and International Migration Review (IMR, since 1964), over the period 1951-2000. \n",
    "\n",
    "We use Content Analysis as a method to investigate topical shifts in the discourse around migration management. “Content analysis is an approach to the analysis of documents and texts (which may consist of words and/or images and may be printed or online, written or spoken) that seeks to quantify content in terms of predetermined categories and in a systematic and replicable manner.” (Bryman, 2016, p.283).\n",
    "\n",
    "## Data Selection\n",
    "\n",
    "Before performing a content analysis of the article titles, we want to make a selection of titles that is focused on the academic debate around migration, without any distracting non-topical titles that might obscure any topical shifts across the decades from 1951-2000.\n",
    "\n",
    "Given the analysis above, we use the following three sets of articles for analysis:\n",
    "\n",
    "1. main articles from REMP and IM, plus the IM review articles,\n",
    "2. main articles from IMR\n",
    "3. review articles from IMR\n",
    "\n",
    "The reason to combine the main and review articles of IM is that the number of review articles is too low for independent content analysis. \n",
    "\n",
    "### References \n",
    "\n",
    "Bryman, A. (2016). Social research methods (Fifth edition.). Oxford ; New York: Oxford University Press.\n",
    "\n"
   ]
  },
  {
   "cell_type": "code",
   "execution_count": 15,
   "metadata": {},
   "outputs": [
    {
     "data": {
      "text/html": [
       "<div>\n",
       "<style scoped>\n",
       "    .dataframe tbody tr th:only-of-type {\n",
       "        vertical-align: middle;\n",
       "    }\n",
       "\n",
       "    .dataframe tbody tr th {\n",
       "        vertical-align: top;\n",
       "    }\n",
       "\n",
       "    .dataframe thead th {\n",
       "        text-align: right;\n",
       "    }\n",
       "</style>\n",
       "<table border=\"1\" class=\"dataframe\">\n",
       "  <thead>\n",
       "    <tr style=\"text-align: right;\">\n",
       "      <th></th>\n",
       "      <th>article_title</th>\n",
       "      <th>issue_pub_year</th>\n",
       "      <th>publisher</th>\n",
       "      <th>article_type</th>\n",
       "    </tr>\n",
       "  </thead>\n",
       "  <tbody>\n",
       "    <tr>\n",
       "      <th>0</th>\n",
       "      <td>The importance of emigration for the solution ...</td>\n",
       "      <td>1951</td>\n",
       "      <td>REMP</td>\n",
       "      <td>main</td>\n",
       "    </tr>\n",
       "    <tr>\n",
       "      <th>1</th>\n",
       "      <td>European emigration overseas past and future</td>\n",
       "      <td>1951</td>\n",
       "      <td>REMP</td>\n",
       "      <td>main</td>\n",
       "    </tr>\n",
       "    <tr>\n",
       "      <th>2</th>\n",
       "      <td>Some aspects of migration problems in the Neth...</td>\n",
       "      <td>1952</td>\n",
       "      <td>REMP</td>\n",
       "      <td>main</td>\n",
       "    </tr>\n",
       "    <tr>\n",
       "      <th>3</th>\n",
       "      <td>Some quantitative aspects of future population...</td>\n",
       "      <td>1952</td>\n",
       "      <td>REMP</td>\n",
       "      <td>main</td>\n",
       "    </tr>\n",
       "    <tr>\n",
       "      <th>4</th>\n",
       "      <td>The refugees as a burden, a stimulus, and a ch...</td>\n",
       "      <td>1951</td>\n",
       "      <td>REMP</td>\n",
       "      <td>main</td>\n",
       "    </tr>\n",
       "  </tbody>\n",
       "</table>\n",
       "</div>"
      ],
      "text/plain": [
       "                                       article_title  issue_pub_year  \\\n",
       "0  The importance of emigration for the solution ...            1951   \n",
       "1       European emigration overseas past and future            1951   \n",
       "2  Some aspects of migration problems in the Neth...            1952   \n",
       "3  Some quantitative aspects of future population...            1952   \n",
       "4  The refugees as a burden, a stimulus, and a ch...            1951   \n",
       "\n",
       "  publisher article_type  \n",
       "0      REMP         main  \n",
       "1      REMP         main  \n",
       "2      REMP         main  \n",
       "3      REMP         main  \n",
       "4      REMP         main  "
      ]
     },
     "execution_count": 15,
     "metadata": {},
     "output_type": "execute_result"
    }
   ],
   "source": [
    "%reload_ext autoreload\n",
    "%autoreload 2\n",
    "\n",
    "import pandas as pd\n",
    "from collections import defaultdict\n",
    "\n",
    "# the name and location of the article records for the IM journal (in CSV format)\n",
    "records_file = '../data/main-review-article-records.csv'\n",
    "\n",
    "columns = ['article_title', 'issue_pub_year', 'publisher', 'article_type']\n",
    "# load the csv data into a data frame\n",
    "df = pd.read_csv(records_file, usecols=columns)\n",
    "# show the first and last records of the dataset to demonstrate what the records look like\n",
    "df.head(5)"
   ]
  },
  {
   "cell_type": "code",
   "execution_count": 16,
   "metadata": {},
   "outputs": [
    {
     "data": {
      "text/plain": [
       "IMR_review      1842\n",
       "IMR_research    1539\n",
       "REMP_IM          901\n",
       "Name: dataset, dtype: int64"
      ]
     },
     "execution_count": 16,
     "metadata": {},
     "output_type": "execute_result"
    }
   ],
   "source": [
    "def map_dataset(publisher, article_type):\n",
    "    # all REMP and IM (published by Wiley) articles are bunlded in a single dataset\n",
    "    if publisher == 'REMP' or publisher == 'Wiley':\n",
    "        return 'REMP_IM'\n",
    "    # The IMR articles are separated in review articles and research articles\n",
    "    return 'IMR_research' if article_type == 'main' else 'IMR_review'\n",
    "\n",
    "df['dataset'] = df.apply(lambda x: map_dataset(x['publisher'], x['article_type']), axis=1)\n",
    "df.dataset.value_counts()"
   ]
  },
  {
   "cell_type": "markdown",
   "metadata": {},
   "source": [
    "### Analysing Title Words Per Decade\n",
    "\n",
    "The articles are published over a period of several decades, and there might be shifts in the discourse over time. A next step is to group uni-grams and bi-grams per decade, to visualise shifts.\n",
    "\n",
    "The first step is to group the article titles per decade. We derive the decade from the year that the issue was published. \n",
    "\n",
    "**TO DO: elaborate choice for per-decade.**"
   ]
  },
  {
   "cell_type": "code",
   "execution_count": 17,
   "metadata": {},
   "outputs": [
    {
     "data": {
      "text/plain": [
       "1990    1490\n",
       "1980    1236\n",
       "1970    1052\n",
       "1960     404\n",
       "1950     100\n",
       "Name: issue_decade, dtype: int64"
      ]
     },
     "execution_count": 17,
     "metadata": {},
     "output_type": "execute_result"
    }
   ],
   "source": [
    "# adding a column per article with the publication decade\n",
    "df['issue_decade'] = df.issue_pub_year.apply(lambda x: int(x/10) * 10 if not pd.isnull(x) else x)\n",
    "\n",
    "df.issue_decade.value_counts()"
   ]
  },
  {
   "cell_type": "code",
   "execution_count": 18,
   "metadata": {},
   "outputs": [
    {
     "data": {
      "text/plain": [
       "issue_decade  dataset     \n",
       "1950          REMP_IM         100\n",
       "1960          IMR_research    122\n",
       "              IMR_review      129\n",
       "              REMP_IM         153\n",
       "1970          IMR_research    340\n",
       "              IMR_review      592\n",
       "              REMP_IM         120\n",
       "1980          IMR_research    475\n",
       "              IMR_review      519\n",
       "              REMP_IM         242\n",
       "1990          IMR_research    602\n",
       "              IMR_review      602\n",
       "              REMP_IM         286\n",
       "dtype: int64"
      ]
     },
     "execution_count": 18,
     "metadata": {},
     "output_type": "execute_result"
    }
   ],
   "source": [
    "df.groupby(['issue_decade', 'dataset']).size()"
   ]
  },
  {
   "cell_type": "markdown",
   "metadata": {},
   "source": [
    "## Analysing Discourse Topics Through Publication Titles\n",
    "\n",
    "The titles are at most only a highly condensed summary of the topics discussed in the publications, but nevertheless allows us to track what the debate focussed on and how attention shifted across the decades. \n",
    "\n",
    "We conduct a content analysis of the three sets of titles by comparing the frequencies of terms (e.g. individual words and common two-word phrases) across the datasets and across decades. Before counting terms, we normalise titles by removing punctuation, quote characters, superscript symbols for footnotes and stop words, then lowercasing all terms so that differences in case do not result in different terms."
   ]
  },
  {
   "cell_type": "code",
   "execution_count": 21,
   "metadata": {},
   "outputs": [
    {
     "data": {
      "text/plain": [
       "0       the importance of emigration for the solution ...\n",
       "1            european emigration overseas past and future\n",
       "2       some aspects of migration problems in the neth...\n",
       "3       some quantitative aspects of future population...\n",
       "4       the refugees as a burden a stimulus and a chal...\n",
       "                              ...                        \n",
       "4277                             chapter four going north\n",
       "4278               chapter five the new york labor market\n",
       "4279                   chapter six the settlement process\n",
       "4280                             chapter seven conclusion\n",
       "4281                                         bibliography\n",
       "Name: normalised_title, Length: 4282, dtype: object"
      ]
     },
     "execution_count": 21,
     "metadata": {},
     "output_type": "execute_result"
    }
   ],
   "source": [
    "import scripts.content_analysis as ca\n",
    "\n",
    "# create a normalised version of the article title\n",
    "# - remove footnote symbols, stopwords, punctuation and quote characters\n",
    "# - standardise acronyms\n",
    "# - remove 'Book Review: ' prefix from review article titles\n",
    "df['normalised_title'] = df.article_title.apply(ca.normalise_title)\n",
    "df.normalised_title"
   ]
  },
  {
   "cell_type": "markdown",
   "metadata": {},
   "source": [
    "### Bigrams\n",
    "\n",
    "An additional transformation step we take is identifying and marking common two-collocations so that they are treated as single terms. That is, a collocation like _United States_  should not be treated as two words _United_ and _States_ but as a single term.\n",
    "\n",
    "Below we transform titles that have common collocations by replacing the whitespace between collocated words with an underscore, so they become a single term."
   ]
  },
  {
   "cell_type": "code",
   "execution_count": 24,
   "metadata": {},
   "outputs": [
    {
     "ename": "ImportError",
     "evalue": "cannot import name 'stopwords' from 'scripts.content_analysis' (/Users/rikhoekstra/develop/migrant_discourse/notebooks/scripts/content_analysis.py)",
     "output_type": "error",
     "traceback": [
      "\u001b[0;31m---------------------------------------------------------------------------\u001b[0m",
      "\u001b[0;31mImportError\u001b[0m                               Traceback (most recent call last)",
      "\u001b[0;32m<ipython-input-24-fae0e3c2c8cb>\u001b[0m in \u001b[0;36m<module>\u001b[0;34m\u001b[0m\n\u001b[0;32m----> 1\u001b[0;31m \u001b[0;32mfrom\u001b[0m \u001b[0mscripts\u001b[0m\u001b[0;34m.\u001b[0m\u001b[0mcontent_analysis\u001b[0m \u001b[0;32mimport\u001b[0m \u001b[0mmark_bigrams\u001b[0m\u001b[0;34m,\u001b[0m \u001b[0mextract_bigrams\u001b[0m\u001b[0;34m,\u001b[0m \u001b[0mstopwords\u001b[0m\u001b[0;34m\u001b[0m\u001b[0;34m\u001b[0m\u001b[0m\n\u001b[0m\u001b[1;32m      2\u001b[0m \u001b[0;34m\u001b[0m\u001b[0m\n\u001b[1;32m      3\u001b[0m \u001b[0mtitles\u001b[0m \u001b[0;34m=\u001b[0m \u001b[0mlist\u001b[0m\u001b[0;34m(\u001b[0m\u001b[0mdf\u001b[0m\u001b[0;34m.\u001b[0m\u001b[0mnormalised_title\u001b[0m\u001b[0;34m)\u001b[0m\u001b[0;34m\u001b[0m\u001b[0;34m\u001b[0m\u001b[0m\n\u001b[1;32m      4\u001b[0m \u001b[0mbigrams\u001b[0m \u001b[0;34m=\u001b[0m \u001b[0mextract_bigrams\u001b[0m\u001b[0;34m(\u001b[0m\u001b[0mtitles\u001b[0m\u001b[0;34m,\u001b[0m \u001b[0mstopwords\u001b[0m\u001b[0;34m)\u001b[0m\u001b[0;34m\u001b[0m\u001b[0;34m\u001b[0m\u001b[0m\n\u001b[1;32m      5\u001b[0m \u001b[0mdf\u001b[0m\u001b[0;34m[\u001b[0m\u001b[0;34m'bigrammed_title'\u001b[0m\u001b[0;34m]\u001b[0m \u001b[0;34m=\u001b[0m \u001b[0mdf\u001b[0m\u001b[0;34m.\u001b[0m\u001b[0mnormalised_title\u001b[0m\u001b[0;34m.\u001b[0m\u001b[0mapply\u001b[0m\u001b[0;34m(\u001b[0m\u001b[0;32mlambda\u001b[0m \u001b[0mx\u001b[0m\u001b[0;34m:\u001b[0m \u001b[0mmark_bigrams\u001b[0m\u001b[0;34m(\u001b[0m\u001b[0mx\u001b[0m\u001b[0;34m,\u001b[0m \u001b[0mbigrams\u001b[0m\u001b[0;34m)\u001b[0m\u001b[0;34m)\u001b[0m\u001b[0;34m\u001b[0m\u001b[0;34m\u001b[0m\u001b[0m\n",
      "\u001b[0;31mImportError\u001b[0m: cannot import name 'stopwords' from 'scripts.content_analysis' (/Users/rikhoekstra/develop/migrant_discourse/notebooks/scripts/content_analysis.py)"
     ]
    }
   ],
   "source": [
    "from scripts.content_analysis import mark_bigrams, extract_bigrams\n",
    "\n",
    "titles = list(df.normalised_title)\n",
    "bigrams = extract_bigrams(titles, stopwords)\n",
    "df['bigrammed_title'] = df.normalised_title.apply(lambda x: mark_bigrams(x, bigrams))\n",
    "df.bigrammed_title.head(5)"
   ]
  },
  {
   "cell_type": "markdown",
   "metadata": {},
   "source": [
    "The third title has the collocation _migration_problems_. \n"
   ]
  },
  {
   "cell_type": "markdown",
   "metadata": {},
   "source": [
    "### From Terms to TF\\*IDF\n",
    "\n",
    "To compute TF\\*IDF scores, we compute the TF and IDF parts separately on different representations of the titles:\n",
    "\n",
    "- *IDF*: count the document frequencies and IDF of terms per title. This ensures that the IDF for a term is the same across the three datasets and across the decades, so that we can meaningfully interpret differences when comparing datasets and decades. \n",
    "- *TF*: the term frequency is computed on the aggregation of all titles per dataset, per decade. That is, we combine the titles for the publications in a single decade in a single dataset into a single document and count the frequency of each term.\n",
    "\n",
    "We start with grouping publications titles per decade and dataset."
   ]
  },
  {
   "cell_type": "code",
   "execution_count": 23,
   "metadata": {},
   "outputs": [
    {
     "ename": "AttributeError",
     "evalue": "'DataFrame' object has no attribute 'bigrammed_title'",
     "output_type": "error",
     "traceback": [
      "\u001b[0;31m---------------------------------------------------------------------------\u001b[0m",
      "\u001b[0;31mAttributeError\u001b[0m                            Traceback (most recent call last)",
      "\u001b[0;32m<ipython-input-23-4799fff1ddbe>\u001b[0m in \u001b[0;36m<module>\u001b[0;34m\u001b[0m\n\u001b[1;32m      7\u001b[0m \u001b[0;32mfor\u001b[0m \u001b[0mdecade\u001b[0m \u001b[0;32min\u001b[0m \u001b[0mdf\u001b[0m\u001b[0;34m.\u001b[0m\u001b[0missue_decade\u001b[0m\u001b[0;34m.\u001b[0m\u001b[0munique\u001b[0m\u001b[0;34m(\u001b[0m\u001b[0;34m)\u001b[0m\u001b[0;34m:\u001b[0m\u001b[0;34m\u001b[0m\u001b[0;34m\u001b[0m\u001b[0m\n\u001b[1;32m      8\u001b[0m     \u001b[0;32mfor\u001b[0m \u001b[0mdataset\u001b[0m \u001b[0;32min\u001b[0m \u001b[0mdf\u001b[0m\u001b[0;34m.\u001b[0m\u001b[0mdataset\u001b[0m\u001b[0;34m.\u001b[0m\u001b[0munique\u001b[0m\u001b[0;34m(\u001b[0m\u001b[0;34m)\u001b[0m\u001b[0;34m:\u001b[0m\u001b[0;34m\u001b[0m\u001b[0;34m\u001b[0m\u001b[0m\n\u001b[0;32m----> 9\u001b[0;31m         \u001b[0mtitles\u001b[0m \u001b[0;34m=\u001b[0m \u001b[0mlist\u001b[0m\u001b[0;34m(\u001b[0m\u001b[0mdf\u001b[0m\u001b[0;34m[\u001b[0m\u001b[0;34m(\u001b[0m\u001b[0mdf\u001b[0m\u001b[0;34m.\u001b[0m\u001b[0missue_decade\u001b[0m \u001b[0;34m==\u001b[0m \u001b[0mdecade\u001b[0m\u001b[0;34m)\u001b[0m \u001b[0;34m&\u001b[0m \u001b[0;34m(\u001b[0m\u001b[0mdf\u001b[0m\u001b[0;34m.\u001b[0m\u001b[0mdataset\u001b[0m \u001b[0;34m==\u001b[0m \u001b[0mdataset\u001b[0m\u001b[0;34m)\u001b[0m\u001b[0;34m]\u001b[0m\u001b[0;34m.\u001b[0m\u001b[0mbigrammed_title\u001b[0m\u001b[0;34m)\u001b[0m\u001b[0;34m\u001b[0m\u001b[0;34m\u001b[0m\u001b[0m\n\u001b[0m\u001b[1;32m     10\u001b[0m         \u001b[0mgrouped_titles\u001b[0m\u001b[0;34m[\u001b[0m\u001b[0mdataset\u001b[0m\u001b[0;34m]\u001b[0m\u001b[0;34m[\u001b[0m\u001b[0mdecade\u001b[0m\u001b[0;34m]\u001b[0m \u001b[0;34m=\u001b[0m \u001b[0mlist\u001b[0m\u001b[0;34m(\u001b[0m\u001b[0mtitles\u001b[0m\u001b[0;34m)\u001b[0m\u001b[0;34m\u001b[0m\u001b[0;34m\u001b[0m\u001b[0m\n",
      "\u001b[0;32m~/anaconda/envs/36/lib/python3.7/site-packages/pandas/core/generic.py\u001b[0m in \u001b[0;36m__getattr__\u001b[0;34m(self, name)\u001b[0m\n\u001b[1;32m   5137\u001b[0m             \u001b[0;32mif\u001b[0m \u001b[0mself\u001b[0m\u001b[0;34m.\u001b[0m\u001b[0m_info_axis\u001b[0m\u001b[0;34m.\u001b[0m\u001b[0m_can_hold_identifiers_and_holds_name\u001b[0m\u001b[0;34m(\u001b[0m\u001b[0mname\u001b[0m\u001b[0;34m)\u001b[0m\u001b[0;34m:\u001b[0m\u001b[0;34m\u001b[0m\u001b[0;34m\u001b[0m\u001b[0m\n\u001b[1;32m   5138\u001b[0m                 \u001b[0;32mreturn\u001b[0m \u001b[0mself\u001b[0m\u001b[0;34m[\u001b[0m\u001b[0mname\u001b[0m\u001b[0;34m]\u001b[0m\u001b[0;34m\u001b[0m\u001b[0;34m\u001b[0m\u001b[0m\n\u001b[0;32m-> 5139\u001b[0;31m             \u001b[0;32mreturn\u001b[0m \u001b[0mobject\u001b[0m\u001b[0;34m.\u001b[0m\u001b[0m__getattribute__\u001b[0m\u001b[0;34m(\u001b[0m\u001b[0mself\u001b[0m\u001b[0;34m,\u001b[0m \u001b[0mname\u001b[0m\u001b[0;34m)\u001b[0m\u001b[0;34m\u001b[0m\u001b[0;34m\u001b[0m\u001b[0m\n\u001b[0m\u001b[1;32m   5140\u001b[0m \u001b[0;34m\u001b[0m\u001b[0m\n\u001b[1;32m   5141\u001b[0m     \u001b[0;32mdef\u001b[0m \u001b[0m__setattr__\u001b[0m\u001b[0;34m(\u001b[0m\u001b[0mself\u001b[0m\u001b[0;34m,\u001b[0m \u001b[0mname\u001b[0m\u001b[0;34m:\u001b[0m \u001b[0mstr\u001b[0m\u001b[0;34m,\u001b[0m \u001b[0mvalue\u001b[0m\u001b[0;34m)\u001b[0m \u001b[0;34m->\u001b[0m \u001b[0;32mNone\u001b[0m\u001b[0;34m:\u001b[0m\u001b[0;34m\u001b[0m\u001b[0;34m\u001b[0m\u001b[0m\n",
      "\u001b[0;31mAttributeError\u001b[0m: 'DataFrame' object has no attribute 'bigrammed_title'"
     ]
    }
   ],
   "source": [
    "from collections import Counter\n",
    "from collections import defaultdict\n",
    "\n",
    "unigram_freq = defaultdict(dict)\n",
    "grouped_titles = defaultdict(dict)\n",
    "\n",
    "for decade in df.issue_decade.unique():\n",
    "    for dataset in df.dataset.unique():\n",
    "        titles = list(df[(df.issue_decade == decade) & (df.dataset == dataset)].bigrammed_title)\n",
    "        grouped_titles[dataset][decade] = list(titles)\n"
   ]
  },
  {
   "cell_type": "markdown",
   "metadata": {},
   "source": [
    "Next, we compute the IDF scores per term based on the individual titles as documents."
   ]
  },
  {
   "cell_type": "code",
   "execution_count": null,
   "metadata": {},
   "outputs": [],
   "source": [
    "from sklearn.feature_extraction.text import TfidfTransformer, TfidfVectorizer, CountVectorizer\n",
    "\n",
    "stopwords = ca.get_stopwords()\n",
    "\n",
    "\n",
    "# make a list of all the titles with identified bigrams.\n",
    "docs = list(df.bigrammed_title)\n",
    "\n",
    "# instantiate a CountVectorizer() \n",
    "cv=CountVectorizer(stop_words=stopwords, analyzer='word') \n",
    " \n",
    "# compute word counts per title\n",
    "word_count_vector=cv.fit_transform(docs)\n",
    "# instantiate a tf*idf transformer\n",
    "tfidf_transformer=TfidfTransformer(smooth_idf=True,use_idf=True) \n",
    "# fit the word counts per title to the tf*idf transformer\n",
    "tfidf_transformer.fit(word_count_vector)\n",
    "\n",
    "\n",
    "# extract the IDF values \n",
    "df_idf = pd.DataFrame(tfidf_transformer.idf_, index=cv.get_feature_names(),columns=[\"idf_weights\"]) \n",
    " \n",
    "# show the term with lowest and highest IDF scores\n",
    "df_idf.sort_values(by=['idf_weights'])"
   ]
  },
  {
   "cell_type": "markdown",
   "metadata": {},
   "source": [
    "Not surprisingly, terms like _migration_, _immigration_ and _immigrants_ have the lowest IDF scores as they are occur in more titles than other terms. Note that _united_states_ and _america_ also occur in many titles. \n",
    "\n",
    "The terms with the highest IDF scores are those that occur only in a single title.\n",
    "\n",
    "The following step is merging the titles of all publications per decade and per dataset. That is, all titles of IMR Research publications in the 1970s are combined into a single text."
   ]
  },
  {
   "cell_type": "code",
   "execution_count": 7,
   "metadata": {},
   "outputs": [
    {
     "ename": "NameError",
     "evalue": "name 'grouped_titles' is not defined",
     "output_type": "error",
     "traceback": [
      "\u001b[0;31m---------------------------------------------------------------------------\u001b[0m",
      "\u001b[0;31mNameError\u001b[0m                                 Traceback (most recent call last)",
      "\u001b[0;32m<ipython-input-7-67851ab656de>\u001b[0m in \u001b[0;36m<module>\u001b[0;34m\u001b[0m\n\u001b[1;32m      2\u001b[0m \u001b[0;34m\u001b[0m\u001b[0m\n\u001b[1;32m      3\u001b[0m \u001b[0;31m# group publications by decade and dataset\u001b[0m\u001b[0;34m\u001b[0m\u001b[0;34m\u001b[0m\u001b[0;34m\u001b[0m\u001b[0m\n\u001b[0;32m----> 4\u001b[0;31m \u001b[0;32mfor\u001b[0m \u001b[0mdataset\u001b[0m \u001b[0;32min\u001b[0m \u001b[0mgrouped_titles\u001b[0m\u001b[0;34m:\u001b[0m\u001b[0;34m\u001b[0m\u001b[0;34m\u001b[0m\u001b[0m\n\u001b[0m\u001b[1;32m      5\u001b[0m     \u001b[0;32mfor\u001b[0m \u001b[0mdecade\u001b[0m \u001b[0;32min\u001b[0m \u001b[0mgrouped_titles\u001b[0m\u001b[0;34m[\u001b[0m\u001b[0mdataset\u001b[0m\u001b[0;34m]\u001b[0m\u001b[0;34m:\u001b[0m\u001b[0;34m\u001b[0m\u001b[0;34m\u001b[0m\u001b[0m\n\u001b[1;32m      6\u001b[0m         \u001b[0;31m# merged the titles of the grouped publication into a single document.\u001b[0m\u001b[0;34m\u001b[0m\u001b[0;34m\u001b[0m\u001b[0;34m\u001b[0m\u001b[0m\n",
      "\u001b[0;31mNameError\u001b[0m: name 'grouped_titles' is not defined"
     ]
    }
   ],
   "source": [
    "merged_titles_docs = []\n",
    "\n",
    "# group publications by decade and dataset\n",
    "for dataset in grouped_titles:\n",
    "    for decade in grouped_titles[dataset]:\n",
    "        # merged the titles of the grouped publication into a single document.\n",
    "        merged_titles_doc = ' '.join(grouped_titles[dataset][decade])\n",
    "        # add the merged title document to a dictionary for later usage\n",
    "        merged_titles_docs.append(merged_titles_doc)"
   ]
  },
  {
   "cell_type": "markdown",
   "metadata": {},
   "source": [
    "Finally, we compute the TF using the merged title documents"
   ]
  },
  {
   "cell_type": "code",
   "execution_count": 8,
   "metadata": {},
   "outputs": [
    {
     "ename": "NameError",
     "evalue": "name 'cv' is not defined",
     "output_type": "error",
     "traceback": [
      "\u001b[0;31m---------------------------------------------------------------------------\u001b[0m",
      "\u001b[0;31mNameError\u001b[0m                                 Traceback (most recent call last)",
      "\u001b[0;32m<ipython-input-8-51e1625c2c92>\u001b[0m in \u001b[0;36m<module>\u001b[0;34m\u001b[0m\n\u001b[1;32m      1\u001b[0m \u001b[0;31m# count matrix\u001b[0m\u001b[0;34m\u001b[0m\u001b[0;34m\u001b[0m\u001b[0;34m\u001b[0m\u001b[0m\n\u001b[0;32m----> 2\u001b[0;31m \u001b[0mcount_vector\u001b[0m\u001b[0;34m=\u001b[0m\u001b[0mcv\u001b[0m\u001b[0;34m.\u001b[0m\u001b[0mtransform\u001b[0m\u001b[0;34m(\u001b[0m\u001b[0mmerged_titles_docs\u001b[0m\u001b[0;34m)\u001b[0m\u001b[0;34m\u001b[0m\u001b[0;34m\u001b[0m\u001b[0m\n\u001b[0m\u001b[1;32m      3\u001b[0m \u001b[0;34m\u001b[0m\u001b[0m\n\u001b[1;32m      4\u001b[0m \u001b[0;31m# tf-idf scores\u001b[0m\u001b[0;34m\u001b[0m\u001b[0;34m\u001b[0m\u001b[0;34m\u001b[0m\u001b[0m\n\u001b[1;32m      5\u001b[0m \u001b[0mtf_idf_vector\u001b[0m\u001b[0;34m=\u001b[0m\u001b[0mtfidf_transformer\u001b[0m\u001b[0;34m.\u001b[0m\u001b[0mtransform\u001b[0m\u001b[0;34m(\u001b[0m\u001b[0mcount_vector\u001b[0m\u001b[0;34m)\u001b[0m\u001b[0;34m\u001b[0m\u001b[0;34m\u001b[0m\u001b[0m\n",
      "\u001b[0;31mNameError\u001b[0m: name 'cv' is not defined"
     ]
    }
   ],
   "source": [
    "# count matrix \n",
    "count_vector=cv.transform(merged_titles_docs) \n",
    " \n",
    "# tf-idf scores \n",
    "tf_idf_vector=tfidf_transformer.transform(count_vector)\n",
    "# the features are the individual terms\n",
    "feature_names = cv.get_feature_names() \n",
    "# add a document title for each merged title document, based on the dataset label and the decade\n",
    "text_titles = [f'{dataset}_{decade}' for dataset in grouped_titles for decade in grouped_titles[dataset]]\n",
    "\n",
    "# finally, make a data frame with one column per decade per dataset and one row for each term in the collection\n",
    "tfidf_df = pd.DataFrame(tf_idf_vector.T.toarray(), columns=text_titles, index=cv.get_feature_names())\n",
    "\n",
    "# TO DO: Pick content terms as examples\n",
    "tfidf_df.head(2)"
   ]
  },
  {
   "cell_type": "markdown",
   "metadata": {},
   "source": [
    "### Title Analysis of REMP and IM Publications\n",
    "\n",
    "Below, we show the top 20 highest TF\\*IDF terms per decade for the REMP and IM publications:"
   ]
  },
  {
   "cell_type": "code",
   "execution_count": 9,
   "metadata": {},
   "outputs": [
    {
     "ename": "NameError",
     "evalue": "name 'defaultdict' is not defined",
     "output_type": "error",
     "traceback": [
      "\u001b[0;31m---------------------------------------------------------------------------\u001b[0m",
      "\u001b[0;31mNameError\u001b[0m                                 Traceback (most recent call last)",
      "\u001b[0;32m<ipython-input-9-8dc9c084146f>\u001b[0m in \u001b[0;36m<module>\u001b[0;34m\u001b[0m\n\u001b[1;32m      1\u001b[0m \u001b[0mtop_n\u001b[0m \u001b[0;34m=\u001b[0m \u001b[0;36m20\u001b[0m\u001b[0;34m\u001b[0m\u001b[0;34m\u001b[0m\u001b[0m\n\u001b[1;32m      2\u001b[0m \u001b[0;34m\u001b[0m\u001b[0m\n\u001b[0;32m----> 3\u001b[0;31m \u001b[0mterms\u001b[0m \u001b[0;34m=\u001b[0m \u001b[0mdefaultdict\u001b[0m\u001b[0;34m(\u001b[0m\u001b[0mlist\u001b[0m\u001b[0;34m)\u001b[0m\u001b[0;34m\u001b[0m\u001b[0;34m\u001b[0m\u001b[0m\n\u001b[0m\u001b[1;32m      4\u001b[0m \u001b[0;32mfor\u001b[0m \u001b[0mdecade\u001b[0m \u001b[0;32min\u001b[0m \u001b[0mrange\u001b[0m\u001b[0;34m(\u001b[0m\u001b[0;36m1950\u001b[0m\u001b[0;34m,\u001b[0m \u001b[0;36m2000\u001b[0m\u001b[0;34m,\u001b[0m \u001b[0;36m10\u001b[0m\u001b[0;34m)\u001b[0m\u001b[0;34m:\u001b[0m\u001b[0;34m\u001b[0m\u001b[0;34m\u001b[0m\u001b[0m\n\u001b[1;32m      5\u001b[0m     \u001b[0mtop_terms\u001b[0m \u001b[0;34m=\u001b[0m \u001b[0mtfidf_df\u001b[0m\u001b[0;34m[\u001b[0m\u001b[0;34mf'REMP_IM_{decade}'\u001b[0m\u001b[0;34m]\u001b[0m\u001b[0;34m.\u001b[0m\u001b[0msort_values\u001b[0m\u001b[0;34m(\u001b[0m\u001b[0mascending\u001b[0m\u001b[0;34m=\u001b[0m\u001b[0;32mFalse\u001b[0m\u001b[0;34m)\u001b[0m\u001b[0;34m.\u001b[0m\u001b[0mhead\u001b[0m\u001b[0;34m(\u001b[0m\u001b[0mtop_n\u001b[0m\u001b[0;34m)\u001b[0m\u001b[0;34m\u001b[0m\u001b[0;34m\u001b[0m\u001b[0m\n",
      "\u001b[0;31mNameError\u001b[0m: name 'defaultdict' is not defined"
     ]
    }
   ],
   "source": [
    "top_n = 20\n",
    "\n",
    "terms = defaultdict(list)\n",
    "for decade in range(1950, 2000, 10):\n",
    "    top_terms = tfidf_df[f'REMP_IM_{decade}'].sort_values(ascending=False).head(top_n)\n",
    "    terms[decade] = list(top_terms[top_terms > 0.0].index)\n",
    "    terms[decade] += ['' for i in range(top_n - len(terms[decade]))]\n",
    "    \n",
    "pd.DataFrame(terms)"
   ]
  },
  {
   "cell_type": "markdown",
   "metadata": {},
   "source": [
    "In terms of shifts over decades we see:\n",
    "\n",
    "- The term 'Netherlands' is prominent in the 1950s, even though we removed the publications in the Dutch REMP series. The term 'Dutch' is still common in the 1960s, but from the 1970s onwards, neither term occurs in the top 20. \n",
    "- Australia is mentioned from the 1960s onwards and remains a common topic.\n",
    "- Emigration is a top term in the 50s and 60s, immigration comes up in the 60s and remains a common topic. \n",
    "- Europe is a common topic in the 50s and 60s."
   ]
  },
  {
   "cell_type": "markdown",
   "metadata": {},
   "source": [
    "### Title Analysis of IMR Research Publications\n",
    "\n",
    "Below, we show the top 20 highest TF\\*IDF terms per decade for the IMR Research publications:"
   ]
  },
  {
   "cell_type": "code",
   "execution_count": 10,
   "metadata": {},
   "outputs": [
    {
     "ename": "NameError",
     "evalue": "name 'defaultdict' is not defined",
     "output_type": "error",
     "traceback": [
      "\u001b[0;31m---------------------------------------------------------------------------\u001b[0m",
      "\u001b[0;31mNameError\u001b[0m                                 Traceback (most recent call last)",
      "\u001b[0;32m<ipython-input-10-04c3794422f9>\u001b[0m in \u001b[0;36m<module>\u001b[0;34m\u001b[0m\n\u001b[0;32m----> 1\u001b[0;31m \u001b[0mterms\u001b[0m \u001b[0;34m=\u001b[0m \u001b[0mdefaultdict\u001b[0m\u001b[0;34m(\u001b[0m\u001b[0mlist\u001b[0m\u001b[0;34m)\u001b[0m\u001b[0;34m\u001b[0m\u001b[0;34m\u001b[0m\u001b[0m\n\u001b[0m\u001b[1;32m      2\u001b[0m \u001b[0;32mfor\u001b[0m \u001b[0mdecade\u001b[0m \u001b[0;32min\u001b[0m \u001b[0mrange\u001b[0m\u001b[0;34m(\u001b[0m\u001b[0;36m1950\u001b[0m\u001b[0;34m,\u001b[0m \u001b[0;36m2000\u001b[0m\u001b[0;34m,\u001b[0m \u001b[0;36m10\u001b[0m\u001b[0;34m)\u001b[0m\u001b[0;34m:\u001b[0m\u001b[0;34m\u001b[0m\u001b[0;34m\u001b[0m\u001b[0m\n\u001b[1;32m      3\u001b[0m     \u001b[0mtop_terms\u001b[0m \u001b[0;34m=\u001b[0m \u001b[0mtfidf_df\u001b[0m\u001b[0;34m[\u001b[0m\u001b[0;34mf'IMR_research_{decade}'\u001b[0m\u001b[0;34m]\u001b[0m\u001b[0;34m.\u001b[0m\u001b[0msort_values\u001b[0m\u001b[0;34m(\u001b[0m\u001b[0mascending\u001b[0m\u001b[0;34m=\u001b[0m\u001b[0;32mFalse\u001b[0m\u001b[0;34m)\u001b[0m\u001b[0;34m.\u001b[0m\u001b[0mhead\u001b[0m\u001b[0;34m(\u001b[0m\u001b[0mtop_n\u001b[0m\u001b[0;34m)\u001b[0m\u001b[0;34m\u001b[0m\u001b[0;34m\u001b[0m\u001b[0m\n\u001b[1;32m      4\u001b[0m     \u001b[0mterms\u001b[0m\u001b[0;34m[\u001b[0m\u001b[0mdecade\u001b[0m\u001b[0;34m]\u001b[0m \u001b[0;34m=\u001b[0m \u001b[0mlist\u001b[0m\u001b[0;34m(\u001b[0m\u001b[0mtop_terms\u001b[0m\u001b[0;34m[\u001b[0m\u001b[0mtop_terms\u001b[0m \u001b[0;34m>\u001b[0m \u001b[0;36m0.0\u001b[0m\u001b[0;34m]\u001b[0m\u001b[0;34m.\u001b[0m\u001b[0mindex\u001b[0m\u001b[0;34m)\u001b[0m\u001b[0;34m\u001b[0m\u001b[0;34m\u001b[0m\u001b[0m\n\u001b[1;32m      5\u001b[0m     \u001b[0mterms\u001b[0m\u001b[0;34m[\u001b[0m\u001b[0mdecade\u001b[0m\u001b[0;34m]\u001b[0m \u001b[0;34m+=\u001b[0m \u001b[0;34m[\u001b[0m\u001b[0;34m''\u001b[0m \u001b[0;32mfor\u001b[0m \u001b[0mi\u001b[0m \u001b[0;32min\u001b[0m \u001b[0mrange\u001b[0m\u001b[0;34m(\u001b[0m\u001b[0mtop_n\u001b[0m \u001b[0;34m-\u001b[0m \u001b[0mlen\u001b[0m\u001b[0;34m(\u001b[0m\u001b[0mterms\u001b[0m\u001b[0;34m[\u001b[0m\u001b[0mdecade\u001b[0m\u001b[0;34m]\u001b[0m\u001b[0;34m)\u001b[0m\u001b[0;34m)\u001b[0m\u001b[0;34m]\u001b[0m\u001b[0;34m\u001b[0m\u001b[0;34m\u001b[0m\u001b[0m\n",
      "\u001b[0;31mNameError\u001b[0m: name 'defaultdict' is not defined"
     ]
    }
   ],
   "source": [
    "terms = defaultdict(list)\n",
    "for decade in range(1950, 2000, 10):\n",
    "    top_terms = tfidf_df[f'IMR_research_{decade}'].sort_values(ascending=False).head(top_n)\n",
    "    terms[decade] = list(top_terms[top_terms > 0.0].index)\n",
    "    terms[decade] += ['' for i in range(top_n - len(terms[decade]))]\n",
    "    \n",
    "pd.DataFrame(terms)"
   ]
  },
  {
   "cell_type": "markdown",
   "metadata": {},
   "source": [
    "\n",
    "- Italy: emigration to US is big policy issue\n",
    "- US\n"
   ]
  },
  {
   "cell_type": "markdown",
   "metadata": {},
   "source": [
    "### Title Analysis of IMR Review Publications\n",
    "\n",
    "Below, we show the top 20 highest TF\\*IDF terms per decade for the IMR Review publications:"
   ]
  },
  {
   "cell_type": "code",
   "execution_count": 11,
   "metadata": {},
   "outputs": [
    {
     "ename": "NameError",
     "evalue": "name 'defaultdict' is not defined",
     "output_type": "error",
     "traceback": [
      "\u001b[0;31m---------------------------------------------------------------------------\u001b[0m",
      "\u001b[0;31mNameError\u001b[0m                                 Traceback (most recent call last)",
      "\u001b[0;32m<ipython-input-11-844a142014bc>\u001b[0m in \u001b[0;36m<module>\u001b[0;34m\u001b[0m\n\u001b[0;32m----> 1\u001b[0;31m \u001b[0mterms\u001b[0m \u001b[0;34m=\u001b[0m \u001b[0mdefaultdict\u001b[0m\u001b[0;34m(\u001b[0m\u001b[0mlist\u001b[0m\u001b[0;34m)\u001b[0m\u001b[0;34m\u001b[0m\u001b[0;34m\u001b[0m\u001b[0m\n\u001b[0m\u001b[1;32m      2\u001b[0m \u001b[0;32mfor\u001b[0m \u001b[0mdecade\u001b[0m \u001b[0;32min\u001b[0m \u001b[0mrange\u001b[0m\u001b[0;34m(\u001b[0m\u001b[0;36m1950\u001b[0m\u001b[0;34m,\u001b[0m \u001b[0;36m2000\u001b[0m\u001b[0;34m,\u001b[0m \u001b[0;36m10\u001b[0m\u001b[0;34m)\u001b[0m\u001b[0;34m:\u001b[0m\u001b[0;34m\u001b[0m\u001b[0;34m\u001b[0m\u001b[0m\n\u001b[1;32m      3\u001b[0m     \u001b[0mtop_terms\u001b[0m \u001b[0;34m=\u001b[0m \u001b[0mtfidf_df\u001b[0m\u001b[0;34m[\u001b[0m\u001b[0;34mf'IMR_review_{decade}'\u001b[0m\u001b[0;34m]\u001b[0m\u001b[0;34m.\u001b[0m\u001b[0msort_values\u001b[0m\u001b[0;34m(\u001b[0m\u001b[0mascending\u001b[0m\u001b[0;34m=\u001b[0m\u001b[0;32mFalse\u001b[0m\u001b[0;34m)\u001b[0m\u001b[0;34m.\u001b[0m\u001b[0mhead\u001b[0m\u001b[0;34m(\u001b[0m\u001b[0mtop_n\u001b[0m\u001b[0;34m)\u001b[0m\u001b[0;34m\u001b[0m\u001b[0;34m\u001b[0m\u001b[0m\n\u001b[1;32m      4\u001b[0m     \u001b[0mterms\u001b[0m\u001b[0;34m[\u001b[0m\u001b[0mdecade\u001b[0m\u001b[0;34m]\u001b[0m \u001b[0;34m=\u001b[0m \u001b[0mlist\u001b[0m\u001b[0;34m(\u001b[0m\u001b[0mtop_terms\u001b[0m\u001b[0;34m[\u001b[0m\u001b[0mtop_terms\u001b[0m \u001b[0;34m>\u001b[0m \u001b[0;36m0.0\u001b[0m\u001b[0;34m]\u001b[0m\u001b[0;34m.\u001b[0m\u001b[0mindex\u001b[0m\u001b[0;34m)\u001b[0m\u001b[0;34m\u001b[0m\u001b[0;34m\u001b[0m\u001b[0m\n\u001b[1;32m      5\u001b[0m     \u001b[0mterms\u001b[0m\u001b[0;34m[\u001b[0m\u001b[0mdecade\u001b[0m\u001b[0;34m]\u001b[0m \u001b[0;34m+=\u001b[0m \u001b[0;34m[\u001b[0m\u001b[0;34m''\u001b[0m \u001b[0;32mfor\u001b[0m \u001b[0mi\u001b[0m \u001b[0;32min\u001b[0m \u001b[0mrange\u001b[0m\u001b[0;34m(\u001b[0m\u001b[0mtop_n\u001b[0m \u001b[0;34m-\u001b[0m \u001b[0mlen\u001b[0m\u001b[0;34m(\u001b[0m\u001b[0mterms\u001b[0m\u001b[0;34m[\u001b[0m\u001b[0mdecade\u001b[0m\u001b[0;34m]\u001b[0m\u001b[0;34m)\u001b[0m\u001b[0;34m)\u001b[0m\u001b[0;34m]\u001b[0m\u001b[0;34m\u001b[0m\u001b[0;34m\u001b[0m\u001b[0m\n",
      "\u001b[0;31mNameError\u001b[0m: name 'defaultdict' is not defined"
     ]
    }
   ],
   "source": [
    "terms = defaultdict(list)\n",
    "for decade in range(1950, 2000, 10):\n",
    "    top_terms = tfidf_df[f'IMR_review_{decade}'].sort_values(ascending=False).head(top_n)\n",
    "    terms[decade] = list(top_terms[top_terms > 0.0].index)\n",
    "    terms[decade] += ['' for i in range(top_n - len(terms[decade]))]\n",
    "    \n",
    "pd.DataFrame(terms)"
   ]
  },
  {
   "cell_type": "markdown",
   "metadata": {},
   "source": [
    "- more focus on ethnicity\n",
    "\n",
    "**TO DO: discuss difference between book reviews and research articles. Are books for a different audience?**"
   ]
  },
  {
   "cell_type": "markdown",
   "metadata": {},
   "source": [
    "### Visualisation Choices\n",
    "\n",
    "We tried visualising the top N terms over time in a dynamic 'bar chart race', where the top N terms are selected for a 10 year period starting in 1950, then updating the top N by sliding the 10 year period forward by 1 year in each step. But this results in a very chaotic visualisation that is alost impossible to interpret. "
   ]
  },
  {
   "cell_type": "code",
   "execution_count": null,
   "metadata": {},
   "outputs": [],
   "source": []
  },
  {
   "cell_type": "code",
   "execution_count": null,
   "metadata": {},
   "outputs": [],
   "source": []
  },
  {
   "cell_type": "code",
   "execution_count": null,
   "metadata": {},
   "outputs": [],
   "source": []
  },
  {
   "cell_type": "markdown",
   "metadata": {},
   "source": [
    "### Analysing Countries Mentioned in Titles\n",
    "\n",
    "We map countries to continents, as larger geographic units.\n",
    "\n",
    "In some titles, the nationality of a migrant group is mentioned, which differs from the country name. We add an analysis in which also nationalities are mapped to their respective country names and continents. E.g. `Polish` is mapped to `Poland` and `Europe`. \n",
    "\n",
    "We started with the countries and continents listed on the [World Atlas](https://www.worldatlas.com/cntycont.htm) website, and extended these several former countries (e.g. Soviet Union) and not formally-recognised countries (e.g. Kosovo, Palestina) as well as some larger regions (Caribbean, Latin America, Middle East). For the UK, we included England, Northern Ireland, Scotland and Wales, as these are also mentioned in some titles. \n",
    "\n",
    "For the nationalities, we used a list provided by Wikipedia ([List of adjectival and demonymic forms for countries and nations](https://en.wikipedia.org/w/index.php?title=List_of_adjectival_and_demonymic_forms_for_countries_and_nations&oldid=1004136953)).\n"
   ]
  },
  {
   "cell_type": "markdown",
   "metadata": {},
   "source": [
    "### Countries and Nationalities in REMP and IM Publications"
   ]
  },
  {
   "cell_type": "code",
<<<<<<< HEAD
   "execution_count": 12,
   "metadata": {},
   "outputs": [
    {
     "ename": "NameError",
     "evalue": "name 'grouped_titles' is not defined",
     "output_type": "error",
     "traceback": [
      "\u001b[0;31m---------------------------------------------------------------------------\u001b[0m",
      "\u001b[0;31mNameError\u001b[0m                                 Traceback (most recent call last)",
      "\u001b[0;32m<ipython-input-12-7074f911cbab>\u001b[0m in \u001b[0;36m<module>\u001b[0;34m\u001b[0m\n\u001b[1;32m      6\u001b[0m \u001b[0mcontintent_count\u001b[0m \u001b[0;34m=\u001b[0m \u001b[0;34m{\u001b[0m\u001b[0;34m}\u001b[0m\u001b[0;34m\u001b[0m\u001b[0;34m\u001b[0m\u001b[0m\n\u001b[1;32m      7\u001b[0m \u001b[0;34m\u001b[0m\u001b[0m\n\u001b[0;32m----> 8\u001b[0;31m \u001b[0;32mfor\u001b[0m \u001b[0mdecade\u001b[0m \u001b[0;32min\u001b[0m \u001b[0mgrouped_titles\u001b[0m\u001b[0;34m[\u001b[0m\u001b[0mdataset\u001b[0m\u001b[0;34m]\u001b[0m\u001b[0;34m:\u001b[0m\u001b[0;34m\u001b[0m\u001b[0;34m\u001b[0m\u001b[0m\n\u001b[0m\u001b[1;32m      9\u001b[0m     \u001b[0mtitles\u001b[0m \u001b[0;34m=\u001b[0m \u001b[0;34m[\u001b[0m\u001b[0mtitle\u001b[0m\u001b[0;34m.\u001b[0m\u001b[0mreplace\u001b[0m\u001b[0;34m(\u001b[0m\u001b[0;34m'_'\u001b[0m\u001b[0;34m,\u001b[0m \u001b[0;34m' '\u001b[0m\u001b[0;34m)\u001b[0m \u001b[0;32mfor\u001b[0m \u001b[0mtitle\u001b[0m \u001b[0;32min\u001b[0m \u001b[0mgrouped_titles\u001b[0m\u001b[0;34m[\u001b[0m\u001b[0mdataset\u001b[0m\u001b[0;34m]\u001b[0m\u001b[0;34m[\u001b[0m\u001b[0mdecade\u001b[0m\u001b[0;34m]\u001b[0m\u001b[0;34m]\u001b[0m\u001b[0;34m\u001b[0m\u001b[0;34m\u001b[0m\u001b[0m\n\u001b[1;32m     10\u001b[0m     \u001b[0;31m# First we count without nationalities\u001b[0m\u001b[0;34m\u001b[0m\u001b[0;34m\u001b[0m\u001b[0;34m\u001b[0m\u001b[0m\n",
      "\u001b[0;31mNameError\u001b[0m: name 'grouped_titles' is not defined"
     ]
=======
   "execution_count": 340,
   "metadata": {},
   "outputs": [
    {
     "data": {
      "text/html": [
       "<div>\n",
       "<style scoped>\n",
       "    .dataframe tbody tr th:only-of-type {\n",
       "        vertical-align: middle;\n",
       "    }\n",
       "\n",
       "    .dataframe tbody tr th {\n",
       "        vertical-align: top;\n",
       "    }\n",
       "\n",
       "    .dataframe thead th {\n",
       "        text-align: right;\n",
       "    }\n",
       "</style>\n",
       "<table border=\"1\" class=\"dataframe\">\n",
       "  <thead>\n",
       "    <tr style=\"text-align: right;\">\n",
       "      <th></th>\n",
       "      <th>1950</th>\n",
       "      <th>1960</th>\n",
       "      <th>1970</th>\n",
       "      <th>1980</th>\n",
       "      <th>1990</th>\n",
       "    </tr>\n",
       "  </thead>\n",
       "  <tbody>\n",
       "    <tr>\n",
       "      <th>0</th>\n",
       "      <td>Netherlands (14)</td>\n",
       "      <td>Australia (23)</td>\n",
       "      <td>United States (10)</td>\n",
       "      <td>Canada (21)</td>\n",
       "      <td>Australia (22)</td>\n",
       "    </tr>\n",
       "    <tr>\n",
       "      <th>1</th>\n",
       "      <td>Germany (9)</td>\n",
       "      <td>Canada (7)</td>\n",
       "      <td>Canada (8)</td>\n",
       "      <td>United States (17)</td>\n",
       "      <td>United States (16)</td>\n",
       "    </tr>\n",
       "    <tr>\n",
       "      <th>2</th>\n",
       "      <td>Australia (7)</td>\n",
       "      <td>Netherlands (6)</td>\n",
       "      <td>Cuba (7)</td>\n",
       "      <td>Australia (10)</td>\n",
       "      <td>Canada (14)</td>\n",
       "    </tr>\n",
       "    <tr>\n",
       "      <th>3</th>\n",
       "      <td>Brazil (4)</td>\n",
       "      <td>Hungary (6)</td>\n",
       "      <td>Australia (7)</td>\n",
       "      <td>Israel (7)</td>\n",
       "      <td>Turkey (12)</td>\n",
       "    </tr>\n",
       "    <tr>\n",
       "      <th>4</th>\n",
       "      <td>France (3)</td>\n",
       "      <td>United States (5)</td>\n",
       "      <td>Germany (6)</td>\n",
       "      <td>Germany (6)</td>\n",
       "      <td>Israel (11)</td>\n",
       "    </tr>\n",
       "    <tr>\n",
       "      <th>5</th>\n",
       "      <td>Austria (2)</td>\n",
       "      <td>United Kingdom (5)</td>\n",
       "      <td>New Zealand (4)</td>\n",
       "      <td>Middle East (5)</td>\n",
       "      <td>Japan (11)</td>\n",
       "    </tr>\n",
       "    <tr>\n",
       "      <th>6</th>\n",
       "      <td>Finland (2)</td>\n",
       "      <td>Latin America (5)</td>\n",
       "      <td>Greece (4)</td>\n",
       "      <td>Greece (5)</td>\n",
       "      <td>Mexico (10)</td>\n",
       "    </tr>\n",
       "    <tr>\n",
       "      <th>7</th>\n",
       "      <td>United States (2)</td>\n",
       "      <td>Brazil (4)</td>\n",
       "      <td>Latvia (3)</td>\n",
       "      <td>Sweden (4)</td>\n",
       "      <td>Greece (9)</td>\n",
       "    </tr>\n",
       "    <tr>\n",
       "      <th>8</th>\n",
       "      <td>Middle East (2)</td>\n",
       "      <td>France (3)</td>\n",
       "      <td>Italy (3)</td>\n",
       "      <td>Spain (4)</td>\n",
       "      <td>United Kingdom (5)</td>\n",
       "    </tr>\n",
       "    <tr>\n",
       "      <th>9</th>\n",
       "      <td>Italy (2)</td>\n",
       "      <td>Italy (3)</td>\n",
       "      <td>Israel (3)</td>\n",
       "      <td>Netherlands (4)</td>\n",
       "      <td>India (5)</td>\n",
       "    </tr>\n",
       "    <tr>\n",
       "      <th>10</th>\n",
       "      <td>New Zealand (2)</td>\n",
       "      <td>Israel (3)</td>\n",
       "      <td>Brazil (3)</td>\n",
       "      <td>Philippines (3)</td>\n",
       "      <td>Egypt (4)</td>\n",
       "    </tr>\n",
       "    <tr>\n",
       "      <th>11</th>\n",
       "      <td>Sweden (1)</td>\n",
       "      <td>Poland (3)</td>\n",
       "      <td>Venezuela (2)</td>\n",
       "      <td>France (3)</td>\n",
       "      <td>Caribbean (4)</td>\n",
       "    </tr>\n",
       "    <tr>\n",
       "      <th>12</th>\n",
       "      <td>United Kingdom (1)</td>\n",
       "      <td>Norway (3)</td>\n",
       "      <td>Uganda (2)</td>\n",
       "      <td>Puerto Rico (3)</td>\n",
       "      <td>Hong Kong (4)</td>\n",
       "    </tr>\n",
       "    <tr>\n",
       "      <th>13</th>\n",
       "      <td>Paraguay (1)</td>\n",
       "      <td>Germany (3)</td>\n",
       "      <td>Turkey (2)</td>\n",
       "      <td>Argentina (3)</td>\n",
       "      <td>Germany (4)</td>\n",
       "    </tr>\n",
       "    <tr>\n",
       "      <th>14</th>\n",
       "      <td>China (1)</td>\n",
       "      <td>Austria (2)</td>\n",
       "      <td>Japan (2)</td>\n",
       "      <td>India (3)</td>\n",
       "      <td>Jordan (3)</td>\n",
       "    </tr>\n",
       "    <tr>\n",
       "      <th>15</th>\n",
       "      <td>Israel (1)</td>\n",
       "      <td>Spain (2)</td>\n",
       "      <td>Taiwan (1)</td>\n",
       "      <td>Venezuela (2)</td>\n",
       "      <td>Sweden (3)</td>\n",
       "    </tr>\n",
       "    <tr>\n",
       "      <th>16</th>\n",
       "      <td>Wales (1)</td>\n",
       "      <td>Greece (2)</td>\n",
       "      <td>Russia (1)</td>\n",
       "      <td>Thailand (2)</td>\n",
       "      <td>Singapore (3)</td>\n",
       "    </tr>\n",
       "    <tr>\n",
       "      <th>17</th>\n",
       "      <td>Poland (1)</td>\n",
       "      <td>Switzerland (1)</td>\n",
       "      <td>Finland (1)</td>\n",
       "      <td>Armenia (2)</td>\n",
       "      <td>China (3)</td>\n",
       "    </tr>\n",
       "    <tr>\n",
       "      <th>18</th>\n",
       "      <td>Indonesia (1)</td>\n",
       "      <td>Malta (1)</td>\n",
       "      <td>Middle East (1)</td>\n",
       "      <td>Caribbean (2)</td>\n",
       "      <td>Vietnam (3)</td>\n",
       "    </tr>\n",
       "    <tr>\n",
       "      <th>19</th>\n",
       "      <td>Hungary (1)</td>\n",
       "      <td>Algeria (1)</td>\n",
       "      <td>Malta (1)</td>\n",
       "      <td>Latin America (2)</td>\n",
       "      <td>South Africa (3)</td>\n",
       "    </tr>\n",
       "  </tbody>\n",
       "</table>\n",
       "</div>"
      ],
      "text/plain": [
       "                  1950                1960                1970  \\\n",
       "0     Netherlands (14)      Australia (23)  United States (10)   \n",
       "1          Germany (9)          Canada (7)          Canada (8)   \n",
       "2        Australia (7)     Netherlands (6)            Cuba (7)   \n",
       "3           Brazil (4)         Hungary (6)       Australia (7)   \n",
       "4           France (3)   United States (5)         Germany (6)   \n",
       "5          Austria (2)  United Kingdom (5)     New Zealand (4)   \n",
       "6          Finland (2)   Latin America (5)          Greece (4)   \n",
       "7    United States (2)          Brazil (4)          Latvia (3)   \n",
       "8      Middle East (2)          France (3)           Italy (3)   \n",
       "9            Italy (2)           Italy (3)          Israel (3)   \n",
       "10     New Zealand (2)          Israel (3)          Brazil (3)   \n",
       "11          Sweden (1)          Poland (3)       Venezuela (2)   \n",
       "12  United Kingdom (1)          Norway (3)          Uganda (2)   \n",
       "13        Paraguay (1)         Germany (3)          Turkey (2)   \n",
       "14           China (1)         Austria (2)           Japan (2)   \n",
       "15          Israel (1)           Spain (2)          Taiwan (1)   \n",
       "16           Wales (1)          Greece (2)          Russia (1)   \n",
       "17          Poland (1)     Switzerland (1)         Finland (1)   \n",
       "18       Indonesia (1)           Malta (1)     Middle East (1)   \n",
       "19         Hungary (1)         Algeria (1)           Malta (1)   \n",
       "\n",
       "                  1980                1990  \n",
       "0          Canada (21)      Australia (22)  \n",
       "1   United States (17)  United States (16)  \n",
       "2       Australia (10)         Canada (14)  \n",
       "3           Israel (7)         Turkey (12)  \n",
       "4          Germany (6)         Israel (11)  \n",
       "5      Middle East (5)          Japan (11)  \n",
       "6           Greece (5)         Mexico (10)  \n",
       "7           Sweden (4)          Greece (9)  \n",
       "8            Spain (4)  United Kingdom (5)  \n",
       "9      Netherlands (4)           India (5)  \n",
       "10     Philippines (3)           Egypt (4)  \n",
       "11          France (3)       Caribbean (4)  \n",
       "12     Puerto Rico (3)       Hong Kong (4)  \n",
       "13       Argentina (3)         Germany (4)  \n",
       "14           India (3)          Jordan (3)  \n",
       "15       Venezuela (2)          Sweden (3)  \n",
       "16        Thailand (2)       Singapore (3)  \n",
       "17         Armenia (2)           China (3)  \n",
       "18       Caribbean (2)         Vietnam (3)  \n",
       "19   Latin America (2)    South Africa (3)  "
      ]
     },
     "execution_count": 340,
     "metadata": {},
     "output_type": "execute_result"
>>>>>>> 04a3bad01127ae24006d8ba8412b180d20298cdb
    }
   ],
   "source": [
    "from scripts.countries import CountryLookup, show_counts\n",
    "\n",
    "lookup = CountryLookup()\n",
    "dataset = 'REMP_IM'\n",
    "country_count = {}\n",
    "continent_count = {}\n",
    "\n",
    "for decade in grouped_titles[dataset]:\n",
    "    titles = [title.replace('_', ' ') for title in grouped_titles[dataset][decade]]\n",
    "    # First we count without nationalities\n",
    "    country_counts, continent_counts = lookup.count_countries_continents(titles, include_nationalities=True)\n",
    "    country_count[decade] = [f'{country} ({count})' if count > 0 else '' for country, count in country_counts.most_common(20)]\n",
    "    continent_count[decade] = [f'{continent} ({count})' if count > 0 else '' for continent, count in continent_counts.most_common(20)]\n",
    "    \n",
    "country_df = pd.DataFrame(country_count)\n",
    "country_df\n"
   ]
  },
  {
   "cell_type": "code",
   "execution_count": 339,
   "metadata": {},
   "outputs": [
    {
     "data": {
      "text/html": [
       "<div>\n",
       "<style scoped>\n",
       "    .dataframe tbody tr th:only-of-type {\n",
       "        vertical-align: middle;\n",
       "    }\n",
       "\n",
       "    .dataframe tbody tr th {\n",
       "        vertical-align: top;\n",
       "    }\n",
       "\n",
       "    .dataframe thead th {\n",
       "        text-align: right;\n",
       "    }\n",
       "</style>\n",
       "<table border=\"1\" class=\"dataframe\">\n",
       "  <thead>\n",
       "    <tr style=\"text-align: right;\">\n",
       "      <th></th>\n",
       "      <th>1950</th>\n",
       "      <th>1960</th>\n",
       "      <th>1970</th>\n",
       "      <th>1980</th>\n",
       "      <th>1990</th>\n",
       "    </tr>\n",
       "  </thead>\n",
       "  <tbody>\n",
       "    <tr>\n",
       "      <th>0</th>\n",
       "      <td>Europe (45)</td>\n",
       "      <td>Europe (48)</td>\n",
       "      <td>Europe (30)</td>\n",
       "      <td>Europe (45)</td>\n",
       "      <td>Asia (77)</td>\n",
       "    </tr>\n",
       "    <tr>\n",
       "      <th>1</th>\n",
       "      <td>Oceania (9)</td>\n",
       "      <td>Oceania (24)</td>\n",
       "      <td>North America (21)</td>\n",
       "      <td>North America (42)</td>\n",
       "      <td>Europe (41)</td>\n",
       "    </tr>\n",
       "    <tr>\n",
       "      <th>2</th>\n",
       "      <td>South America (5)</td>\n",
       "      <td>North America (12)</td>\n",
       "      <td>Asia (12)</td>\n",
       "      <td>Asia (29)</td>\n",
       "      <td>North America (40)</td>\n",
       "    </tr>\n",
       "    <tr>\n",
       "      <th>3</th>\n",
       "      <td>Asia (5)</td>\n",
       "      <td>South America (10)</td>\n",
       "      <td>Oceania (11)</td>\n",
       "      <td>Oceania (11)</td>\n",
       "      <td>Africa (27)</td>\n",
       "    </tr>\n",
       "    <tr>\n",
       "      <th>4</th>\n",
       "      <td>North America (2)</td>\n",
       "      <td>Africa (5)</td>\n",
       "      <td>South America (6)</td>\n",
       "      <td>South America (10)</td>\n",
       "      <td>Oceania (23)</td>\n",
       "    </tr>\n",
       "    <tr>\n",
       "      <th>5</th>\n",
       "      <td></td>\n",
       "      <td>Asia (5)</td>\n",
       "      <td>Africa (3)</td>\n",
       "      <td>Africa (4)</td>\n",
       "      <td>South America (8)</td>\n",
       "    </tr>\n",
       "  </tbody>\n",
       "</table>\n",
       "</div>"
      ],
      "text/plain": [
       "                1950                1960                1970  \\\n",
       "0        Europe (45)         Europe (48)         Europe (30)   \n",
       "1        Oceania (9)        Oceania (24)  North America (21)   \n",
       "2  South America (5)  North America (12)           Asia (12)   \n",
       "3           Asia (5)  South America (10)        Oceania (11)   \n",
       "4  North America (2)          Africa (5)   South America (6)   \n",
       "5                               Asia (5)          Africa (3)   \n",
       "\n",
       "                 1980                1990  \n",
       "0         Europe (45)           Asia (77)  \n",
       "1  North America (42)         Europe (41)  \n",
       "2           Asia (29)  North America (40)  \n",
       "3        Oceania (11)         Africa (27)  \n",
       "4  South America (10)        Oceania (23)  \n",
       "5          Africa (4)   South America (8)  "
      ]
     },
     "execution_count": 339,
     "metadata": {},
     "output_type": "execute_result"
    }
   ],
   "source": [
    "continent_df = pd.DataFrame(continent_count)\n",
    "continent_df\n"
   ]
  },
  {
   "cell_type": "markdown",
   "metadata": {},
   "source": [
    "### Countries and Nationalities in IMR Research Publications"
   ]
  },
  {
   "cell_type": "code",
   "execution_count": 13,
   "metadata": {},
   "outputs": [
    {
     "ename": "NameError",
     "evalue": "name 'grouped_titles' is not defined",
     "output_type": "error",
     "traceback": [
      "\u001b[0;31m---------------------------------------------------------------------------\u001b[0m",
      "\u001b[0;31mNameError\u001b[0m                                 Traceback (most recent call last)",
      "\u001b[0;32m<ipython-input-13-65b55f490a52>\u001b[0m in \u001b[0;36m<module>\u001b[0;34m\u001b[0m\n\u001b[1;32m      6\u001b[0m \u001b[0mcontintent_count\u001b[0m \u001b[0;34m=\u001b[0m \u001b[0;34m{\u001b[0m\u001b[0;34m}\u001b[0m\u001b[0;34m\u001b[0m\u001b[0;34m\u001b[0m\u001b[0m\n\u001b[1;32m      7\u001b[0m \u001b[0;34m\u001b[0m\u001b[0m\n\u001b[0;32m----> 8\u001b[0;31m \u001b[0;32mfor\u001b[0m \u001b[0mdecade\u001b[0m \u001b[0;32min\u001b[0m \u001b[0mgrouped_titles\u001b[0m\u001b[0;34m[\u001b[0m\u001b[0mdataset\u001b[0m\u001b[0;34m]\u001b[0m\u001b[0;34m:\u001b[0m\u001b[0;34m\u001b[0m\u001b[0;34m\u001b[0m\u001b[0m\n\u001b[0m\u001b[1;32m      9\u001b[0m     \u001b[0mtitles\u001b[0m \u001b[0;34m=\u001b[0m \u001b[0;34m[\u001b[0m\u001b[0mtitle\u001b[0m\u001b[0;34m.\u001b[0m\u001b[0mreplace\u001b[0m\u001b[0;34m(\u001b[0m\u001b[0;34m'_'\u001b[0m\u001b[0;34m,\u001b[0m \u001b[0;34m' '\u001b[0m\u001b[0;34m)\u001b[0m \u001b[0;32mfor\u001b[0m \u001b[0mtitle\u001b[0m \u001b[0;32min\u001b[0m \u001b[0mgrouped_titles\u001b[0m\u001b[0;34m[\u001b[0m\u001b[0mdataset\u001b[0m\u001b[0;34m]\u001b[0m\u001b[0;34m[\u001b[0m\u001b[0mdecade\u001b[0m\u001b[0;34m]\u001b[0m\u001b[0;34m]\u001b[0m\u001b[0;34m\u001b[0m\u001b[0;34m\u001b[0m\u001b[0m\n\u001b[1;32m     10\u001b[0m     \u001b[0;31m# First we count without nationalities\u001b[0m\u001b[0;34m\u001b[0m\u001b[0;34m\u001b[0m\u001b[0;34m\u001b[0m\u001b[0m\n",
      "\u001b[0;31mNameError\u001b[0m: name 'grouped_titles' is not defined"
     ]
    }
   ],
   "source": [
    "from scripts.countries import CountryLookup, show_counts\n",
    "\n",
    "lookup = CountryLookup()\n",
    "dataset = 'IMR_research'\n",
    "country_count = {}\n",
    "contintent_count = {}\n",
    "\n",
    "for decade in grouped_titles[dataset]:\n",
    "    titles = [title.replace('_', ' ') for title in grouped_titles[dataset][decade]]\n",
    "    # First we count without nationalities\n",
    "    country_counts, continent_counts = lookup.count_countries_continents(titles, include_nationalities=True)\n",
    "    country_count[decade] = [f'{country} ({count})' if count > 0 else '' for country, count in country_counts.most_common(20)]\n",
    "    continent_count[decade] = continent_counts\n",
    "    \n",
    "country_df = pd.DataFrame(country_count)\n",
    "country_df"
   ]
  },
  {
   "cell_type": "markdown",
   "metadata": {},
   "source": [
    "### Countries and Nationalities in IMR Review Publications"
   ]
  },
  {
   "cell_type": "code",
   "execution_count": 14,
   "metadata": {},
   "outputs": [
    {
     "ename": "NameError",
     "evalue": "name 'grouped_titles' is not defined",
     "output_type": "error",
     "traceback": [
      "\u001b[0;31m---------------------------------------------------------------------------\u001b[0m",
      "\u001b[0;31mNameError\u001b[0m                                 Traceback (most recent call last)",
      "\u001b[0;32m<ipython-input-14-452991313810>\u001b[0m in \u001b[0;36m<module>\u001b[0;34m\u001b[0m\n\u001b[1;32m      6\u001b[0m \u001b[0mcontintent_count\u001b[0m \u001b[0;34m=\u001b[0m \u001b[0;34m{\u001b[0m\u001b[0;34m}\u001b[0m\u001b[0;34m\u001b[0m\u001b[0;34m\u001b[0m\u001b[0m\n\u001b[1;32m      7\u001b[0m \u001b[0;34m\u001b[0m\u001b[0m\n\u001b[0;32m----> 8\u001b[0;31m \u001b[0;32mfor\u001b[0m \u001b[0mdecade\u001b[0m \u001b[0;32min\u001b[0m \u001b[0mgrouped_titles\u001b[0m\u001b[0;34m[\u001b[0m\u001b[0mdataset\u001b[0m\u001b[0;34m]\u001b[0m\u001b[0;34m:\u001b[0m\u001b[0;34m\u001b[0m\u001b[0;34m\u001b[0m\u001b[0m\n\u001b[0m\u001b[1;32m      9\u001b[0m     \u001b[0mtitles\u001b[0m \u001b[0;34m=\u001b[0m \u001b[0;34m[\u001b[0m\u001b[0mtitle\u001b[0m\u001b[0;34m.\u001b[0m\u001b[0mreplace\u001b[0m\u001b[0;34m(\u001b[0m\u001b[0;34m'_'\u001b[0m\u001b[0;34m,\u001b[0m \u001b[0;34m' '\u001b[0m\u001b[0;34m)\u001b[0m \u001b[0;32mfor\u001b[0m \u001b[0mtitle\u001b[0m \u001b[0;32min\u001b[0m \u001b[0mgrouped_titles\u001b[0m\u001b[0;34m[\u001b[0m\u001b[0mdataset\u001b[0m\u001b[0;34m]\u001b[0m\u001b[0;34m[\u001b[0m\u001b[0mdecade\u001b[0m\u001b[0;34m]\u001b[0m\u001b[0;34m]\u001b[0m\u001b[0;34m\u001b[0m\u001b[0;34m\u001b[0m\u001b[0m\n\u001b[1;32m     10\u001b[0m     \u001b[0;31m# First we count without nationalities\u001b[0m\u001b[0;34m\u001b[0m\u001b[0;34m\u001b[0m\u001b[0;34m\u001b[0m\u001b[0m\n",
      "\u001b[0;31mNameError\u001b[0m: name 'grouped_titles' is not defined"
     ]
    }
   ],
   "source": [
    "from scripts.countries import CountryLookup, show_counts\n",
    "\n",
    "lookup = CountryLookup()\n",
    "dataset = 'IMR_review'\n",
    "country_count = {}\n",
    "contintent_count = {}\n",
    "\n",
    "for decade in grouped_titles[dataset]:\n",
    "    titles = [title.replace('_', ' ') for title in grouped_titles[dataset][decade]]\n",
    "    # First we count without nationalities\n",
    "    country_counts, continent_counts = lookup.count_countries_continents(titles, include_nationalities=True)\n",
    "    country_count[decade] = [f'{country} ({count})' if count > 0 else '' for country, count in country_counts.most_common(20)]\n",
    "    continent_count[decade] = continent_counts\n",
    "    \n",
    "country_df = pd.DataFrame(country_count)\n",
    "country_df"
   ]
  },
  {
   "cell_type": "code",
   "execution_count": null,
   "metadata": {},
   "outputs": [],
   "source": []
  },
  {
   "cell_type": "code",
   "execution_count": null,
   "metadata": {},
   "outputs": [],
   "source": []
  },
  {
   "cell_type": "code",
   "execution_count": null,
   "metadata": {},
   "outputs": [],
   "source": []
  },
  {
   "cell_type": "code",
   "execution_count": null,
   "metadata": {},
   "outputs": [],
   "source": []
  }
 ],
 "metadata": {
  "kernelspec": {
   "display_name": "Python 3",
   "language": "python",
   "name": "python3"
  },
  "language_info": {
   "codemirror_mode": {
    "name": "ipython",
    "version": 3
   },
   "file_extension": ".py",
   "mimetype": "text/x-python",
   "name": "python",
   "nbconvert_exporter": "python",
   "pygments_lexer": "ipython3",
   "version": "3.7.2"
  },
  "toc": {
   "base_numbering": 1,
   "nav_menu": {},
   "number_sections": true,
   "sideBar": true,
   "skip_h1_title": false,
   "title_cell": "Table of Contents",
   "title_sidebar": "Contents",
   "toc_cell": false,
   "toc_position": {},
   "toc_section_display": true,
   "toc_window_display": false
  }
 },
 "nbformat": 4,
 "nbformat_minor": 4
}
