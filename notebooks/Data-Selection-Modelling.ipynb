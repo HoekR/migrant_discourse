{
 "cells": [
  {
   "cell_type": "markdown",
   "metadata": {},
   "source": [
    "# Data Selection and Modelling\n",
    "\n",
    "To study the interplay between the science and politics of migration management, we study publications on this topic between 1951 and 2000 in terms of the actors involved in this discourse and the main themes that were discussed.\n",
    "\n",
    "This notebook describes and explains our data selection and modelling choices. We transform all article metadata into a standard format, which requires several modelling and classification decisions. We describe these steps using the Data Scopes model (Hoekstra and Koolen 2019).\n",
    "\n",
    "## Publications included in the study\n",
    "\n",
    "1. REMP Publications\n",
    "2. International Migration journal\n",
    "3. International Migration Review journal\n",
    "\n",
    "## Period of Study\n",
    "\n",
    "Our analysis covers the period 1951-2000. The reason for 1951 is based on both the start of the Intergovernmental Committee on European Migration (ICEM in 1952) and the start of the Research group on European Migration Problems (REMP in 1951). \n",
    "\n",
    "The choice for 2000 as the end of this period is that it covers the periods of transitions, first from the ICEM first into the Intergovernmental Committee on Migration (ICM, in 1980) and then into the current International Organization on Migration (IOM, since 1989). By including 11 years after the transition to IOM, we can see what, if anything, changes after each transition."
   ]
  },
  {
   "cell_type": "markdown",
   "metadata": {},
   "source": [
    "## Extracting Articles Records From Crawled Table of Contents\n",
    "\n",
    "We crawled all the Table of Content pages of the issues of *International Migration* (IM) journal published by Wiley and *International Migration Review* (IMR) published by Sage. The HTML files are stored in separate directories per journal. From these HTML files we extract information about:\n",
    "\n",
    "- the issues (number, volume, publication date, section titles, publisher, journal title)\n",
    "- the articles (title, author, doi, publication date, page numbers)\n",
    "\n",
    "For the Publications and Bulletin of Research on European Migration Problems (REMP), we manually collected bibliographic information in a spreadsheet, as this information is not available online. \n",
    "\n"
   ]
  },
  {
   "cell_type": "markdown",
   "metadata": {},
   "source": [
    "### Extracting Bibliographic Records for International Migration\n",
    "\n",
    "We start with the International Migration records. Below is a screenshot from the Table of Contents for Volume 2 of the journal of International Migration in 1962 (then called Migration).\n",
    "\n",
    "![Migration-1962-Table-of-Contents](../images/ToC-Wiley-Migration-1962.png)\n",
    "\n",
    "From this table of content we extract the following information per article, using the first article, i.e. the Foreword, as an example:\n",
    "\n",
    "- `article_title`: \"Foreword\",\n",
    "- `article_doi`: \"https://onlinelibrary.wiley.com/doi/10.1111/j.1468-2435.1962.tb00852.x\"\n",
    "- `article_author`: \"B. W. HAVEMAN && Intergovernmental Committee for European Migration\"\n",
    "- `article_author_index_name`: \"HAVEMAN, B W && Migration, Intergovernmental Committee For European\"\n",
    "- `article_author_affiliation`: \"\"\n",
    "- `article_page_range`: \"5\"\n",
    "- `article_pub_date`: \"12 July 1962\"\n",
    "- `article_pub_year`: 1962\n",
    "- `issue_section`: \"Foreword\"\n",
    "- `issue_number`: \"3-4\"\n",
    "- `issue_title`: \" Migration: Vol 2, No 3–4\"\n",
    "- `issue_page_range`: \"5-83\"\n",
    "- `issue_pub_date`: \"July–December 1962\"\n",
    "- `issue_pub_year`: 1962\n",
    "- `volume`: \"2\"\n",
    "- `journal`: \"Migration\"\n",
    "- `publisher`: \"Wiley\"\n",
    "\n",
    "The following modelling decisions have been made:\n",
    "\n",
    "- The `article_doi` information is embedded in the HTML hyperlink around the title Foreword, which will take you to the article landing page. \n",
    "- For the `article_author_name`, the values `B. W. HAVEMAN` and `Intergovernmental Committee for European Migration` are in separate HTML elements in the author block, so we treat them as separate authors, even though the latter name is probably intended as the affiliation of the former. This is because, by default, no affiliation is given, and for articles where there are multiple authors, the multiple elements are used to separate the authors. We separate multiple names using a double ampersand (&&) for easy splitting of names, as a single ampersand could be part of organisation name.\n",
    "- The `article_author_affiliation` field is empty by default for the IM records, because, as stated above, IM does not provide affiliation information for its authors. We include this field for consistency, because the IMR journal does provide affiliation information.\n",
    "- The `article_pub_date` is taken from the string after `First published:` and the `article_pub_year` is derived from this date. We note that these first publication dates for the individual articles do not always correspond to the publication date of the issue, but strangely, when they are not the same they are often several years into the future. \n",
    "- The `issue_section` information refers to the section in the issue that an article is published in. For the Foreword, this section is called `Foreword`, the Introduction is in the `Introduction` section, followed by a number of articles in the section `Summary Records of the Debate`. These section titles are used to easily distinguish between main articles from front and back matter articles (preamble, introduction, index, ...).\n",
    "- The `issue_title` is taken from the HTML metadata elements and is not displayed on the page. \n",
    "- The `issue_pub_date` and `issue_pub_year` are taken from the issue metadata that is shown in the top. We assume that the date of publication of the issue is the actual publication date of the individual articles. \n",
    "- The `journal` is taken from the HTML metadata elements and is not displayed on the page. We note that the journal was called *Migracion* in 1961 (Volume 1), *Migration* in 1962 (Volume 2) and *International Migration* from 1963 onwards.\n"
   ]
  },
  {
   "cell_type": "code",
   "execution_count": 1,
   "metadata": {},
   "outputs": [],
   "source": [
    "import glob\n",
    "import json\n"
   ]
  },
  {
   "cell_type": "code",
   "execution_count": 36,
   "metadata": {},
   "outputs": [
    {
     "name": "stdout",
     "output_type": "stream",
     "text": [
      "Publication Series: International Migration (Wiley)\n",
      "Number of records: 1174\n",
      "\n",
      "Record headers: dict_keys(['article_title', 'article_doi', 'article_author', 'article_author_index_name', 'article_author_affiliation', 'article_page_range', 'article_pub_date', 'article_pub_year', 'issue_section', 'issue_number', 'issue_title', 'issue_page_range', 'issue_pub_date', 'issue_pub_year', 'volume', 'journal', 'publisher'])\n",
      "\n",
      "Example record:\n"
     ]
    },
    {
     "data": {
      "text/plain": [
       "{'article_title': 'The New U.S.A. Immigration Law',\n",
       " 'article_doi': 'https://onlinelibrary.wiley.com/doi/10.1111/j.1468-2435.1965.tb00872.x',\n",
       " 'article_author': 'D.G. BENN',\n",
       " 'article_author_index_name': 'BENN, DG',\n",
       " 'article_author_affiliation': '',\n",
       " 'article_page_range': '99',\n",
       " 'article_pub_date': '01 July 1965',\n",
       " 'article_pub_year': 1965,\n",
       " 'issue_section': 'Original Article',\n",
       " 'issue_number': '3',\n",
       " 'issue_title': ' International Migration: Vol 3, No 3',\n",
       " 'issue_page_range': '99-180',\n",
       " 'issue_pub_date': 'July 1965',\n",
       " 'issue_pub_year': 1965,\n",
       " 'volume': '3',\n",
       " 'journal': 'International Migration',\n",
       " 'publisher': 'Wiley'}"
      ]
     },
     "execution_count": 36,
     "metadata": {},
     "output_type": "execute_result"
    }
   ],
   "source": [
    "from scripts.journal_crawl import read_file_soup, extract_wiley_issue_records\n",
    "\n",
    "# The directory with the crawled HTML files\n",
    "wiley_dir = '../data/wiley-IM-crawl/'\n",
    "# Get a list of all the filenames\n",
    "wiley_issue_files = glob.glob(wiley_dir + '*.html')\n",
    "\n",
    "wiley_records = []\n",
    "# iterate over the files with ToC of individual issues\n",
    "for wiley_issue_file in wiley_issue_files:\n",
    "    # read the content of the HTML file with the Beautifulsoup library\n",
    "    issue_soup = read_file_soup(wiley_issue_file)\n",
    "    # extract bibliographic records of all articles from the issue ToC.\n",
    "    wiley_records.extend(extract_wiley_issue_records(issue_soup))\n",
    "\n",
    "selected_records = [record for record in wiley_records if record['issue_pub_year'] < 2000]\n",
    "\n",
    "print('Publication Series: International Migration (Wiley)')\n",
    "print('Number of records:', len(selected_records))\n",
    "print('\\nRecord headers:', selected_records[0].keys())\n",
    "print('\\nExample record:')\n",
    "selected_records[0]"
   ]
  },
  {
   "cell_type": "code",
   "execution_count": 37,
   "metadata": {},
   "outputs": [],
   "source": [
    "# Write the records to file in JSON format\n",
    "wiley_records_file = '../data/wiley-IM-records.json'\n",
    "with open(wiley_records_file, 'wt') as fh:\n",
    "    json.dump(selected_records, fh)"
   ]
  },
  {
   "cell_type": "code",
   "execution_count": null,
   "metadata": {},
   "outputs": [],
   "source": []
  },
  {
   "cell_type": "markdown",
   "metadata": {},
   "source": [
    "### Extracting Bibliographic Records for International Migration Review\n",
    "\n",
    "Next, we describe the extraction of records for the *International Migration Review* journal. Below is a screenshot from the Table of Contents for Volume 2 of the journal of International Migration in 1962 (then called Migration).\n",
    "\n",
    "![International-Migration-Review-1975-Table-of-Contents](../images/ToC-Sage-International-Migration-Review-1975.png)\n",
    "\n",
    "From this table of content we extract the following information per article, using the first article, i.e. the Foreword, as an example:\n",
    "\n",
    "- `article_title`: \"Introduction\"\n",
    "- `article_doi`: \"https://journals.sagepub.com/doi/pdf/10.1177/019791837500900201\"\n",
    "- `article_author`: \"John J. Macisco, Jr. && George C. Myers\"\n",
    "- `article_author_index_name`: \"Macisco, John J Jr && Myers, George C\"\n",
    "- `article_author_affiliation`: \"Fordham University Bronx, New York && Fordham University Bronx, New York\"\n",
    "- `article_page_range`: \"111-114\"\n",
    "- `article_pub_date`: \"Jun 1, 1975\"\n",
    "- `article_pub_year`: 1975\n",
    "- `issue_section`: \"Article\"\n",
    "- `issue_number`: \"2\"\n",
    "- `issue_title`: \"International Migration Review - Volume 9, Number 2, Jun 01, 1975\"\n",
    "- `issue_page_range`: null\n",
    "- `issue_pub_date`: \"Jun 01, 1975\"\n",
    "- `issue_pub_year`: 1975\n",
    "- `volume`: \"9\"\n",
    "- `journal`: \"International Migration Review\"\n",
    "- `publisher`: \"Sage Publishing\"\n",
    "\n",
    "The following modelling decision has been made (we only discuss the differences with the IM records above):\n",
    "\n",
    "- The `article_author_affiliation` values are embedded in the HTML field for individual author names. The affiliation is displayed to the user when they hover the mouse tooltip on an author name, as shown in the middle of the image with the author `George C. Myers`, where the affiliation is `Fordham University Bronx, New York`. We note that the affiliation field does not always contain affiliation information. For some authors, it is empty, and for a small number of authors, it contains their job title and location, as for the name `Alicia Unger De Zárate` in the bottom of the image, where the affiliation field contains `Social Demographer, Mount Vernon, New York`.\n"
   ]
  },
  {
   "cell_type": "code",
   "execution_count": 38,
   "metadata": {},
   "outputs": [
    {
     "name": "stdout",
     "output_type": "stream",
     "text": [
      "Publication Series: International Migration Review (Sage Publishing)\n",
      "Number of records: 3913\n",
      "\n",
      "Record headers: dict_keys(['article_title', 'article_doi', 'article_author', 'article_author_index_name', 'article_author_affiliation', 'article_page_range', 'article_pub_date', 'article_pub_year', 'issue_section', 'issue_number', 'issue_title', 'issue_page_range', 'issue_pub_date', 'issue_pub_year', 'volume', 'journal', 'publisher'])\n",
      "\n",
      "Example record:\n"
     ]
    },
    {
     "data": {
      "text/plain": [
       "{'article_title': \"Immigrants’ Attitudes toward their Children's Inter-Ethnic Marriages in a Canadian Community\",\n",
       " 'article_doi': 'https://journals.sagepub.com/doi/pdf/10.1177/019791837100500101',\n",
       " 'article_author': 'Peter D. Chimbos',\n",
       " 'article_author_index_name': 'Chimbos, Peter D',\n",
       " 'article_author_affiliation': 'Department of Sociology, Lakehead University, Ontario, Canada.',\n",
       " 'article_page_range': '5-17',\n",
       " 'article_pub_date': 'Mar 1, 1971',\n",
       " 'article_pub_year': 1971,\n",
       " 'issue_section': 'Article',\n",
       " 'issue_number': '1',\n",
       " 'issue_title': 'International Migration Review - Volume 5, Number 1, Mar 01, 1971',\n",
       " 'issue_page_range': None,\n",
       " 'issue_pub_date': 'Mar 01, 1971',\n",
       " 'issue_pub_year': 1971,\n",
       " 'volume': '5',\n",
       " 'journal': 'International Migration Review',\n",
       " 'publisher': 'Sage Publishing'}"
      ]
     },
     "execution_count": 38,
     "metadata": {},
     "output_type": "execute_result"
    }
   ],
   "source": [
    "from scripts.journal_crawl import read_file_soup, extract_sage_article_records\n",
    "\n",
    "\n",
    "journal_dir = '../data/sage-IMR-crawl/'\n",
    "\n",
    "sage_issue_files = glob.glob(journal_dir + 'International_Migration_Review-*.html')\n",
    "\n",
    "sage_records = []\n",
    "for sage_issue_file in sage_issue_files:\n",
    "    sage_issue_soup = read_file_soup(sage_issue_file)\n",
    "    sage_records.extend(extract_sage_article_records(sage_issue_soup))\n",
    "\n",
    "selected_records = [record for record in sage_records if record['issue_pub_year'] < 2000]\n",
    "\n",
    "print('Publication Series: International Migration Review (Sage Publishing)')\n",
    "print('Number of records:', len(selected_records))\n",
    "print('\\nRecord headers:', selected_records[0].keys())\n",
    "print('\\nExample record:')\n",
    "selected_records[0]"
   ]
  },
  {
   "cell_type": "code",
   "execution_count": 39,
   "metadata": {},
   "outputs": [],
   "source": [
    "# Write the records to file in JSON format\n",
    "sage_records_file = '../data/sage-IMR-records.json'\n",
    "with open(sage_records_file, 'wt') as fh:\n",
    "    json.dump(selected_records, fh)\n"
   ]
  },
  {
   "cell_type": "code",
   "execution_count": null,
   "metadata": {
    "scrolled": true
   },
   "outputs": [],
   "source": []
  },
  {
   "cell_type": "markdown",
   "metadata": {},
   "source": [
    "### Extracting Bibliographic Records for the Publications and Bulletin of REMP \n",
    "\n",
    "The REMP publications and bulletins are not available online, so we have no screenshots. Instead, we manually gather information on all the publications. For several of the fields in our article record model, no information is provided, but for the fields we use in this study, we recorded the required information in a spreadsheet. \n",
    "\n",
    "- `article_title`: \"De gaande man : gronden van de emigratiebeslissing : rapport naar aanleiding van een onderzoek / verricht in opdracht van de Regeringscommissaris voor de Emigratie \"\n",
    "- `article_doi`: null\n",
    "- `article_author`: \"Hofstede, B.P.\"\n",
    "- `article_author_index_name`: \"Hofstede, B.P.\"\n",
    "- `article_author_affiliation`: \"\"\n",
    "- `article_page_range`: null\n",
    "- `article_pub_date`: \"1958\"\n",
    "- `article_pub_year`: 1958\n",
    "- `issue_section`: \"article\"\n",
    "- `issue_number`: null\n",
    "- `issue_title`: null\n",
    "- `issue_page_range`: null\n",
    "- `issue_pub_date`: \"1958\"\n",
    "- `issue_pub_year`: 1958\n",
    "- `volume`: \"1\"\n",
    "- `journal`: \"Studies over Nederlandse emigratie\"\n",
    "- `publisher`: \"REMP\"\n",
    "\n",
    "Again, we here elaborate only the fields for which the modelling decisions are different from the IM and IMR journals:\n",
    "\n",
    "- The `article_title` in the example is in Dutch. A handful of studies conducted and published by REMP are in Dutch. This affects our quantitative title analysis, as they have little overlap with the English language titles, therefore overlap in theme is not captured by this language difference. However, since this only concerns nine out of 169 of the REMP records, this impact is negligible. \n",
    "\n",
    "- The REMP publications have no `article_doi`, nor an `issue_section`, `issue_number`, `issue_title` or `issue_page_range`. \n",
    "- We did not record `article_page_range`, nor the exact `article_pub_date`, but only the `article_pub_year`.\n",
    "\n",
    "\n"
   ]
  },
  {
   "cell_type": "code",
   "execution_count": 40,
   "metadata": {},
   "outputs": [],
   "source": [
    "%reload_ext autoreload\n",
    "%autoreload 2\n"
   ]
  },
  {
   "cell_type": "code",
   "execution_count": 41,
   "metadata": {},
   "outputs": [
    {
     "name": "stdout",
     "output_type": "stream",
     "text": [
      "Publication Series: Research group on European Migration Problems\n",
      "Number of records: 169\n",
      "\n",
      "Record headers: dict_keys(['article_title', 'article_doi', 'article_author', 'article_author_index_name', 'article_author_affiliation', 'article_page_range', 'article_pub_date', 'article_pub_year', 'issue_section', 'issue_number', 'issue_title', 'issue_page_range', 'issue_pub_date', 'issue_pub_year', 'volume', 'journal', 'publisher'])\n",
      "\n",
      "Example record:\n"
     ]
    },
    {
     "data": {
      "text/plain": [
       "{'article_title': 'De gaande man : gronden van de emigratiebeslissing : rapport naar aanleiding van een onderzoek / verricht in opdracht van de Regeringscommissaris voor de Emigratie ',\n",
       " 'article_doi': None,\n",
       " 'article_author': 'Hofstede, B.P.',\n",
       " 'article_author_index_name': 'Hofstede, B.P.',\n",
       " 'article_author_affiliation': '',\n",
       " 'article_page_range': None,\n",
       " 'article_pub_date': '1958',\n",
       " 'article_pub_year': 1958,\n",
       " 'issue_section': 'article',\n",
       " 'issue_number': None,\n",
       " 'issue_title': None,\n",
       " 'issue_page_range': None,\n",
       " 'issue_pub_date': '1958',\n",
       " 'issue_pub_year': 1958,\n",
       " 'volume': '1',\n",
       " 'journal': 'Studies over Nederlandse emigratie',\n",
       " 'publisher': 'REMP'}"
      ]
     },
     "execution_count": 41,
     "metadata": {},
     "output_type": "execute_result"
    }
   ],
   "source": [
    "from scripts.network_analysis import retrieve_spreadsheet_records, make_bibliographic_records\n",
    "\n",
    "relationship_records = retrieve_spreadsheet_records(record_type='relationships')\n",
    "\n",
    "remp_records = make_bibliographic_records(relationship_records)\n",
    "\n",
    "selected_records = [record for record in remp_records if record['issue_pub_year'] < 2000]\n",
    "\n",
    "print('Publication Series: Research group on European Migration Problems')\n",
    "print('Number of records:', len(selected_records))\n",
    "print('\\nRecord headers:', selected_records[0].keys())\n",
    "print('\\nExample record:')\n",
    "selected_records[0]"
   ]
  },
  {
   "cell_type": "code",
   "execution_count": 42,
   "metadata": {},
   "outputs": [],
   "source": [
    "\n",
    "remp_records_file = '../data/remp-records.json'\n",
    "with open(remp_records_file, 'wt') as fh:\n",
    "    json.dump(remp_records, fh)"
   ]
  },
  {
   "cell_type": "markdown",
   "metadata": {},
   "source": [
    "## Data Quality Inspection\n",
    "\n",
    "Here we conduct an inspection of data quality to identify potential limitations and pitfalls in using it and relying on it for interpreting the outcomes of later analyses.\n",
    "\n",
    "For this, we load all the records in a Pandas dataframe to allow selecting, sorting and inspection along multiple dimensions."
   ]
  },
  {
   "cell_type": "code",
   "execution_count": 43,
   "metadata": {},
   "outputs": [
    {
     "data": {
      "text/plain": [
       "Sage Publishing    3913\n",
       "Wiley              1174\n",
       "REMP                169\n",
       "Name: publisher, dtype: int64"
      ]
     },
     "execution_count": 43,
     "metadata": {},
     "output_type": "execute_result"
    }
   ],
   "source": [
    "import pandas as pd\n",
    "\n",
    "remp_records_file = '../data/remp-records.json'\n",
    "sage_records_file = '../data/sage-IMR-records.json'\n",
    "wiley_records_file = '../data/wiley-IM-records.json'\n",
    "\n",
    "remp_df = pd.read_json(remp_records_file)\n",
    "sage_df = pd.read_json(sage_records_file)\n",
    "wiley_df = pd.read_json(wiley_records_file)\n",
    "\n",
    "df = pd.concat([remp_df, sage_df, wiley_df])\n",
    "df.publisher.value_counts()\n"
   ]
  },
  {
   "cell_type": "markdown",
   "metadata": {},
   "source": [
    "The REMP publications include four series:\n",
    "\n",
    "1. REMP-bulletin: ...\n",
    "2. Publications of the research group for european migration problems\n",
    "3. Studies in Social Life\n",
    "4. Studies over Nederlandse emigratie\n",
    "\n",
    "As mentiond before, the Dutch series *Studies over Nederlandse emigratie* contains only a handful of publications. \n",
    "\n",
    "The International Migration journal was first called *Migracion* (in 1961), then *Migration* (1962) and then *International Migration* afterwards (1963 till the present)."
   ]
  },
  {
   "cell_type": "code",
   "execution_count": 44,
   "metadata": {},
   "outputs": [
    {
     "data": {
      "text/plain": [
       "International Migration Review                                        3913\n",
       "International Migration                                               1113\n",
       "REMP-bulletin                                                          111\n",
       "Publications of the research group for european migration problems      36\n",
       "Migracion                                                               34\n",
       "Migration                                                               27\n",
       "Studies in Social Life                                                  13\n",
       "Studies over Nederlandse emigratie                                       9\n",
       "Name: journal, dtype: int64"
      ]
     },
     "execution_count": 44,
     "metadata": {},
     "output_type": "execute_result"
    }
   ],
   "source": [
    "df.journal.value_counts()"
   ]
  },
  {
   "cell_type": "markdown",
   "metadata": {},
   "source": [
    "#### Publication Years\n",
    "\n"
   ]
  },
  {
   "cell_type": "code",
   "execution_count": 45,
   "metadata": {},
   "outputs": [
    {
     "data": {
      "text/plain": [
       "<AxesSubplot:>"
      ]
     },
     "execution_count": 45,
     "metadata": {},
     "output_type": "execute_result"
    },
    {
     "data": {
      "image/png": "[encoded data removed]",
      "text/plain": [
       "<Figure size 864x360 with 1 Axes>"
      ]
     },
     "metadata": {
      "needs_background": "light"
     },
     "output_type": "display_data"
    }
   ],
   "source": [
    "remp_df.issue_pub_year.value_counts().sort_index().plot(kind='bar', figsize=(12, 5), xlim=(1950, 2000))"
   ]
  },
  {
   "cell_type": "markdown",
   "metadata": {},
   "source": [
    "As can be seen from the bar graph above, the REMP publications are mostly published in the 1950s and early 1960s, just before merging with *Migration* to become the *International Migration* journal. In more than one way, the REMP publications and IM can therefore be seen as a single continuous publication series edited by Gunther Beyer."
   ]
  },
  {
   "cell_type": "code",
   "execution_count": 46,
   "metadata": {},
   "outputs": [
    {
     "data": {
      "text/plain": [
       "<AxesSubplot:>"
      ]
     },
     "execution_count": 46,
     "metadata": {},
     "output_type": "execute_result"
    },
    {
     "data": {
      "image/png": "[encoded data removed]",
      "text/plain": [
       "<Figure size 1440x360 with 1 Axes>"
      ]
     },
     "metadata": {
      "needs_background": "light"
     },
     "output_type": "display_data"
    }
   ],
   "source": [
    "wiley_df.issue_pub_year.value_counts().sort_index().plot(kind='bar', figsize=(20, 5))"
   ]
  },
  {
   "cell_type": "markdown",
   "metadata": {},
   "source": [
    "Counting the number of IM articles per year reveals a dip between 1977 and 1980 (e.g. 1979 has only 8, 1980 has only 6), whereas others years have more than 15. In contrast, 1983 has a strong peak with over 60 publications. We investigate these dips and peak below.\n",
    "\n",
    "For now, we also observe that the number of articles per year seems to increase over time.  \n"
   ]
  },
  {
   "cell_type": "code",
   "execution_count": 47,
   "metadata": {
    "scrolled": true
   },
   "outputs": [
    {
     "data": {
      "text/plain": [
       "<AxesSubplot:>"
      ]
     },
     "execution_count": 47,
     "metadata": {},
     "output_type": "execute_result"
    },
    {
     "data": {
      "image/png": "[encoded data removed]",
      "text/plain": [
       "<Figure size 1440x360 with 1 Axes>"
      ]
     },
     "metadata": {
      "needs_background": "light"
     },
     "output_type": "display_data"
    }
   ],
   "source": [
    "sage_df.issue_pub_year.value_counts().sort_index().plot(kind='bar', figsize=(20, 5))"
   ]
  },
  {
   "cell_type": "markdown",
   "metadata": {},
   "source": [
    "Here we also see an overall increase in publications, with some small dips and peaks, but nothing that signals a potential problem."
   ]
  },
  {
   "cell_type": "markdown",
   "metadata": {},
   "source": [
    "### Investigating dips in yearly publications\n",
    "\n",
    "We zoom in on the years for which IM has few publications to see if issues that would constrain the analysis."
   ]
  },
  {
   "cell_type": "code",
   "execution_count": 48,
   "metadata": {},
   "outputs": [
    {
     "data": {
      "text/html": [
       "<div>\n",
       "<style scoped>\n",
       "    .dataframe tbody tr th:only-of-type {\n",
       "        vertical-align: middle;\n",
       "    }\n",
       "\n",
       "    .dataframe tbody tr th {\n",
       "        vertical-align: top;\n",
       "    }\n",
       "\n",
       "    .dataframe thead th {\n",
       "        text-align: right;\n",
       "    }\n",
       "</style>\n",
       "<table border=\"1\" class=\"dataframe\">\n",
       "  <thead>\n",
       "    <tr style=\"text-align: right;\">\n",
       "      <th></th>\n",
       "      <th>issue_pub_year</th>\n",
       "      <th>issue_number</th>\n",
       "    </tr>\n",
       "  </thead>\n",
       "  <tbody>\n",
       "    <tr>\n",
       "      <th>893</th>\n",
       "      <td>1977</td>\n",
       "      <td>1</td>\n",
       "    </tr>\n",
       "    <tr>\n",
       "      <th>423</th>\n",
       "      <td>1977</td>\n",
       "      <td>4</td>\n",
       "    </tr>\n",
       "    <tr>\n",
       "      <th>370</th>\n",
       "      <td>1978</td>\n",
       "      <td>1</td>\n",
       "    </tr>\n",
       "    <tr>\n",
       "      <th>591</th>\n",
       "      <td>1978</td>\n",
       "      <td>2</td>\n",
       "    </tr>\n",
       "    <tr>\n",
       "      <th>1011</th>\n",
       "      <td>1978</td>\n",
       "      <td>3-4</td>\n",
       "    </tr>\n",
       "    <tr>\n",
       "      <th>528</th>\n",
       "      <td>1979</td>\n",
       "      <td>1-2</td>\n",
       "    </tr>\n",
       "    <tr>\n",
       "      <th>802</th>\n",
       "      <td>1980</td>\n",
       "      <td>1-2</td>\n",
       "    </tr>\n",
       "  </tbody>\n",
       "</table>\n",
       "</div>"
      ],
      "text/plain": [
       "      issue_pub_year issue_number\n",
       "893             1977            1\n",
       "423             1977            4\n",
       "370             1978            1\n",
       "591             1978            2\n",
       "1011            1978          3-4\n",
       "528             1979          1-2\n",
       "802             1980          1-2"
      ]
     },
     "execution_count": 48,
     "metadata": {},
     "output_type": "execute_result"
    }
   ],
   "source": [
    "dip_df = wiley_df[wiley_df.issue_pub_year.isin([1977, 1978 ,1979, 1980])]\n",
    "dip_df[['issue_pub_year','issue_number']].sort_values(['issue_pub_year', 'issue_number']).drop_duplicates()"
   ]
  },
  {
   "cell_type": "markdown",
   "metadata": {},
   "source": [
    "Listing the issues of those years reveals that each year had only one or two short issues. E.g. for 1977 only issues 1 and 4 are available (suggesting 2 and 3 are missing), and for 1979 and 1980 only a single volume double issue is available (perhaps the only issue published in those year). \n",
    "\n",
    "This could be a signal that there is a mistake in the data extraction process, or that these were just unusual years. Checking the journal website reveals that these are the only issues available, so there seems to be no mistake in the extraction process. The fact that only issues 1 and 4 for 1977 are present does suggest that the Wiley website is missing two issues.\n",
    "\n",
    "In contrast, in some years, there are relatively many articles. This is because each original article is published in three languages (English, French and Spanish), for instance Issue 2 in Volume 21 (from 1983). See [https://onlinelibrary.wiley.com/toc/14682435/1983/21/2](https://onlinelibrary.wiley.com/toc/14682435/1983/21/2).\n"
   ]
  },
  {
   "cell_type": "code",
   "execution_count": 49,
   "metadata": {},
   "outputs": [
    {
     "data": {
      "text/html": [
       "<div>\n",
       "<style scoped>\n",
       "    .dataframe tbody tr th:only-of-type {\n",
       "        vertical-align: middle;\n",
       "    }\n",
       "\n",
       "    .dataframe tbody tr th {\n",
       "        vertical-align: top;\n",
       "    }\n",
       "\n",
       "    .dataframe thead th {\n",
       "        text-align: right;\n",
       "    }\n",
       "</style>\n",
       "<table border=\"1\" class=\"dataframe\">\n",
       "  <thead>\n",
       "    <tr style=\"text-align: right;\">\n",
       "      <th></th>\n",
       "      <th>article_author</th>\n",
       "      <th>article_title</th>\n",
       "    </tr>\n",
       "  </thead>\n",
       "  <tbody>\n",
       "    <tr>\n",
       "      <th>119</th>\n",
       "      <td>None</td>\n",
       "      <td>Books, Periodicals, Pamphlets, Statistics</td>\n",
       "    </tr>\n",
       "    <tr>\n",
       "      <th>799</th>\n",
       "      <td>None</td>\n",
       "      <td>Book Reviews</td>\n",
       "    </tr>\n",
       "    <tr>\n",
       "      <th>800</th>\n",
       "      <td>None</td>\n",
       "      <td>Books, Periodicals, Pamphlets, Statistics</td>\n",
       "    </tr>\n",
       "    <tr>\n",
       "      <th>801</th>\n",
       "      <td>None</td>\n",
       "      <td>INTERGOVERNMENTAL COMMITTEE FOR MIGRATION COMI...</td>\n",
       "    </tr>\n",
       "    <tr>\n",
       "      <th>924</th>\n",
       "      <td>None</td>\n",
       "      <td>Addendum</td>\n",
       "    </tr>\n",
       "    <tr>\n",
       "      <th>925</th>\n",
       "      <td>None</td>\n",
       "      <td>Books, Periodicals, Pamphlets, Statistics</td>\n",
       "    </tr>\n",
       "    <tr>\n",
       "      <th>1065</th>\n",
       "      <td>None</td>\n",
       "      <td>Bibliography on Undocumented Migrants or Migra...</td>\n",
       "    </tr>\n",
       "    <tr>\n",
       "      <th>1066</th>\n",
       "      <td>None</td>\n",
       "      <td>Introduction</td>\n",
       "    </tr>\n",
       "    <tr>\n",
       "      <th>1067</th>\n",
       "      <td>None</td>\n",
       "      <td>Introduction</td>\n",
       "    </tr>\n",
       "    <tr>\n",
       "      <th>1068</th>\n",
       "      <td>None</td>\n",
       "      <td>Introduction</td>\n",
       "    </tr>\n",
       "    <tr>\n",
       "      <th>1070</th>\n",
       "      <td>None</td>\n",
       "      <td>Preamble</td>\n",
       "    </tr>\n",
       "    <tr>\n",
       "      <th>1071</th>\n",
       "      <td>None</td>\n",
       "      <td>Specific Motivations and Underlying Causes of ...</td>\n",
       "    </tr>\n",
       "    <tr>\n",
       "      <th>1072</th>\n",
       "      <td>None</td>\n",
       "      <td>The Rights and Obligations of Migrants in Rece...</td>\n",
       "    </tr>\n",
       "    <tr>\n",
       "      <th>1073</th>\n",
       "      <td>None</td>\n",
       "      <td>Undocumented Migrants and the Regularization o...</td>\n",
       "    </tr>\n",
       "    <tr>\n",
       "      <th>1074</th>\n",
       "      <td>None</td>\n",
       "      <td>Effects of Undocumented Migration Possible Rem...</td>\n",
       "    </tr>\n",
       "    <tr>\n",
       "      <th>1075</th>\n",
       "      <td>None</td>\n",
       "      <td>(a) Examination of the negative Effects for Co...</td>\n",
       "    </tr>\n",
       "    <tr>\n",
       "      <th>1076</th>\n",
       "      <td>None</td>\n",
       "      <td>(b) Specific Measures, including Agreements be...</td>\n",
       "    </tr>\n",
       "    <tr>\n",
       "      <th>1077</th>\n",
       "      <td>None</td>\n",
       "      <td>Préambule</td>\n",
       "    </tr>\n",
       "    <tr>\n",
       "      <th>1078</th>\n",
       "      <td>None</td>\n",
       "      <td>Motifs spécifiques et causes profondes de la m...</td>\n",
       "    </tr>\n",
       "    <tr>\n",
       "      <th>1079</th>\n",
       "      <td>None</td>\n",
       "      <td>Les droits et les obligations des migrants dan...</td>\n",
       "    </tr>\n",
       "    <tr>\n",
       "      <th>1080</th>\n",
       "      <td>None</td>\n",
       "      <td>Les migrants sans documents et la régularisati...</td>\n",
       "    </tr>\n",
       "    <tr>\n",
       "      <th>1081</th>\n",
       "      <td>None</td>\n",
       "      <td>Effets De La Migration Sans Documents Rem6Des ...</td>\n",
       "    </tr>\n",
       "    <tr>\n",
       "      <th>1082</th>\n",
       "      <td>None</td>\n",
       "      <td>a)Examen des effets nkgatifs de la migration s...</td>\n",
       "    </tr>\n",
       "    <tr>\n",
       "      <th>1083</th>\n",
       "      <td>None</td>\n",
       "      <td>b)Mesures spécifiques, et notamment accords en...</td>\n",
       "    </tr>\n",
       "    <tr>\n",
       "      <th>1084</th>\n",
       "      <td>None</td>\n",
       "      <td>Preambulo</td>\n",
       "    </tr>\n",
       "    <tr>\n",
       "      <th>1085</th>\n",
       "      <td>None</td>\n",
       "      <td>Motivos especijicos y causas profundas de la m...</td>\n",
       "    </tr>\n",
       "    <tr>\n",
       "      <th>1086</th>\n",
       "      <td>None</td>\n",
       "      <td>Los derechos y las obligaciones de los migrant...</td>\n",
       "    </tr>\n",
       "    <tr>\n",
       "      <th>1087</th>\n",
       "      <td>None</td>\n",
       "      <td>Los migrantes indocumentados y la regulacidn d...</td>\n",
       "    </tr>\n",
       "    <tr>\n",
       "      <th>1088</th>\n",
       "      <td>None</td>\n",
       "      <td>Efectos de la migración indocumentada, remedio...</td>\n",
       "    </tr>\n",
       "    <tr>\n",
       "      <th>1089</th>\n",
       "      <td>None</td>\n",
       "      <td>a) Examen de los efectos negativos para los pa...</td>\n",
       "    </tr>\n",
       "    <tr>\n",
       "      <th>1090</th>\n",
       "      <td>None</td>\n",
       "      <td>b)Medidas especipcas, incluyendo acuerdos entr...</td>\n",
       "    </tr>\n",
       "    <tr>\n",
       "      <th>1091</th>\n",
       "      <td>None</td>\n",
       "      <td>Experts/Expertos</td>\n",
       "    </tr>\n",
       "    <tr>\n",
       "      <th>1092</th>\n",
       "      <td>None</td>\n",
       "      <td>The specific Circumstances and deep-rooted Cau...</td>\n",
       "    </tr>\n",
       "    <tr>\n",
       "      <th>1105</th>\n",
       "      <td>None</td>\n",
       "      <td>Information Papers Documents d'Information Doc...</td>\n",
       "    </tr>\n",
       "    <tr>\n",
       "      <th>1106</th>\n",
       "      <td>None</td>\n",
       "      <td>Participants Participantes</td>\n",
       "    </tr>\n",
       "  </tbody>\n",
       "</table>\n",
       "</div>"
      ],
      "text/plain": [
       "     article_author                                      article_title\n",
       "119            None          Books, Periodicals, Pamphlets, Statistics\n",
       "799            None                                       Book Reviews\n",
       "800            None          Books, Periodicals, Pamphlets, Statistics\n",
       "801            None  INTERGOVERNMENTAL COMMITTEE FOR MIGRATION COMI...\n",
       "924            None                                           Addendum\n",
       "925            None          Books, Periodicals, Pamphlets, Statistics\n",
       "1065           None  Bibliography on Undocumented Migrants or Migra...\n",
       "1066           None                                       Introduction\n",
       "1067           None                                       Introduction\n",
       "1068           None                                       Introduction\n",
       "1070           None                                           Preamble\n",
       "1071           None  Specific Motivations and Underlying Causes of ...\n",
       "1072           None  The Rights and Obligations of Migrants in Rece...\n",
       "1073           None  Undocumented Migrants and the Regularization o...\n",
       "1074           None  Effects of Undocumented Migration Possible Rem...\n",
       "1075           None  (a) Examination of the negative Effects for Co...\n",
       "1076           None  (b) Specific Measures, including Agreements be...\n",
       "1077           None                                          Préambule\n",
       "1078           None  Motifs spécifiques et causes profondes de la m...\n",
       "1079           None  Les droits et les obligations des migrants dan...\n",
       "1080           None  Les migrants sans documents et la régularisati...\n",
       "1081           None  Effets De La Migration Sans Documents Rem6Des ...\n",
       "1082           None  a)Examen des effets nkgatifs de la migration s...\n",
       "1083           None  b)Mesures spécifiques, et notamment accords en...\n",
       "1084           None                                          Preambulo\n",
       "1085           None  Motivos especijicos y causas profundas de la m...\n",
       "1086           None  Los derechos y las obligaciones de los migrant...\n",
       "1087           None  Los migrantes indocumentados y la regulacidn d...\n",
       "1088           None  Efectos de la migración indocumentada, remedio...\n",
       "1089           None  a) Examen de los efectos negativos para los pa...\n",
       "1090           None  b)Medidas especipcas, incluyendo acuerdos entr...\n",
       "1091           None                                   Experts/Expertos\n",
       "1092           None  The specific Circumstances and deep-rooted Cau...\n",
       "1105           None  Information Papers Documents d'Information Doc...\n",
       "1106           None                         Participants Participantes"
      ]
     },
     "execution_count": 49,
     "metadata": {},
     "output_type": "execute_result"
    }
   ],
   "source": [
    "wiley_df[(wiley_df.issue_pub_year == 1983) & (wiley_df.article_author.isna())][['article_author', 'article_title']]"
   ]
  },
  {
   "cell_type": "markdown",
   "metadata": {},
   "source": [
    "These records of the same publication in multiple languages has consequences for the content analysis of the titles. Although most words across the three languages do not overlap, some do, and counting all three versions would artificially inflate their counts in a frequency analysis. "
   ]
  },
  {
   "cell_type": "code",
   "execution_count": null,
   "metadata": {},
   "outputs": [],
   "source": []
  },
  {
   "cell_type": "markdown",
   "metadata": {},
   "source": [
    "### Article Types\n",
    "\n",
    "Each publication series has its own types of articles. There are research articles, review articles, front matter articles (introductions, forewords, prefaces, etc.) and back matter articles (indices, bibliographies, etc.) and other types of articles. For IM and IMR, the type of article is derived from the section of an issue. For the REMP publications, we added `issue_section` labels manually, with prefaces and introductions being labelled as `front_matter` and the main articles as `article`.\n",
    "\n",
    "For the content analysis of the article titles, we added a column `article_type` to the dataframe, and add a label per publication that is either `main` for articles describing migration-related research, `review` for book reviews, and `supplementary` for other items, such as front and back matter. "
   ]
  },
  {
   "cell_type": "markdown",
   "metadata": {},
   "source": [
    "### Article Types in REMP Publications"
   ]
  },
  {
   "cell_type": "code",
   "execution_count": 50,
   "metadata": {},
   "outputs": [
    {
     "data": {
      "text/plain": [
       "article         143\n",
       "front_matter     26\n",
       "Name: issue_section, dtype: int64"
      ]
     },
     "execution_count": 50,
     "metadata": {},
     "output_type": "execute_result"
    }
   ],
   "source": [
    "remp_df.issue_section.value_counts()"
   ]
  },
  {
   "cell_type": "code",
   "execution_count": 51,
   "metadata": {},
   "outputs": [
    {
     "data": {
      "text/plain": [
       "main             143\n",
       "supplementary     26\n",
       "Name: article_type, dtype: int64"
      ]
     },
     "execution_count": 51,
     "metadata": {},
     "output_type": "execute_result"
    }
   ],
   "source": [
    "remp_df['article_type'] = remp_df.issue_section.apply(lambda x: 'main' if x == 'article' else 'supplementary')\n",
    "\n",
    "remp_df.article_type.value_counts()"
   ]
  },
  {
   "cell_type": "code",
   "execution_count": 78,
   "metadata": {},
   "outputs": [
    {
     "data": {
      "text/html": [
       "<div>\n",
       "<style scoped>\n",
       "    .dataframe tbody tr th:only-of-type {\n",
       "        vertical-align: middle;\n",
       "    }\n",
       "\n",
       "    .dataframe tbody tr th {\n",
       "        vertical-align: top;\n",
       "    }\n",
       "\n",
       "    .dataframe thead th {\n",
       "        text-align: right;\n",
       "    }\n",
       "</style>\n",
       "<table border=\"1\" class=\"dataframe\">\n",
       "  <thead>\n",
       "    <tr style=\"text-align: right;\">\n",
       "      <th></th>\n",
       "      <th>article_title</th>\n",
       "      <th>article_doi</th>\n",
       "      <th>article_author</th>\n",
       "      <th>article_author_index_name</th>\n",
       "      <th>article_author_affiliation</th>\n",
       "      <th>article_page_range</th>\n",
       "      <th>article_pub_date</th>\n",
       "      <th>article_pub_year</th>\n",
       "      <th>issue_section</th>\n",
       "      <th>issue_number</th>\n",
       "      <th>issue_title</th>\n",
       "      <th>issue_page_range</th>\n",
       "      <th>issue_pub_date</th>\n",
       "      <th>issue_pub_year</th>\n",
       "      <th>volume</th>\n",
       "      <th>journal</th>\n",
       "      <th>publisher</th>\n",
       "      <th>article_type</th>\n",
       "    </tr>\n",
       "  </thead>\n",
       "  <tbody>\n",
       "    <tr>\n",
       "      <th>0</th>\n",
       "      <td>De gaande man : gronden van de emigratiebeslis...</td>\n",
       "      <td>NaN</td>\n",
       "      <td>Hofstede, B.P.</td>\n",
       "      <td>Hofstede, B.P.</td>\n",
       "      <td></td>\n",
       "      <td>NaN</td>\n",
       "      <td>1958</td>\n",
       "      <td>1958</td>\n",
       "      <td>article</td>\n",
       "      <td>NaN</td>\n",
       "      <td>NaN</td>\n",
       "      <td>NaN</td>\n",
       "      <td>1958</td>\n",
       "      <td>1958</td>\n",
       "      <td>1</td>\n",
       "      <td>Studies over Nederlandse emigratie</td>\n",
       "      <td>REMP</td>\n",
       "      <td>main</td>\n",
       "    </tr>\n",
       "    <tr>\n",
       "      <th>1</th>\n",
       "      <td>Preface</td>\n",
       "      <td>NaN</td>\n",
       "      <td>Groenman, Sj.</td>\n",
       "      <td>Groenman, Sj.</td>\n",
       "      <td></td>\n",
       "      <td>NaN</td>\n",
       "      <td>1958</td>\n",
       "      <td>1958</td>\n",
       "      <td>front_matter</td>\n",
       "      <td>NaN</td>\n",
       "      <td>NaN</td>\n",
       "      <td>NaN</td>\n",
       "      <td>1958</td>\n",
       "      <td>1958</td>\n",
       "      <td>1</td>\n",
       "      <td>Studies over Nederlandse emigratie</td>\n",
       "      <td>REMP</td>\n",
       "      <td>supplementary</td>\n",
       "    </tr>\n",
       "    <tr>\n",
       "      <th>2</th>\n",
       "      <td>Emigranten, niet-emigranten : kwantitatieve an...</td>\n",
       "      <td>NaN</td>\n",
       "      <td>Frijda, N.H.</td>\n",
       "      <td>Frijda, N.H.</td>\n",
       "      <td></td>\n",
       "      <td>NaN</td>\n",
       "      <td>1960</td>\n",
       "      <td>1960</td>\n",
       "      <td>article</td>\n",
       "      <td>NaN</td>\n",
       "      <td>NaN</td>\n",
       "      <td>NaN</td>\n",
       "      <td>1960</td>\n",
       "      <td>1960</td>\n",
       "      <td>2</td>\n",
       "      <td>Studies over Nederlandse emigratie</td>\n",
       "      <td>REMP</td>\n",
       "      <td>main</td>\n",
       "    </tr>\n",
       "    <tr>\n",
       "      <th>3</th>\n",
       "      <td>Introduction</td>\n",
       "      <td>NaN</td>\n",
       "      <td>Duijker, H.C.J.</td>\n",
       "      <td>Duijker, H.C.J.</td>\n",
       "      <td></td>\n",
       "      <td>NaN</td>\n",
       "      <td>1960</td>\n",
       "      <td>1960</td>\n",
       "      <td>front_matter</td>\n",
       "      <td>NaN</td>\n",
       "      <td>NaN</td>\n",
       "      <td>NaN</td>\n",
       "      <td>1960</td>\n",
       "      <td>1960</td>\n",
       "      <td>2</td>\n",
       "      <td>Studies over Nederlandse emigratie</td>\n",
       "      <td>REMP</td>\n",
       "      <td>supplementary</td>\n",
       "    </tr>\n",
       "    <tr>\n",
       "      <th>4</th>\n",
       "      <td>Preface</td>\n",
       "      <td>NaN</td>\n",
       "      <td>Haveman, B.W.</td>\n",
       "      <td>Haveman, B.W.</td>\n",
       "      <td></td>\n",
       "      <td>NaN</td>\n",
       "      <td>1960</td>\n",
       "      <td>1960</td>\n",
       "      <td>front_matter</td>\n",
       "      <td>NaN</td>\n",
       "      <td>NaN</td>\n",
       "      <td>NaN</td>\n",
       "      <td>1960</td>\n",
       "      <td>1960</td>\n",
       "      <td>2</td>\n",
       "      <td>Studies over Nederlandse emigratie</td>\n",
       "      <td>REMP</td>\n",
       "      <td>supplementary</td>\n",
       "    </tr>\n",
       "    <tr>\n",
       "      <th>5</th>\n",
       "      <td>Kenmerken van de Nederlandse emigrant : een an...</td>\n",
       "      <td>NaN</td>\n",
       "      <td>Wentholt, R.</td>\n",
       "      <td>Wentholt, R.</td>\n",
       "      <td></td>\n",
       "      <td>NaN</td>\n",
       "      <td>1961</td>\n",
       "      <td>1961</td>\n",
       "      <td>article</td>\n",
       "      <td>NaN</td>\n",
       "      <td>NaN</td>\n",
       "      <td>NaN</td>\n",
       "      <td>1961</td>\n",
       "      <td>1961</td>\n",
       "      <td>3</td>\n",
       "      <td>Studies over Nederlandse emigratie</td>\n",
       "      <td>REMP</td>\n",
       "      <td>main</td>\n",
       "    </tr>\n",
       "    <tr>\n",
       "      <th>6</th>\n",
       "      <td>Introduction</td>\n",
       "      <td>NaN</td>\n",
       "      <td>Groenman, Sj.</td>\n",
       "      <td>Groenman, Sj.</td>\n",
       "      <td></td>\n",
       "      <td>NaN</td>\n",
       "      <td>1961</td>\n",
       "      <td>1961</td>\n",
       "      <td>front_matter</td>\n",
       "      <td>NaN</td>\n",
       "      <td>NaN</td>\n",
       "      <td>NaN</td>\n",
       "      <td>1961</td>\n",
       "      <td>1961</td>\n",
       "      <td>3</td>\n",
       "      <td>Studies over Nederlandse emigratie</td>\n",
       "      <td>REMP</td>\n",
       "      <td>supplementary</td>\n",
       "    </tr>\n",
       "    <tr>\n",
       "      <th>7</th>\n",
       "      <td>Preface</td>\n",
       "      <td>NaN</td>\n",
       "      <td>Haveman, B.W.</td>\n",
       "      <td>Haveman, B.W.</td>\n",
       "      <td></td>\n",
       "      <td>NaN</td>\n",
       "      <td>1961</td>\n",
       "      <td>1961</td>\n",
       "      <td>front_matter</td>\n",
       "      <td>NaN</td>\n",
       "      <td>NaN</td>\n",
       "      <td>NaN</td>\n",
       "      <td>1961</td>\n",
       "      <td>1961</td>\n",
       "      <td>3</td>\n",
       "      <td>Studies over Nederlandse emigratie</td>\n",
       "      <td>REMP</td>\n",
       "      <td>supplementary</td>\n",
       "    </tr>\n",
       "    <tr>\n",
       "      <th>8</th>\n",
       "      <td>Emigranten overzee : resultaten van een eerste...</td>\n",
       "      <td>NaN</td>\n",
       "      <td>Frijda, N.H.</td>\n",
       "      <td>Frijda, N.H.</td>\n",
       "      <td></td>\n",
       "      <td>NaN</td>\n",
       "      <td>1962</td>\n",
       "      <td>1962</td>\n",
       "      <td>article</td>\n",
       "      <td>NaN</td>\n",
       "      <td>NaN</td>\n",
       "      <td>NaN</td>\n",
       "      <td>1962</td>\n",
       "      <td>1962</td>\n",
       "      <td>4</td>\n",
       "      <td>Studies over Nederlandse emigratie</td>\n",
       "      <td>REMP</td>\n",
       "      <td>main</td>\n",
       "    </tr>\n",
       "  </tbody>\n",
       "</table>\n",
       "</div>"
      ],
      "text/plain": [
       "                                       article_title  article_doi  \\\n",
       "0  De gaande man : gronden van de emigratiebeslis...          NaN   \n",
       "1                                            Preface          NaN   \n",
       "2  Emigranten, niet-emigranten : kwantitatieve an...          NaN   \n",
       "3                                       Introduction          NaN   \n",
       "4                                            Preface          NaN   \n",
       "5  Kenmerken van de Nederlandse emigrant : een an...          NaN   \n",
       "6                                       Introduction          NaN   \n",
       "7                                            Preface          NaN   \n",
       "8  Emigranten overzee : resultaten van een eerste...          NaN   \n",
       "\n",
       "    article_author article_author_index_name article_author_affiliation  \\\n",
       "0   Hofstede, B.P.            Hofstede, B.P.                              \n",
       "1    Groenman, Sj.             Groenman, Sj.                              \n",
       "2     Frijda, N.H.              Frijda, N.H.                              \n",
       "3  Duijker, H.C.J.           Duijker, H.C.J.                              \n",
       "4    Haveman, B.W.             Haveman, B.W.                              \n",
       "5     Wentholt, R.              Wentholt, R.                              \n",
       "6    Groenman, Sj.             Groenman, Sj.                              \n",
       "7    Haveman, B.W.             Haveman, B.W.                              \n",
       "8     Frijda, N.H.              Frijda, N.H.                              \n",
       "\n",
       "   article_page_range  article_pub_date  article_pub_year issue_section  \\\n",
       "0                 NaN              1958              1958       article   \n",
       "1                 NaN              1958              1958  front_matter   \n",
       "2                 NaN              1960              1960       article   \n",
       "3                 NaN              1960              1960  front_matter   \n",
       "4                 NaN              1960              1960  front_matter   \n",
       "5                 NaN              1961              1961       article   \n",
       "6                 NaN              1961              1961  front_matter   \n",
       "7                 NaN              1961              1961  front_matter   \n",
       "8                 NaN              1962              1962       article   \n",
       "\n",
       "   issue_number  issue_title  issue_page_range  issue_pub_date  \\\n",
       "0           NaN          NaN               NaN            1958   \n",
       "1           NaN          NaN               NaN            1958   \n",
       "2           NaN          NaN               NaN            1960   \n",
       "3           NaN          NaN               NaN            1960   \n",
       "4           NaN          NaN               NaN            1960   \n",
       "5           NaN          NaN               NaN            1961   \n",
       "6           NaN          NaN               NaN            1961   \n",
       "7           NaN          NaN               NaN            1961   \n",
       "8           NaN          NaN               NaN            1962   \n",
       "\n",
       "   issue_pub_year volume                             journal publisher  \\\n",
       "0            1958      1  Studies over Nederlandse emigratie      REMP   \n",
       "1            1958      1  Studies over Nederlandse emigratie      REMP   \n",
       "2            1960      2  Studies over Nederlandse emigratie      REMP   \n",
       "3            1960      2  Studies over Nederlandse emigratie      REMP   \n",
       "4            1960      2  Studies over Nederlandse emigratie      REMP   \n",
       "5            1961      3  Studies over Nederlandse emigratie      REMP   \n",
       "6            1961      3  Studies over Nederlandse emigratie      REMP   \n",
       "7            1961      3  Studies over Nederlandse emigratie      REMP   \n",
       "8            1962      4  Studies over Nederlandse emigratie      REMP   \n",
       "\n",
       "    article_type  \n",
       "0           main  \n",
       "1  supplementary  \n",
       "2           main  \n",
       "3  supplementary  \n",
       "4  supplementary  \n",
       "5           main  \n",
       "6  supplementary  \n",
       "7  supplementary  \n",
       "8           main  "
      ]
     },
     "execution_count": 78,
     "metadata": {},
     "output_type": "execute_result"
    }
   ],
   "source": [
    "remp_df[remp_df.journal == 'Studies over Nederlandse emigratie']"
   ]
  },
  {
   "cell_type": "markdown",
   "metadata": {},
   "source": [
    "There are 4 main publications in the Dutch-language series _Studies over Nederlandse emigratie_, along with an introduction and/or a preface. For the title analysis, we leave these out, as the Dutch words have a low frequency and would receive a high importance scores when using TF\\*IDF even though they do not reflect well the main topics in the international discourse coalitions."
   ]
  },
  {
   "cell_type": "code",
   "execution_count": 79,
   "metadata": {},
   "outputs": [],
   "source": [
    "remp_df = remp_df[remp_df.journal != 'Studies over Nederlandse emigratie']"
   ]
  },
  {
   "cell_type": "markdown",
   "metadata": {},
   "source": [
    "### Article types in International Migration\n",
    "\n",
    "For IM, the issue section titles are diverse and inconsistent over time (e.g. `Original Article` vs. `Original Articles`). There are also many section titles that are only used for a single article. \n",
    "\n",
    "The analysis below is used to come to a reasoned selection of articles to include in the title analysis."
   ]
  },
  {
   "cell_type": "code",
   "execution_count": 80,
   "metadata": {},
   "outputs": [
    {
     "data": {
      "text/plain": [
       "Original Article                                        502\n",
       "Original Articles                                       113\n",
       "Information                                              49\n",
       "Books, Periodicals, Pamphlets, Statistics                45\n",
       "Book Reviews                                             43\n",
       "                                                       ... \n",
       "International Organization For Migration(Iom)             1\n",
       "La Ponction D E Matiere Grise Dans Les Pays E N Voie      1\n",
       "Variaciones Regionales De La Emigracion Francesa          1\n",
       "Books, Periodicals, Pamphlets Statistics                  1\n",
       "Résumés des débats Conclusions and Recommendations        1\n",
       "Name: issue_section, Length: 151, dtype: int64"
      ]
     },
     "execution_count": 80,
     "metadata": {},
     "output_type": "execute_result"
    }
   ],
   "source": [
    "wiley_df.issue_section.value_counts()"
   ]
  },
  {
   "cell_type": "code",
   "execution_count": 81,
   "metadata": {},
   "outputs": [
    {
     "data": {
      "text/plain": [
       "original article                                                                                                       502\n",
       "original articles                                                                                                      113\n",
       "information                                                                                                             49\n",
       "books, periodicals, pamphlets, statistics                                                                               45\n",
       "book reviews                                                                                                            43\n",
       "                                                                                                                      ... \n",
       "integration of refugees                                                                                                  1\n",
       "opening statements                                                                                                       1\n",
       "el ‘drenaje de cerebros’ de los paises en desarrollo y la necesidad de inmigracion de intelectuales y profesionales      1\n",
       "international organization for migration (iom)                                                                           1\n",
       "legislación espanola de emigración                                                                                       1\n",
       "Name: issue_section, Length: 145, dtype: int64"
      ]
     },
     "execution_count": 81,
     "metadata": {},
     "output_type": "execute_result"
    }
   ],
   "source": [
    "wiley_df.issue_section.str.lower().value_counts()"
   ]
  },
  {
   "cell_type": "code",
   "execution_count": null,
   "metadata": {},
   "outputs": [],
   "source": []
  },
  {
   "cell_type": "markdown",
   "metadata": {},
   "source": [
    "#### Article Types in International Migation - Recurring article titles\n",
    "\n",
    "some article titles are used repeatedly across issues. These are typical items `books, periodcials, pamphplets, statistics`, or `information` or `note from the editor`. For the content analysis of the discourse on migration, such articles are not useful. "
   ]
  },
  {
   "cell_type": "code",
   "execution_count": 82,
   "metadata": {},
   "outputs": [
    {
     "data": {
      "text/plain": [
       "books, periodicals, pamphlets, statistics                                                                           45\n",
       "book reviews                                                                                                        39\n",
       "note from the editor                                                                                                35\n",
       "information                                                                                                         30\n",
       "recent publications                                                                                                 19\n",
       "                                                                                                                    ..\n",
       "economic and social repercussions of spanish emigration to countries overseas                                        1\n",
       "migration and development: a global agenda for the future                                                            1\n",
       "patterns of australian and canadian immigration 1900-1983                                                            1\n",
       "implementation of congressional intent: a study of amnesty policy and the immigration and naturalization service     1\n",
       "migration prediction on the basis of prior migratory behavior: a methodological note                                 1\n",
       "Name: article_title, Length: 931, dtype: int64"
      ]
     },
     "execution_count": 82,
     "metadata": {},
     "output_type": "execute_result"
    }
   ],
   "source": [
    "wiley_df.article_title.str.lower().value_counts()"
   ]
  },
  {
   "cell_type": "code",
   "execution_count": 83,
   "metadata": {},
   "outputs": [
    {
     "data": {
      "text/plain": [
       "books, periodicals, pamphlets, statistics                                                                                                   45\n",
       "book reviews                                                                                                                                39\n",
       "note from the editor                                                                                                                        35\n",
       "information                                                                                                                                 30\n",
       "recent publications                                                                                                                         19\n",
       "publications, periodicals, pamphlets, statistics                                                                                            16\n",
       "introduction                                                                                                                                12\n",
       "editorial                                                                                                                                   11\n",
       "intergovernmental committee for migration comite intergouvernemental pour les migrations comite intergubernamental para las migraciones      6\n",
       "current trends and developments                                                                                                              6\n",
       "documentation                                                                                                                                5\n",
       "bibliography                                                                                                                                 5\n",
       "publications received                                                                                                                        4\n",
       "international organization for migration                                                                                                     4\n",
       "books received                                                                                                                               3\n",
       "participants                                                                                                                                 3\n",
       "publications, periodicals, pamphlets                                                                                                         2\n",
       "migration in the international press                                                                                                         2\n",
       "international organization for migration organisation internationale pour les migrations organizacion internacional para las migraciones     2\n",
       "foreword                                                                                                                                     2\n",
       "different forms, reasons and motivations for return migration of persons who voluntarily decide to return to their countries of origin       2\n",
       "social advancement of migrant women                                                                                                          2\n",
       "book review                                                                                                                                  2\n",
       "préambule                                                                                                                                    2\n",
       "some recent publications on international migration                                                                                          2\n",
       "social effects of migration in receiving countries                                                                                           2\n",
       "preamble                                                                                                                                     2\n",
       "current events and developments                                                                                                              2\n",
       "conclusions and recommendations/conclusions et recommandations/conclusiones y recomendaciones                                                2\n",
       "note of the editor                                                                                                                           2\n",
       "international migration - migrations internationales migraciones internacionales                                                             2\n",
       "migrant women not gainfully employed                                                                                                         2\n",
       "Name: article_title, dtype: int64"
      ]
     },
     "execution_count": 83,
     "metadata": {},
     "output_type": "execute_result"
    }
   ],
   "source": [
    "title_counts = wiley_df.article_title.str.lower().value_counts()\n",
    "title_counts[title_counts > 1]"
   ]
  },
  {
   "cell_type": "markdown",
   "metadata": {},
   "source": [
    "Above are all the IM article titles that occur more than once. Some of the titles occurring twice seem topically relevant, but titles occurring more than twice are not. We use the frequency threshold of $> 2$ for `supplementary` articles and $\\leq 2$ for `main` articles."
   ]
  },
  {
   "cell_type": "code",
   "execution_count": 84,
   "metadata": {},
   "outputs": [],
   "source": [
    "\n",
    "wiley_df['article_type'] = wiley_df.article_title.apply(lambda x: 'supplementary' if title_counts[x.lower()] > 2 else 'main')\n"
   ]
  },
  {
   "cell_type": "code",
   "execution_count": 85,
   "metadata": {},
   "outputs": [
    {
     "data": {
      "text/plain": [
       "main             931\n",
       "supplementary    243\n",
       "Name: article_type, dtype: int64"
      ]
     },
     "execution_count": 85,
     "metadata": {},
     "output_type": "execute_result"
    }
   ],
   "source": [
    "wiley_df.article_type.value_counts()"
   ]
  },
  {
   "cell_type": "markdown",
   "metadata": {},
   "source": [
    "#### Article Types in International Migration - Authorless articles\n",
    "\n",
    "Among the articles that are labelled as `main`, there are a few hundred with no specified author. We investigate these further to filter out titles that cause potential problems for content analysis."
   ]
  },
  {
   "cell_type": "code",
   "execution_count": 86,
   "metadata": {},
   "outputs": [
    {
     "data": {
      "text/plain": [
       "210"
      ]
     },
     "execution_count": 86,
     "metadata": {},
     "output_type": "execute_result"
    }
   ],
   "source": [
    "# There are 210 'main' articles with no specified author\n",
    "len(wiley_df[(wiley_df.article_author.isna()) & (wiley_df.article_type == 'main')])"
   ]
  },
  {
   "cell_type": "code",
   "execution_count": 87,
   "metadata": {},
   "outputs": [
    {
     "data": {
      "text/plain": [
       "1983    27\n",
       "1981    25\n",
       "1986    15\n",
       "1976    13\n",
       "1964    11\n",
       "1974    11\n",
       "1965     8\n",
       "1962     7\n",
       "1969     7\n",
       "1961     6\n",
       "1967     6\n",
       "1992     6\n",
       "1991     6\n",
       "1989     6\n",
       "1968     5\n",
       "1979     5\n",
       "1987     5\n",
       "1970     4\n",
       "1963     4\n",
       "1994     4\n",
       "1966     4\n",
       "1972     4\n",
       "1982     3\n",
       "1999     3\n",
       "1975     3\n",
       "1998     2\n",
       "1993     2\n",
       "1985     2\n",
       "1971     1\n",
       "1990     1\n",
       "1973     1\n",
       "1995     1\n",
       "1997     1\n",
       "1988     1\n",
       "Name: issue_pub_year, dtype: int64"
      ]
     },
     "execution_count": 87,
     "metadata": {},
     "output_type": "execute_result"
    }
   ],
   "source": [
    "authorless_df = wiley_df[(wiley_df.article_author.isna()) & (wiley_df.article_type == 'main')]\n",
    "authorless_df.issue_pub_year.value_counts()"
   ]
  },
  {
   "cell_type": "markdown",
   "metadata": {},
   "source": [
    "The majority of these authorless articles are published in one of four years: 1983, 1981, 1986 or 1976. We zoom in on these years to see what kind of articles they are:"
   ]
  },
  {
   "cell_type": "code",
   "execution_count": 88,
   "metadata": {},
   "outputs": [
    {
     "data": {
      "text/plain": [
       "810                                         Introducción\n",
       "811                                             Preamble\n",
       "812                                Migrant Women Workers\n",
       "813                 Migrant Women not gainfully employed\n",
       "814                  Social Advancement of Migrant Women\n",
       "815           Migrant Women who stay in the Home Country\n",
       "816     Migrant Women returning to the Country of Origin\n",
       "817                           Undocumented Migrant Women\n",
       "818                                        Refugee Women\n",
       "819                                            Préambule\n",
       "820                      La femme migrante dans l'emploi\n",
       "821               La femme migrante sans emploi lucratif\n",
       "822               Promotion sociale de la femme migrante\n",
       "823     La femme migrante restée dans son pays d'origine\n",
       "824    La femme migrante retournant dans son pays d'o...\n",
       "825           La femme migrante en situation irrégulière\n",
       "826                                    La femme réfugiée\n",
       "827                                            Préambulo\n",
       "828                           Las trabajadoras migrantes\n",
       "829               La mujer migrante sin empleo lucrativo\n",
       "830                Promoción social de la mujer migrante\n",
       "831    Mujeres migrantes que permanecen en el país de...\n",
       "832      La mujer migrante que regresa al pais de origen\n",
       "833                      La mujer migrante indocumentada\n",
       "834                                   La mujer refugiada\n",
       "Name: article_title, dtype: object"
      ]
     },
     "execution_count": 88,
     "metadata": {},
     "output_type": "execute_result"
    }
   ],
   "source": [
    "authorless_df[authorless_df.issue_pub_year.isin([1981])].article_title"
   ]
  },
  {
   "cell_type": "code",
   "execution_count": 89,
   "metadata": {},
   "outputs": [
    {
     "data": {
      "text/plain": [
       "924                                              Addendum\n",
       "1065    Bibliography on Undocumented Migrants or Migra...\n",
       "1070                                             Preamble\n",
       "1071    Specific Motivations and Underlying Causes of ...\n",
       "1072    The Rights and Obligations of Migrants in Rece...\n",
       "1073    Undocumented Migrants and the Regularization o...\n",
       "1074    Effects of Undocumented Migration Possible Rem...\n",
       "1075    (a) Examination of the negative Effects for Co...\n",
       "1076    (b) Specific Measures, including Agreements be...\n",
       "1077                                            Préambule\n",
       "1078    Motifs spécifiques et causes profondes de la m...\n",
       "1079    Les droits et les obligations des migrants dan...\n",
       "1080    Les migrants sans documents et la régularisati...\n",
       "1081    Effets De La Migration Sans Documents Rem6Des ...\n",
       "1082    a)Examen des effets nkgatifs de la migration s...\n",
       "1083    b)Mesures spécifiques, et notamment accords en...\n",
       "1084                                            Preambulo\n",
       "1085    Motivos especijicos y causas profundas de la m...\n",
       "1086    Los derechos y las obligaciones de los migrant...\n",
       "1087    Los migrantes indocumentados y la regulacidn d...\n",
       "1088    Efectos de la migración indocumentada, remedio...\n",
       "1089    a) Examen de los efectos negativos para los pa...\n",
       "1090    b)Medidas especipcas, incluyendo acuerdos entr...\n",
       "1091                                     Experts/Expertos\n",
       "1092    The specific Circumstances and deep-rooted Cau...\n",
       "1105    Information Papers Documents d'Information Doc...\n",
       "1106                           Participants Participantes\n",
       "Name: article_title, dtype: object"
      ]
     },
     "execution_count": 89,
     "metadata": {},
     "output_type": "execute_result"
    }
   ],
   "source": [
    "authorless_df[authorless_df.issue_pub_year.isin([1983])].article_title"
   ]
  },
  {
   "cell_type": "code",
   "execution_count": 90,
   "metadata": {},
   "outputs": [
    {
     "data": {
      "text/plain": [
       "103     Working permits issued to non-Jordanian IImmig...\n",
       "157     UN COLLOQUE INTERNATIONAL SUR LES SOCIETES PLU...\n",
       "302                  Publications, Periodicals, Pamphlets\n",
       "1044    Guest Speakers/Orateurs Invites/Oradores Invit...\n",
       "1047    The Meaning, Modalities and Consequences of Re...\n",
       "1050    The Return of International Labour Migrants in...\n",
       "1052    Measures to Facilitate the Reintegration of Mi...\n",
       "1056    Measures to Facilitate the Return and Reintegr...\n",
       "1058    Summaries of Debates Conclusions and Recommend...\n",
       "1059    Résumés des débats Conclusions and Recommendat...\n",
       "1060    Résuménes de los debates Conclusions y Recomme...\n",
       "1061    LIST OF DOCUMENTS/LISTE DE DOCUMENTS/LISTA DE ...\n",
       "1062                           Participants/Participantes\n",
       "1063                                  C. EXPERTS/EXPERTOS\n",
       "1064           ICM-Addresses/CIM-Adresses/CIM-Direcciones\n",
       "Name: article_title, dtype: object"
      ]
     },
     "execution_count": 90,
     "metadata": {},
     "output_type": "execute_result"
    }
   ],
   "source": [
    "authorless_df[authorless_df.issue_pub_year.isin([1986])].article_title"
   ]
  },
  {
   "cell_type": "code",
   "execution_count": 91,
   "metadata": {},
   "outputs": [
    {
     "data": {
      "text/plain": [
       "262                                   General Conclusions\n",
       "263     Recommendations on Migration of Family Units a...\n",
       "264     Recommendations on Problems confronting Migran...\n",
       "265     Recommandations sur la Migration de Familles e...\n",
       "266     Recommandations sur les Problèmes qui se posen...\n",
       "267     Recomendaciones sobre la Migración de Unidades...\n",
       "268     Recomendaciones sobre los Problemas que se pla...\n",
       "275                        Working and Information Papers\n",
       "666                        SPANISH EMIGRATION LEGISLATION\n",
       "667             LA LEGISLATION ESPAGNOLE SUR L'EMIGRATION\n",
       "668                    LEGISLACIÓN ESPANOLA DE EMIGRACIÓN\n",
       "1118    Third Seminar on Adaptation and Integration of...\n",
       "1122                                  Information on ICEM\n",
       "Name: article_title, dtype: object"
      ]
     },
     "execution_count": 91,
     "metadata": {},
     "output_type": "execute_result"
    }
   ],
   "source": [
    "authorless_df[authorless_df.issue_pub_year.isin([1976])].article_title"
   ]
  },
  {
   "cell_type": "markdown",
   "metadata": {},
   "source": [
    "In these four years, many of the authorless `main` articles are either \n",
    "\n",
    "- more supplementary in nature (e.g. `Participants/Participantes`, `LIST OF DOCUMENTS/LISTE DE DOCUMENTS. LISTA DE DOCUMENTOS` and `Information on ICEM`), or\n",
    "- the same article in three different languages (e.g. `Migrant Women Workers`, `La femme migrante dans l'emploi` and `Las trabajadoras migrantes`).\n",
    "\n",
    "\n",
    "We conclude that the authorless 'main' articles should be excluded from content analysis, as the more supplementary ones are not topical and the translations would artificially inflate the frequency of content words that are the same across the different languages. We set their `article_type` to `supplementary` as well:"
   ]
  },
  {
   "cell_type": "code",
   "execution_count": 92,
   "metadata": {},
   "outputs": [
    {
     "data": {
      "text/plain": [
       "supplementary    368\n",
       "review            41\n",
       "Name: article_type, dtype: int64"
      ]
     },
     "execution_count": 92,
     "metadata": {},
     "output_type": "execute_result"
    }
   ],
   "source": [
    "# set all article type for all authorless articles to 'supplementary'\n",
    "for row in authorless_df.iterrows():\n",
    "    index = row[0]\n",
    "    wiley_df.loc[index, 'article_type'] = 'supplementary'\n",
    "# set all article type for all book review articles to 'review'\n",
    "for row in wiley_df[wiley_df.issue_section == 'Book Reviews'].iterrows():\n",
    "    index = row[0]\n",
    "    wiley_df.loc[index, 'article_type'] = 'review'\n",
    "\n",
    "wiley_df[wiley_df.article_author.isna()].article_type.value_counts()"
   ]
  },
  {
   "cell_type": "code",
   "execution_count": 93,
   "metadata": {},
   "outputs": [
    {
     "data": {
      "text/plain": [
       "main             719\n",
       "supplementary    412\n",
       "review            43\n",
       "Name: article_type, dtype: int64"
      ]
     },
     "execution_count": 93,
     "metadata": {},
     "output_type": "execute_result"
    }
   ],
   "source": [
    "wiley_df.article_type.value_counts()"
   ]
  },
  {
   "cell_type": "markdown",
   "metadata": {},
   "source": [
    "This leaves 747 main titles and 47 review titles for content analysis. "
   ]
  },
  {
   "cell_type": "markdown",
   "metadata": {},
   "source": [
    "### Article Types in International Migration Review\n",
    "\n",
    "In IMR, there are two main categories, `Article` and `Book Reviews`, as well as a list of less common sections:"
   ]
  },
  {
   "cell_type": "code",
   "execution_count": 94,
   "metadata": {},
   "outputs": [
    {
     "data": {
      "text/plain": [
       "Book Reviews                                           1842\n",
       "Article                                                1539\n",
       "Books Received                                          106\n",
       "Documentation                                            71\n",
       "Review of Reviews                                        69\n",
       "Research Note                                            41\n",
       "Communications                                           30\n",
       "Conference Report                                        28\n",
       "Review                                                   24\n",
       "Index                                                    19\n",
       "Legislative and Judicial Developments                    14\n",
       "Conference Reports                                       13\n",
       "Editorial                                                 9\n",
       "Research Notes                                            8\n",
       "Errata                                                    8\n",
       "Introduction                                              8\n",
       "Commentary                                                7\n",
       "Appendix                                                  6\n",
       "Errata Corrige                                            6\n",
       "Documentary Note                                          5\n",
       "International Migration Statistics                        4\n",
       "Legislative                                               4\n",
       "Special Digest Study                                      4\n",
       "Selected Bibliography                                     3\n",
       "Annual Index                                              3\n",
       "International Migration Review                            3\n",
       "Erratum                                                   2\n",
       "IMR Reviewers                                             2\n",
       "International Migration Notes                             2\n",
       "Book Received                                             2\n",
       "Communication                                             2\n",
       "Review Essay                                              2\n",
       "Proposed Legislation on American Immigration Policy       1\n",
       "International Newsletter on Migration                     1\n",
       "Reply to Reuben                                           1\n",
       "Laws Governing Migration in Great Britain                 1\n",
       "A Reply to Meilaender                                     1\n",
       "Documentory Note                                          1\n",
       "Schedules First Schedule                                  1\n",
       "Acknowledgements                                          1\n",
       "A Reply to Sarrible                                       1\n",
       "Reviews                                                   1\n",
       "Legislative Developments                                  1\n",
       "Editors Note                                              1\n",
       "Conference Perspectives                                   1\n",
       "Special Digest Studies                                    1\n",
       "International Migration Notes and Statistics              1\n",
       "Conclusion                                                1\n",
       "Program                                                   1\n",
       "Documentation Note                                        1\n",
       "Legislative and Judicial Developments of Interest         1\n",
       "Foreword                                                  1\n",
       "Laws Governing Migration                                  1\n",
       "Comments                                                  1\n",
       "Reply                                                     1\n",
       "Notes and Statistics                                      1\n",
       "Reviewers List                                            1\n",
       "Reply to Gemery - Schofield                               1\n",
       "Introductory Note                                         1\n",
       "Name: issue_section, dtype: int64"
      ]
     },
     "execution_count": 94,
     "metadata": {},
     "output_type": "execute_result"
    }
   ],
   "source": [
    "sage_df.issue_section.value_counts()\n"
   ]
  },
  {
   "cell_type": "markdown",
   "metadata": {},
   "source": [
    "Among the issue sections that have two or more articles, there are a few variants of the `Book Reviews` section, namely `Book Review` and `Books Reviews`:"
   ]
  },
  {
   "cell_type": "code",
   "execution_count": 95,
   "metadata": {},
   "outputs": [
    {
     "data": {
      "text/plain": [
       "Book Reviews                             1842\n",
       "Article                                  1539\n",
       "Books Received                            106\n",
       "Documentation                              71\n",
       "Review of Reviews                          69\n",
       "Research Note                              41\n",
       "Communications                             30\n",
       "Conference Report                          28\n",
       "Review                                     24\n",
       "Index                                      19\n",
       "Legislative and Judicial Developments      14\n",
       "Conference Reports                         13\n",
       "Editorial                                   9\n",
       "Research Notes                              8\n",
       "Errata                                      8\n",
       "Introduction                                8\n",
       "Commentary                                  7\n",
       "Appendix                                    6\n",
       "Errata Corrige                              6\n",
       "Documentary Note                            5\n",
       "International Migration Statistics          4\n",
       "Legislative                                 4\n",
       "Special Digest Study                        4\n",
       "Selected Bibliography                       3\n",
       "Annual Index                                3\n",
       "International Migration Review              3\n",
       "Name: issue_section, dtype: int64"
      ]
     },
     "execution_count": 95,
     "metadata": {},
     "output_type": "execute_result"
    }
   ],
   "source": [
    "section_counts = sage_df.issue_section.value_counts()\n",
    "section_counts[section_counts > 2]"
   ]
  },
  {
   "cell_type": "markdown",
   "metadata": {},
   "source": [
    "We first normalise these variant section titles, then set the article types to `main` for articles in the `Article` sections, all book reviews to `review` and the remaining articles to `supplementary`:\n"
   ]
  },
  {
   "cell_type": "code",
   "execution_count": 96,
   "metadata": {},
   "outputs": [
    {
     "data": {
      "text/plain": [
       "review           1842\n",
       "main             1539\n",
       "supplementary     532\n",
       "Name: article_type, dtype: int64"
      ]
     },
     "execution_count": 96,
     "metadata": {},
     "output_type": "execute_result"
    }
   ],
   "source": [
    "# First, normalise book review section titles to 'Book Reviews'\n",
    "sage_df['issue_section'] = sage_df['issue_section'].replace(['Book Review', 'Books Reviews'], 'Book Reviews')\n",
    "# Next, create a mapping from section titles to article types\n",
    "section_map = {\n",
    "    'Article': 'main',\n",
    "    'Book Reviews': 'review'\n",
    "}\n",
    "# Finally, apply the mapping to the issue sections to add an article type column\n",
    "sage_df['article_type'] = sage_df.issue_section.apply(lambda x: section_map[x] if x in section_map else 'supplementary')\n",
    "\n",
    "sage_df.article_type.value_counts()"
   ]
  },
  {
   "cell_type": "code",
   "execution_count": 97,
   "metadata": {},
   "outputs": [
    {
     "data": {
      "text/plain": [
       "publisher        article_type \n",
       "REMP             main              139\n",
       "                 supplementary      21\n",
       "Sage Publishing  main             1539\n",
       "                 review           1842\n",
       "                 supplementary     532\n",
       "Wiley            main              719\n",
       "                 review             43\n",
       "                 supplementary     412\n",
       "dtype: int64"
      ]
     },
     "execution_count": 97,
     "metadata": {},
     "output_type": "execute_result"
    }
   ],
   "source": [
    "# concate the three data frames into a single one\n",
    "df = pd.concat([remp_df, wiley_df, sage_df])\n",
    "\n",
    "# list the number of articles per type and per publisher\n",
    "df[['publisher', 'article_type']].value_counts().sort_index()"
   ]
  },
  {
   "cell_type": "markdown",
   "metadata": {},
   "source": [
    "## Data Selection\n",
    "\n",
    "Before performing a content analysis of the article titles, we want to make a selection of titles that is focused on the academic debate around migration, without any distracting non-topical titles that might obscure any topical shifts across the decades from 1950-2000.\n",
    "\n",
    "Given the analysis above, we use the following three sets of articles for analysis:\n",
    "\n",
    "1. main articles from REMP and IM, plus the IM review articles,\n",
    "2. main articles from IMR\n",
    "3. review articles from IMR\n",
    "\n",
    "The reason to combine the main and review articles of IM is that the number of review articles is too low for independent content analysis. \n"
   ]
  },
  {
   "cell_type": "code",
   "execution_count": 98,
   "metadata": {},
   "outputs": [
    {
     "data": {
      "text/plain": [
       "publisher        article_type\n",
       "REMP             main             139\n",
       "Sage Publishing  main            1539\n",
       "                 review          1842\n",
       "Wiley            main             719\n",
       "                 review            43\n",
       "dtype: int64"
      ]
     },
     "execution_count": 98,
     "metadata": {},
     "output_type": "execute_result"
    }
   ],
   "source": [
    "main_df = df[df.article_type.isin(['main', 'review'])]\n",
    "main_df[['publisher', 'article_type']].value_counts().sort_index()"
   ]
  },
  {
   "cell_type": "code",
   "execution_count": 99,
   "metadata": {},
   "outputs": [],
   "source": [
    "title_file = '../data/main-review-article-records.csv'\n",
    "main_df.to_csv(title_file)"
   ]
  },
  {
   "cell_type": "code",
   "execution_count": null,
   "metadata": {},
   "outputs": [],
   "source": []
  },
  {
   "cell_type": "code",
   "execution_count": null,
   "metadata": {},
   "outputs": [],
   "source": []
  },
  {
   "cell_type": "code",
   "execution_count": null,
   "metadata": {},
   "outputs": [],
   "source": []
  },
  {
   "cell_type": "code",
   "execution_count": null,
   "metadata": {},
   "outputs": [],
   "source": []
  },
  {
   "cell_type": "code",
   "execution_count": null,
   "metadata": {},
   "outputs": [],
   "source": []
  }
 ],
 "metadata": {
  "kernelspec": {
   "display_name": "Python 3",
   "language": "python",
   "name": "python3"
  },
  "language_info": {
   "codemirror_mode": {
    "name": "ipython",
    "version": 3
   },
   "file_extension": ".py",
   "mimetype": "text/x-python",
   "name": "python",
   "nbconvert_exporter": "python",
   "pygments_lexer": "ipython3",
   "version": "3.8.5"
  },
  "toc": {
   "base_numbering": 1,
   "nav_menu": {},
   "number_sections": true,
   "sideBar": true,
   "skip_h1_title": false,
   "title_cell": "Table of Contents",
   "title_sidebar": "Contents",
   "toc_cell": false,
   "toc_position": {},
   "toc_section_display": true,
   "toc_window_display": false
  }
 },
 "nbformat": 4,
 "nbformat_minor": 4
}
