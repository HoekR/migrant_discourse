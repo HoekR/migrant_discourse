{
 "cells": [
  {
   "cell_type": "markdown",
   "metadata": {},
   "source": [
    "# Data Selection and Modelling\n",
    "\n",
    "To study the interplay between the science and politics of migration management, we study publications on this topic between 1950 and 2000 in terms of the actors involved in this discourse and the main themes that were discussed.\n",
    "\n",
    "This notebook describes and explains our data selection and modelling choices. We transform all article metadata into a standard format, which requires several modelling and classification decisions. We describe these steps using the Data Scopes model (Hoekstra and Koolen 2019).\n",
    "\n",
    "## Publications included in the study\n",
    "\n",
    "1. REMP Publications\n",
    "2. International Migration journal\n",
    "3. International Migration Review journal\n",
    "\n",
    "## Period of Study\n",
    "\n",
    "Our analysis covers the period 1950-2000. The reason for 1950 is based on both the start of the Intergovernmental Committee on European Migration (ICEM in 1952) and the start of the Research group on European Migration Problems (REMP in 1951). \n",
    "\n",
    "The choice for 2000 as the end of this period is that it covers the periods of transitions, first from the ICEM first into the Intergovernmental Committee on Migration (ICM, in 1980) and then into the current International Organization on Migration (IOM, since 1989). By including 11 years after the transition to IOM, we can see what, if anything, changes after each transition."
   ]
  },
  {
   "cell_type": "markdown",
   "metadata": {},
   "source": [
    "## Extracting Articles Records From Crawled Table of Contents\n",
    "\n",
    "We crawled all the Table of Content pages of the issues of *International Migration* (IM) journal published by Wiley and *International Migration Review* (IMR) published by Sage. The HTML files are stored in separate directories per journal. From these HTML files we extract information about:\n",
    "\n",
    "- the issues (number, volume, publication date, section titles, publisher, journal title)\n",
    "- the articles (title, author, doi, publication date, page numbers)\n",
    "\n",
    "For the Publications and Bulletin of Research on European Migration Problems (REMP), we manually collected bibliographic information in a spreadsheet, as this information is not available online. \n",
    "\n"
   ]
  },
  {
   "cell_type": "markdown",
   "metadata": {},
   "source": [
    "### Extracting Bibliographic Records for International Migration\n",
    "\n",
    "We start with the International Migration records. Below is a screenshot from the Table of Contents for Volume 2 of the journal of International Migration in 1962 (then called Migration).\n",
    "\n",
    "![Migration-1962-Table-of-Contents](../images/ToC-Wiley-Migration-1962.png)\n",
    "\n",
    "From this table of content we extract the following information per article, using the first article, i.e. the Foreword, as an example:\n",
    "\n",
    "- `article_title`: \"Foreword\",\n",
    "- `article_doi`: \"https://onlinelibrary.wiley.com/doi/10.1111/j.1468-2435.1962.tb00852.x\"\n",
    "- `article_author`: \"B. W. HAVEMAN && Intergovernmental Committee for European Migration\"\n",
    "- `article_author_index_name`: \"HAVEMAN, B W && Migration, Intergovernmental Committee For European\"\n",
    "- `article_author_affiliation`: \"\"\n",
    "- `article_page_range`: \"5\"\n",
    "- `article_pub_date`: \"12 July 1962\"\n",
    "- `article_pub_year`: 1962\n",
    "- `issue_section`: \"Foreword\"\n",
    "- `issue_number`: \"3-4\"\n",
    "- `issue_title`: \" Migration: Vol 2, No 3–4\"\n",
    "- `issue_page_range`: \"5-83\"\n",
    "- `issue_pub_date`: \"July–December 1962\"\n",
    "- `issue_pub_year`: 1962\n",
    "- `volume`: \"2\"\n",
    "- `journal`: \"Migration\"\n",
    "- `publisher`: \"Wiley\"\n",
    "\n",
    "The following modelling decisions have been made:\n",
    "\n",
    "- The `article_doi` information is embedded in the HTML hyperlink around the title Foreword, which will take you to the article landing page. \n",
    "- For the `article_author_name`, the values `B. W. HAVEMAN` and `Intergovernmental Committee for European Migration` are in separate HTML elements in the author block, so we treat them as separate authors, even though the latter name is probably intended as the affiliation of the former. This is because, by default, no affiliation is given, and for articles where there are multiple authors, the multiple elements are used to separate the authors. We separate multiple names using a double ampersand (&&) for easy splitting of names, as a single ampersand could be part of organisation name.\n",
    "- The `article_author_affiliation` field is empty by default for the IM records, because, as stated above, IM does not provide affiliation information for its authors. We include this field for consistency, because the IMR journal does provide affiliation information.\n",
    "- The `article_pub_date` is taken from the string after `First published:` and the `article_pub_year` is derived from this date. We note that these first publication dates for the individual articles do not always correspond to the publication date of the issue, but strangely, when they are not the same they are often several years into the future. \n",
    "- The `issue_section` information refers to the section in the issue that an article is published in. For the Foreword, this section is called `Foreword`, the Introduction is in the `Introduction` section, followed by a number of articles in the section `Summary Records of the Debate`. These section titles are used to easily distinguish between main articles from front and back matter articles (preamble, introduction, index, ...).\n",
    "- The `issue_title` is taken from the HTML metadata elements and is not displayed on the page. \n",
    "- The `issue_pub_date` and `issue_pub_year` are taken from the issue metadata that is shown in the top. We assume that the date of publication of the issue is the actual publication date of the individual articles. \n",
    "- The `journal` is taken from the HTML metadata elements and is not displayed on the page. We note that the journal was called *Migracion* in 1961 (Volume 1), *Migration* in 1962 (Volume 2) and *International Migration* from 1963 onwards.\n"
   ]
  },
  {
   "cell_type": "code",
   "execution_count": 1,
   "metadata": {},
   "outputs": [
    {
     "name": "stdout",
     "output_type": "stream",
     "text": [
      "Publication Series: International Migration (Wiley)\n",
      "Number of records: 1210\n",
      "\n",
      "Record headers: dict_keys(['article_title', 'article_doi', 'article_author', 'article_author_index_name', 'article_author_affiliation', 'article_page_range', 'article_pub_date', 'article_pub_year', 'issue_section', 'issue_number', 'issue_title', 'issue_page_range', 'issue_pub_date', 'issue_pub_year', 'volume', 'journal', 'publisher'])\n",
      "\n",
      "Example record:\n"
     ]
    },
    {
     "data": {
      "text/plain": [
       "{'article_title': 'The New U.S.A. Immigration Law',\n",
       " 'article_doi': 'https://onlinelibrary.wiley.com/doi/10.1111/j.1468-2435.1965.tb00872.x',\n",
       " 'article_author': 'D.G. BENN',\n",
       " 'article_author_index_name': 'BENN, DG',\n",
       " 'article_author_affiliation': '',\n",
       " 'article_page_range': '99',\n",
       " 'article_pub_date': '01 July 1965',\n",
       " 'article_pub_year': 1965,\n",
       " 'issue_section': 'Original Article',\n",
       " 'issue_number': '3',\n",
       " 'issue_title': ' International Migration: Vol 3, No 3',\n",
       " 'issue_page_range': '99-180',\n",
       " 'issue_pub_date': 'July 1965',\n",
       " 'issue_pub_year': 1965,\n",
       " 'volume': '3',\n",
       " 'journal': 'International Migration',\n",
       " 'publisher': 'Wiley'}"
      ]
     },
     "execution_count": 1,
     "metadata": {},
     "output_type": "execute_result"
    }
   ],
   "source": [
    "import glob\n",
    "import json\n",
    "\n",
    "from scripts.journal_crawl import read_file_soup, extract_wiley_issue_records\n",
    "\n",
    "# The directory with the crawled HTML files\n",
    "wiley_dir = '../data/wiley-IM-crawl/'\n",
    "# Get a list of all the filenames\n",
    "wiley_issue_files = glob.glob(wiley_dir + '*.html')\n",
    "\n",
    "wiley_records = []\n",
    "# iterate over the files with ToC of individual issues\n",
    "for wiley_issue_file in wiley_issue_files:\n",
    "    # read the content of the HTML file with the Beautifulsoup library\n",
    "    issue_soup = read_file_soup(wiley_issue_file)\n",
    "    # extract bibliographic records of all articles from the issue ToC.\n",
    "    wiley_records.extend(extract_wiley_issue_records(issue_soup))\n",
    "\n",
    "selected_records = [record for record in wiley_records if record['issue_pub_year'] <= 2000]\n",
    "\n",
    "print('Publication Series: International Migration (Wiley)')\n",
    "print('Number of records:', len(selected_records))\n",
    "print('\\nRecord headers:', selected_records[0].keys())\n",
    "print('\\nExample record:')\n",
    "selected_records[0]"
   ]
  },
  {
   "cell_type": "code",
   "execution_count": 2,
   "metadata": {},
   "outputs": [],
   "source": [
    "# Write the records to file in JSON format\n",
    "wiley_records_file = '../data/wiley-IM-records.json'\n",
    "with open(wiley_records_file, 'wt') as fh:\n",
    "    json.dump(selected_records, fh)"
   ]
  },
  {
   "cell_type": "code",
   "execution_count": null,
   "metadata": {},
   "outputs": [],
   "source": []
  },
  {
   "cell_type": "markdown",
   "metadata": {},
   "source": [
    "### Extracting Bibliographic Records for International Migration Review\n",
    "\n",
    "Next, we describe the extraction of records for the *International Migration Review* journal. Below is a screenshot from the Table of Contents for Volume 2 of the journal of International Migration in 1962 (then called Migration).\n",
    "\n",
    "![International-Migration-Review-1975-Table-of-Contents](../images/ToC-Sage-International-Migration-Review-1975.png)\n",
    "\n",
    "From this table of content we extract the following information per article, using the first article, i.e. the Foreword, as an example:\n",
    "\n",
    "- `article_title`: \"Introduction\"\n",
    "- `article_doi`: \"https://journals.sagepub.com/doi/pdf/10.1177/019791837500900201\"\n",
    "- `article_author`: \"John J. Macisco, Jr. && George C. Myers\"\n",
    "- `article_author_index_name`: \"Macisco, John J Jr && Myers, George C\"\n",
    "- `article_author_affiliation`: \"Fordham University Bronx, New York && Fordham University Bronx, New York\"\n",
    "- `article_page_range`: \"111-114\"\n",
    "- `article_pub_date`: \"Jun 1, 1975\"\n",
    "- `article_pub_year`: 1975\n",
    "- `issue_section`: \"Article\"\n",
    "- `issue_number`: \"2\"\n",
    "- `issue_title`: \"International Migration Review - Volume 9, Number 2, Jun 01, 1975\"\n",
    "- `issue_page_range`: null\n",
    "- `issue_pub_date`: \"Jun 01, 1975\"\n",
    "- `issue_pub_year`: 1975\n",
    "- `volume`: \"9\"\n",
    "- `journal`: \"International Migration Review\"\n",
    "- `publisher`: \"Sage Publishing\"\n",
    "\n",
    "The following modelling decision has been made (we only discuss the differences with the IM records above):\n",
    "\n",
    "- The `article_author_affiliation` values are embedded in the HTML field for individual author names. The affiliation is displayed to the user when they hover the mouse tooltip on an author name, as shown in the middle of the image with the author `George C. Myers`, where the affiliation is `Fordham University Bronx, New York`. We note that the affiliation field does not always contain affiliation information. For some authors, it is empty, and for a small number of authors, it contains their job title and location, as for the name `Alicia Unger De Zárate` in the bottom of the image, where the affiliation field contains `Social Demographer, Mount Vernon, New York`.\n"
   ]
  },
  {
   "cell_type": "code",
   "execution_count": 3,
   "metadata": {},
   "outputs": [
    {
     "name": "stdout",
     "output_type": "stream",
     "text": [
      "Publication Series: International Migration Review (Sage Publishing)\n",
      "Number of records: 4048\n",
      "\n",
      "Record headers: dict_keys(['article_title', 'article_doi', 'article_author', 'article_author_index_name', 'article_author_affiliation', 'article_page_range', 'article_pub_date', 'article_pub_year', 'issue_section', 'issue_number', 'issue_title', 'issue_page_range', 'issue_pub_date', 'issue_pub_year', 'volume', 'journal', 'publisher'])\n",
      "\n",
      "Example record:\n"
     ]
    },
    {
     "data": {
      "text/plain": [
       "{'article_title': \"Immigrants’ Attitudes toward their Children's Inter-Ethnic Marriages in a Canadian Community\",\n",
       " 'article_doi': 'https://journals.sagepub.com/doi/pdf/10.1177/019791837100500101',\n",
       " 'article_author': 'Peter D. Chimbos',\n",
       " 'article_author_index_name': 'Chimbos, Peter D',\n",
       " 'article_author_affiliation': 'Department of Sociology, Lakehead University, Ontario, Canada.',\n",
       " 'article_page_range': '5-17',\n",
       " 'article_pub_date': 'Mar 1, 1971',\n",
       " 'article_pub_year': 1971,\n",
       " 'issue_section': 'Article',\n",
       " 'issue_number': '1',\n",
       " 'issue_title': 'International Migration Review - Volume 5, Number 1, Mar 01, 1971',\n",
       " 'issue_page_range': None,\n",
       " 'issue_pub_date': 'Mar 01, 1971',\n",
       " 'issue_pub_year': 1971,\n",
       " 'volume': '5',\n",
       " 'journal': 'International Migration Review',\n",
       " 'publisher': 'Sage Publishing'}"
      ]
     },
     "execution_count": 3,
     "metadata": {},
     "output_type": "execute_result"
    }
   ],
   "source": [
    "from scripts.journal_crawl import read_file_soup, extract_sage_article_records\n",
    "\n",
    "\n",
    "journal_dir = '../data/sage-IMR-crawl/'\n",
    "\n",
    "sage_issue_files = glob.glob(journal_dir + 'International_Migration_Review-*.html')\n",
    "\n",
    "sage_records = []\n",
    "for sage_issue_file in sage_issue_files:\n",
    "    sage_issue_soup = read_file_soup(sage_issue_file)\n",
    "    sage_records.extend(extract_sage_article_records(sage_issue_soup))\n",
    "\n",
    "selected_records = [record for record in sage_records if record['issue_pub_year'] <= 2000]\n",
    "\n",
    "print('Publication Series: International Migration Review (Sage Publishing)')\n",
    "print('Number of records:', len(selected_records))\n",
    "print('\\nRecord headers:', selected_records[0].keys())\n",
    "print('\\nExample record:')\n",
    "selected_records[0]"
   ]
  },
  {
   "cell_type": "code",
   "execution_count": 4,
   "metadata": {},
   "outputs": [],
   "source": [
    "# Write the records to file in JSON format\n",
    "sage_records_file = '../data/sage-IMR-records.json'\n",
    "with open(sage_records_file, 'wt') as fh:\n",
    "    json.dump(selected_records, fh)\n"
   ]
  },
  {
   "cell_type": "code",
   "execution_count": null,
   "metadata": {
    "scrolled": true
   },
   "outputs": [],
   "source": []
  },
  {
   "cell_type": "markdown",
   "metadata": {},
   "source": [
    "### Extracting Bibliographic Records for the Publications and Bulletin of REMP \n",
    "\n",
    "The REMP publications and bulletins are not available online, so we have no screenshots. Instead, we manually gather information on all the publications. For several of the fields in our article record model, no information is provided, but for the fields we use in this study, we recorded the required information in a spreadsheet. \n",
    "\n",
    "- `article_title`: \"De gaande man : gronden van de emigratiebeslissing : rapport naar aanleiding van een onderzoek / verricht in opdracht van de Regeringscommissaris voor de Emigratie \"\n",
    "- `article_doi`: null\n",
    "- `article_author`: \"Hofstede, B.P.\"\n",
    "- `article_author_index_name`: \"Hofstede, B.P.\"\n",
    "- `article_author_affiliation`: \"\"\n",
    "- `article_page_range`: null\n",
    "- `article_pub_date`: \"1958\"\n",
    "- `article_pub_year`: 1958\n",
    "- `issue_section`: \"article\"\n",
    "- `issue_number`: null\n",
    "- `issue_title`: null\n",
    "- `issue_page_range`: null\n",
    "- `issue_pub_date`: \"1958\"\n",
    "- `issue_pub_year`: 1958\n",
    "- `volume`: \"1\"\n",
    "- `journal`: \"Studies over Nederlandse emigratie\"\n",
    "- `publisher`: \"REMP\"\n",
    "\n",
    "Again, we here elaborate only the fields for which the modelling decisions are different from the IM and IMR journals:\n",
    "\n",
    "- The `article_title` in the example is in Dutch. A handful of studies conducted and published by REMP are in Dutch. This affects our quantitative title analysis, as they have little overlap with the English language titles, therefore overlap in theme is not captured by this language difference. However, since this only concerns nine out of 169 of the REMP records, this impact is negligible. \n",
    "\n",
    "- The REMP publications have no `article_doi`, nor an `issue_section`, `issue_number`, `issue_title` or `issue_page_range`. \n",
    "- We did not record `article_page_range`, nor the exact `article_pub_date`, but only the `article_pub_year`.\n",
    "\n",
    "\n"
   ]
  },
  {
   "cell_type": "code",
   "execution_count": 5,
   "metadata": {},
   "outputs": [
    {
     "name": "stdout",
     "output_type": "stream",
     "text": [
      "Publication Series: Research group on European Migration Problems\n",
      "Number of records: 169\n",
      "\n",
      "Record headers: dict_keys(['article_title', 'article_doi', 'article_author', 'article_author_index_name', 'article_author_affiliation', 'article_page_range', 'article_pub_date', 'article_pub_year', 'issue_section', 'issue_number', 'issue_title', 'issue_page_range', 'issue_pub_date', 'issue_pub_year', 'volume', 'journal', 'publisher'])\n",
      "\n",
      "Example record:\n"
     ]
    },
    {
     "data": {
      "text/plain": [
       "{'article_title': 'De gaande man : gronden van de emigratiebeslissing : rapport naar aanleiding van een onderzoek / verricht in opdracht van de Regeringscommissaris voor de Emigratie ',\n",
       " 'article_doi': None,\n",
       " 'article_author': 'Hofstede, B.P.',\n",
       " 'article_author_index_name': 'Hofstede, B.P.',\n",
       " 'article_author_affiliation': '',\n",
       " 'article_page_range': None,\n",
       " 'article_pub_date': '1958',\n",
       " 'article_pub_year': 1958,\n",
       " 'issue_section': 'article',\n",
       " 'issue_number': None,\n",
       " 'issue_title': None,\n",
       " 'issue_page_range': None,\n",
       " 'issue_pub_date': '1958',\n",
       " 'issue_pub_year': 1958,\n",
       " 'volume': '1',\n",
       " 'journal': 'Studies over Nederlandse emigratie',\n",
       " 'publisher': 'REMP'}"
      ]
     },
     "execution_count": 5,
     "metadata": {},
     "output_type": "execute_result"
    }
   ],
   "source": [
    "from scripts.network_analysis import retrieve_spreadsheet_records, make_bibliographic_records\n",
    "\n",
    "relationship_records = retrieve_spreadsheet_records(record_type='relationships')\n",
    "\n",
    "remp_records = make_bibliographic_records(relationship_records)\n",
    "\n",
    "selected_records = [record for record in remp_records if record['issue_pub_year'] <= 2000]\n",
    "\n",
    "print('Publication Series: Research group on European Migration Problems')\n",
    "print('Number of records:', len(selected_records))\n",
    "print('\\nRecord headers:', selected_records[0].keys())\n",
    "print('\\nExample record:')\n",
    "selected_records[0]"
   ]
  },
  {
   "cell_type": "code",
   "execution_count": 6,
   "metadata": {},
   "outputs": [],
   "source": [
    "\n",
    "remp_records_file = '../data/remp-records.json'\n",
    "with open(remp_records_file, 'wt') as fh:\n",
    "    json.dump(remp_records, fh)"
   ]
  },
  {
   "cell_type": "markdown",
   "metadata": {},
   "source": [
    "## Data Quality Inspection\n",
    "\n",
    "Here we conduct an inspection of data quality to identify potential limitations and pitfalls in using it and relying on it for interpreting the outcomes of later analyses.\n",
    "\n",
    "For this, we load all the records in a Pandas dataframe to allow selecting, sorting and inspection along multiple dimensions."
   ]
  },
  {
   "cell_type": "code",
   "execution_count": 7,
   "metadata": {},
   "outputs": [
    {
     "data": {
      "text/plain": [
       "Sage Publishing    4048\n",
       "Wiley              1210\n",
       "REMP                169\n",
       "Name: publisher, dtype: int64"
      ]
     },
     "execution_count": 7,
     "metadata": {},
     "output_type": "execute_result"
    }
   ],
   "source": [
    "import pandas as pd\n",
    "\n",
    "remp_records_file = '../data/remp-records.json'\n",
    "sage_records_file = '../data/sage-IMR-records.json'\n",
    "wiley_records_file = '../data/wiley-IM-records.json'\n",
    "\n",
    "remp_df = pd.read_json(remp_records_file)\n",
    "sage_df = pd.read_json(sage_records_file)\n",
    "wiley_df = pd.read_json(wiley_records_file)\n",
    "\n",
    "df = pd.concat([remp_df, sage_df, wiley_df])\n",
    "df.publisher.value_counts()\n"
   ]
  },
  {
   "cell_type": "markdown",
   "metadata": {},
   "source": [
    "The REMP publications include four series:\n",
    "\n",
    "1. REMP-bulletin: ...\n",
    "2. Publications of the research group for european migration problems\n",
    "3. Studies in Social Life\n",
    "4. Studies over Nederlandse emigratie\n",
    "\n",
    "As mentiond before, the Dutch series *Studies over Nederlandse emigratie* contains only a handful of publications. \n",
    "\n",
    "The International Migration journal was first called *Migracion* (in 1961), then *Migration* (1962) and then *International Migration* afterwards (1963 till the present)."
   ]
  },
  {
   "cell_type": "code",
   "execution_count": 8,
   "metadata": {},
   "outputs": [
    {
     "data": {
      "text/plain": [
       "International Migration Review                                        4048\n",
       "International Migration                                               1149\n",
       "REMP-bulletin                                                          111\n",
       "Publications of the research group for european migration problems      36\n",
       "Migracion                                                               34\n",
       "Migration                                                               27\n",
       "Studies in Social Life                                                  13\n",
       "Studies over Nederlandse emigratie                                       9\n",
       "Name: journal, dtype: int64"
      ]
     },
     "execution_count": 8,
     "metadata": {},
     "output_type": "execute_result"
    }
   ],
   "source": [
    "df.journal.value_counts()"
   ]
  },
  {
   "cell_type": "markdown",
   "metadata": {},
   "source": [
    "#### Publication Years\n",
    "\n"
   ]
  },
  {
   "cell_type": "code",
   "execution_count": 9,
   "metadata": {},
   "outputs": [
    {
     "data": {
      "text/plain": [
       "<AxesSubplot:>"
      ]
     },
     "execution_count": 9,
     "metadata": {},
     "output_type": "execute_result"
    },
    {
     "data": {
      "image/png": "[encoded data removed]",
      "text/plain": [
       "<Figure size 864x360 with 1 Axes>"
      ]
     },
     "metadata": {
      "needs_background": "light"
     },
     "output_type": "display_data"
    }
   ],
   "source": [
    "df[df.publisher == 'REMP'].issue_pub_year.value_counts().sort_index().plot(kind='bar', figsize=(12, 5), xlim=(1950, 2000))"
   ]
  },
  {
   "cell_type": "markdown",
   "metadata": {},
   "source": [
    "As can be seen from the bar graph above, the REMP publications are mostly published in the 1950s and early 1960s, just before merging with *Migration* to become the *International Migration* journal. In more than one way, the REMP publications and IM can therefore be seen as a single continuous publication series edited by Gunther Beyer."
   ]
  },
  {
   "cell_type": "code",
   "execution_count": 10,
   "metadata": {},
   "outputs": [
    {
     "data": {
      "text/plain": [
       "<AxesSubplot:>"
      ]
     },
     "execution_count": 10,
     "metadata": {},
     "output_type": "execute_result"
    },
    {
     "data": {
      "image/png": "[encoded data removed]",
      "text/plain": [
       "<Figure size 1440x360 with 1 Axes>"
      ]
     },
     "metadata": {
      "needs_background": "light"
     },
     "output_type": "display_data"
    }
   ],
   "source": [
    "df[df.publisher == 'Wiley'].issue_pub_year.value_counts().sort_index().plot(kind='bar', figsize=(20, 5))"
   ]
  },
  {
   "cell_type": "markdown",
   "metadata": {},
   "source": [
    "Counting the number of IM articles per year reveals a dip between 1977 and 1980 (e.g. 1979 has only 8, 1980 has only 6), whereas others years have more than 15. In contrast, 1983 has a strong peak with over 60 publications. We investigate these dips and peak below.\n",
    "\n",
    "For now, we also observe that the number of articles per year seems to increase over time.  \n"
   ]
  },
  {
   "cell_type": "code",
   "execution_count": 11,
   "metadata": {
    "scrolled": true
   },
   "outputs": [
    {
     "data": {
      "text/plain": [
       "<AxesSubplot:>"
      ]
     },
     "execution_count": 11,
     "metadata": {},
     "output_type": "execute_result"
    },
    {
     "data": {
      "image/png": "[encoded data removed]",
      "text/plain": [
       "<Figure size 1440x360 with 1 Axes>"
      ]
     },
     "metadata": {
      "needs_background": "light"
     },
     "output_type": "display_data"
    }
   ],
   "source": [
    "df[df.publisher == 'Sage Publishing'].issue_pub_year.value_counts().sort_index().plot(kind='bar', figsize=(20, 5))"
   ]
  },
  {
   "cell_type": "markdown",
   "metadata": {},
   "source": [
    "Here we also see an overall increase in publications, with some small dips and peaks, but nothing that signals a potential problem."
   ]
  },
  {
   "cell_type": "markdown",
   "metadata": {},
   "source": [
    "### Investigating dips in yearly publications\n",
    "\n",
    "We zoom in on the years for which IM has few publications to see if issues that would constrain the analysis."
   ]
  },
  {
   "cell_type": "code",
   "execution_count": 12,
   "metadata": {},
   "outputs": [
    {
     "data": {
      "text/html": [
       "<div>\n",
       "<style scoped>\n",
       "    .dataframe tbody tr th:only-of-type {\n",
       "        vertical-align: middle;\n",
       "    }\n",
       "\n",
       "    .dataframe tbody tr th {\n",
       "        vertical-align: top;\n",
       "    }\n",
       "\n",
       "    .dataframe thead th {\n",
       "        text-align: right;\n",
       "    }\n",
       "</style>\n",
       "<table border=\"1\" class=\"dataframe\">\n",
       "  <thead>\n",
       "    <tr style=\"text-align: right;\">\n",
       "      <th></th>\n",
       "      <th>issue_pub_year</th>\n",
       "      <th>issue_number</th>\n",
       "    </tr>\n",
       "  </thead>\n",
       "  <tbody>\n",
       "    <tr>\n",
       "      <th>921</th>\n",
       "      <td>1977</td>\n",
       "      <td>1</td>\n",
       "    </tr>\n",
       "    <tr>\n",
       "      <th>451</th>\n",
       "      <td>1977</td>\n",
       "      <td>4</td>\n",
       "    </tr>\n",
       "    <tr>\n",
       "      <th>390</th>\n",
       "      <td>1978</td>\n",
       "      <td>1</td>\n",
       "    </tr>\n",
       "    <tr>\n",
       "      <th>619</th>\n",
       "      <td>1978</td>\n",
       "      <td>2</td>\n",
       "    </tr>\n",
       "    <tr>\n",
       "      <th>1039</th>\n",
       "      <td>1978</td>\n",
       "      <td>3-4</td>\n",
       "    </tr>\n",
       "    <tr>\n",
       "      <th>556</th>\n",
       "      <td>1979</td>\n",
       "      <td>1-2</td>\n",
       "    </tr>\n",
       "    <tr>\n",
       "      <th>830</th>\n",
       "      <td>1980</td>\n",
       "      <td>1-2</td>\n",
       "    </tr>\n",
       "  </tbody>\n",
       "</table>\n",
       "</div>"
      ],
      "text/plain": [
       "      issue_pub_year issue_number\n",
       "921             1977            1\n",
       "451             1977            4\n",
       "390             1978            1\n",
       "619             1978            2\n",
       "1039            1978          3-4\n",
       "556             1979          1-2\n",
       "830             1980          1-2"
      ]
     },
     "execution_count": 12,
     "metadata": {},
     "output_type": "execute_result"
    }
   ],
   "source": [
    "temp_df = wiley_df[wiley_df.issue_pub_year.isin([1977, 1978 ,1979, 1980])]\n",
    "temp_df[['issue_pub_year','issue_number']].sort_values(['issue_pub_year', 'issue_number']).drop_duplicates()"
   ]
  },
  {
   "cell_type": "markdown",
   "metadata": {},
   "source": [
    "Listing the issues of those years reveals that each year had only one or two short issues. E.g. for 1977 only issues 1 and 4 are available (suggesting 2 and 3 are missing), and for 1979 and 1980 only a single volume double issue is available (perhaps the only issue published in those year). \n",
    "\n",
    "This could be a signal that there is a mistake in the data extraction process, or that these were just unusual years. Checking the journal website reveals that these are the only issues available, so there seems to be no mistake in the extraction process. The fact that only issues 1 and 4 for 1977 are present does suggest that the Wiley website is missing two issues.\n",
    "\n",
    "In contrast, in some years, there are relatively many articles. This is because each original article is published in three languages (English, French and Spanish), for instance Issue 2 in Volume 21 (from 1983). See [https://onlinelibrary.wiley.com/toc/14682435/1983/21/2](https://onlinelibrary.wiley.com/toc/14682435/1983/21/2).\n"
   ]
  },
  {
   "cell_type": "code",
   "execution_count": 13,
   "metadata": {},
   "outputs": [
    {
     "data": {
      "text/html": [
       "<div>\n",
       "<style scoped>\n",
       "    .dataframe tbody tr th:only-of-type {\n",
       "        vertical-align: middle;\n",
       "    }\n",
       "\n",
       "    .dataframe tbody tr th {\n",
       "        vertical-align: top;\n",
       "    }\n",
       "\n",
       "    .dataframe thead th {\n",
       "        text-align: right;\n",
       "    }\n",
       "</style>\n",
       "<table border=\"1\" class=\"dataframe\">\n",
       "  <thead>\n",
       "    <tr style=\"text-align: right;\">\n",
       "      <th></th>\n",
       "      <th>article_author</th>\n",
       "      <th>article_title</th>\n",
       "    </tr>\n",
       "  </thead>\n",
       "  <tbody>\n",
       "    <tr>\n",
       "      <th>126</th>\n",
       "      <td>None</td>\n",
       "      <td>Books, Periodicals, Pamphlets, Statistics</td>\n",
       "    </tr>\n",
       "    <tr>\n",
       "      <th>827</th>\n",
       "      <td>None</td>\n",
       "      <td>Book Reviews</td>\n",
       "    </tr>\n",
       "    <tr>\n",
       "      <th>828</th>\n",
       "      <td>None</td>\n",
       "      <td>Books, Periodicals, Pamphlets, Statistics</td>\n",
       "    </tr>\n",
       "    <tr>\n",
       "      <th>829</th>\n",
       "      <td>None</td>\n",
       "      <td>INTERGOVERNMENTAL COMMITTEE FOR MIGRATION COMI...</td>\n",
       "    </tr>\n",
       "    <tr>\n",
       "      <th>952</th>\n",
       "      <td>None</td>\n",
       "      <td>Addendum</td>\n",
       "    </tr>\n",
       "    <tr>\n",
       "      <th>953</th>\n",
       "      <td>None</td>\n",
       "      <td>Books, Periodicals, Pamphlets, Statistics</td>\n",
       "    </tr>\n",
       "    <tr>\n",
       "      <th>1093</th>\n",
       "      <td>None</td>\n",
       "      <td>Bibliography on Undocumented Migrants or Migra...</td>\n",
       "    </tr>\n",
       "    <tr>\n",
       "      <th>1094</th>\n",
       "      <td>None</td>\n",
       "      <td>Introduction</td>\n",
       "    </tr>\n",
       "    <tr>\n",
       "      <th>1095</th>\n",
       "      <td>None</td>\n",
       "      <td>Introduction</td>\n",
       "    </tr>\n",
       "    <tr>\n",
       "      <th>1096</th>\n",
       "      <td>None</td>\n",
       "      <td>Introduction</td>\n",
       "    </tr>\n",
       "    <tr>\n",
       "      <th>1098</th>\n",
       "      <td>None</td>\n",
       "      <td>Preamble</td>\n",
       "    </tr>\n",
       "    <tr>\n",
       "      <th>1099</th>\n",
       "      <td>None</td>\n",
       "      <td>Specific Motivations and Underlying Causes of ...</td>\n",
       "    </tr>\n",
       "    <tr>\n",
       "      <th>1100</th>\n",
       "      <td>None</td>\n",
       "      <td>The Rights and Obligations of Migrants in Rece...</td>\n",
       "    </tr>\n",
       "    <tr>\n",
       "      <th>1101</th>\n",
       "      <td>None</td>\n",
       "      <td>Undocumented Migrants and the Regularization o...</td>\n",
       "    </tr>\n",
       "    <tr>\n",
       "      <th>1102</th>\n",
       "      <td>None</td>\n",
       "      <td>Effects of Undocumented Migration Possible Rem...</td>\n",
       "    </tr>\n",
       "    <tr>\n",
       "      <th>1103</th>\n",
       "      <td>None</td>\n",
       "      <td>(a) Examination of the negative Effects for Co...</td>\n",
       "    </tr>\n",
       "    <tr>\n",
       "      <th>1104</th>\n",
       "      <td>None</td>\n",
       "      <td>(b) Specific Measures, including Agreements be...</td>\n",
       "    </tr>\n",
       "    <tr>\n",
       "      <th>1105</th>\n",
       "      <td>None</td>\n",
       "      <td>Préambule</td>\n",
       "    </tr>\n",
       "    <tr>\n",
       "      <th>1106</th>\n",
       "      <td>None</td>\n",
       "      <td>Motifs spécifiques et causes profondes de la m...</td>\n",
       "    </tr>\n",
       "    <tr>\n",
       "      <th>1107</th>\n",
       "      <td>None</td>\n",
       "      <td>Les droits et les obligations des migrants dan...</td>\n",
       "    </tr>\n",
       "    <tr>\n",
       "      <th>1108</th>\n",
       "      <td>None</td>\n",
       "      <td>Les migrants sans documents et la régularisati...</td>\n",
       "    </tr>\n",
       "    <tr>\n",
       "      <th>1109</th>\n",
       "      <td>None</td>\n",
       "      <td>Effets De La Migration Sans Documents Rem6Des ...</td>\n",
       "    </tr>\n",
       "    <tr>\n",
       "      <th>1110</th>\n",
       "      <td>None</td>\n",
       "      <td>a)Examen des effets nkgatifs de la migration s...</td>\n",
       "    </tr>\n",
       "    <tr>\n",
       "      <th>1111</th>\n",
       "      <td>None</td>\n",
       "      <td>b)Mesures spécifiques, et notamment accords en...</td>\n",
       "    </tr>\n",
       "    <tr>\n",
       "      <th>1112</th>\n",
       "      <td>None</td>\n",
       "      <td>Preambulo</td>\n",
       "    </tr>\n",
       "    <tr>\n",
       "      <th>1113</th>\n",
       "      <td>None</td>\n",
       "      <td>Motivos especijicos y causas profundas de la m...</td>\n",
       "    </tr>\n",
       "    <tr>\n",
       "      <th>1114</th>\n",
       "      <td>None</td>\n",
       "      <td>Los derechos y las obligaciones de los migrant...</td>\n",
       "    </tr>\n",
       "    <tr>\n",
       "      <th>1115</th>\n",
       "      <td>None</td>\n",
       "      <td>Los migrantes indocumentados y la regulacidn d...</td>\n",
       "    </tr>\n",
       "    <tr>\n",
       "      <th>1116</th>\n",
       "      <td>None</td>\n",
       "      <td>Efectos de la migración indocumentada, remedio...</td>\n",
       "    </tr>\n",
       "    <tr>\n",
       "      <th>1117</th>\n",
       "      <td>None</td>\n",
       "      <td>a) Examen de los efectos negativos para los pa...</td>\n",
       "    </tr>\n",
       "    <tr>\n",
       "      <th>1118</th>\n",
       "      <td>None</td>\n",
       "      <td>b)Medidas especipcas, incluyendo acuerdos entr...</td>\n",
       "    </tr>\n",
       "    <tr>\n",
       "      <th>1119</th>\n",
       "      <td>None</td>\n",
       "      <td>Experts/Expertos</td>\n",
       "    </tr>\n",
       "    <tr>\n",
       "      <th>1120</th>\n",
       "      <td>None</td>\n",
       "      <td>The specific Circumstances and deep-rooted Cau...</td>\n",
       "    </tr>\n",
       "    <tr>\n",
       "      <th>1133</th>\n",
       "      <td>None</td>\n",
       "      <td>Information Papers Documents d'Information Doc...</td>\n",
       "    </tr>\n",
       "    <tr>\n",
       "      <th>1134</th>\n",
       "      <td>None</td>\n",
       "      <td>Participants Participantes</td>\n",
       "    </tr>\n",
       "  </tbody>\n",
       "</table>\n",
       "</div>"
      ],
      "text/plain": [
       "     article_author                                      article_title\n",
       "126            None          Books, Periodicals, Pamphlets, Statistics\n",
       "827            None                                       Book Reviews\n",
       "828            None          Books, Periodicals, Pamphlets, Statistics\n",
       "829            None  INTERGOVERNMENTAL COMMITTEE FOR MIGRATION COMI...\n",
       "952            None                                           Addendum\n",
       "953            None          Books, Periodicals, Pamphlets, Statistics\n",
       "1093           None  Bibliography on Undocumented Migrants or Migra...\n",
       "1094           None                                       Introduction\n",
       "1095           None                                       Introduction\n",
       "1096           None                                       Introduction\n",
       "1098           None                                           Preamble\n",
       "1099           None  Specific Motivations and Underlying Causes of ...\n",
       "1100           None  The Rights and Obligations of Migrants in Rece...\n",
       "1101           None  Undocumented Migrants and the Regularization o...\n",
       "1102           None  Effects of Undocumented Migration Possible Rem...\n",
       "1103           None  (a) Examination of the negative Effects for Co...\n",
       "1104           None  (b) Specific Measures, including Agreements be...\n",
       "1105           None                                          Préambule\n",
       "1106           None  Motifs spécifiques et causes profondes de la m...\n",
       "1107           None  Les droits et les obligations des migrants dan...\n",
       "1108           None  Les migrants sans documents et la régularisati...\n",
       "1109           None  Effets De La Migration Sans Documents Rem6Des ...\n",
       "1110           None  a)Examen des effets nkgatifs de la migration s...\n",
       "1111           None  b)Mesures spécifiques, et notamment accords en...\n",
       "1112           None                                          Preambulo\n",
       "1113           None  Motivos especijicos y causas profundas de la m...\n",
       "1114           None  Los derechos y las obligaciones de los migrant...\n",
       "1115           None  Los migrantes indocumentados y la regulacidn d...\n",
       "1116           None  Efectos de la migración indocumentada, remedio...\n",
       "1117           None  a) Examen de los efectos negativos para los pa...\n",
       "1118           None  b)Medidas especipcas, incluyendo acuerdos entr...\n",
       "1119           None                                   Experts/Expertos\n",
       "1120           None  The specific Circumstances and deep-rooted Cau...\n",
       "1133           None  Information Papers Documents d'Information Doc...\n",
       "1134           None                         Participants Participantes"
      ]
     },
     "execution_count": 13,
     "metadata": {},
     "output_type": "execute_result"
    }
   ],
   "source": [
    "df[(df.issue_pub_year == 1983) & (df.article_author.isna())][['article_author', 'article_title']]"
   ]
  },
  {
   "cell_type": "markdown",
   "metadata": {},
   "source": [
    "These records of the same publication in multiple languages has consequences for the content analysis of the titles. Although most words across the three languages do not overlap, some do, and counting all three versions would artificially inflate their counts in a frequency analysis. "
   ]
  },
  {
   "cell_type": "code",
   "execution_count": null,
   "metadata": {},
   "outputs": [],
   "source": []
  },
  {
   "cell_type": "code",
   "execution_count": null,
   "metadata": {},
   "outputs": [],
   "source": []
  },
  {
   "cell_type": "code",
   "execution_count": null,
   "metadata": {},
   "outputs": [],
   "source": []
  }
 ],
 "metadata": {
  "kernelspec": {
   "display_name": "Python 3",
   "language": "python",
   "name": "python3"
  },
  "language_info": {
   "codemirror_mode": {
    "name": "ipython",
    "version": 3
   },
   "file_extension": ".py",
   "mimetype": "text/x-python",
   "name": "python",
   "nbconvert_exporter": "python",
   "pygments_lexer": "ipython3",
   "version": "3.8.5"
  },
  "toc": {
   "base_numbering": 1,
   "nav_menu": {},
   "number_sections": true,
   "sideBar": true,
   "skip_h1_title": false,
   "title_cell": "Table of Contents",
   "title_sidebar": "Contents",
   "toc_cell": false,
   "toc_position": {},
   "toc_section_display": true,
   "toc_window_display": false
  }
 },
 "nbformat": 4,
 "nbformat_minor": 4
}
