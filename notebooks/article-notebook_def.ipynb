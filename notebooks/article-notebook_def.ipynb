{
 "cells": [
  {
   "cell_type": "code",
   "execution_count": null,
   "metadata": {
    "tags": [
     "hermeneutics"
    ]
   },
   "outputs": [],
   "source": [
    "%reload_ext autoreload\n",
    "%autoreload 2"
   ]
  },
  {
   "cell_type": "code",
   "execution_count": null,
   "metadata": {
    "tags": [
     "hermeneutics"
    ]
   },
   "outputs": [],
   "source": [
    "import pandas as pd\n",
    "import altair as alt"
   ]
  },
  {
   "cell_type": "markdown",
   "metadata": {
    "tags": [
     "title"
    ]
   },
   "source": [
    "# Fifty Years of Technocracy. International Migration Management as an Evolving Discourse Coalition."
   ]
  },
  {
   "cell_type": "markdown",
   "metadata": {
    "tags": [
     "contributor"
    ]
   },
   "source": [
    "- Marijke van Faassen - Huygens ING (marijke.van.faassen@huygens.knaw.nl)"
   ]
  },
  {
   "cell_type": "markdown",
   "metadata": {
    "tags": [
     "contributor"
    ]
   },
   "source": [
    "- Rik Hoekstra - Huygens ING (rik.hoekstra@di.huc.knaw.nl)"
   ]
  },
  {
   "cell_type": "markdown",
   "metadata": {
    "tags": [
     "contributor"
    ]
   },
   "source": [
    "- Marijn Koolen - Huygens ING (marijn.koolen@di.huc.knaw.nl)"
   ]
  },
  {
   "cell_type": "markdown",
   "metadata": {
    "tags": [
     "title"
    ]
   },
   "source": [
    "## Introduction"
   ]
  },
  {
   "cell_type": "markdown",
   "metadata": {
    "tags": [
     "narrative"
    ]
   },
   "source": [
    "In 1964 the American demographer and sociologist William Petersen wrote a review article on several books on refugee studies (<cite data-cite=\"3655479/HIVHZPDF\"></cite>). Except for some studies on the German refugee problem, at that time still an important issue due to the millions of post-World War II ethnic and non-ethnic German expellees from Central and East Europe on German soil, Petersen also reviewed the first issue of a new journal called _International Migration: Quarterly review on the role of migratory movements in the contemporary world_ (IM). The journal was ‘sponsored’ by the so called Intergovernmental Committee for European Migration (ICEM) and was in fact a merger between two journals: ICEM’s own journal Migration and the bulletin of the so called Research Group for European Migration Problems (REMP), the _REMP-bulletin_. Petersen praised the high scientific quality of one of the REMP-monographs he also reviewed, but he was extremely critical about this first journal issue. He not just saw the efforts of the Intergovernmental Committee for European Migration to assist migrants to move from Europe as a mere duplication of the purposes of the in 1952 established UN High Commissioner for Refugees, he also questioned the character of the newly established journal: ‘If the first number of International Migration is a good indication, the shift from the REMP Bulletin has been one from a scholarly journal to a self-aggrandizing house organ. \\[...\\] Most of the articles are by agency officials rather than scholars.’ (<cite data-cite=\"3655479/HIVHZPDF\"></cite>) (Petersen 1964, 419-421)."
   ]
  },
  {
   "cell_type": "markdown",
   "metadata": {
    "tags": [
     "hermeneutics"
    ]
   },
   "source": [
    "Sources differ in their spelling of the name Günther Beijer, using either Beijer or Beyer. We use Beijer throughout the article and the underlying data. \n",
    "\n",
    "In this article we refer to the personal archival collection of Günter Beijer (IISG Amsterdam) as (Beijer archive, inv.nr. xx) (<cite data-cite=\"3655479/B8X95E7G\"></cite>).\n",
    "\n",
    "<b style=\"color:red\">In de slack discussie staan nog wat links naar de missies van de twee journals. Die toevoegen? Marijn: ja, plak ze er i.i.g. in, dan kunnen we bespreken en beslissen. De missies ondersteunen ons punt en laat zien dat het niet alleen onze eigen interpretatie is.</b>\n"
   ]
  },
  {
   "cell_type": "markdown",
   "metadata": {
    "tags": [
     "narrative"
    ]
   },
   "source": [
    "The Intergovernmental Committee for European Migration is nowadays better known under its current name International Organisation for Migration (IOM). It is one of the bigger players in the field of regulating global migration, albeit not an undisputed one. Currently, in particular IOM’s ‘voluntary’ return programs and IOM’s participation in Australia’s refugee policy in the Pacific are subject to criticism (<cite data-cite=\"3655479/42V6U65E\"></cite>, <cite data-cite=\"3655479/YNB8MWYT\"></cite>) (e.g. Andrijasevic and Walters 2010; Fleay and Hoffman 2014). Since the establishment of the Provisional Intergovernmental Committee for the Migration from Europe (PICMME), the predecessor of both ICEM and IOM, scholars have been struggling to characterize this organization."
   ]
  },
  {
   "cell_type": "markdown",
   "metadata": {
    "tags": [
     "narrative"
    ]
   },
   "source": [
    "Interestingly enough, in 2018, the German geographer and critical IOM-expert Martin Geiger made comparable observations, as Petersen did 55 years before, that IOM strategically time and again positions itself by actively disseminating a self representation (via its website), that does not necessarily coincide with its behind-the-scenes-character or daily practices . The scholarly debate on international migration has been characterized over the past 30 years by a focus on globalization and a paradigm shift to the study of migration management. The key actors in migration management are the nation states and also the international meetings and organizations consisting of trained experts. They have become more and more the subject of current discourses around the legitimacy of technocratic governance. Geiger and Koch  (<cite data-cite=\"3655479/3CFRXHVE\"></cite>) (2018) conceptualize the ‘intergovernmental’ IOM as a ‘world organization’ as IOM has relations with both state and non-state actors, such as NGOs or civil society. This, they argue, makes it possible to analyze which actors participate in the decision-making process, how they participate, and with what authority. Although they start to describe IOM’s history from the start in 1951, their analysis of the early years and especially the 1960s remains fragmentary. Their jump to the mid 1980s leaves ICEM/IOMs historical roots understudied and especially its apparent relation with the expert group REMP, thus leaving ICEM/IOMs  technocratic character (<cite data-cite=\"3655479/3CFRXHVE\"></cite>, p.39) unexplained."
   ]
  },
  {
   "cell_type": "markdown",
   "metadata": {
    "tags": [
     "narrative"
    ]
   },
   "source": [
    "In this article we will historicize the concept of migration management and unravel the connections between - allegedly technocratic - experts in REMP and ICEM/IOM. We do this by discussing the concept of ‘world organization’ used by Geiger and by operationalizing the concept of discourse coalitions, that is constellations between (academic) experts and actors in the political system who share ideas and  interact, thus strengthening each other's arguments. This will enable us to specify our main research question and to pose the additional sub questions necessary to explore digital methods to lay bare networks of technocrats shaping migration management interactively with national governments. "
   ]
  },
  {
   "cell_type": "markdown",
   "metadata": {
    "tags": [
     "title"
    ]
   },
   "source": [
    "## ICEM and the conceptual challenges"
   ]
  },
  {
   "cell_type": "markdown",
   "metadata": {
    "tags": [
     "narrative"
    ]
   },
   "source": [
    "As successor of the temporary UN International Refugee Organization (IRO) in 1951, ICEM  framed itself as a  purely technical post-war refugee transport organization, but it rather was an organization that in the first decennia of its existence focused especially on stimulating migration of labour surpluses from Europe and had highly political aims that were born from a combination of the post war  ‘one world’ ideology and Cold War reality (<cite data-cite=\"3655479/MKBTDHSV\"></cite>, Ch.3; <cite data-cite=\"3655479/6T5CAR8S\"></cite>)(Van Faassen 2014, Ch.3; Parsanoglou 2015). Its twofold objectives and its non-permanent status till the end of the 1980s outside the United Nations family was probably the cause that it remained understudied by both refugee studies and international relations and migration studies for almost forty years. This changed when the scholarly debate on international migration started to concentrate on the study of migration management and researchers discovered the new global ambitions of ICEM in this field. These ambitions found their expression in a new constitution and two name changes, first the skipping of the regional ‘Europe-part’, resulting in ICM in 1980, followed by the shift from ‘intergovernmental committee’ to the more inclusive sounding ‘International organization’ IOM in 1987 when the organization also  obtained a permanent  status, which suggested a governance system in which not only states but also other non-state actors play a role (<cite data-cite=\"3655479/X56S34DQ\"></cite>)(Perruchoud 1987). Since then, a lot of critical studies on ICEM/IOM have been published. Although IOM’s genesis and early history of the 1950s is well known by now, most of them pay little or no attention  to the in-between decades,  the 1960s-1980s, and the developments in the research that was ‘sponsored’ by the organization. In this way,  scholars neglected the merger of the journals of ICEM and the till now further unnoticed  REMP research group, as well as the early critical notes on the character of ICEM and its self representation for a wider public, that William Petersen put his finger on in his review (<cite data-cite=\"3655479/HIVHZPDF\"></cite>). \n"
   ]
  },
  {
   "cell_type": "markdown",
   "metadata": {
    "tags": [
     "narrative"
    ]
   },
   "source": [
    "In their article, Geiger and Koch (<cite data-cite=\"3655479/3CFRXHVE\"></cite>, 27)(2018, 27) propose to conceptualize IOM as a ‘world organization’, in other words as an International Organization embedded in world society with relations with a multitude of different actors. With this new concept they follow the so-called organizational turn in the field of International Relation studies that propose to not only study ‘states’ but to broaden the focus to the organizational character of the actual organizations as well, in order to solve the lack of a firm and common theoretical framework in the critical IOM studies thus far and to get a better understanding of IOM by bringing some of the pieces of the IOM-puzzle together. The four dimensions they suggest to explore - IOM’s semantic self-description and relations to the world; its inner world (structures, processes and participation in decision making); its environmental or external relations and its role in generating world order - are without doubt suitable for a more inclusive analysis of IOM and its interorganizational networks."
   ]
  },
  {
   "cell_type": "markdown",
   "metadata": {
    "tags": [
     "narrative"
    ]
   },
   "source": [
    "However, given their subsequent analysis of IOM’s historical roots (<cite data-cite=\"3655479/3CFRXHVE\"></cite>, 30-32) the concept is too static without a historical dimension and does not address the issues of its genesis or the dynamics of interaction. By historicizing IOM we move away from the aggregate level of the organizational actors and break them down in their constituent historical (human) actors, their contacts and (policy) arguments. This allows us for instance to question the assumption that ‘meaningful inter-state discussions and dialogues between states and international organizations on migration are a post-Cold war phenomenon (starting 1989-90) with the exception of the European Community’ (<cite data-cite=\"3655479/3CFRXHVE\"></cite>, 31). In previous research we have shown by following internal debates between ICEM key actors that ICEM in its earlier decades already facilitated informal multilateral discussions outside Europe on international migration - including consultations with local civil society actors (<cite data-cite=\"3655479/MKBTDHSV\"></cite>)(Van Faassen 2014, esp. 308-311). The more or less finalist approach also leads to inaccuracies in the accusation that IOM is ‘catering exclusively to the restrictive interests of Global North receiving states’ (<cite data-cite=\"3655479/PL633QM8\"></cite>, as cited in <cite data-cite=\"3655479/3CFRXHVE\"></cite>, 34)(Georgi 2010, as cited in Geiger and Koch 2018, 34). This overlooks the fact that important Global North member states like the Federated Republic of (West-)Germany, the Netherlands, Italy, Austria, Greece and Spain in the 1950s and 1960s still considered themselves primarily as sending states (<cite data-cite=\"3655479/A8BVBSQP\"></cite>, <cite data-cite=\"3655479/94XUYCEW\"></cite>, <cite data-cite=\"3655479/MKBTDHSV\"></cite>, <cite data-cite=\"3655479/6T5CAR8S\"></cite>)(Steinert 1995, Freund 2004, Van Faassen 2014, Parsanoglu 2015). As their concept of ‘world organization‘ is also meant to contribute to the emerging field of political sociology, we therefore combine it in this article with the concept of so-called discourse-coalitions, with reference to the argumentative turn in the field of the political sciences (<cite data-cite=\"3655479/W6F88F74\"></cite>)(Fischer and Forester 1993)."
   ]
  },
  {
   "cell_type": "markdown",
   "metadata": {
    "tags": [
     "narrative"
    ]
   },
   "source": [
    "Dutch political scientist Maarten Hajer (<cite data-cite=\"3655479/7A2RCVBK\"></cite>)(1995) describes a discourse-coalition in short as ‘ a group of actors who share a social construct’ and points out that discourse formation takes place on many different levels and in many different localities and that the discursive elements (narratives or storylines) have an important organizational potential, because they have an agenda setting purpose. One of the benefits of the concept according to Hajer is that it enables analysis of strategic action in the context of sociohistoric discourses and institutional practices and especially offers a tool to analyse specific issues. Below, we will demonstrate that this is the case for ‘migration management’. German historian and sociologist Lutz Raphael (<cite data-cite=\"3655479/UHF3TATW\"></cite>)(2012) uses the discourse-coalitions concept to analyse the embedding of social sciences in Western Societies and especially in politics. In his view discourse coalitions can be seen as constellations at any given time in which social scientists (experts) develop ideas ‘that strengthen the arguments of a group of actors in the political system, whose policies might, in turn, support the standing of these scientists in academia’ (paraphrase by <cite data-cite=\"3655479/W5TM5GI3\"></cite>, 8)(paraphrase by Brückweh et. al, 8). This is particularly important, as we demonstrated in our previous research that REMP was constituted and based in the Netherlands on the initiative of Dutch demographers and sociologists, who had firm connections to the Dutch Government Commissioner for Emigration Bas Haveman (1908-1979). Haveman led ICEM between 1961-1969 as the only non-American Director-General till 2018 (<cite data-cite=\"3655479/MKBTDHSV\"></cite>, <cite data-cite=\"3655479/PGU7H2H8\"></cite>)(Van Faassen 2014, 2017; Van Faassen and Hoekstra 2017). Furthermore, Lutz offers a typology consisting of varying configurations of the ‘building blocks’ of such a discourse coalition in general, that is the ideas or metaphors, the experts, the clients, the techniques or technologies used and the institutions. Different configurations that were dominant in specific periods between 1880-1980. This framework is helpful for analysing the supposedly but still insufficiently explained technocratic character of ICEM/IOM (<cite data-cite=\"3655479/3CFRXHVE\"></cite>, 39)(Geiger and Koch 2018, 39) as we will demonstrate."
   ]
  },
  {
   "cell_type": "markdown",
   "metadata": {
    "tags": [
     "narrative"
    ]
   },
   "source": [
    "Combining both the concepts of World Organization and discourse coalitions thus offers us the opportunity to analyse the apparent relation between the almost unknown Research Group for European Migration Problems (REMP) and ICEM/IOM. Given the merger of their journals, REMP was seemingly a part of the ‘external environment’ of ICEM/IOM. But can REMP also be seen as a discourse coalition originating in the Netherlands in the early 1950s?  In this article we want to substantiate a mutual influencing of REMP-experts and ICEM-political or administrative actors over the years through discursive elements and state that it formed the nexus between science and politics in what nowadays is called international ‘migration management’. We also will substantiate and explain how  this supposed discourse coalition developed through time."
   ]
  },
  {
   "cell_type": "markdown",
   "metadata": {
    "tags": [
     "narrative"
    ]
   },
   "source": [
    "We chose a mixed methods approach of close reading and distant reading using digital techniques. For digital analysis we constructed datasets based on both analogue information from archive collections and REMP-publications and long-running journals like International Migration with metadata and title content publicly available online. Writing this article for a three-layered online Journal on Digital History gave us an excellent opportunity to use and test the data scopes concept we developed in previous research (<cite data-cite=\"3655479/ABRHNR4T\"></cite>)(Hoekstra and Koolen 2018). The idea of this concept is to facilitate doing and communicating on digital research and its sources by describing the iterative steps that have to be taken to study them, by accounting for the decisions taken and make replication possible. In the following sections we first elaborate on the historical roots of REMP, ICEM and the Dutch connection and operationalize the concept of discourse coalition for this specific case to show where technocracy comes in. This gives us a clue to formulate sub questions necessary to select and compose our datasets. Following this, we present our digital sources, discuss missing links in some of them and present the methodological translation we had to make to answer our main research questions. Finally we analyse and explain our results and address the robustness of our choices."
   ]
  },
  {
   "cell_type": "markdown",
   "metadata": {
    "tags": [
     "title"
    ]
   },
   "source": [
    "## Dutchs connections to REMP and ICEM"
   ]
  },
  {
   "cell_type": "markdown",
   "metadata": {
    "tags": [
     "narrative"
    ]
   },
   "source": [
    "Technocracy tends to present itself as ‘above politics’, but in the last decades scholars have been actively demystifying the technocratic conception of policy analysis as neutral ‘science’, thus bringing to the surface the politics that is inherent in it. (<cite data-cite=\"3655479/RD3NVU4A\"></cite>, , <cite data-cite=\"3655479/ARPE8PPK\"></cite>)(Fischer 1993; Nord 2010; Habermas 2015). Technocracy is often defined as controlling or replacing democratic deliberation, which is usually based on finding a compromise between conflicting interests,  with a more neutral sounding science-based governance discourse where political issues are more or less transformed into undisputed, technically defined ends that can be pursued through administrative means. Although Raphael (<cite data-cite=\"3655479/UHF3TATW\"></cite>)(2012) does not focus on ‘technocracy’ as such, he argues that discourse coalitions originate in the desire to make scientifically informed policy. Therefore, his suggestion to study the impact of ‘expertise’ by a combined analysis of both the networks of actors from different backgrounds in academia, administration and political parties and the networks of discourses they produce is in fact a helpful tool to unravel the technocratic character of certain issues in politics, because it lays bare how the concepts and arguments of the social and human sciences got linked to the political domain and vice-versa. Thus, Lutz argues, using the concept of discourse coalitions requires elementary prosopographic evidence (whenever available), but also a keen eye for the actual genesis of possible expert groups. Below, we first discuss the founding years of the Dutch emigration governance system, REMP and especially the predecessor of ICEM, the Provisional Intergovernmental Committee for the Movement of Migrants from Europe (PICMME). By using Lutz’ typology of the configuration of discourses and metaphors used in those periods we study the initial connections between social science expertise and international migration. This analysis gives rise to conclusions and questions about the relation between REMP and ICEM and to sub questions to select our sources and construct our datasets to answer our main research questions. "
   ]
  },
  {
   "cell_type": "markdown",
   "metadata": {
    "tags": [
     "narrative"
    ]
   },
   "source": [
    "The merger in 1961 between the REMP-bulletin and ICEMs magazine that William Petersen reviewed coincided with the American and Australian lobby for the Dutchman Bas Haveman as the new Director-General of ICEM. Haveman was a social-democratic chemical engineer from Delft Polytechnic University who also studied law at Leiden University and had been appointed Dutch Government Commissioner for Emigration in November 1950. But both Haveman and REMP already had a history, that is important to understand the genesis of REMP. The roots of the Dutch migration policies lie at the end of the 19th and the first half of the 20th century, periods that are characterized by discourses on ‘social reform’, targeted on the ‘working poor’  (1880-1910) and ‘social engineering’ (1910-1940). According to Raphael (<cite data-cite=\"3655479/UHF3TATW\"></cite>)(2012), especially after World War I the interventions were grounded in social science research and were based on arguments concerning ‘fear of degeneration’ and - more positively formulated - ‘national recovery’, with discourses around ‘demography’ , ‘community’ or ‘eugenics'. The Dutch migration policies fit well into Raphael’s characterization of the impact of expert-influence in the Western societies in general. "
   ]
  },
  {
   "cell_type": "markdown",
   "metadata": {
    "tags": [
     "narrative"
    ]
   },
   "source": [
    "Although today’s polarized debates on economic migration seem to suggest otherwise, for more than a century states have considered (international) migration – and thus the regulation of it - as a sound instrument for the (re)allocation of labour. In 1913, the Netherlands Association for Resettlement (landverhuizing)  was founded, as a hybrid private-public organization. Amongst its initiators were the liberal Minister of Agriculture Willem Treub and an engineer from Delft Polytechnic University, Isaac Pieter de Vooys. Both were still working on their final report by the State Commission on Unemployment, in which they explored internal and international migration as possible solutions (<cite data-cite=\"3655479/MKBTDHSV\"></cite>)(Van Faassen 2014).  De Vooys was also part of an intellectual movement that has been described as synthetic technocracy, that was looking for  a synthesis that would bridge ideological differences and thus stop the fragmentation of Dutch society which was divided along religious lines (so called pillarization) at that time, and that paralyzed Dutch political decision-making in their view. "
   ]
  },
  {
   "cell_type": "markdown",
   "metadata": {
    "tags": [
     "narrative"
    ]
   },
   "source": [
    "During the interbellum their quest became increasingly connected with proposals for educational reform (<cite data-cite=\"3655479/N46966HL\"></cite>, 91)(Baneke 2011, 91)  and the movement began to coincide with the educational program of the socially engaged Professor Sebald Steinmetz. He developed a new research style called ‘sociography’ (the predecessor of sociology) focussing on empirical research on Dutch social groups and communities in relation to different people internationally. One of his students initiated the so-called People’s High School Movement in the Netherlands. This had comparable aims to the technocrats and attracted other Dutch  sociographers, like Evert Hofstee and Pieter Bouman who later also played a role in REMP. During the world wide economic crisis of  the 1930s the Friesland High School organized combined employment and emigration courses, thus creating the possibilities for demography-based politics. One of the teachers was Bas Haveman (the later Government commisioner), who had previously been the secretary of the “Stichting Nederlands Volkskracht” (Dutch People's Power Foundation) that aimed at moral and physical  training of unemployed youth, to prevent ‘moral decay’ and to stimulate ‘community spirit’ (gemeenschapszin) especially to bridge the then perceived gaps in mentality between city and countryside (<cite data-cite=\"3655479/MKBTDHSV\"></cite>, <cite data-cite=\"3655479/PGU7H2H8\"></cite>)(Van Faassen, 2014, Van Faassen and Hoekstra 2017)."
   ]
  },
  {
   "cell_type": "markdown",
   "metadata": {
    "tags": [
     "narrative"
    ]
   },
   "source": [
    "After World War II social engineering did not disappear, but emanating in the USA and the UK, it became \n",
    "instrumental for establishing a peaceful and above all a ‘planned modernization’, in which welfare states could be extended, according to Raphael (<cite data-cite=\"3655479/UHF3TATW\"></cite>)(2012). Metaphors for this modernization discourse were ‘assimilation’ and 'adaptation’. Again the Netherlands were no exception to the general picture. Already during the war the Dutch government had started to investigate possibilities for a so-called active migration policy, emanating from a Keynesian aspiration for full employment. It based its post-World-War II socioeconomic policy on two cornerstones. In order to prevent structural unemployment, industrialization was to be encouraged. In addition, large-scale family emigration to overseas destinations was stimulated and facilitated. This not only enabled the Dutch government to manipulate the supply side of the labour market, but also to avoid the at that time unwanted demographic solutions like birth control in the still religious Netherlands, which had the highest increase in population forecast till the 1960s, due to its sky high birth rates (<cite data-cite=\"3655479/MKBTDHSV\"></cite>, <cite data-cite=\"3655479/PGU7H2H8\"></cite>)(UN Population forecast 1951; Van Faassen 2014, Van Faassen and Hoekstra 2017). Not surprisingly, when Haveman was appointed Government Commissioner for Emigration in 1950 he believed that migration policy had to be science-based and planning was only possible if he had an insight into the migration potential of the Dutch population."
   ]
  },
  {
   "cell_type": "markdown",
   "metadata": {
    "tags": [
     "narrative"
    ]
   },
   "source": [
    "Therefore he established close connections between his Commissioner’s Office of Emigration, based at the ministry of Social Affairs and social scientists and demographers, most of them from his former High School networks. He also established new acquaintances. Amongst them was the German political economist and demographer Günther Beijer, who fled to the Netherlands in 1933. Beijer was praised in Petersen’s review as the one who ‘created and sustained the Research Group for European Migration Problems’ - he was editor of the REMP-publication series till his death in 1983 - and who ‘achieved an enviable reputation among demographers’ (<cite data-cite=\"3655479/HIVHZPDF\"></cite>, 420)(Petersen 1963, 420). According to his biographer, Beijer was also known for his skills in ‘facilitating a dialogue between politicians and demographers’ (<cite data-cite=\"3655479/LEZ48HY3\"></cite>, 3)(Van de Kaa 1983, 3). Haveman met Günther Beijer when they both were introduced to the American Delegation during its stopover in The Hague, just before the start of the founding Conference of PICMME in Brussels, Belgium in november 1951, and only a few months before REMP was established in March 1952 (<cite data-cite=\"3655479/B8X95E7G\"></cite>)(IISG, collection Beijer, inv.nr. 33)."
   ]
  },
  {
   "cell_type": "markdown",
   "metadata": {
    "tags": [
     "narrative"
    ]
   },
   "source": [
    "In his latest analysis of IOM, Geiger (<b style=\"color:red\">Add citation</b>)(2018) does not connect the founding of IOM’s predecessor PICMME with the history of the International Labour organization (ILO), the International Refugee Organization (IRO) and the United Nations High Commissioner on Refugees (UNHCR), although such an analysis was part of older ILO-studies (<cite data-cite=\"3655479/QL6MHJ3H\"></cite>)(Alcock 1971). This interconnectedness is of importance for recognizing some of the technocratic arguments that accompanied the establishment of PICMME/ICEM, to better understand its longtime existence outside the UN as well as the Dutch influence in ICEM. The Netherlands took an active part in the international emigration debate after World War II, in which every country had its own agenda, while humanitarian and economic arguments concerning manpower became inseparably linked to arguments on collective security due to quickly deteriorating East-West relations.  Another element of Haveman’s job was strengthening international contacts. He acquired his first international experience as a social-economic expert in the Dutch delegation to the United Nations (UN) as a member of the Special Committee on Refugees and Displaced Persons, that  set up the International Refugee Organization (IRO) in 1946, a temporary UN-agency in which the Eastern (communist) European countries decided not to participate. In this role Haveman worked closely with United States (US) delegate George L. Warren, who was the State Department’s advisor on refugees and later became the head of the American delegation to ICEM till the mid-1960s (<cite data-cite=\"3655479/MKBTDHSV\"></cite>, <cite data-cite=\"3655479/QGLAUNK7\"></cite>)(Van Faassen 2014, 2017)."
   ]
  },
  {
   "cell_type": "markdown",
   "metadata": {
    "tags": [
     "narrative"
    ]
   },
   "source": [
    "In the early 1950s, it was unclear which international institutions would regulate and be able to finance refugee and migrant flows. By the time the mandate of the IRO had expired at  the end of the 1940s the refugee problem had still not been resolved. The UN subsequently decided to establish the Office of the UN High Commissioner for Refugees (UNHCR), but with only a small administrative budget and at first without an operational mandate  (<cite data-cite=\"3655479/N6J5DKMR\"></cite>, <cite data-cite=\"3655479/BN3VJMLV\"></cite>)(Salomon 1991, Zieck 1997). Due to Cold War considerations and the ‘white’ migration policies of Canada and Australia, the Western countries were also looking for a continuation of the IRO services outside of the UN system with its communist and ‘non-white’ member states. The International Labour Organization tried to enhance its position by arguing that migration traditionally was a ‘labour-’ issue and therefore should ressort under ILO. In 1951, Haveman convinced the Dutch government that ILO should not emerge as winner of the battle over the IRO’s material legacy (the fleet, personnel and an administrative budget augmented by a US bonus of ten million dollars), even though the current social-democratic Dutch government initially favoured the ILO option because of the tripartite composition of its governing and plenary bodies with union and employers delegates. Haveman informed the Dutch government that during his travels to Canada and Australia, he had experienced resistance to ILO interference due to the non-Western input that was difficult to combine with the de facto white migration policy of both countries. Haveman had also been in touch with Warren and learned that the US Congress would not finance any operational ILO migration work due to strong anti-ILO forces in US domestic politics. As a result the Netherlands supported the solution,  of allocating the IRO legacy for one year to the PICCME, which was instigated and presented by US Congressman Francis E. Walter at the conference in Brussels in November 1951.  "
   ]
  },
  {
   "cell_type": "markdown",
   "metadata": {
    "tags": [
     "narrative"
    ]
   },
   "source": [
    "PICMME presented itself as purely a transport organization for refugees and displaced persons, temporarily offering technical solutions for what was publicly stressed as a humanitarian problem. However, internally the member states had agreed that its main function was to encourage and facilitate the economic migration of labour surplus from a disrupted Europe, giving  this ‘depoliticized’ agreement in fact a highly political background. The preference for bilateral contacts on migration remained, while at the same time ICEM facilitated multilateral discussions without asking for too much collective commitment from the member states because of its temporary status outside the UN-system. Therefore, in the long run it could even function as a safety valve for an integrating Europe: the moment the free movement of people within Europe actually would be regulated  - in which Germany and the Netherlands would likely become the ‘receiving’ countries - this inflow could be compensated by facilitating the overseas emigration of their own nationals using PICMME / ICEM facilities  (<cite data-cite=\"3655479/MKBTDHSV\"></cite>, <cite data-cite=\"3655479/6T5CAR8S\"></cite>)(Van Faassen 2014, Parsanoglou 2017). One of the advantages of this ‘light’ construction was that PICMME’s and from 1953 onwards  ICEM’s Executive Board, on which the Netherlands had an almost permanent seat until the 1970s, was only accountable to its own Council and thus could stay under the radar of the national parliaments. "
   ]
  },
  {
   "cell_type": "markdown",
   "metadata": {
    "tags": [
     "narrative"
    ]
   },
   "source": [
    "The day in november 1951 that Günther Beijer met Haveman at the US embassy in the Hague, Beijer was invited to inform Congressman Walter and the other American delegates about the plans he had developed since May 1950 to establish an international research group on European migration and refugee problems. This group, which would eventually become the Research Group of European Migration Problems (REMP) in 1952, initially was a bilateral Dutch-German initiative. Günther Beijer at that moment still was the only formal Dutch representative together with the German Bildungsökonom (education economist) Friedrich Edding, who worked at the Institut für Weltwirtschaft in Kiel. The aims of the research group was to find solutions for the fact that - in their analysis - the relations between population density, the age distribution, the labour potential and the national earning capacity had become so stressed in the second half of the 1940s, that there was a serious risk of social unrest that could endanger prosperity and that could only partially be solved on a national basis. As these Dutch and German researchers were ‘convinced that the integration of the national economies must be accompanied by free migration of labour’, they decided to join forces in order to investigate possible migration problems within Europe. The first studies were published in the spring of 1951 and offered to the US-delegation during the november meeting. Beijer stressed that the idea was to extend this research group ‘by inviting personalities from all nations, who are ready and able, by their scientific qualifications and practical experience, to co-operate on a basis free of national, party political and confessional bias’ (all citations IISG, collection Beijer, inv.nr.33) (<cite data-cite=\"3655479/B8X95E7G\"></cite>). "
   ]
  },
  {
   "cell_type": "markdown",
   "metadata": {
    "tags": [
     "narrative"
    ]
   },
   "source": [
    "In March 1952 the Research Group was formally established in The Hague. Beijer was appointed secretary and editor-in-chief. The Dutch sociographer Pieter Bouman, professor at Groningen University and personal friend of Government Commissioner Haveman, had been appointed to form the first board of directors. The provisional managing committee consisted of the Utrecht professor and sociographer Sjoerd Groenman and the catholic economist and sociographer professor George Zeegers. In its Mission Statement, REMP highlighted the ‘threat of overpopulation’ for the future prosperity of mankind. Regional unemployment and a falling standard of living could be the results of the disproportional distribution of humanity over the earth. They considered it ‘the imperative duty of scientists and statesmen …to concern themselves with these local disharmonies, by studying them and if possible by indicating solutions to the present difficulties’ (IISG, collectie Beijer, inv.nr. 30) (<cite data-cite=\"3655479/B8X95E7G\"></cite>). "
   ]
  },
  {
   "cell_type": "markdown",
   "metadata": {
    "tags": [
     "narrative"
    ]
   },
   "source": [
    " In July 1952 the Research Group organised its first international meeting to discuss its initial plans as expressed in a working paper. As Beijer had been invited by the Americans before the PICMME conference, in return the American Porter Jarrell was invited as an observer on behalf of Pierre Jacobsen, the deputy director of PICMME. He resolutely amended the REMP’s intended research plans, which were primarily focussed on intra-European migration. First he outlined PICMME’s activities: organising migrant transportation via field offices in Germany, Austria, Italy, Trieste and via chartered shipping from the Netherlands to Australia, Brazil, the USA and Venezuela and participating in bilateral agreements. Then he concluded that being so close to the day to day operation, PICMME realised that it might lose sight of the larger demographic implications of its work and therefore looked forward to the scientific studies of the Research Group ‘as possible guideposts for our program in the future’. However, to his view the Research Group was too much confined to intra-European migration only, probably because of ‘a certain distrust of overseas emigration as a cause for the weakening of the basic demographic structure of Europe.’ Jarrell argued that this was not necessary as both sending and receiving states were represented in PICMME. Thus PICMME offered the opportunity to counteract this danger by experimenting with the development of certain flexible controls concerning size, direction and composition of the outflow: ‘If the Research Group were to consider overseas migration it could well recommend to the various governments the nature of the “flexible controls” which might prove scientifically desirable’. The day after Jarrell left the conference Beyer sent him a letter to confirm that the REMP members fully shared Jarrell’s view and would also take overseas emigration into account as an object for study and advice. (all citations IISG, collectie Beyer, inv.nr.31) (<cite data-cite=\"3655479/B8X95E7G\"></cite>)."
   ]
  },
  {
   "cell_type": "markdown",
   "metadata": {
    "tags": [
     "narrative"
    ]
   },
   "source": [
    "It can be concluded not only that the actual founding of REMP and PICMME coincided, but, via the Dutch connection, also that the mutual lobbying and influencing already started during the formative months. The initial discourses concerning labour, population density and demography indicate that the historical actors concerned believed in a makeable welfare society, in which one possible instrument was social engineering via regulating quantity and type of in- and outflow within the respective national populations of the member states. In the Netherlands this was called ‘guided (geleide migratie)’ or ‘planned migration’ (<cite data-cite=\"3655479/5SKCBEUV\"></cite>)(Petersen 1955) and part of the ‘planned modernization’ discourse, as defined by Raphael (<cite data-cite=\"3655479/UHF3TATW\"></cite>). However, with Raphael’s remarks on prosopographic evidence in mind, to really substantiate that this expert group in the long run formed a discourse coalition on ‘migration management’ and to be able to discover and explain shifts in the presumed networks of actors and discursive elements, we have to establish who were the key scientists involved, and who were the key political actors. How were they connected to the key political actors and institutions mentioned above? And finally: what were the topics of this discourse and how did they develop? In the next section we reflect on the choices of sources and data and on the methodological choices we had to make to start answering these questions."
   ]
  },
  {
   "cell_type": "markdown",
   "metadata": {
    "tags": [
     "title"
    ]
   },
   "source": [
    "## The REMP network"
   ]
  },
  {
   "cell_type": "markdown",
   "metadata": {
    "tags": [
     "narrative"
    ]
   },
   "source": [
    "REMP was an informal association of social scientists that is much closer to political policy making (both national and international) than was previously known from the literature. This would make it an informal technocratic association, because of the association and the exchange of knowledge between public administrators and scientists. On the one hand this makes policy (in this case migration management) supposedly more rational because it is based on research and scientific insights. But at the same time, this kind of technocratic associations:\n",
    "\n",
    "- make policy making less transparant and less subject to democratic checks and balances, and\n",
    "- science may be used as a justification of politically motivated decisions; assuming that the research itself still conforms to scientific standards, it is relevant to compare the choice of subjects with the political agenda."
   ]
  },
  {
   "cell_type": "markdown",
   "metadata": {
    "tags": [
     "title"
    ]
   },
   "source": [
    "### Research Questions"
   ]
  },
  {
   "cell_type": "markdown",
   "metadata": {
    "tags": [
     "hermeneutics"
    ]
   },
   "source": [
    "Researching the discourse coalition consists of two parts. We first have to make it probable that there were networks that together can be considered to form a discourse coalition involving both researchers and admistrators. After the existence of this association is made likely, we can investigate what research content was produced in the networks. Both REMP and ICEM published journals and other research. To see if and how it was influenced by the REMP/ICEM discourse coalition, we will compare it with contemporary research about migration from a journal that was not associated with either REMP or ICEM. "
   ]
  },
  {
   "cell_type": "markdown",
   "metadata": {
    "tags": [
     "narrative"
    ]
   },
   "source": [
    "To investigate the technocratic nature of the coalition, we study the network of actors, to address the following research questions:\n",
    "\n",
    "1. Did REMP function as a nexus between public officials and social scientists in the 1950s, and if so, how?\n",
    "2. ICEM was founded in approximately the same time as REMP. They appear to have gotten closer ties from 1961, when the _REMP bulletin_ became part of the _International Migration_ journal. Was the nexus of REMP science-officials carried over and elaborated in ICEM in the 1960s and beyond?\n",
    "3. At what time did the connection cease or transform and was there a relation with the change of IC(E)M into IOM?"
   ]
  },
  {
   "cell_type": "markdown",
   "metadata": {
    "tags": [
     "title"
    ]
   },
   "source": [
    "#### From Concept to Research Strategy"
   ]
  },
  {
   "cell_type": "markdown",
   "metadata": {
    "tags": [
     "narrative"
    ]
   },
   "source": [
    "We are trying to establish the existence of a discourse coalition, that is to say, associations between scientists and policy makers who are part of administration. The separation between scientists and public administration is by no means absolute. Discourse coalitions evolve over time as persons changed roles, both within and across the academic and administration sides of the aisle, and their working relationships and associations with each other changed.\n",
    "\n",
    "A discourse coalition is a concept, an analytical construct that is used to characterize a perceived association between researchers and public administrators based on discursive characteristics. The REMP and ICEM discourse coalition was never a static network, but it evolved over time. Because of this, we have to use different data and datasets for evidence. The evidence for the discourse coalition is collected in two different ways:\n",
    "\n",
    "1. by close reading archival materials in which the association between public administrators and researchers is mentioned, either implicitly or explicitly, \n",
    "2. by measuring the association between researchers and public administrators in one or more networks. \n",
    "\n",
    "In this case, we are talking about several networks as migration management is a long running and increasingly international issue that have to face challenges that change over the years. The connection between the public administrators and the scientists can be established if they take part in the activities of the same organisation. In this case, the organisations are REMP and ICEM and the activities we have evidence of are research publications in the form of books, articles and other writings, like supplements. \n",
    "\n",
    "The data are localized in time and in scope that we have outlined in the diagram below (see figure 1)"
   ]
  },
  {
   "cell_type": "markdown",
   "metadata": {
    "jdh": {
     "object": {
      "source": [
       "figure 1: Diagram of Datasets"
      ]
     }
    },
    "tags": [
     "figure-1"
    ]
   },
   "source": [
    "<img src=\"../images/diagram_1.png\">"
   ]
  },
  {
   "cell_type": "markdown",
   "metadata": {
    "tags": [
     "title"
    ]
   },
   "source": [
    "#### Data sets"
   ]
  },
  {
   "cell_type": "markdown",
   "metadata": {
    "tags": [
     "narrative"
    ]
   },
   "source": [
    "Our research materials consist of both types of materials. The archival materials that lend themselves for close reading mainly stem from the Ministery of Social Affairs at the National Archives The Hague and the private collection of Günther Beijer at the International Institute for Social History in Amsterdam. ICEM and its successor IOM are international organizations, of which the archives are essentially closed for researchers. Although a large part of the ICEM-archive of the Dutch representatives can be found in the archival collection of Social Affairs, this is not a correspondence archive and thus not very suited for answering these research questions. As it is, from Beijers collection, which has several files on REMP, it is clear that both REMP and ICEM originated at the same time in the early 1950s and in their inception involved some of the same key people, even if they were separate organizations. But this is not the same as stating that they were part of a joined initiative or project.\n",
    "\n",
    "We have different long-running datasets that make it possible to establish the overlap between the different organizations involved. Because we are talking about a research-administrative coalition the datasets contain documents from both research and from the administration, the latter being the relevant boards and governments involved with REMP and ICEM. As researchers publish, covering scientific output provides more detailed information per person than just the fact that they occupied an administrative positions.\n",
    "\n",
    "Below, we have indicated for the datasets which aspect of the discourse network they contain, including the key persons for the network."
   ]
  },
  {
   "cell_type": "markdown",
   "metadata": {
    "tags": [
     "hermeneutics",
     "narrative"
    ]
   },
   "source": [
    "**I** - The ministery of Social Affairs and mainly the _Regerings Commissaris voor Emigratie_ (RCE, English: _Government Commissioner for Emigration_), **Bas Haveman** (but also other politicians and administrators) were very much interested in emigration affairs and in founding policy on scientific data, mainly sociology, statistics and demography. (<cite data-cite=\"3655479/MKBTDHSV\"></cite> Van Faassen, 2014, esp. pp.8, 231-232, 277-279)"
   ]
  },
  {
   "cell_type": "markdown",
   "metadata": {
    "hide_input": true,
    "tags": [
     "hermeneutics",
     "narrative"
    ]
   },
   "source": [
    "**II**- ICEM and IOM directors and deputy-directors. **Haveman** was one of the directors (1961-1969)\n",
    "Data derive from <cite data-cite=\"3655479/MKBTDHSV\"></cite> Van Faassen, _Polder en emigratie_, 266-277, https://www.iom.int/iom-history; https://www.iom.int/directors-general-and-deputy-directors-general. \n",
    "\n",
    "- the ICEM directors were important in international migration management "
   ]
  },
  {
   "cell_type": "markdown",
   "metadata": {
    "tags": [
     "hermeneutics",
     "narrative"
    ]
   },
   "source": [
    "**III** - About REMP see above. It was founded in 1952 by **Günter Beijer**. REMP Board membership lists exist from 1952, 1954 and 1969 and a supplement from 1961. The board consisted of scientists, a lot of whom also had had or still had jobs in administrative or political advisory positions, administrators and some politicians, from the Netherlands and abroad. (see spreadsheet **sheet persoonscategorieen**). This is evidence that these persons were formally associated in the REMP organization in the 1950s until (at least) 1969. Data derive from the 1954, 1961, 1969 listings in the Beijer Archive (IISG, inv.nr.30) and for the 1952 listing the backcover of REMP publications no. VII (<cite data-cite=\"3655479/GVTVTC3K\"></cite> Hofstee 1952)\n",
    "\n",
    "- REMP board members were important in migration research, at first mainly in the Netherlands and Germany."
   ]
  },
  {
   "cell_type": "markdown",
   "metadata": {
    "tags": [
     "hermeneutics",
     "narrative"
    ]
   },
   "source": [
    "**IV** - REMP publication series and ICEM-funded series. \n",
    "\n",
    "\n",
    "* Studies over NL emigratie\n",
    "* Studies in Social Life (1953-1974, only migration studies)\n",
    "* REMP Bulletins Supplements (1954-1984)\n",
    "\n",
    "The common research interests and associations between the public administrators and the scientistsis can be derived from the several series of publications from REMP. Apart from the authors of the studies themselves, these studies reveal persons in different roles. There were writers of prefaces and introductions and people who funded research that all had different contributions. \n",
    "\n",
    "The prefaces and introductions were often written by administrators or politicians who also financed the publication or the research or both, but did not contribute to the content. This is not to say that the research was not independent in a scientific sense, but that there was a direct interest in the subject and that the study was considered beneficial for the process of policy making or evaluation. **Günter Beijer**, who founded REMP, was the editor in chief of the **REMP  and Social Life** series throughout the 1950s, 1960s and 1970s.\n",
    "\n",
    "- the titles of the collection and the different roles represented in them provide information about the discourse coalition network of REMP from 1953-1984."
   ]
  },
  {
   "cell_type": "markdown",
   "metadata": {
    "tags": [
     "hermeneutics",
     "narrative"
    ]
   },
   "source": [
    "**V** - REMP bulletin authors (1952-1962). REMP bulletin was edited by Günther Beijer from 1952. It started out as an informal newsletter but grew into a more serious publication platform for social scientists. \n",
    "\n",
    "- the position of Beijer as editor established a network tie with the authors of REMP bulletin"
   ]
  },
  {
   "cell_type": "markdown",
   "metadata": {
    "tags": [
     "narrative",
     "hermeneutics"
    ]
   },
   "source": [
    "**VI** - In 1961 it merged with the _Migration/Migración_ journal into the ICEM sponsored _International Migration_, that is edited by Wiley. See below for further explanations\n",
    "\n",
    "- authors and titles of _International Migration_ provide indications for who was active in studying migration"
   ]
  },
  {
   "cell_type": "markdown",
   "metadata": {
    "tags": [
     "narrative",
     "hermeneutics"
    ]
   },
   "source": [
    "**VII** - As a comparison we use the _Internation Migration Review_, that existed from roughly the same time, but was not related to ICEM (see below for further explanations)\n",
    "\n",
    "- _Internation Migration Review_ forms a background dataset to compare against the International Migration journal."
   ]
  },
  {
   "cell_type": "markdown",
   "metadata": {
    "tags": [
     "narrative"
    ]
   },
   "source": [
    "The different datasets all contain information about parts of the technocratic network of scientists and administrators who were involved in what we perceive as an evolving discourse coalition about migration and migration management. Each dataset only has data about part of the network but is connected to the other datasets because they overlap in terms of people and time. Together the sets allow for an analysis of the evolving network."
   ]
  },
  {
   "cell_type": "markdown",
   "metadata": {
    "tags": [
     "hermeneutics"
    ]
   },
   "source": [
    "As a consequence, the analysis consists of several parts. \n",
    "   - We first establish the existence of a network and a discourse coalition in REMP. This is a network with different roles that we can visualize as nodes, and different types of relations as edges.\n",
    "   - Then we establish which REMP members were also active in the ICEM network and which other people played an important role there. As the different datasets contain only a part of the network, they either contain information about the academic or the governance activities. It is not useful to visualize this as a node-edge network as many of the relations are not in the dataset. However, the main contribution is to show who was part of which network. Therefore we visualize the networks as overlapping sets of people."
   ]
  },
  {
   "cell_type": "markdown",
   "metadata": {
    "tags": [
     "title"
    ]
   },
   "source": [
    "## REMP discourse coalition"
   ]
  },
  {
   "cell_type": "markdown",
   "metadata": {
    "tags": [
     "narrative"
    ]
   },
   "source": [
    "For the construction of the REMP network as shown in figure 2, we used the data from the REMP publications (dataset IV), as it contains most detailed data about associations between people. We divided it into three periods: the 1950s, 1960s and 1970s. The 1970s also include the few publications that were published in the 1980s. The heydeys of REMP were in the 1950s, when there were 87 titles in the publications, against 26 in the 1960 and 12 in the 1970s. This is mirrored in the different networks involved, that counted 170 connections (edges) between actors in the 1950s, 62 in the 1960s and 31 in the 1970s."
   ]
  },
  {
   "cell_type": "markdown",
   "metadata": {
    "tags": [
     "hermeneutics",
     "hermeneutics-step"
    ]
   },
   "source": [
    "Step 1. Load the bibliographic records (metadata on persons and organisations, relationships between persons and organisations, and the chosen periods). We have chosen to split the entire period 1951-1983, from the start of REMP until the death of Günther Beijer into three smaller, non-overlapping periods of roughly 10 years:\n",
    "\n",
    "- 1951-1959: the start of REMP,\n",
    "- 1960-1969: the merger of REMP and International Migration (IM) and the ICEM directorship of Haveman,\n",
    "- 1970-1983: the remaining years until the death of Beijer."
   ]
  },
  {
   "cell_type": "code",
   "execution_count": null,
   "metadata": {
    "tags": [
     "hermeneutics",
     "hermeneutics-step"
    ]
   },
   "outputs": [],
   "source": [
    "import scripts.datasets as dataset_api\n",
    "from scripts.network_visualisation import make_period_chart, make_period_graph, get_common_names, get_communities\n",
    "\n",
    "# read in the datasets\n",
    "entity_relationships = dataset_api.read_person_relationship_records()\n",
    "entity_categories = dataset_api.read_entity_categories()\n",
    "person_categories = dataset_api.read_person_categories()\n",
    "periods = dataset_api.periods\n",
    "\n"
   ]
  },
  {
   "cell_type": "markdown",
   "metadata": {
    "tags": [
     "hermeneutics",
     "hermeneutics-step"
    ]
   },
   "source": [
    "Step 2. Select the entities that were actively involved in the networks in each period, as well as their realationships."
   ]
  },
  {
   "cell_type": "code",
   "execution_count": null,
   "metadata": {
    "tags": [
     "hermeneutics",
     "hermeneutics-step"
    ]
   },
   "outputs": [],
   "source": [
    "# Generate a network graph for each period\n",
    "period_graphs = {}\n",
    "for period in periods:\n",
    "    period_start, period_end = periods[period][\"start\"], periods[period][\"end\"]\n",
    "    # filter relationships by period\n",
    "    period_relationships = [r for r in entity_relationships if period_start <= r['year'] < period_end]\n",
    "    period_graphs[period] = make_period_graph(entity_categories, period_relationships)\n",
    "    \n"
   ]
  },
  {
   "cell_type": "markdown",
   "metadata": {
    "tags": [
     "hermeneutics",
     "hermeneutics-step"
    ]
   },
   "source": [
    "Step 3. Select names to display in the networks. Displaying the names of all entities would clutter up the visualisation, so we selected only the names of the most frequently occurring entities. "
   ]
  },
  {
   "cell_type": "code",
   "execution_count": null,
   "metadata": {
    "tags": [
     "hermeneutics",
     "hermeneutics-step"
    ]
   },
   "outputs": [],
   "source": [
    "# Extra the most common entity names from the graph for displaying\n",
    "common_names = get_common_names(period_graphs)\n",
    "# detect communities to determine layout\n",
    "communities = get_communities(person_categories)\n",
    "\n",
    "# turn the graphs into charts\n",
    "period_charts = {}\n",
    "for period in periods:\n",
    "    period_charts[period] = make_period_chart(period_graphs[period], communities, common_names, period)\n",
    "\n"
   ]
  },
  {
   "cell_type": "code",
   "execution_count": null,
   "metadata": {
    "jdh": {
     "object": {
      "source": [
       "figure 2: Evolving REMP network 1950-1983"
      ]
     }
    },
    "tags": [
     "hermeneutics",
     "narrative",
     "figure-2",
     "hermeneutics-step"
    ]
   },
   "outputs": [],
   "source": [
    "# Use Altair's vconcat to display them vertically\n",
    "alt.vconcat(period_charts[1950], period_charts[1960], period_charts[1970])\n"
   ]
  },
  {
   "cell_type": "markdown",
   "metadata": {
    "tags": [
     "narrative"
    ]
   },
   "source": [
    "Over the whole network there were in total 134 different contributors to the volumes - 113 article authors, 23 preface authors, 6 introduction authors, 2 editors and 4 funders. Most (102) made only a single contribution of any sort, 18 made 2 contributions and only 13 contributed 3 or more times. \n",
    "\n",
    "About most authors we do not know much, but all authors we know had an academic status. Of the authors, 8 were active in other roles. REMP authors were not just from the Netherlands. For the 19 authors whose nationality is known, 7 were from the Netherlands, 2 from Germany, France and Australia each and 1 each from Brazil, Israel, Italy, Swiss, Sweden and the United Kingdom (figure 2 and table 1). "
   ]
  },
  {
   "cell_type": "markdown",
   "metadata": {
    "tags": [
     "hermeneutics",
     "hermeneutics-step"
    ]
   },
   "source": [
    "Step 1. Load the metadata records for the person entities and the records for their relationships to publications and administrator roles. "
   ]
  },
  {
   "cell_type": "code",
   "execution_count": null,
   "metadata": {
    "tags": [
     "hermeneutics",
     "hermeneutics-step"
    ]
   },
   "outputs": [],
   "source": [
    "from iso3166 import countries\n",
    "\n",
    "import scripts.datasets as dataset_api\n",
    "from scripts.data_wrangling import get_author_list\n",
    "\n",
    "# read relationships and person categories from the datasets\n",
    "relationship_records = dataset_api.read_relationships()\n",
    "person_categories = dataset_api.read_person_categories()\n",
    "\n",
    "# Get a pandas dataframe with the authors\n",
    "author_list = get_author_list(relationship_records)\n",
    "\n"
   ]
  },
  {
   "cell_type": "markdown",
   "metadata": {
    "tags": [
     "hermeneutics",
     "hermeneutics-step"
    ]
   },
   "source": [
    "Step 2. Aggregate all persons by their country of origin and count how many people per country are active in the network."
   ]
  },
  {
   "cell_type": "code",
   "execution_count": null,
   "metadata": {
    "tags": [
     "hermeneutics",
     "hermeneutics-step"
    ]
   },
   "outputs": [],
   "source": [
    "# count the number of authors per country\n",
    "author_country_counts = person_categories.loc[person_categories.fullname.isin(author_list)][\n",
    "    ['fullname', 'prs_country']].prs_country.value_counts().rename_axis('country').reset_index(name='number')\n",
    "\n",
    "# Map occurrences of UK to GB\n",
    "author_country_counts.loc[author_country_counts.country == 'UK', 'country'] = 'GB'\n",
    "\n",
    "# Add the numeric country codes\n",
    "author_country_counts['numeric'] = author_country_counts.country.map(lambda x: int(countries.get(x).numeric))"
   ]
  },
  {
   "cell_type": "markdown",
   "metadata": {
    "tags": [
     "hermeneutics",
     "hermeneutics-step"
    ]
   },
   "source": [
    "Step 3. Show the table of authors per country."
   ]
  },
  {
   "cell_type": "code",
   "execution_count": null,
   "metadata": {
    "jdh": {
     "object": {
      "source": [
       "table 1: Provenance of Authors"
      ]
     }
    },
    "tags": [
     "hermeneutics",
     "table-1",
     "narrative",
     "hermeneutics-step"
    ]
   },
   "outputs": [],
   "source": [
    "author_country_counts"
   ]
  },
  {
   "cell_type": "markdown",
   "metadata": {
    "tags": [
     "hermeneutics",
     "hermeneutics-step"
    ]
   },
   "source": [
    "Step 4. Finally, visualise the country counts on a geographical map."
   ]
  },
  {
   "cell_type": "code",
   "execution_count": null,
   "metadata": {
    "tags": [
     "hermeneutics",
     "narrative",
     "figure-2",
     "hermeneutics-step"
    ]
   },
   "outputs": [],
   "source": [
    "from vega_datasets import data as vega_data\n",
    "\n",
    "# Data generators for the background\n",
    "sphere = alt.sphere()\n",
    "graticule = alt.graticule()\n",
    "\n",
    "colours_obj = alt.Color('number:Q',\n",
    "                        scale=alt.Scale(scheme='reds'),\n",
    "                        title=\"number\",\n",
    "                        legend=None)\n",
    "\n",
    "# Source of land data\n",
    "source = alt.topo_feature(vega_data.world_110m.url, 'countries')\n",
    "\n",
    "# Layering and configuring the components\n",
    "aut_map = alt.layer(\n",
    "    alt.Chart(sphere).mark_geoshape(fill='white'),\n",
    "    alt.Chart(graticule).mark_geoshape(stroke='white', strokeWidth=0.5),\n",
    "    alt.Chart(source\n",
    "              ).mark_geoshape(stroke='black', ).encode(\n",
    "        color=colours_obj\n",
    "    ).transform_lookup(\n",
    "        lookup='id',\n",
    "        from_=alt.LookupData(author_country_counts, key='numeric', fields=['number']))\n",
    ").project(\n",
    "    'mercator',\n",
    "    scale=100,\n",
    "    center=[-80, 70]\n",
    ").properties(width=450, height=500)\n",
    "\n",
    "# Add a histogram with number of authors per country\n",
    "histogram = alt.Chart(author_country_counts).mark_bar().encode(\n",
    "    x='country',\n",
    "    y=alt.Y('number:Q'),\n",
    "    color='number:Q'\n",
    ").properties(\n",
    "    height=400,\n",
    "    width=100\n",
    ")\n",
    "\n",
    "# concatenate the geographical author map and the histogram \n",
    "# into a horizontal compound chart\n",
    "compound_aut_chart = alt.hconcat(\n",
    "    aut_map,\n",
    "    histogram\n",
    ").configure_view(stroke=None)"
   ]
  },
  {
   "cell_type": "code",
   "execution_count": null,
   "metadata": {
    "jdh": {
     "object": {
      "source": [
       "figure 3: Provenance of Authors"
      ]
     }
    },
    "tags": [
     "hermeneutics",
     "narrative",
     "figure-3",
     "hermeneutics-step"
    ]
   },
   "outputs": [],
   "source": [
    "compound_aut_chart"
   ]
  },
  {
   "cell_type": "markdown",
   "metadata": {
    "tags": [
     "narrative"
    ]
   },
   "source": [
    "Some authors also fulfilled other roles in the network. Günter Beijer was the editor of the whole series and 7 wrote a preface for works in which they were not involved as authors. Groenman and Zeegers held three different roles, as they also wrote an introduction. \n",
    "\n",
    "There were 25 persons or institutions who either wrote prefaces or funded the REMP publications. ICEM was the largest supporter with 4 titles, there were another 4 financers from the Netherlands and 1 each from Swiss, France and the UK."
   ]
  },
  {
   "cell_type": "markdown",
   "metadata": {
    "tags": [
     "hermeneutics",
     "hermeneutics-step"
    ]
   },
   "source": [
    "We want to display how often each entities was involved in a publication in REMP or IM, in the role of article author, preface or introduction author, funder, editor or commissioner.\n",
    "\n",
    "Step 1. We load the records containing the relationships between persons and the publications they were involved in, combine the first name and surname columns.\n",
    "\n",
    "Step 2. We iterate over the types of roles and count how often each person had that role in a publication.\n",
    "\n",
    "Step 3. Finally, we sum the number of publications per role per person and sort the persons by how many publication they were involved in in total."
   ]
  },
  {
   "cell_type": "code",
   "execution_count": 37,
   "metadata": {
    "tags": [
     "hermeneutics",
     "hermeneutics-step"
    ]
   },
   "outputs": [],
   "source": [
    "from collections import Counter\n",
    "\n",
    "from scripts.data_wrangling import t_authors as author_columns\n",
    "from scripts.data_wrangling import add_fullname_columns, author_name_column_map\n",
    "\n",
    "relationship_records = dataset_api.read_person_relationship_records()\n",
    "# merge columns with surname and initials into fullname columns\n",
    "relationship_records = add_fullname_columns(relationship_records)\n",
    "\n",
    "# drop non-author name columns \n",
    "keepcolumns = ['series', 'volume', 'volume_title', 'year', 'funder', 'client', 'executor_org'] + author_columns\n",
    "reduced_records = relationship_records[keepcolumns].fillna('')\n",
    "\n",
    "# count the number of publications per author name and per author type\n",
    "cnted = {}\n",
    "for key in author_name_column_map:\n",
    "    cnted[key] = Counter()\n",
    "    for f in author_name_column_map[key]:\n",
    "        cnted[key].update(reduced_records[f].value_counts().to_dict())\n",
    "overview = pd.DataFrame(cnted).fillna(0)\n",
    "overview.drop(index='', inplace=True)\n",
    "\n",
    "# sum the total publications per author over all author types\n",
    "overview['total'] = overview.agg('sum', axis=1)\n",
    "\n",
    "for column in overview.columns:\n",
    "    overview[column] = overview[column].astype('int')\n",
    "    \n"
   ]
  },
  {
   "cell_type": "code",
   "execution_count": 38,
   "metadata": {
    "jdh": {
     "object": {
      "source": [
       "table 2: Role overlap in the REMP network"
      ]
     }
    },
    "tags": [
     "hermeneutics",
     "table-2",
     "narrative",
     "hermeneutics-step"
    ]
   },
   "outputs": [
    {
     "data": {
      "text/html": [
       "<div>\n",
       "<style scoped>\n",
       "    .dataframe tbody tr th:only-of-type {\n",
       "        vertical-align: middle;\n",
       "    }\n",
       "\n",
       "    .dataframe tbody tr th {\n",
       "        vertical-align: top;\n",
       "    }\n",
       "\n",
       "    .dataframe thead th {\n",
       "        text-align: right;\n",
       "    }\n",
       "</style>\n",
       "<table border=\"1\" class=\"dataframe\">\n",
       "  <thead>\n",
       "    <tr style=\"text-align: right;\">\n",
       "      <th></th>\n",
       "      <th>authors</th>\n",
       "      <th>pref_a</th>\n",
       "      <th>intro_a</th>\n",
       "      <th>editor</th>\n",
       "      <th>funder</th>\n",
       "      <th>executor_org</th>\n",
       "      <th>total</th>\n",
       "    </tr>\n",
       "  </thead>\n",
       "  <tbody>\n",
       "    <tr>\n",
       "      <th>Beijer,  G.</th>\n",
       "      <td>12</td>\n",
       "      <td>0</td>\n",
       "      <td>0</td>\n",
       "      <td>139</td>\n",
       "      <td>0</td>\n",
       "      <td>0</td>\n",
       "      <td>151</td>\n",
       "    </tr>\n",
       "    <tr>\n",
       "      <th>REMP</th>\n",
       "      <td>0</td>\n",
       "      <td>0</td>\n",
       "      <td>0</td>\n",
       "      <td>0</td>\n",
       "      <td>0</td>\n",
       "      <td>24</td>\n",
       "      <td>24</td>\n",
       "    </tr>\n",
       "    <tr>\n",
       "      <th>Hofstee,  E.W.</th>\n",
       "      <td>4</td>\n",
       "      <td>1</td>\n",
       "      <td>0</td>\n",
       "      <td>0</td>\n",
       "      <td>0</td>\n",
       "      <td>0</td>\n",
       "      <td>5</td>\n",
       "    </tr>\n",
       "    <tr>\n",
       "      <th>Groenman,  Sj.</th>\n",
       "      <td>2</td>\n",
       "      <td>2</td>\n",
       "      <td>1</td>\n",
       "      <td>0</td>\n",
       "      <td>0</td>\n",
       "      <td>0</td>\n",
       "      <td>5</td>\n",
       "    </tr>\n",
       "    <tr>\n",
       "      <th>Edding,  F.</th>\n",
       "      <td>4</td>\n",
       "      <td>0</td>\n",
       "      <td>0</td>\n",
       "      <td>0</td>\n",
       "      <td>0</td>\n",
       "      <td>0</td>\n",
       "      <td>4</td>\n",
       "    </tr>\n",
       "    <tr>\n",
       "      <th>ICEM</th>\n",
       "      <td>0</td>\n",
       "      <td>0</td>\n",
       "      <td>0</td>\n",
       "      <td>0</td>\n",
       "      <td>4</td>\n",
       "      <td>0</td>\n",
       "      <td>4</td>\n",
       "    </tr>\n",
       "    <tr>\n",
       "      <th>Radspieler,  T.</th>\n",
       "      <td>3</td>\n",
       "      <td>0</td>\n",
       "      <td>0</td>\n",
       "      <td>0</td>\n",
       "      <td>0</td>\n",
       "      <td>0</td>\n",
       "      <td>3</td>\n",
       "    </tr>\n",
       "    <tr>\n",
       "      <th>Richardson,  A.</th>\n",
       "      <td>3</td>\n",
       "      <td>0</td>\n",
       "      <td>0</td>\n",
       "      <td>0</td>\n",
       "      <td>0</td>\n",
       "      <td>0</td>\n",
       "      <td>3</td>\n",
       "    </tr>\n",
       "    <tr>\n",
       "      <th>Mol,  J.J.</th>\n",
       "      <td>3</td>\n",
       "      <td>0</td>\n",
       "      <td>0</td>\n",
       "      <td>0</td>\n",
       "      <td>0</td>\n",
       "      <td>0</td>\n",
       "      <td>3</td>\n",
       "    </tr>\n",
       "    <tr>\n",
       "      <th>Hack,  H.</th>\n",
       "      <td>3</td>\n",
       "      <td>0</td>\n",
       "      <td>0</td>\n",
       "      <td>0</td>\n",
       "      <td>0</td>\n",
       "      <td>0</td>\n",
       "      <td>3</td>\n",
       "    </tr>\n",
       "    <tr>\n",
       "      <th>Zubrzycki,  J.</th>\n",
       "      <td>3</td>\n",
       "      <td>0</td>\n",
       "      <td>0</td>\n",
       "      <td>0</td>\n",
       "      <td>0</td>\n",
       "      <td>0</td>\n",
       "      <td>3</td>\n",
       "    </tr>\n",
       "    <tr>\n",
       "      <th>Isaac,  J.</th>\n",
       "      <td>2</td>\n",
       "      <td>1</td>\n",
       "      <td>0</td>\n",
       "      <td>0</td>\n",
       "      <td>0</td>\n",
       "      <td>0</td>\n",
       "      <td>3</td>\n",
       "    </tr>\n",
       "    <tr>\n",
       "      <th>Sauvy,  A.</th>\n",
       "      <td>1</td>\n",
       "      <td>2</td>\n",
       "      <td>0</td>\n",
       "      <td>0</td>\n",
       "      <td>0</td>\n",
       "      <td>0</td>\n",
       "      <td>3</td>\n",
       "    </tr>\n",
       "    <tr>\n",
       "      <th>Zeegers,  G.H.L.</th>\n",
       "      <td>1</td>\n",
       "      <td>1</td>\n",
       "      <td>1</td>\n",
       "      <td>0</td>\n",
       "      <td>0</td>\n",
       "      <td>0</td>\n",
       "      <td>3</td>\n",
       "    </tr>\n",
       "    <tr>\n",
       "      <th>Frijda,  N.H.</th>\n",
       "      <td>2</td>\n",
       "      <td>0</td>\n",
       "      <td>0</td>\n",
       "      <td>0</td>\n",
       "      <td>0</td>\n",
       "      <td>0</td>\n",
       "      <td>2</td>\n",
       "    </tr>\n",
       "    <tr>\n",
       "      <th>Rubin,  E.</th>\n",
       "      <td>2</td>\n",
       "      <td>0</td>\n",
       "      <td>0</td>\n",
       "      <td>0</td>\n",
       "      <td>0</td>\n",
       "      <td>0</td>\n",
       "      <td>2</td>\n",
       "    </tr>\n",
       "    <tr>\n",
       "      <th>Nixon,  J.W.</th>\n",
       "      <td>2</td>\n",
       "      <td>0</td>\n",
       "      <td>0</td>\n",
       "      <td>0</td>\n",
       "      <td>0</td>\n",
       "      <td>0</td>\n",
       "      <td>2</td>\n",
       "    </tr>\n",
       "    <tr>\n",
       "      <th>Mast, van der W.</th>\n",
       "      <td>2</td>\n",
       "      <td>0</td>\n",
       "      <td>0</td>\n",
       "      <td>0</td>\n",
       "      <td>0</td>\n",
       "      <td>0</td>\n",
       "      <td>2</td>\n",
       "    </tr>\n",
       "    <tr>\n",
       "      <th>Timlin,  M.F.</th>\n",
       "      <td>2</td>\n",
       "      <td>0</td>\n",
       "      <td>0</td>\n",
       "      <td>0</td>\n",
       "      <td>0</td>\n",
       "      <td>0</td>\n",
       "      <td>2</td>\n",
       "    </tr>\n",
       "    <tr>\n",
       "      <th>Appleyard,  R.T.</th>\n",
       "      <td>2</td>\n",
       "      <td>0</td>\n",
       "      <td>0</td>\n",
       "      <td>0</td>\n",
       "      <td>0</td>\n",
       "      <td>0</td>\n",
       "      <td>2</td>\n",
       "    </tr>\n",
       "    <tr>\n",
       "      <th>Hofstede,  B.P.</th>\n",
       "      <td>2</td>\n",
       "      <td>0</td>\n",
       "      <td>0</td>\n",
       "      <td>0</td>\n",
       "      <td>0</td>\n",
       "      <td>0</td>\n",
       "      <td>2</td>\n",
       "    </tr>\n",
       "    <tr>\n",
       "      <th>Bouscaren,  A.T.</th>\n",
       "      <td>2</td>\n",
       "      <td>0</td>\n",
       "      <td>0</td>\n",
       "      <td>0</td>\n",
       "      <td>0</td>\n",
       "      <td>0</td>\n",
       "      <td>2</td>\n",
       "    </tr>\n",
       "    <tr>\n",
       "      <th>Wentholt,  R.</th>\n",
       "      <td>2</td>\n",
       "      <td>0</td>\n",
       "      <td>0</td>\n",
       "      <td>0</td>\n",
       "      <td>0</td>\n",
       "      <td>0</td>\n",
       "      <td>2</td>\n",
       "    </tr>\n",
       "    <tr>\n",
       "      <th>Gadolin, de A.</th>\n",
       "      <td>2</td>\n",
       "      <td>0</td>\n",
       "      <td>0</td>\n",
       "      <td>0</td>\n",
       "      <td>0</td>\n",
       "      <td>0</td>\n",
       "      <td>2</td>\n",
       "    </tr>\n",
       "    <tr>\n",
       "      <th>Petersen,  W.</th>\n",
       "      <td>2</td>\n",
       "      <td>0</td>\n",
       "      <td>0</td>\n",
       "      <td>0</td>\n",
       "      <td>0</td>\n",
       "      <td>0</td>\n",
       "      <td>2</td>\n",
       "    </tr>\n",
       "    <tr>\n",
       "      <th>Bastos de Avila,  F.</th>\n",
       "      <td>2</td>\n",
       "      <td>0</td>\n",
       "      <td>0</td>\n",
       "      <td>0</td>\n",
       "      <td>0</td>\n",
       "      <td>0</td>\n",
       "      <td>2</td>\n",
       "    </tr>\n",
       "    <tr>\n",
       "      <th>Rosenfield,  H.N.</th>\n",
       "      <td>2</td>\n",
       "      <td>0</td>\n",
       "      <td>0</td>\n",
       "      <td>0</td>\n",
       "      <td>0</td>\n",
       "      <td>0</td>\n",
       "      <td>2</td>\n",
       "    </tr>\n",
       "    <tr>\n",
       "      <th>Lehmkuhler,  M.</th>\n",
       "      <td>2</td>\n",
       "      <td>0</td>\n",
       "      <td>0</td>\n",
       "      <td>0</td>\n",
       "      <td>0</td>\n",
       "      <td>0</td>\n",
       "      <td>2</td>\n",
       "    </tr>\n",
       "    <tr>\n",
       "      <th>Beld, van den C.A.</th>\n",
       "      <td>2</td>\n",
       "      <td>0</td>\n",
       "      <td>0</td>\n",
       "      <td>0</td>\n",
       "      <td>0</td>\n",
       "      <td>0</td>\n",
       "      <td>2</td>\n",
       "    </tr>\n",
       "    <tr>\n",
       "      <th>Ipsen,  G.</th>\n",
       "      <td>1</td>\n",
       "      <td>1</td>\n",
       "      <td>0</td>\n",
       "      <td>0</td>\n",
       "      <td>0</td>\n",
       "      <td>0</td>\n",
       "      <td>2</td>\n",
       "    </tr>\n",
       "    <tr>\n",
       "      <th>Mill, van A.N.</th>\n",
       "      <td>1</td>\n",
       "      <td>1</td>\n",
       "      <td>0</td>\n",
       "      <td>0</td>\n",
       "      <td>0</td>\n",
       "      <td>0</td>\n",
       "      <td>2</td>\n",
       "    </tr>\n",
       "    <tr>\n",
       "      <th>Haveman,  B.W.</th>\n",
       "      <td>0</td>\n",
       "      <td>2</td>\n",
       "      <td>0</td>\n",
       "      <td>0</td>\n",
       "      <td>0</td>\n",
       "      <td>0</td>\n",
       "      <td>2</td>\n",
       "    </tr>\n",
       "    <tr>\n",
       "      <th>Lyon,  A.V.</th>\n",
       "      <td>1</td>\n",
       "      <td>0</td>\n",
       "      <td>0</td>\n",
       "      <td>0</td>\n",
       "      <td>0</td>\n",
       "      <td>0</td>\n",
       "      <td>1</td>\n",
       "    </tr>\n",
       "    <tr>\n",
       "      <th>Witkamp,  T.</th>\n",
       "      <td>1</td>\n",
       "      <td>0</td>\n",
       "      <td>0</td>\n",
       "      <td>0</td>\n",
       "      <td>0</td>\n",
       "      <td>0</td>\n",
       "      <td>1</td>\n",
       "    </tr>\n",
       "    <tr>\n",
       "      <th>Herberle,  R.</th>\n",
       "      <td>1</td>\n",
       "      <td>0</td>\n",
       "      <td>0</td>\n",
       "      <td>0</td>\n",
       "      <td>0</td>\n",
       "      <td>0</td>\n",
       "      <td>1</td>\n",
       "    </tr>\n",
       "    <tr>\n",
       "      <th>Reid,  I.D.A.</th>\n",
       "      <td>1</td>\n",
       "      <td>0</td>\n",
       "      <td>0</td>\n",
       "      <td>0</td>\n",
       "      <td>0</td>\n",
       "      <td>0</td>\n",
       "      <td>1</td>\n",
       "    </tr>\n",
       "    <tr>\n",
       "      <th>Starr,  M.</th>\n",
       "      <td>1</td>\n",
       "      <td>0</td>\n",
       "      <td>0</td>\n",
       "      <td>0</td>\n",
       "      <td>0</td>\n",
       "      <td>0</td>\n",
       "      <td>1</td>\n",
       "    </tr>\n",
       "    <tr>\n",
       "      <th>Pressat,  R.</th>\n",
       "      <td>1</td>\n",
       "      <td>0</td>\n",
       "      <td>0</td>\n",
       "      <td>0</td>\n",
       "      <td>0</td>\n",
       "      <td>0</td>\n",
       "      <td>1</td>\n",
       "    </tr>\n",
       "    <tr>\n",
       "      <th>Maris,  A.</th>\n",
       "      <td>1</td>\n",
       "      <td>0</td>\n",
       "      <td>0</td>\n",
       "      <td>0</td>\n",
       "      <td>0</td>\n",
       "      <td>0</td>\n",
       "      <td>1</td>\n",
       "    </tr>\n",
       "    <tr>\n",
       "      <th>Balhana,  A.Pilatti</th>\n",
       "      <td>1</td>\n",
       "      <td>0</td>\n",
       "      <td>0</td>\n",
       "      <td>0</td>\n",
       "      <td>0</td>\n",
       "      <td>0</td>\n",
       "      <td>1</td>\n",
       "    </tr>\n",
       "    <tr>\n",
       "      <th>Witcover,  J.</th>\n",
       "      <td>1</td>\n",
       "      <td>0</td>\n",
       "      <td>0</td>\n",
       "      <td>0</td>\n",
       "      <td>0</td>\n",
       "      <td>0</td>\n",
       "      <td>1</td>\n",
       "    </tr>\n",
       "    <tr>\n",
       "      <th>Cidor,  H.A.</th>\n",
       "      <td>1</td>\n",
       "      <td>0</td>\n",
       "      <td>0</td>\n",
       "      <td>0</td>\n",
       "      <td>0</td>\n",
       "      <td>0</td>\n",
       "      <td>1</td>\n",
       "    </tr>\n",
       "    <tr>\n",
       "      <th>Gottmann,  J.</th>\n",
       "      <td>1</td>\n",
       "      <td>0</td>\n",
       "      <td>0</td>\n",
       "      <td>0</td>\n",
       "      <td>0</td>\n",
       "      <td>0</td>\n",
       "      <td>1</td>\n",
       "    </tr>\n",
       "    <tr>\n",
       "      <th>Luckham,  B.</th>\n",
       "      <td>1</td>\n",
       "      <td>0</td>\n",
       "      <td>0</td>\n",
       "      <td>0</td>\n",
       "      <td>0</td>\n",
       "      <td>0</td>\n",
       "      <td>1</td>\n",
       "    </tr>\n",
       "    <tr>\n",
       "      <th>Orleans,  L.A.</th>\n",
       "      <td>1</td>\n",
       "      <td>0</td>\n",
       "      <td>0</td>\n",
       "      <td>0</td>\n",
       "      <td>0</td>\n",
       "      <td>0</td>\n",
       "      <td>1</td>\n",
       "    </tr>\n",
       "    <tr>\n",
       "      <th>Kraak,  J.H.</th>\n",
       "      <td>1</td>\n",
       "      <td>0</td>\n",
       "      <td>0</td>\n",
       "      <td>0</td>\n",
       "      <td>0</td>\n",
       "      <td>0</td>\n",
       "      <td>1</td>\n",
       "    </tr>\n",
       "    <tr>\n",
       "      <th>Schoenberg,  H.W.</th>\n",
       "      <td>1</td>\n",
       "      <td>0</td>\n",
       "      <td>0</td>\n",
       "      <td>0</td>\n",
       "      <td>0</td>\n",
       "      <td>0</td>\n",
       "      <td>1</td>\n",
       "    </tr>\n",
       "    <tr>\n",
       "      <th>Tavuchis,  N.</th>\n",
       "      <td>1</td>\n",
       "      <td>0</td>\n",
       "      <td>0</td>\n",
       "      <td>0</td>\n",
       "      <td>0</td>\n",
       "      <td>0</td>\n",
       "      <td>1</td>\n",
       "    </tr>\n",
       "    <tr>\n",
       "      <th>Weinberg,  A.A.</th>\n",
       "      <td>1</td>\n",
       "      <td>0</td>\n",
       "      <td>0</td>\n",
       "      <td>0</td>\n",
       "      <td>0</td>\n",
       "      <td>0</td>\n",
       "      <td>1</td>\n",
       "    </tr>\n",
       "    <tr>\n",
       "      <th>Bentwich,  N.</th>\n",
       "      <td>1</td>\n",
       "      <td>0</td>\n",
       "      <td>0</td>\n",
       "      <td>0</td>\n",
       "      <td>0</td>\n",
       "      <td>0</td>\n",
       "      <td>1</td>\n",
       "    </tr>\n",
       "    <tr>\n",
       "      <th>Schreuder,  O.</th>\n",
       "      <td>1</td>\n",
       "      <td>0</td>\n",
       "      <td>0</td>\n",
       "      <td>0</td>\n",
       "      <td>0</td>\n",
       "      <td>0</td>\n",
       "      <td>1</td>\n",
       "    </tr>\n",
       "    <tr>\n",
       "      <th>Taft,  R.</th>\n",
       "      <td>1</td>\n",
       "      <td>0</td>\n",
       "      <td>0</td>\n",
       "      <td>0</td>\n",
       "      <td>0</td>\n",
       "      <td>0</td>\n",
       "      <td>1</td>\n",
       "    </tr>\n",
       "    <tr>\n",
       "      <th>Fentener van Vlissingen,  R.</th>\n",
       "      <td>1</td>\n",
       "      <td>0</td>\n",
       "      <td>0</td>\n",
       "      <td>0</td>\n",
       "      <td>0</td>\n",
       "      <td>0</td>\n",
       "      <td>1</td>\n",
       "    </tr>\n",
       "    <tr>\n",
       "      <th>Sumiya,  M.</th>\n",
       "      <td>1</td>\n",
       "      <td>0</td>\n",
       "      <td>0</td>\n",
       "      <td>0</td>\n",
       "      <td>0</td>\n",
       "      <td>0</td>\n",
       "      <td>1</td>\n",
       "    </tr>\n",
       "    <tr>\n",
       "      <th>Makulu,  H.F.</th>\n",
       "      <td>1</td>\n",
       "      <td>0</td>\n",
       "      <td>0</td>\n",
       "      <td>0</td>\n",
       "      <td>0</td>\n",
       "      <td>0</td>\n",
       "      <td>1</td>\n",
       "    </tr>\n",
       "    <tr>\n",
       "      <th>Boer-Lasschuyt, de T.</th>\n",
       "      <td>1</td>\n",
       "      <td>0</td>\n",
       "      <td>0</td>\n",
       "      <td>0</td>\n",
       "      <td>0</td>\n",
       "      <td>0</td>\n",
       "      <td>1</td>\n",
       "    </tr>\n",
       "    <tr>\n",
       "      <th>Roof,  M.K.</th>\n",
       "      <td>1</td>\n",
       "      <td>0</td>\n",
       "      <td>0</td>\n",
       "      <td>0</td>\n",
       "      <td>0</td>\n",
       "      <td>0</td>\n",
       "      <td>1</td>\n",
       "    </tr>\n",
       "    <tr>\n",
       "      <th>Putten, v.d. A.</th>\n",
       "      <td>1</td>\n",
       "      <td>0</td>\n",
       "      <td>0</td>\n",
       "      <td>0</td>\n",
       "      <td>0</td>\n",
       "      <td>0</td>\n",
       "      <td>1</td>\n",
       "    </tr>\n",
       "    <tr>\n",
       "      <th>Heyn,  H.</th>\n",
       "      <td>1</td>\n",
       "      <td>0</td>\n",
       "      <td>0</td>\n",
       "      <td>0</td>\n",
       "      <td>0</td>\n",
       "      <td>0</td>\n",
       "      <td>1</td>\n",
       "    </tr>\n",
       "    <tr>\n",
       "      <th>Paulson,  B.</th>\n",
       "      <td>1</td>\n",
       "      <td>0</td>\n",
       "      <td>0</td>\n",
       "      <td>0</td>\n",
       "      <td>0</td>\n",
       "      <td>0</td>\n",
       "      <td>1</td>\n",
       "    </tr>\n",
       "    <tr>\n",
       "      <th>Rees,  E.</th>\n",
       "      <td>1</td>\n",
       "      <td>0</td>\n",
       "      <td>0</td>\n",
       "      <td>0</td>\n",
       "      <td>0</td>\n",
       "      <td>0</td>\n",
       "      <td>1</td>\n",
       "    </tr>\n",
       "    <tr>\n",
       "      <th>Price,  C.A.</th>\n",
       "      <td>1</td>\n",
       "      <td>0</td>\n",
       "      <td>0</td>\n",
       "      <td>0</td>\n",
       "      <td>0</td>\n",
       "      <td>0</td>\n",
       "      <td>1</td>\n",
       "    </tr>\n",
       "    <tr>\n",
       "      <th>Fagley,  R.</th>\n",
       "      <td>1</td>\n",
       "      <td>0</td>\n",
       "      <td>0</td>\n",
       "      <td>0</td>\n",
       "      <td>0</td>\n",
       "      <td>0</td>\n",
       "      <td>1</td>\n",
       "    </tr>\n",
       "    <tr>\n",
       "      <th>Borrie,  W.D.</th>\n",
       "      <td>1</td>\n",
       "      <td>0</td>\n",
       "      <td>0</td>\n",
       "      <td>0</td>\n",
       "      <td>0</td>\n",
       "      <td>0</td>\n",
       "      <td>1</td>\n",
       "    </tr>\n",
       "    <tr>\n",
       "      <th>Lewis,  J.N.</th>\n",
       "      <td>1</td>\n",
       "      <td>0</td>\n",
       "      <td>0</td>\n",
       "      <td>0</td>\n",
       "      <td>0</td>\n",
       "      <td>0</td>\n",
       "      <td>1</td>\n",
       "    </tr>\n",
       "    <tr>\n",
       "      <th>Schmitz,  J.P.G.</th>\n",
       "      <td>1</td>\n",
       "      <td>0</td>\n",
       "      <td>0</td>\n",
       "      <td>0</td>\n",
       "      <td>0</td>\n",
       "      <td>0</td>\n",
       "      <td>1</td>\n",
       "    </tr>\n",
       "    <tr>\n",
       "      <th>Geyl,  W.F.</th>\n",
       "      <td>1</td>\n",
       "      <td>0</td>\n",
       "      <td>0</td>\n",
       "      <td>0</td>\n",
       "      <td>0</td>\n",
       "      <td>0</td>\n",
       "      <td>1</td>\n",
       "    </tr>\n",
       "    <tr>\n",
       "      <th>Olsson,  B.</th>\n",
       "      <td>1</td>\n",
       "      <td>0</td>\n",
       "      <td>0</td>\n",
       "      <td>0</td>\n",
       "      <td>0</td>\n",
       "      <td>0</td>\n",
       "      <td>1</td>\n",
       "    </tr>\n",
       "    <tr>\n",
       "      <th>Jong, de  P.</th>\n",
       "      <td>1</td>\n",
       "      <td>0</td>\n",
       "      <td>0</td>\n",
       "      <td>0</td>\n",
       "      <td>0</td>\n",
       "      <td>0</td>\n",
       "      <td>1</td>\n",
       "    </tr>\n",
       "    <tr>\n",
       "      <th>Brepohl,  W.</th>\n",
       "      <td>1</td>\n",
       "      <td>0</td>\n",
       "      <td>0</td>\n",
       "      <td>0</td>\n",
       "      <td>0</td>\n",
       "      <td>0</td>\n",
       "      <td>1</td>\n",
       "    </tr>\n",
       "    <tr>\n",
       "      <th>REMP,</th>\n",
       "      <td>1</td>\n",
       "      <td>0</td>\n",
       "      <td>0</td>\n",
       "      <td>0</td>\n",
       "      <td>0</td>\n",
       "      <td>0</td>\n",
       "      <td>1</td>\n",
       "    </tr>\n",
       "    <tr>\n",
       "      <th>Witkamp,  F.Th.</th>\n",
       "      <td>1</td>\n",
       "      <td>0</td>\n",
       "      <td>0</td>\n",
       "      <td>0</td>\n",
       "      <td>0</td>\n",
       "      <td>0</td>\n",
       "      <td>1</td>\n",
       "    </tr>\n",
       "    <tr>\n",
       "      <th>Bovenkerk,  F.</th>\n",
       "      <td>1</td>\n",
       "      <td>0</td>\n",
       "      <td>0</td>\n",
       "      <td>0</td>\n",
       "      <td>0</td>\n",
       "      <td>0</td>\n",
       "      <td>1</td>\n",
       "    </tr>\n",
       "    <tr>\n",
       "      <th>Muller,  K.D.</th>\n",
       "      <td>1</td>\n",
       "      <td>0</td>\n",
       "      <td>0</td>\n",
       "      <td>0</td>\n",
       "      <td>0</td>\n",
       "      <td>0</td>\n",
       "      <td>1</td>\n",
       "    </tr>\n",
       "    <tr>\n",
       "      <th>Neumann,  B.</th>\n",
       "      <td>1</td>\n",
       "      <td>0</td>\n",
       "      <td>0</td>\n",
       "      <td>0</td>\n",
       "      <td>0</td>\n",
       "      <td>0</td>\n",
       "      <td>1</td>\n",
       "    </tr>\n",
       "    <tr>\n",
       "      <th>Albin,  A.</th>\n",
       "      <td>1</td>\n",
       "      <td>0</td>\n",
       "      <td>0</td>\n",
       "      <td>0</td>\n",
       "      <td>0</td>\n",
       "      <td>0</td>\n",
       "      <td>1</td>\n",
       "    </tr>\n",
       "    <tr>\n",
       "      <th>Wilder-Okladek,  F.</th>\n",
       "      <td>1</td>\n",
       "      <td>0</td>\n",
       "      <td>0</td>\n",
       "      <td>0</td>\n",
       "      <td>0</td>\n",
       "      <td>0</td>\n",
       "      <td>1</td>\n",
       "    </tr>\n",
       "    <tr>\n",
       "      <th>Weinstock,  S. Alexander</th>\n",
       "      <td>1</td>\n",
       "      <td>0</td>\n",
       "      <td>0</td>\n",
       "      <td>0</td>\n",
       "      <td>0</td>\n",
       "      <td>0</td>\n",
       "      <td>1</td>\n",
       "    </tr>\n",
       "    <tr>\n",
       "      <th>Johnston,  R.</th>\n",
       "      <td>1</td>\n",
       "      <td>0</td>\n",
       "      <td>0</td>\n",
       "      <td>0</td>\n",
       "      <td>0</td>\n",
       "      <td>0</td>\n",
       "      <td>1</td>\n",
       "    </tr>\n",
       "    <tr>\n",
       "      <th>Ex,  J.</th>\n",
       "      <td>1</td>\n",
       "      <td>0</td>\n",
       "      <td>0</td>\n",
       "      <td>0</td>\n",
       "      <td>0</td>\n",
       "      <td>0</td>\n",
       "      <td>1</td>\n",
       "    </tr>\n",
       "    <tr>\n",
       "      <th>Paikert,  G.C.</th>\n",
       "      <td>1</td>\n",
       "      <td>0</td>\n",
       "      <td>0</td>\n",
       "      <td>0</td>\n",
       "      <td>0</td>\n",
       "      <td>0</td>\n",
       "      <td>1</td>\n",
       "    </tr>\n",
       "    <tr>\n",
       "      <th>Verwey-Jonker,  H.</th>\n",
       "      <td>1</td>\n",
       "      <td>0</td>\n",
       "      <td>0</td>\n",
       "      <td>0</td>\n",
       "      <td>0</td>\n",
       "      <td>0</td>\n",
       "      <td>1</td>\n",
       "    </tr>\n",
       "    <tr>\n",
       "      <th>Steigenga,  W.</th>\n",
       "      <td>1</td>\n",
       "      <td>0</td>\n",
       "      <td>0</td>\n",
       "      <td>0</td>\n",
       "      <td>0</td>\n",
       "      <td>0</td>\n",
       "      <td>1</td>\n",
       "    </tr>\n",
       "    <tr>\n",
       "      <th>Lannes,  X.</th>\n",
       "      <td>1</td>\n",
       "      <td>0</td>\n",
       "      <td>0</td>\n",
       "      <td>0</td>\n",
       "      <td>0</td>\n",
       "      <td>0</td>\n",
       "      <td>1</td>\n",
       "    </tr>\n",
       "    <tr>\n",
       "      <th>Brink, van den  T.</th>\n",
       "      <td>1</td>\n",
       "      <td>0</td>\n",
       "      <td>0</td>\n",
       "      <td>0</td>\n",
       "      <td>0</td>\n",
       "      <td>0</td>\n",
       "      <td>1</td>\n",
       "    </tr>\n",
       "    <tr>\n",
       "      <th>Citroen,  H.A.</th>\n",
       "      <td>1</td>\n",
       "      <td>0</td>\n",
       "      <td>0</td>\n",
       "      <td>0</td>\n",
       "      <td>0</td>\n",
       "      <td>0</td>\n",
       "      <td>1</td>\n",
       "    </tr>\n",
       "    <tr>\n",
       "      <th>Wander,  H.</th>\n",
       "      <td>1</td>\n",
       "      <td>0</td>\n",
       "      <td>0</td>\n",
       "      <td>0</td>\n",
       "      <td>0</td>\n",
       "      <td>0</td>\n",
       "      <td>1</td>\n",
       "    </tr>\n",
       "    <tr>\n",
       "      <th>Cnossen,  T.</th>\n",
       "      <td>1</td>\n",
       "      <td>0</td>\n",
       "      <td>0</td>\n",
       "      <td>0</td>\n",
       "      <td>0</td>\n",
       "      <td>0</td>\n",
       "      <td>1</td>\n",
       "    </tr>\n",
       "    <tr>\n",
       "      <th>Jain,  S.K.</th>\n",
       "      <td>1</td>\n",
       "      <td>0</td>\n",
       "      <td>0</td>\n",
       "      <td>0</td>\n",
       "      <td>0</td>\n",
       "      <td>0</td>\n",
       "      <td>1</td>\n",
       "    </tr>\n",
       "    <tr>\n",
       "      <th>Stone,  K.H.</th>\n",
       "      <td>1</td>\n",
       "      <td>0</td>\n",
       "      <td>0</td>\n",
       "      <td>0</td>\n",
       "      <td>0</td>\n",
       "      <td>0</td>\n",
       "      <td>1</td>\n",
       "    </tr>\n",
       "    <tr>\n",
       "      <th>Peltier,  R.</th>\n",
       "      <td>1</td>\n",
       "      <td>0</td>\n",
       "      <td>0</td>\n",
       "      <td>0</td>\n",
       "      <td>0</td>\n",
       "      <td>0</td>\n",
       "      <td>1</td>\n",
       "    </tr>\n",
       "    <tr>\n",
       "      <th>Belshaw,  H.</th>\n",
       "      <td>1</td>\n",
       "      <td>0</td>\n",
       "      <td>0</td>\n",
       "      <td>0</td>\n",
       "      <td>0</td>\n",
       "      <td>0</td>\n",
       "      <td>1</td>\n",
       "    </tr>\n",
       "    <tr>\n",
       "      <th>Mannoni,  E.</th>\n",
       "      <td>1</td>\n",
       "      <td>0</td>\n",
       "      <td>0</td>\n",
       "      <td>0</td>\n",
       "      <td>0</td>\n",
       "      <td>0</td>\n",
       "      <td>1</td>\n",
       "    </tr>\n",
       "    <tr>\n",
       "      <th>Hyrenius,  H.</th>\n",
       "      <td>1</td>\n",
       "      <td>0</td>\n",
       "      <td>0</td>\n",
       "      <td>0</td>\n",
       "      <td>0</td>\n",
       "      <td>0</td>\n",
       "      <td>1</td>\n",
       "    </tr>\n",
       "    <tr>\n",
       "      <th>Weinberg,  A.A.W.</th>\n",
       "      <td>1</td>\n",
       "      <td>0</td>\n",
       "      <td>0</td>\n",
       "      <td>0</td>\n",
       "      <td>0</td>\n",
       "      <td>0</td>\n",
       "      <td>1</td>\n",
       "    </tr>\n",
       "    <tr>\n",
       "      <th>Meyers,  H.G.</th>\n",
       "      <td>1</td>\n",
       "      <td>0</td>\n",
       "      <td>0</td>\n",
       "      <td>0</td>\n",
       "      <td>0</td>\n",
       "      <td>0</td>\n",
       "      <td>1</td>\n",
       "    </tr>\n",
       "    <tr>\n",
       "      <th>Brink, van den T</th>\n",
       "      <td>1</td>\n",
       "      <td>0</td>\n",
       "      <td>0</td>\n",
       "      <td>0</td>\n",
       "      <td>0</td>\n",
       "      <td>0</td>\n",
       "      <td>1</td>\n",
       "    </tr>\n",
       "    <tr>\n",
       "      <th>Dorpema,  H.</th>\n",
       "      <td>1</td>\n",
       "      <td>0</td>\n",
       "      <td>0</td>\n",
       "      <td>0</td>\n",
       "      <td>0</td>\n",
       "      <td>0</td>\n",
       "      <td>1</td>\n",
       "    </tr>\n",
       "    <tr>\n",
       "      <th>Maselli,  G.</th>\n",
       "      <td>1</td>\n",
       "      <td>0</td>\n",
       "      <td>0</td>\n",
       "      <td>0</td>\n",
       "      <td>0</td>\n",
       "      <td>0</td>\n",
       "      <td>1</td>\n",
       "    </tr>\n",
       "    <tr>\n",
       "      <th>MacKay,  M.C.J.</th>\n",
       "      <td>1</td>\n",
       "      <td>0</td>\n",
       "      <td>0</td>\n",
       "      <td>0</td>\n",
       "      <td>0</td>\n",
       "      <td>0</td>\n",
       "      <td>1</td>\n",
       "    </tr>\n",
       "    <tr>\n",
       "      <th>Sjollema,  B.Ch.</th>\n",
       "      <td>1</td>\n",
       "      <td>0</td>\n",
       "      <td>0</td>\n",
       "      <td>0</td>\n",
       "      <td>0</td>\n",
       "      <td>0</td>\n",
       "      <td>1</td>\n",
       "    </tr>\n",
       "    <tr>\n",
       "      <th>Glinstra Bleeker, van R.J.P.</th>\n",
       "      <td>1</td>\n",
       "      <td>0</td>\n",
       "      <td>0</td>\n",
       "      <td>0</td>\n",
       "      <td>0</td>\n",
       "      <td>0</td>\n",
       "      <td>1</td>\n",
       "    </tr>\n",
       "    <tr>\n",
       "      <th>Mackenroth,  G.</th>\n",
       "      <td>1</td>\n",
       "      <td>0</td>\n",
       "      <td>0</td>\n",
       "      <td>0</td>\n",
       "      <td>0</td>\n",
       "      <td>0</td>\n",
       "      <td>1</td>\n",
       "    </tr>\n",
       "    <tr>\n",
       "      <th>Jorge,  A.</th>\n",
       "      <td>1</td>\n",
       "      <td>0</td>\n",
       "      <td>0</td>\n",
       "      <td>0</td>\n",
       "      <td>0</td>\n",
       "      <td>0</td>\n",
       "      <td>1</td>\n",
       "    </tr>\n",
       "    <tr>\n",
       "      <th>Sassen,  S.</th>\n",
       "      <td>1</td>\n",
       "      <td>0</td>\n",
       "      <td>0</td>\n",
       "      <td>0</td>\n",
       "      <td>0</td>\n",
       "      <td>0</td>\n",
       "      <td>1</td>\n",
       "    </tr>\n",
       "    <tr>\n",
       "      <th>Bernard,  W.S.</th>\n",
       "      <td>1</td>\n",
       "      <td>0</td>\n",
       "      <td>0</td>\n",
       "      <td>0</td>\n",
       "      <td>0</td>\n",
       "      <td>0</td>\n",
       "      <td>1</td>\n",
       "    </tr>\n",
       "    <tr>\n",
       "      <th>Lattimore jr,  B.G.</th>\n",
       "      <td>1</td>\n",
       "      <td>0</td>\n",
       "      <td>0</td>\n",
       "      <td>0</td>\n",
       "      <td>0</td>\n",
       "      <td>0</td>\n",
       "      <td>1</td>\n",
       "    </tr>\n",
       "    <tr>\n",
       "      <th>Oudegeest,  J.J.</th>\n",
       "      <td>1</td>\n",
       "      <td>0</td>\n",
       "      <td>0</td>\n",
       "      <td>0</td>\n",
       "      <td>0</td>\n",
       "      <td>0</td>\n",
       "      <td>1</td>\n",
       "    </tr>\n",
       "    <tr>\n",
       "      <th>Brackel,  P.O.M.</th>\n",
       "      <td>1</td>\n",
       "      <td>0</td>\n",
       "      <td>0</td>\n",
       "      <td>0</td>\n",
       "      <td>0</td>\n",
       "      <td>0</td>\n",
       "      <td>1</td>\n",
       "    </tr>\n",
       "    <tr>\n",
       "      <th>Alexander,  R.</th>\n",
       "      <td>1</td>\n",
       "      <td>0</td>\n",
       "      <td>0</td>\n",
       "      <td>0</td>\n",
       "      <td>0</td>\n",
       "      <td>0</td>\n",
       "      <td>1</td>\n",
       "    </tr>\n",
       "    <tr>\n",
       "      <th>Mezoff,  R.</th>\n",
       "      <td>1</td>\n",
       "      <td>0</td>\n",
       "      <td>0</td>\n",
       "      <td>0</td>\n",
       "      <td>0</td>\n",
       "      <td>0</td>\n",
       "      <td>1</td>\n",
       "    </tr>\n",
       "    <tr>\n",
       "      <th>Moncarz,  R.</th>\n",
       "      <td>1</td>\n",
       "      <td>0</td>\n",
       "      <td>0</td>\n",
       "      <td>0</td>\n",
       "      <td>0</td>\n",
       "      <td>0</td>\n",
       "      <td>1</td>\n",
       "    </tr>\n",
       "    <tr>\n",
       "      <th>Godefroy,  J.</th>\n",
       "      <td>1</td>\n",
       "      <td>0</td>\n",
       "      <td>0</td>\n",
       "      <td>0</td>\n",
       "      <td>0</td>\n",
       "      <td>0</td>\n",
       "      <td>1</td>\n",
       "    </tr>\n",
       "    <tr>\n",
       "      <th>Sauvon,  E.A.</th>\n",
       "      <td>1</td>\n",
       "      <td>0</td>\n",
       "      <td>0</td>\n",
       "      <td>0</td>\n",
       "      <td>0</td>\n",
       "      <td>0</td>\n",
       "      <td>1</td>\n",
       "    </tr>\n",
       "    <tr>\n",
       "      <th>Doczy,  A.G.</th>\n",
       "      <td>1</td>\n",
       "      <td>0</td>\n",
       "      <td>0</td>\n",
       "      <td>0</td>\n",
       "      <td>0</td>\n",
       "      <td>0</td>\n",
       "      <td>1</td>\n",
       "    </tr>\n",
       "    <tr>\n",
       "      <th>Klompe,  M.</th>\n",
       "      <td>0</td>\n",
       "      <td>1</td>\n",
       "      <td>0</td>\n",
       "      <td>0</td>\n",
       "      <td>0</td>\n",
       "      <td>0</td>\n",
       "      <td>1</td>\n",
       "    </tr>\n",
       "    <tr>\n",
       "      <th>Clemens,  R.</th>\n",
       "      <td>0</td>\n",
       "      <td>1</td>\n",
       "      <td>0</td>\n",
       "      <td>0</td>\n",
       "      <td>0</td>\n",
       "      <td>0</td>\n",
       "      <td>1</td>\n",
       "    </tr>\n",
       "    <tr>\n",
       "      <th>Neher,  L.</th>\n",
       "      <td>0</td>\n",
       "      <td>1</td>\n",
       "      <td>0</td>\n",
       "      <td>0</td>\n",
       "      <td>0</td>\n",
       "      <td>0</td>\n",
       "      <td>1</td>\n",
       "    </tr>\n",
       "    <tr>\n",
       "      <th>Beveridge,  W.H.</th>\n",
       "      <td>0</td>\n",
       "      <td>1</td>\n",
       "      <td>0</td>\n",
       "      <td>0</td>\n",
       "      <td>0</td>\n",
       "      <td>0</td>\n",
       "      <td>1</td>\n",
       "    </tr>\n",
       "    <tr>\n",
       "      <th>Visser t Hooft,  W.A.</th>\n",
       "      <td>0</td>\n",
       "      <td>1</td>\n",
       "      <td>0</td>\n",
       "      <td>0</td>\n",
       "      <td>0</td>\n",
       "      <td>0</td>\n",
       "      <td>1</td>\n",
       "    </tr>\n",
       "    <tr>\n",
       "      <th>Eidt,  R.C.</th>\n",
       "      <td>0</td>\n",
       "      <td>1</td>\n",
       "      <td>0</td>\n",
       "      <td>0</td>\n",
       "      <td>0</td>\n",
       "      <td>0</td>\n",
       "      <td>1</td>\n",
       "    </tr>\n",
       "    <tr>\n",
       "      <th>Rutten,  F.J.Th.</th>\n",
       "      <td>0</td>\n",
       "      <td>1</td>\n",
       "      <td>0</td>\n",
       "      <td>0</td>\n",
       "      <td>0</td>\n",
       "      <td>0</td>\n",
       "      <td>1</td>\n",
       "    </tr>\n",
       "    <tr>\n",
       "      <th>Camillo de Oliveira,  A.</th>\n",
       "      <td>0</td>\n",
       "      <td>1</td>\n",
       "      <td>0</td>\n",
       "      <td>0</td>\n",
       "      <td>0</td>\n",
       "      <td>0</td>\n",
       "      <td>1</td>\n",
       "    </tr>\n",
       "    <tr>\n",
       "      <th>Glass,  D.V.</th>\n",
       "      <td>0</td>\n",
       "      <td>1</td>\n",
       "      <td>0</td>\n",
       "      <td>0</td>\n",
       "      <td>0</td>\n",
       "      <td>0</td>\n",
       "      <td>1</td>\n",
       "    </tr>\n",
       "    <tr>\n",
       "      <th>Salin,  E.</th>\n",
       "      <td>0</td>\n",
       "      <td>1</td>\n",
       "      <td>0</td>\n",
       "      <td>0</td>\n",
       "      <td>0</td>\n",
       "      <td>0</td>\n",
       "      <td>1</td>\n",
       "    </tr>\n",
       "    <tr>\n",
       "      <th>Bouman,  P.J.</th>\n",
       "      <td>0</td>\n",
       "      <td>1</td>\n",
       "      <td>0</td>\n",
       "      <td>0</td>\n",
       "      <td>0</td>\n",
       "      <td>0</td>\n",
       "      <td>1</td>\n",
       "    </tr>\n",
       "    <tr>\n",
       "      <th>Guttman,  L.</th>\n",
       "      <td>0</td>\n",
       "      <td>1</td>\n",
       "      <td>0</td>\n",
       "      <td>0</td>\n",
       "      <td>0</td>\n",
       "      <td>0</td>\n",
       "      <td>1</td>\n",
       "    </tr>\n",
       "    <tr>\n",
       "      <th>Rappard,  W.E.</th>\n",
       "      <td>0</td>\n",
       "      <td>1</td>\n",
       "      <td>0</td>\n",
       "      <td>0</td>\n",
       "      <td>0</td>\n",
       "      <td>0</td>\n",
       "      <td>1</td>\n",
       "    </tr>\n",
       "    <tr>\n",
       "      <th>Davis,  K.</th>\n",
       "      <td>0</td>\n",
       "      <td>1</td>\n",
       "      <td>0</td>\n",
       "      <td>0</td>\n",
       "      <td>0</td>\n",
       "      <td>0</td>\n",
       "      <td>1</td>\n",
       "    </tr>\n",
       "    <tr>\n",
       "      <th>Duijker,  H.C.J.</th>\n",
       "      <td>0</td>\n",
       "      <td>0</td>\n",
       "      <td>1</td>\n",
       "      <td>0</td>\n",
       "      <td>0</td>\n",
       "      <td>0</td>\n",
       "      <td>1</td>\n",
       "    </tr>\n",
       "    <tr>\n",
       "      <th>Verkade,  W.</th>\n",
       "      <td>0</td>\n",
       "      <td>0</td>\n",
       "      <td>1</td>\n",
       "      <td>0</td>\n",
       "      <td>0</td>\n",
       "      <td>0</td>\n",
       "      <td>1</td>\n",
       "    </tr>\n",
       "    <tr>\n",
       "      <th>Patijn,  C.L.</th>\n",
       "      <td>0</td>\n",
       "      <td>0</td>\n",
       "      <td>1</td>\n",
       "      <td>0</td>\n",
       "      <td>0</td>\n",
       "      <td>0</td>\n",
       "      <td>1</td>\n",
       "    </tr>\n",
       "    <tr>\n",
       "      <th>HWvanLoon Fellowship, NL regering</th>\n",
       "      <td>0</td>\n",
       "      <td>0</td>\n",
       "      <td>0</td>\n",
       "      <td>0</td>\n",
       "      <td>1</td>\n",
       "      <td>0</td>\n",
       "      <td>1</td>\n",
       "    </tr>\n",
       "    <tr>\n",
       "      <th>WOTRO (Netherlands Foundation for the Advancement of Tropical Research)</th>\n",
       "      <td>0</td>\n",
       "      <td>0</td>\n",
       "      <td>0</td>\n",
       "      <td>0</td>\n",
       "      <td>1</td>\n",
       "      <td>0</td>\n",
       "      <td>1</td>\n",
       "    </tr>\n",
       "    <tr>\n",
       "      <th>RCE</th>\n",
       "      <td>0</td>\n",
       "      <td>0</td>\n",
       "      <td>0</td>\n",
       "      <td>0</td>\n",
       "      <td>0</td>\n",
       "      <td>1</td>\n",
       "      <td>1</td>\n",
       "    </tr>\n",
       "  </tbody>\n",
       "</table>\n",
       "</div>"
      ],
      "text/plain": [
       "                                                    authors  pref_a  intro_a  \\\n",
       "Beijer,  G.                                              12       0        0   \n",
       "REMP                                                      0       0        0   \n",
       "Hofstee,  E.W.                                            4       1        0   \n",
       "Groenman,  Sj.                                            2       2        1   \n",
       "Edding,  F.                                               4       0        0   \n",
       "ICEM                                                      0       0        0   \n",
       "Radspieler,  T.                                           3       0        0   \n",
       "Richardson,  A.                                           3       0        0   \n",
       "Mol,  J.J.                                                3       0        0   \n",
       "Hack,  H.                                                 3       0        0   \n",
       "Zubrzycki,  J.                                            3       0        0   \n",
       "Isaac,  J.                                                2       1        0   \n",
       "Sauvy,  A.                                                1       2        0   \n",
       "Zeegers,  G.H.L.                                          1       1        1   \n",
       "Frijda,  N.H.                                             2       0        0   \n",
       "Rubin,  E.                                                2       0        0   \n",
       "Nixon,  J.W.                                              2       0        0   \n",
       "Mast, van der W.                                          2       0        0   \n",
       "Timlin,  M.F.                                             2       0        0   \n",
       "Appleyard,  R.T.                                          2       0        0   \n",
       "Hofstede,  B.P.                                           2       0        0   \n",
       "Bouscaren,  A.T.                                          2       0        0   \n",
       "Wentholt,  R.                                             2       0        0   \n",
       "Gadolin, de A.                                            2       0        0   \n",
       "Petersen,  W.                                             2       0        0   \n",
       "Bastos de Avila,  F.                                      2       0        0   \n",
       "Rosenfield,  H.N.                                         2       0        0   \n",
       "Lehmkuhler,  M.                                           2       0        0   \n",
       "Beld, van den C.A.                                        2       0        0   \n",
       "Ipsen,  G.                                                1       1        0   \n",
       "Mill, van A.N.                                            1       1        0   \n",
       "Haveman,  B.W.                                            0       2        0   \n",
       "Lyon,  A.V.                                               1       0        0   \n",
       "Witkamp,  T.                                              1       0        0   \n",
       "Herberle,  R.                                             1       0        0   \n",
       "Reid,  I.D.A.                                             1       0        0   \n",
       "Starr,  M.                                                1       0        0   \n",
       "Pressat,  R.                                              1       0        0   \n",
       "Maris,  A.                                                1       0        0   \n",
       "Balhana,  A.Pilatti                                       1       0        0   \n",
       "Witcover,  J.                                             1       0        0   \n",
       "Cidor,  H.A.                                              1       0        0   \n",
       "Gottmann,  J.                                             1       0        0   \n",
       "Luckham,  B.                                              1       0        0   \n",
       "Orleans,  L.A.                                            1       0        0   \n",
       "Kraak,  J.H.                                              1       0        0   \n",
       "Schoenberg,  H.W.                                         1       0        0   \n",
       "Tavuchis,  N.                                             1       0        0   \n",
       "Weinberg,  A.A.                                           1       0        0   \n",
       "Bentwich,  N.                                             1       0        0   \n",
       "Schreuder,  O.                                            1       0        0   \n",
       "Taft,  R.                                                 1       0        0   \n",
       "Fentener van Vlissingen,  R.                              1       0        0   \n",
       "Sumiya,  M.                                               1       0        0   \n",
       "Makulu,  H.F.                                             1       0        0   \n",
       "Boer-Lasschuyt, de T.                                     1       0        0   \n",
       "Roof,  M.K.                                               1       0        0   \n",
       "Putten, v.d. A.                                           1       0        0   \n",
       "Heyn,  H.                                                 1       0        0   \n",
       "Paulson,  B.                                              1       0        0   \n",
       "Rees,  E.                                                 1       0        0   \n",
       "Price,  C.A.                                              1       0        0   \n",
       "Fagley,  R.                                               1       0        0   \n",
       "Borrie,  W.D.                                             1       0        0   \n",
       "Lewis,  J.N.                                              1       0        0   \n",
       "Schmitz,  J.P.G.                                          1       0        0   \n",
       "Geyl,  W.F.                                               1       0        0   \n",
       "Olsson,  B.                                               1       0        0   \n",
       "Jong, de  P.                                              1       0        0   \n",
       "Brepohl,  W.                                              1       0        0   \n",
       "REMP,                                                     1       0        0   \n",
       "Witkamp,  F.Th.                                           1       0        0   \n",
       "Bovenkerk,  F.                                            1       0        0   \n",
       "Muller,  K.D.                                             1       0        0   \n",
       "Neumann,  B.                                              1       0        0   \n",
       "Albin,  A.                                                1       0        0   \n",
       "Wilder-Okladek,  F.                                       1       0        0   \n",
       "Weinstock,  S. Alexander                                  1       0        0   \n",
       "Johnston,  R.                                             1       0        0   \n",
       "Ex,  J.                                                   1       0        0   \n",
       "Paikert,  G.C.                                            1       0        0   \n",
       "Verwey-Jonker,  H.                                        1       0        0   \n",
       "Steigenga,  W.                                            1       0        0   \n",
       "Lannes,  X.                                               1       0        0   \n",
       "Brink, van den  T.                                        1       0        0   \n",
       "Citroen,  H.A.                                            1       0        0   \n",
       "Wander,  H.                                               1       0        0   \n",
       "Cnossen,  T.                                              1       0        0   \n",
       "Jain,  S.K.                                               1       0        0   \n",
       "Stone,  K.H.                                              1       0        0   \n",
       "Peltier,  R.                                              1       0        0   \n",
       "Belshaw,  H.                                              1       0        0   \n",
       "Mannoni,  E.                                              1       0        0   \n",
       "Hyrenius,  H.                                             1       0        0   \n",
       "Weinberg,  A.A.W.                                         1       0        0   \n",
       "Meyers,  H.G.                                             1       0        0   \n",
       "Brink, van den T                                          1       0        0   \n",
       "Dorpema,  H.                                              1       0        0   \n",
       "Maselli,  G.                                              1       0        0   \n",
       "MacKay,  M.C.J.                                           1       0        0   \n",
       "Sjollema,  B.Ch.                                          1       0        0   \n",
       "Glinstra Bleeker, van R.J.P.                              1       0        0   \n",
       "Mackenroth,  G.                                           1       0        0   \n",
       "Jorge,  A.                                                1       0        0   \n",
       "Sassen,  S.                                               1       0        0   \n",
       "Bernard,  W.S.                                            1       0        0   \n",
       "Lattimore jr,  B.G.                                       1       0        0   \n",
       "Oudegeest,  J.J.                                          1       0        0   \n",
       "Brackel,  P.O.M.                                          1       0        0   \n",
       "Alexander,  R.                                            1       0        0   \n",
       "Mezoff,  R.                                               1       0        0   \n",
       "Moncarz,  R.                                              1       0        0   \n",
       "Godefroy,  J.                                             1       0        0   \n",
       "Sauvon,  E.A.                                             1       0        0   \n",
       "Doczy,  A.G.                                              1       0        0   \n",
       "Klompe,  M.                                               0       1        0   \n",
       "Clemens,  R.                                              0       1        0   \n",
       "Neher,  L.                                                0       1        0   \n",
       "Beveridge,  W.H.                                          0       1        0   \n",
       "Visser t Hooft,  W.A.                                     0       1        0   \n",
       "Eidt,  R.C.                                               0       1        0   \n",
       "Rutten,  F.J.Th.                                          0       1        0   \n",
       "Camillo de Oliveira,  A.                                  0       1        0   \n",
       "Glass,  D.V.                                              0       1        0   \n",
       "Salin,  E.                                                0       1        0   \n",
       "Bouman,  P.J.                                             0       1        0   \n",
       "Guttman,  L.                                              0       1        0   \n",
       "Rappard,  W.E.                                            0       1        0   \n",
       "Davis,  K.                                                0       1        0   \n",
       "Duijker,  H.C.J.                                          0       0        1   \n",
       "Verkade,  W.                                              0       0        1   \n",
       "Patijn,  C.L.                                             0       0        1   \n",
       "HWvanLoon Fellowship, NL regering                         0       0        0   \n",
       "WOTRO (Netherlands Foundation for the Advanceme...        0       0        0   \n",
       "RCE                                                       0       0        0   \n",
       "\n",
       "                                                    editor  funder  \\\n",
       "Beijer,  G.                                            139       0   \n",
       "REMP                                                     0       0   \n",
       "Hofstee,  E.W.                                           0       0   \n",
       "Groenman,  Sj.                                           0       0   \n",
       "Edding,  F.                                              0       0   \n",
       "ICEM                                                     0       4   \n",
       "Radspieler,  T.                                          0       0   \n",
       "Richardson,  A.                                          0       0   \n",
       "Mol,  J.J.                                               0       0   \n",
       "Hack,  H.                                                0       0   \n",
       "Zubrzycki,  J.                                           0       0   \n",
       "Isaac,  J.                                               0       0   \n",
       "Sauvy,  A.                                               0       0   \n",
       "Zeegers,  G.H.L.                                         0       0   \n",
       "Frijda,  N.H.                                            0       0   \n",
       "Rubin,  E.                                               0       0   \n",
       "Nixon,  J.W.                                             0       0   \n",
       "Mast, van der W.                                         0       0   \n",
       "Timlin,  M.F.                                            0       0   \n",
       "Appleyard,  R.T.                                         0       0   \n",
       "Hofstede,  B.P.                                          0       0   \n",
       "Bouscaren,  A.T.                                         0       0   \n",
       "Wentholt,  R.                                            0       0   \n",
       "Gadolin, de A.                                           0       0   \n",
       "Petersen,  W.                                            0       0   \n",
       "Bastos de Avila,  F.                                     0       0   \n",
       "Rosenfield,  H.N.                                        0       0   \n",
       "Lehmkuhler,  M.                                          0       0   \n",
       "Beld, van den C.A.                                       0       0   \n",
       "Ipsen,  G.                                               0       0   \n",
       "Mill, van A.N.                                           0       0   \n",
       "Haveman,  B.W.                                           0       0   \n",
       "Lyon,  A.V.                                              0       0   \n",
       "Witkamp,  T.                                             0       0   \n",
       "Herberle,  R.                                            0       0   \n",
       "Reid,  I.D.A.                                            0       0   \n",
       "Starr,  M.                                               0       0   \n",
       "Pressat,  R.                                             0       0   \n",
       "Maris,  A.                                               0       0   \n",
       "Balhana,  A.Pilatti                                      0       0   \n",
       "Witcover,  J.                                            0       0   \n",
       "Cidor,  H.A.                                             0       0   \n",
       "Gottmann,  J.                                            0       0   \n",
       "Luckham,  B.                                             0       0   \n",
       "Orleans,  L.A.                                           0       0   \n",
       "Kraak,  J.H.                                             0       0   \n",
       "Schoenberg,  H.W.                                        0       0   \n",
       "Tavuchis,  N.                                            0       0   \n",
       "Weinberg,  A.A.                                          0       0   \n",
       "Bentwich,  N.                                            0       0   \n",
       "Schreuder,  O.                                           0       0   \n",
       "Taft,  R.                                                0       0   \n",
       "Fentener van Vlissingen,  R.                             0       0   \n",
       "Sumiya,  M.                                              0       0   \n",
       "Makulu,  H.F.                                            0       0   \n",
       "Boer-Lasschuyt, de T.                                    0       0   \n",
       "Roof,  M.K.                                              0       0   \n",
       "Putten, v.d. A.                                          0       0   \n",
       "Heyn,  H.                                                0       0   \n",
       "Paulson,  B.                                             0       0   \n",
       "Rees,  E.                                                0       0   \n",
       "Price,  C.A.                                             0       0   \n",
       "Fagley,  R.                                              0       0   \n",
       "Borrie,  W.D.                                            0       0   \n",
       "Lewis,  J.N.                                             0       0   \n",
       "Schmitz,  J.P.G.                                         0       0   \n",
       "Geyl,  W.F.                                              0       0   \n",
       "Olsson,  B.                                              0       0   \n",
       "Jong, de  P.                                             0       0   \n",
       "Brepohl,  W.                                             0       0   \n",
       "REMP,                                                    0       0   \n",
       "Witkamp,  F.Th.                                          0       0   \n",
       "Bovenkerk,  F.                                           0       0   \n",
       "Muller,  K.D.                                            0       0   \n",
       "Neumann,  B.                                             0       0   \n",
       "Albin,  A.                                               0       0   \n",
       "Wilder-Okladek,  F.                                      0       0   \n",
       "Weinstock,  S. Alexander                                 0       0   \n",
       "Johnston,  R.                                            0       0   \n",
       "Ex,  J.                                                  0       0   \n",
       "Paikert,  G.C.                                           0       0   \n",
       "Verwey-Jonker,  H.                                       0       0   \n",
       "Steigenga,  W.                                           0       0   \n",
       "Lannes,  X.                                              0       0   \n",
       "Brink, van den  T.                                       0       0   \n",
       "Citroen,  H.A.                                           0       0   \n",
       "Wander,  H.                                              0       0   \n",
       "Cnossen,  T.                                             0       0   \n",
       "Jain,  S.K.                                              0       0   \n",
       "Stone,  K.H.                                             0       0   \n",
       "Peltier,  R.                                             0       0   \n",
       "Belshaw,  H.                                             0       0   \n",
       "Mannoni,  E.                                             0       0   \n",
       "Hyrenius,  H.                                            0       0   \n",
       "Weinberg,  A.A.W.                                        0       0   \n",
       "Meyers,  H.G.                                            0       0   \n",
       "Brink, van den T                                         0       0   \n",
       "Dorpema,  H.                                             0       0   \n",
       "Maselli,  G.                                             0       0   \n",
       "MacKay,  M.C.J.                                          0       0   \n",
       "Sjollema,  B.Ch.                                         0       0   \n",
       "Glinstra Bleeker, van R.J.P.                             0       0   \n",
       "Mackenroth,  G.                                          0       0   \n",
       "Jorge,  A.                                               0       0   \n",
       "Sassen,  S.                                              0       0   \n",
       "Bernard,  W.S.                                           0       0   \n",
       "Lattimore jr,  B.G.                                      0       0   \n",
       "Oudegeest,  J.J.                                         0       0   \n",
       "Brackel,  P.O.M.                                         0       0   \n",
       "Alexander,  R.                                           0       0   \n",
       "Mezoff,  R.                                              0       0   \n",
       "Moncarz,  R.                                             0       0   \n",
       "Godefroy,  J.                                            0       0   \n",
       "Sauvon,  E.A.                                            0       0   \n",
       "Doczy,  A.G.                                             0       0   \n",
       "Klompe,  M.                                              0       0   \n",
       "Clemens,  R.                                             0       0   \n",
       "Neher,  L.                                               0       0   \n",
       "Beveridge,  W.H.                                         0       0   \n",
       "Visser t Hooft,  W.A.                                    0       0   \n",
       "Eidt,  R.C.                                              0       0   \n",
       "Rutten,  F.J.Th.                                         0       0   \n",
       "Camillo de Oliveira,  A.                                 0       0   \n",
       "Glass,  D.V.                                             0       0   \n",
       "Salin,  E.                                               0       0   \n",
       "Bouman,  P.J.                                            0       0   \n",
       "Guttman,  L.                                             0       0   \n",
       "Rappard,  W.E.                                           0       0   \n",
       "Davis,  K.                                               0       0   \n",
       "Duijker,  H.C.J.                                         0       0   \n",
       "Verkade,  W.                                             0       0   \n",
       "Patijn,  C.L.                                            0       0   \n",
       "HWvanLoon Fellowship, NL regering                        0       1   \n",
       "WOTRO (Netherlands Foundation for the Advanceme...       0       1   \n",
       "RCE                                                      0       0   \n",
       "\n",
       "                                                    executor_org  total  \n",
       "Beijer,  G.                                                    0    151  \n",
       "REMP                                                          24     24  \n",
       "Hofstee,  E.W.                                                 0      5  \n",
       "Groenman,  Sj.                                                 0      5  \n",
       "Edding,  F.                                                    0      4  \n",
       "ICEM                                                           0      4  \n",
       "Radspieler,  T.                                                0      3  \n",
       "Richardson,  A.                                                0      3  \n",
       "Mol,  J.J.                                                     0      3  \n",
       "Hack,  H.                                                      0      3  \n",
       "Zubrzycki,  J.                                                 0      3  \n",
       "Isaac,  J.                                                     0      3  \n",
       "Sauvy,  A.                                                     0      3  \n",
       "Zeegers,  G.H.L.                                               0      3  \n",
       "Frijda,  N.H.                                                  0      2  \n",
       "Rubin,  E.                                                     0      2  \n",
       "Nixon,  J.W.                                                   0      2  \n",
       "Mast, van der W.                                               0      2  \n",
       "Timlin,  M.F.                                                  0      2  \n",
       "Appleyard,  R.T.                                               0      2  \n",
       "Hofstede,  B.P.                                                0      2  \n",
       "Bouscaren,  A.T.                                               0      2  \n",
       "Wentholt,  R.                                                  0      2  \n",
       "Gadolin, de A.                                                 0      2  \n",
       "Petersen,  W.                                                  0      2  \n",
       "Bastos de Avila,  F.                                           0      2  \n",
       "Rosenfield,  H.N.                                              0      2  \n",
       "Lehmkuhler,  M.                                                0      2  \n",
       "Beld, van den C.A.                                             0      2  \n",
       "Ipsen,  G.                                                     0      2  \n",
       "Mill, van A.N.                                                 0      2  \n",
       "Haveman,  B.W.                                                 0      2  \n",
       "Lyon,  A.V.                                                    0      1  \n",
       "Witkamp,  T.                                                   0      1  \n",
       "Herberle,  R.                                                  0      1  \n",
       "Reid,  I.D.A.                                                  0      1  \n",
       "Starr,  M.                                                     0      1  \n",
       "Pressat,  R.                                                   0      1  \n",
       "Maris,  A.                                                     0      1  \n",
       "Balhana,  A.Pilatti                                            0      1  \n",
       "Witcover,  J.                                                  0      1  \n",
       "Cidor,  H.A.                                                   0      1  \n",
       "Gottmann,  J.                                                  0      1  \n",
       "Luckham,  B.                                                   0      1  \n",
       "Orleans,  L.A.                                                 0      1  \n",
       "Kraak,  J.H.                                                   0      1  \n",
       "Schoenberg,  H.W.                                              0      1  \n",
       "Tavuchis,  N.                                                  0      1  \n",
       "Weinberg,  A.A.                                                0      1  \n",
       "Bentwich,  N.                                                  0      1  \n",
       "Schreuder,  O.                                                 0      1  \n",
       "Taft,  R.                                                      0      1  \n",
       "Fentener van Vlissingen,  R.                                   0      1  \n",
       "Sumiya,  M.                                                    0      1  \n",
       "Makulu,  H.F.                                                  0      1  \n",
       "Boer-Lasschuyt, de T.                                          0      1  \n",
       "Roof,  M.K.                                                    0      1  \n",
       "Putten, v.d. A.                                                0      1  \n",
       "Heyn,  H.                                                      0      1  \n",
       "Paulson,  B.                                                   0      1  \n",
       "Rees,  E.                                                      0      1  \n",
       "Price,  C.A.                                                   0      1  \n",
       "Fagley,  R.                                                    0      1  \n",
       "Borrie,  W.D.                                                  0      1  \n",
       "Lewis,  J.N.                                                   0      1  \n",
       "Schmitz,  J.P.G.                                               0      1  \n",
       "Geyl,  W.F.                                                    0      1  \n",
       "Olsson,  B.                                                    0      1  \n",
       "Jong, de  P.                                                   0      1  \n",
       "Brepohl,  W.                                                   0      1  \n",
       "REMP,                                                          0      1  \n",
       "Witkamp,  F.Th.                                                0      1  \n",
       "Bovenkerk,  F.                                                 0      1  \n",
       "Muller,  K.D.                                                  0      1  \n",
       "Neumann,  B.                                                   0      1  \n",
       "Albin,  A.                                                     0      1  \n",
       "Wilder-Okladek,  F.                                            0      1  \n",
       "Weinstock,  S. Alexander                                       0      1  \n",
       "Johnston,  R.                                                  0      1  \n",
       "Ex,  J.                                                        0      1  \n",
       "Paikert,  G.C.                                                 0      1  \n",
       "Verwey-Jonker,  H.                                             0      1  \n",
       "Steigenga,  W.                                                 0      1  \n",
       "Lannes,  X.                                                    0      1  \n",
       "Brink, van den  T.                                             0      1  \n",
       "Citroen,  H.A.                                                 0      1  \n",
       "Wander,  H.                                                    0      1  \n",
       "Cnossen,  T.                                                   0      1  \n",
       "Jain,  S.K.                                                    0      1  \n",
       "Stone,  K.H.                                                   0      1  \n",
       "Peltier,  R.                                                   0      1  \n",
       "Belshaw,  H.                                                   0      1  \n",
       "Mannoni,  E.                                                   0      1  \n",
       "Hyrenius,  H.                                                  0      1  \n",
       "Weinberg,  A.A.W.                                              0      1  \n",
       "Meyers,  H.G.                                                  0      1  \n",
       "Brink, van den T                                               0      1  \n",
       "Dorpema,  H.                                                   0      1  \n",
       "Maselli,  G.                                                   0      1  \n",
       "MacKay,  M.C.J.                                                0      1  \n",
       "Sjollema,  B.Ch.                                               0      1  \n",
       "Glinstra Bleeker, van R.J.P.                                   0      1  \n",
       "Mackenroth,  G.                                                0      1  \n",
       "Jorge,  A.                                                     0      1  \n",
       "Sassen,  S.                                                    0      1  \n",
       "Bernard,  W.S.                                                 0      1  \n",
       "Lattimore jr,  B.G.                                            0      1  \n",
       "Oudegeest,  J.J.                                               0      1  \n",
       "Brackel,  P.O.M.                                               0      1  \n",
       "Alexander,  R.                                                 0      1  \n",
       "Mezoff,  R.                                                    0      1  \n",
       "Moncarz,  R.                                                   0      1  \n",
       "Godefroy,  J.                                                  0      1  \n",
       "Sauvon,  E.A.                                                  0      1  \n",
       "Doczy,  A.G.                                                   0      1  \n",
       "Klompe,  M.                                                    0      1  \n",
       "Clemens,  R.                                                   0      1  \n",
       "Neher,  L.                                                     0      1  \n",
       "Beveridge,  W.H.                                               0      1  \n",
       "Visser t Hooft,  W.A.                                          0      1  \n",
       "Eidt,  R.C.                                                    0      1  \n",
       "Rutten,  F.J.Th.                                               0      1  \n",
       "Camillo de Oliveira,  A.                                       0      1  \n",
       "Glass,  D.V.                                                   0      1  \n",
       "Salin,  E.                                                     0      1  \n",
       "Bouman,  P.J.                                                  0      1  \n",
       "Guttman,  L.                                                   0      1  \n",
       "Rappard,  W.E.                                                 0      1  \n",
       "Davis,  K.                                                     0      1  \n",
       "Duijker,  H.C.J.                                               0      1  \n",
       "Verkade,  W.                                                   0      1  \n",
       "Patijn,  C.L.                                                  0      1  \n",
       "HWvanLoon Fellowship, NL regering                              0      1  \n",
       "WOTRO (Netherlands Foundation for the Advanceme...             0      1  \n",
       "RCE                                                            1      1  "
      ]
     },
     "execution_count": 38,
     "metadata": {},
     "output_type": "execute_result"
    }
   ],
   "source": [
    "\n",
    "pd.options.display.max_rows = 999\n",
    "\n",
    "overview.sort_values(['total','authors'], ascending=False)"
   ]
  },
  {
   "cell_type": "markdown",
   "metadata": {
    "tags": [
     "narrative"
    ]
   },
   "source": [
    "There are a few important conclusions that follow from this analysis. \n",
    "\n",
    "1. Günter Beijer was the founder of the REMP and throughout the 1950s, 60 and 70s the central person for its scientific output. His network consisted of academics and administrators that collaborated on a number of studies.\n",
    "2. The people and organisations in the network were not only from the Netherlands, but also a number of other countries. \n",
    "3. There were numerous connections between politicians and academics that together established a discourse coalition, in which the academics (mostly) wrote the contributions while administrators and their organisations supported the research by funding, by commissioning studies and by writing prefaces that pointed out the importance for policy formation.\n",
    "4. The international organisation ICEM was involved explicitly in the network from 1958 when it started to fund studies in emigration. This was mediated through Bas Haveman, who in 1961 became director of ICEM. "
   ]
  },
  {
   "cell_type": "markdown",
   "metadata": {
    "tags": [
     "title"
    ]
   },
   "source": [
    "### Network Overlap"
   ]
  },
  {
   "cell_type": "markdown",
   "metadata": {
    "tags": [
     "narrative"
    ]
   },
   "source": [
    "From the time Haveman took office as Government Commissioner and later as Director-General at ICEM, he involved the REMP network in its operations, striving to found policies on research. This was evident when the previously separated journals _Migration_ and the _REMP Bulletin_ were merged into a new journal, _International Migration_ (IM). But also the network itself was extended. The REMP publications dataset is not suited to investigate this. Therefore, we have compared the evidence we have in other datasets for overlap. These datasets are show in the diagram in figure 1. \n",
    "\n",
    "More specifically, we study the overlap between members of the REMP Board, the ICEM directors and deputy directors, the Dutch Government and the authors of the studies in REMP, IM and the _International Migration Review_ (IMR) journal. \n"
   ]
  },
  {
   "cell_type": "markdown",
   "metadata": {
    "tags": [
     "hermeneutics",
     "hermeneutics-step"
    ]
   },
   "source": [
    "We want to show the overlap between persons who published research on migration management and persons who had a role as governing board member. \n",
    "\n",
    "Step 1. Load the publication records and the person entity metadata. \n",
    "\n",
    "Step 2. Merge the lists of person names using their surname and the first initial of their first name, to make sure that small variations in how their names appear are mapped to the same person. E.g. Günther Beijer, G. Beijer and G.O.K. Beijer all refer to the same person. We did a manual inspection of all the names that were linked through overlapping surname and first initial and found no errors.\n",
    "\n",
    "Step 3. We categorise each person as being 1) a research author and 2) an administrator or member of a governing board, and calculate how many persons each category contains."
   ]
  },
  {
   "cell_type": "code",
   "execution_count": null,
   "metadata": {
    "tags": [
     "hermeneutics",
     "hermeneutics-step"
    ]
   },
   "outputs": [],
   "source": [
    "import pandas as pd\n",
    "from scripts.data_wrangling import get_publication_author_administrator_overlap\n",
    "import scripts.datasets as dataset_api\n",
    "\n",
    "\n",
    "pub_df = dataset_api.read_publications()\n",
    "category_records = dataset_api.read_person_category_records()\n",
    "\n",
    "# find overlap in persons as authors and persons as administrators or board members\n",
    "authors_admin = get_publication_author_administrator_overlap(pub_df, category_records)\n",
    "\n",
    "# The total number of person entities in the dataset\n",
    "n_all = authors_admin.author_surname_initial.unique()\n",
    "# The total number of authors of the REMP and IM publications\n",
    "n_authors = authors_admin.loc[authors_admin.in_pub>0].author_surname_initial.unique()\n",
    "# The number of board members in REMP, ICEM and national governments\n",
    "n_admin = authors_admin.loc[authors_admin.in_admin>0].author_surname_initial.unique()\n",
    "# The number of persons who are both article author and board member\n",
    "n_admin_and_author = authors_admin.loc[(authors_admin.in_admin>0) & (authors_admin.in_pub>0)].author_surname_initial.unique()\n",
    "\n",
    "# Wrap these in a dataframe for readable display\n",
    "nw_nrs = {'all_network':len(n_all), \n",
    "'authors':len(n_authors),\n",
    "'administrators':len(n_admin), \n",
    "'administrator and author':len(n_admin_and_author)}\n",
    "\n",
    "nw_div = pd.Series(nw_nrs).to_frame().rename(columns={0:\"number\"})\n",
    "nw_div['%'] = round(nw_div.number/len(n_all)*100, 1)\n"
   ]
  },
  {
   "cell_type": "code",
   "execution_count": null,
   "metadata": {
    "jdh": {
     "object": {
      "source": [
       "table 3: Division between Authors and Administrators"
      ]
     }
    },
    "tags": [
     "hermeneutics",
     "table-3",
     "narrative",
     "hermeneutics-step"
    ]
   },
   "outputs": [],
   "source": [
    "nw_div"
   ]
  },
  {
   "cell_type": "markdown",
   "metadata": {
    "tags": [
     "narrative"
    ]
   },
   "source": [
    "In the datasets, there are 2540 records. Most of the people in the migration managment discourse network (98,4 percent) were authors, while 2.8 percent were on the governing boards of either REMP or ICEM. Only 1.2 percent were active in governance and were authors as well. Our datasets allow us to analyse the evolution of the network over time to a limited extent, as the REMP network decreases in activity after 1970 and as we have much less detailed data about the ICEM network in which the REMP discourse coalition was absorped. The analysis per decade in figure 5 therefore has an emphasis on the 1950s and 1960, when the REMP discourse coalition was most active. REMP founder Günter Beijer was active from the start in 1952 until his death in 1983, but he was followed by other academics and organizers. Australia-based Reginald Appleyard, for instance, appeared in the REMP network in the 1960s, and remained active in the ICEM network as editor of International Migration until the 1990s.\n",
    "\n",
    "Haveman became ICEM director in the early 1960s, but his predecessors and followers were not Dutch. On the basis of the national provenance of the people in the network of REMP and ICEM it can be concluded that REMP was predominantly (though not exclusively) Dutch oriented in the 1950s, but got more international in the 1960s and even more so in later decades. We have visualized the nationalities of the people in the discourse coalition networks in different decades, as far as we were able to track these down (figure 6). Especially for the later decades, our data about nationalities mostly comprise the administrators in the network, so overall conclusions cannot be very firm. It is clear, however, that the importance of the Netherlands decreased over time and that the network got more international and operated under auspices of ICEM. \n",
    "\n",
    "This is mirrored in the scientific output of the discourse coalition, as the REMP publications decreased in number over the years. As we have outlined above, the REMP bulletin merged into the ICEM sponsored _International Migration_ journal. But it was also a result of the changing nature of migration in the Netherlands, that changed from an emigration country in the 1950s and 1960s to a mostly immigration country from the 1970s. The Netherlands shared this change with much of Europe. At the ICEM sponsored ‘Seminar on \"The Role of International Migration in the Development of Modern Society”' in Turin on 14 and 15 October 1961, the French technocrat and at the time chair of the REMP-board Alfred Sauvy remarked that \"[s]ince the discovery of the New World, migrations have traditionally been from Europe, a developed region, to [...] America, Africa and, to a far less extent, to Asia. We are therefore confronted with an unexpected reversal of the migration flow [...] which no one at all had foreseen ten years ago\" (<cite data-cite=\"3655479/4X34EF3B\"></cite> preliminaries_2009, 21-22). This was in the years that Haveman was ICEM director and leads us to the discourse part of the migration management discourse network."
   ]
  },
  {
   "cell_type": "code",
   "execution_count": null,
   "metadata": {
    "tags": [
     "hermeneutics"
    ]
   },
   "outputs": [],
   "source": [
    "from scripts.data_wrangling import highlight_decade\n",
    "from scripts.data_wrangling import get_publication_author_administrator_overlap\n",
    "\n",
    "pub_df = dataset_api.read_publications()\n",
    "category_records = dataset_api.read_person_category_records()\n",
    "\n",
    "# Get all publications and admin memberships per author per decade\n",
    "author_admin = get_publication_author_administrator_overlap(pub_df, category_records)\n",
    "\n",
    "# Select only the persons who have both publications and memberships\n",
    "author_admin_decade = author_admin[(author_admin.in_admin == 1) & (author_admin.in_pub == 1)].drop(\n",
    "    ['in_admin', 'in_pub'], axis=1)\n",
    "\n",
    "# Select cols for display\n",
    "cols = ['author_surname_initial', 'cat', 1950, 1960, 1970, 1980, 1990]\n",
    "\n"
   ]
  },
  {
   "cell_type": "code",
   "execution_count": null,
   "metadata": {
    "jdh": {
     "object": {
      "source": [
       "table 4: Network Overlap in the Discourse Coalition"
      ]
     }
    },
    "tags": [
     "hermeneutics",
     "table-4",
     "narrative"
    ]
   },
   "outputs": [],
   "source": [
    "# Use colour highlighting to show \n",
    "# - in blue: decades in which a person published\n",
    "# - in red: decades in which a person served on as administrator\n",
    "author_admin_decade[cols].sort_values(by='author_surname_initial').style.apply(highlight_decade, axis=1)"
   ]
  },
  {
   "cell_type": "markdown",
   "metadata": {
    "tags": [
     "hermeneutics",
     "narrative"
    ]
   },
   "source": [
    "Table 5 contains a list of persons who both published research and had an administrative role. Each person is listed at least twice, once for the decades in which they publish in REMP or IM, once for publications in IMR and once for each administrative role they had. From the 80s, the list of persons with double roles decreases. Also, the balance shifts from Dutch to non-Dutch persons (figure 4). \n",
    "\n",
    "It is tempting to conclude from the decrease of the network that it fell apart and that the discourse coalition disappeared in the 1980s, but we argue that that is not the case. Rather, the explicit involvement of adminstrators in the network became less prominent and the discussion shifted to the academic part of the network. We know from the Beijer archive that at the end of the 1960s, beginning of the 1970s there was a dip in the REMP/IM activities and that he established contacts with IMR-editors, which also shows in the data. This also applies to Beijers Australian successor Appleyard.  At the same time, policy making strategies in ICM/IOM migration management was increasingly handed over to regional activities in the public domain in collaboration with think tanks and consultancy agencies, mostly on border control with biometrical instrument that were neither part of academia nor of public administration, and certainly contributed to a new phase in technocracy (Cf. <cite data-cite=\"3655479/LQ8F88BC\"></cite> Klekowski von Koppenfels 2001, 72, 78-80; <cite data-cite=\"3655479/42V6U65E\"></cite> Andrijasevic & Walters 2010, 988, esp. note 17). They were informed by and participated in the ongoing discourse about migrant management. Because these agencies have no obligation for public accounting, as they perform their studies for political or administrative actors that do no longer directly interact with research, but are indirectly still informed by it. While it became harder to follow the administrative part of the discourse coalition in the datasets we used, we can still observe its research part as this continued in the same academic journals as before. "
   ]
  },
  {
   "cell_type": "markdown",
   "metadata": {
    "tags": [
     "hermeneutics"
    ]
   },
   "source": [
    "We want to visualise the geographical spread of administrators and members of governing boards in each decade from the 1950s until the 1990s.\n",
    "\n",
    "Step 1. We load the person category metadata (which governing boards they served on and when), and check the overlap between their period of membership and each decade. \n",
    "\n",
    "Step 2. We normalise the country codes (e.g. USA $\\rightarrow$ US, UK $\\rightarrow$ GB), excluding the persons for which we do not know the country of origin. \n",
    "\n",
    "Step 3. Create a geographical chart with a heat map highlighting the number of active board members per country."
   ]
  },
  {
   "cell_type": "code",
   "execution_count": 39,
   "metadata": {
    "tags": [
     "hermeneutics"
    ]
   },
   "outputs": [],
   "source": [
    "import scripts.datasets as dataset_api\n",
    "import scripts.data_wrangling as dw\n",
    "\n",
    "# Read the person category data\n",
    "category_records = dataset_api.read_person_category_records()\n",
    "\n",
    "# Create a dataframe with the decades in which each administrator was active\n",
    "decade_admin_df = dw.get_administrator_decades(category_records)\n",
    "\n",
    "# normalise country codes to be consistent\n",
    "country_code_map = {\n",
    "    'prs_country': {\n",
    "        'UK': 'GB',\n",
    "        'USA': 'US',\n",
    "        'UK /AU': 'AU',\n",
    "        '': 'US', \n",
    "    }\n",
    "}\n",
    "\n",
    "decade_admin_df = decade_admin_df.replace(country_code_map)\n",
    "\n",
    "# select only administrator for which country of origin is known\n",
    "decade_admin_df = decade_admin_df.loc[decade_admin_df.prs_country != 'unknown']\n",
    "\n",
    "# Create a dataframe per decade with the number of active administrators per country\n",
    "per_decade_df = {}\n",
    "\n",
    "for decade in range(1950, 2000, 10):\n",
    "    decade_df = decade_admin_df.loc[decade_admin_df[decade] > 0].prs_country.value_counts().rename_axis(\n",
    "        'country').reset_index(name='number')\n",
    "    decade_df['numeric'] = decade_df.country.map(lambda x: int(countries.get(x).numeric))\n",
    "    per_decade_df[decade] = decade_df"
   ]
  },
  {
   "cell_type": "code",
   "execution_count": 40,
   "metadata": {
    "tags": [
     "hermeneutics"
    ]
   },
   "outputs": [],
   "source": [
    "\n",
    "admin_charts = alt.hconcat()\n",
    "sphere = alt.sphere()\n",
    "graticule = alt.graticule()\n",
    "# Source of land data\n",
    "source = alt.topo_feature(vega_data.world_110m.url, 'countries')\n",
    "\n",
    "for decade in per_decade_df:\n",
    "    dec_colours_obj = alt.Color('number:Q',\n",
    "                                scale=alt.Scale(scheme='blues'),\n",
    "                                title=\"number\",\n",
    "                                legend=None)\n",
    "    admin_map = alt.layer(\n",
    "        alt.Chart(sphere, title=f\"{decade}\").mark_geoshape(fill='white'),\n",
    "        alt.Chart(graticule).mark_geoshape(stroke='white', strokeWidth=0.5),\n",
    "        alt.Chart(source\n",
    "                  ).mark_geoshape(stroke='black', ).encode(\n",
    "            color=dec_colours_obj\n",
    "        ).transform_lookup(\n",
    "            lookup='id',\n",
    "            from_=alt.LookupData(per_decade_df[decade], key='numeric', fields=['number']))\n",
    "    ).project(\n",
    "        'mercator',\n",
    "        scale=100,\n",
    "        center=[-170, 85]\n",
    "    ).properties(width=600, height=400)\n",
    "\n",
    "    histogram = alt.Chart(per_decade_df[decade]).mark_bar().encode(\n",
    "        x='country',\n",
    "        y=alt.Y('number:Q'),\n",
    "        color='number:Q'\n",
    "    ).properties(\n",
    "        height=400,\n",
    "        width=100\n",
    "    )\n",
    "\n",
    "    compound_chart = alt.hconcat(\n",
    "        admin_map,\n",
    "        histogram\n",
    "    )\n",
    "\n",
    "    admin_charts &= compound_chart\n",
    "\n"
   ]
  },
  {
   "cell_type": "code",
   "execution_count": 41,
   "metadata": {
    "jdh": {
     "object": {
      "source": [
       "figure 4: Provenance of Discourse Coalition Participants 1950s-1980s"
      ]
     }
    },
    "tags": [
     "figure-4",
     "hermeneutics",
     "hermeneutics-step"
    ]
   },
   "outputs": [
    {
     "data": {
      "text/html": [
       "\n",
       "<div id=\"altair-viz-a38ccb9bd80e4b2d808d370a613ee7d3\"></div>\n",
       "<script type=\"text/javascript\">\n",
       "  var VEGA_DEBUG = (typeof VEGA_DEBUG == \"undefined\") ? {} : VEGA_DEBUG;\n",
       "  (function(spec, embedOpt){\n",
       "    let outputDiv = document.currentScript.previousElementSibling;\n",
       "    if (outputDiv.id !== \"altair-viz-a38ccb9bd80e4b2d808d370a613ee7d3\") {\n",
       "      outputDiv = document.getElementById(\"altair-viz-a38ccb9bd80e4b2d808d370a613ee7d3\");\n",
       "    }\n",
       "    const paths = {\n",
       "      \"vega\": \"https://cdn.jsdelivr.net/npm//vega@5?noext\",\n",
       "      \"vega-lib\": \"https://cdn.jsdelivr.net/npm//vega-lib?noext\",\n",
       "      \"vega-lite\": \"https://cdn.jsdelivr.net/npm//vega-lite@4.17.0?noext\",\n",
       "      \"vega-embed\": \"https://cdn.jsdelivr.net/npm//vega-embed@6?noext\",\n",
       "    };\n",
       "\n",
       "    function maybeLoadScript(lib, version) {\n",
       "      var key = `${lib.replace(\"-\", \"\")}_version`;\n",
       "      return (VEGA_DEBUG[key] == version) ?\n",
       "        Promise.resolve(paths[lib]) :\n",
       "        new Promise(function(resolve, reject) {\n",
       "          var s = document.createElement('script');\n",
       "          document.getElementsByTagName(\"head\")[0].appendChild(s);\n",
       "          s.async = true;\n",
       "          s.onload = () => {\n",
       "            VEGA_DEBUG[key] = version;\n",
       "            return resolve(paths[lib]);\n",
       "          };\n",
       "          s.onerror = () => reject(`Error loading script: ${paths[lib]}`);\n",
       "          s.src = paths[lib];\n",
       "        });\n",
       "    }\n",
       "\n",
       "    function showError(err) {\n",
       "      outputDiv.innerHTML = `<div class=\"error\" style=\"color:red;\">${err}</div>`;\n",
       "      throw err;\n",
       "    }\n",
       "\n",
       "    function displayChart(vegaEmbed) {\n",
       "      vegaEmbed(outputDiv, spec, embedOpt)\n",
       "        .catch(err => showError(`Javascript Error: ${err.message}<br>This usually means there's a typo in your chart specification. See the javascript console for the full traceback.`));\n",
       "    }\n",
       "\n",
       "    if(typeof define === \"function\" && define.amd) {\n",
       "      requirejs.config({paths});\n",
       "      require([\"vega-embed\"], displayChart, err => showError(`Error loading script: ${err.message}`));\n",
       "    } else {\n",
       "      maybeLoadScript(\"vega\", \"5\")\n",
       "        .then(() => maybeLoadScript(\"vega-lite\", \"4.17.0\"))\n",
       "        .then(() => maybeLoadScript(\"vega-embed\", \"6\"))\n",
       "        .catch(showError)\n",
       "        .then(() => displayChart(vegaEmbed));\n",
       "    }\n",
       "  })({\"config\": {\"view\": {\"continuousWidth\": 400, \"continuousHeight\": 300, \"stroke\": null}, \"axis\": {\"labelFontSize\": 9, \"titleFontSize\": 16}}, \"vconcat\": [{\"hconcat\": []}, {\"hconcat\": [{\"layer\": [{\"data\": {\"sphere\": true}, \"mark\": {\"type\": \"geoshape\", \"fill\": \"white\"}, \"title\": \"1950\"}, {\"data\": {\"graticule\": true}, \"mark\": {\"type\": \"geoshape\", \"stroke\": \"white\", \"strokeWidth\": 0.5}}, {\"data\": {\"url\": \"https://cdn.jsdelivr.net/npm/vega-datasets@v1.29.0/data/world-110m.json\", \"format\": {\"feature\": \"countries\", \"type\": \"topojson\"}}, \"mark\": {\"type\": \"geoshape\", \"stroke\": \"black\"}, \"encoding\": {\"color\": {\"field\": \"number\", \"legend\": null, \"scale\": {\"scheme\": \"blues\"}, \"title\": \"number\", \"type\": \"quantitative\"}}, \"transform\": [{\"lookup\": \"id\", \"from\": {\"data\": {\"name\": \"data-452a8cdfa62e9f087a7d67e9b9c830c5\"}, \"key\": \"numeric\", \"fields\": [\"number\"]}}]}], \"height\": 400, \"projection\": {\"center\": [-170, 85], \"scale\": 100, \"type\": \"mercator\"}, \"width\": 600}, {\"data\": {\"name\": \"data-452a8cdfa62e9f087a7d67e9b9c830c5\"}, \"mark\": \"bar\", \"encoding\": {\"color\": {\"field\": \"number\", \"type\": \"quantitative\"}, \"x\": {\"field\": \"country\", \"type\": \"nominal\"}, \"y\": {\"field\": \"number\", \"type\": \"quantitative\"}}, \"height\": 400, \"width\": 100}]}, {\"hconcat\": [{\"layer\": [{\"data\": {\"sphere\": true}, \"mark\": {\"type\": \"geoshape\", \"fill\": \"white\"}, \"title\": \"1960\"}, {\"data\": {\"graticule\": true}, \"mark\": {\"type\": \"geoshape\", \"stroke\": \"white\", \"strokeWidth\": 0.5}}, {\"data\": {\"url\": \"https://cdn.jsdelivr.net/npm/vega-datasets@v1.29.0/data/world-110m.json\", \"format\": {\"feature\": \"countries\", \"type\": \"topojson\"}}, \"mark\": {\"type\": \"geoshape\", \"stroke\": \"black\"}, \"encoding\": {\"color\": {\"field\": \"number\", \"legend\": null, \"scale\": {\"scheme\": \"blues\"}, \"title\": \"number\", \"type\": \"quantitative\"}}, \"transform\": [{\"lookup\": \"id\", \"from\": {\"data\": {\"name\": \"data-d520742224268e392956f6cd34697ca3\"}, \"key\": \"numeric\", \"fields\": [\"number\"]}}]}], \"height\": 400, \"projection\": {\"center\": [-170, 85], \"scale\": 100, \"type\": \"mercator\"}, \"width\": 600}, {\"data\": {\"name\": \"data-d520742224268e392956f6cd34697ca3\"}, \"mark\": \"bar\", \"encoding\": {\"color\": {\"field\": \"number\", \"type\": \"quantitative\"}, \"x\": {\"field\": \"country\", \"type\": \"nominal\"}, \"y\": {\"field\": \"number\", \"type\": \"quantitative\"}}, \"height\": 400, \"width\": 100}]}, {\"hconcat\": [{\"layer\": [{\"data\": {\"sphere\": true}, \"mark\": {\"type\": \"geoshape\", \"fill\": \"white\"}, \"title\": \"1970\"}, {\"data\": {\"graticule\": true}, \"mark\": {\"type\": \"geoshape\", \"stroke\": \"white\", \"strokeWidth\": 0.5}}, {\"data\": {\"url\": \"https://cdn.jsdelivr.net/npm/vega-datasets@v1.29.0/data/world-110m.json\", \"format\": {\"feature\": \"countries\", \"type\": \"topojson\"}}, \"mark\": {\"type\": \"geoshape\", \"stroke\": \"black\"}, \"encoding\": {\"color\": {\"field\": \"number\", \"legend\": null, \"scale\": {\"scheme\": \"blues\"}, \"title\": \"number\", \"type\": \"quantitative\"}}, \"transform\": [{\"lookup\": \"id\", \"from\": {\"data\": {\"name\": \"data-110f45bd90cb32f5b9c898017754442d\"}, \"key\": \"numeric\", \"fields\": [\"number\"]}}]}], \"height\": 400, \"projection\": {\"center\": [-170, 85], \"scale\": 100, \"type\": \"mercator\"}, \"width\": 600}, {\"data\": {\"name\": \"data-110f45bd90cb32f5b9c898017754442d\"}, \"mark\": \"bar\", \"encoding\": {\"color\": {\"field\": \"number\", \"type\": \"quantitative\"}, \"x\": {\"field\": \"country\", \"type\": \"nominal\"}, \"y\": {\"field\": \"number\", \"type\": \"quantitative\"}}, \"height\": 400, \"width\": 100}]}, {\"hconcat\": [{\"layer\": [{\"data\": {\"sphere\": true}, \"mark\": {\"type\": \"geoshape\", \"fill\": \"white\"}, \"title\": \"1980\"}, {\"data\": {\"graticule\": true}, \"mark\": {\"type\": \"geoshape\", \"stroke\": \"white\", \"strokeWidth\": 0.5}}, {\"data\": {\"url\": \"https://cdn.jsdelivr.net/npm/vega-datasets@v1.29.0/data/world-110m.json\", \"format\": {\"feature\": \"countries\", \"type\": \"topojson\"}}, \"mark\": {\"type\": \"geoshape\", \"stroke\": \"black\"}, \"encoding\": {\"color\": {\"field\": \"number\", \"legend\": null, \"scale\": {\"scheme\": \"blues\"}, \"title\": \"number\", \"type\": \"quantitative\"}}, \"transform\": [{\"lookup\": \"id\", \"from\": {\"data\": {\"name\": \"data-122dc8cfefdc81bfed4fcc0a069e614e\"}, \"key\": \"numeric\", \"fields\": [\"number\"]}}]}], \"height\": 400, \"projection\": {\"center\": [-170, 85], \"scale\": 100, \"type\": \"mercator\"}, \"width\": 600}, {\"data\": {\"name\": \"data-122dc8cfefdc81bfed4fcc0a069e614e\"}, \"mark\": \"bar\", \"encoding\": {\"color\": {\"field\": \"number\", \"type\": \"quantitative\"}, \"x\": {\"field\": \"country\", \"type\": \"nominal\"}, \"y\": {\"field\": \"number\", \"type\": \"quantitative\"}}, \"height\": 400, \"width\": 100}]}, {\"hconcat\": [{\"layer\": [{\"data\": {\"sphere\": true}, \"mark\": {\"type\": \"geoshape\", \"fill\": \"white\"}, \"title\": \"1990\"}, {\"data\": {\"graticule\": true}, \"mark\": {\"type\": \"geoshape\", \"stroke\": \"white\", \"strokeWidth\": 0.5}}, {\"data\": {\"url\": \"https://cdn.jsdelivr.net/npm/vega-datasets@v1.29.0/data/world-110m.json\", \"format\": {\"feature\": \"countries\", \"type\": \"topojson\"}}, \"mark\": {\"type\": \"geoshape\", \"stroke\": \"black\"}, \"encoding\": {\"color\": {\"field\": \"number\", \"legend\": null, \"scale\": {\"scheme\": \"blues\"}, \"title\": \"number\", \"type\": \"quantitative\"}}, \"transform\": [{\"lookup\": \"id\", \"from\": {\"data\": {\"name\": \"data-28173fac62dc3d238915d3ce142eb0b7\"}, \"key\": \"numeric\", \"fields\": [\"number\"]}}]}], \"height\": 400, \"projection\": {\"center\": [-170, 85], \"scale\": 100, \"type\": \"mercator\"}, \"width\": 600}, {\"data\": {\"name\": \"data-28173fac62dc3d238915d3ce142eb0b7\"}, \"mark\": \"bar\", \"encoding\": {\"color\": {\"field\": \"number\", \"type\": \"quantitative\"}, \"x\": {\"field\": \"country\", \"type\": \"nominal\"}, \"y\": {\"field\": \"number\", \"type\": \"quantitative\"}}, \"height\": 400, \"width\": 100}]}], \"$schema\": \"https://vega.github.io/schema/vega-lite/v4.17.0.json\", \"datasets\": {\"data-452a8cdfa62e9f087a7d67e9b9c830c5\": [{\"country\": \"NL\", \"number\": 14, \"numeric\": 528}, {\"country\": \"FR\", \"number\": 6, \"numeric\": 250}, {\"country\": \"IT\", \"number\": 6, \"numeric\": 380}, {\"country\": \"DE\", \"number\": 5, \"numeric\": 276}, {\"country\": \"US\", \"number\": 4, \"numeric\": 840}, {\"country\": \"CH\", \"number\": 3, \"numeric\": 756}, {\"country\": \"BE\", \"number\": 2, \"numeric\": 56}, {\"country\": \"SE\", \"number\": 2, \"numeric\": 752}, {\"country\": \"AT\", \"number\": 1, \"numeric\": 40}, {\"country\": \"FI\", \"number\": 1, \"numeric\": 246}, {\"country\": \"GB\", \"number\": 1, \"numeric\": 826}, {\"country\": \"CA\", \"number\": 1, \"numeric\": 124}, {\"country\": \"ZA\", \"number\": 1, \"numeric\": 710}, {\"country\": \"AU\", \"number\": 1, \"numeric\": 36}, {\"country\": \"NO\", \"number\": 1, \"numeric\": 578}], \"data-d520742224268e392956f6cd34697ca3\": [{\"country\": \"NL\", \"number\": 13, \"numeric\": 528}, {\"country\": \"DE\", \"number\": 5, \"numeric\": 276}, {\"country\": \"US\", \"number\": 5, \"numeric\": 840}, {\"country\": \"FR\", \"number\": 4, \"numeric\": 250}, {\"country\": \"IT\", \"number\": 4, \"numeric\": 380}, {\"country\": \"AU\", \"number\": 4, \"numeric\": 36}, {\"country\": \"SE\", \"number\": 2, \"numeric\": 752}, {\"country\": \"CH\", \"number\": 2, \"numeric\": 756}, {\"country\": \"AT\", \"number\": 1, \"numeric\": 40}, {\"country\": \"BE\", \"number\": 1, \"numeric\": 56}, {\"country\": \"NO\", \"number\": 1, \"numeric\": 578}, {\"country\": \"FI\", \"number\": 1, \"numeric\": 246}, {\"country\": \"EE\", \"number\": 1, \"numeric\": 233}, {\"country\": \"IL\", \"number\": 1, \"numeric\": 376}, {\"country\": \"BR\", \"number\": 1, \"numeric\": 76}], \"data-110f45bd90cb32f5b9c898017754442d\": [{\"country\": \"NL\", \"number\": 3, \"numeric\": 528}, {\"country\": \"US\", \"number\": 3, \"numeric\": 840}, {\"country\": \"IT\", \"number\": 1, \"numeric\": 380}], \"data-122dc8cfefdc81bfed4fcc0a069e614e\": [{\"country\": \"US\", \"number\": 2, \"numeric\": 840}, {\"country\": \"NL\", \"number\": 1, \"numeric\": 528}, {\"country\": \"IT\", \"number\": 1, \"numeric\": 380}, {\"country\": \"CO\", \"number\": 1, \"numeric\": 170}], \"data-28173fac62dc3d238915d3ce142eb0b7\": [{\"country\": \"US\", \"number\": 2, \"numeric\": 840}, {\"country\": \"CO\", \"number\": 1, \"numeric\": 170}, {\"country\": \"PH\", \"number\": 1, \"numeric\": 608}, {\"country\": \"SN\", \"number\": 1, \"numeric\": 686}]}}, {\"mode\": \"vega-lite\"});\n",
       "</script>"
      ],
      "text/plain": [
       "alt.VConcatChart(...)"
      ]
     },
     "execution_count": 41,
     "metadata": {},
     "output_type": "execute_result"
    }
   ],
   "source": [
    "admin_charts.configure_axis(\n",
    "    labelFontSize=9, titleFontSize=16\n",
    ").configure_view(stroke=None)"
   ]
  },
  {
   "cell_type": "markdown",
   "metadata": {
    "tags": [
     "title",
     "narrative"
    ]
   },
   "source": [
    "## Discourse evolution ##\n"
   ]
  },
  {
   "cell_type": "markdown",
   "metadata": {
    "tags": [
     "title"
    ]
   },
   "source": [
    "### Discourse Research Questions"
   ]
  },
  {
   "cell_type": "markdown",
   "metadata": {
    "tags": [
     "narrative"
    ]
   },
   "source": [
    "The overall subject of the discourse in the discourse coalition was **the ‘planning’ and ‘guiding’ or in today’s words** the management of migration. As we wrote above, migration in the early 1950s, when both REMP and ICEM and its predecessors were founded, was mainly about emigration from Europe. In the course of time this changed as Sauvy tentatively remarked in the early 1960s quoted above. Sauvy had a similar background as Haveman being educated at the Ecole Polytechnique and was a member of the French technocratic X-crise group and described by Nord as a 'decisionmaker'  (<b style=\"color:red;\">Add citation</b> Nord 2010). Without going into the details, it is obvious he was right, and there was a change in migration streams in which Europe became an immigration area, instead of mainly an emigration area. It is also obvious that these changes in migration would have their influence on the discourse about migration management. In this section, we will analyse this evolution.\n"
   ]
  },
  {
   "cell_type": "markdown",
   "metadata": {
    "tags": [
     "narrative"
    ]
   },
   "source": [
    "In a first attempt to come to an analysis of the evolution of the discourse, we used the Worldcat analysis and word clouds for them (see REMP: https://worldcat.org/identities/lccn-n50070935/\n",
    "ICEM: https://worldcat.org/identities/lccn-n50055088/\n",
    "IOM: https://worldcat.org/identities/lccn-no90018047/). **We recognize a strong attention for the outward movement (emigration) and metaphors like ‘assimilation’ from the post war modernization discourse that Lutz already mentioned.** However, upon closer inspection and reflection, it is impossible to either know or distinguish who (i.e. which library) added those keywords or at what time. Moreover, it is not clear whether there were conscious or unconscious (or both) changes in the editorial policies for keywords. Therefore, we decided the wordclouds of Worldcat for our purposes should be regarded as artefacts constructed by Worldcat and could not be regarded as reliable qualifications of the discourse and its evolution. "
   ]
  },
  {
   "cell_type": "markdown",
   "metadata": {
    "tags": [
     "narrative"
    ]
   },
   "source": [
    "For our analysis of the discourse we have used other sources, of both a qualitative and a quantitative nature. The main sources we used are the articles in the _International Migration_ (IM) journal published under ICEM (and later IOM) sponsorship (datasource VI in the diagram above). As a comparison, we used the _International Migration Review_ (IMR) journal, with a comparable general migration scope and published in roughly the same period as _International Migration_ but  independent from ICEM. The aim of the comparison is to see whether the academic content of both journals was mainly determined by either developments in migration or those in the migration studies academic field or whether there was a lasting influence of ICEM/IOM sponsorship.\n",
    "\n",
    "For the quantitative title analyse, we only used the original authored contributions in both journals. IM also contains a number of anonymous (un-authored) contributions that we excluded from this quantitative analysis. We did not use the article fulltext, as we had no access to fulltext, but also because in our opinion the titles can be regarded as a means to engage in discourses, as they are the first and primary means to attract the attention of the readers of the journal. \n"
   ]
  },
  {
   "cell_type": "markdown",
   "metadata": {
    "tags": [
     "narrative"
    ]
   },
   "source": [
    "For the qualitative analysis, we used the anonymous articles in IM, under the assumption that anonymous articles were meant as a collective statement. Upon closer inspection, it appeared that this was indeed the case, as apart from review articles, bibliographies and a single obituray, they were mostly reports from ICEM conventions, that were held irregularly over the years. The close reading of these editorial articles offers an opportunity to explore the way ICEM conceptualized the relationship between science, **policymaking** and governance. Therefore we start by outlining these discussions and use a quantitative analysis of the journal titles to confirm or amend this qualitative analysis."
   ]
  },
  {
   "cell_type": "markdown",
   "metadata": {
    "tags": [
     "narrative"
    ]
   },
   "source": [
    "### Seminars ###"
   ]
  },
  {
   "cell_type": "markdown",
   "metadata": {
    "tags": [
     "narrative"
    ]
   },
   "source": [
    "In 1982 it was stated that “[t]he Intergovernmental Committee for Migration (ICM) has organized Seminars on Migrant Adaptation and Integration regularly since 1974” (<cite data-cite=\"3655479/75ITZX9T\"></cite>), but there were previous conferences that had a similar goal. In 1962 Haveman wrote that in 1961 there had been a ‘Seminar on \"The Role of International Migration in the Development of Modern Society” It took place in Turin on 14 and 15 October I961 and was organized by the Intergovernmental Committee for European Migration, with the co-operation and assistance of the Italian authorities.’ (<cite data-cite=\"3655479/MSDRDKEC\"></cite>, Havemean 1962) **Its scientific director was the statistician and REMP-board member Giusippe Parenti.** Contrary to later seminars, it included exclusively academic speakers and did not end in concrete policy recommendations.\n",
    "\n",
    "<b style=\"color: red\">&lt; References: ‘Sixth Seminar on Migrant Adaptation and Integration’. 1982. International Migration 20 (1–2): 65–65. https://doi.org/10.1111/j.1468-2435.1982.tb00068.x; Haveman, B. W., en Intergovernmental Committee for Eur Migration. 2009. ‘Foreword’. Migration 2 (3–4): 5–5. https://doi.org/10.1111/j.1468-2435.1962.tb00852.x. &gt;</b>\n",
    "\n",
    "\n",
    "The purpose of the seminars is very clearly stated in 1979 **in what already was the fith seminar on this topic  (<cite data-cite=\"3655479/4RB6A474\"></cite>):** “The ICEM Seminars on Adaptation and Integration of Permanent Immigrants are intended as a forum for an exchange of views and experience in the field of migrant adaptation and integration between representatives of governments and international governmental and non-governmental organizations concerned with migration. The Seminars usually deal with two main subjects, divided into sub-topics, i.e. individual aspects, which are analysed and discussed on the basis of working papers prepared by experts on the subject matters chosen. In addition, governments and international organizations contribute information documents reflecting their own experiences and/or policies in those fields. General and specific recommendations on each sub-topic are formulated by the participants for guidance and action on a national or international level respectively.”  And it also gives an insight into the preparation of a Seminar: “The programme for this Seminar was prepared by a Working Group under the chairmanship of Mr. Rent Fourdin, Director General of the Chancellery, Ministry of Foreign Affairs, Belgium. The Working Group was composed of the Government Representatives of Argentina, Australia, Belgium, Brazil, Canada, Israel, Italy, Portugal, Turkey and the United States of America. [...] Experts from Australia, Belgium, France, Italy, Portugal, the Netherlands, Spain,Switzerland, Turkey and the U.S.A. prepared 11 working documents on the above-mentioned subjects and acted as discussion leaders during the Seminar.”\n",
    "\n",
    "<b style=\"color: red\">&lt; Referentie naar het anonieme artikel toevoegen: Introduction, pp. 7-12, Volume 17, Issue 1-2, January‐April 1979, DOI: https://doi.org/10.1111/j.1468-2435.1979.tb00844.x. &gt;</b>\n",
    "\n",
    "After that, this is repeated several times and the Seminar also recommends ICEM to regularly organize seminars (<cite data-cite=\"3655479/FVXABUEW\"></cite>): \n",
    "\n",
    "1. “The Seminar recognizes the very considerable efforts that the ICEM Administration has to make in the organizing of Seminars. It stresses the importance of this international forum for the discussion of problems concerning migrants’ integration and submits to the competent governing bodies of ICEM the suggestion that the organization of seminars become a regular function of the Committee. \n",
    "2. The Seminar expresses the wish that at the appropriate time, a fifth seminar be organized under the auspices of ICEM and that the mandate of the Working Group which has assisted in the past in the preparation of seminars be confirmed. The principle of rotation among its members should be maintained.”\n",
    "\n",
    "<b style=\"color: red\">&lt;General Conclusions/Conclusions Générales/Conclusiones Generales, pp. 13-18, Volume 17, Issue 1-2, January‐April 1979, DOI: https://doi.org/10.1111/j.1468-2435.1979.tb00845.x &gt;</b>\n"
   ]
  },
  {
   "cell_type": "markdown",
   "metadata": {
    "tags": [
     "narrative"
    ]
   },
   "source": [
    "### About discourse coalitions ###"
   ]
  },
  {
   "cell_type": "markdown",
   "metadata": {
    "tags": [
     "narrative"
    ]
   },
   "source": [
    "The desirability of a close connection between research and **policymaking** is affirmed over and over. The first explicit mention is in 1963, when the editorial stated that “Thanks to [a growing number of migration]  studies, a greater knowledge has been acquired of the many aspects of the migration process and thus it has been possible for the immigration countries to establish the conditions which will allow their immigration policies to succeed.” (<cite data-cite=\"3655479/QMQKWK6U\"></cite>) At the time much attention was devoted to migration in Latin America. The second 1963 editorial referred to ICEM policies regarding agricultural productivity: “Many of the programmes which the Intergovernmental Committee for European Migration has established to assist its Latin-American Member Governments are precisely designed to help with these problems. ICEM’S policy in the agricultural field is therefore designed to select and resettle small groups of skilled European farmers trained in up to date techniques of agricultural production.” (<cite data-cite=\"3655479/6DFSR6FZ\"></cite>) **From previous research we know that Haveman during his ICEM-directorship had a special focus on stimulating selective European migration to Latin America, as can also be concluded from the 1964 editorial, which reported on the biannual ICEM Council- Session that was mainly concerned with Latin America (<cite data-cite=\"3655479/32E77X2A\"></cite>).  The entanglement of research and policy was made explicit when from 1965 onwards Dutch farmers were subsidized by the Dutch Government (ministery of development cooperation) to migrate to Latin-America as expert-migrants (<cite data-cite=\"3655479/MKBTDHSV\"></cite>Van Faassen 2014, 391-398).** \n",
    "\n",
    "\n",
    "<b style=\"color: red;\">&lt;‘Editorial’. 1963a. International Migration 1 (2): 77–77. https://doi.org/10.1111/j.1468-2435.1963.tb00372.x.</b>\n",
    "<b style=\"color: red;\">‘———’. 1963b. International Migration 1 (3): 155–155. https://doi.org/10.1111/j.1468-2435.1963.tb00381.x.</b>\n",
    "<b style=\"color: red;\">‘———’. 1964. International Migration 2 (2): 95–95. https://doi.org/10.1111/j.1468-2435.1964.tb00416.x.\n",
    " &gt;</b> \n",
    "\n",
    "An explicit connection between research and governance was made in 1976.  **In the recommendations of the second ICEM Seminar, which from then on included representatives from governments, international and non-governmental organizations as well as experts, thus developing itself further in what Geiger now conceptualizes as a world organization.** The first point was: “The establishment of a body of statistical data could be instrumental in coping with the range of problems concerning migration and more particularly family migration and/or family reunion. Such data are seen as an essential element also at the policy making level. There is therefore a great need for research both at the national and at the international level and governments are urged to take appropriate measures to make such research possible. Methods of data collection should not, however, make more difficult or increasingly hamper the movement of people across frontiers.” (<cite data-cite=\"3655479/4V8R7EWF\"></cite>) After that, the need for better statistics for policy making was explicitly repeated in all the Seminar recommendations in almost the same words. And in 1983 the Seminar even recommended that “ICM, in collaboration with other organizations, should be encouraged to establish pilot case studies to research this phenomenon. These could serve as an input for regional discussions.” (<cite data-cite=\"3655479/ADTMZT7F\"></cite>)\n",
    "\n",
    "<b style=\"color: red;\">&lt;‘Recommendations on Migration of Family Units and Family Reunion’. 1976. International Migration 14 (1–2): 25–27. https://doi.org/10.1111/j.1468-2435.1976.tb00402.x;\n",
    "‘Specific Motivations and Underlying Causes of Undocumented Migration’. 1983. International Migration 21 (2): 105–6. https://doi.org/10.1111/j.1468-2435.1983.tb00431.x.\n",
    " &gt;</b>\n",
    "\n",
    "It is remarkable that there is only an explicit call for statistical research. When in 1979 the topic of the Seminar was the adaptation of child migrants, the Seminar concluded that “scientific analysis and research in the field of the socio-psychology of the children of migrants has produced a whole range of very divergent data.” (<cite data-cite=\"3655479/4RB6A474\"></cite>) and that “There was a strong feeling that the results of this research are badly in need of being integrated and collated.” But immediately following this, the Seminar warned that “considering that the socialization problems of migrant children in the host country are conditioned by their economic, social and legal status in that country, the Seminar has drawn attention to the dangers of an excessive intrusion of psychology into the problems of the children of migrants.” This is the only instance when another field of research than statistics or demography was mentioned. \n",
    "\n",
    "<b style=\"color: red;\">&lt;Introduction, pp. 7-12, Volume 17, Issue 1-2, January‐April 1979, DOI: https://doi.org/10.1111/j.1468-2435.1979.tb00844.x &gt;</b>"
   ]
  },
  {
   "cell_type": "markdown",
   "metadata": {
    "tags": [
     "title"
    ]
   },
   "source": [
    "### Agenda setting"
   ]
  },
  {
   "cell_type": "markdown",
   "metadata": {
    "tags": [
     "narrative"
    ]
   },
   "source": [
    "\n",
    "From the first seminar, these seem to have had a strong (research) agenda setting purpose. Haveman stated that “The fundamental problem facing the world today is how not to hinder, indeed how to facilitate, the development of society insofar as is considered to be advantageous to its members [...] Does international migration contribute to the solution of this problem; if so, what type of migration and in what way ?” (<cite data-cite=\"3655479/MSDRDKEC\"></cite>) We already cited Sauvy who stated around the same time that from the beginning of colonization, it had led to a migration from Europe, as a result of overpopulation but that at the beginning of the 1960s that was possibly changing. \n",
    "\n",
    "<b style=\"color: red\">&lt; Haveman, B. W., en Intergovernmental Committee for Eur Migration. 2009. ‘Foreword’. Migration 2 (3–4): 5–5. https://doi.org/10.1111/j.1468-2435.1962.tb00852.x.&gt;</b>\n",
    "\n",
    "**This agenda setting purpose can also be recognized in** the 1963 issue, **when** attention was directed to migration to Latin America, as we already stated above: ”In order that our readers may be better acquainted with some of the problems facing Latin America today and with their many implications we have, therefore, decided to devote most of this issue of International Migration to the study of various agricultural settlements in Latin America” (<cite data-cite=\"3655479/QMQKWK6U\"></cite>) and in the following seminar US representative “Abba P. Schwartz said [...] 'Whatever help we give Latin America is, in the final analysis, self-help. Our destinies are bound together. If we are all to survive as free nations, we will only do so together'” (<cite data-cite=\"3655479/32E77X2A\"></cite>), bringing cold war rhetoric directly into the discussion.\n",
    "\n",
    "<b style=\"color: red\">&lt; ‘Editorial’. 1963. International Migration 1 (2): 77–77. https://doi.org/10.1111/j.1468-2435.1963.tb00372.x; ‘Editorial’. 1964. International Migration 2 (2): 95–95. https://doi.org/10.1111/j.1468-2435.1964.tb00416.x &gt;</b>\n",
    "\n",
    "**In 1968 all issues contain un-authored articles on the migration of university trained men. In reaction to a British report on this topic of a possible brain drain the Dutch ministery for Education and Sciences asked for advise, which resulted in a report from the “Working group for Emigration of Scientists\", presided by REMP-Board member Evert Hofstee (<cite data-cite=\"3655479/SU5JFDPW\"></cite>). In the last issue of 1968 a follow up article was written about the migration of scientist with special attention to the developing countries (<cite data-cite=\"3655479/ZNURTIHE\"></cite>).** \n",
    "\n",
    "<b style=\"color: red\">&lt;‘Migration of Netherlands Engineers, Physicians and Scientists’. 1968. International Migration 6 (1–2): 33–38. https://doi.org/10.1111/j.1468-2435.1968.tb01049.x; ‘University and Science across the World’. 1968. International Migration 6 (3): 112–28. https://doi.org/10.1111/j.1468-2435.1968.tb01057.x.\n",
    "</b>\n",
    "\n",
    "**When we jump to 1979,  the agenda setting part seems to remain consistent:** “The Seminar, meeting the wish expressed by several Latin American delegations, agreed that the next ICEM Seminar should examine problems more directly connected with that continent.” (<cite data-cite=\"3655479/4RB6A474\"></cite>)\n",
    "\n",
    "<b style=\"color: red\">&lt;Introduction, pp. 7-12, Volume 17, Issue 1-2, January‐April 1979, DOI: https://doi.org/10.1111/j.1468-2435.1979.tb00844.x &gt;</b>"
   ]
  },
  {
   "cell_type": "markdown",
   "metadata": {},
   "source": [
    "## Quantitative Analysis of the Discourse"
   ]
  },
  {
   "cell_type": "markdown",
   "metadata": {
    "tags": [
     "hermeneutics"
    ]
   },
   "source": [
    "## Research Questions - discourse\n",
    "\n",
    "The two separate questions have to be researched in different ways. Research question 1 refers to the content of the discourse and may be broken down in some more specific questions:\n",
    "\n",
    "* Are there global consistencies in the use of terminology and subjects of the IM journal\n",
    "* What are the most important topics\n",
    "* Do the topics shift over time and can we attach a periodization to the shifts. \n",
    "    - Does this periodization coincide with periodizations in institutional priorities identified elsewhere or do they either predecede or follow them?\n",
    "* Are there specific regions featured in the research\n",
    "    - Does this change over time and if so, is this related to/coincide with shifts in topics\n",
    "\n",
    "From the _network perspective_ we can add the following questions\n",
    "* Who are the authors of the articles in IM\n",
    "* Are specific authors connected to specific topics or regions or both \n",
    "    - Are there subgroups of authors concerned with a specific topic. Do these groups change in composition over time\n",
    "    - Can periodizations and changes in topics/regions be related to specific authors or groups of authors\n",
    "    "
   ]
  },
  {
   "cell_type": "markdown",
   "metadata": {
    "tags": [
     "hermeneutics",
     "narrative"
    ]
   },
   "source": [
    "## Research Questions - research-policy connections\n",
    "\n",
    "* have we been able to establish a connection between the authors and public administrators in our network analysis and does any changes in content reflect these connections\n",
    "* are there articles that reflect \n",
    "* are there any specific articles related to policy issues and how does this manifest itself\n",
    "* does the periodizations support conclusions about agenda setting on either policy or research side"
   ]
  },
  {
   "cell_type": "markdown",
   "metadata": {
    "tags": [
     "title"
    ]
   },
   "source": [
    "###  The datasets"
   ]
  },
  {
   "cell_type": "markdown",
   "metadata": {
    "tags": [
     "narrative",
     "hermeneutics"
    ]
   },
   "source": [
    "The datasets used for the analysis (IV, V, VI and VII in the diagram above) contain a total of 4,282 article titles, divided over 762 _REMP_ and _International Migration_ (IM) titles and 1678 _International Migration Review_ (IMR) titles. IMR also contains 1842 reviews of literature, that we left out of the comparison. The total number of articles increased from 100 in the 1950s to 1,490 in the 1990s. The IM set is smaller than the IMR set, but the rate varies. In the 1950s we have no IM and IMR titles and only 100 for REMP, so trends for this decade are tentative. In the 1960s the ratio between IM and IMR was 0.84 (i.e.IM published 0.84 articles per 1 article in IMR) and after that it changed to 0.30 in the 1970 to approximately 0.5 in the 1980s and 1990s. IMR research is dominant in the total numbers, but we use IMR mainly to see how trends in IM differ from the more general trends, so therefore we will often present a graph of both IM and general (IM+IMR) developments. \n",
    "\n",
    "Tracing topics in literature is difficult and subject to interpretation issues in every way. For trend analysis the relatively small word set made using with word counts good enough for our purposes; the method has the advantage of being transparent. Two thirds of individual words in titles only occurred once, so we classified title words into somewhat bigger topics by hand; the classi. Below, our analysis refers to these topics.  \n",
    "We manually identified topics and constructed word lists per topic by searching through the titles, inspired by the topic categories defined in the UCREL Semantic Analysis System (<cite data-cite=\"3655479/LN4UKSH7\"></cite>, <cite data-cite=\"3655479/YX3ERH3B\"></cite>)(Wilson 1993, Archer et al. 2002). One set of topics covers directions of migration, another set focuses on aspects of management, a third on forms of migration and a fourth set on academic discplines. The graphs were all made by calculating the fraction of all title words that belong to a specific topic, for five year periods, starting from 1950 until 2000, increasing the start and end of the period by one year in each step (1950-1954, 1951-1955, 1952-1956, etc)."
   ]
  },
  {
   "cell_type": "code",
   "execution_count": null,
   "metadata": {
    "code_folding": [],
    "tags": [
     "hermeneutics",
     "hermeneutics-step"
    ]
   },
   "outputs": [],
   "source": [
    "from IPython.display import HTML\n",
    "from scripts.content_analysis import get_topic_words\n",
    "\n",
    "topic_words = get_topic_words()\n",
    "#pd.DataFrame(data=)\n",
    "out = ''\n",
    "for topic in topic_words:\n",
    "    out += f'<dt>{topic}</dt>\\n'\n",
    "    item = ', '.join(topic_words[topic])\n",
    "    out += f'\\t<dd>{item}</dd>\\n'\n",
    "HTML(f'<dl>{out}</dl>')\n",
    "#    print(f\"{topic}\\n\\t{', '.join(topic_words[topic])}\\n\")\n"
   ]
  },
  {
   "cell_type": "code",
   "execution_count": null,
   "metadata": {
    "tags": [
     "hermeneutics",
     "hermeneutics-step"
    ]
   },
   "outputs": [],
   "source": [
    "topic_words['decision making'] = [\n",
    "    'policy',\n",
    "     'policies',\n",
    "     'politic',\n",
    "     'decision',\n",
    "     'management',\n",
    "     'managing',\n",
    "     'govern',\n",
    "     'promotion',\n",
    "     'planned',\n",
    "     'recruitment',\n",
    "     'implement',\n",
    "     'program',\n",
    "     'enforcement',\n",
    "     'control',\n",
    "     'border',\n",
    "     'international',\n",
    "     'national',\n",
    "     'protection',\n",
    "     'coordination',\n",
    "     'rationale',\n",
    "     'administrat',\n",
    "     'examinat'\n",
    "    # 'law',\n",
    "    # 'act',\n",
    "    # 'amend',\n",
    "    # 'guidelines',\n",
    "    # 'reform',\n",
    "    # 'legislation',\n",
    "    # 'legislative',\n",
    "    # 'refine',\n",
    "    # 'revis',\n",
    "]"
   ]
  },
  {
   "cell_type": "code",
   "execution_count": null,
   "metadata": {
    "tags": [
     "hermeneutics",
     "hermeneutics-step"
    ]
   },
   "outputs": [],
   "source": [
    "from scripts.countries import CountryLookup\n",
    "import scripts.content_analysis as ca\n",
    "\n",
    "# Create country lookup instance\n",
    "lookup = CountryLookup()\n",
    "\n",
    "df = ca.read_publication_records()\n",
    "\n",
    "# Normalise titles \n",
    "# - remove punctuation and superscript\n",
    "# - normalise acronyms\n",
    "# - normalise whitespace\n",
    "# - resolve apostrophes\n",
    "# - map to lowercase\n",
    "df['normalised_title'] = df.article_title.apply(ca.normalise_title)\n",
    "\n"
   ]
  },
  {
   "cell_type": "code",
   "execution_count": null,
   "metadata": {
    "tags": [
     "hermeneutics",
     "hermeneutics-step"
    ]
   },
   "outputs": [],
   "source": [
    "df_remp_im = df[df.dataset == 'REMP_IM']\n",
    "\n",
    "df_imr_research = df[df.dataset == 'IMR_research']"
   ]
  },
  {
   "cell_type": "code",
   "execution_count": null,
   "metadata": {
    "jdh": {
     "object": {
      "source": [
       "figure 5: Migration Types"
      ]
     }
    },
    "tags": [
     "figure-5",
     "narrative",
     "hermeneutics",
     "hermeneutics-step"
    ]
   },
   "outputs": [],
   "source": [
    "selected_topics = ['migration','immigration','emigration']\n",
    "selected_topic_words = {topic: topic_words[topic] for topic in selected_topics }\n",
    "\n",
    "c1 = ca.alt_topic_chart(selected_topics=selected_topic_words,\n",
    "                   topic_df=df_remp_im, \n",
    "                   var_name='migration_type', source='REMP/IM', title='Migration types in REMP/IM')\n",
    "\n",
    "c2 = ca.alt_topic_chart(selected_topics=selected_topic_words,\n",
    "                   topic_df=df_imr_research, \n",
    "                   var_name='migration_type', source='IMR', title='Migration Types in IMR')\n",
    "\n",
    "alt.vconcat(c1, c2).properties(\n",
    "    title='Migration types'\n",
    ").configure_title(\n",
    "    fontSize=20,\n",
    "    font='Verdana',\n",
    "    align='center',\n",
    "    color='black'\n",
    ")"
   ]
  },
  {
   "cell_type": "markdown",
   "metadata": {
    "tags": [
     "narrative"
    ]
   },
   "source": [
    "In a corpus like this, it comes as no surprise that the most common terms include (variants of) \"migration\". As figures 7 (terms in IM) and 8 (total terms) show, _emigration_ was more common in the 1960s, while _immigration_ was used more often later on, although there was a concentration in the mid-1960s. The term _migration_ was not used very frequently throughout the whole period, though its use increased slightly over the years. Of course, the terms _emigration_ and _immigration_ depend on the perspective, because what is immigration for one country is emigration for another. However, in general immigration causes more and more lasting changes. In our qualitative analysis of the discourse above, we have already seen how researchers and politicians used emigration to mean European emigration, while immigration (or migration) was the term commonly used for other contexts, although it was increasingly used for Europe as well. The quantitative title analysis of the titles confirms this."
   ]
  },
  {
   "cell_type": "code",
   "execution_count": null,
   "metadata": {
    "tags": [
     "hermeneutics",
     "hermeneutics-step"
    ]
   },
   "outputs": [],
   "source": [
    "# per article, list countries mentioned in the title\n",
    "df['country'] = df.normalised_title.apply(lambda x: ca.extract_country(lookup, x))\n",
    "\n",
    "# per article, list continents of countries mentioned in the title\n",
    "# or continents mentioned directly\n",
    "df['continent'] = df.normalised_title.apply(lambda x: ca.extract_continent(lookup, x))\n",
    "    \n",
    "decade_continent_freq = df[df.continent.notna()].groupby(['issue_decade', 'continent']).agg('count').article_title\n",
    "decade_continent_perc = decade_continent_freq / decade_continent_freq.groupby('issue_decade').agg('sum')*100\n",
    "df_continent_decade = decade_continent_perc.to_frame().reset_index()"
   ]
  },
  {
   "cell_type": "code",
   "execution_count": null,
   "metadata": {
    "jdh": {
     "object": {
      "source": [
       "figure 6: Continents in Title per Decade (1950s-1990s)"
      ]
     }
    },
    "tags": [
     "figure-6",
     "narrative",
     "hermeneutics",
     "hermeneutics-step"
    ]
   },
   "outputs": [],
   "source": [
    "xc = alt.Chart(df_continent_decade).mark_bar().encode(\n",
    "    alt.Y(\"article_title:Q\", title='number'),\n",
    "    alt.X('continent:N', title=''),\n",
    "    color='continent:N',\n",
    "    column=alt.Column('issue_decade:N', title='Decade')\n",
    ").properties(\n",
    "    width=200,\n",
    "    height=200\n",
    ").repeat(\n",
    "    row=['issue_decade:N']\n",
    ").interactive()\n",
    "xc.properties(\n",
    "    title='Continents in titles per decade'\n",
    ").configure_title(\n",
    "    fontSize=20,\n",
    "    font='Verdana',\n",
    "    align='center',\n",
    "    color='black',\n",
    ")"
   ]
  },
  {
   "cell_type": "markdown",
   "metadata": {
    "tags": [
     "narrative"
    ]
   },
   "source": [
    "When we look at the (relative) frequency with which continents are mentioned in the article titles, this confirmes the general trend. In the 1950s the emphasis is mainly on Europe, from where most emigration took place, in the 1960s there was a relative emphasis on Oceania (mainly Australia). In the decades after that, it was mostly on other continents, even if Europe remained important. South America and Africa rarely were the focus in migration discussions. "
   ]
  },
  {
   "cell_type": "code",
   "execution_count": null,
   "metadata": {
    "tags": [
     "hermeneutics",
     "narrative",
     "hermeneutics-step"
    ]
   },
   "outputs": [],
   "source": [
    "selected_topics = ['cause_effect', 'process', 'decision making']\n",
    "selected_topic_words = {topic: topic_words[topic] for topic in selected_topics }\n",
    "\n",
    "c3 = ca.alt_topic_chart(selected_topics=selected_topic_words,\n",
    "                   topic_df=df_remp_im, \n",
    "                   var_name='migration_type', source='REMP/IM', title='process words'\n",
    ")\n",
    "\n",
    "c4 = ca.alt_topic_chart(selected_topics=selected_topic_words,\n",
    "                   topic_df=df_imr_research, \n",
    "                   var_name='migration_type', source='IMR', title='process words')\n",
    "\n"
   ]
  },
  {
   "cell_type": "code",
   "execution_count": null,
   "metadata": {
    "jdh": {
     "object": {
      "source": [
       "figure 7: Migration Management in Titles"
      ]
     }
    },
    "tags": [
     "figure-7",
     "narrative",
     "hermeneutics",
     "hermeneutics-step"
    ]
   },
   "outputs": [],
   "source": [
    "alt.vconcat(c3, c4).properties(\n",
    "    title='Migration Management'\n",
    ").configure_title(\n",
    "    fontSize=20,\n",
    "    font='Verdana',\n",
    "    align='center',\n",
    "    color='black',\n",
    ")\n"
   ]
  },
  {
   "cell_type": "markdown",
   "metadata": {
    "tags": [
     "narrative"
    ]
   },
   "source": [
    "As this is a discourse coalition about migration management, the next aspect to consider is the extent to which management words played a role in the discourse. Management has a changing vocabulary, but we tried to single out the most important terms. From figure 10 it appears that overall there was a growing interest in management related issues, but overall in IMR discussions about decision making were more important than the other two topics throughout the entire period. This confirms our idea that the ICEM liaison of IM had an influence on its discussions. The topics that the titles referred to shifted from a process to a decision making orientation, in both journals but more so in IM. Without further research, it is hard make any definitive interpretions of this shift, but it seems to be indicative for a shift from an approach of migration management as interacting with migration to a more control oriented approach."
   ]
  },
  {
   "cell_type": "code",
   "execution_count": null,
   "metadata": {
    "jdh": {
     "object": {
      "source": [
       "figure 8: Labour Migration Terminology in Titles"
      ]
     }
    },
    "tags": [
     "figure-8",
     "narrative",
     "hermeneutics",
     "hermeneutics-step"
    ]
   },
   "outputs": [],
   "source": [
    "selected_topics = ['labour', 'skill', 'legal', 'forced']\n",
    "selected_topic_words = {topic: topic_words[topic] for topic in selected_topics }\n",
    "\n",
    "c5 = ca.alt_topic_chart(selected_topics=selected_topic_words,\n",
    "                   topic_df=df_remp_im, \n",
    "                   var_name='migration_type', source='REMP/IM', title='process words'\n",
    ")\n",
    "\n",
    "c6 = ca.alt_topic_chart(selected_topics=selected_topic_words,\n",
    "                   topic_df=df_imr_research, \n",
    "                   var_name='migration_type', source='IMR', title='process words')\n",
    "\n",
    "alt.vconcat(c5, c6).properties(\n",
    "    title='Labour Migration terminology'\n",
    ").configure_title(\n",
    "    fontSize=20,\n",
    "    font='Verdana',\n",
    "    align='center',\n",
    "    color='black',\n",
    ")"
   ]
  },
  {
   "cell_type": "markdown",
   "metadata": {
    "tags": [
     "narrative"
    ]
   },
   "source": [
    "Taken as a whole, there no remarkable difference in the content of the articles of IM and IMR. Over the years the relative proportion of articles that cover a specific topic drops, which may be a sign that the diversity of topics increases, or that terminology diversifies. As an example we have taken the topic of labour migration. Labour in relation to migration was important from the start in both IM and IMR and always remained so. The varying trends in both journals does show that there were dynamics in the scientific discussions in both journals that did not coincide, but without close reading it is impossible to give any more specifics about them (figure 11). "
   ]
  },
  {
   "cell_type": "code",
   "execution_count": null,
   "metadata": {
    "tags": [
     "narrative",
     "hermeneutics",
     "hermeneutics-step"
    ]
   },
   "outputs": [],
   "source": [
    "from scripts.content_analysis import get_discipline_words\n",
    "\n",
    "topic_words = get_discipline_words()\n",
    "c7 = ca.alt_topic_chart(selected_topics=topic_words,\n",
    "                   topic_df=df_remp_im, \n",
    "                   var_name='migration_type', source='REMP/IM', title='disciplines', scheme='category20b'\n",
    ")\n",
    "\n",
    "c8 = ca.alt_topic_chart(selected_topics=topic_words,\n",
    "                   topic_df=df_imr_research, \n",
    "                   var_name='migration_type', source='IMR', title='disciplines', scheme='category20b')\n",
    "\n"
   ]
  },
  {
   "cell_type": "code",
   "execution_count": null,
   "metadata": {
    "jdh": {
     "object": {
      "source": [
       "figure 9: Disciplines in Titles"
      ]
     }
    },
    "tags": [
     "figure-9",
     "narrative",
     "hermeneutics",
     "hermeneutics-step"
    ]
   },
   "outputs": [],
   "source": [
    "alt.vconcat(c7, c8).properties(\n",
    "    title='Disciplines in titles'\n",
    ").configure_title(\n",
    "    fontSize=20,\n",
    "    font='Verdana',\n",
    "    align='center',\n",
    "    color='black',\n",
    ")"
   ]
  },
  {
   "cell_type": "markdown",
   "metadata": {
    "tags": [
     "narrative"
    ]
   },
   "source": [
    "However, there is another important difference between IM and IMR in the disciplines that were represented in the articles. Both journals are general social science migration journals without any specific disciplinary orientation. In both IM and IMR sociology was important. In the early years economics dominated titles in REMP, but after the late 1950s this subsided and many disciplines were represented, with some emphasis on pyschology in the 1980s. Demography was never important in IMR, but in IM it was always present, while in IMR statistics were always present, and in IM it was only present as a separate subject in the 1980s. In IM psychology got a lot of attention in the late 1960s and early 1970s, but after that psychology was much less of a topic. \n",
    "\n",
    "This overview presents some trends, that confirm the general social science nature of both journals, though mainly the social sciences that make heavy use of statistics and statistical methods. Anthropology, for instance, is not part of the discussions in either IM or IMR, even if there is much anthropological research about migration and its impact on migrant groups. The disciplinary topics are, of course, not sharpely separated. For instance, demographics and statistics are closely related, while sociology and economics provide much of the theoretical framework for other social sciences. However, some of the analysis of the qualitative discussion sheds some light on this quantitative approach. As we have seen, up until the 1970s in IM there was a lasting presence of demographers and statistically oriented researchers that in the ICEM conferences persistently called for funding of statistical research, while they then cut short the influence of psychological research, especially in the report of the 1979 conference report. Even before that psychology was not prominent as a topic in the titles anymore."
   ]
  },
  {
   "cell_type": "markdown",
   "metadata": {
    "tags": [
     "title"
    ]
   },
   "source": [
    "### Conclusion"
   ]
  },
  {
   "cell_type": "markdown",
   "metadata": {
    "tags": [
     "narrative"
    ]
   },
   "source": [
    "The discourse coalition on migration management came into being in the early 1950s when in the Netherlands Günter Beijer founded the Research Group for European Migration Problems and at the same time the precursor of ICEM was founded as a **temporary intergovernmental committee** for the transportation of migrants. **In the public presentation the focus was on refugees, but internally it was explicitly also mentioned for European labour** emigrants and still later on **even more** diverse groups of migrants. REMP had its roots in the planning-oriented governance circles in the Netherlands, Europe and the World and from its inception included both international researchers and administrators. The aim was to control migration by founding it on research and scientific insights, mainly demography and sociology, due to the orientation of the researchers involved. \n",
    "\n",
    "From the late 1950s throughout Europe there was less orientation on emigration and in the 1960s the discourse coalition altered. Orientation became more international and research became more closely allied with ICEM when Bas Haveman became its director and the ICEM supported journal _International Migration_ became the main venue for research. The research group became still more internationaly oriented during Beijer's long dominant position. The researchers were the think tank for ICEM as well, but migration changed when increasing labour migrants started coming to Europe and the numbers of European emigrants decreased. Still, in ICEM governance circles and its associated research group, there remained a perceived need for the management of migration based on insights from research. Notwithstanding the changes in migration, research orientations remained by and large the same and predominantly oriented to statistically founded social science. Growing influences from other social sciences, mainly psychology, were largely cut short in the late 1970s. The control set of IMR shares many of the same orientations, but there seems to be more room for other voices, mainly a lasting interest in psychology. The calls in the conference reports for funding for statistical research give the impression of a group that was striving to maintain its position. \n",
    "\n",
    "The discourse coalition that came into being in the 1950s proved to found a lasting relation between governance of migration and the research on which it founded itself. While migration itself changed constantly, the basic orientation of both research and governance remained remarkably constant in a focus on the migration streams and the control of them and much less concerned with either the motivations behind migration or the effects on the migrants. **Remarkebly enough, IOM today still caters the outward movement in its voluntary return programs, but their subjects are not the European born nationals anymore. At the same time IOM proved to be succesfull in -at least the suggestion of-  involving more and more different kind of actors in its policy-programming throughout the years, thus developing itself in what can be seen as a  world organization.** The discourse coalition therefore evolved over time, but remained constant in its conception about the relation between research and governance. This is not to say that research was not independent, but the result was that it was hard to influence the discourse from outside the coalition, **a direction that Petersen seemed to recognize already in 1963.**"
   ]
  },
  {
   "cell_type": "markdown",
   "metadata": {},
   "source": [
    "- Terugkomen op Petersen en conceptuele kant. **Kijk maar even of het zo voldoende is en of petersen er niet te veel is bijgesleept. Anders weghalen. Datascope stukje is wat lastig te plaatsen, maar misschien dat jullie daar nog kans voor zien.**\n",
    "- data scopes als lens op hoe we gewerkt hebben, en waar we op stuitten: hoe ver moet je gaan met verantwoording? Dit geldt zowel voor digital als analoog historisch onderzoek. Dit notebook bevat alleen de uiteindelijke stappen voor visualisering. Veel van de eerdere processen zijn gevat in andere notebooks die je kunt vinden in onze github repo. \n"
   ]
  },
  {
   "cell_type": "markdown",
   "metadata": {},
   "source": [
    "## Notes\n",
    "\n",
    "[1]\n",
    "\n",
    "[*] Sources differ in their spelling of the name Günther Beijer, using either Beijer or Beyer. We use Beijer throughout the article and the underlying data. \n",
    "\n",
    "[2]\n",
    "\n"
   ]
  },
  {
   "cell_type": "code",
   "execution_count": null,
   "metadata": {},
   "outputs": [],
   "source": []
  }
 ],
 "metadata": {
  "celltoolbar": "Tags",
  "cite2c": {
   "citations": {
    "3655479/32E77X2A": {
     "DOI": "10.1111/j.1468-2435.1963.tb00381.x",
     "URL": "https://onlinelibrary.wiley.com/doi/10.1111/j.1468-2435.1963.tb00381.x",
     "accessed": {
      "date-parts": [
       [
        2022,
        3,
        4
       ]
      ]
     },
     "container-title": "International Migration",
     "issue": "3",
     "issued": {
      "date-parts": [
       [
        "1963"
       ]
      ]
     },
     "language": "en",
     "page": "155-155",
     "title": "Editorial",
     "type": "article-journal",
     "volume": "1"
    },
    "3655479/3CFRXHVE": {
     "author": [
      {
       "family": "Geiger",
       "given": "Martin"
      },
      {
       "family": "Koch",
       "given": "Martin"
      }
     ],
     "container-title": "Journal of International Organization Studies",
     "issue": "1",
     "issued": {
      "date-parts": [
       [
        2018
       ]
      ]
     },
     "page": "25–44",
     "title": "World Organizations in Migration Politics: The International Organization for Migration",
     "type": "article-journal",
     "volume": "9"
    },
    "3655479/42V6U65E": {
     "author": [
      {
       "family": "Andrijasevic",
       "given": "Rutvica"
      },
      {
       "family": "Walters",
       "given": "William"
      }
     ],
     "container-title": "Environment and Planning D: Society and Space",
     "issue": "6",
     "issued": {
      "date-parts": [
       [
        2010
       ]
      ]
     },
     "note": "Publisher: SAGE Publications Sage UK: London, England",
     "page": "977–999",
     "title": "The International Organization for Migration and the international government of borders",
     "type": "article-journal",
     "volume": "28"
    },
    "3655479/4RB6A474": {
     "DOI": "10.1111/j.1468-2435.1979.tb00844.x",
     "URL": "https://onlinelibrary.wiley.com/doi/10.1111/j.1468-2435.1979.tb00844.x",
     "accessed": {
      "date-parts": [
       [
        2022,
        3,
        4
       ]
      ]
     },
     "container-title": "International Migration",
     "issue": "1-2",
     "issued": {
      "date-parts": [
       [
        1979,
        1,
        4
       ]
      ]
     },
     "language": "en",
     "page": "7-12",
     "title": "Introduction",
     "type": "article-journal",
     "volume": "17"
    },
    "3655479/4V8R7EWF": {
     "DOI": "10.1111/j.1468-2435.1976.tb00402.x",
     "URL": "https://onlinelibrary.wiley.com/doi/10.1111/j.1468-2435.1976.tb00402.x",
     "accessed": {
      "date-parts": [
       [
        2022,
        3,
        4
       ]
      ]
     },
     "container-title": "International Migration",
     "issue": "1-2",
     "issued": {
      "date-parts": [
       [
        "1976"
       ]
      ]
     },
     "language": "en",
     "page": "25-27",
     "title": "Recommendations on Migration of Family Units and Family Reunion",
     "type": "article-journal",
     "volume": "14"
    },
    "3655479/4X34EF3B": {
     "DOI": "10.1111/j.1468-2435.1962.tb00855.x",
     "URL": "https://onlinelibrary.wiley.com/doi/10.1111/j.1468-2435.1962.tb00855.x",
     "accessed": {
      "date-parts": [
       [
        2022,
        3,
        7
       ]
      ]
     },
     "container-title": "Migration",
     "issue": "3-4",
     "issued": {
      "date-parts": [
       [
        2009,
        7,
        30
       ]
      ]
     },
     "language": "en",
     "page": "19-28",
     "shortTitle": "First Meeting",
     "title": "First Meeting: CHARACTERISTICS OF INTERNATIONAL MIGRATION AT THE PRESENT DAY",
     "type": "article-journal",
     "volume": "2"
    },
    "3655479/5SKCBEUV": {
     "author": [
      {
       "family": "Petersen",
       "given": "William"
      }
     ],
     "issued": {
      "date-parts": [
       [
        1955
       ]
      ]
     },
     "publisher": "Berkeley: University of California Press",
     "title": "Planned migration: The social determinants of the Dutch-Canadian movement",
     "type": "book",
     "volume": "2"
    },
    "3655479/6DFSR6FZ": {
     "DOI": "10.1111/j.1468-2435.1963.tb00372.x",
     "URL": "https://onlinelibrary.wiley.com/doi/10.1111/j.1468-2435.1963.tb00372.x",
     "accessed": {
      "date-parts": [
       [
        2022,
        3,
        4
       ]
      ]
     },
     "container-title": "International Migration",
     "issue": "2",
     "issued": {
      "date-parts": [
       [
        "1963"
       ]
      ]
     },
     "language": "en",
     "page": "77-77",
     "title": "Editorial",
     "type": "article-journal",
     "volume": "1"
    },
    "3655479/6T5CAR8S": {
     "author": [
      {
       "family": "Parsanoglou",
       "given": "Dimitris"
      }
     ],
     "container-title": "International ‘Migration Management’in the Early Cold War. The Intergovernmental Committee for European Migration",
     "issued": {
      "date-parts": [
       [
        2015
       ]
      ]
     },
     "note": "Publisher: University of the Peloponnese Corinth",
     "page": "55–85",
     "title": "Organizing an international migration machinery: the intergovermental committee for European migration",
     "type": "article-journal"
    },
    "3655479/75ITZX9T": {
     "DOI": "10.1111/j.1468-2435.1982.tb00068.x",
     "URL": "https://onlinelibrary.wiley.com/doi/10.1111/j.1468-2435.1982.tb00068.x",
     "accessed": {
      "date-parts": [
       [
        2022,
        3,
        4
       ]
      ]
     },
     "container-title": "International Migration",
     "issue": "1-2",
     "issued": {
      "date-parts": [
       [
        "1982"
       ]
      ]
     },
     "language": "en",
     "page": "65-65",
     "title": "Sixth Seminar on Migrant Adaptation and Integration",
     "type": "article-journal",
     "volume": "20"
    },
    "3655479/7A2RCVBK": {
     "author": [
      {
       "family": "Hajer",
       "given": "Maarten A"
      }
     ],
     "issued": {
      "date-parts": [
       [
        1995
       ]
      ]
     },
     "publisher": "Clarendon Press",
     "title": "The politics of environmental discourse: Ecological modernization and the policy process",
     "type": "book"
    },
    "3655479/94XUYCEW": {
     "author": [
      {
       "family": "Freund",
       "given": "Alexander"
      }
     ],
     "issued": {
      "date-parts": [
       [
        2004
       ]
      ]
     },
     "publisher": "Vandenhoeck & Ruprecht",
     "title": "Aufbrüche nach dem Zusammenbruch: Die deutsche Nordamerika-Auswanderung nach dem Zweiten Weltkrieg. E-BOOK",
     "type": "book",
     "volume": "12"
    },
    "3655479/A8BVBSQP": {
     "author": [
      {
       "family": "Steinert",
       "given": "JD"
      }
     ],
     "container-title": "ARCHIV FUR SOZIALGESCHICHTE, 35. BD, 1995",
     "issued": {
      "date-parts": [
       [
        1995
       ]
      ]
     },
     "note": "Publisher: VERLAG JHW DIETZ NACHF POSTFACH 200 189, W-5300 BONN, GERMANY",
     "page": "197",
     "title": "Work in West Germany: Migration agreements with Italy, Spain, Greece and Turkey and the start of the organised recruitment of foreign workers",
     "type": "article-journal",
     "volume": "35"
    },
    "3655479/ABRHNR4T": {
     "author": [
      {
       "family": "Hoekstra",
       "given": "Rik"
      },
      {
       "family": "Koolen",
       "given": "Marijn"
      }
     ],
     "container-title": "Historical Methods: A Journal of Quantitative and Interdisciplinary History",
     "issue": "2",
     "issued": {
      "date-parts": [
       [
        2019
       ]
      ]
     },
     "note": "Publisher: Taylor & Francis",
     "page": "79–94",
     "title": "Data scopes for digital history research",
     "type": "article-journal",
     "volume": "52"
    },
    "3655479/ADTMZT7F": {
     "DOI": "10.1111/j.1468-2435.1983.tb00431.x",
     "URL": "https://onlinelibrary.wiley.com/doi/10.1111/j.1468-2435.1983.tb00431.x",
     "accessed": {
      "date-parts": [
       [
        2022,
        3,
        4
       ]
      ]
     },
     "container-title": "International Migration",
     "issue": "2",
     "issued": {
      "date-parts": [
       [
        "1983"
       ]
      ]
     },
     "language": "en",
     "page": "105-106",
     "title": "Specific Motivations and Underlying Causes of Undocumented Migration",
     "type": "article-journal",
     "volume": "21"
    },
    "3655479/ARPE8PPK": {
     "author": [
      {
       "family": "Habermas",
       "given": "Jürgen"
      }
     ],
     "issued": {
      "date-parts": [
       [
        2015
       ]
      ]
     },
     "publisher": "John Wiley & Sons",
     "title": "The lure of technocracy",
     "type": "book"
    },
    "3655479/B8X95E7G": {
     "URL": "https://hdl.handle.net/10622/ARCH03193?locatt=view:ead",
     "abstract": "C",
     "archive": "ARCH03193",
     "author": [
      {
       "family": "Beijer",
       "given": "Gunther"
      }
     ],
     "editor": [
      {
       "family": "Beijer",
       "given": "Gunther"
      }
     ],
     "event-place": "Amsterdam",
     "language": "Dutch, English, German",
     "note": "Archive maintained by the International Institute for Social History.",
     "publisher-place": "Amsterdam",
     "title": "Archief Gunther Beyer",
     "type": "book"
    },
    "3655479/BN3VJMLV": {
     "author": [
      {
       "family": "Zieck",
       "given": "Marjoleine"
      }
     ],
     "issued": {
      "date-parts": [
       [
        1997
       ]
      ]
     },
     "publisher": "Martinus Nijhoff Publishers",
     "title": "UNHCR and voluntary repatriation of refugees: A legal analysis",
     "type": "book"
    },
    "3655479/FVXABUEW": {
     "DOI": "10.1111/j.1468-2435.1979.tb00845.x",
     "URL": "https://onlinelibrary.wiley.com/doi/10.1111/j.1468-2435.1979.tb00845.x",
     "accessed": {
      "date-parts": [
       [
        2022,
        3,
        4
       ]
      ]
     },
     "container-title": "International Migration",
     "issue": "1-2",
     "issued": {
      "date-parts": [
       [
        1979,
        1,
        4
       ]
      ]
     },
     "language": "en",
     "page": "13-18",
     "title": "ADAPTATION AND INTEGRATION OF MIGRANT AND REFUGEE CHILDREN ADAPTATION ET INTEGRATION DES ENFANTS DE MIGRANTS ET DE REFUGIES ADAPTACION E INTEGRACION DE LOS NIROS MIGRANTES Y REFUGIADOS",
     "type": "article-journal",
     "volume": "17"
    },
    "3655479/GVTVTC3K": {
     "author": [
      {
       "family": "Hofstee",
       "given": "Evert Willem"
      }
     ],
     "container-title": "Some Remarks on Selective Migration",
     "issued": {
      "date-parts": [
       [
        1952
       ]
      ]
     },
     "page": "1–28",
     "publisher": "Springer",
     "title": "Some remarks on selective migration",
     "type": "chapter"
    },
    "3655479/HIVHZPDF": {
     "DOI": "10.2307/2091489",
     "URL": "https://www.jstor.org/stable/2091489",
     "accessed": {
      "date-parts": [
       [
        2022,
        3,
        7
       ]
      ]
     },
     "author": [
      {
       "family": "Petersen",
       "given": "William"
      }
     ],
     "container-title": "American Sociological Review",
     "issue": "3",
     "issued": {
      "date-parts": [
       [
        1964
       ]
      ]
     },
     "note": "Publisher: [American Sociological Association, Sage Publications, Inc.]",
     "page": "419-421",
     "shortTitle": "Review of The German Exodus",
     "title": "Review of The German Exodus: A Selective Study on the Post-World War II Expulsion of German Populations and Its Effects.; The German Expellees: A Problem of Integration.; International Migration: Quarterly Review on the Role of Migratory Movements in the Contemporary World.; Hearings before the Subcommittee to Investigate Problems Connected with Refugees and Escapees of the Committee on the Judiciary, United States Senate.",
     "type": "article-journal",
     "volume": "29"
    },
    "3655479/LEZ48HY3": {
     "author": [
      {
       "family": "Hofsten",
       "given": "Erland"
      },
      {
       "family": "Van De Kaa",
       "given": "Dirk J"
      }
     ],
     "issued": {
      "date-parts": [
       [
        1983
       ]
      ]
     },
     "publisher": "JSTOR",
     "title": "In Memoriam: Dr. Gunther Beyer",
     "type": "article"
    },
    "3655479/LN4UKSH7": {
     "author": [
      {
       "family": "Wilson",
       "given": "Andrew"
      }
     ],
     "issued": {
      "date-parts": [
       [
        1993
       ]
      ]
     },
     "note": "Publisher: Citeseer",
     "title": "Towards an integration of content analysis and discourse analysis: the automatic linkage of key relations in text",
     "type": "article-journal"
    },
    "3655479/LQ8F88BC": {
     "author": [
      {
       "family": "Von Koppenfels",
       "given": "Amanda Klekowski"
      }
     ],
     "container-title": "International Migration",
     "issue": "6",
     "issued": {
      "date-parts": [
       [
        2001
       ]
      ]
     },
     "note": "Publisher: Wiley Online Library",
     "page": "61–84",
     "title": "Informal but effective: Regional consultative processes as a tool in managing migration",
     "type": "article-journal",
     "volume": "39"
    },
    "3655479/MKBTDHSV": {
     "author": [
      {
       "family": "van Faassen",
       "given": "Marijke"
      }
     ],
     "genre": "PhD Thesis",
     "issued": {
      "date-parts": [
       [
        2014
       ]
      ]
     },
     "publisher": "Rijksuniversiteit Groningen",
     "title": "Polder en emigratie.: Het Nederlandse emigratiebestel in internationaal perspectief 1945-1967",
     "type": "thesis"
    },
    "3655479/MSDRDKEC": {
     "DOI": "10.1111/j.1468-2435.1962.tb00852.x",
     "URL": "https://onlinelibrary.wiley.com/doi/10.1111/j.1468-2435.1962.tb00852.x",
     "accessed": {
      "date-parts": [
       [
        2022,
        3,
        4
       ]
      ]
     },
     "author": [
      {
       "family": "Haveman",
       "given": "B. W."
      }
     ],
     "container-title": "Migration",
     "issue": "3-4",
     "issued": {
      "date-parts": [
       [
        1962
       ]
      ]
     },
     "language": "en",
     "page": "5-5",
     "title": "Foreword",
     "type": "article-journal",
     "volume": "2"
    },
    "3655479/N46966HL": {
     "author": [
      {
       "family": "Baneke",
       "given": "David"
      }
     ],
     "container-title": "The British Journal for the History of Science",
     "issue": "1",
     "issued": {
      "date-parts": [
       [
        2011
       ]
      ]
     },
     "note": "Publisher: Cambridge University Press",
     "page": "89–113",
     "title": "Synthetic technocracy: Dutch scientific intellectuals in science, society and culture, 1880–1950",
     "type": "article-journal",
     "volume": "44"
    },
    "3655479/N6J5DKMR": {
     "author": [
      {
       "family": "Salomon",
       "given": "Kim"
      }
     ],
     "issued": {
      "date-parts": [
       [
        1991
       ]
      ]
     },
     "publisher": "Lund University Press",
     "title": "Refugees in the Cold War. Toward a New International Refugee Regime in the Early Postwar Era",
     "type": "book"
    },
    "3655479/PGU7H2H8": {
     "author": [
      {
       "family": "van Faassen",
       "given": "Marijke"
      },
      {
       "family": "Hoekstra",
       "given": "FG"
      }
     ],
     "issued": {
      "date-parts": [
       [
        2017
       ]
      ]
     },
     "title": "Modelling Society through Migration Management: Exploring the role of (Dutch) experts in 20th century international migration policy.",
     "type": "article-journal"
    },
    "3655479/PL633QM8": {
     "author": [
      {
       "family": "Georgi",
       "given": "Fabian"
      }
     ],
     "container-title": "The politics of international migration management",
     "issued": {
      "date-parts": [
       [
        2010
       ]
      ]
     },
     "page": "45–72",
     "publisher": "Springer",
     "title": "For the benefit of some: The International Organization for Migration and its global migration management",
     "type": "chapter"
    },
    "3655479/QGLAUNK7": {
     "author": [
      {
       "family": "van Faassen",
       "given": "Marijke"
      }
     ],
     "issued": {
      "date-parts": [
       [
        2017
       ]
      ]
     },
     "title": "The whereabouts of Migrants: A comparison of Dutch migrant registration systems",
     "type": "article-journal"
    },
    "3655479/QL6MHJ3H": {
     "author": [
      {
       "family": "Alcock",
       "given": "Antony Evelyn"
      }
     ],
     "issued": {
      "date-parts": [
       [
        1971
       ]
      ]
     },
     "publisher": "Springer",
     "title": "History of the International Labour Organisation",
     "type": "book"
    },
    "3655479/QMQKWK6U": {
     "DOI": "10.1111/j.1468-2435.1964.tb00416.x",
     "URL": "https://onlinelibrary.wiley.com/doi/10.1111/j.1468-2435.1964.tb00416.x",
     "accessed": {
      "date-parts": [
       [
        2022,
        3,
        4
       ]
      ]
     },
     "container-title": "International Migration",
     "issue": "2",
     "issued": {
      "date-parts": [
       [
        "1964"
       ]
      ]
     },
     "language": "en",
     "page": "95-95",
     "title": "Editorial",
     "type": "article-journal",
     "volume": "2"
    },
    "3655479/RD3NVU4A": {
     "author": [
      {
       "family": "Fischer",
       "given": "Frank"
      }
     ],
     "container-title": "The argumentative turn in policy analysis and planning",
     "event-place": "Durham, North Carolina",
     "issued": {
      "date-parts": [
       [
        1993
       ]
      ]
     },
     "page": "21-42",
     "publisher": "Duke University Press",
     "publisher-place": "Durham, North Carolina",
     "title": "Policy discourse and the politics of Washington think tanks",
     "type": "chapter"
    },
    "3655479/SU5JFDPW": {
     "DOI": "10.1111/j.1468-2435.1968.tb01049.x",
     "URL": "https://onlinelibrary.wiley.com/doi/10.1111/j.1468-2435.1968.tb01049.x",
     "accessed": {
      "date-parts": [
       [
        2022,
        3,
        4
       ]
      ]
     },
     "container-title": "International Migration",
     "issue": "1-2",
     "issued": {
      "date-parts": [
       [
        1968,
        1,
        4
       ]
      ]
     },
     "language": "en",
     "page": "33-38",
     "title": "Migration of Netherlands Engineers, Physicians and Scientists",
     "type": "article-journal",
     "volume": "6"
    },
    "3655479/UHF3TATW": {
     "author": [
      {
       "family": "Raphael",
       "given": "Lutz"
      }
     ],
     "container-title": "Engineering Society",
     "issued": {
      "date-parts": [
       [
        2012
       ]
      ]
     },
     "note": "Publisher: Springer",
     "page": "41–56",
     "title": "Embedding the Human and Social Sciences in Western Societies, 1880–1980: Reflections on Trends and Methods of Current Research",
     "type": "article-journal"
    },
    "3655479/W5TM5GI3": {
     "ISBN": "978-1-137-28450-1",
     "abstract": "Explaining crime by reference to abnormalities of the brain is just one example of how the human and social sciences have influenced the approach to social problems in Western societies since 1880. Focusing on applications such as penal policy, therapy, and marketing, this volume examines how these sciences have become embedded in society.",
     "author": [
      {
       "family": "Brückweh",
       "given": "Kerstin"
      },
      {
       "family": "Wetzell",
       "given": "Richard F."
      }
     ],
     "issued": {
      "date-parts": [
       [
        2012,
        10,
        9
       ]
      ]
     },
     "language": "en",
     "note": "Google-Books-ID: CEP4X4Ib32QC",
     "number-of-pages": "328",
     "publisher": "Springer",
     "shortTitle": "Engineering Society",
     "title": "Engineering Society: The Role of the Human and Social Sciences in Modern Societies, 1880-1980",
     "type": "book"
    },
    "3655479/W6F88F74": {
     "author": [
      {
       "family": "Fischer",
       "given": "Frank"
      },
      {
       "family": "Forester",
       "given": "John"
      }
     ],
     "issued": {
      "date-parts": [
       [
        1993
       ]
      ]
     },
     "publisher": "Duke University Press Durham, NC",
     "title": "The argumentative turn in policy analysis and planning",
     "type": "book"
    },
    "3655479/X56S34DQ": {
     "author": [
      {
       "family": "Perruchoud",
       "given": "Richard"
      }
     ],
     "container-title": "Annuaire français de droit international",
     "issue": "1",
     "issued": {
      "date-parts": [
       [
        1987
       ]
      ]
     },
     "note": "Publisher: Persée-Portail des revues scientifiques en SHS",
     "page": "513–539",
     "title": "L'Organisation internationale pour les Migrations",
     "type": "article-journal",
     "volume": "33"
    },
    "3655479/YNB8MWYT": {
     "author": [
      {
       "family": "Fleay",
       "given": "Caroline"
      },
      {
       "family": "Hoffman",
       "given": "Sue"
      }
     ],
     "container-title": "Refugee Survey Quarterly",
     "issue": "2",
     "issued": {
      "date-parts": [
       [
        2014
       ]
      ]
     },
     "note": "Publisher: Oxford University Press",
     "page": "1–19",
     "title": "Despair as a governing strategy: Australia and the offshore processing of asylum-seekers on Nauru",
     "type": "article-journal",
     "volume": "33"
    },
    "3655479/YX3ERH3B": {
     "author": [
      {
       "family": "Archer",
       "given": "Dawn"
      },
      {
       "family": "Wilson",
       "given": "Andrew"
      },
      {
       "family": "Rayson",
       "given": "Paul"
      }
     ],
     "container-title": "Benedict project report",
     "issued": {
      "date-parts": [
       [
        2002
       ]
      ]
     },
     "title": "Introduction to the USAS category system",
     "type": "article-journal"
    },
    "3655479/ZNURTIHE": {
     "DOI": "10.1111/j.1468-2435.1968.tb01057.x",
     "URL": "https://onlinelibrary.wiley.com/doi/10.1111/j.1468-2435.1968.tb01057.x",
     "accessed": {
      "date-parts": [
       [
        2022,
        3,
        4
       ]
      ]
     },
     "container-title": "International Migration",
     "issue": "3",
     "issued": {
      "date-parts": [
       [
        "1968"
       ]
      ]
     },
     "language": "en",
     "page": "112-128",
     "title": "University and Science across the World",
     "type": "article-journal",
     "volume": "6"
    },
    "undefined": {
     "author": [
      {
       "family": "Geiger",
       "given": "Martin"
      },
      {
       "family": "Koch",
       "given": "Martin"
      }
     ],
     "container-title": "Journal of International Organization Studies",
     "issue": "1",
     "issued": {
      "date-parts": [
       [
        2018
       ]
      ]
     },
     "page": "25–44",
     "title": "World Organizations in Migration Politics: The International Organization for Migration",
     "type": "article-journal",
     "volume": "9"
    }
   }
  },
  "kernelspec": {
   "display_name": "Python 3 (ipykernel)",
   "language": "python",
   "name": "python3"
  },
  "language_info": {
   "codemirror_mode": {
    "name": "ipython",
    "version": 3
   },
   "file_extension": ".py",
   "mimetype": "text/x-python",
   "name": "python",
   "nbconvert_exporter": "python",
   "pygments_lexer": "ipython3",
   "version": "3.9.7"
  },
  "toc": {
   "base_numbering": 1,
   "nav_menu": {
    "height": "271px",
    "width": "662px"
   },
   "number_sections": true,
   "sideBar": true,
   "skip_h1_title": false,
   "title_cell": "Table of Contents",
   "title_sidebar": "Contents",
   "toc_cell": false,
   "toc_position": {},
   "toc_section_display": true,
   "toc_window_display": true
  }
 },
 "nbformat": 4,
 "nbformat_minor": 4
}
