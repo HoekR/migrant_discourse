{
 "cells": [
  {
   "cell_type": "markdown",
   "metadata": {},
   "source": [
    "# Proposed Network Construction for Migrant Discourse Coalition "
   ]
  },
  {
   "cell_type": "markdown",
   "metadata": {},
   "source": [
    "## Assumptions"
   ]
  },
  {
   "cell_type": "markdown",
   "metadata": {},
   "source": [
    "We assume there is a discourse coalition of social scientists and public officials from the 1950s through the 1980s. Marijke put the assumptions as follows:\n",
    "\n",
    "**Assumption:** REMP is an informal association of social scientists that is must closer to political policy making (both national and international) than was previously known from the literature, making it a informal technocratic association. The issue at stake is how transparant this kind of technocratic associations are from a democratic checking point of view. \n",
    "\n",
    "**Landmark years:**\n",
    "\n",
    "- 1952 formal foundation of REMP (Beyer / sociologists like Hofstee); sociologists have an important influence on Dutch emigration from the moment of appointment of Haveman (nov.1950); it is integrated into the work of the _Commissariaat voor de Emigratie_ by way of _Studies over NL emigratie_ (excel)\n",
    "\n",
    "- 1958-1962 publication of the most important Dutch emigration studies (supporting policies)\n",
    "\n",
    "- 1961-1967 Haveman director-general of ICEM (with the help of USA en Australie). In this period there is a shift in the political debate from emigration as a result of 'surplus labour from Europe' and 'overpopulation Europa' to 'development aid and Latijns Amerika. In NL a ministry of Development Cooperation is established that the Farming Lobby once again uses to finance emigration by farmers from their support group (now known as knowledge migration). NL  closely follows USA policies in this respect and Haveman is partially responsible for the execution. Attention shifts to Latin America in ICEM, inspired by Haveman (= knowledge based on archival research) "
   ]
  },
  {
   "cell_type": "markdown",
   "metadata": {},
   "source": [
    "## Network research questions\n",
    "\n",
    "In terms of network reserch:\n",
    "\n",
    "1. did REMP functioned as a nexus between public officials and social scientists in the 1950s\n",
    "2. was this carried over and elaborated in ICEM in the 1960s and beyond\n",
    "3. at what time did the connection cease or transform and was there a relation with the change of ICEM into IOM"
   ]
  },
  {
   "cell_type": "markdown",
   "metadata": {},
   "source": [
    "### Data sets\n",
    "\n",
    "We have the following data sets:\n",
    "\n",
    "1. REMP Board membership lists from 1952, 1954 and 1969 and a supplement from 1961.\n",
    "    - this allows us to establish who were active in REMP even if they did not publish\n",
    "2. authors, editors, preface writers and funders from the __Studies over NL emigratie__\n",
    "    * Studies in Social Life (1953-1974, only migration studies)\n",
    "    * REMP Bulletins Supplements (1954-1984)\n",
    "    - these allow us to establish the connection between the public administrators and the scientists (but all in equal measure?)\n",
    "3. authors from the REMP bulletin (1952-1962). REMP bulletin was edited by Günther Beijer from 1952. It started out as an informal newsletter but grew into a more serious publication platform for social scientists. \n",
    "    - editorialship of Beijer established a network tie with the authors of REMP bulletin\n",
    "4. in 1961 REMP Bulletin merged with _Migration/Migración_ into _Internation Migration_. IM was the official journal of the ICEM, later IOM. This is (increasingly?) clear from the (multilingual), officially anonymous editorials that have a clear policy mark.\n",
    "5. ICEM and IOM directors and deputy-directors\n",
    "\n"
   ]
  },
  {
   "cell_type": "markdown",
   "metadata": {},
   "source": [
    "The data sets establish the following partial networks:\n",
    "    \n",
    "1. REMP board\n",
    "2. REMP Studies discourse coalition\n",
    "3. Beijer-REMP bulletin authors\n",
    "4. Association between editors authors etc of Studies series (do they all have this?)\n",
    "4. International Migration authors: \n",
    "    - overlap with REMP bulletin authors\n",
    "    - overlap with REMP administrators (probably small)\n",
    "    -overlap with\n",
    "5. Overlap in authors between IM, IMR, book series\n",
    "6. Overlap between administrators between NL foreign affairs, ICEM, IOM\n",
    "7. Overlap between administrators and board members of REMP, IM\n",
    "\n",
    "additional questions:\n",
    "\n",
    "- were there authors who were also active as public administrators"
   ]
  },
  {
   "cell_type": "code",
   "execution_count": null,
   "metadata": {},
   "outputs": [],
   "source": []
  }
 ],
 "metadata": {
  "kernelspec": {
   "display_name": "Python 3",
   "language": "python",
   "name": "python3"
  },
  "language_info": {
   "codemirror_mode": {
    "name": "ipython",
    "version": 3
   },
   "file_extension": ".py",
   "mimetype": "text/x-python",
   "name": "python",
   "nbconvert_exporter": "python",
   "pygments_lexer": "ipython3",
   "version": "3.7.2"
  },
  "toc": {
   "base_numbering": 1,
   "nav_menu": {},
   "number_sections": true,
   "sideBar": true,
   "skip_h1_title": false,
   "title_cell": "Table of Contents",
   "title_sidebar": "Contents",
   "toc_cell": false,
   "toc_position": {},
   "toc_section_display": true,
   "toc_window_display": false
  }
 },
 "nbformat": 4,
 "nbformat_minor": 4
}
