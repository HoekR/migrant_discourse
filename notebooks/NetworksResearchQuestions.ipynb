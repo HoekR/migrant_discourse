{
 "cells": [
  {
   "cell_type": "markdown",
   "metadata": {},
   "source": [
    "# Proposed Network Construction for Migrant Discourse Coalition "
   ]
  },
  {
   "cell_type": "markdown",
   "metadata": {},
   "source": [
    "## Assumptions"
   ]
  },
  {
   "cell_type": "markdown",
   "metadata": {},
   "source": [
    "We assume there is a discourse coalition of social scientists and public officials from the 1950s through the 1980s. Marijke put the assumptions as follows:\n",
    "\n",
    "**Assumption:** REMP is an informal association of social scientists that is must closer to political policy making (both national and international) than was previously known from the literature. This would make it an informal technocratic association, because of the association and the exchange of knowledge between public administrators and scientists. On the one hand this makes administration (in this case migration management) supposedly more rational because it is based on research and scientific insights. But at the same time, this kind of technocratic associations\n",
    "\n",
    "- make policy making less transparant and less subject to democratic checking point of view and\n",
    "- science may be used as a justification of politically motivated motives; assuming that the research itself still conforms to scientific standards, it is relevant to compare the choice of subjects with the political agenda.\n",
    "\n",
    "Researching the discourse coalition consists of two parts. We first have to make it probable that there were networks that together can be considered to form a discourse coalition because of the involvement of both researchers and admistrators. After the existence of this association is made likely, we can investigate what research content was produced in the networks. Both REMP and ICEM published journals and other research. To see if and how it was influenced by the REMP/ICEM discourse coalition, we will compare it with contemporary research about migration from a journal that was not associated with either REMP or ICEM. (XXX should we translate this to steps??)\n",
    "\n",
    "\n",
    "**from concept to research strategy**\n",
    "A discourse coalition is a concept, an analytical construct that is used to characterize a perceived association between researchers and public administrators based on discursive characteristics. It may to be methodologically constructed from available evidence in two ways:\n",
    "\n",
    "- by close reading archival materials in which the association betweeen public administrators and researchers is mentioned, either implicitly or explicitly. \n",
    "- by measuring the association between researchers and public administrators in one or more networks. In this case, we are talking about several networks as migration management was a long running an increasingly international issue that had to face challenges that changed over the years.\n",
    "\n",
    "Our research materials consist of both types of materials. The archival materials that lend themselves for close reading mainly stem from the early 1950s (XXX make explicit: archive Beyer, REMP, sociale zaken?). ICEM and its successor IOM are international organizations, of which the archives are essentially closed for researchers. As it is, from the REMP archives it is clear that both REMP and ICEM originated at the same time in the early 1950s and in their inception involved many of the same people, even if they were separate organizations.\n",
    "\n",
    "We have different long-running datasets that make it possible to establish the overlap between the different organizations involved. Because we are talking about a research-adminstrative coalition the datasets are from research and from the administration, that is the relevant boards and governments involved with REMP and ICEM. As researchers publish, covering scientific output is more fine-grained than administrative positions.\n",
    "\n",
    "\n",
    "**Landmark years:**\n",
    "\n",
    "- 1952 formal foundation of REMP (Beyer / sociologists like Hofstee); sociologists have an important influence on Dutch emigration from the moment of appointment of Haveman (nov.1950); it is integrated into the work of the _Commissariaat voor de Emigratie_ by way of _Studies over NL emigratie_ (excel)\n",
    "\n",
    "- 1958-1962 publication of the most important Dutch emigration studies (supporting policies)\n",
    "\n",
    "- 1961-1967 Haveman director-general of ICEM (with the help of USA en Australie). In this period there is a shift in the political debate from emigration as a result of 'surplus labour from Europe' and 'overpopulation Europa' to 'development aid and Latijns Amerika. In NL a ministry of Development Cooperation is established that the Farming Lobby once again uses to finance emigration by farmers from their support group (now known as knowledge migration). NL  closely follows USA policies in this respect and Haveman is partially responsible for the execution. Attention shifts to Latin America in ICEM, inspired by Haveman (= knowledge based on archival research) \n",
    "\n",
    "- ICEM was founded in 1952, the successor to PICMME and the predecessor of ICM (1980) and finally IOM (1989)\n",
    "> matched by rapid expansion from a relatively small agency into one with an annual operating budget of an estimated $1.5 billion and more than 10,000 staff working in over 150 countries worldwide.\n",
    "\n",
    "[https://www.iom.int/iom-history], \n",
    "also see schema in Van Faassen, _polder en emigratie_, 126 \n",
    "\n"
   ]
  },
  {
   "cell_type": "markdown",
   "metadata": {},
   "source": [
    "## Network research questions\n",
    "\n",
    "In terms of network research:\n",
    "\n",
    "1. did REMP function as a nexus between public officials and social scientists in the 1950s, and how did this function\n",
    "2. ICEM was founded in approximately the same time as REMP. They appear to have gotten closer ties from 1961, when the _REMP bulletin_ became part of the _International Migration_ journal\n",
    "2. was the REMP science-officials nexus carried over and elaborated in ICEM in the 1960s and beyond\n",
    "3. at what time did the connection cease or transform and was there a relation with the change of ICEM into IOM"
   ]
  },
  {
   "cell_type": "markdown",
   "metadata": {},
   "source": [
    "### Data sets\n",
    "\n",
    "We have the following data sets:\n",
    "\n",
    "1. REMP Board membership lists from 1952, 1954 and 1969 and a supplement from 1961.\n",
    "    - this allows us to establish who were active in REMP even if they did not publish\n",
    "2. authors, editors, preface writers and funders from the __Studies over NL emigratie__\n",
    "    * Studies in Social Life (1953-1974, only migration studies)\n",
    "    * REMP Bulletins Supplements (1954-1984)\n",
    "    - these allow us to establish the connection between the public administrators and the scientists (but all in equal measure?)\n",
    "3. authors from the REMP bulletin (1952-1962). REMP bulletin was edited by Günther Beijer from 1952. It started out as an informal newsletter but grew into a more serious publication platform for social scientists. \n",
    "    - editorialship of Beijer established a network tie with the authors of REMP bulletin\n",
    "4. in 1961 REMP Bulletin merged with _Migration/Migración_ into _Internation Migration_. IM was the official journal of the ICEM, later IOM. This is (increasingly?) clear from the (multilingual), officially anonymous editorials that have a clear policy mark.\n",
    "5. ICEM and IOM directors and deputy-directors\n",
    "\n"
   ]
  },
  {
   "cell_type": "markdown",
   "metadata": {},
   "source": [
    "### Partial Networks\n",
    "\n",
    "We are looking for the discourse coalition. Of course, the discourse coalition evolved over time as persons were associated with each other and how. \n",
    "The data sets establish the following partial networks:\n",
    "    \n",
    "1. REMP board\n",
    "2. REMP Studies discourse coalition\n",
    "3. Beijer-REMP bulletin authors\n",
    "4. Association between editors authors etc of Studies series (do they all have this?)\n",
    "4. International Migration authors: \n",
    "    - overlap with REMP bulletin authors\n",
    "    - overlap with REMP administrators (probably small)\n",
    "    - overlap with ...\n",
    "5. Overlap in authors between IM, IMR, book series\n",
    "6. Overlap between administrators between NL foreign affairs, ICEM, IOM\n",
    "7. Overlap between administrators and board members of REMP, IM\n",
    "\n",
    "additional questions:\n",
    "\n",
    "- were there authors who were also active as public administrators"
   ]
  },
  {
   "cell_type": "markdown",
   "metadata": {},
   "source": [
    "(XXXTODO how does the network analysis connect to the discourse analysis - also see that notebook)"
   ]
  },
  {
   "cell_type": "markdown",
   "metadata": {},
   "source": [
    "# Elaboration"
   ]
  },
  {
   "cell_type": "markdown",
   "metadata": {},
   "source": [
    "The different datasets all contain information about parts of the technocratic network of scientists and administrators in which an evolving discourse about migration and migration management was going on. However each dataset only has data about part of the network and it contains different data with overlaps in people but only partially in time. Together the sets allow for an analysis of the evolving network, that started out in the REMP and the ICEM precursor PICMME, and later was made (even) more international in the ICEM and its successors. "
   ]
  },
  {
   "cell_type": "markdown",
   "metadata": {},
   "source": [
    "### Analysis\n",
    "\n",
    "As a consequence, the analysis consists of several parts. \n",
    "   - We first establish the existence of a network and a discourse coalition in REMP. This is a network with different roles that we can visualize as a node-edges network, that visualizes the types of relations in the network.\n",
    "   - Then we establish which REMP members we also active in the ICEM network and which other people played an important role there. As the different datasets contain only a part of the network, they either contain information about the academic or the governance activities. It is not useful to visualize this as a node-edge diagram as many of the relations are not in the dataset. However, the main issue at stake is who was part of which network. Therefore we visualize the network overlap."
   ]
  },
  {
   "cell_type": "markdown",
   "metadata": {},
   "source": [
    "### REMP discourse coalition\n",
    "\n",
    "The REMP dataset makes it possible to establish the relations between researchers and public administrators most detailed as it includes indications of different roles in the publication process. The roles are:\n",
    "\n",
    "- _article authors_: authors who wrote contributions \n",
    "- _preface authors_: authors of the preface to a study\n",
    "- _introduction authors_: authors of the intro\n",
    "- _series editors_: the reseachers coordinating the publications\n",
    "- _executor_: (publishing organization?)\n",
    "- _funder_: organization that funded the research or publication\n",
    "\n",
    "The different roles make it possible to establish who contributed to research in different capacities, in this way forging a discourse coalition."
   ]
  },
  {
   "cell_type": "markdown",
   "metadata": {},
   "source": [
    "From the network point of view, those included in most networks are those most central in the discourse coalition..."
   ]
  }
 ],
 "metadata": {
  "kernelspec": {
   "display_name": "Python 3",
   "language": "python",
   "name": "python3"
  },
  "language_info": {
   "codemirror_mode": {
    "name": "ipython",
    "version": 3
   },
   "file_extension": ".py",
   "mimetype": "text/x-python",
   "name": "python",
   "nbconvert_exporter": "python",
   "pygments_lexer": "ipython3",
   "version": "3.7.2"
  },
  "toc": {
   "base_numbering": 1,
   "nav_menu": {},
   "number_sections": true,
   "sideBar": true,
   "skip_h1_title": false,
   "title_cell": "Table of Contents",
   "title_sidebar": "Contents",
   "toc_cell": false,
   "toc_position": {},
   "toc_section_display": true,
   "toc_window_display": false
  }
 },
 "nbformat": 4,
 "nbformat_minor": 4
}
