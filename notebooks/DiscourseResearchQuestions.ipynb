{
 "cells": [
  {
   "cell_type": "markdown",
   "metadata": {},
   "source": [
    "# Discourse Research Questions"
   ]
  },
  {
   "cell_type": "markdown",
   "metadata": {},
   "source": [
    "As argued in the [network research questions](.NetworksResearchQuestions.pynb), identifying a discourse coalition consists of two parts. The first is establishing the network and the links between public administrators and researchers, which we treated in the network notebooks, and the second is identifying the discourse they engaged in. \n",
    "As exposed in the network analysis, in the case of migration managment there was network that evolved for fifty years, at least. While the discourse was about the managment of migration, this changed with the world and migration. Migration itself is a very broad phenomenon, so in the discourse we want to investigate two things:\n",
    "\n",
    "1. did the discourse change with the priorities in the migration management organizations, that is with REMP and especially with ICEM and its successors (ICM, IOM)\n",
    "2. can we establish direct relation between policy and the discourse."
   ]
  },
  {
   "cell_type": "markdown",
   "metadata": {},
   "source": [
    "## Research Questions - discourse\n",
    "\n",
    "The two separate questions have to be researched in different ways. Research question 1 refers to the content of the discourse and may be broken down in some more specific questions:\n",
    "\n",
    "* are there global consistencies in the use of terminology and subjects of the IM journal\n",
    "* what are the most important topics\n",
    "* do the topics shift over time and can we attach a periodization to the shifts. \n",
    "    - Does this periodization coincide with periodizations in institutional priorities identified elsewhere or do they either predecede or follow them?\n",
    "* are there specific regions featured in the research\n",
    "    - does this change over time and if so, is this related to/coincide with shifts in topics\n",
    "\n",
    "From the _network perspective_ we can add the following questions\n",
    "* who are the authors of the articles in IM\n",
    "* are specific authors connected to specific topics or regions or both \n",
    "    - are there subgroups of authors concerned with a specific topic. Do these groups change in composition over time\n",
    "    - can periodizations and changes in topics/regions be related to specific authors or groups of authors\n",
    "    "
   ]
  },
  {
   "cell_type": "markdown",
   "metadata": {},
   "source": [
    "## Research Questions - research-policy connections\n",
    "\n",
    "* have we been able to establish a connection between the authors and public administrators in our network analysis and does any changes in content reflect these connections\n",
    "* are there articles that reflect \n",
    "* are there any specific articles related to policy issues and how does this manifest itself\n",
    "* does the periodizations support conclusions about agenda setting on either policy or research side"
   ]
  },
  {
   "cell_type": "markdown",
   "metadata": {},
   "source": [
    "## Operationalization\n",
    "\n",
    "__(this has to be integrated with the text from other notebooks, but I wanted to concetrate on the translation of the research questions here first. So the description may be a bit off here and there)__\n",
    "\n",
    "We described the data set at our disposal in the [network research questions notebook](.NetworksResearchQuestions.pynb) and the steps we took to integrate and prepare the datasets for analysis in [another](.another.ipynb). The main dataset available to us is a composite dataset of the _REMP bulletin_, the studies from the REMP research series and the title list of the _International Migration_ journal. The journal has existed from 1961 (XXX check) until the present day and was supported by ICEM (later IOM) from the start (XXX citation??). We have a complete list of the article titles. The title words are the main source of content analysis for the trends in the discourse.\n",
    "\n",
    "__(methodology here??)__\n",
    "\n"
   ]
  },
  {
   "cell_type": "code",
   "execution_count": null,
   "metadata": {},
   "outputs": [],
   "source": []
  }
 ],
 "metadata": {
  "kernelspec": {
   "display_name": "Python 3",
   "language": "python",
   "name": "python3"
  },
  "language_info": {
   "codemirror_mode": {
    "name": "ipython",
    "version": 3
   },
   "file_extension": ".py",
   "mimetype": "text/x-python",
   "name": "python",
   "nbconvert_exporter": "python",
   "pygments_lexer": "ipython3",
   "version": "3.7.2"
  }
 },
 "nbformat": 4,
 "nbformat_minor": 4
}
